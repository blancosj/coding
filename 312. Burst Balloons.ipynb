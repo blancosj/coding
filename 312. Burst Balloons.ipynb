{
 "cells": [
  {
   "cell_type": "markdown",
   "metadata": {},
   "source": [
    "## <a href='https://leetcode.com/problems/burst-balloons/'>312. Burst Balloons</a>\n",
    "\n",
    "Given n balloons, indexed from 0 to n-1. Each balloon is painted with a number on it represented by array nums. You are asked to burst all the balloons. If the you burst balloon i you will get ```nums[left] * nums[i] * nums[right]``` coins. Here left and right are adjacent indices of i. After the burst, the left and right then becomes adjacent.\n",
    "\n",
    "Find the maximum coins you can collect by bursting the balloons wisely.\n",
    "\n",
    "__Note:__\n",
    "\n",
    "* You may imagine ```nums[-1] = nums[n] = 1```. They are not real therefore you can not burst them.\n",
    "* ```0 ≤ n ≤ 500, 0 ≤ nums[i] ≤ 100```\n",
    "\n",
    "__Example:__\n",
    "```\n",
    "Input: [3,1,5,8]\n",
    "Output: 167 \n",
    "Explanation: nums = [3,1,5,8] --> [3,5,8] -->   [3,8]   -->  [8]  --> []\n",
    "             coins =  3*1*5      +  3*5*8    +  1*3*8      + 1*8*1   = 167\n",
    "```"
   ]
  },
  {
   "cell_type": "code",
   "execution_count": 11,
   "metadata": {},
   "outputs": [],
   "source": [
    "public class SolutionRec {\n",
    "    public int maxCoins(int[] nums) {\n",
    "        ArrayList<Integer> listNums = new ArrayList<>();\n",
    "        listNums.add(1);\n",
    "        for (int num : nums) listNums.add(num);\n",
    "        listNums.add(1);\n",
    "        return helper(listNums, 0);\n",
    "    }\n",
    "    private int helper(ArrayList<Integer> listNums, int acc) {\n",
    "        if (listNums.size() == 2) return acc;\n",
    "        int result = 0;\n",
    "        for (int i = 1; i < listNums.size() - 1; ++i) {\n",
    "            int left = listNums.get(i - 1);\n",
    "            int curr = listNums.get(i);\n",
    "            int right = listNums.get(i + 1);\n",
    "            listNums.remove(i);            \n",
    "            result = Math.max(helper(listNums, acc + (left * curr * right)), result);\n",
    "            listNums.add(i, curr);\n",
    "        }\n",
    "        return result;\n",
    "    }\n",
    "}"
   ]
  },
  {
   "cell_type": "code",
   "execution_count": 12,
   "metadata": {},
   "outputs": [
    {
     "data": {
      "text/plain": [
       "5"
      ]
     },
     "execution_count": 12,
     "metadata": {},
     "output_type": "execute_result"
    }
   ],
   "source": [
    "new SolutionRec().maxCoins(new int[] {5});"
   ]
  },
  {
   "cell_type": "code",
   "execution_count": 31,
   "metadata": {},
   "outputs": [
    {
     "data": {
      "text/plain": [
       "167"
      ]
     },
     "execution_count": 31,
     "metadata": {},
     "output_type": "execute_result"
    }
   ],
   "source": [
    "new SolutionRec().maxCoins(new int[] {3,1,5,8});"
   ]
  },
  {
   "cell_type": "code",
   "execution_count": 32,
   "metadata": {},
   "outputs": [],
   "source": [
    "// 1 3 1 5 8 1\n",
    "// 1 5 1\n",
    "public class SolutionDp {\n",
    "    private int dp[][], nums[];\n",
    "    public int maxCoins(int[] nums) {\n",
    "        int n = nums.length + 2;\n",
    "        this.nums = new int[n];\n",
    "        this.nums[0] = this.nums[n - 1] = 1;\n",
    "        for (int i = 1; i < n - 1; ++i) this.nums[i] = nums[i - 1];\n",
    "        dp = new int[n][n];\n",
    "        return helper(0, n - 1);\n",
    "    }\n",
    "    private int helper(int left, int right) {\n",
    "        if (left + 1 == right) return 0;\n",
    "        if (dp[left][right] > 0) return dp[left][right];\n",
    "        int result = 0;\n",
    "        for (int i = left + 1; i < right; ++i) {\n",
    "            result = Math.max(\n",
    "                helper(left, i) + (nums[left] * nums[i] * nums[right]) + helper(i, right) \n",
    "                , result \n",
    "            );\n",
    "        }\n",
    "        return dp[left][right] = result;\n",
    "    }\n",
    "}"
   ]
  },
  {
   "cell_type": "code",
   "execution_count": 33,
   "metadata": {},
   "outputs": [
    {
     "data": {
      "text/plain": [
       "10"
      ]
     },
     "execution_count": 33,
     "metadata": {},
     "output_type": "execute_result"
    }
   ],
   "source": [
    "new SolutionDp().maxCoins(new int[] {5,1});"
   ]
  },
  {
   "cell_type": "code",
   "execution_count": 34,
   "metadata": {},
   "outputs": [
    {
     "data": {
      "text/plain": [
       "167"
      ]
     },
     "execution_count": 34,
     "metadata": {},
     "output_type": "execute_result"
    }
   ],
   "source": [
    "new SolutionDp().maxCoins(new int[] {3,1,5,8});"
   ]
  },
  {
   "cell_type": "code",
   "execution_count": null,
   "metadata": {},
   "outputs": [],
   "source": []
  },
  {
   "cell_type": "code",
   "execution_count": null,
   "metadata": {},
   "outputs": [],
   "source": []
  },
  {
   "cell_type": "code",
   "execution_count": null,
   "metadata": {},
   "outputs": [],
   "source": []
  },
  {
   "cell_type": "code",
   "execution_count": null,
   "metadata": {},
   "outputs": [],
   "source": []
  }
 ],
 "metadata": {
  "kernelspec": {
   "display_name": "Java",
   "language": "java",
   "name": "java"
  },
  "language_info": {
   "codemirror_mode": "java",
   "file_extension": ".jshell",
   "mimetype": "text/x-java-source",
   "name": "Java",
   "pygments_lexer": "java",
   "version": "11.0.3+7"
  }
 },
 "nbformat": 4,
 "nbformat_minor": 2
}
