{
 "cells": [
  {
   "cell_type": "markdown",
   "metadata": {},
   "source": [
    "Suppose an array sorted in ascending order is rotated at some pivot unknown to you beforehand.\n",
    "\n",
    "(i.e.,  [0,1,2,4,5,6,7] might become  [4,5,6,7,0,1,2]).\n",
    "\n",
    "Find the minimum element.\n",
    "\n",
    "The array may contain duplicates.\n",
    "\n",
    "__Example 1:__\n",
    "```\n",
    "Input: [1,3,5]\n",
    "Output: 1\n",
    "```\n",
    "__Example 2:__\n",
    "```\n",
    "Input: [2,2,2,0,1]\n",
    "Output: 0\n",
    "```\n",
    "__Note:__\n",
    "\n",
    "* This is a follow up problem to Find Minimum in Rotated Sorted Array.\n",
    "* Would allow duplicates affect the run-time complexity? How and why?\n"
   ]
  },
  {
   "cell_type": "code",
   "execution_count": 3,
   "metadata": {},
   "outputs": [],
   "source": [
    "public class Solution {\n",
    "    public int solve(int[] nums) {\n",
    "        int n = nums.length;\n",
    "        int left = 0, right = n - 1;\n",
    "        while (left < right) {\n",
    "            int mid = left + (right - left) / 2;\n",
    "            if (nums[mid] > nums[right]) {\n",
    "                left = mid + 1;\n",
    "            } else if (nums[mid] < nums[right]) {\n",
    "                right = mid;\n",
    "            } else {\n",
    "                right--;\n",
    "            }\n",
    "        }\n",
    "        return nums[left];\n",
    "    }\n",
    "}"
   ]
  },
  {
   "cell_type": "code",
   "execution_count": 4,
   "metadata": {},
   "outputs": [
    {
     "data": {
      "text/plain": [
       "1"
      ]
     },
     "execution_count": 4,
     "metadata": {},
     "output_type": "execute_result"
    }
   ],
   "source": [
    "new Solution().solve(new int[] {1,3,5});"
   ]
  },
  {
   "cell_type": "code",
   "execution_count": 5,
   "metadata": {},
   "outputs": [
    {
     "data": {
      "text/plain": [
       "0"
      ]
     },
     "execution_count": 5,
     "metadata": {},
     "output_type": "execute_result"
    }
   ],
   "source": [
    "new Solution().solve(new int[] {2,2,2,0,1});"
   ]
  },
  {
   "cell_type": "code",
   "execution_count": null,
   "metadata": {},
   "outputs": [],
   "source": []
  }
 ],
 "metadata": {
  "kernelspec": {
   "display_name": "Java",
   "language": "java",
   "name": "java"
  },
  "language_info": {
   "codemirror_mode": "java",
   "file_extension": ".jshell",
   "mimetype": "text/x-java-source",
   "name": "Java",
   "pygments_lexer": "java",
   "version": "11.0.3+7"
  }
 },
 "nbformat": 4,
 "nbformat_minor": 2
}
