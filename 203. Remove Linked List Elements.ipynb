{
 "cells": [
  {
   "cell_type": "markdown",
   "metadata": {},
   "source": [
    "Remove all elements from a linked list of integers that have value val.\n",
    "\n",
    "__Example:__\n",
    "```\n",
    "Input:  1->2->6->3->4->5->6, val = 6\n",
    "Output: 1->2->3->4->5\n",
    "```"
   ]
  },
  {
   "cell_type": "code",
   "execution_count": 46,
   "metadata": {},
   "outputs": [],
   "source": [
    "public class Solution {\n",
    "    public ListNode solve(ListNode head, int val) {\n",
    "        ListNode result = new ListNode();\n",
    "        result.next = head;\n",
    "        ListNode prev = result;\n",
    "        ListNode cur = head;\n",
    "        while (cur != null) {\n",
    "            if (cur.val == val) {\n",
    "                prev.next = cur.next;\n",
    "            } else {\n",
    "                prev = cur;\n",
    "            }\n",
    "            cur = cur.next;\n",
    "        }\n",
    "        return result.next;\n",
    "    }\n",
    "    public static ListNode deserialize(String data) {\n",
    "        String[] nodes = data.split(\"->\", 0);\n",
    "        System.out.println(Arrays.toString(nodes));\n",
    "        ListNode result = new ListNode();\n",
    "        ListNode cur = result;\n",
    "        for (String node : nodes) {\n",
    "            cur.next = new ListNode(Integer.parseInt(node));\n",
    "            cur = cur.next;\n",
    "        }\n",
    "        return result.next;\n",
    "    }\n",
    "    public static class ListNode {\n",
    "        public int val;\n",
    "        public ListNode next;\n",
    "        public ListNode() {}\n",
    "        public ListNode(int val) {\n",
    "            this.val = val;\n",
    "        }\n",
    "        @Override\n",
    "        public String toString() {\n",
    "            StringBuilder result = new StringBuilder();\n",
    "            ListNode cur = this;\n",
    "            while (cur != null) {\n",
    "                result.append(cur.val).append(\"->\");\n",
    "                cur = cur.next;\n",
    "            }\n",
    "            result.setLength(result.length() - 2);\n",
    "            return result.toString();\n",
    "        }\n",
    "    }\n",
    "}"
   ]
  },
  {
   "cell_type": "code",
   "execution_count": 47,
   "metadata": {},
   "outputs": [
    {
     "name": "stdout",
     "output_type": "stream",
     "text": [
      "[1, 2]\n"
     ]
    },
    {
     "data": {
      "text/plain": [
       "1->2"
      ]
     },
     "execution_count": 47,
     "metadata": {},
     "output_type": "execute_result"
    }
   ],
   "source": [
    "Solution.deserialize(\"1->2\");"
   ]
  },
  {
   "cell_type": "code",
   "execution_count": 49,
   "metadata": {},
   "outputs": [
    {
     "name": "stdout",
     "output_type": "stream",
     "text": [
      "[1, 2, 6, 3, 4, 5, 6]\n"
     ]
    },
    {
     "data": {
      "text/plain": [
       "1->6->3->4->5->6"
      ]
     },
     "execution_count": 49,
     "metadata": {},
     "output_type": "execute_result"
    }
   ],
   "source": [
    "new Solution().solve(Solution.deserialize(\"1->2->6->3->4->5->6\"), 2);"
   ]
  },
  {
   "cell_type": "code",
   "execution_count": 50,
   "metadata": {},
   "outputs": [
    {
     "name": "stdout",
     "output_type": "stream",
     "text": [
      "[1, 2, 6, 3, 4, 5, 6]\n"
     ]
    },
    {
     "data": {
      "text/plain": [
       "1->2->3->4->5"
      ]
     },
     "execution_count": 50,
     "metadata": {},
     "output_type": "execute_result"
    }
   ],
   "source": [
    "new Solution().solve(Solution.deserialize(\"1->2->6->3->4->5->6\"), 6);"
   ]
  },
  {
   "cell_type": "code",
   "execution_count": null,
   "metadata": {},
   "outputs": [],
   "source": []
  }
 ],
 "metadata": {
  "kernelspec": {
   "display_name": "Java",
   "language": "java",
   "name": "java"
  },
  "language_info": {
   "codemirror_mode": "java",
   "file_extension": ".jshell",
   "mimetype": "text/x-java-source",
   "name": "Java",
   "pygments_lexer": "java",
   "version": "11.0.3+7"
  }
 },
 "nbformat": 4,
 "nbformat_minor": 2
}
