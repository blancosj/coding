{
 "cells": [
  {
   "cell_type": "markdown",
   "metadata": {},
   "source": [
    "All DNA is composed of a series of nucleotides abbreviated as A, C, G, and T, for example: \"ACGAATTCCG\". When studying DNA, it is sometimes useful to identify repeated sequences within the DNA.\n",
    "\n",
    "Write a function to find all the 10-letter-long sequences (substrings) that occur more than once in a DNA molecule.\n",
    "\n",
    "__Example:__\n",
    "```\n",
    "Input: s = \"AAAAACCCCCAAAAACCCCCCAAAAAGGGTTT\"\n",
    "Output: [\"AAAAACCCCC\", \"CCCCCAAAAA\"]\n",
    "```"
   ]
  },
  {
   "cell_type": "code",
   "execution_count": 4,
   "metadata": {},
   "outputs": [],
   "source": [
    "// hashmap solution O(N)\n",
    "public class Solution {\n",
    "    public List<String> findRepeatedDnaSequences(String s) {\n",
    "        int n = s.length();\n",
    "        Set<String> seen = new HashSet<>();\n",
    "        Set<String> answer = new HashSet<>();\n",
    "        seen.add(s.substring(0, 10));\n",
    "        for (int i = 1; i < n - 10 + 1; ++i) {\n",
    "            String t = s.substring(i, i + 10);\n",
    "            if (seen.contains(t)) {\n",
    "                answer.add(t);\n",
    "            }\n",
    "            seen.add(t);\n",
    "        }\n",
    "        return new ArrayList<>(answer);\n",
    "    }\n",
    "}"
   ]
  },
  {
   "cell_type": "code",
   "execution_count": 5,
   "metadata": {},
   "outputs": [
    {
     "data": {
      "text/plain": [
       "[AAAAACCCCC, CCCCCAAAAA]"
      ]
     },
     "execution_count": 5,
     "metadata": {},
     "output_type": "execute_result"
    }
   ],
   "source": [
    "new Solution().findRepeatedDnaSequences(\"AAAAACCCCCAAAAACCCCCCAAAAAGGGTTT\");"
   ]
  },
  {
   "cell_type": "code",
   "execution_count": null,
   "metadata": {},
   "outputs": [],
   "source": [
    "// rolling hash solution O(N)\n",
    "public class Solution {\n",
    "    public List<String> findRepeatedDnaSequences(String s) {\n",
    "        \n",
    "    }\n",
    "}"
   ]
  }
 ],
 "metadata": {
  "kernelspec": {
   "display_name": "Java",
   "language": "java",
   "name": "java"
  },
  "language_info": {
   "codemirror_mode": "java",
   "file_extension": ".jshell",
   "mimetype": "text/x-java-source",
   "name": "Java",
   "pygments_lexer": "java",
   "version": "11.0.3+7"
  }
 },
 "nbformat": 4,
 "nbformat_minor": 2
}
