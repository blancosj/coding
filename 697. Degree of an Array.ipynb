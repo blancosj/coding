{
 "cells": [
  {
   "cell_type": "markdown",
   "metadata": {},
   "source": [
    "Given a non-empty array of non-negative integers nums, the degree of this array is defined as the maximum frequency of any one of its elements.\n",
    "\n",
    "Your task is to find the smallest possible length of a (contiguous) subarray of nums, that has the same degree as nums.\n",
    "\n",
    "__Example 1:__\n",
    "```\n",
    "Input: nums = [1,2,2,3,1]\n",
    "Output: 2\n",
    "Explanation: \n",
    "The input array has a degree of 2 because both elements 1 and 2 appear twice.\n",
    "Of the subarrays that have the same degree:\n",
    "[1, 2, 2, 3, 1], [1, 2, 2, 3], [2, 2, 3, 1], [1, 2, 2], [2, 2, 3], [2, 2]\n",
    "The shortest length is 2. So return 2.\n",
    "```\n",
    "__Example 2:__\n",
    "```\n",
    "Input: nums = [1,2,2,3,1,4,2]\n",
    "Output: 6\n",
    "Explanation: \n",
    "The degree is 3 because the element 2 is repeated 3 times.\n",
    "So [2,2,3,1,4,2] is the shortest subarray, therefore returning 6.\n",
    "``` \n",
    "__Constraints:__\n",
    "\n",
    "* nums.length will be between 1 and 50,000.\n",
    "* nums[i] will be an integer between 0 and 49,999."
   ]
  },
  {
   "cell_type": "code",
   "execution_count": 1,
   "metadata": {},
   "outputs": [],
   "source": [
    "public class Solution {\n",
    "    public int findShortestSubArray(int[] nums) {\n",
    "        int majority_number = -1;\n",
    "        int cur_counter = 0;\n",
    "        int max_value = Integer.MIN_VALUE;\n",
    "        for (int num : nums) max_value = Math.max(num, max_value);\n",
    "        Tuple[] lastSeen = new Tuple[max_value + 1];\n",
    "        int n = nums.length;\n",
    "        for (int i = 0; i < n; ++i) {\n",
    "            int num = nums[i];\n",
    "            if (lastSeen[num] == null) lastSeen[num] = new Tuple(i, i, 0);\n",
    "            lastSeen[num].right = i;\n",
    "            lastSeen[num].count++;\n",
    "        }\n",
    "        Arrays.sort(lastSeen, (x, y) -> {\n",
    "                if (x == null && y == null) return 0;\n",
    "                if (x == null) return 1;\n",
    "                if (y == null) return -1;\n",
    "                return y.count == x.count \n",
    "                    ? x.calcDist() - y.calcDist() \n",
    "                    : y.count - x.count;\n",
    "            });\n",
    "        return lastSeen[0].calcDist();\n",
    "    }\n",
    "    private class Tuple {\n",
    "        private int left, right, count;\n",
    "        private Tuple(int left, int right, int count) {\n",
    "            this.left = left; \n",
    "            this.right = right;\n",
    "            this.count = count;\n",
    "        }\n",
    "        private int calcDist() {\n",
    "            return right - left + 1;\n",
    "        }\n",
    "        @Override\n",
    "        public String toString() {\n",
    "            return String.format(\"(%d,%d=%d)\", left, right, count);\n",
    "        }\n",
    "    }\n",
    "}"
   ]
  },
  {
   "cell_type": "code",
   "execution_count": 2,
   "metadata": {},
   "outputs": [
    {
     "data": {
      "text/plain": [
       "2"
      ]
     },
     "execution_count": 2,
     "metadata": {},
     "output_type": "execute_result"
    }
   ],
   "source": [
    "new Solution().findShortestSubArray(new int[] { 1,2,2,3,1 });"
   ]
  },
  {
   "cell_type": "code",
   "execution_count": 3,
   "metadata": {},
   "outputs": [
    {
     "data": {
      "text/plain": [
       "6"
      ]
     },
     "execution_count": 3,
     "metadata": {},
     "output_type": "execute_result"
    }
   ],
   "source": [
    "new Solution().findShortestSubArray(new int[] { 1,2,2,3,1,4,2 });"
   ]
  },
  {
   "cell_type": "code",
   "execution_count": null,
   "metadata": {},
   "outputs": [],
   "source": []
  }
 ],
 "metadata": {
  "kernelspec": {
   "display_name": "Java",
   "language": "java",
   "name": "java"
  },
  "language_info": {
   "codemirror_mode": "java",
   "file_extension": ".jshell",
   "mimetype": "text/x-java-source",
   "name": "Java",
   "pygments_lexer": "java",
   "version": "11.0.3+7"
  }
 },
 "nbformat": 4,
 "nbformat_minor": 2
}
