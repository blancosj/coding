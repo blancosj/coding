{
 "cells": [
  {
   "cell_type": "code",
   "execution_count": null,
   "metadata": {},
   "outputs": [],
   "source": []
  },
  {
   "cell_type": "markdown",
   "metadata": {},
   "source": [
    "Given a binary tree, write a function to get the maximum width of the given tree. The width of a tree is the maximum width among all levels. The binary tree has the same structure as a full binary tree, but some nodes are null.\n",
    "\n",
    "The width of one level is defined as the length between the end-nodes (the leftmost and right most non-null nodes in the level, where the null nodes between the end-nodes are also counted into the length calculation.\n",
    "\n",
    "Example 1:\n",
    "```\n",
    "Input: \n",
    "\n",
    "           1\n",
    "         /   \\\n",
    "        3     2\n",
    "       / \\     \\  \n",
    "      5   3     9 \n",
    "\n",
    "Output: 4\n",
    "Explanation: The maximum width existing in the third level with the length 4 (5,3,null,9).\n",
    "```\n",
    "Example 2:\n",
    "```\n",
    "Input: \n",
    "\n",
    "          1\n",
    "         /  \n",
    "        3    \n",
    "       / \\       \n",
    "      5   3     \n",
    "\n",
    "Output: 2\n",
    "Explanation: The maximum width existing in the third level with the length 2 (5,3).\n",
    "```\n",
    "Example 3:\n",
    "```\n",
    "Input: \n",
    "\n",
    "          1\n",
    "         / \\\n",
    "        3   2 \n",
    "       /        \n",
    "      5      \n",
    "\n",
    "Output: 2\n",
    "Explanation: The maximum width existing in the second level with the length 2 (3,2).\n",
    "```\n",
    "Example 4:\n",
    "```\n",
    "Input: \n",
    "\n",
    "          1\n",
    "         / \\\n",
    "        3   2\n",
    "       /     \\  \n",
    "      5       9 \n",
    "     /         \\\n",
    "    6           7\n",
    "Output: 8\n",
    "Explanation:The maximum width existing in the fourth level with the length 8 (6,null,null,null,null,null,null,7).\n",
    "```\n",
    "\n",
    "Note: Answer will in the range of 32-bit signed integer."
   ]
  },
  {
   "cell_type": "code",
   "execution_count": 2,
   "metadata": {},
   "outputs": [],
   "source": [
    "public class TreeNode {\n",
    "    int val;\n",
    "    TreeNode left, right;\n",
    "    public TreeNode() {}\n",
    "    public TreeNode(int val) {\n",
    "        this.val = val;\n",
    "    }\n",
    "    public TreeNode(int val, TreeNode left, TreeNode right) {\n",
    "        this.val = val;\n",
    "        this.left = left;\n",
    "        this.right = right;\n",
    "    }\n",
    "}"
   ]
  },
  {
   "cell_type": "markdown",
   "metadata": {},
   "source": [
    "Time Complexity $O(n)$ Time Space $O(n)$"
   ]
  },
  {
   "cell_type": "code",
   "execution_count": 3,
   "metadata": {},
   "outputs": [],
   "source": [
    "// we mark the most left position by level and \n",
    "// we calculate the distance with the rest of\n",
    "// position of nodes of same level\n",
    "// so we return the max distance\n",
    "public class Solution {\n",
    "    int answer = 0;\n",
    "    public int widthOfBinaryTree(TreeNode root) {\n",
    "        Map<Integer, Integer> leftPos = new HashMap<>();\n",
    "        dfs(root, 0, 0, leftPos);\n",
    "        return answer;\n",
    "    }\n",
    "    private void dfs(TreeNode node, int pos, int depth, Map<Integer, Integer> leftPos) {\n",
    "        if (node == null) return;\n",
    "        leftPos.putIfAbsent(depth, pos);\n",
    "        answer = Math.max(answer, pos - leftPos.get(depth) + 1);\n",
    "        dfs(node.left, pos * 2, depth + 1, leftPos);\n",
    "        dfs(node.right, (pos * 2) + 1, depth + 1, leftPos);\n",
    "    }\n",
    "}"
   ]
  },
  {
   "cell_type": "code",
   "execution_count": 4,
   "metadata": {},
   "outputs": [
    {
     "data": {
      "text/plain": [
       "4"
      ]
     },
     "execution_count": 4,
     "metadata": {},
     "output_type": "execute_result"
    }
   ],
   "source": [
    "//           1\n",
    "//         /   \\\n",
    "//        3     2\n",
    "//       / \\     \\  \n",
    "//      5   3     9 \n",
    "\n",
    "TreeNode root1 = new TreeNode(1);\n",
    "root1.left = new TreeNode(3);\n",
    "root1.right = new TreeNode(2);\n",
    "root1.left.left = new TreeNode(5);\n",
    "root1.left.right = new TreeNode(3);\n",
    "root1.right = new TreeNode(2);\n",
    "root1.right.right = new TreeNode(9);\n",
    "new Solution().widthOfBinaryTree(root1);"
   ]
  },
  {
   "cell_type": "code",
   "execution_count": 5,
   "metadata": {},
   "outputs": [],
   "source": [
    "public class Solution2 {\n",
    "    int answer = 0;\n",
    "    public int widthOfBinaryTree(TreeNode root) {\n",
    "        Queue<Tuple> queue = new LinkedList<>();\n",
    "        queue.add(new Tuple(0, root));\n",
    "        // we traverse by using BFS all nodes of each level.\n",
    "        // and we calculate the distance between the most left node\n",
    "        // and most right node\n",
    "        // so we return the max distance\n",
    "        while (!queue.isEmpty()) {\n",
    "            int sizeDepth = queue.size();\n",
    "            int leftPos = Integer.MAX_VALUE, rightPos = Integer.MIN_VALUE;\n",
    "            for (int i = 0; i < sizeDepth; ++i) {\n",
    "                Tuple tuple = queue.remove();\n",
    "                leftPos = Math.min(leftPos, tuple.pos);\n",
    "                rightPos = Math.max(rightPos, tuple.pos);\n",
    "                int pos = tuple.pos * 2;\n",
    "                if (tuple.node.left != null) {\n",
    "                    queue.add(new Tuple(pos, tuple.node.left));\n",
    "                }\n",
    "                if (tuple.node.right != null) {\n",
    "                    queue.add(new Tuple(pos + 1, tuple.node.right));\n",
    "                }\n",
    "                answer = Math.max(answer, rightPos - leftPos + 1);\n",
    "            }\n",
    "        }\n",
    "        return answer;\n",
    "    }\n",
    "    private class Tuple {\n",
    "        int pos;\n",
    "        TreeNode node;\n",
    "        Tuple() {}\n",
    "        Tuple(int pos, TreeNode node) {\n",
    "            this.pos = pos;\n",
    "            this.node = node;\n",
    "        }\n",
    "    }\n",
    "}"
   ]
  },
  {
   "cell_type": "code",
   "execution_count": 6,
   "metadata": {},
   "outputs": [
    {
     "data": {
      "text/plain": [
       "4"
      ]
     },
     "execution_count": 6,
     "metadata": {},
     "output_type": "execute_result"
    }
   ],
   "source": [
    "//           1\n",
    "//         /   \\\n",
    "//        3     2\n",
    "//       / \\     \\  \n",
    "//      5   3     9 \n",
    "\n",
    "TreeNode root1 = new TreeNode(1);\n",
    "root1.left = new TreeNode(3);\n",
    "root1.right = new TreeNode(2);\n",
    "root1.left.left = new TreeNode(5);\n",
    "root1.left.right = new TreeNode(3);\n",
    "root1.right = new TreeNode(2);\n",
    "root1.right.right = new TreeNode(9);\n",
    "new Solution2().widthOfBinaryTree(root1);"
   ]
  },
  {
   "cell_type": "code",
   "execution_count": null,
   "metadata": {},
   "outputs": [],
   "source": []
  }
 ],
 "metadata": {
  "kernelspec": {
   "display_name": "Java",
   "language": "java",
   "name": "java"
  },
  "language_info": {
   "codemirror_mode": "java",
   "file_extension": ".jshell",
   "mimetype": "text/x-java-source",
   "name": "Java",
   "pygments_lexer": "java",
   "version": "11.0.3+7"
  }
 },
 "nbformat": 4,
 "nbformat_minor": 2
}
