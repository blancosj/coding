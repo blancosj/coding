{
 "cells": [
  {
   "cell_type": "markdown",
   "metadata": {},
   "source": [
    "### <a href='https://leetcode.com/problems/numbers-with-same-consecutive-differences/'>967. Numbers With Same Consecutive Differences</a>\n",
    "\n",
    "Return all non-negative integers of length N such that the absolute difference between every two consecutive digits is K.\n",
    "\n",
    "Note that every number in the answer must not have leading zeros except for the number 0 itself. For example, 01 has one leading zero and is invalid, but 0 is valid.\n",
    "\n",
    "You may return the answer in any order.\n",
    "\n",
    "__Example 1:__\n",
    "```\n",
    "Input: N = 3, K = 7\n",
    "Output: [181,292,707,818,929]\n",
    "Explanation: Note that 070 is not a valid number, because it has leading zeroes.\n",
    "```\n",
    "__Example 2:__\n",
    "```\n",
    "Input: N = 2, K = 1\n",
    "Output: [10,12,21,23,32,34,43,45,54,56,65,67,76,78,87,89,98]\n",
    "```\n",
    "__Note:__\n",
    "* 1 <= N <= 9\n",
    "* 0 <= K <= 9"
   ]
  },
  {
   "cell_type": "code",
   "execution_count": null,
   "metadata": {},
   "outputs": [],
   "source": [
    "public class Solution {\n",
    "    private int N, K;\n",
    "    private TreeSet<Integer> answer = new TreeSet<>();\n",
    "    public int[] solve(int N, int K) {\n",
    "        this.N = N;\n",
    "        this.K = K;\n",
    "        if (N == 1) answer.add(0);\n",
    "        for (int i = 1; i < 10; ++i) dfs(i);\n",
    "        int[] list = new int[answer.size()];\n",
    "        int i = 0;\n",
    "        for (int num : answer) list[i++] = num;\n",
    "        return list;\n",
    "    }\n",
    "    private void dfs(int start) {\n",
    "        if (N == 0) {\n",
    "            answer.add(start);\n",
    "        }\n",
    "        int totalDigits = (int) Math.log10(start) + 1;\n",
    "        if (totalDigits == N) { \n",
    "            answer.add(start);\n",
    "        }\n",
    "        if (totalDigits > N) return;\n",
    "        int tail = start % 10;\n",
    "        int candidate1 = tail + K;\n",
    "        int candidate2 = tail - K;\n",
    "        int base = start * 10;\n",
    "        if (candidate1 < 10) dfs(base + candidate1);\n",
    "        if (candidate2 >= 0) dfs(base + candidate2);\n",
    "    }\n",
    "}"
   ]
  },
  {
   "cell_type": "code",
   "execution_count": null,
   "metadata": {},
   "outputs": [],
   "source": [
    "Arrays.toString(new Solution().solve(2, 0));"
   ]
  },
  {
   "cell_type": "code",
   "execution_count": null,
   "metadata": {},
   "outputs": [],
   "source": [
    "Arrays.toString(new Solution().solve(1, 0));"
   ]
  },
  {
   "cell_type": "code",
   "execution_count": null,
   "metadata": {},
   "outputs": [],
   "source": [
    "Arrays.toString(new Solution().solve(4, 2));"
   ]
  },
  {
   "cell_type": "code",
   "execution_count": null,
   "metadata": {},
   "outputs": [],
   "source": [
    "Arrays.toString(new Solution().solve(2, 1));"
   ]
  },
  {
   "cell_type": "code",
   "execution_count": 20,
   "metadata": {},
   "outputs": [],
   "source": [
    "public class Solution {\n",
    "    private List<Integer> answer = new ArrayList<>();\n",
    "    private int K;\n",
    "    public int[] solve(int N, int K) {\n",
    "        this.K = K;\n",
    "        if (N == 1) answer.add(0);\n",
    "        for (int i = 1; i < 10; ++i) dfs(i, N - 1);\n",
    "        int i = 0;\n",
    "        int[] list = new int[answer.size()];\n",
    "        for (int num : answer) list[i++] = num;\n",
    "        return list;\n",
    "    }\n",
    "    private void dfs(int start, int N) {\n",
    "        if (N == 0) {\n",
    "            answer.add(start);\n",
    "            return;\n",
    "        }\n",
    "        List<Integer> candidates = new ArrayList<>();\n",
    "        int tailDigit = start % 10; // 10\n",
    "        candidates.add(tailDigit - K);\n",
    "        candidates.add(tailDigit + K);\n",
    "        for (int candidate : candidates) {\n",
    "            if (candidate < 0 || candidate > 9) continue;\n",
    "            dfs((start * 10) + candidate, N - 1);\n",
    "        }\n",
    "    }\n",
    "}"
   ]
  },
  {
   "cell_type": "code",
   "execution_count": 21,
   "metadata": {},
   "outputs": [
    {
     "data": {
      "text/plain": [
       "[10, 12, 21, 23, 32, 34, 43, 45, 54, 56, 65, 67, 76, 78, 87, 89, 98]"
      ]
     },
     "execution_count": 21,
     "metadata": {},
     "output_type": "execute_result"
    }
   ],
   "source": [
    "Arrays.toString(new Solution().solve(2, 1));"
   ]
  },
  {
   "cell_type": "code",
   "execution_count": 22,
   "metadata": {},
   "outputs": [
    {
     "data": {
      "text/plain": [
       "[101, 121, 123, 210, 212, 232, 234, 321, 323, 343, 345, 432, 434, 454, 456, 543, 545, 565, 567, 654, 656, 676, 678, 765, 767, 787, 789, 876, 878, 898, 987, 989]"
      ]
     },
     "execution_count": 22,
     "metadata": {},
     "output_type": "execute_result"
    }
   ],
   "source": [
    "Arrays.toString(new Solution().solve(3, 1));"
   ]
  },
  {
   "cell_type": "code",
   "execution_count": 23,
   "metadata": {},
   "outputs": [
    {
     "data": {
      "text/plain": [
       "[0, 1, 2, 3, 4, 5, 6, 7, 8, 9]"
      ]
     },
     "execution_count": 23,
     "metadata": {},
     "output_type": "execute_result"
    }
   ],
   "source": [
    "Arrays.toString(new Solution().solve(1, 0));"
   ]
  },
  {
   "cell_type": "code",
   "execution_count": null,
   "metadata": {},
   "outputs": [],
   "source": []
  }
 ],
 "metadata": {
  "kernelspec": {
   "display_name": "Java",
   "language": "java",
   "name": "java"
  },
  "language_info": {
   "codemirror_mode": "java",
   "file_extension": ".jshell",
   "mimetype": "text/x-java-source",
   "name": "Java",
   "pygments_lexer": "java",
   "version": "11.0.3+7"
  }
 },
 "nbformat": 4,
 "nbformat_minor": 2
}
