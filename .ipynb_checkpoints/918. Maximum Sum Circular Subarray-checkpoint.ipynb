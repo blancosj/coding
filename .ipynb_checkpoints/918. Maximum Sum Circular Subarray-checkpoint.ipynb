{
 "cells": [
  {
   "cell_type": "markdown",
   "metadata": {},
   "source": [
    "Given a circular array C of integers represented by A, find the maximum possible sum of a non-empty subarray of C.\n",
    "\n",
    "Here, a circular array means the end of the array connects to the beginning of the array.  (Formally, C[i] = A[i] when 0 <= i < A.length, and C[i+A.length] = C[i] when i >= 0.)\n",
    "\n",
    "Also, a subarray may only include each element of the fixed buffer A at most once.  (Formally, for a subarray C[i], C[i+1], ..., C[j], there does not exist i <= k1, k2 <= j with k1 % A.length = k2 % A.length.)\n",
    "\n",
    "Example 1:\n",
    "```\n",
    "Input: [1,-2,3,-2]\n",
    "Output: 3\n",
    "Explanation: Subarray [3] has maximum sum 3\n",
    "```\n",
    "Example 2:\n",
    "```\n",
    "Input: [5,-3,5]\n",
    "Output: 10\n",
    "Explanation: Subarray [5,5] has maximum sum 5 + 5 = 10\n",
    "```\n",
    "Example 3:\n",
    "```\n",
    "Input: [3,-1,2,-1]\n",
    "Output: 4\n",
    "Explanation: Subarray [2,-1,3] has maximum sum 2 + (-1) + 3 = 4\n",
    "```\n",
    "Example 4:\n",
    "```\n",
    "Input: [3,-2,2,-3]\n",
    "Output: 3\n",
    "Explanation: Subarray [3] and [3,-2,2] both have maximum sum 3\n",
    "```\n",
    "Example 5:\n",
    "```\n",
    "Input: [-2,-3,-1]\n",
    "Output: -1\n",
    "Explanation: Subarray [-1] has maximum sum -1\n",
    "```\n",
    "Note:\n",
    "```\n",
    "-30000 <= A[i] <= 30000\n",
    "1 <= A.length <= 30000\n",
    "```"
   ]
  },
  {
   "cell_type": "code",
   "execution_count": 19,
   "metadata": {},
   "outputs": [],
   "source": [
    "public class Solution {\n",
    "    public int maxSubarraySumCircular(int[] nums) {\n",
    "        // calculate sum, min and max\n",
    "        // cicular means to include all numbers so that \n",
    "        // we calculate the min subarray and substract to total sum \n",
    "        // and compare is greater than max subarray\n",
    "        int len = nums.length;\n",
    "        int max = Integer.MIN_VALUE, min = Integer.MAX_VALUE, sum = 0;\n",
    "        int maxUntilHere = 0, minUntilHere = 0;\n",
    "        for (int i = 0; i < len; ++i) {\n",
    "            if (maxUntilHere + nums[i] > nums[i]) {\n",
    "                maxUntilHere += nums[i];\n",
    "            } else {\n",
    "                maxUntilHere = nums[i];\n",
    "            }\n",
    "            max = Math.max(max, maxUntilHere);\n",
    "            if (minUntilHere + nums[i] < nums[i]) {\n",
    "                minUntilHere += nums[i];\n",
    "            } else {\n",
    "                minUntilHere = nums[i];\n",
    "            }\n",
    "            min = Math.min(min, minUntilHere);\n",
    "            sum += nums[i];\n",
    "        }\n",
    "        if (sum == min) return max;\n",
    "        return Math.max(max, sum - min);\n",
    "    }\n",
    "}"
   ]
  },
  {
   "cell_type": "code",
   "execution_count": 20,
   "metadata": {},
   "outputs": [
    {
     "data": {
      "text/plain": [
       "3"
      ]
     },
     "execution_count": 20,
     "metadata": {},
     "output_type": "execute_result"
    }
   ],
   "source": [
    "int[] nums1 = { 1,-2,3,-2 };\n",
    "new Solution().maxSubarraySumCircular(nums1);"
   ]
  },
  {
   "cell_type": "code",
   "execution_count": 21,
   "metadata": {},
   "outputs": [
    {
     "data": {
      "text/plain": [
       "10"
      ]
     },
     "execution_count": 21,
     "metadata": {},
     "output_type": "execute_result"
    }
   ],
   "source": [
    "int[] nums1 = { 5,-3,5 };\n",
    "new Solution().maxSubarraySumCircular(nums1);"
   ]
  },
  {
   "cell_type": "code",
   "execution_count": 22,
   "metadata": {},
   "outputs": [
    {
     "data": {
      "text/plain": [
       "4"
      ]
     },
     "execution_count": 22,
     "metadata": {},
     "output_type": "execute_result"
    }
   ],
   "source": [
    "int[] nums1 = { 3,-1,2,-1 };\n",
    "new Solution().maxSubarraySumCircular(nums1);"
   ]
  },
  {
   "cell_type": "code",
   "execution_count": 23,
   "metadata": {},
   "outputs": [
    {
     "data": {
      "text/plain": [
       "3"
      ]
     },
     "execution_count": 23,
     "metadata": {},
     "output_type": "execute_result"
    }
   ],
   "source": [
    "int[] nums1 = { 3,-2,2,-3 };\n",
    "new Solution().maxSubarraySumCircular(nums1);"
   ]
  },
  {
   "cell_type": "code",
   "execution_count": 24,
   "metadata": {},
   "outputs": [
    {
     "data": {
      "text/plain": [
       "-1"
      ]
     },
     "execution_count": 24,
     "metadata": {},
     "output_type": "execute_result"
    }
   ],
   "source": [
    "int[] nums1 = { -2,-3,-1 };\n",
    "new Solution().maxSubarraySumCircular(nums1);"
   ]
  },
  {
   "cell_type": "code",
   "execution_count": null,
   "metadata": {},
   "outputs": [],
   "source": []
  }
 ],
 "metadata": {
  "kernelspec": {
   "display_name": "Java",
   "language": "java",
   "name": "java"
  },
  "language_info": {
   "codemirror_mode": "java",
   "file_extension": ".jshell",
   "mimetype": "text/x-java-source",
   "name": "Java",
   "pygments_lexer": "java",
   "version": "11.0.3+7"
  }
 },
 "nbformat": 4,
 "nbformat_minor": 2
}
