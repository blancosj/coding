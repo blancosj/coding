{
 "cells": [
  {
   "cell_type": "markdown",
   "metadata": {},
   "source": [
    "The demons had captured the princess (P) and imprisoned her in the bottom-right corner of a dungeon. The dungeon consists of M x N rooms laid out in a 2D grid. Our valiant knight (K) was initially positioned in the top-left room and must fight his way through the dungeon to rescue the princess.\n",
    "\n",
    "The knight has an initial health point represented by a positive integer. If at any point his health point drops to 0 or below, he dies immediately.\n",
    "\n",
    "Some of the rooms are guarded by demons, so the knight loses health (negative integers) upon entering these rooms; other rooms are either empty (0's) or contain magic orbs that increase the knight's health (positive integers).\n",
    "\n",
    "In order to reach the princess as quickly as possible, the knight decides to move only rightward or downward in each step.\n",
    "\n",
    "Write a function to determine the knight's minimum initial health so that he is able to rescue the princess.\n",
    "\n",
    "For example, given the dungeon below, the initial health of the knight must be at least __7__ if he follows the optimal path RIGHT-> RIGHT -> DOWN -> DOWN.\n",
    "\n",
    "```\n",
    "-2(K) -3  3\n",
    "-5   -10  1\n",
    "10    30 -5(P)\n",
    "```\n",
    "\n",
    "__Note:__\n",
    "\n",
    "* The knight's health has no upper bound.\n",
    "* Any room can contain threats or power-ups, even the first room the knight enters and the bottom-right room where the princess is imprisoned."
   ]
  },
  {
   "cell_type": "code",
   "execution_count": 5,
   "metadata": {},
   "outputs": [],
   "source": [
    "class Solution {\n",
    "    public int calculateMinimumHP(int[][] dungeon) {\n",
    "        int width = dungeon[0].length;\n",
    "        int[] dp = new int[width + 1];\n",
    "        \n",
    "        for(int i = 0; i < dp.length; i++)\n",
    "            if(i != width-1)\n",
    "                dp[i] = Integer.MAX_VALUE;\n",
    "        for(int j = dungeon.length-1; j >= 0; j--)\n",
    "            for(int i = width-1; i >= 0; i--)\n",
    "                dp[i] = Math.max(0, Math.min(dp[i+1], dp[i]) - dungeon[j][i]);\n",
    "\n",
    "        return dp[0] + 1;\n",
    "    }    \n",
    "}"
   ]
  },
  {
   "cell_type": "code",
   "execution_count": 6,
   "metadata": {},
   "outputs": [
    {
     "data": {
      "text/plain": [
       "7"
      ]
     },
     "execution_count": 6,
     "metadata": {},
     "output_type": "execute_result"
    }
   ],
   "source": [
    "int[][] grid = {{-2,-3,3},{-5,-10,1},{10,30,-5}};\n",
    "new Solution().calculateMinimumHP(grid);"
   ]
  },
  {
   "cell_type": "code",
   "execution_count": 7,
   "metadata": {},
   "outputs": [],
   "source": [
    "// bottom-up solution\n",
    "class Solution {\n",
    "    public int calculateMinimumHP(int[][] dungeon) {\n",
    "        int n = dungeon.length;\n",
    "        int m = dungeon[0].length;\n",
    "        int[][] dp = new int[n][m];\n",
    "        for (int j = n - 1; j >= 0; --j) {\n",
    "            for (int i = m - 1; i >= 0; --i) {\n",
    "                if (j == n - 1 && i == m - 1) {\n",
    "                    dp[j][i] = Math.max(1, 1 - dungeon[j][i]);\n",
    "                } else if (i == m - 1) {\n",
    "                    dp[j][i] = Math.max(1, dp[j + 1][i] - dungeon[j][i]);\n",
    "               } else if (j == n - 1) {\n",
    "                    dp[j][i] = Math.max(1, dp[j][i + 1] - dungeon[j][i]);\n",
    "                } else {\n",
    "                    dp[j][i] = Math.max(1, \n",
    "                        Math.min(dp[j][i + 1], dp[j + 1][i]) - dungeon[j][i]);\n",
    "                }\n",
    "            }\n",
    "        }\n",
    "        return dp[0][0];\n",
    "    }    \n",
    "}"
   ]
  },
  {
   "cell_type": "code",
   "execution_count": 8,
   "metadata": {},
   "outputs": [
    {
     "data": {
      "text/plain": [
       "7"
      ]
     },
     "execution_count": 8,
     "metadata": {},
     "output_type": "execute_result"
    }
   ],
   "source": [
    "int[][] grid = {{-2,-3,3},{-5,-10,1},{10,30,-5}};\n",
    "new Solution().calculateMinimumHP(grid);"
   ]
  },
  {
   "cell_type": "markdown",
   "metadata": {},
   "source": [
    "https://leetcode.com/problems/dungeon-game/discuss/698271/Python-Short-DP-7-lines-O(mn)-top-down-explained"
   ]
  }
 ],
 "metadata": {
  "kernelspec": {
   "display_name": "Java",
   "language": "java",
   "name": "java"
  },
  "language_info": {
   "codemirror_mode": "java",
   "file_extension": ".jshell",
   "mimetype": "text/x-java-source",
   "name": "Java",
   "pygments_lexer": "java",
   "version": "11.0.3+7"
  }
 },
 "nbformat": 4,
 "nbformat_minor": 2
}
