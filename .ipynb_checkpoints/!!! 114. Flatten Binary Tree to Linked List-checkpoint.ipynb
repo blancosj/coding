{
 "cells": [
  {
   "cell_type": "markdown",
   "metadata": {},
   "source": [
    "\n",
    "Given a binary tree, flatten it to a linked list in-place.\n",
    "\n",
    "For example, given the following tree:\n",
    "```\n",
    "    1\n",
    "   / \\\n",
    "  2   5\n",
    " / \\   \\\n",
    "3   4   6\n",
    "```\n",
    "The flattened tree should look like:\n",
    "```\n",
    "1\n",
    " \\\n",
    "  2\n",
    "   \\\n",
    "    3\n",
    "     \\\n",
    "      4\n",
    "       \\\n",
    "        5\n",
    "         \\\n",
    "          6\n",
    "```          "
   ]
  },
  {
   "cell_type": "code",
   "execution_count": null,
   "metadata": {},
   "outputs": [],
   "source": [
    "public class TreeNode {\n",
    "    int val;\n",
    "    TreeNode() {}\n",
    "    TreeNode(int val) {\n",
    "        this.val = val;\n",
    "    }\n",
    "}"
   ]
  },
  {
   "cell_type": "code",
   "execution_count": null,
   "metadata": {},
   "outputs": [],
   "source": [
    "// recursion\n",
    "public class Solution {\n",
    "\n",
    "}"
   ]
  },
  {
   "cell_type": "code",
   "execution_count": null,
   "metadata": {},
   "outputs": [],
   "source": [
    "// iterative\n",
    "public class Solution {\n",
    "\n",
    "}"
   ]
  }
 ],
 "metadata": {
  "kernelspec": {
   "display_name": "Java",
   "language": "java",
   "name": "java"
  },
  "language_info": {
   "codemirror_mode": "java",
   "file_extension": ".jshell",
   "mimetype": "text/x-java-source",
   "name": "Java",
   "pygments_lexer": "java",
   "version": "11.0.3+7"
  }
 },
 "nbformat": 4,
 "nbformat_minor": 2
}
