{
 "cells": [
  {
   "cell_type": "markdown",
   "metadata": {},
   "source": [
    "Check whether the original sequence org can be uniquely reconstructed from the sequences in seqs. The org sequence is a permutation of the integers from 1 to n, with 1 ≤ n ≤ 104. Reconstruction means building a shortest common supersequence of the sequences in seqs (i.e., a shortest sequence so that all sequences in seqs are subsequences of it). Determine whether there is only one sequence that can be reconstructed from seqs and it is the org sequence.\n",
    "```\n",
    "Example 1:\n",
    "\n",
    "Input: org = [1,2,3], seqs = [[1,2],[1,3]]\n",
    "Output: false\n",
    "Explanation: [1,2,3] is not the only one sequence that can be reconstructed, because [1,3,2] is also a valid sequence that can be reconstructed.\n",
    "```\n",
    "Example 2:\n",
    "```\n",
    "Input: org = [1,2,3], seqs = [[1,2]]\n",
    "Output: false\n",
    "Explanation: The reconstructed sequence can only be [1,2].\n",
    "```\n",
    "Example 3:\n",
    "```\n",
    "Input: org = [1,2,3], seqs = [[1,2],[1,3],[2,3]]\n",
    "Output: true\n",
    "Explanation: The sequences [1,2], [1,3], and [2,3] can uniquely reconstruct the original sequence [1,2,3].\n",
    "```\n",
    "Example 4:\n",
    "```\n",
    "Input: org = [4,1,5,2,6,3], seqs = [[5,2,6,3],[4,1,5,2]]\n",
    "Output: true\n",
    "```\n",
    "Constraints:\n",
    "\n",
    "* 1 <= n <= 10^4\n",
    "* org is a permutation of {1,2,...,n}.\n",
    "* seqs[i][j] fits in a 32-bit signed integer."
   ]
  },
  {
   "cell_type": "code",
   "execution_count": 50,
   "metadata": {},
   "outputs": [],
   "source": [
    "public class Solution {\n",
    "    public boolean sequenceReconstruction(\n",
    "        int[] org, int[][] seqs\n",
    "    ) {\n",
    "        Map<Integer, Node> graph = new HashMap<>();\n",
    "        for (int[] seq : seqs) {\n",
    "            Node parent = null;\n",
    "            for (int num : seq) {\n",
    "                Node node = graph.computeIfAbsent(num, x -> new Node(num));\n",
    "                if (parent != null) {\n",
    "                    parent.neighbors.add(node);\n",
    "                    node.indegree++;\n",
    "                }\n",
    "                parent = node;\n",
    "            }\n",
    "        }\n",
    "        Queue<Node> queue = new LinkedList<>();\n",
    "        for (Integer key : graph.keySet()) {\n",
    "            if (graph.get(key).indegree == 0) \n",
    "                queue.add(graph.get(key));\n",
    "        }\n",
    "        int i = 0;\n",
    "        while (!queue.isEmpty()) {\n",
    "            if (queue.size() > 1) return false;\n",
    "            Node node = queue.remove();\n",
    "            if (node.val != org[i]) return false;\n",
    "            if (i > org.length) return false;\n",
    "            for (Node neighbor : node.neighbors) {\n",
    "                neighbor.indegree--;\n",
    "                if (neighbor.indegree == 0) queue.add(neighbor);\n",
    "            }\n",
    "            i++;\n",
    "        }\n",
    "        return i == org.length && i == graph.size();\n",
    "    }\n",
    "    private class Node {\n",
    "        int val;\n",
    "        List<Node> neighbors = new ArrayList<>();\n",
    "        int indegree = 0;\n",
    "        Node(int val) {\n",
    "            this.val = val;\n",
    "        }\n",
    "    }\n",
    "}"
   ]
  },
  {
   "cell_type": "code",
   "execution_count": 51,
   "metadata": {},
   "outputs": [
    {
     "data": {
      "text/plain": [
       "true"
      ]
     },
     "execution_count": 51,
     "metadata": {},
     "output_type": "execute_result"
    }
   ],
   "source": [
    "int[] org = {1,2,3};\n",
    "int[][] seqs = {{1,2}, {1,3}, {2,3}};\n",
    "new Solution().sequenceReconstruction(org, seqs);"
   ]
  },
  {
   "cell_type": "code",
   "execution_count": 52,
   "metadata": {},
   "outputs": [
    {
     "data": {
      "text/plain": [
       "false"
      ]
     },
     "execution_count": 52,
     "metadata": {},
     "output_type": "execute_result"
    }
   ],
   "source": [
    "int[] org = {1,2,3};\n",
    "int[][] seqs = {{1,2}, {1,3}};\n",
    "new Solution().sequenceReconstruction(org, seqs);"
   ]
  },
  {
   "cell_type": "code",
   "execution_count": null,
   "metadata": {},
   "outputs": [],
   "source": []
  }
 ],
 "metadata": {
  "kernelspec": {
   "display_name": "Java",
   "language": "java",
   "name": "java"
  },
  "language_info": {
   "codemirror_mode": "java",
   "file_extension": ".jshell",
   "mimetype": "text/x-java-source",
   "name": "Java",
   "pygments_lexer": "java",
   "version": "11.0.3+7"
  }
 },
 "nbformat": 4,
 "nbformat_minor": 2
}
