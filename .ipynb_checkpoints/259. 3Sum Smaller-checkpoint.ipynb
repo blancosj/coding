{
 "cells": [
  {
   "cell_type": "markdown",
   "metadata": {},
   "source": [
    "Given an array of n integers nums and a target, find the number of index triplets i, j, k with 0 <= i < j < k < n that satisfy the condition nums[i] + nums[j] + nums[k] < target.\n",
    "\n",
    "Example:\n",
    "```\n",
    "Input: nums = [-2,0,1,3], and target = 2\n",
    "Output: 2 \n",
    "Explanation: Because there are two triplets which sums are less than 2:\n",
    "             [-2,0,1]\n",
    "             [-2,0,3]\n",
    "```             \n",
    "Follow up: Could you solve it in O(n2) runtime?"
   ]
  },
  {
   "cell_type": "markdown",
   "metadata": {},
   "source": [
    "Time Complexity $O(n^2\\log)$"
   ]
  },
  {
   "cell_type": "code",
   "execution_count": 10,
   "metadata": {},
   "outputs": [],
   "source": [
    "public class Solution {\n",
    "    public int threeSumSmaller(int[] nums, int target) {\n",
    "        //  *\n",
    "        // -2 0 1 3\n",
    "        //    ^\n",
    "        Arrays.sort(nums);\n",
    "        int n = nums.length;\n",
    "        int answer = 0;\n",
    "        for (int j = 0; j < n; ++j) {\n",
    "            for (int i = j + 1; i < n; ++i) {\n",
    "                int t = target - nums[j] - nums[i];\n",
    "                int idx = binarySearch(nums, i + 1, t);\n",
    "                if (idx != -1) {\n",
    "                    answer += idx - i;\n",
    "                }\n",
    "            }\n",
    "        }\n",
    "        return answer;\n",
    "    }\n",
    "    // binary search right number minimum to target\n",
    "    private int binarySearch(int[] nums, int i, int target) {\n",
    "        int n = nums.length;\n",
    "        int left = i, right = n - 1;\n",
    "        int answer = -1;\n",
    "        while (left <= right) {\n",
    "            int m = left + (right - left) / 2;\n",
    "            if (nums[m] < target) {\n",
    "                left = m + 1;\n",
    "                answer = m;\n",
    "            } else {\n",
    "                right = m - 1;\n",
    "            }\n",
    "        }\n",
    "        return answer;\n",
    "    }\n",
    "}"
   ]
  },
  {
   "cell_type": "code",
   "execution_count": 11,
   "metadata": {},
   "outputs": [
    {
     "data": {
      "text/plain": [
       "2"
      ]
     },
     "execution_count": 11,
     "metadata": {},
     "output_type": "execute_result"
    }
   ],
   "source": [
    "int[] nums = { -2, 0, 1, 3 };\n",
    "int target = 2;\n",
    "new Solution().threeSumSmaller(nums, target);"
   ]
  },
  {
   "cell_type": "markdown",
   "metadata": {},
   "source": [
    "Time Complexity $O(n^2)$"
   ]
  },
  {
   "cell_type": "code",
   "execution_count": 29,
   "metadata": {},
   "outputs": [],
   "source": [
    "public class Solution {\n",
    "    public int threeSumSmaller(int[] nums, int target) {\n",
    "        int n = nums.length;\n",
    "        Arrays.sort(nums);\n",
    "        int answer = 0;\n",
    "        for (int i = 0; i < n - 2; ++i) {\n",
    "            answer += searchRange(nums, i + 1, target - nums[i]);\n",
    "        }\n",
    "        return answer;\n",
    "    }\n",
    "    // search a pair of numbers that sum the target\n",
    "    private int searchRange(int[] nums, int i, int target) {\n",
    "        int n = nums.length;\n",
    "        int left = i, right = n - 1;\n",
    "        int answer = 0;\n",
    "        while (left < right) {\n",
    "            // 1 2 3 4 5\n",
    "            //   ^   ^\n",
    "            // get the subsequence that sums less than target\n",
    "            if (nums[left] + nums[right] < target) {\n",
    "                answer += right - left; // the range is the total of answers\n",
    "                left++;\n",
    "            } else {\n",
    "                right--;\n",
    "            }\n",
    "        }\n",
    "        return answer;\n",
    "    }\n",
    "}"
   ]
  },
  {
   "cell_type": "code",
   "execution_count": 30,
   "metadata": {},
   "outputs": [
    {
     "data": {
      "text/plain": [
       "2"
      ]
     },
     "execution_count": 30,
     "metadata": {},
     "output_type": "execute_result"
    }
   ],
   "source": [
    "int[] nums = { -2, 0, 1, 3 };\n",
    "int target = 2;\n",
    "new Solution().threeSumSmaller(nums, target);"
   ]
  },
  {
   "cell_type": "code",
   "execution_count": null,
   "metadata": {},
   "outputs": [],
   "source": []
  }
 ],
 "metadata": {
  "kernelspec": {
   "display_name": "Java",
   "language": "java",
   "name": "java"
  },
  "language_info": {
   "codemirror_mode": "java",
   "file_extension": ".jshell",
   "mimetype": "text/x-java-source",
   "name": "Java",
   "pygments_lexer": "java",
   "version": "11.0.3+7"
  }
 },
 "nbformat": 4,
 "nbformat_minor": 2
}
