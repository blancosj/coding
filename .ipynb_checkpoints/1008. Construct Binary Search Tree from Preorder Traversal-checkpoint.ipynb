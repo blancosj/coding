{
 "cells": [
  {
   "cell_type": "markdown",
   "metadata": {},
   "source": [
    "Return the root node of a binary search tree that matches the given preorder traversal.\n",
    "\n",
    "(Recall that a binary search tree is a binary tree where for every node, any descendant of node.left has a value < node.val, and any descendant of node.right has a value > node.val.  Also recall that a preorder traversal displays the value of the node first, then traverses node.left, then traverses node.right.)\n",
    "\n",
    "It's guaranteed that for the given test cases there is always possible to find a binary search tree with the given requirements.\n",
    "\n",
    "Example 1:\n",
    "```\n",
    "Input: [8,5,1,7,10,12]\n",
    "Output: [8,5,10,1,7,null,12]\n",
    "```\n",
    "Constraints:\n",
    "\n",
    "* 1 <= preorder.length <= 100\n",
    "* 1 <= preorder[i] <= 10^8\n",
    "* The values of preorder are distinct."
   ]
  },
  {
   "cell_type": "code",
   "execution_count": 19,
   "metadata": {},
   "outputs": [],
   "source": [
    "public class TreeNode {\n",
    "    int val;\n",
    "    TreeNode left, right;\n",
    "    TreeNode() {}\n",
    "    TreeNode(int val) {\n",
    "        this.val = val;\n",
    "    }\n",
    "    @Override\n",
    "    public String toString() {\n",
    "        Stack<TreeNode> stack = new Stack<>();\n",
    "        TreeNode cur = this;\n",
    "        StringBuilder result = new StringBuilder();\n",
    "        while (!stack.isEmpty() || cur != null) {\n",
    "            if (cur != null) {\n",
    "                stack.push(cur);\n",
    "                cur = cur.left;\n",
    "                continue;\n",
    "            }\n",
    "            cur = stack.pop();\n",
    "            result.append(cur.val).append(\",\");\n",
    "            cur = cur.right;\n",
    "\n",
    "        }\n",
    "        return result.toString();\n",
    "    }\n",
    "}"
   ]
  },
  {
   "cell_type": "code",
   "execution_count": 20,
   "metadata": {},
   "outputs": [],
   "source": [
    "public class Solution {\n",
    "    public TreeNode bstFromPreorder(int[] preorder) {\n",
    "        return helper(preorder, preorder.length, 0, Integer.MIN_VALUE, Integer.MAX_VALUE);\n",
    "    }\n",
    "    private TreeNode helper(int[] preorder, int len, int start, int min, int max) {\n",
    "        if (start == len) return null;\n",
    "        int val = preorder[start];\n",
    "        if (val >= min && val <= max) {\n",
    "            TreeNode node = new TreeNode(val);\n",
    "            node.left = helper(preorder, len, start + 1, min, val);\n",
    "            node.right = helper(preorder, len, start + 1, val, max);\n",
    "            return node;\n",
    "        }\n",
    "        return helper(preorder, len, start + 1, min, max);\n",
    "    }\n",
    "}"
   ]
  },
  {
   "cell_type": "code",
   "execution_count": 21,
   "metadata": {},
   "outputs": [],
   "source": [
    "int[] arr1 = { 8,5,1,7,10,12 };"
   ]
  },
  {
   "cell_type": "code",
   "execution_count": 22,
   "metadata": {},
   "outputs": [
    {
     "data": {
      "text/plain": [
       "1,5,7,8,10,12,"
      ]
     },
     "execution_count": 22,
     "metadata": {},
     "output_type": "execute_result"
    }
   ],
   "source": [
    "new Solution().bstFromPreorder(arr1);"
   ]
  },
  {
   "cell_type": "code",
   "execution_count": 30,
   "metadata": {},
   "outputs": [
    {
     "ename": "CompilationException",
     "evalue": "",
     "output_type": "error",
     "traceback": [
      "\u001b[1m\u001b[30m|   \u001b[1m\u001b[30mpublic clas Solution2\u001b[0m\u001b[1m\u001b[30m\u001b[41m\u001b[0m\u001b[1m\u001b[30m {\u001b[0m",
      "\u001b[1m\u001b[31m';' expected\u001b[0m",
      ""
     ]
    }
   ],
   "source": [
    "public class Solution2 {\n",
    "    public TreeNode bstFromPreorder(int[] preorder) {\n",
    "        int len = preorder.length;\n",
    "        if (len == 0) return null;\n",
    "        TreeNode root = new TreeNode(preorder[0]);\n",
    "        Stack<TreeNode> stack = new Stack<>();\n",
    "        stack.push(root);\n",
    "        for (int i = 1; i < len; ++i) {\n",
    "            TreeNode node = stack.pop();\n",
    "            TreeNode child = new TreeNode(preorder[i]);\n",
    "            while (!stack.isEmpty() && stack.peek() < child.val) {\n",
    "                node = stack.pop();\n",
    "            }\n",
    "            if (node.val > child.val) {\n",
    "                node.left = child;\n",
    "            } else {\n",
    "                node.right = child;\n",
    "            }\n",
    "            stack.push(child);\n",
    "        }\n",
    "        return root;\n",
    "    }\n",
    "}"
   ]
  },
  {
   "cell_type": "code",
   "execution_count": 25,
   "metadata": {},
   "outputs": [
    {
     "ename": "CompilationException",
     "evalue": "",
     "output_type": "error",
     "traceback": [
      "\u001b[1m\u001b[30m|   \u001b[1m\u001b[30mnew \u001b[0m\u001b[1m\u001b[30m\u001b[41mSolution2\u001b[0m\u001b[1m\u001b[30m().bstFromPreorder(arr1);\u001b[0m",
      "\u001b[1m\u001b[31mcannot find symbol\u001b[0m",
      "\u001b[1m\u001b[31m  symbol:   class Solution2\u001b[0m",
      ""
     ]
    }
   ],
   "source": [
    "new Solution2().bstFromPreorder(arr1);"
   ]
  },
  {
   "cell_type": "code",
   "execution_count": null,
   "metadata": {},
   "outputs": [],
   "source": []
  }
 ],
 "metadata": {
  "kernelspec": {
   "display_name": "Java",
   "language": "java",
   "name": "java"
  },
  "language_info": {
   "codemirror_mode": "java",
   "file_extension": ".jshell",
   "mimetype": "text/x-java-source",
   "name": "Java",
   "pygments_lexer": "java",
   "version": "11.0.3+7"
  }
 },
 "nbformat": 4,
 "nbformat_minor": 2
}
