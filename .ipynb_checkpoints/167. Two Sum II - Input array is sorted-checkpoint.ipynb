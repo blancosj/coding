{
 "cells": [
  {
   "cell_type": "markdown",
   "metadata": {},
   "source": [
    "Given an array of integers that is already sorted in ascending order, find two numbers such that they add up to a specific target number.\n",
    "\n",
    "The function twoSum should return indices of the two numbers such that they add up to the target, where index1 must be less than index2.\n",
    "\n",
    "Note:\n",
    "\n",
    "Your returned answers (both index1 and index2) are not zero-based.\n",
    "You may assume that each input would have exactly one solution and you may not use the same element twice.\n",
    "Example:\n",
    "```\n",
    "Input: numbers = [2,7,11,15], target = 9\n",
    "Output: [1,2]\n",
    "Explanation: The sum of 2 and 7 is 9. Therefore index1 = 1, index2 = 2.\n",
    "```"
   ]
  },
  {
   "cell_type": "code",
   "execution_count": 29,
   "metadata": {},
   "outputs": [],
   "source": [
    "public class Solution {\n",
    "    public int[] twoSum(int[] nums, int target) {\n",
    "        int len = nums.length;\n",
    "        for (int i = 0; i < len; ++i) {\n",
    "            int c = target - nums[i];\n",
    "            int f = binarySearch(nums, 0, len - 1, c);\n",
    "            if (f != -1 && f != i) return new int[] { i, f }; \n",
    "        }\n",
    "        return new int[0];\n",
    "    }\n",
    "    private int binarySearch(int[] nums, int left, int right, int target) {\n",
    "        while (left <= right) {\n",
    "            int m = (left + right) / 2;\n",
    "            if (nums[m] == target) return m;\n",
    "            if (target > nums[m]) {\n",
    "                left = m + 1;\n",
    "            } else {\n",
    "                right = m - 1;\n",
    "            }\n",
    "        }\n",
    "        return -1;\n",
    "    }\n",
    "}"
   ]
  },
  {
   "cell_type": "code",
   "execution_count": 30,
   "metadata": {},
   "outputs": [
    {
     "data": {
      "text/plain": [
       "[0, 1]"
      ]
     },
     "execution_count": 30,
     "metadata": {},
     "output_type": "execute_result"
    }
   ],
   "source": [
    "int[] nums = { 2,7,11,15 };\n",
    "Arrays.toString(new Solution().twoSum(nums, 9));"
   ]
  },
  {
   "cell_type": "code",
   "execution_count": 31,
   "metadata": {},
   "outputs": [
    {
     "data": {
      "text/plain": [
       "[4, 3]"
      ]
     },
     "execution_count": 31,
     "metadata": {},
     "output_type": "execute_result"
    }
   ],
   "source": [
    "int[] nums = { 1,2,3,4,4,9,56,90 };\n",
    "Arrays.toString(new Solution().twoSum(nums, 8));"
   ]
  },
  {
   "cell_type": "code",
   "execution_count": 32,
   "metadata": {},
   "outputs": [
    {
     "data": {
      "text/plain": [
       "[0, 2]"
      ]
     },
     "execution_count": 32,
     "metadata": {},
     "output_type": "execute_result"
    }
   ],
   "source": [
    "int[] nums = { 2,3,4 };\n",
    "Arrays.toString(new Solution().twoSum(nums, 6));"
   ]
  },
  {
   "cell_type": "code",
   "execution_count": 33,
   "metadata": {},
   "outputs": [],
   "source": [
    "public class Solution {\n",
    "    public int[] twoSum(int[] nums, int target) {\n",
    "        int len = nums.length;\n",
    "        int low = 0, high = len - 1;\n",
    "        while (low < high) {\n",
    "            int sum = nums[low] + nums[high];\n",
    "            if (sum == target) return new int[] { low, high };\n",
    "            if (sum > target) {\n",
    "                high--;\n",
    "            } else {\n",
    "                low++;\n",
    "            }\n",
    "        }\n",
    "        return new int[0];\n",
    "    }\n",
    "}"
   ]
  },
  {
   "cell_type": "code",
   "execution_count": 34,
   "metadata": {
    "scrolled": true
   },
   "outputs": [
    {
     "data": {
      "text/plain": [
       "[0, 1]"
      ]
     },
     "execution_count": 34,
     "metadata": {},
     "output_type": "execute_result"
    }
   ],
   "source": [
    "int[] nums = { 2,7,11,15 };\n",
    "Arrays.toString(new Solution().twoSum(nums, 9));"
   ]
  },
  {
   "cell_type": "code",
   "execution_count": 35,
   "metadata": {},
   "outputs": [
    {
     "data": {
      "text/plain": [
       "[3, 4]"
      ]
     },
     "execution_count": 35,
     "metadata": {},
     "output_type": "execute_result"
    }
   ],
   "source": [
    "int[] nums = { 1,2,3,4,4,9,56,90 };\n",
    "Arrays.toString(new Solution().twoSum(nums, 8));"
   ]
  },
  {
   "cell_type": "code",
   "execution_count": 36,
   "metadata": {},
   "outputs": [
    {
     "data": {
      "text/plain": [
       "[0, 2]"
      ]
     },
     "execution_count": 36,
     "metadata": {},
     "output_type": "execute_result"
    }
   ],
   "source": [
    "int[] nums = { 2,3,4 };\n",
    "Arrays.toString(new Solution().twoSum(nums, 6));"
   ]
  },
  {
   "cell_type": "code",
   "execution_count": 45,
   "metadata": {},
   "outputs": [],
   "source": [
    "public class Solution {\n",
    "    public int[] twoSum(int[] nums, int target) {\n",
    "        int len = nums.length;\n",
    "        Map<Integer, Integer> map = new HashMap<>();\n",
    "        for (int i = 0; i < len; ++i) {\n",
    "            int c = target - nums[i];\n",
    "            if (map.containsKey(c)) {\n",
    "                return new int[] { map.get(c), i };\n",
    "            }\n",
    "            map.put(nums[i], i);\n",
    "        }\n",
    "        return new int[0];\n",
    "    }\n",
    "}"
   ]
  },
  {
   "cell_type": "code",
   "execution_count": 46,
   "metadata": {
    "scrolled": true
   },
   "outputs": [
    {
     "data": {
      "text/plain": [
       "[0, 1]"
      ]
     },
     "execution_count": 46,
     "metadata": {},
     "output_type": "execute_result"
    }
   ],
   "source": [
    "int[] nums = { 2,7,11,15 };\n",
    "Arrays.toString(new Solution().twoSum(nums, 9));"
   ]
  },
  {
   "cell_type": "code",
   "execution_count": 47,
   "metadata": {},
   "outputs": [
    {
     "data": {
      "text/plain": [
       "[3, 4]"
      ]
     },
     "execution_count": 47,
     "metadata": {},
     "output_type": "execute_result"
    }
   ],
   "source": [
    "int[] nums = { 1,2,3,4,4,9,56,90 };\n",
    "Arrays.toString(new Solution().twoSum(nums, 8));"
   ]
  },
  {
   "cell_type": "code",
   "execution_count": 48,
   "metadata": {},
   "outputs": [
    {
     "data": {
      "text/plain": [
       "[0, 2]"
      ]
     },
     "execution_count": 48,
     "metadata": {},
     "output_type": "execute_result"
    }
   ],
   "source": [
    "int[] nums = { 2,3,4 };\n",
    "Arrays.toString(new Solution().twoSum(nums, 6));"
   ]
  },
  {
   "cell_type": "code",
   "execution_count": null,
   "metadata": {},
   "outputs": [],
   "source": []
  }
 ],
 "metadata": {
  "kernelspec": {
   "display_name": "Java",
   "language": "java",
   "name": "java"
  },
  "language_info": {
   "codemirror_mode": "java",
   "file_extension": ".jshell",
   "mimetype": "text/x-java-source",
   "name": "Java",
   "pygments_lexer": "java",
   "version": "11.0.3+7"
  }
 },
 "nbformat": 4,
 "nbformat_minor": 2
}
