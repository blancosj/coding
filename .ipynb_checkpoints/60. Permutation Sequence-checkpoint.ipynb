{
 "cells": [
  {
   "cell_type": "markdown",
   "metadata": {},
   "source": [
    "The set [1,2,3,...,n] contains a total of n! unique permutations.\n",
    "\n",
    "By listing and labeling all of the permutations in order, we get the following sequence for n = 3:\n",
    "\n",
    "\"123\"\n",
    "\"132\"\n",
    "\"213\"\n",
    "\"231\"\n",
    "\"312\"\n",
    "\"321\"\n",
    "Given n and k, return the kth permutation sequence.\n",
    "\n",
    "__Note:__\n",
    "\n",
    "* Given n will be between 1 and 9 inclusive.\n",
    "* Given k will be between 1 and n! inclusive.\n",
    "\n",
    "__Example 1:__\n",
    "```\n",
    "Input: n = 3, k = 3\n",
    "Output: \"213\"\n",
    "```\n",
    "__Example 2:__\n",
    "```\n",
    "Input: n = 4, k = 9\n",
    "Output: \"2314\"\n",
    "```"
   ]
  },
  {
   "cell_type": "code",
   "execution_count": 27,
   "metadata": {},
   "outputs": [],
   "source": [
    "public class Solution {\n",
    "    public String nextPermutation(int n, int k) {\n",
    "        int[] num = new int[n];\n",
    "        for (int i = 0; i < n; ++i) num[i] = i + 1;\n",
    "        for (int i = 0; i < k - 1; ++i) {\n",
    "            nextPermutation(n, num);\n",
    "        }\n",
    "        String answer = \"\";\n",
    "        for (int i : num) answer = answer + i;\n",
    "        return answer;\n",
    "    }\n",
    "    private void nextPermutation(int n, int[] num) {\n",
    "        // 1 3 2\n",
    "        //   ^\n",
    "        // 2 3 1\n",
    "        // 2 1 3\n",
    "        int i = n - 2;\n",
    "        while (i >= 0 && num[i + 1] < num[i]) i--;\n",
    "        if (i < 0) {\n",
    "            reverse(num, 0);\n",
    "            return;\n",
    "        }\n",
    "        int j = n - 1;\n",
    "        while (j >= 0 && num[i] > num[j]) j--;\n",
    "        swap(num, i, j);\n",
    "        reverse(num, i + 1);\n",
    "    }\n",
    "    private void swap(int[] num, int x, int y) {\n",
    "        int t = num[x];\n",
    "        num[x] = num[y];\n",
    "        num[y] = t;\n",
    "    }\n",
    "    private void reverse(int[] num, int start) {\n",
    "        int n = num.length;\n",
    "        for (int i = 0; i < (n - start) / 2; ++i) {\n",
    "            swap(num, start + i, n - 1 - i);\n",
    "        }\n",
    "    }\n",
    "}"
   ]
  },
  {
   "cell_type": "code",
   "execution_count": 28,
   "metadata": {},
   "outputs": [
    {
     "data": {
      "text/plain": [
       "213"
      ]
     },
     "execution_count": 28,
     "metadata": {},
     "output_type": "execute_result"
    }
   ],
   "source": [
    "new Solution().nextPermutation(3, 3);"
   ]
  },
  {
   "cell_type": "code",
   "execution_count": 29,
   "metadata": {},
   "outputs": [
    {
     "data": {
      "text/plain": [
       "2314"
      ]
     },
     "execution_count": 29,
     "metadata": {},
     "output_type": "execute_result"
    }
   ],
   "source": [
    "new Solution().nextPermutation(4, 9);"
   ]
  },
  {
   "cell_type": "code",
   "execution_count": null,
   "metadata": {},
   "outputs": [],
   "source": []
  }
 ],
 "metadata": {
  "kernelspec": {
   "display_name": "Java",
   "language": "java",
   "name": "java"
  },
  "language_info": {
   "codemirror_mode": "java",
   "file_extension": ".jshell",
   "mimetype": "text/x-java-source",
   "name": "Java",
   "pygments_lexer": "java",
   "version": "11.0.3+7"
  }
 },
 "nbformat": 4,
 "nbformat_minor": 2
}
