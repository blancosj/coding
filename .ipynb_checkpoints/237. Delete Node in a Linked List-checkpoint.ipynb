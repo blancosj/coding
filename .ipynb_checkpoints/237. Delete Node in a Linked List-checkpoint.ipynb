{
 "cells": [
  {
   "cell_type": "markdown",
   "metadata": {},
   "source": [
    "Write a function to delete a node (except the tail) in a singly linked list, given only access to that node.\n",
    "\n",
    "Given linked list -- head = [4,5,1,9], which looks like following:\n",
    "\n",
    "Example 1:\n",
    "```\n",
    "Input: head = [4,5,1,9], node = 5\n",
    "Output: [4,1,9]\n",
    "Explanation: You are given the second node with value 5, the linked list should become 4 -> 1 -> 9 after calling your function.\n",
    "```\n",
    "Example 2:\n",
    "```\n",
    "Input: head = [4,5,1,9], node = 1\n",
    "Output: [4,5,9]\n",
    "Explanation: You are given the third node with value 1, the linked list should become 4 -> 5 -> 9 after calling your function.\n",
    "```\n",
    "Note:\n",
    "\n",
    "* The linked list will have at least two elements.\n",
    "* All of the nodes' values will be unique.\n",
    "* The given node will not be the tail and it will always be a valid node of the linked list.\n",
    "* Do not return anything from your function."
   ]
  },
  {
   "cell_type": "code",
   "execution_count": 1,
   "metadata": {},
   "outputs": [],
   "source": [
    "public class ListNode {\n",
    "    int val;\n",
    "    ListNode next;\n",
    "    ListNode() {}\n",
    "    ListNode(int val) { this.val = val; }\n",
    "    ListNode(int val, ListNode next) {\n",
    "        this.val = val;\n",
    "        this.next = next;\n",
    "    }\n",
    "    @Override\n",
    "    public String toString() {\n",
    "        StringBuilder result = new StringBuilder();\n",
    "        ListNode cur = this;\n",
    "        result.append(\"[\");\n",
    "        while (cur != null) {\n",
    "            result.append(cur.val).append(\", \");\n",
    "            cur = cur.next;\n",
    "        }\n",
    "        result.append(\"]\");\n",
    "        return result.toString();\n",
    "    }\n",
    "    public static ListNode build(int[] nums) {\n",
    "        int n = nums.length;\n",
    "        if (n == 0) return null;\n",
    "        ListNode head = new ListNode(nums[0]);\n",
    "        ListNode cur = head;\n",
    "        for (int i = 1; i < n; ++i) {\n",
    "            cur.next = new ListNode(nums[i]);\n",
    "            cur = cur.next;\n",
    "        }\n",
    "        return head;\n",
    "    }\n",
    "}"
   ]
  },
  {
   "cell_type": "code",
   "execution_count": 2,
   "metadata": {},
   "outputs": [],
   "source": [
    "public class Solution {\n",
    "    public void deleteNode(ListNode node) {\n",
    "        node.val = node.next.val;\n",
    "        node.next = node.next.next;\n",
    "    }\n",
    "}"
   ]
  },
  {
   "cell_type": "code",
   "execution_count": 6,
   "metadata": {},
   "outputs": [
    {
     "data": {
      "text/plain": [
       "[4, 1, 9, ]"
      ]
     },
     "execution_count": 6,
     "metadata": {},
     "output_type": "execute_result"
    }
   ],
   "source": [
    "int[] nums1 = {4,5,1,9};\n",
    "ListNode head = ListNode.build(nums1);\n",
    "new Solution().deleteNode(head.next);\n",
    "head;"
   ]
  },
  {
   "cell_type": "code",
   "execution_count": null,
   "metadata": {},
   "outputs": [],
   "source": []
  }
 ],
 "metadata": {
  "kernelspec": {
   "display_name": "Java",
   "language": "java",
   "name": "java"
  },
  "language_info": {
   "codemirror_mode": "java",
   "file_extension": ".jshell",
   "mimetype": "text/x-java-source",
   "name": "Java",
   "pygments_lexer": "java",
   "version": "11.0.3+7"
  }
 },
 "nbformat": 4,
 "nbformat_minor": 2
}
