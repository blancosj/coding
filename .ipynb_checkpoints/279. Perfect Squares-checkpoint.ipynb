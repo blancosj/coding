{
 "cells": [
  {
   "cell_type": "markdown",
   "metadata": {},
   "source": [
    "Given a positive integer n, find the least number of perfect square numbers (for example, 1, 4, 9, 16, ...) which sum to n.\n",
    "\n",
    "__Example 1:__\n",
    "```\n",
    "Input: n = 12\n",
    "Output: 3 \n",
    "Explanation: 12 = 4 + 4 + 4.\n",
    "```\n",
    "__Example 2:__\n",
    "```\n",
    "Input: n = 13\n",
    "Output: 2\n",
    "Explanation: 13 = 4 + 9.\n",
    "```"
   ]
  },
  {
   "cell_type": "code",
   "execution_count": 5,
   "metadata": {},
   "outputs": [],
   "source": [
    "// dfs\n",
    "public class Solution {\n",
    "    private List<Integer> squares = new ArrayList<>();\n",
    "    public int solve(int num) {\n",
    "        // calculate the perfect squares\n",
    "        for (int i = 1; i * i <= num; ++i) squares.add(i * i);\n",
    "        return dfs(squares.size() - 1, num);\n",
    "    }\n",
    "    private int dfs(int i, int k) {\n",
    "        if (i < 0) return Integer.MAX_VALUE;\n",
    "        if (k == 0) return 0;\n",
    "        int square = squares.get(i);\n",
    "        int result = dfs(i - 1, k);\n",
    "        if (square <= k) {\n",
    "            result = Math.min(\n",
    "                1 + dfs(i, k - square),\n",
    "                result\n",
    "            );\n",
    "        }\n",
    "        return result;\n",
    "    }\n",
    "}"
   ]
  },
  {
   "cell_type": "code",
   "execution_count": 6,
   "metadata": {},
   "outputs": [
    {
     "data": {
      "text/plain": [
       "3"
      ]
     },
     "execution_count": 6,
     "metadata": {},
     "output_type": "execute_result"
    }
   ],
   "source": [
    "new Solution().solve(12); // output: 3"
   ]
  },
  {
   "cell_type": "code",
   "execution_count": 7,
   "metadata": {},
   "outputs": [
    {
     "data": {
      "text/plain": [
       "2"
      ]
     },
     "execution_count": 7,
     "metadata": {},
     "output_type": "execute_result"
    }
   ],
   "source": [
    "new Solution().solve(261); // output: 2"
   ]
  },
  {
   "cell_type": "code",
   "execution_count": 8,
   "metadata": {},
   "outputs": [
    {
     "ename": "EvaluationInterruptedException",
     "evalue": "Evaluator was interrupted while executing: 'new Solution().solve(1007); // output: 4'",
     "output_type": "error",
     "traceback": [
      "\u001b[1m\u001b[30m|   \u001b[1m\u001b[30mnew Solution().solve(1007); // output: 4\u001b[0m",
      "\u001b[1m\u001b[31mEvaluation interrupted.\u001b[0m"
     ]
    }
   ],
   "source": [
    "new Solution().solve(1007); // output: 4"
   ]
  },
  {
   "cell_type": "code",
   "execution_count": 1,
   "metadata": {},
   "outputs": [],
   "source": [
    "// dfs with memoization \n",
    "public class Solution {\n",
    "    private Map<CacheKey, Integer> cache = \n",
    "        new HashMap<>();\n",
    "    private List<Integer> squares = new ArrayList<>();\n",
    "    public int solve(int num) {\n",
    "        // calculate the perfect squares\n",
    "        for (int i = 1; i * i <= num; ++i) squares.add(i * i);\n",
    "        return dfs(squares.size() - 1, num);\n",
    "    }\n",
    "    private int dfs(int i, int k) {\n",
    "        if (i < 0) return Integer.MAX_VALUE;\n",
    "        if (k == 0) return 0;\n",
    "        CacheKey cacheKey = \n",
    "            new CacheKey(i, k);\n",
    "        if (cache.containsKey(cacheKey)) return cache.get(cacheKey);\n",
    "        int square = squares.get(i);\n",
    "        int result = dfs(i - 1, k);\n",
    "        if (square <= k) {\n",
    "            result = Math.min(\n",
    "                1 + dfs(i, k - square),\n",
    "                result\n",
    "            );\n",
    "        }\n",
    "        cache.put(cacheKey, result);\n",
    "        return result;\n",
    "    }\n",
    "    private class CacheKey {\n",
    "        int key, value;\n",
    "        CacheKey(int key, int value) {\n",
    "            this.key = key;\n",
    "            this.value = value;\n",
    "        }\n",
    "        @Override\n",
    "        public boolean equals(Object that) {\n",
    "            return this.hashCode() == that.hashCode();\n",
    "        }\n",
    "        @Override\n",
    "        public int hashCode() {\n",
    "            int h = 7;\n",
    "            h = (h * 31) + System.identityHashCode(key);\n",
    "            h = (h * 31) + System.identityHashCode(value);\n",
    "            return h;\n",
    "        }\n",
    "    }\n",
    "}"
   ]
  },
  {
   "cell_type": "code",
   "execution_count": 2,
   "metadata": {},
   "outputs": [
    {
     "data": {
      "text/plain": [
       "3"
      ]
     },
     "execution_count": 2,
     "metadata": {},
     "output_type": "execute_result"
    }
   ],
   "source": [
    "new Solution().solve(27); // output: 3"
   ]
  },
  {
   "cell_type": "code",
   "execution_count": 3,
   "metadata": {},
   "outputs": [
    {
     "data": {
      "text/plain": [
       "2"
      ]
     },
     "execution_count": 3,
     "metadata": {},
     "output_type": "execute_result"
    }
   ],
   "source": [
    "new Solution().solve(288); // output: 2"
   ]
  },
  {
   "cell_type": "code",
   "execution_count": 4,
   "metadata": {},
   "outputs": [
    {
     "ename": "EvaluationInterruptedException",
     "evalue": "Evaluator was interrupted while executing: 'new Solution().solve(1007); // output: 4'",
     "output_type": "error",
     "traceback": [
      "\u001b[1m\u001b[30m|   \u001b[1m\u001b[30mnew Solution().solve(1007); // output: 4\u001b[0m",
      "\u001b[1m\u001b[31mEvaluation interrupted.\u001b[0m"
     ]
    }
   ],
   "source": [
    "new Solution().solve(1007); // output: 4"
   ]
  },
  {
   "cell_type": "code",
   "execution_count": 20,
   "metadata": {},
   "outputs": [],
   "source": [
    "// dynamic programming\n",
    "public class Solution {\n",
    "    public int solve(int num) {\n",
    "        List<Integer> squares = new ArrayList<>();\n",
    "        for (int i = 1; i * i <= num; ++i) squares.add(i * i);\n",
    "        int[] dp = new int[num + 1];\n",
    "        Arrays.fill(dp, Integer.MAX_VALUE);\n",
    "        dp[0] = 0;\n",
    "        for (int i = 1; i <= num; ++i) {        \n",
    "            for (int square : squares) {\n",
    "                if (square > i) break;\n",
    "                dp[i] = Math.min(dp[i], 1 + dp[i - square]);\n",
    "            }\n",
    "        }\n",
    "        return dp[num];\n",
    "    }\n",
    "}"
   ]
  },
  {
   "cell_type": "code",
   "execution_count": 21,
   "metadata": {},
   "outputs": [
    {
     "data": {
      "text/plain": [
       "1"
      ]
     },
     "execution_count": 21,
     "metadata": {},
     "output_type": "execute_result"
    }
   ],
   "source": [
    "new Solution().solve(1); // output: 1"
   ]
  },
  {
   "cell_type": "code",
   "execution_count": 22,
   "metadata": {},
   "outputs": [
    {
     "data": {
      "text/plain": [
       "2"
      ]
     },
     "execution_count": 22,
     "metadata": {},
     "output_type": "execute_result"
    }
   ],
   "source": [
    "new Solution().solve(261); // output: 2"
   ]
  },
  {
   "cell_type": "code",
   "execution_count": 23,
   "metadata": {},
   "outputs": [
    {
     "data": {
      "text/plain": [
       "2"
      ]
     },
     "execution_count": 23,
     "metadata": {},
     "output_type": "execute_result"
    }
   ],
   "source": [
    "new Solution().solve(8765); // output: 2"
   ]
  },
  {
   "cell_type": "code",
   "execution_count": 24,
   "metadata": {},
   "outputs": [],
   "source": [
    "// alternative approach - bfs\n",
    "public class Solution {\n",
    "    Set<Integer> squares = new HashSet<>();\n",
    "    public int solve(int num) {\n",
    "        for (int i = 1; i * i <= num; ++i) squares.add(i * i);\n",
    "        for (int i = 1; i <= num; ++i) {\n",
    "            if (divideBy(num, i)) return i;\n",
    "        }\n",
    "        return num;\n",
    "    }\n",
    "    private boolean divideBy(int k, int count) {\n",
    "        if (count == 1) return squares.contains(k);\n",
    "        for (int square : squares) {\n",
    "            if (divideBy(k - square, count - 1)) return true;\n",
    "        }\n",
    "        return false;\n",
    "    }\n",
    "}"
   ]
  },
  {
   "cell_type": "code",
   "execution_count": 25,
   "metadata": {},
   "outputs": [
    {
     "data": {
      "text/plain": [
       "3"
      ]
     },
     "execution_count": 25,
     "metadata": {},
     "output_type": "execute_result"
    }
   ],
   "source": [
    "new Solution().solve(12); // output: 3"
   ]
  },
  {
   "cell_type": "code",
   "execution_count": 26,
   "metadata": {},
   "outputs": [
    {
     "data": {
      "text/plain": [
       "2"
      ]
     },
     "execution_count": 26,
     "metadata": {},
     "output_type": "execute_result"
    }
   ],
   "source": [
    "new Solution().solve(261); // output: 2"
   ]
  },
  {
   "cell_type": "code",
   "execution_count": 27,
   "metadata": {},
   "outputs": [
    {
     "data": {
      "text/plain": [
       "2"
      ]
     },
     "execution_count": 27,
     "metadata": {},
     "output_type": "execute_result"
    }
   ],
   "source": [
    "new Solution().solve(8765); // output: 2"
   ]
  },
  {
   "cell_type": "code",
   "execution_count": 28,
   "metadata": {},
   "outputs": [
    {
     "data": {
      "text/plain": [
       "3"
      ]
     },
     "execution_count": 28,
     "metadata": {},
     "output_type": "execute_result"
    }
   ],
   "source": [
    "new Solution().solve(27); // output: 3"
   ]
  },
  {
   "cell_type": "code",
   "execution_count": null,
   "metadata": {},
   "outputs": [],
   "source": []
  }
 ],
 "metadata": {
  "kernelspec": {
   "display_name": "Java",
   "language": "java",
   "name": "java"
  },
  "language_info": {
   "codemirror_mode": "java",
   "file_extension": ".jshell",
   "mimetype": "text/x-java-source",
   "name": "Java",
   "pygments_lexer": "java",
   "version": "11.0.3+7"
  }
 },
 "nbformat": 4,
 "nbformat_minor": 2
}
