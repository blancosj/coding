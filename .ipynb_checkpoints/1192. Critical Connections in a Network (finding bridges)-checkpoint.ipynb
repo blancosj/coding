{
 "cells": [
  {
   "cell_type": "markdown",
   "metadata": {},
   "source": [
    "There are n servers numbered from 0 to n-1 connected by undirected server-to-server connections forming a network where connections[i] = [a, b] represents a connection between servers a and b. Any server can reach any other server directly or indirectly through the network.\n",
    "\n",
    "A critical connection is a connection that, if removed, will make some server unable to reach some other server.\n",
    "\n",
    "Return all critical connections in the network in any order.\n",
    "\n",
    "__Example 1:__\n",
    "<img src='./assets/1537_ex1_2.png'/>\n",
    "\n",
    "```\n",
    "Input: n = 4, connections = [[0,1],[1,2],[2,0],[1,3]]\n",
    "Output: [[1,3]]\n",
    "Explanation: [[3,1]] is also accepted.\n",
    "``` \n",
    "__Constraints:__\n",
    "* 1 <= n <= 10^5\n",
    "* n-1 <= connections.length <= 10^5\n",
    "* connections[i][0] != connections[i][1]\n",
    "* There are no repeated connections."
   ]
  },
  {
   "cell_type": "markdown",
   "metadata": {},
   "source": [
    "Time Complexity $\\mathcal O(|V| + |E|)$"
   ]
  },
  {
   "cell_type": "code",
   "execution_count": 9,
   "metadata": {},
   "outputs": [],
   "source": [
    "public class Solution {\n",
    "    private int time;\n",
    "    // discovery times of each vertex\n",
    "    private int[] disc;\n",
    "    // lowest time seen by each vertex\n",
    "    private int[] low;\n",
    "    private List<List<Integer>> answer;\n",
    "    private Map<Integer, List<Integer>> graph;\n",
    "    public List<List<Integer>> solve(int n, int[][] edges) {\n",
    "        // build graph non-direct \n",
    "        graph = new HashMap<>();\n",
    "        for (int[] edge : edges) {\n",
    "            graph.computeIfAbsent(edge[0], x -> new ArrayList<>())\n",
    "                .add(edge[1]);\n",
    "            graph.computeIfAbsent(edge[1], x -> new ArrayList<>())\n",
    "                .add(edge[0]);\n",
    "        }\n",
    "        time = 0;\n",
    "        answer = new ArrayList<>();\n",
    "        disc = new int[n];\n",
    "        Arrays.fill(disc, -1);\n",
    "        low = new int[n];\n",
    "        Arrays.fill(low, -1);\n",
    "        for (int vertex : graph.keySet()) {\n",
    "            if (disc[vertex] == -1) dfs(vertex, vertex);\n",
    "        }\n",
    "        return answer;\n",
    "    }\n",
    "    private void dfs(int parent, int vertex) {\n",
    "        // we mark the time and lowest time seen\n",
    "        // that are initialized equal\n",
    "        disc[vertex] = time++;\n",
    "        low[vertex] = disc[vertex];\n",
    "        for (int neighbor : graph.get(vertex)) {\n",
    "            if (disc[neighbor] == -1) {\n",
    "                dfs(vertex, neighbor);\n",
    "                // mark what is the lowest time seen by the current vertex\n",
    "                low[vertex] = Math.min(low[vertex], low[neighbor]);\n",
    "                // if the lowest time seen by this neighbor node \n",
    "                // is itself. That means that it did not see any node\n",
    "                // in previous node to current vertex\n",
    "                if (low[neighbor] == disc[neighbor]) {\n",
    "                    answer.add(List.of(vertex, neighbor));\n",
    "                }\n",
    "            } else if (parent != neighbor) {\n",
    "                // if neighbor is different than parent of current node\n",
    "                // we mark the lowest time seen with the discover time\n",
    "                // of the neighbor node\n",
    "                low[vertex] = Math.min(low[vertex], disc[neighbor]);\n",
    "            }\n",
    "        }\n",
    "    }\n",
    "}"
   ]
  },
  {
   "cell_type": "code",
   "execution_count": 10,
   "metadata": {},
   "outputs": [
    {
     "data": {
      "text/plain": [
       "[[1, 3]]"
      ]
     },
     "execution_count": 10,
     "metadata": {},
     "output_type": "execute_result"
    }
   ],
   "source": [
    "int[][] edges = {{0,1},{1,2},{2,0},{1,3}};\n",
    "new Solution().solve(4, edges);"
   ]
  },
  {
   "cell_type": "code",
   "execution_count": null,
   "metadata": {},
   "outputs": [],
   "source": []
  }
 ],
 "metadata": {
  "kernelspec": {
   "display_name": "Java",
   "language": "java",
   "name": "java"
  },
  "language_info": {
   "codemirror_mode": "java",
   "file_extension": ".jshell",
   "mimetype": "text/x-java-source",
   "name": "Java",
   "pygments_lexer": "java",
   "version": "11.0.3+7"
  }
 },
 "nbformat": 4,
 "nbformat_minor": 2
}
