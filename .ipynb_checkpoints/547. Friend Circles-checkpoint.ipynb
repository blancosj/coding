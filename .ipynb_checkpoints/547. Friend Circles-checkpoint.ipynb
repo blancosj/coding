{
 "cells": [
  {
   "cell_type": "markdown",
   "metadata": {},
   "source": [
    "There are N students in a class. Some of them are friends, while some are not. Their friendship is transitive in nature. For example, if A is a direct friend of B, and B is a direct friend of C, then A is an indirect friend of C. And we defined a friend circle is a group of students who are direct or indirect friends.\n",
    "\n",
    "Given a N*N matrix M representing the friend relationship between students in the class. If M[i][j] = 1, then the ith and jth students are direct friends with each other, otherwise not. And you have to output the total number of friend circles among all the students.\n",
    "\n",
    "__Example 1:__\n",
    "```\n",
    "Input: \n",
    "[[1,1,0],\n",
    " [1,1,0],\n",
    " [0,0,1]]\n",
    "Output: 2\n",
    "Explanation: The 0th and 1st students are direct friends, so they are in a friend circle. \n",
    "The 2nd student himself is in a friend circle. So return 2.\n",
    "```\n",
    "__Example 2:__\n",
    "```\n",
    "Input: \n",
    "[[1,1,0],\n",
    " [1,1,1],\n",
    " [0,1,1]]\n",
    "Output: 1\n",
    "Explanation:The 0th and 1st students are direct friends, the 1st and 2nd students are direct friends, \n",
    "so the 0th and 2nd students are indirect friends. All of them are in the same friend circle, so return 1.\n",
    "```\n",
    "__Note:__\n",
    "* N is in range [1,200].\n",
    "* M[i][i] = 1 for all students.\n",
    "* If M[i][j] = 1, then M[j][i] = 1."
   ]
  },
  {
   "cell_type": "code",
   "execution_count": 3,
   "metadata": {},
   "outputs": [],
   "source": [
    "public class Solution {\n",
    "    private int[] parent;\n",
    "    private int[] rank;\n",
    "    public int solve(int[][] M) {\n",
    "        int n = M.length;\n",
    "        parent = new int[n];\n",
    "        rank = new int[n];\n",
    "        for (int i = 0; i < n; ++i) parent[i] = i;\n",
    "        for (int j = 0; j < n; ++j) {\n",
    "            for (int i = j; i < n; ++i) {\n",
    "                if (M[j][i] == 1) union(j, i);\n",
    "            }\n",
    "        }\n",
    "        int answer = 0;\n",
    "        for (int i = 0; i < n; ++i) {\n",
    "            if (parent[i] == i) answer++;\n",
    "        }\n",
    "        return answer;\n",
    "    }\n",
    "    private int find(int p) {\n",
    "        if (parent[p] == p) return p;\n",
    "        return find(parent[p]);\n",
    "    }\n",
    "    private void union(int p, int q) {\n",
    "        int pp = find(p);\n",
    "        int pq = find(q);\n",
    "        if (rank[pp] > rank[pq]) {\n",
    "            parent[pq] = pp;\n",
    "        } else if (rank[pp] < rank[pq]) {\n",
    "            parent[pp] = pq;\n",
    "        } else {\n",
    "            parent[pp] = pq;\n",
    "            rank[pq]++;\n",
    "        }\n",
    "    }\n",
    "}"
   ]
  },
  {
   "cell_type": "code",
   "execution_count": 4,
   "metadata": {},
   "outputs": [
    {
     "data": {
      "text/plain": [
       "2"
      ]
     },
     "execution_count": 4,
     "metadata": {},
     "output_type": "execute_result"
    }
   ],
   "source": [
    "int[][] M = {\n",
    "    {1,1,0}, \n",
    "    {1,1,0},\n",
    "    {0,0,1}\n",
    "};\n",
    "new Solution().solve(M);"
   ]
  },
  {
   "cell_type": "code",
   "execution_count": 5,
   "metadata": {},
   "outputs": [
    {
     "data": {
      "text/plain": [
       "1"
      ]
     },
     "execution_count": 5,
     "metadata": {},
     "output_type": "execute_result"
    }
   ],
   "source": [
    "int[][] M = {\n",
    "    {1,1,0}, \n",
    "    {1,1,1},\n",
    "    {0,1,1}\n",
    "};\n",
    "new Solution().solve(M);"
   ]
  },
  {
   "cell_type": "code",
   "execution_count": null,
   "metadata": {},
   "outputs": [],
   "source": []
  },
  {
   "cell_type": "code",
   "execution_count": null,
   "metadata": {},
   "outputs": [],
   "source": []
  }
 ],
 "metadata": {
  "kernelspec": {
   "display_name": "Java",
   "language": "java",
   "name": "java"
  },
  "language_info": {
   "codemirror_mode": "java",
   "file_extension": ".jshell",
   "mimetype": "text/x-java-source",
   "name": "Java",
   "pygments_lexer": "java",
   "version": "11.0.3+7"
  }
 },
 "nbformat": 4,
 "nbformat_minor": 2
}
