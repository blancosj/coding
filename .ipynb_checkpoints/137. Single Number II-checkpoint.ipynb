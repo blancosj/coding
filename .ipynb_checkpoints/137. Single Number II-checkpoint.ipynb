{
 "cells": [
  {
   "cell_type": "markdown",
   "metadata": {},
   "source": [
    "Given a non-empty array of integers, every element appears three times except for one, which appears exactly once. Find that single one.\n",
    "\n",
    "__Note:__\n",
    "\n",
    "Your algorithm should have a linear runtime complexity. Could you implement it without using extra memory?\n",
    "\n",
    "__Example 1:__\n",
    "```\n",
    "Input: [2,2,3,2]\n",
    "Output: 3\n",
    "```\n",
    "__Example 2:__\n",
    "```\n",
    "Input: [0,1,0,1,0,1,99]\n",
    "Output: 99\n",
    "```"
   ]
  },
  {
   "cell_type": "code",
   "execution_count": 10,
   "metadata": {},
   "outputs": [],
   "source": [
    "public class Solution {\n",
    "    public int solve(int[] nums) {\n",
    "        Map<Integer, Integer> map = new HashMap<>();\n",
    "        int n = nums.length;\n",
    "        for (int i = 0; i < n; ++i) {\n",
    "            map.put(nums[i], map.getOrDefault(nums[i], 0) + 1);\n",
    "        }\n",
    "        List<Map.Entry<Integer, Integer>> list = new ArrayList<>(map.entrySet());\n",
    "        Collections.sort(list, (x, y) -> x.getValue() - y.getValue());\n",
    "        return list.get(0).getKey();\n",
    "    }\n",
    "}"
   ]
  },
  {
   "cell_type": "code",
   "execution_count": 11,
   "metadata": {},
   "outputs": [
    {
     "data": {
      "text/plain": [
       "3"
      ]
     },
     "execution_count": 11,
     "metadata": {},
     "output_type": "execute_result"
    }
   ],
   "source": [
    "int[] nums = {2,2,3,2};\n",
    "new Solution().solve(nums)"
   ]
  },
  {
   "cell_type": "code",
   "execution_count": 12,
   "metadata": {},
   "outputs": [
    {
     "data": {
      "text/plain": [
       "99"
      ]
     },
     "execution_count": 12,
     "metadata": {},
     "output_type": "execute_result"
    }
   ],
   "source": [
    "int[] nums = {0,1,0,1,0,1,99};\n",
    "new Solution().solve(nums)"
   ]
  },
  {
   "cell_type": "code",
   "execution_count": 13,
   "metadata": {},
   "outputs": [
    {
     "ename": "CompilationException",
     "evalue": "",
     "output_type": "error",
     "traceback": [
      "\u001b[1m\u001b[30m|   \u001b[1m\u001b[30m    \u001b[0m\u001b[1m\u001b[30m\u001b[41m\u001b[0m\u001b[1m\u001b[30mreturn seenOnce;\u001b[0m",
      "\u001b[1m\u001b[31millegal start of type\u001b[0m",
      "",
      "\u001b[1m\u001b[30m|   \u001b[1m\u001b[30m    return seenOnce\u001b[0m\u001b[1m\u001b[30m\u001b[41m\u001b[0m\u001b[1m\u001b[30m;\u001b[0m",
      "\u001b[1m\u001b[31m<identifier> expected\u001b[0m",
      ""
     ]
    }
   ],
   "source": [
    "public class Solution {\n",
    "    public int solve(int[] nums) {\n",
    "        int seenOnce = 0, seenTwice = 0;\n",
    "        for (int num : nums) {\n",
    "          // first appearence: \n",
    "          // add num to seen_once \n",
    "          // don't add to seen_twice because of presence in seen_once\n",
    "\n",
    "          // second appearance: \n",
    "          // remove num from seen_once \n",
    "          // add num to seen_twice\n",
    "\n",
    "          // third appearance: \n",
    "          // don't add to seen_once because of presence in seen_twice\n",
    "          // remove num from seen_twice\n",
    "          seenOnce = ~seenTwice & (seenOnce ^ num);\n",
    "          seenTwice = ~seenOnce & (seenTwice ^ num);\n",
    "        }\n",
    "        return seenOnce;\n",
    "    }\n",
    "}"
   ]
  },
  {
   "cell_type": "code",
   "execution_count": 12,
   "metadata": {},
   "outputs": [
    {
     "data": {
      "text/plain": [
       "99"
      ]
     },
     "execution_count": 12,
     "metadata": {},
     "output_type": "execute_result"
    }
   ],
   "source": [
    "int[] nums = {0,1,0,1,0,1,99};\n",
    "new Solution().solve(nums)"
   ]
  },
  {
   "cell_type": "code",
   "execution_count": 11,
   "metadata": {},
   "outputs": [
    {
     "data": {
      "text/plain": [
       "3"
      ]
     },
     "execution_count": 11,
     "metadata": {},
     "output_type": "execute_result"
    }
   ],
   "source": [
    "int[] nums = {2,2,3,2};\n",
    "new Solution().solve(nums)"
   ]
  }
 ],
 "metadata": {
  "kernelspec": {
   "display_name": "Java",
   "language": "java",
   "name": "java"
  },
  "language_info": {
   "codemirror_mode": "java",
   "file_extension": ".jshell",
   "mimetype": "text/x-java-source",
   "name": "Java",
   "pygments_lexer": "java",
   "version": "11.0.3+7"
  }
 },
 "nbformat": 4,
 "nbformat_minor": 2
}
