{
 "cells": [
  {
   "cell_type": "markdown",
   "metadata": {},
   "source": [
    "Given a string, sort it in decreasing order based on the frequency of characters.\n",
    "\n",
    "Example 1:\n",
    "```\n",
    "Input:\n",
    "\"tree\"\n",
    "\n",
    "Output:\n",
    "\"eert\"\n",
    "\n",
    "Explanation:\n",
    "'e' appears twice while 'r' and 't' both appear once.\n",
    "So 'e' must appear before both 'r' and 't'. Therefore \"eetr\" is also a valid answer.\n",
    "```\n",
    "Example 2:\n",
    "```\n",
    "Input:\n",
    "\"cccaaa\"\n",
    "\n",
    "Output:\n",
    "\"cccaaa\"\n",
    "\n",
    "Explanation:\n",
    "Both 'c' and 'a' appear three times, so \"aaaccc\" is also a valid answer.\n",
    "Note that \"cacaca\" is incorrect, as the same characters must be together.\n",
    "```\n",
    "Example 3:\n",
    "```\n",
    "Input:\n",
    "\"Aabb\"\n",
    "\n",
    "Output:\n",
    "\"bbAa\"\n",
    "\n",
    "Explanation:\n",
    "\"bbaA\" is also a valid answer, but \"Aabb\" is incorrect.\n",
    "Note that 'A' and 'a' are treated as two different characters.\n",
    "```"
   ]
  },
  {
   "cell_type": "markdown",
   "metadata": {},
   "source": [
    "Time Complexity $O(nlogn)$"
   ]
  },
  {
   "cell_type": "code",
   "execution_count": 5,
   "metadata": {},
   "outputs": [],
   "source": [
    "public class Solution {\n",
    "    public String frequencySort(String s) {\n",
    "        Map<Character, Integer> counter = new HashMap<>();\n",
    "        int len = s.length();\n",
    "        for (int i = 0; i < len; ++i) {\n",
    "            char c = s.charAt(i);\n",
    "            counter.put(c, counter.getOrDefault(c, 0) + 1);\n",
    "        }\n",
    "        List<Character> chars = new ArrayList<>(counter.keySet());\n",
    "        Collections.sort(chars, (x, y) -> counter.get(y) - counter.get(x));\n",
    "        StringBuilder result = new StringBuilder();\n",
    "        for (char c : chars) {\n",
    "            char[] t = new char[counter.get(c)];\n",
    "            result.append(new String(t).replace(\"\\0\", Character.toString(c)));\n",
    "        }\n",
    "        return result.toString();\n",
    "    }\n",
    "}"
   ]
  },
  {
   "cell_type": "code",
   "execution_count": 6,
   "metadata": {},
   "outputs": [
    {
     "data": {
      "text/plain": [
       "eert"
      ]
     },
     "execution_count": 6,
     "metadata": {},
     "output_type": "execute_result"
    }
   ],
   "source": [
    "new Solution().frequencySort(\"tree\");"
   ]
  },
  {
   "cell_type": "code",
   "execution_count": 7,
   "metadata": {},
   "outputs": [
    {
     "data": {
      "text/plain": [
       "aaaccc"
      ]
     },
     "execution_count": 7,
     "metadata": {},
     "output_type": "execute_result"
    }
   ],
   "source": [
    "new Solution().frequencySort(\"cccaaa\");"
   ]
  },
  {
   "cell_type": "markdown",
   "metadata": {},
   "source": [
    "Time Complexity $O(N)$"
   ]
  },
  {
   "cell_type": "code",
   "execution_count": 44,
   "metadata": {},
   "outputs": [],
   "source": [
    "public class Solution2 {\n",
    "    public String frequencySort(String s) {\n",
    "        Map<Character, Integer> counter = new HashMap<>();\n",
    "        int len = s.length();\n",
    "        for (int i = 0; i < len; ++i) {\n",
    "            char c = s.charAt(i);\n",
    "            counter.put(c, counter.getOrDefault(c, 0) + 1);\n",
    "        }\n",
    "        List<List<Character>> buckets = new ArrayList<>();\n",
    "        int max = Collections.max(counter.values());\n",
    "        for (int i = 0; i <= max; ++i) {\n",
    "            buckets.add(new ArrayList<>());\n",
    "        }\n",
    "        for (int i = 0; i < len; ++i) {\n",
    "            char c = s.charAt(i);\n",
    "            buckets.get(counter.get(c)).add(c);\n",
    "        }\n",
    "        StringBuilder result = new StringBuilder();\n",
    "        for (int i = max; i > 0; --i) {\n",
    "            for (Character c : buckets.get(i)) {\n",
    "                result.append(c);\n",
    "            }\n",
    "        }\n",
    "        return result.toString();\n",
    "    }\n",
    "}"
   ]
  },
  {
   "cell_type": "code",
   "execution_count": 45,
   "metadata": {},
   "outputs": [
    {
     "data": {
      "text/plain": [
       "eetr"
      ]
     },
     "execution_count": 45,
     "metadata": {},
     "output_type": "execute_result"
    }
   ],
   "source": [
    "new Solution2().frequencySort(\"tree\");"
   ]
  },
  {
   "cell_type": "code",
   "execution_count": 46,
   "metadata": {},
   "outputs": [
    {
     "data": {
      "text/plain": [
       "aaaccc"
      ]
     },
     "execution_count": 46,
     "metadata": {},
     "output_type": "execute_result"
    }
   ],
   "source": [
    "new Solution().frequencySort(\"cccaaa\");"
   ]
  },
  {
   "cell_type": "code",
   "execution_count": null,
   "metadata": {},
   "outputs": [],
   "source": []
  }
 ],
 "metadata": {
  "kernelspec": {
   "display_name": "Java",
   "language": "java",
   "name": "java"
  },
  "language_info": {
   "codemirror_mode": "java",
   "file_extension": ".jshell",
   "mimetype": "text/x-java-source",
   "name": "Java",
   "pygments_lexer": "java",
   "version": "11.0.3+7"
  }
 },
 "nbformat": 4,
 "nbformat_minor": 2
}
