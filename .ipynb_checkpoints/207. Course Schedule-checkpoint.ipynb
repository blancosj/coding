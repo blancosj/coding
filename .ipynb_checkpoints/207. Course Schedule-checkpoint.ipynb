{
 "cells": [
  {
   "cell_type": "markdown",
   "metadata": {},
   "source": [
    "There are a total of numCourses courses you have to take, labeled from 0 to numCourses-1.\n",
    "\n",
    "Some courses may have prerequisites, for example to take course 0 you have to first take course 1, which is expressed as a pair: [0,1]\n",
    "\n",
    "Given the total number of courses and a list of prerequisite pairs, is it possible for you to finish all courses?\n",
    "```\n",
    "Example 1:\n",
    "\n",
    "Input: numCourses = 2, prerequisites = [[1,0]]\n",
    "Output: true\n",
    "Explanation: There are a total of 2 courses to take. \n",
    "             To take course 1 you should have finished course 0. So it is possible.\n",
    "```\n",
    "Example 2:\n",
    "```\n",
    "Input: numCourses = 2, prerequisites = [[1,0],[0,1]]\n",
    "Output: false\n",
    "Explanation: There are a total of 2 courses to take. \n",
    "             To take course 1 you should have finished course 0, and to take course 0 you should\n",
    "             also have finished course 1. So it is impossible.\n",
    "```\n",
    "Constraints:\n",
    "\n",
    "* The input prerequisites is a graph represented by a list of edges, not adjacency matrices. Read more about how a graph is represented.\n",
    "* You may assume that there are no duplicate edges in the input prerequisites.\n",
    "* 1 <= numCourses <= 10^5"
   ]
  },
  {
   "cell_type": "code",
   "execution_count": 43,
   "metadata": {},
   "outputs": [],
   "source": [
    "public class Solution {\n",
    "    private int maxCourses = 0;\n",
    "    public boolean canFinish(int numCourses, int[][] prerequisites) {\n",
    "        Node[] nodes = new Node[numCourses];\n",
    "        for (int i = 0; i < numCourses; ++i) nodes[i] = new Node();\n",
    "        for (int[] prerequisite : prerequisites) {\n",
    "            nodes[prerequisite[1]].neighbors.add(nodes[prerequisite[0]]);\n",
    "        }\n",
    "        int n = prerequisites.length;\n",
    "        for (int i = 0; i < n; ++i) {\n",
    "            Node node = nodes[i];\n",
    "            if (!node.visited) {\n",
    "                if (!dfs(node)) return false;\n",
    "            }\n",
    "        }\n",
    "        return maxCourses >= numCourses;\n",
    "    }\n",
    "    public boolean dfs(Node node) {\n",
    "        if (node.stacked) return false;\n",
    "        if (node.visited) return true;\n",
    "        maxCourses++;\n",
    "        node.stacked = true;\n",
    "        node.visited = true;\n",
    "        for (Node neighbor : node.neighbors) {\n",
    "            if (!dfs(neighbor)) {\n",
    "                return false;\n",
    "            }\n",
    "        }\n",
    "        node.stacked = false;\n",
    "        return true;\n",
    "    }\n",
    "    private static class Node {\n",
    "        boolean visited = false;\n",
    "        boolean stacked = false;\n",
    "        List<Node> neighbors = new ArrayList<>();\n",
    "    }\n",
    "}"
   ]
  },
  {
   "cell_type": "code",
   "execution_count": 44,
   "metadata": {},
   "outputs": [
    {
     "data": {
      "text/plain": [
       "false"
      ]
     },
     "execution_count": 44,
     "metadata": {},
     "output_type": "execute_result"
    }
   ],
   "source": [
    "int[][] edges1 = {{1,0},{0,1}};\n",
    "new Solution().canFinish(2, edges1);"
   ]
  },
  {
   "cell_type": "code",
   "execution_count": 45,
   "metadata": {},
   "outputs": [
    {
     "data": {
      "text/plain": [
       "true"
      ]
     },
     "execution_count": 45,
     "metadata": {},
     "output_type": "execute_result"
    }
   ],
   "source": [
    "int[][] edges1 = {{1,0}};\n",
    "new Solution().canFinish(2, edges1);"
   ]
  },
  {
   "cell_type": "code",
   "execution_count": 77,
   "metadata": {},
   "outputs": [],
   "source": [
    "public class Solution2 {\n",
    "    public boolean canFinish(int numCourses, int[][] prerequisites) {\n",
    "        Stack<Node> stack = new Stack<>();\n",
    "        Node[] nodes = new Node[numCourses];\n",
    "        for (int i = 0; i < numCourses; ++i) nodes[i] = new Node(i);\n",
    "        for (int[] prerequisite : prerequisites) {\n",
    "            nodes[prerequisite[0]].neighbors.add(nodes[prerequisite[1]]);\n",
    "        }\n",
    "        for (Node node : nodes) {\n",
    "            if (!node.visited && !dfs(node, stack)) return false;\n",
    "        }\n",
    "        while (!stack.isEmpty()) {\n",
    "            System.out.print(stack.pop().val + \", \");\n",
    "        }\n",
    "        return stack.size() >= numCourses;\n",
    "    }\n",
    "    private boolean dfs(Node node, Stack<Node> stack) {\n",
    "        if (node.stacked) return false;\n",
    "        if (node.visited) return true;\n",
    "        stack.push(node);\n",
    "        node.stacked = true;\n",
    "        node.visited = true;\n",
    "        for (Node neighbor : node.neighbors) {\n",
    "            if (!dfs(neighbor, stack)) return false;\n",
    "        }\n",
    "        node.stacked = false;\n",
    "        return true;\n",
    "    }\n",
    "    private static class Node {\n",
    "        boolean stacked = false;\n",
    "        boolean visited = false;\n",
    "        int val = -1;\n",
    "        List<Node> neighbors = new ArrayList<>();\n",
    "        public Node(int val) {\n",
    "            this.val = val;\n",
    "        }\n",
    "        @Override\n",
    "        public String toString() {\n",
    "            return String.valueOf(val);\n",
    "        }\n",
    "    }\n",
    "}"
   ]
  },
  {
   "cell_type": "code",
   "execution_count": 78,
   "metadata": {},
   "outputs": [
    {
     "name": "stdout",
     "output_type": "stream",
     "text": [
      "1, 0, "
     ]
    },
    {
     "data": {
      "text/plain": [
       "true"
      ]
     },
     "execution_count": 78,
     "metadata": {},
     "output_type": "execute_result"
    }
   ],
   "source": [
    "int[][] edges1 = {{1, 0}};\n",
    "int numCourses1 = 2;\n",
    "new Solution2().canFinish(numCourses1, edges1);"
   ]
  },
  {
   "cell_type": "code",
   "execution_count": 79,
   "metadata": {},
   "outputs": [
    {
     "data": {
      "text/plain": [
       "false"
      ]
     },
     "execution_count": 79,
     "metadata": {},
     "output_type": "execute_result"
    }
   ],
   "source": [
    "int[][] edges1 = {{1, 0}, {0, 1}};\n",
    "int numCourses1 = 2;\n",
    "new Solution2().canFinish(numCourses1, edges1);"
   ]
  },
  {
   "cell_type": "code",
   "execution_count": 80,
   "metadata": {},
   "outputs": [
    {
     "name": "stdout",
     "output_type": "stream",
     "text": [
      "4, 3, 2, 1, 0, "
     ]
    },
    {
     "data": {
      "text/plain": [
       "true"
      ]
     },
     "execution_count": 80,
     "metadata": {},
     "output_type": "execute_result"
    }
   ],
   "source": [
    "int[][] edges1 = {{1,0}};\n",
    "int numCourses1 = 5;\n",
    "new Solution2().canFinish(numCourses1, edges1);"
   ]
  },
  {
   "cell_type": "code",
   "execution_count": 81,
   "metadata": {},
   "outputs": [
    {
     "name": "stdout",
     "output_type": "stream",
     "text": [
      "3, 2, 4, 1, 0, "
     ]
    },
    {
     "data": {
      "text/plain": [
       "true"
      ]
     },
     "execution_count": 81,
     "metadata": {},
     "output_type": "execute_result"
    }
   ],
   "source": [
    "int[][] edges1 = {{0,1}, {4,2}, {2,3}, {1,4}};\n",
    "int numCourses1 = 5;\n",
    "new Solution2().canFinish(numCourses1, edges1);"
   ]
  },
  {
   "cell_type": "code",
   "execution_count": null,
   "metadata": {},
   "outputs": [],
   "source": []
  }
 ],
 "metadata": {
  "kernelspec": {
   "display_name": "Java",
   "language": "java",
   "name": "java"
  },
  "language_info": {
   "codemirror_mode": "java",
   "file_extension": ".jshell",
   "mimetype": "text/x-java-source",
   "name": "Java",
   "pygments_lexer": "java",
   "version": "11.0.3+7"
  }
 },
 "nbformat": 4,
 "nbformat_minor": 2
}
