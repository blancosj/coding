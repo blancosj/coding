{
 "cells": [
  {
   "cell_type": "markdown",
   "metadata": {},
   "source": [
    "Write a function to check whether an input string is a valid IPv4 address or IPv6 address or neither.\n",
    "\n",
    "__IPv4__ addresses are canonically represented in dot-decimal notation, which consists of four decimal numbers, each ranging from 0 to 255, separated by dots (\".\"), e.g.,172.16.254.1;\n",
    "\n",
    "Besides, leading zeros in the IPv4 is invalid. For example, the address 172.16.254.01 is invalid.\n",
    "\n",
    "__IPv6__ addresses are represented as eight groups of four hexadecimal digits, each group representing 16 bits. The groups are separated by colons (\":\"). For example, the address 2001:0db8:85a3:0000:0000:8a2e:0370:7334 is a valid one. Also, we could omit some leading zeros among four hexadecimal digits and some low-case characters in the address to upper-case ones, so 2001:db8:85a3:0:0:8A2E:0370:7334 is also a valid IPv6 address(Omit leading zeros and using upper cases).\n",
    "\n",
    "However, we don't replace a consecutive group of zero value with a single empty group using two consecutive colons (::) to pursue simplicity. For example, 2001:0db8:85a3::8A2E:0370:7334 is an invalid IPv6 address.\n",
    "\n",
    "Besides, extra leading zeros in the IPv6 is also invalid. For example, the address 02001:0db8:85a3:0000:0000:8a2e:0370:7334 is invalid.\n",
    "\n",
    "Note: You may assume there is no extra space or special characters in the input string.\n",
    "\n",
    "__Example 1:__\n",
    "```\n",
    "Input: \"172.16.254.1\"\n",
    "Output: \"IPv4\"\n",
    "Explanation: This is a valid IPv4 address, return \"IPv4\".\n",
    "```\n",
    "__Example 2:__\n",
    "```\n",
    "Input: \"2001:0db8:85a3:0:0:8A2E:0370:7334\"\n",
    "Output: \"IPv6\"\n",
    "Explanation: This is a valid IPv6 address, return \"IPv6\".\n",
    "```\n",
    "__Example 3:__\n",
    "```\n",
    "Input: \"256.256.256.256\"\n",
    "Output: \"Neither\"\n",
    "Explanation: This is neither a IPv4 address nor a IPv6 address.\n",
    "```"
   ]
  },
  {
   "cell_type": "code",
   "execution_count": 58,
   "metadata": {},
   "outputs": [],
   "source": [
    "public class Solution {\n",
    "    public String validIPAddress(String IP) {\n",
    "        if (validIPv4(IP)) return \"IPv4\";\n",
    "        if (validIPv6(IP)) return \"IPv6\";\n",
    "        return \"Neither\";\n",
    "    }\n",
    "    private boolean validIPv4(String IP) {\n",
    "        String[] nums = IP.split(\"\\\\.\", -1);\n",
    "        if (nums.length > 4) return false;\n",
    "        for (String num : nums) {\n",
    "            if (num.length() == 0 || num.length() > 3) return false;\n",
    "            if (num.charAt(0) == '0' && num.length() > 1) return false;\n",
    "            for (int i = 0; i < num.length(); ++i) {\n",
    "                char c = num.charAt(i);\n",
    "                if (c < '0' || c > '9') return false;\n",
    "            }\n",
    "            if (Integer.parseInt(num) > 255) return false;\n",
    "        }\n",
    "        return true;\n",
    "    }\n",
    "    private boolean validIPv6(String IP) {\n",
    "        String[] nums = IP.split(\"\\\\:\", -1);\n",
    "        if (nums.length != 8) return false;\n",
    "        for (String num : nums) {\n",
    "            if (num.length() == 0 || num.length() > 4) return false;\n",
    "            for (int i = 0; i < num.length(); ++i) {\n",
    "                char c = num.charAt(i);\n",
    "                if (c >= '0' && c <= '9') continue;\n",
    "                if (c >= 'a' && c <= 'f') continue;\n",
    "                if (c >= 'A' && c <= 'F') continue;\n",
    "                return false;\n",
    "            }\n",
    "        }\n",
    "        return true;\n",
    "    }\n",
    "}"
   ]
  },
  {
   "cell_type": "code",
   "execution_count": 59,
   "metadata": {},
   "outputs": [],
   "source": [
    "// \"2001:db8:85a3:0::8a2E:0370:7334\" - \"Neither\"\n",
    "// \"01.01.01.01\" - \"Neither\"\n",
    "// \"1.0.1.\" - \"Neither\"\n",
    "// \"1.1.1.1.\" - \"Neither\"\n",
    "// \"2001:0db8:85a3:0:0:8A2E:0370:7334:\" - \"Neither\"\n",
    "// \"2001:db8:85a3:0:0:8A2E:0370:7334\" - \"IPv6\"\n",
    "// \"172.16.254.1\" - \"IPv4\""
   ]
  },
  {
   "cell_type": "code",
   "execution_count": 60,
   "metadata": {},
   "outputs": [
    {
     "data": {
      "text/plain": [
       "Neither"
      ]
     },
     "execution_count": 60,
     "metadata": {},
     "output_type": "execute_result"
    }
   ],
   "source": [
    "new Solution().validIPAddress(\"01.01.01.01\");"
   ]
  },
  {
   "cell_type": "code",
   "execution_count": 61,
   "metadata": {},
   "outputs": [
    {
     "data": {
      "text/plain": [
       "Neither"
      ]
     },
     "execution_count": 61,
     "metadata": {},
     "output_type": "execute_result"
    }
   ],
   "source": [
    "new Solution().validIPAddress(\"1.0.1.\");"
   ]
  },
  {
   "cell_type": "code",
   "execution_count": 62,
   "metadata": {},
   "outputs": [
    {
     "data": {
      "text/plain": [
       "Neither"
      ]
     },
     "execution_count": 62,
     "metadata": {},
     "output_type": "execute_result"
    }
   ],
   "source": [
    "new Solution().validIPAddress(\"1.1.1.1.\");"
   ]
  },
  {
   "cell_type": "code",
   "execution_count": 63,
   "metadata": {},
   "outputs": [
    {
     "data": {
      "text/plain": [
       "IPv4"
      ]
     },
     "execution_count": 63,
     "metadata": {},
     "output_type": "execute_result"
    }
   ],
   "source": [
    "new Solution().validIPAddress(\"172.16.254.1\");"
   ]
  },
  {
   "cell_type": "code",
   "execution_count": 64,
   "metadata": {},
   "outputs": [
    {
     "data": {
      "text/plain": [
       "Neither"
      ]
     },
     "execution_count": 64,
     "metadata": {},
     "output_type": "execute_result"
    }
   ],
   "source": [
    "new Solution().validIPAddress(\"2001:0db8:85a3:0:0:8A2E:0370:7334:\");"
   ]
  },
  {
   "cell_type": "code",
   "execution_count": 65,
   "metadata": {},
   "outputs": [
    {
     "data": {
      "text/plain": [
       "Neither"
      ]
     },
     "execution_count": 65,
     "metadata": {},
     "output_type": "execute_result"
    }
   ],
   "source": [
    "new Solution().validIPAddress(\"2001:db8:85a3:0::8a2E:0370:7334\");"
   ]
  },
  {
   "cell_type": "code",
   "execution_count": 66,
   "metadata": {},
   "outputs": [
    {
     "data": {
      "text/plain": [
       "IPv6"
      ]
     },
     "execution_count": 66,
     "metadata": {},
     "output_type": "execute_result"
    }
   ],
   "source": [
    "new Solution().validIPAddress(\"2001:db8:85a3:0:0:8A2E:0370:7334\");"
   ]
  },
  {
   "cell_type": "code",
   "execution_count": null,
   "metadata": {},
   "outputs": [],
   "source": []
  }
 ],
 "metadata": {
  "kernelspec": {
   "display_name": "Java",
   "language": "java",
   "name": "java"
  },
  "language_info": {
   "codemirror_mode": "java",
   "file_extension": ".jshell",
   "mimetype": "text/x-java-source",
   "name": "Java",
   "pygments_lexer": "java",
   "version": "11.0.3+7"
  }
 },
 "nbformat": 4,
 "nbformat_minor": 2
}
