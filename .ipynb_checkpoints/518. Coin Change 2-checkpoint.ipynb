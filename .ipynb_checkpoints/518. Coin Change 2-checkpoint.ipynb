{
 "cells": [
  {
   "cell_type": "markdown",
   "metadata": {},
   "source": [
    "You are given coins of different denominations and a total amount of money. Write a function to compute the number of combinations that make up that amount. You may assume that you have infinite number of each kind of coin.\n",
    "\n",
    "Example 1:\n",
    "```\n",
    "Input: amount = 5, coins = [1, 2, 5]\n",
    "Output: 4\n",
    "Explanation: there are four ways to make up the amount:\n",
    "5=5\n",
    "5=2+2+1\n",
    "5=2+1+1+1\n",
    "5=1+1+1+1+1\n",
    "```\n",
    "Example 2:\n",
    "```\n",
    "Input: amount = 3, coins = [2]\n",
    "Output: 0\n",
    "Explanation: the amount of 3 cannot be made up just with coins of 2.\n",
    "```\n",
    "Example 3:\n",
    "```\n",
    "Input: amount = 10, coins = [10] \n",
    "Output: 1\n",
    "```\n",
    "__Note__:\n",
    "\n",
    "You can assume that\n",
    "\n",
    "* 0 <= amount <= 5000\n",
    "* 1 <= coin <= 5000\n",
    "* the number of coins is less than 500\n",
    "* the answer is guaranteed to fit into signed 32-bit integer"
   ]
  },
  {
   "cell_type": "code",
   "execution_count": 4,
   "metadata": {},
   "outputs": [],
   "source": [
    "public class Solution {\n",
    "    public int change(int amount, int[] coins) {\n",
    "        return dfs(amount, coins, 0);\n",
    "    }\n",
    "    private int dfs(int amount, int[] coins, int i) {\n",
    "        if (amount == 0) return 1;\n",
    "        int result = 0;\n",
    "        int coin = coins[i];\n",
    "        if (amount >= coin) {\n",
    "            result += dfs(amount - coin, coins, i);\n",
    "        }\n",
    "        if (i < coins.length - 1) {\n",
    "            result += dfs(amount, coins, i + 1);\n",
    "        }\n",
    "        return result;\n",
    "    }\n",
    "}"
   ]
  },
  {
   "cell_type": "code",
   "execution_count": 5,
   "metadata": {},
   "outputs": [
    {
     "data": {
      "text/plain": [
       "4"
      ]
     },
     "execution_count": 5,
     "metadata": {},
     "output_type": "execute_result"
    }
   ],
   "source": [
    "int amount = 5;\n",
    "int[] coins = { 1, 2, 5 };\n",
    "new Solution().change(amount, coins);"
   ]
  },
  {
   "cell_type": "code",
   "execution_count": 13,
   "metadata": {},
   "outputs": [],
   "source": [
    "public class Solution {\n",
    "    public int change(int amount, int[] coins) {\n",
    "        int[] dp = new int[amount + 1];\n",
    "        // it starts with 1 because amount zero can be changed with no coins\n",
    "        dp[0] = 1;\n",
    "        \n",
    "        //   0 1 2 3 4 5\n",
    "        // 0 1 0 0 0 0 0 \n",
    "        // 1 0 1 1 1 1 1 \n",
    "        // 2 0 0 2 2 3 3 \n",
    "        // 5 0 0 0 0 0 4 => dp[coin - 1][5] + dp[5 - coin][0]\n",
    "        \n",
    "        for (int i = 0; i < coins.length; ++i) {\n",
    "            int coin = coins[i];\n",
    "            for (int j = coin; j <= amount; ++j) {\n",
    "                dp[j] += dp[j - coin]; // dynamic programming formula\n",
    "            }\n",
    "        }\n",
    "        return dp[amount];\n",
    "    }\n",
    "}"
   ]
  },
  {
   "cell_type": "code",
   "execution_count": 14,
   "metadata": {},
   "outputs": [
    {
     "data": {
      "text/plain": [
       "4"
      ]
     },
     "execution_count": 14,
     "metadata": {},
     "output_type": "execute_result"
    }
   ],
   "source": [
    "int amount = 5;\n",
    "int[] coins = { 1, 2, 5 };\n",
    "new Solution().change(amount, coins);"
   ]
  },
  {
   "cell_type": "code",
   "execution_count": null,
   "metadata": {},
   "outputs": [],
   "source": []
  }
 ],
 "metadata": {
  "kernelspec": {
   "display_name": "Java",
   "language": "java",
   "name": "java"
  },
  "language_info": {
   "codemirror_mode": "java",
   "file_extension": ".jshell",
   "mimetype": "text/x-java-source",
   "name": "Java",
   "pygments_lexer": "java",
   "version": "11.0.3+7"
  }
 },
 "nbformat": 4,
 "nbformat_minor": 2
}
