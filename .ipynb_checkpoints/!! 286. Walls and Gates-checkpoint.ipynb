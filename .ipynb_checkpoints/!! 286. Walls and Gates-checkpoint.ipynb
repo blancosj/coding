{
 "cells": [
  {
   "cell_type": "markdown",
   "metadata": {},
   "source": [
    "You are given a m x n 2D grid initialized with these three possible values.\n",
    "\n",
    "* -1 - A wall or an obstacle.\n",
    "* 0 - A gate.\n",
    "* INF - Infinity means an empty room. We use the value 231 - 1 = 2147483647 to represent INF as you may assume that the distance to a gate is less than 2147483647.\n",
    "\n",
    "Fill each empty room with the distance to its nearest gate. If it is impossible to reach a gate, it should be filled with INF.\n",
    "\n",
    "__Example:__\n",
    "\n",
    "Given the 2D grid:\n",
    "```\n",
    "INF  -1  0  INF\n",
    "INF INF INF  -1\n",
    "INF  -1 INF  -1\n",
    "  0  -1 INF INF\n",
    "```\n",
    "After running your function, the 2D grid should be:\n",
    "```\n",
    "  3  -1   0   1\n",
    "  2   2   1  -1\n",
    "  1  -1   2  -1\n",
    "  0  -1   3   4\n",
    "```  "
   ]
  },
  {
   "cell_type": "code",
   "execution_count": null,
   "metadata": {},
   "outputs": [],
   "source": []
  }
 ],
 "metadata": {
  "kernelspec": {
   "display_name": "Java",
   "language": "java",
   "name": "java"
  },
  "language_info": {
   "codemirror_mode": "java",
   "file_extension": ".jshell",
   "mimetype": "text/x-java-source",
   "name": "Java",
   "pygments_lexer": "java",
   "version": "11.0.3+7"
  }
 },
 "nbformat": 4,
 "nbformat_minor": 2
}
