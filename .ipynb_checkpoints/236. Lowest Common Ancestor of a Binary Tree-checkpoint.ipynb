{
 "cells": [
  {
   "cell_type": "markdown",
   "metadata": {},
   "source": [
    "Given a binary tree, find the lowest common ancestor (LCA) of two given nodes in the tree.\n",
    "\n",
    "According to the definition of LCA on Wikipedia: “The lowest common ancestor is defined between two nodes p and q as the lowest node in T that has both p and q as descendants (where we allow a node to be a descendant of itself).”\n",
    "\n",
    "Given the following binary tree:  root = [3,5,1,6,2,0,8,null,null,7,4]\n",
    "\n",
    "Example 1:\n",
    "```\n",
    "Input: root = [3,5,1,6,2,0,8,null,null,7,4], p = 5, q = 1\n",
    "Output: 3\n",
    "Explanation: The LCA of nodes 5 and 1 is 3.\n",
    "```\n",
    "Example 2:\n",
    "```\n",
    "Input: root = [3,5,1,6,2,0,8,null,null,7,4], p = 5, q = 4\n",
    "Output: 5\n",
    "Explanation: The LCA of nodes 5 and 4 is 5, since a node can be a descendant of itself according to the LCA definition.\n",
    "``` \n",
    "\n",
    "__Note__:\n",
    "\n",
    "* All of the nodes' values will be unique.\n",
    "* p and q are different and both values will exist in the binary tree."
   ]
  },
  {
   "cell_type": "code",
   "execution_count": 26,
   "metadata": {},
   "outputs": [],
   "source": [
    "public class TreeNode {\n",
    "    int val;\n",
    "    TreeNode left, right;\n",
    "    TreeNode() {}\n",
    "    TreeNode(int val) {\n",
    "        this.val = val;\n",
    "    }\n",
    "    TreeNode(int val, TreeNode left, TreeNode right) {\n",
    "        this.val = val;\n",
    "        this.left = left;\n",
    "        this.right = right;\n",
    "    }\n",
    "    TreeNode search(int val) {\n",
    "        return searchHelper(this, val);\n",
    "    }\n",
    "    TreeNode searchHelper(TreeNode node, int val) {\n",
    "        if (node == null) return null;\n",
    "        if (node.val == val) return node;\n",
    "        TreeNode left = searchHelper(node.left, val);\n",
    "        if (left != null) return left;\n",
    "        TreeNode right = searchHelper(node.right, val);\n",
    "        if (right != null) return right;\n",
    "        return null;\n",
    "    } \n",
    "    @Override\n",
    "    public String toString() {\n",
    "        StringBuilder result = new StringBuilder();\n",
    "        Queue<TreeNode> queue = new LinkedList<>();\n",
    "        queue.add(this);\n",
    "        while (!queue.isEmpty()) {\n",
    "            int sizeDepth = queue.size();\n",
    "            for (int i = 0; i < sizeDepth; ++i) {\n",
    "                TreeNode cur = queue.remove();\n",
    "                result.append(cur.val).append(\",\");\n",
    "                if (cur.left != null) {\n",
    "                    queue.add(cur.left);\n",
    "                }\n",
    "                if (cur.right != null) {\n",
    "                    queue.add(cur.right);\n",
    "                }\n",
    "            }\n",
    "        }\n",
    "        return result.toString();\n",
    "    }\n",
    "    public static TreeNode build(Integer[] nums) {\n",
    "        TreeNode root = new TreeNode(nums[0]);\n",
    "        int n = nums.length;\n",
    "        root.left = dfs(nums, n, 1);\n",
    "        root.right = dfs(nums, n, 2);\n",
    "        return root;\n",
    "    }\n",
    "    private static TreeNode dfs(Integer[] nums, int n, int start) {\n",
    "        if (start >= n) return null;\n",
    "        if (nums[start] == null) return null;\n",
    "        TreeNode node = new TreeNode(nums[start]);\n",
    "        node.left = dfs(nums, n, (start << 1) + 1);\n",
    "        node.right = dfs(nums, n, (start << 1) + 2);\n",
    "        return node;\n",
    "    }\n",
    "}"
   ]
  },
  {
   "cell_type": "markdown",
   "metadata": {},
   "source": [
    "Time Complexity $O(n)$"
   ]
  },
  {
   "cell_type": "code",
   "execution_count": 39,
   "metadata": {},
   "outputs": [],
   "source": [
    "// recursion\n",
    "public class Solution {\n",
    "    public TreeNode LCA(TreeNode root, TreeNode p, TreeNode q) {\n",
    "        return dfs(root, p, q);\n",
    "    }\n",
    "    private TreeNode dfs(TreeNode node, TreeNode p, TreeNode q) {\n",
    "        if (node == null) return null;\n",
    "        if (node.val == p.val || node.val == q.val) return node; \n",
    "        TreeNode left = dfs(node.left, p, q);\n",
    "        TreeNode right = dfs(node.right, p, q);\n",
    "        if (left != null && right != null) return node;\n",
    "        if (left != null) return left;\n",
    "        if (right != null) return right;\n",
    "        return null;\n",
    "    }\n",
    "}"
   ]
  },
  {
   "cell_type": "code",
   "execution_count": 40,
   "metadata": {},
   "outputs": [
    {
     "data": {
      "text/plain": [
       "3,5,1,6,2,0,8,7,4,"
      ]
     },
     "execution_count": 40,
     "metadata": {},
     "output_type": "execute_result"
    }
   ],
   "source": [
    "Integer[] nums = {3,5,1,6,2,0,8,null,null,7,4};\n",
    "TreeNode root = TreeNode.build(nums);\n",
    "TreeNode p = root.search(5);\n",
    "TreeNode q = root.search(1);\n",
    "new Solution().LCA(root, p, q);"
   ]
  },
  {
   "cell_type": "markdown",
   "metadata": {},
   "source": [
    "Time Complexity $O(n)$"
   ]
  },
  {
   "cell_type": "code",
   "execution_count": 65,
   "metadata": {},
   "outputs": [],
   "source": [
    "// iterative queue\n",
    "public class Solution {\n",
    "    public TreeNode LCA(TreeNode root, TreeNode p, TreeNode q) {\n",
    "        Stack<TreeNodeInfo> stack = new Stack<>();\n",
    "        stack.push(new TreeNodeInfo(root));\n",
    "        TreeNode answer = null;\n",
    "        while (!stack.isEmpty()) {\n",
    "            TreeNodeInfo cur = stack.peek();\n",
    "            if (cur.status != DONE) {\n",
    "                if (cur.status == PENDING) {\n",
    "                    if (cur.node.val == p.val || cur.node.val == q.val) {\n",
    "                        if (answer != null) {\n",
    "                            return answer;\n",
    "                        }\n",
    "                        answer = cur.node;\n",
    "                    }\n",
    "                    if (cur.node.left != null) stack.push(new TreeNodeInfo(cur.node.left));\n",
    "                    cur.status = LEFT_DONE;\n",
    "                } else if (cur.status == LEFT_DONE) {\n",
    "                    if (cur.node.right != null) stack.push(new TreeNodeInfo(cur.node.right));\n",
    "                    cur.status = DONE;\n",
    "                }\n",
    "            } else {\n",
    "                if (answer != null && stack.pop().node.val == answer.val) {\n",
    "                    answer = stack.peek().node;\n",
    "                }\n",
    "            }\n",
    "        }\n",
    "        return answer;\n",
    "    }\n",
    "    static int PENDING = 0;\n",
    "    static int LEFT_DONE = 1;\n",
    "    static int DONE = 2;\n",
    "    private class TreeNodeInfo {\n",
    "        TreeNode node;\n",
    "        int status;\n",
    "        TreeNodeInfo(TreeNode node) {\n",
    "            this.node = node;\n",
    "        }\n",
    "    }\n",
    "}"
   ]
  },
  {
   "cell_type": "code",
   "execution_count": 66,
   "metadata": {},
   "outputs": [
    {
     "data": {
      "text/plain": [
       "3,5,1,6,2,0,8,"
      ]
     },
     "execution_count": 66,
     "metadata": {},
     "output_type": "execute_result"
    }
   ],
   "source": [
    "Integer[] nums = {3,5,1,6,2,0,8};\n",
    "TreeNode root = TreeNode.build(nums);\n",
    "TreeNode p = root.search(5);\n",
    "TreeNode q = root.search(8);\n",
    "new Solution().LCA(root, p, q);"
   ]
  },
  {
   "cell_type": "code",
   "execution_count": null,
   "metadata": {},
   "outputs": [],
   "source": []
  }
 ],
 "metadata": {
  "kernelspec": {
   "display_name": "Java",
   "language": "java",
   "name": "java"
  },
  "language_info": {
   "codemirror_mode": "java",
   "file_extension": ".jshell",
   "mimetype": "text/x-java-source",
   "name": "Java",
   "pygments_lexer": "java",
   "version": "11.0.3+7"
  }
 },
 "nbformat": 4,
 "nbformat_minor": 2
}
