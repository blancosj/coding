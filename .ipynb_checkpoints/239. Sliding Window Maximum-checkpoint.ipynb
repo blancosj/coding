{
 "cells": [
  {
   "cell_type": "markdown",
   "metadata": {},
   "source": [
    "Given an array nums, there is a sliding window of size k which is moving from the very left of the array to the very right. You can only see the k numbers in the window. Each time the sliding window moves right by one position. Return the max sliding window.\n",
    "\n",
    "Follow up:\n",
    "Could you solve it in linear time?\n",
    "\n",
    "Example:\n",
    "```\n",
    "Input: nums = [1,3,-1,-3,5,3,6,7], and k = 3\n",
    "Output: [3,3,5,5,6,7] \n",
    "```\n",
    "Explanation: \n",
    "```\n",
    "Window position                Max\n",
    "---------------               -----\n",
    "[1  3  -1] -3  5  3  6  7       3\n",
    " 1 [3  -1  -3] 5  3  6  7       3\n",
    " 1  3 [-1  -3  5] 3  6  7       5\n",
    " 1  3  -1 [-3  5  3] 6  7       5\n",
    " 1  3  -1  -3 [5  3  6] 7       6\n",
    " 1  3  -1  -3  5 [3  6  7]      7\n",
    "``` \n",
    "Constraints:\n",
    "\n",
    "* 1 <= nums.length <= 10^5\n",
    "* -10^4 <= nums[i] <= 10^4\n",
    "* 1 <= k <= nums.length"
   ]
  },
  {
   "cell_type": "markdown",
   "metadata": {},
   "source": [
    "Time Complexity $O(n)$"
   ]
  },
  {
   "cell_type": "code",
   "execution_count": 6,
   "metadata": {},
   "outputs": [],
   "source": [
    "public class Solution {\n",
    "    public int[] maxSlidingWindow(int[] nums, int k) {\n",
    "        // load first window\n",
    "        LinkedList<Integer> list = new LinkedList<>();\n",
    "        int n = nums.length;\n",
    "        for (int i = 0; i < k; ++i) {\n",
    "            clearlist(list, nums, k, i);\n",
    "            list.add(i);\n",
    "        }\n",
    "        int[] answer = new int[n - k + 1];\n",
    "        answer[0] = nums[list.getFirst()];\n",
    "        for (int i = k; i < n; ++i) {\n",
    "            clearlist(list, nums, k, i);\n",
    "            list.add(i);\n",
    "            answer[i - k + 1] = nums[list.getFirst()];\n",
    "        }\n",
    "        return answer;\n",
    "    }\n",
    "    private void clearlist(LinkedList<Integer> list, int[] nums, int k, int i) {\n",
    "        if (!list.isEmpty() && list.getFirst() == i - k) list.removeFirst();\n",
    "        while (!list.isEmpty() && nums[list.getLast()] < nums[i]) list.removeLast();\n",
    "    }\n",
    "}"
   ]
  },
  {
   "cell_type": "code",
   "execution_count": 7,
   "metadata": {},
   "outputs": [
    {
     "data": {
      "text/plain": [
       "[3, 3, 5, 5, 6, 7]"
      ]
     },
     "execution_count": 7,
     "metadata": {},
     "output_type": "execute_result"
    }
   ],
   "source": [
    "int[] nums = {1,3,-1,-3,5,3,6,7};\n",
    "int k = 3;\n",
    "Arrays.toString(new Solution().maxSlidingWindow(nums, k));"
   ]
  },
  {
   "cell_type": "code",
   "execution_count": 8,
   "metadata": {},
   "outputs": [
    {
     "data": {
      "text/plain": [
       "[3, 3, 2, 5]"
      ]
     },
     "execution_count": 8,
     "metadata": {},
     "output_type": "execute_result"
    }
   ],
   "source": [
    "int[] nums = {1,3,1,2,0,5};\n",
    "int k = 3;\n",
    "Arrays.toString(new Solution().maxSlidingWindow(nums, k));"
   ]
  },
  {
   "cell_type": "code",
   "execution_count": null,
   "metadata": {},
   "outputs": [],
   "source": []
  }
 ],
 "metadata": {
  "kernelspec": {
   "display_name": "Java",
   "language": "java",
   "name": "java"
  },
  "language_info": {
   "codemirror_mode": "java",
   "file_extension": ".jshell",
   "mimetype": "text/x-java-source",
   "name": "Java",
   "pygments_lexer": "java",
   "version": "11.0.3+7"
  }
 },
 "nbformat": 4,
 "nbformat_minor": 2
}
