{
 "cells": [
  {
   "cell_type": "markdown",
   "metadata": {},
   "source": [
    "Given an integer array nums, find the sum of the elements between indices i and j (i ≤ j), inclusive.\n",
    "\n",
    "The update(i, val) function modifies nums by updating the element at index i to val.\n",
    "\n",
    "Example:\n",
    "```\n",
    "Given nums = [1, 3, 5]\n",
    "\n",
    "sumRange(0, 2) -> 9\n",
    "update(1, 2)\n",
    "sumRange(0, 2) -> 8\n",
    "```\n",
    "Note:\n",
    "```\n",
    "The array is only modifiable by the update function.\n",
    "You may assume the number of calls to update and sumRange function is distributed evenly.\n",
    "```"
   ]
  },
  {
   "cell_type": "code",
   "execution_count": 18,
   "metadata": {},
   "outputs": [],
   "source": [
    "public class NumArray {\n",
    "    TreeNode root;\n",
    "    public NumArray(int[] nums) {\n",
    "        root = buildTree(nums, 0, nums.length - 1);\n",
    "    }\n",
    "    public void update(int i, int val) {\n",
    "        update(root, i, val);\n",
    "    }\n",
    "    public int sumRange(int i, int j) {\n",
    "        return sumRange(root, i, j);\n",
    "    }\n",
    "    private void update(TreeNode node, int i, int val) {\n",
    "        if (node.start == node.end) {\n",
    "            node.sum = val;\n",
    "            return;\n",
    "        }\n",
    "        int m = (node.start + node.end) / 2;\n",
    "        if (i <= m) {\n",
    "            update(node.left, i, val);\n",
    "        } else {\n",
    "            update(node.right, i, val);\n",
    "        }\n",
    "        node.sum = node.left.sum + node.right.sum;\n",
    "    }\n",
    "    private int sumRange(TreeNode node, int start, int end) {\n",
    "        if (node.start == start && node.end == end) return node.sum;\n",
    "        int m = (node.start + node.end) / 2;\n",
    "        if (end >= m) {\n",
    "            return sumRange(node.left, start, end);\n",
    "        } else if (start >= m + 1) {\n",
    "            return sumRange(node.right, start, end);\n",
    "        } else {\n",
    "            return sumRange(node.left, start, m)\n",
    "                + sumRange(node.right, m + 1, end);\n",
    "        }\n",
    "    }\n",
    "    private TreeNode buildTree(int[] nums, int start, int end) {\n",
    "        if (start > end) return null;\n",
    "        TreeNode node = new TreeNode(start, end);\n",
    "        if (start == end) {\n",
    "            node.sum = nums[start];\n",
    "        } else {\n",
    "            int m = (start + end) / 2;\n",
    "            node.left = buildTree(nums, start, m);\n",
    "            node.right = buildTree(nums, m + 1, end);\n",
    "            node.sum = node.left.sum + node.right.sum;\n",
    "        }\n",
    "        return node;\n",
    "    }\n",
    "    public static class TreeNode {\n",
    "        int start, end;\n",
    "        TreeNode left, right;\n",
    "        int val, sum;\n",
    "        public TreeNode(int start, int end) {\n",
    "            this.start = start;\n",
    "            this.end = end;\n",
    "        }\n",
    "    }\n",
    "}"
   ]
  },
  {
   "cell_type": "code",
   "execution_count": 19,
   "metadata": {},
   "outputs": [],
   "source": [
    "int[] nums1 = { 1, 3, 5 };\n",
    "NumArray numArray = new NumArray(nums1);"
   ]
  },
  {
   "cell_type": "code",
   "execution_count": 20,
   "metadata": {},
   "outputs": [
    {
     "data": {
      "text/plain": [
       "9"
      ]
     },
     "execution_count": 20,
     "metadata": {},
     "output_type": "execute_result"
    }
   ],
   "source": [
    "numArray.sumRange(0, 2);"
   ]
  },
  {
   "cell_type": "code",
   "execution_count": 21,
   "metadata": {},
   "outputs": [],
   "source": [
    "numArray.update(1, 2);"
   ]
  },
  {
   "cell_type": "code",
   "execution_count": 22,
   "metadata": {},
   "outputs": [
    {
     "data": {
      "text/plain": [
       "8"
      ]
     },
     "execution_count": 22,
     "metadata": {},
     "output_type": "execute_result"
    }
   ],
   "source": [
    "numArray.sumRange(0, 2);"
   ]
  },
  {
   "cell_type": "code",
   "execution_count": null,
   "metadata": {},
   "outputs": [],
   "source": []
  }
 ],
 "metadata": {
  "kernelspec": {
   "display_name": "Java",
   "language": "java",
   "name": "java"
  },
  "language_info": {
   "codemirror_mode": "java",
   "file_extension": ".jshell",
   "mimetype": "text/x-java-source",
   "name": "Java",
   "pygments_lexer": "java",
   "version": "11.0.3+7"
  }
 },
 "nbformat": 4,
 "nbformat_minor": 2
}
