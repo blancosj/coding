{
 "cells": [
  {
   "cell_type": "markdown",
   "metadata": {},
   "source": [
    "Given an array nums of n integers where n > 1,  return an array output such that output[i] is equal to the product of all the elements of nums except nums[i].\n",
    "\n",
    "Example:\n",
    "```\n",
    "Input:  [1,2,3,4]\n",
    "Output: [24,12,8,6]\n",
    "Constraint: It's guaranteed that the product of the elements of any prefix or suffix of the array (including the whole array) fits in a 32 bit integer.\n",
    "```\n",
    "__Note__: Please solve it without division and in O(n).\n",
    "\n",
    "Follow up:\n",
    "Could you solve it with constant space complexity? (The output array does not count as extra space for the purpose of space complexity analysis.)"
   ]
  },
  {
   "cell_type": "code",
   "execution_count": 5,
   "metadata": {},
   "outputs": [],
   "source": [
    "public class Solution {\n",
    "    public int[] productExceptSelf(int[] nums) {\n",
    "        // prod except self is pre-prod * post-pro\n",
    "        // 1, 2, 3, 4\n",
    "        //       ^\n",
    "        int n = nums.length;\n",
    "        int[] suf_prod = new int[n];\n",
    "        suf_prod[n - 1] = nums[n - 1];\n",
    "        for (int i = n - 2; i >= 0; --i) {\n",
    "            suf_prod[i] = nums[i] * suf_prod[i + 1];  \n",
    "        }\n",
    "        int[] answer = new int[n];\n",
    "        int cur_prod = 1;\n",
    "        for (int i = 0; i < n - 1; ++i) {\n",
    "            answer[i] = cur_prod * suf_prod[i + 1];\n",
    "            cur_prod *= nums[i];\n",
    "        }\n",
    "        answer[n - 1] = cur_prod;\n",
    "        return answer;\n",
    "    }\n",
    "}"
   ]
  },
  {
   "cell_type": "code",
   "execution_count": 7,
   "metadata": {},
   "outputs": [
    {
     "data": {
      "text/plain": [
       "[24, 12, 8, 6]"
      ]
     },
     "execution_count": 7,
     "metadata": {},
     "output_type": "execute_result"
    }
   ],
   "source": [
    "int[] nums1 = { 1,2,3,4 };\n",
    "int[] result = new Solution().productExceptSelf(nums1);\n",
    "Arrays.toString(result);"
   ]
  },
  {
   "cell_type": "code",
   "execution_count": null,
   "metadata": {},
   "outputs": [],
   "source": []
  }
 ],
 "metadata": {
  "kernelspec": {
   "display_name": "Java",
   "language": "java",
   "name": "java"
  },
  "language_info": {
   "codemirror_mode": "java",
   "file_extension": ".jshell",
   "mimetype": "text/x-java-source",
   "name": "Java",
   "pygments_lexer": "java",
   "version": "11.0.3+7"
  }
 },
 "nbformat": 4,
 "nbformat_minor": 2
}
