{
 "cells": [
  {
   "cell_type": "markdown",
   "metadata": {},
   "source": [
    "Given two arrays, write a function to compute their intersection.\n",
    "\n",
    "__Example 1:__\n",
    "```\n",
    "Input: nums1 = [1,2,2,1], nums2 = [2,2]\n",
    "Output: [2,2]\n",
    "```\n",
    "__Example 2:__\n",
    "```\n",
    "Input: nums1 = [4,9,5], nums2 = [9,4,9,8,4]\n",
    "Output: [4,9]\n",
    "```\n",
    "__Note:__\n",
    "\n",
    "Each element in the result should appear as many times as it shows in both arrays.\n",
    "The result can be in any order.\n",
    "\n",
    "__Follow up:__\n",
    "\n",
    "##### What if the given array is already sorted? How would you optimize your algorithm?\n",
    "We can dropping the sort of course. It will give us linear time and constant memory complexity.\n",
    "##### What if nums1's size is small compared to nums2's size? Which algorithm is better?\n",
    "HashMap approach is a good choice here as we use a hash map for the smaller array.\n",
    "##### What if elements of nums2 are stored on disk, and the memory is limited such that you cannot load all elements into the memory at once?\n",
    "* If nums1 fits into the memory, we can use HashMap approach to collect counts for nums1 into a hash map. Then, we can sequentially load and process nums2.\n",
    "\n",
    "If neither of the arrays fit into the memory, we can apply some partial processing strategies:\n",
    "\n",
    "* Split the numeric range into subranges that fits into the memory. Modify HashMap approach to collect counts only within a given subrange, and call the method multiple times (for each subrange).\n",
    "* Use an external sort for both arrays. Modify double pointers approach to load and process arrays sequentially."
   ]
  },
  {
   "cell_type": "markdown",
   "metadata": {},
   "source": [
    "Time Complexity $\\mathcal O(n+m)$"
   ]
  },
  {
   "cell_type": "code",
   "execution_count": 1,
   "metadata": {},
   "outputs": [],
   "source": [
    "public class Solution {\n",
    "    public int[] intersect(int[] nums1, int[] nums2) {\n",
    "        Map<Integer, Integer> counter = new HashMap<>();\n",
    "        for (int num : nums1) {\n",
    "            counter.put(num, counter.getOrDefault(num, 0) + 1);\n",
    "        }\n",
    "        List<Integer> list = new ArrayList<>();\n",
    "        for (int num : nums2) {\n",
    "            if (counter.containsKey(num)) {\n",
    "                list.add(num);\n",
    "                counter.put(num, counter.get(num) - 1);\n",
    "                if (counter.get(num) == 0) counter.remove(num);\n",
    "                if (counter.size() == 0) break;\n",
    "            }\n",
    "        }\n",
    "        int[] answer = new int[list.size()];\n",
    "        for (int i = 0; i < list.size(); ++i) {\n",
    "            answer[i] = list.get(i);\n",
    "        }\n",
    "        return answer;\n",
    "    }\n",
    "}"
   ]
  },
  {
   "cell_type": "code",
   "execution_count": 4,
   "metadata": {},
   "outputs": [
    {
     "data": {
      "text/plain": [
       "[2, 2]"
      ]
     },
     "execution_count": 4,
     "metadata": {},
     "output_type": "execute_result"
    }
   ],
   "source": [
    "int[] nums1 = {1,2,2,1};\n",
    "int[] nums2 = {2,2};\n",
    "Arrays.toString(new Solution().intersect(nums1, nums2));"
   ]
  },
  {
   "cell_type": "code",
   "execution_count": 5,
   "metadata": {},
   "outputs": [
    {
     "data": {
      "text/plain": [
       "[9, 4]"
      ]
     },
     "execution_count": 5,
     "metadata": {},
     "output_type": "execute_result"
    }
   ],
   "source": [
    "int[] nums1 = {4,9,5};\n",
    "int[] nums2 = {9,4,9,8,4};\n",
    "Arrays.toString(new Solution().intersect(nums1, nums2));"
   ]
  },
  {
   "cell_type": "markdown",
   "metadata": {},
   "source": [
    "Time Complexity $\\mathcal O(n \\log n) \\times O(m \\log m)$"
   ]
  },
  {
   "cell_type": "code",
   "execution_count": 9,
   "metadata": {},
   "outputs": [],
   "source": [
    "public class Solution {\n",
    "    public int[] intersect(int[] nums1, int[] nums2) {\n",
    "        // 1 1 2 2\n",
    "        //     ^\n",
    "        // 2 2 3\n",
    "        // ^\n",
    "        Arrays.sort(nums1);\n",
    "        Arrays.sort(nums2);\n",
    "        int p = nums1.length, q = nums2.length;\n",
    "        int i = 0, j = 0;\n",
    "        List<Integer> list = new ArrayList<>();\n",
    "        while (i < p && j < q) {\n",
    "            if (nums1[i] > nums2[j]) {\n",
    "                j++;\n",
    "            } else if (nums1[i] < nums2[j]) {\n",
    "                i++;\n",
    "            } else {\n",
    "                list.add(nums1[i]);\n",
    "                i++;\n",
    "                j++;                \n",
    "            }\n",
    "        }\n",
    "        int[] answer = new int[list.size()];\n",
    "        for (int k = 0; k < list.size(); ++k) answer[k] = list.get(k);\n",
    "        return answer;\n",
    "    }\n",
    "}"
   ]
  },
  {
   "cell_type": "code",
   "execution_count": 10,
   "metadata": {},
   "outputs": [
    {
     "data": {
      "text/plain": [
       "[4, 9]"
      ]
     },
     "execution_count": 10,
     "metadata": {},
     "output_type": "execute_result"
    }
   ],
   "source": [
    "int[] nums1 = {4,9,5};\n",
    "int[] nums2 = {9,4,9,8,4};\n",
    "Arrays.toString(new Solution().intersect(nums1, nums2));"
   ]
  },
  {
   "cell_type": "code",
   "execution_count": 11,
   "metadata": {},
   "outputs": [
    {
     "data": {
      "text/plain": [
       "[2, 2]"
      ]
     },
     "execution_count": 11,
     "metadata": {},
     "output_type": "execute_result"
    }
   ],
   "source": [
    "int[] nums1 = {1,2,2,1};\n",
    "int[] nums2 = {2,2};\n",
    "Arrays.toString(new Solution().intersect(nums1, nums2));"
   ]
  },
  {
   "cell_type": "code",
   "execution_count": null,
   "metadata": {},
   "outputs": [],
   "source": []
  }
 ],
 "metadata": {
  "kernelspec": {
   "display_name": "Java",
   "language": "java",
   "name": "java"
  },
  "language_info": {
   "codemirror_mode": "java",
   "file_extension": ".jshell",
   "mimetype": "text/x-java-source",
   "name": "Java",
   "pygments_lexer": "java",
   "version": "11.0.3+7"
  }
 },
 "nbformat": 4,
 "nbformat_minor": 2
}
