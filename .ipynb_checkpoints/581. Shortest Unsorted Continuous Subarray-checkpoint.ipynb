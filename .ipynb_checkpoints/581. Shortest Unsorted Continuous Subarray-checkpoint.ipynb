{
 "cells": [
  {
   "cell_type": "markdown",
   "metadata": {},
   "source": [
    "Given an integer array, you need to find one continuous subarray that if you only sort this subarray in ascending order, then the whole array will be sorted in ascending order, too.\n",
    "\n",
    "You need to find the shortest such subarray and output its length.\n",
    "\n",
    "Example 1:\n",
    "```\n",
    "Input: [2, 6, 4, 8, 10, 9, 15]\n",
    "Output: 5\n",
    "Explanation: You need to sort [6, 4, 8, 10, 9] in ascending order to make the whole array sorted in ascending order.\n",
    "```\n",
    "__Note__:\n",
    "* Then length of the input array is in range [1, 10,000].\n",
    "* The input array may contain duplicates, so ascending order here means <=."
   ]
  },
  {
   "cell_type": "markdown",
   "metadata": {},
   "source": [
    "Time Complexity $O(n)$ Time Space $O(1)$"
   ]
  },
  {
   "cell_type": "code",
   "execution_count": 4,
   "metadata": {},
   "outputs": [],
   "source": [
    "public class Solution {\n",
    "    public int findUnsortedSubarray(int[] nums) {\n",
    "        int min = Integer.MAX_VALUE, max = Integer.MIN_VALUE;\n",
    "        int n = nums.length;\n",
    "        for (int i = 1; i < n; ++i) {\n",
    "            if (nums[i] < nums[i - 1]) {\n",
    "                min = Math.min(min, nums[i]);\n",
    "            }\n",
    "        }\n",
    "        if (min == Integer.MAX_VALUE) return 0;\n",
    "        for (int i = n - 2; i >= 0; --i) {\n",
    "            if (nums[i] > nums[i + 1]) {\n",
    "                max = Math.max(max, nums[i]);\n",
    "            }\n",
    "        }\n",
    "        int left = 0, right = 0;\n",
    "        for (int i = 0; i < n; ++i) {\n",
    "            if (nums[i] > min) {\n",
    "                left = i;\n",
    "                break;\n",
    "            }\n",
    "        }\n",
    "        for (int i = n - 1; i >= 0; --i) {\n",
    "            if (nums[i] < max) {\n",
    "                right = i;\n",
    "                break;\n",
    "            }\n",
    "        }\n",
    "        return right - left + 1;\n",
    "    }\n",
    "}"
   ]
  },
  {
   "cell_type": "code",
   "execution_count": 5,
   "metadata": {},
   "outputs": [
    {
     "data": {
      "text/plain": [
       "0"
      ]
     },
     "execution_count": 5,
     "metadata": {},
     "output_type": "execute_result"
    }
   ],
   "source": [
    "int[] nums1 = {1, 2, 3, 4};\n",
    "new Solution().findUnsortedSubarray(nums1);"
   ]
  },
  {
   "cell_type": "code",
   "execution_count": 6,
   "metadata": {},
   "outputs": [
    {
     "data": {
      "text/plain": [
       "4"
      ]
     },
     "execution_count": 6,
     "metadata": {},
     "output_type": "execute_result"
    }
   ],
   "source": [
    "int[] nums1 = {2, 3, 4, 1};\n",
    "new Solution().findUnsortedSubarray(nums1);"
   ]
  },
  {
   "cell_type": "code",
   "execution_count": 7,
   "metadata": {},
   "outputs": [
    {
     "data": {
      "text/plain": [
       "5"
      ]
     },
     "execution_count": 7,
     "metadata": {},
     "output_type": "execute_result"
    }
   ],
   "source": [
    "int[] nums1 = {2, 6, 4, 8, 10, 9, 15};\n",
    "new Solution().findUnsortedSubarray(nums1);"
   ]
  },
  {
   "cell_type": "code",
   "execution_count": 8,
   "metadata": {},
   "outputs": [
    {
     "data": {
      "text/plain": [
       "0"
      ]
     },
     "execution_count": 8,
     "metadata": {},
     "output_type": "execute_result"
    }
   ],
   "source": [
    "int[] nums1 = {0,1};\n",
    "new Solution().findUnsortedSubarray(nums1);"
   ]
  },
  {
   "cell_type": "code",
   "execution_count": 42,
   "metadata": {},
   "outputs": [],
   "source": [
    "public class Solution {\n",
    "    public int findUnsortedSubarray(int[] nums) {\n",
    "        Stack<Integer> stack = new Stack<>();\n",
    "        //        *\n",
    "        // 2 3 4 1\n",
    "        // ^\n",
    "        int n = nums.length;\n",
    "        int left = n - 1, right = 0;\n",
    "        for (int i = 0; i < n; ++i) {\n",
    "            while (!stack.isEmpty() && nums[stack.peek()] > nums[i]) {\n",
    "                left = Math.min(left, stack.pop());\n",
    "            }\n",
    "            stack.push(i);\n",
    "        }\n",
    "        stack.clear();\n",
    "        for (int i = n - 1; i >= 0; --i) {\n",
    "            while (!stack.isEmpty() && nums[stack.peek()] < nums[i]) {\n",
    "                right = Math.max(right, stack.pop());\n",
    "            }\n",
    "            stack.push(i);\n",
    "        }\n",
    "        if (left < right) {\n",
    "            return right - left + 1;\n",
    "        }\n",
    "        return 0;\n",
    "    }\n",
    "}"
   ]
  },
  {
   "cell_type": "code",
   "execution_count": 43,
   "metadata": {},
   "outputs": [
    {
     "data": {
      "text/plain": [
       "0"
      ]
     },
     "execution_count": 43,
     "metadata": {},
     "output_type": "execute_result"
    }
   ],
   "source": [
    "int[] nums1 = {1, 2, 3, 4};\n",
    "new Solution().findUnsortedSubarray(nums1);"
   ]
  },
  {
   "cell_type": "code",
   "execution_count": 44,
   "metadata": {},
   "outputs": [
    {
     "data": {
      "text/plain": [
       "4"
      ]
     },
     "execution_count": 44,
     "metadata": {},
     "output_type": "execute_result"
    }
   ],
   "source": [
    "int[] nums1 = {2, 3, 4, 1};\n",
    "new Solution().findUnsortedSubarray(nums1);"
   ]
  },
  {
   "cell_type": "code",
   "execution_count": 45,
   "metadata": {},
   "outputs": [
    {
     "data": {
      "text/plain": [
       "5"
      ]
     },
     "execution_count": 45,
     "metadata": {},
     "output_type": "execute_result"
    }
   ],
   "source": [
    "int[] nums1 = {2, 6, 4, 8, 10, 9, 15};\n",
    "new Solution().findUnsortedSubarray(nums1);"
   ]
  },
  {
   "cell_type": "code",
   "execution_count": 46,
   "metadata": {},
   "outputs": [
    {
     "data": {
      "text/plain": [
       "0"
      ]
     },
     "execution_count": 46,
     "metadata": {},
     "output_type": "execute_result"
    }
   ],
   "source": [
    "int[] nums1 = {0,1};\n",
    "new Solution().findUnsortedSubarray(nums1);"
   ]
  },
  {
   "cell_type": "code",
   "execution_count": null,
   "metadata": {},
   "outputs": [],
   "source": []
  }
 ],
 "metadata": {
  "kernelspec": {
   "display_name": "Java",
   "language": "java",
   "name": "java"
  },
  "language_info": {
   "codemirror_mode": "java",
   "file_extension": ".jshell",
   "mimetype": "text/x-java-source",
   "name": "Java",
   "pygments_lexer": "java",
   "version": "11.0.3+7"
  }
 },
 "nbformat": 4,
 "nbformat_minor": 2
}
