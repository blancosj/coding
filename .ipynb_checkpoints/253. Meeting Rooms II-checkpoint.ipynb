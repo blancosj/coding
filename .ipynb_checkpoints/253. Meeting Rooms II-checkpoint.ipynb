{
 "cells": [
  {
   "cell_type": "markdown",
   "metadata": {},
   "source": [
    "Given an array of meeting time intervals consisting of start and end times [[s1,e1],[s2,e2],...] (si < ei), find the minimum number of conference rooms required.\n",
    "\n",
    "Example 1:\n",
    "```\n",
    "Input: [[0, 30],[5, 10],[15, 20]]\n",
    "Output: 2\n",
    "```\n",
    "Example 2:\n",
    "```\n",
    "Input: [[7,10],[2,4]]\n",
    "Output: 1\n",
    "```\n",
    "*NOTE*: input types have been changed on April 15, 2019. Please reset to default code definition to get new method signature."
   ]
  },
  {
   "cell_type": "markdown",
   "metadata": {},
   "source": [
    "Time Complexity $O(n log n)$ because the priority queue"
   ]
  },
  {
   "cell_type": "code",
   "execution_count": 22,
   "metadata": {},
   "outputs": [],
   "source": [
    "public class Solution {\n",
    "    public int minMeetingRooms(int[][] intervals) {\n",
    "        Arrays.sort(intervals, (x, y) -> x[0] - y[0]);\n",
    "        PriorityQueue<int[]> rooms = new PriorityQueue<>((x, y) -> x[1] - y[1]);\n",
    "        int len = intervals.length;\n",
    "        int max = 0;\n",
    "        for (int i = 0; i < len; ++i) {\n",
    "            int[] interval = intervals[i];\n",
    "            while (!rooms.isEmpty() && rooms.peek()[1] < interval[0]) {\n",
    "                rooms.poll();\n",
    "            }\n",
    "            rooms.add(interval);\n",
    "            max = Math.max(max, rooms.size());\n",
    "        }\n",
    "        return max;\n",
    "    }\n",
    "}"
   ]
  },
  {
   "cell_type": "code",
   "execution_count": 23,
   "metadata": {},
   "outputs": [
    {
     "data": {
      "text/plain": [
       "1"
      ]
     },
     "execution_count": 23,
     "metadata": {},
     "output_type": "execute_result"
    }
   ],
   "source": [
    "int[][] intervals1 = { {7, 10}, {2,4} };\n",
    "new Solution().minMeetingRooms(intervals1);"
   ]
  },
  {
   "cell_type": "code",
   "execution_count": 24,
   "metadata": {},
   "outputs": [
    {
     "data": {
      "text/plain": [
       "2"
      ]
     },
     "execution_count": 24,
     "metadata": {},
     "output_type": "execute_result"
    }
   ],
   "source": [
    "int[][] intervals1 = {{0, 30},{5, 10},{15, 20}};\n",
    "new Solution().minMeetingRooms(intervals1);"
   ]
  },
  {
   "cell_type": "code",
   "execution_count": null,
   "metadata": {},
   "outputs": [],
   "source": []
  }
 ],
 "metadata": {
  "kernelspec": {
   "display_name": "Java",
   "language": "java",
   "name": "java"
  },
  "language_info": {
   "codemirror_mode": "java",
   "file_extension": ".jshell",
   "mimetype": "text/x-java-source",
   "name": "Java",
   "pygments_lexer": "java",
   "version": "11.0.3+7"
  }
 },
 "nbformat": 4,
 "nbformat_minor": 2
}
