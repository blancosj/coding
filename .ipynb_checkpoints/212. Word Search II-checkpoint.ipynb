{
 "cells": [
  {
   "cell_type": "markdown",
   "metadata": {},
   "source": [
    "Given a 2D board and a list of words from the dictionary, find all words in the board.\n",
    "\n",
    "Each word must be constructed from letters of sequentially adjacent cell, where \"adjacent\" cells are those horizontally or vertically neighboring. The same letter cell may not be used more than once in a word.\n",
    "\n",
    "__Example:__\n",
    "```\n",
    "Input: \n",
    "board = [\n",
    "  ['o','a','a','n'],\n",
    "  ['e','t','a','e'],\n",
    "  ['i','h','k','r'],\n",
    "  ['i','f','l','v']\n",
    "]\n",
    "words = [\"oath\",\"pea\",\"eat\",\"rain\"]\n",
    "\n",
    "Output: [\"eat\",\"oath\"]\n",
    "``` \n",
    "__Note:__\n",
    "\n",
    "* All inputs are consist of lowercase letters a-z.\n",
    "* The values of words are distinct."
   ]
  },
  {
   "cell_type": "code",
   "execution_count": 1,
   "metadata": {},
   "outputs": [],
   "source": [
    "class Solution {\n",
    "    private char[][] board;\n",
    "    private String[] words;\n",
    "    private Set<String> uniqueWords = new HashSet<>();\n",
    "    private List<String> answer = new ArrayList<>();\n",
    "    private int m, n;\n",
    "    public List<String> findWords(char[][] board, String[] words) {\n",
    "        this.board = board;\n",
    "        this.words = words;\n",
    "        m = board.length;\n",
    "        n = board[0].length;\n",
    "        for (String word : words) uniqueWords.add(word);\n",
    "        for (int j = 0; j < m; ++j) {\n",
    "            for (int i = 0; i < n; ++i) {\n",
    "                dfs(j, i, \"\", new boolean[m][n], new ArrayList<>(uniqueWords));        \n",
    "            }\n",
    "        }\n",
    "        \n",
    "        Set<String> hset = new HashSet<>(answer);\n",
    "        return new ArrayList<>(hset);\n",
    "    }\n",
    "    private void dfs(int y, int x, String prefix, boolean[][] visited, List<String> candidates) {\n",
    "        if (visited[y][x]) return;\n",
    "        String newPrefix = prefix + board[y][x];\n",
    "\n",
    "        List<String> newCandidates = new ArrayList<>();\n",
    "        for (String word : candidates) {\n",
    "            if (newPrefix.equals(word)) {\n",
    "                answer.add(word);\n",
    "            }\n",
    "            if (word.startsWith(newPrefix)) {\n",
    "                newCandidates.add(word);\n",
    "            }\n",
    "        }\n",
    "        \n",
    "        if (newCandidates.size() == 0) return;\n",
    "        \n",
    "        if (y > 0) {\n",
    "            visited[y][x] = true;\n",
    "            dfs(y - 1, x, newPrefix, visited, newCandidates);\n",
    "            visited[y][x] = false;\n",
    "        }\n",
    "        if (y < m - 1) {\n",
    "            visited[y][x] = true;\n",
    "            dfs(y + 1, x, newPrefix, visited, newCandidates);\n",
    "            visited[y][x] = false;\n",
    "        }\n",
    "        if (x > 0) {\n",
    "            visited[y][x] = true;\n",
    "            dfs(y, x - 1, newPrefix, visited, newCandidates);\n",
    "            visited[y][x] = false;\n",
    "        }\n",
    "        if (x < n - 1) {\n",
    "            visited[y][x] = true;\n",
    "            dfs(y, x + 1, newPrefix, visited, newCandidates);\n",
    "            visited[y][x] = false;\n",
    "        }\n",
    "    } \n",
    "}"
   ]
  },
  {
   "cell_type": "code",
   "execution_count": 2,
   "metadata": {},
   "outputs": [
    {
     "data": {
      "text/plain": [
       "[oath, eat]"
      ]
     },
     "execution_count": 2,
     "metadata": {},
     "output_type": "execute_result"
    }
   ],
   "source": [
    "char[][] board = {{'o','a','a','n'},{'e','t','a','e'},{'i','h','k','r'},{'i','f','l','v'}};\n",
    "String[] words = {\"oath\",\"pea\",\"eat\",\"rain\"};\n",
    "new Solution().findWords(board, words);"
   ]
  },
  {
   "cell_type": "code",
   "execution_count": 3,
   "metadata": {},
   "outputs": [],
   "source": [
    "public class Solution {\n",
    "    private int[][] moves = {{-1,0},{1,0},{0,-1},{0,1}};\n",
    "    private char[][] board;\n",
    "    private int m, n;\n",
    "    private TrieNode trieRoot = new TrieNode();\n",
    "    private List<String> answer = new ArrayList<>();\n",
    "    public List<String> findWords(char[][] board, String[] words) {\n",
    "        this.board = board;\n",
    "        for (String word : words) insert(word);\n",
    "        m = board.length;\n",
    "        n = board[0].length;\n",
    "        for (int j = 0; j < m; ++j) {\n",
    "            for (int i = 0; i < n; ++i) {\n",
    "                dfs(j, i, \"\", new boolean[m][n]);\n",
    "            }\n",
    "        }\n",
    "        return new ArrayList<>(new HashSet<>(answer));\n",
    "    }\n",
    "    \n",
    "    private void dfs(int j, int i, String prefix, boolean[][] visited) {\n",
    "        if (visited[j][i]) return;\n",
    "        prefix += board[j][i];\n",
    "        if (!startsWith(prefix)) return;\n",
    "        if (search(prefix)) answer.add(prefix);\n",
    "        for (int[] move : moves) {\n",
    "            int j2 = j + move[0];\n",
    "            int i2 = i + move[1];\n",
    "            if (j2 < 0 || j2 >= m || i2 < 0 || i2 >= n) continue;\n",
    "            visited[j][i] = true;\n",
    "            dfs(j2, i2, prefix, visited);\n",
    "            visited[j][i] = false;\n",
    "        }\n",
    "    }\n",
    "    \n",
    "    private void insert(String word) {\n",
    "        int n = word.length();\n",
    "        TrieNode node = trieRoot;\n",
    "        for (int i = 0; i < n; ++i) {\n",
    "            char c = word.charAt(i);\n",
    "            if (node.children.containsKey(c)) {\n",
    "                node = node.children.get(c);\n",
    "                continue;\n",
    "            }\n",
    "            node = node.children.computeIfAbsent(c, x -> new TrieNode());\n",
    "        }\n",
    "        node.isWord = true;\n",
    "    }\n",
    "    private boolean startsWith(String prefix) {\n",
    "        int n = prefix.length();\n",
    "        TrieNode node = trieRoot;\n",
    "        for (int i = 0; i < n; ++i) {\n",
    "            char c = prefix.charAt(i);\n",
    "            if (!node.children.containsKey(c)) return false;\n",
    "            node = node.children.get(c);\n",
    "        }\n",
    "        return true;\n",
    "    }\n",
    "    private boolean search(String word) {\n",
    "        int n = word.length();\n",
    "        TrieNode node = trieRoot;\n",
    "        for (int i = 0; i < n; ++i) {\n",
    "            char c = word.charAt(i);\n",
    "            if (!node.children.containsKey(c)) return false;\n",
    "            node = node.children.get(c);\n",
    "        }\n",
    "        return node.isWord;\n",
    "    }\n",
    "    public class TrieNode {\n",
    "        boolean isWord;\n",
    "        Map<Character, TrieNode> children = new HashMap<>();\n",
    "    }\n",
    "}"
   ]
  },
  {
   "cell_type": "code",
   "execution_count": 4,
   "metadata": {},
   "outputs": [
    {
     "data": {
      "text/plain": [
       "[oath, eat]"
      ]
     },
     "execution_count": 4,
     "metadata": {},
     "output_type": "execute_result"
    }
   ],
   "source": [
    "char[][] board = {{'o','a','a','n'},{'e','t','a','e'},{'i','h','k','r'},{'i','f','l','v'}};\n",
    "String[] words = {\"oath\",\"pea\",\"eat\",\"rain\"};\n",
    "new Solution().findWords(board, words);"
   ]
  },
  {
   "cell_type": "code",
   "execution_count": null,
   "metadata": {},
   "outputs": [],
   "source": []
  }
 ],
 "metadata": {
  "kernelspec": {
   "display_name": "Java",
   "language": "java",
   "name": "java"
  },
  "language_info": {
   "codemirror_mode": "java",
   "file_extension": ".jshell",
   "mimetype": "text/x-java-source",
   "name": "Java",
   "pygments_lexer": "java",
   "version": "11.0.3+7"
  }
 },
 "nbformat": 4,
 "nbformat_minor": 2
}
