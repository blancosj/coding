{
 "cells": [
  {
   "cell_type": "markdown",
   "metadata": {},
   "source": [
    "Given a non-negative integer num represented as a string, remove k digits from the number so that the new number is the smallest possible.\n",
    "\n",
    "Note:\n",
    "> The length of num is less than 10002 and will be ≥ k.\n",
    "> The given num does not contain any leading zero.\n",
    "\n",
    "Example 1:\n",
    "```\n",
    "Input: num = \"1432219\", k = 3\n",
    "Output: \"1219\"\n",
    "Explanation: Remove the three digits 4, 3, and 2 to form the new number 1219 which is the smallest.\n",
    "```\n",
    "Example 2:\n",
    "```\n",
    "Input: num = \"10200\", k = 1\n",
    "Output: \"200\"\n",
    "Explanation: Remove the leading 1 and the number is 200. Note that the output must not contain leading zeroes.\n",
    "```\n",
    "Example 3:\n",
    "```\n",
    "Input: num = \"10\", k = 2\n",
    "Output: \"0\"\n",
    "Explanation: Remove all the digits from the number and it is left with nothing which is 0.\n",
    "```    "
   ]
  },
  {
   "cell_type": "code",
   "execution_count": 99,
   "metadata": {},
   "outputs": [],
   "source": [
    "public class Solution {\n",
    "    public String removeKdigits(String num, int k) {\n",
    "        // 1 2 3 4\n",
    "        // ^\n",
    "        // x x 2 1\n",
    "        // ^\n",
    "        // x x 1 2\n",
    "        // ^ ^ \n",
    "        Stack<Character> stack = new Stack<>();\n",
    "        stack.push(num.charAt(0));\n",
    "        for (int i = 1; i < num.length(); ++i) {\n",
    "            while (!stack.isEmpty() && stack.peek() > num.charAt(i) && k > 0) {\n",
    "                stack.pop();\n",
    "                k--;\n",
    "            }\n",
    "            stack.push(num.charAt(i));\n",
    "        }\n",
    "        \n",
    "        System.out.println(stack);\n",
    "        for (int i = 0; i < k; ++i) stack.pop();\n",
    "        StringBuilder result = new StringBuilder();\n",
    "        while (!stack.isEmpty()) result.append(stack.pop());\n",
    "        int i = result.length() - 1;\n",
    "        while (i >= 0) {\n",
    "            char c = result.charAt(i);\n",
    "            if (c == '0') {\n",
    "                result.setLength(result.length() - 1);\n",
    "                i--;\n",
    "                continue;\n",
    "            }\n",
    "            break;\n",
    "        }\n",
    "        if (result.length() == 0) return \"0\";\n",
    "        return result.reverse().toString();\n",
    "    }\n",
    "}"
   ]
  },
  {
   "cell_type": "code",
   "execution_count": 100,
   "metadata": {},
   "outputs": [
    {
     "name": "stdout",
     "output_type": "stream",
     "text": [
      "[0]\n"
     ]
    },
    {
     "data": {
      "text/plain": [
       "0"
      ]
     },
     "execution_count": 100,
     "metadata": {},
     "output_type": "execute_result"
    }
   ],
   "source": [
    "new Solution().removeKdigits(\"10\", 2);"
   ]
  },
  {
   "cell_type": "code",
   "execution_count": 101,
   "metadata": {},
   "outputs": [
    {
     "name": "stdout",
     "output_type": "stream",
     "text": [
      "[0, 2, 0, 0]\n"
     ]
    },
    {
     "data": {
      "text/plain": [
       "200"
      ]
     },
     "execution_count": 101,
     "metadata": {},
     "output_type": "execute_result"
    }
   ],
   "source": [
    "new Solution().removeKdigits(\"10200\", 1);"
   ]
  },
  {
   "cell_type": "code",
   "execution_count": 102,
   "metadata": {},
   "outputs": [
    {
     "name": "stdout",
     "output_type": "stream",
     "text": [
      "[1, 2, 1, 9]\n"
     ]
    },
    {
     "data": {
      "text/plain": [
       "1219"
      ]
     },
     "execution_count": 102,
     "metadata": {},
     "output_type": "execute_result"
    }
   ],
   "source": [
    "new Solution().removeKdigits(\"1432219\", 3);"
   ]
  },
  {
   "cell_type": "code",
   "execution_count": 103,
   "metadata": {},
   "outputs": [
    {
     "name": "stdout",
     "output_type": "stream",
     "text": [
      "[1, 2, 3, 4]\n"
     ]
    },
    {
     "data": {
      "text/plain": [
       "12"
      ]
     },
     "execution_count": 103,
     "metadata": {},
     "output_type": "execute_result"
    }
   ],
   "source": [
    "new Solution().removeKdigits(\"1234\", 2);"
   ]
  },
  {
   "cell_type": "code",
   "execution_count": 104,
   "metadata": {},
   "outputs": [
    {
     "name": "stdout",
     "output_type": "stream",
     "text": [
      "[0, 0, 0, 2, 0, 0]\n"
     ]
    },
    {
     "data": {
      "text/plain": [
       "200"
      ]
     },
     "execution_count": 104,
     "metadata": {},
     "output_type": "execute_result"
    }
   ],
   "source": [
    "new Solution().removeKdigits(\"1000200\", 1);"
   ]
  },
  {
   "cell_type": "code",
   "execution_count": null,
   "metadata": {},
   "outputs": [],
   "source": []
  },
  {
   "cell_type": "code",
   "execution_count": null,
   "metadata": {},
   "outputs": [],
   "source": []
  }
 ],
 "metadata": {
  "kernelspec": {
   "display_name": "Java",
   "language": "java",
   "name": "java"
  },
  "language_info": {
   "codemirror_mode": "java",
   "file_extension": ".jshell",
   "mimetype": "text/x-java-source",
   "name": "Java",
   "pygments_lexer": "java",
   "version": "11.0.3+7"
  }
 },
 "nbformat": 4,
 "nbformat_minor": 2
}
