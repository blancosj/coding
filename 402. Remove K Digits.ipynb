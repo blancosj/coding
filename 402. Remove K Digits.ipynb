{
 "cells": [
  {
   "cell_type": "markdown",
   "metadata": {},
   "source": [
    "Given a non-negative integer num represented as a string, remove k digits from the number so that the new number is the smallest possible.\n",
    "\n",
    "Note:\n",
    "> The length of num is less than 10002 and will be ≥ k.\n",
    "> The given num does not contain any leading zero.\n",
    "\n",
    "Example 1:\n",
    "```\n",
    "Input: num = \"1432219\", k = 3\n",
    "Output: \"1219\"\n",
    "Explanation: Remove the three digits 4, 3, and 2 to form the new number 1219 which is the smallest.\n",
    "```\n",
    "Example 2:\n",
    "```\n",
    "Input: num = \"10200\", k = 1\n",
    "Output: \"200\"\n",
    "Explanation: Remove the leading 1 and the number is 200. Note that the output must not contain leading zeroes.\n",
    "```\n",
    "Example 3:\n",
    "```\n",
    "Input: num = \"10\", k = 2\n",
    "Output: \"0\"\n",
    "Explanation: Remove all the digits from the number and it is left with nothing which is 0.\n",
    "```    "
   ]
  },
  {
   "cell_type": "code",
   "execution_count": null,
   "metadata": {},
   "outputs": [],
   "source": []
  }
 ],
 "metadata": {
  "kernelspec": {
   "display_name": "Java",
   "language": "java",
   "name": "java"
  },
  "language_info": {
   "codemirror_mode": "java",
   "file_extension": ".jshell",
   "mimetype": "text/x-java-source",
   "name": "Java",
   "pygments_lexer": "java",
   "version": "11.0.3+7"
  }
 },
 "nbformat": 4,
 "nbformat_minor": 2
}
