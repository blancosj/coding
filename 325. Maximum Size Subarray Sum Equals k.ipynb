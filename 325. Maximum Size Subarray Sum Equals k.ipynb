{
 "cells": [
  {
   "cell_type": "markdown",
   "metadata": {},
   "source": [
    "Given an array nums and a target value k, find the maximum length of a subarray that sums to k. If there isn't one, return 0 instead.\n",
    "\n",
    "Note:\n",
    "The sum of the entire nums array is guaranteed to fit within the 32-bit signed integer range.\n",
    "\n",
    "Example 1:\n",
    "```\n",
    "Input: nums = [1, -1, 5, -2, 3], k = 3\n",
    "Output: 4 \n",
    "Explanation: The subarray [1, -1, 5, -2] sums to 3 and is the longest.\n",
    "```\n",
    "Example 2:\n",
    "```\n",
    "Input: nums = [-2, -1, 2, 1], k = 1\n",
    "Output: 2 \n",
    "Explanation: The subarray [-1, 2] sums to 1 and is the longest.\n",
    "```\n",
    "__Follow Up__:\n",
    "Can you do it in O(n) time?"
   ]
  },
  {
   "cell_type": "code",
   "execution_count": 6,
   "metadata": {},
   "outputs": [],
   "source": [
    "public class Solution {\n",
    "    public int maxSubArrayLen(int[] nums, int k) {\n",
    "        // subarray is the diff between 2 indices\n",
    "        // and sum between 2 indices is the diff \n",
    "        // accumulate sum of 2 indices\n",
    "        // 1 -1 5 -2 3 k = 3\n",
    "        // 0  1 2  3 4\n",
    "        // 1  0 5  3 0\n",
    "        //    ^  (3-3) => 3-(-1) = 4 because we record first pos as zero\n",
    "        int n = nums.length;\n",
    "        int answer = 0;\n",
    "        int cur_sum = 0;\n",
    "        Map<Integer, Integer> map = new HashMap<>();\n",
    "        map.put(0, -1);\n",
    "        for (int i = 0; i < n; ++i) {\n",
    "            cur_sum += nums[i];\n",
    "            int t = cur_sum - k;\n",
    "            if (map.containsKey(t)) {\n",
    "                answer = Math.max(answer, i - map.get(t));\n",
    "            }\n",
    "            map.putIfAbsent(cur_sum, i);\n",
    "        }\n",
    "        return answer;\n",
    "    }\n",
    "}"
   ]
  },
  {
   "cell_type": "code",
   "execution_count": 7,
   "metadata": {},
   "outputs": [
    {
     "data": {
      "text/plain": [
       "4"
      ]
     },
     "execution_count": 7,
     "metadata": {},
     "output_type": "execute_result"
    }
   ],
   "source": [
    "int[] nums1 = {1, -1, 5, -2, 3};\n",
    "int k = 3;\n",
    "new Solution().maxSubArrayLen(nums1, k);"
   ]
  },
  {
   "cell_type": "code",
   "execution_count": 8,
   "metadata": {},
   "outputs": [
    {
     "data": {
      "text/plain": [
       "2"
      ]
     },
     "execution_count": 8,
     "metadata": {},
     "output_type": "execute_result"
    }
   ],
   "source": [
    "int[] nums1 = {-2, -1, 2, 1};\n",
    "int k = 1;\n",
    "new Solution().maxSubArrayLen(nums1, k);"
   ]
  },
  {
   "cell_type": "code",
   "execution_count": null,
   "metadata": {},
   "outputs": [],
   "source": []
  }
 ],
 "metadata": {
  "kernelspec": {
   "display_name": "Java",
   "language": "java",
   "name": "java"
  },
  "language_info": {
   "codemirror_mode": "java",
   "file_extension": ".jshell",
   "mimetype": "text/x-java-source",
   "name": "Java",
   "pygments_lexer": "java",
   "version": "11.0.3+7"
  }
 },
 "nbformat": 4,
 "nbformat_minor": 2
}
