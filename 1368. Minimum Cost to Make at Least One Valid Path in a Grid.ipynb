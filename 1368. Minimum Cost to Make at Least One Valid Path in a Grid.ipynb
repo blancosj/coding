{
 "cells": [
  {
   "cell_type": "markdown",
   "metadata": {},
   "source": [
    "Given a m x n grid. Each cell of the grid has a sign pointing to the next cell you should visit if you are currently in this cell. The sign of grid[i][j] can be:\n",
    "* 1 which means go to the cell to the right. (i.e go from grid[i][j] to grid[i][j + 1])\n",
    "* 2 which means go to the cell to the left. (i.e go from grid[i][j] to grid[i][j - 1])\n",
    "* 3 which means go to the lower cell. (i.e go from grid[i][j] to grid[i + 1][j])\n",
    "* 4 which means go to the upper cell. (i.e go from grid[i][j] to grid[i - 1][j])\n",
    "Notice that there could be some invalid signs on the cells of the grid which points outside the grid.\n",
    "\n",
    "You will initially start at the upper left cell (0,0). A valid path in the grid is a path which starts from the upper left cell (0,0) and ends at the bottom-right cell (m - 1, n - 1) following the signs on the grid. The valid path doesn't have to be the shortest.\n",
    "\n",
    "You can modify the sign on a cell with cost = 1. You can modify the sign on a cell one time only.\n",
    "\n",
    "Return the minimum cost to make the grid have at least one valid path.\n",
    "\n",
    "__Example 1:__\n",
    "```\n",
    "Input: grid = [[1,1,1,1],[2,2,2,2],[1,1,1,1],[2,2,2,2]]\n",
    "Output: 3\n",
    "Explanation: You will start at point (0, 0).\n",
    "The path to (3, 3) is as follows. (0, 0) --> (0, 1) --> (0, 2) --> (0, 3) change the arrow to down with cost = 1 --> (1, 3) --> (1, 2) --> (1, 1) --> (1, 0) change the arrow to down with cost = 1 --> (2, 0) --> (2, 1) --> (2, 2) --> (2, 3) change the arrow to down with cost = 1 --> (3, 3)\n",
    "The total cost = 3.\n",
    "```\n",
    "__Example 2:__\n",
    "```\n",
    "Input: grid = [[1,1,3],[3,2,2],[1,1,4]]\n",
    "Output: 0\n",
    "Explanation: You can follow the path from (0, 0) to (2, 2).\n",
    "```\n",
    "__Example 3:__\n",
    "```\n",
    "Input: grid = [[1,2],[4,3]]\n",
    "Output: 1\n",
    "```\n",
    "__Example 4:__\n",
    "```\n",
    "Input: grid = [[2,2,2],[2,2,2]]\n",
    "Output: 3\n",
    "```\n",
    "__Example 5:__\n",
    "```\n",
    "Input: grid = [[4]]\n",
    "Output: 0\n",
    "``` \n",
    "__Constraints:__\n",
    "* m == grid.length\n",
    "* n == grid[i].length\n",
    "* 1 <= m, n <= 100"
   ]
  },
  {
   "cell_type": "markdown",
   "metadata": {},
   "source": [
    "# Time Complexity $\\mathcal O(C_n) => C_n \\frac{2n!}{(n + 1)!n!}$"
   ]
  },
  {
   "cell_type": "code",
   "execution_count": 20,
   "metadata": {},
   "outputs": [],
   "source": [
    "public class SolutionDfs {\n",
    "    private int[][] grid;\n",
    "    private int m, n;\n",
    "    public int solve(int[][] grid) {\n",
    "        this.grid = grid;\n",
    "        this.m = grid.length;\n",
    "        if (m == 0) return 0;\n",
    "        this.n = grid[0].length;\n",
    "        return dfs(0, 0);\n",
    "    }\n",
    "    private int VISITED = 5;\n",
    "    private int[][] moves = {{0,1},{0,-1},{1,0},{-1,0}};\n",
    "    private int dfs(int y, int x) {\n",
    "        if (y == m - 1 && x == n - 1) return 0;\n",
    "        int result = m * n;\n",
    "        int nextDir = grid[y][x];\n",
    "        if (grid[y][x] == 5) return result;\n",
    "        grid[y][x] = 5;\n",
    "        for (int k = 0; k < moves.length; ++k) {\n",
    "            int[] move = moves[k];\n",
    "            int j = y + move[0];\n",
    "            int i = x + move[1];\n",
    "            if (j < 0 || j >= m || i < 0 || i >= n) continue;\n",
    "            if (grid[j][i] == 5) continue; \n",
    "            int cost = nextDir == k + 1 ? 0 : 1;\n",
    "            result = Math.min(cost + dfs(j, i), result);\n",
    "        }\n",
    "        grid[y][x] = nextDir;\n",
    "        return result;\n",
    "    }\n",
    "}"
   ]
  },
  {
   "cell_type": "code",
   "execution_count": 21,
   "metadata": {},
   "outputs": [
    {
     "data": {
      "text/plain": [
       "0"
      ]
     },
     "execution_count": 21,
     "metadata": {},
     "output_type": "execute_result"
    }
   ],
   "source": [
    "int[][] grid = {\n",
    "    {1,3},\n",
    "    {1,1}\n",
    "};\n",
    "new SolutionDfs().solve(grid);"
   ]
  },
  {
   "cell_type": "code",
   "execution_count": 22,
   "metadata": {},
   "outputs": [
    {
     "data": {
      "text/plain": [
       "3"
      ]
     },
     "execution_count": 22,
     "metadata": {},
     "output_type": "execute_result"
    }
   ],
   "source": [
    "int[][] grid = {\n",
    "    {1,1,1,1},\n",
    "    {2,2,2,2},\n",
    "    {1,1,1,1},\n",
    "    {2,2,2,2}\n",
    "};\n",
    "new SolutionDfs().solve(grid);"
   ]
  },
  {
   "cell_type": "code",
   "execution_count": 23,
   "metadata": {},
   "outputs": [
    {
     "data": {
      "text/plain": [
       "1"
      ]
     },
     "execution_count": 23,
     "metadata": {},
     "output_type": "execute_result"
    }
   ],
   "source": [
    "int[][] grid = {\n",
    "    {1,1,3},\n",
    "    {2,2,2},\n",
    "    {4,4,1}\n",
    "};\n",
    "new SolutionDfs().solve(grid);"
   ]
  },
  {
   "cell_type": "code",
   "execution_count": 118,
   "metadata": {},
   "outputs": [],
   "source": [
    "public class SolutionBfs {\n",
    "    private int[][] grid;\n",
    "    private int m, n;\n",
    "    private int[][] moves = {{0,1},{0,-1},{1,0},{-1,0}};\n",
    "    private final static int VISITED = 5;\n",
    "    public int solve(int[][] grid) {\n",
    "        this.grid = grid;\n",
    "        m = grid.length;\n",
    "        if (m == 0) return 0;\n",
    "        n = grid[0].length;\n",
    "        PriorityQueue<List<Integer>> queue = new PriorityQueue<>((x, y) -> x.get(0) - y.get(0));\n",
    "        queue.offer(List.of(0, 0, 0));\n",
    "        int answer = 0;\n",
    "        while (!queue.isEmpty()) {\n",
    "            List<Integer> cur = queue.poll();\n",
    "            int cost = cur.get(0), y = cur.get(1), x = cur.get(2);\n",
    "            int val = grid[y][x];\n",
    "            if (grid[y][x] == VISITED) continue;\n",
    "            grid[y][x] = VISITED;            \n",
    "            if (y == m - 1 && x == n - 1) return cost;\n",
    "            for (int k = 0; k < moves.length; ++k) {\n",
    "                int j = y + moves[k][0];\n",
    "                int i = x + moves[k][1];\n",
    "                if (j < 0 || j >= m || i < 0 || i >= n || grid[j][i] == VISITED) continue;\n",
    "                int cost2 = cost;\n",
    "                if (val != k + 1) cost2++;\n",
    "                queue.offer(List.of(cost2, j, i));\n",
    "            }\n",
    "        }\n",
    "        return -1;\n",
    "    }\n",
    "}"
   ]
  },
  {
   "cell_type": "code",
   "execution_count": 119,
   "metadata": {},
   "outputs": [
    {
     "data": {
      "text/plain": [
       "0"
      ]
     },
     "execution_count": 119,
     "metadata": {},
     "output_type": "execute_result"
    }
   ],
   "source": [
    "int[][] grid = {\n",
    "    {1,3},\n",
    "    {1,1}\n",
    "};\n",
    "new SolutionBfs().solve(grid);"
   ]
  },
  {
   "cell_type": "code",
   "execution_count": 120,
   "metadata": {},
   "outputs": [
    {
     "data": {
      "text/plain": [
       "1"
      ]
     },
     "execution_count": 120,
     "metadata": {},
     "output_type": "execute_result"
    }
   ],
   "source": [
    "int[][] grid = {\n",
    "    {1,1,3},\n",
    "    {2,2,2},\n",
    "    {4,4,1}\n",
    "};\n",
    "new SolutionBfs().solve(grid);"
   ]
  },
  {
   "cell_type": "code",
   "execution_count": 121,
   "metadata": {},
   "outputs": [
    {
     "data": {
      "text/plain": [
       "3"
      ]
     },
     "execution_count": 121,
     "metadata": {},
     "output_type": "execute_result"
    }
   ],
   "source": [
    "int[][] grid = {\n",
    "    {1,1,1,1},\n",
    "    {2,2,2,2},\n",
    "    {1,1,1,1},\n",
    "    {2,2,2,2}\n",
    "};\n",
    "new SolutionBfs().solve(grid);"
   ]
  },
  {
   "cell_type": "code",
   "execution_count": null,
   "metadata": {},
   "outputs": [],
   "source": []
  },
  {
   "cell_type": "code",
   "execution_count": null,
   "metadata": {},
   "outputs": [],
   "source": []
  }
 ],
 "metadata": {
  "kernelspec": {
   "display_name": "Java",
   "language": "java",
   "name": "java"
  },
  "language_info": {
   "codemirror_mode": "java",
   "file_extension": ".jshell",
   "mimetype": "text/x-java-source",
   "name": "Java",
   "pygments_lexer": "java",
   "version": "11.0.3+7"
  }
 },
 "nbformat": 4,
 "nbformat_minor": 2
}
