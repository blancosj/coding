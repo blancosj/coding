{
 "cells": [
  {
   "cell_type": "markdown",
   "metadata": {},
   "source": [
    "## <a href='https://leetcode.com/problems/two-sum-iii-data-structure-design/'>170. Two Sum III - Data structure design</a>\n",
    "\n",
    "\n",
    "Design a data structure that accepts a stream of integers and checks if it has a pair of integers that sum up to a particular value.\n",
    "\n",
    "Implement the TwoSum class:\n",
    "\n",
    "* TwoSum() Initializes the TwoSum object, with an empty array initially.\n",
    "* void add(int number) Adds number to the data structure.\n",
    "* boolean find(int value) Returns true if there exists any pair of numbers whose sum is equal to value, otherwise, it returns false.\n",
    " \n",
    "\n",
    "__Example 1:__\n",
    "```\n",
    "Input\n",
    "[\"TwoSum\", \"add\", \"add\", \"add\", \"find\", \"find\"]\n",
    "[[], [1], [3], [5], [4], [7]]\n",
    "Output\n",
    "[null, null, null, null, true, false]\n",
    "\n",
    "Explanation\n",
    "TwoSum twoSum = new TwoSum();\n",
    "twoSum.add(1);   // [] --> [1]\n",
    "twoSum.add(3);   // [1] --> [1,3]\n",
    "twoSum.add(5);   // [1,3] --> [1,3,5]\n",
    "twoSum.find(4);  // 1 + 3 = 4, return true\n",
    "twoSum.find(7);  // No two integers sum up to 7, return false\n",
    "``` \n",
    "\n",
    "__Constraints:__\n",
    "\n",
    "* -105 <= number <= 105\n",
    "* -231 <= value <= 231 - 1\n",
    "* At most 5 * 104 calls will be made to add and find."
   ]
  },
  {
   "cell_type": "code",
   "execution_count": 49,
   "metadata": {},
   "outputs": [],
   "source": [
    "public class Solution {\n",
    "    private List<Integer> list = new ArrayList<>();\n",
    "    public void add(int num) {\n",
    "        int low = 0, high = list.size() - 1;\n",
    "        while (low <= high) {\n",
    "            int mid = low + (high - low) / 2;\n",
    "            if (list.get(mid) < num) {\n",
    "                low = mid + 1;\n",
    "            } else {\n",
    "                high = mid - 1;\n",
    "            }\n",
    "        }\n",
    "        list.add(low, num);\n",
    "    }\n",
    "    public boolean find(int value) {\n",
    "        int low = 0, high = list.size() - 1;\n",
    "        while (low < high) {\n",
    "            int curSum = list.get(low) + list.get(high);\n",
    "            if (curSum == value) return true;\n",
    "            if (curSum > value) {\n",
    "                high--;\n",
    "            } else {\n",
    "                low++;\n",
    "            }\n",
    "        }\n",
    "        return false;\n",
    "    }\n",
    "}"
   ]
  },
  {
   "cell_type": "code",
   "execution_count": 50,
   "metadata": {},
   "outputs": [
    {
     "name": "stdout",
     "output_type": "stream",
     "text": [
      "true\n",
      "false\n"
     ]
    }
   ],
   "source": [
    "Solution sol = new Solution();\n",
    "sol.add(1);\n",
    "sol.add(3);\n",
    "sol.add(5);\n",
    "System.out.println(sol.find(4));\n",
    "System.out.println(sol.find(7));"
   ]
  },
  {
   "cell_type": "code",
   "execution_count": 51,
   "metadata": {},
   "outputs": [
    {
     "data": {
      "text/plain": [
       "[-1, 2, 4]"
      ]
     },
     "execution_count": 51,
     "metadata": {},
     "output_type": "execute_result"
    }
   ],
   "source": [
    "List<Integer> list = new ArrayList<>();\n",
    "list.add(0, 2);\n",
    "list.add(1, 4);\n",
    "list.add(0, -1);\n",
    "list;"
   ]
  },
  {
   "cell_type": "code",
   "execution_count": 52,
   "metadata": {},
   "outputs": [],
   "source": [
    "public class Solution {\n",
    "    private Map<Integer, Integer> map = new HashMap<>();\n",
    "    public void add(int number) {\n",
    "        map.put(number, map.getOrDefault(number, 0) + 1);\n",
    "    }\n",
    "    public boolean find(int value) {\n",
    "        for (int num : map.keySet()) {\n",
    "            int complement = value - num;\n",
    "            int count = map.getOrDefault(complement, 0);\n",
    "            if (complement == num && count > 1) return true;\n",
    "            if (complement != num && count > 0) return true;\n",
    "        }\n",
    "        return false;\n",
    "    }\n",
    "}"
   ]
  },
  {
   "cell_type": "code",
   "execution_count": 53,
   "metadata": {},
   "outputs": [
    {
     "name": "stdout",
     "output_type": "stream",
     "text": [
      "true\n",
      "false\n"
     ]
    }
   ],
   "source": [
    "Solution sol = new Solution();\n",
    "sol.add(1);\n",
    "sol.add(3);\n",
    "sol.add(5);\n",
    "System.out.println(sol.find(4));\n",
    "System.out.println(sol.find(7));"
   ]
  },
  {
   "cell_type": "code",
   "execution_count": null,
   "metadata": {},
   "outputs": [],
   "source": []
  }
 ],
 "metadata": {
  "kernelspec": {
   "display_name": "Java",
   "language": "java",
   "name": "java"
  },
  "language_info": {
   "codemirror_mode": "java",
   "file_extension": ".jshell",
   "mimetype": "text/x-java-source",
   "name": "Java",
   "pygments_lexer": "java",
   "version": "11.0.3+7"
  }
 },
 "nbformat": 4,
 "nbformat_minor": 2
}
