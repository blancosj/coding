{
 "cells": [
  {
   "cell_type": "markdown",
   "metadata": {},
   "source": [
    "Given a Binary Search Tree and a target number, return true if there exist two elements in the BST such that their sum is equal to the given target.\n",
    "\n",
    "Example 1:\n",
    "```\n",
    "Input: \n",
    "    5\n",
    "   / \\\n",
    "  3   6\n",
    " / \\   \\\n",
    "2   4   7\n",
    "\n",
    "Target = 9\n",
    "\n",
    "Output: True\n",
    "```\n",
    "Example 2:\n",
    "```\n",
    "Input: \n",
    "    5\n",
    "   / \\\n",
    "  3   6\n",
    " / \\   \\\n",
    "2   4   7\n",
    "\n",
    "Target = 28\n",
    "\n",
    "Output: False\n",
    "```"
   ]
  },
  {
   "cell_type": "code",
   "execution_count": 1,
   "metadata": {},
   "outputs": [],
   "source": [
    "public class TreeNode {\n",
    "    int val;\n",
    "    TreeNode left, right;\n",
    "    TreeNode(int val) {\n",
    "        this.val = val;\n",
    "    }\n",
    "}"
   ]
  },
  {
   "cell_type": "code",
   "execution_count": 34,
   "metadata": {},
   "outputs": [],
   "source": [
    "public class Solution {\n",
    "    public boolean findTarget(TreeNode root, int k) {\n",
    "        Set<Integer> unique = new HashSet<>();\n",
    "        return helper(root, k, unique);\n",
    "    }\n",
    "    public boolean helper(TreeNode node, int k, Set<Integer> unique) {\n",
    "        if (node == null) return false;\n",
    "        if (helper(node.left, k, unique)) return true;\n",
    "        int c = k - node.val;\n",
    "        if (unique.contains(c)) return true;\n",
    "        unique.add(node.val);\n",
    "        return helper(node.right, k, unique);\n",
    "    }\n",
    "}"
   ]
  },
  {
   "cell_type": "code",
   "execution_count": 35,
   "metadata": {},
   "outputs": [
    {
     "data": {
      "text/plain": [
       "REPL.$JShell$12$TreeNode@4b819a3c"
      ]
     },
     "execution_count": 35,
     "metadata": {},
     "output_type": "execute_result"
    }
   ],
   "source": [
    "TreeNode root1 = new TreeNode(5);\n",
    "root1.left = new TreeNode(3);\n",
    "root1.right = new TreeNode(6);\n",
    "root1.left.left = new TreeNode(2);\n",
    "root1.left.right = new TreeNode(4);\n",
    "root1.right.right = new TreeNode(7);"
   ]
  },
  {
   "cell_type": "code",
   "execution_count": 36,
   "metadata": {},
   "outputs": [
    {
     "data": {
      "text/plain": [
       "true"
      ]
     },
     "execution_count": 36,
     "metadata": {},
     "output_type": "execute_result"
    }
   ],
   "source": [
    "new Solution().findTarget(root1, 9);"
   ]
  },
  {
   "cell_type": "code",
   "execution_count": 37,
   "metadata": {},
   "outputs": [
    {
     "data": {
      "text/plain": [
       "false"
      ]
     },
     "execution_count": 37,
     "metadata": {},
     "output_type": "execute_result"
    }
   ],
   "source": [
    "new Solution().findTarget(root2, 28);"
   ]
  },
  {
   "cell_type": "code",
   "execution_count": 40,
   "metadata": {},
   "outputs": [],
   "source": [
    "public class Solution {\n",
    "    public boolean findTarget(TreeNode root, int k) {\n",
    "        Set<Integer> unique = new HashSet<>();\n",
    "        Stack<TreeNode> stack = new Stack<>();\n",
    "        TreeNode cur = root;\n",
    "        while (!stack.isEmpty() || cur != null) {\n",
    "            if (cur != null) {\n",
    "                stack.push(cur);\n",
    "                cur = cur.left;\n",
    "                continue;\n",
    "            }\n",
    "            cur = stack.pop();\n",
    "            if (unique.contains(k - cur.val)) {\n",
    "                return true;\n",
    "            }\n",
    "            unique.add(cur.val);\n",
    "            cur = cur.right;\n",
    "        }\n",
    "        return false;\n",
    "    }\n",
    "}"
   ]
  },
  {
   "cell_type": "code",
   "execution_count": 41,
   "metadata": {},
   "outputs": [
    {
     "data": {
      "text/plain": [
       "true"
      ]
     },
     "execution_count": 41,
     "metadata": {},
     "output_type": "execute_result"
    }
   ],
   "source": [
    "new Solution().findTarget(root1, 9);"
   ]
  },
  {
   "cell_type": "code",
   "execution_count": 42,
   "metadata": {},
   "outputs": [
    {
     "data": {
      "text/plain": [
       "false"
      ]
     },
     "execution_count": 42,
     "metadata": {},
     "output_type": "execute_result"
    }
   ],
   "source": [
    "new Solution().findTarget(root2, 28);"
   ]
  },
  {
   "cell_type": "code",
   "execution_count": null,
   "metadata": {},
   "outputs": [],
   "source": []
  }
 ],
 "metadata": {
  "kernelspec": {
   "display_name": "Java",
   "language": "java",
   "name": "java"
  },
  "language_info": {
   "codemirror_mode": "java",
   "file_extension": ".jshell",
   "mimetype": "text/x-java-source",
   "name": "Java",
   "pygments_lexer": "java",
   "version": "11.0.3+7"
  }
 },
 "nbformat": 4,
 "nbformat_minor": 2
}
