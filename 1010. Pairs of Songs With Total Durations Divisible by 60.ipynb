{
 "cells": [
  {
   "cell_type": "markdown",
   "metadata": {},
   "source": [
    "## <a href=''>1010. Pairs of Songs With Total Durations Divisible by 60</a>\n",
    "\n",
    "You are given a list of songs where the ith song has a duration of ```time[i]``` seconds.\n",
    "\n",
    "Return the number of pairs of songs for which their total duration in seconds is divisible by 60. Formally, we want the number of indices ```i```, ```j``` such that ```i < j``` with ```(time[i] + time[j]) % 60 == 0```.\n",
    "\n",
    "__Example 1:__\n",
    "```\n",
    "Input: time = [30,20,150,100,40]\n",
    "Output: 3\n",
    "Explanation: Three pairs have a total duration divisible by 60:\n",
    "(time[0] = 30, time[2] = 150): total duration 180\n",
    "(time[1] = 20, time[3] = 100): total duration 120\n",
    "(time[1] = 20, time[4] = 40): total duration 60\n",
    "```\n",
    "__Example 2:__\n",
    "```\n",
    "Input: time = [60,60,60]\n",
    "Output: 3\n",
    "Explanation: All three pairs have a total duration of 120, which is divisible by 60.\n",
    "``` \n",
    "__Constraints:__\n",
    "* ```1 <= time.length <= 6 * 104```\n",
    "* ```1 <= time[i] <= 500```\n",
    "\n",
    "__Module rules:__\n",
    "\n",
    "__Identity:__\n",
    "* ```(a mod n) mod n = a mod n.```\n",
    "* ```nx mod n = 0``` for all positive integer values of ```x```.\n",
    "* If ```p``` is a prime number which is not a divisor of ```b```, then $ab^{p−1} \\mod p=a \\mod p$, due to Fermat's little theorem.\n",
    "\n",
    "__Inverse:__\n",
    "* ```[(−a mod n) + (a mod n)] mod n = 0```.\n",
    "* $b^{−1} \\mod n$ denotes the modular multiplicative inverse, which is defined if and only if b and n are relatively prime, which is the case when the left hand side is defined: $[(b^{−1} \\mod n)(b \\mod n)] \\mod n = 1$.\n",
    "\n",
    "__Distributive:__\n",
    "* $(a + b) \\mod n = [(a \\mod n) + (b \\mod n)] \\mod n$.\n",
    "* $ab \\mod n = [(a \\mod n)(b \\mod n)] \\mod n$.\n",
    "\n",
    "> https://en.wikipedia.org/wiki/Modulo_operation#Properties_(identities)"
   ]
  },
  {
   "cell_type": "code",
   "execution_count": 2,
   "metadata": {},
   "outputs": [],
   "source": [
    "public class Solution {\n",
    "    public int numPairsDivisibleBy60(int[] time) {\n",
    "        int n = time.length, count = 0;\n",
    "        int[] remainders = new int[60];\n",
    "        for (int i = 0; i < n; ++i) {\n",
    "            int t = (60 - (time[i] % 60)) % 60;\n",
    "            count += remainders[t];\n",
    "            remainders[time[i] % 60]++;\n",
    "        }\n",
    "        return count;\n",
    "    }\n",
    "}"
   ]
  },
  {
   "cell_type": "code",
   "execution_count": 3,
   "metadata": {},
   "outputs": [
    {
     "data": {
      "text/plain": [
       "3"
      ]
     },
     "execution_count": 3,
     "metadata": {},
     "output_type": "execute_result"
    }
   ],
   "source": [
    "new Solution().numPairsDivisibleBy60(new int[] {30,20,150,100,40});"
   ]
  },
  {
   "cell_type": "code",
   "execution_count": 4,
   "metadata": {},
   "outputs": [
    {
     "data": {
      "text/plain": [
       "3"
      ]
     },
     "execution_count": 4,
     "metadata": {},
     "output_type": "execute_result"
    }
   ],
   "source": [
    "new Solution().numPairsDivisibleBy60(new int[] {60,60,60});"
   ]
  },
  {
   "cell_type": "code",
   "execution_count": null,
   "metadata": {},
   "outputs": [],
   "source": []
  },
  {
   "cell_type": "code",
   "execution_count": null,
   "metadata": {},
   "outputs": [],
   "source": []
  }
 ],
 "metadata": {
  "kernelspec": {
   "display_name": "Java",
   "language": "java",
   "name": "java"
  },
  "language_info": {
   "codemirror_mode": "java",
   "file_extension": ".jshell",
   "mimetype": "text/x-java-source",
   "name": "Java",
   "pygments_lexer": "java",
   "version": "11.0.3+7"
  }
 },
 "nbformat": 4,
 "nbformat_minor": 2
}
