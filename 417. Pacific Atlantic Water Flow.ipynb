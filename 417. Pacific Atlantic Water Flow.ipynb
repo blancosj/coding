{
 "cells": [
  {
   "cell_type": "markdown",
   "metadata": {},
   "source": [
    "Given an m x n matrix of non-negative integers representing the height of each unit cell in a continent, the \"Pacific ocean\" touches the left and top edges of the matrix and the \"Atlantic ocean\" touches the right and bottom edges.\n",
    "\n",
    "Water can only flow in four directions (up, down, left, or right) from a cell to another one with height equal or lower.\n",
    "\n",
    "Find the list of grid coordinates where water can flow to both the Pacific and Atlantic ocean.\n",
    "\n",
    "__Note:__\n",
    "\n",
    "The order of returned grid coordinates does not matter.\n",
    "Both m and n are less than 150.\n",
    " \n",
    "\n",
    "__Example:__\n",
    "```\n",
    "Given the following 5x5 matrix:\n",
    "\n",
    "  Pacific ~   ~   ~   ~   ~ \n",
    "       ~  1   2   2   3  (5) *\n",
    "       ~  3   2   3  (4) (4) *\n",
    "       ~  2   4  (5)  3   1  *\n",
    "       ~ (6) (7)  1   4   5  *\n",
    "       ~ (5)  1   1   2   4  *\n",
    "          *   *   *   *   * Atlantic\n",
    "\n",
    "Return:\n",
    "\n",
    "[[0, 4], [1, 3], [1, 4], [2, 2], [3, 0], [3, 1], [4, 0]] (positions with parentheses in above matrix).\n",
    "```"
   ]
  },
  {
   "cell_type": "code",
   "execution_count": 17,
   "metadata": {},
   "outputs": [],
   "source": [
    "public class Solution {\n",
    "    private int[][] matrix;\n",
    "    private int m, n;\n",
    "    private int[][] moves = {{0,1},{0,-1},{1,0},{-1,0}};\n",
    "    public List<List<Integer>> solve(int[][] matrix) {\n",
    "        this.matrix = matrix;\n",
    "        m = matrix.length;\n",
    "        List<List<Integer>> answer = new ArrayList<>();\n",
    "        if (m == 0) return answer;\n",
    "        n = matrix[0].length;\n",
    "        boolean[][] pacific = new boolean[m][n];\n",
    "        boolean[][] atlantic = new boolean[m][n];\n",
    "        for (int i = 0; i < m; ++i) {\n",
    "            dfs(i, 0, 0, pacific);\n",
    "            dfs(i, n - 1, 0, atlantic);\n",
    "        }\n",
    "        for (int i = 0; i < n; ++i) {\n",
    "            dfs(0, i, 0, pacific);\n",
    "            dfs(m - 1, i, 0, atlantic);\n",
    "        }\n",
    "        for (int j = 0; j < m; ++j) {\n",
    "            for (int i = 0; i < n; ++i) {\n",
    "                if (pacific[j][i] && atlantic[j][i]) {\n",
    "                    answer.add(List.of(j, i));\n",
    "                }\n",
    "            }\n",
    "        }\n",
    "        return answer;\n",
    "    }\n",
    "    private void dfs(int j, int i, int height, boolean[][] ocean) {\n",
    "        if (j < 0 || j >= m || i < 0 || i >= n || ocean[j][i] || matrix[j][i] < height) return;\n",
    "        ocean[j][i] = true;\n",
    "        for (int[] move : moves) {\n",
    "            int y = j + move[0];\n",
    "            int x = i + move[1];\n",
    "            dfs(y, x, matrix[j][i], ocean);\n",
    "        }\n",
    "    }\n",
    "}"
   ]
  },
  {
   "cell_type": "code",
   "execution_count": 18,
   "metadata": {},
   "outputs": [
    {
     "data": {
      "text/plain": [
       "[[0, 4], [1, 3], [1, 4], [2, 2], [3, 0], [3, 1], [4, 0]]"
      ]
     },
     "execution_count": 18,
     "metadata": {},
     "output_type": "execute_result"
    }
   ],
   "source": [
    "int[][] matrix = {\n",
    "    {1,2,2,3,5},\n",
    "    {3,2,3,4,4},\n",
    "    {2,4,5,3,1},\n",
    "    {6,7,1,4,5},\n",
    "    {5,1,1,2,4}\n",
    "};\n",
    "new Solution().solve(matrix);"
   ]
  },
  {
   "cell_type": "code",
   "execution_count": null,
   "metadata": {},
   "outputs": [],
   "source": []
  },
  {
   "cell_type": "code",
   "execution_count": null,
   "metadata": {},
   "outputs": [],
   "source": []
  }
 ],
 "metadata": {
  "kernelspec": {
   "display_name": "Java",
   "language": "java",
   "name": "java"
  },
  "language_info": {
   "codemirror_mode": "java",
   "file_extension": ".jshell",
   "mimetype": "text/x-java-source",
   "name": "Java",
   "pygments_lexer": "java",
   "version": "11.0.3+7"
  }
 },
 "nbformat": 4,
 "nbformat_minor": 2
}
