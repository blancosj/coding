{
 "cells": [
  {
   "cell_type": "markdown",
   "metadata": {},
   "source": [
    "Given two numbers, hour and minutes. Return the smaller angle (in degrees) formed between the hour and the minute hand.\n",
    "\n",
    "__Example 1:__\n",
    "```\n",
    "Input: hour = 12, minutes = 30\n",
    "Output: 165\n",
    "```\n",
    "__Example 2:__\n",
    "```\n",
    "Input: hour = 3, minutes = 30\n",
    "Output: 75\n",
    "```\n",
    "__Example 3:__\n",
    "```\n",
    "Input: hour = 3, minutes = 15\n",
    "Output: 7.5\n",
    "```\n",
    "__Example 4:__\n",
    "```\n",
    "Input: hour = 4, minutes = 50\n",
    "Output: 155\n",
    "```\n",
    "__Example 5:__\n",
    "```\n",
    "Input: hour = 12, minutes = 0\n",
    "Output: 0\n",
    "``` \n",
    "__Constraints:__\n",
    "* 1 <= hour <= 12\n",
    "* 0 <= minutes <= 59\n",
    "* Answers within 10^-5 of the actual value will be accepted as correct."
   ]
  },
  {
   "cell_type": "code",
   "execution_count": 27,
   "metadata": {},
   "outputs": [],
   "source": [
    "public class Solution {\n",
    "    public double solve(int hours, int minutes) {\n",
    "        double angleForHour = 360 / 12;\n",
    "        double angleForMinute = 360 / 60;\n",
    "        double angleForHourAndMinutes = angleForHour / 60;\n",
    "        double angleHour = (hours % 12) * angleForHour;\n",
    "        angleHour += (angleForHourAndMinutes * minutes);\n",
    "        double angleMinute = angleForMinute * minutes;\n",
    "        double answer = Math.abs(angleHour - angleMinute);\n",
    "        return answer;\n",
    "    }\n",
    "}"
   ]
  },
  {
   "cell_type": "code",
   "execution_count": 28,
   "metadata": {},
   "outputs": [
    {
     "data": {
      "text/plain": [
       "0.0"
      ]
     },
     "execution_count": 28,
     "metadata": {},
     "output_type": "execute_result"
    }
   ],
   "source": [
    "new Solution().solve(12, 0);"
   ]
  },
  {
   "cell_type": "code",
   "execution_count": 29,
   "metadata": {},
   "outputs": [
    {
     "data": {
      "text/plain": [
       "165.0"
      ]
     },
     "execution_count": 29,
     "metadata": {},
     "output_type": "execute_result"
    }
   ],
   "source": [
    "new Solution().solve(12, 30);"
   ]
  },
  {
   "cell_type": "code",
   "execution_count": 30,
   "metadata": {},
   "outputs": [
    {
     "data": {
      "text/plain": [
       "75.0"
      ]
     },
     "execution_count": 30,
     "metadata": {},
     "output_type": "execute_result"
    }
   ],
   "source": [
    "new Solution().solve(3, 30);"
   ]
  },
  {
   "cell_type": "code",
   "execution_count": 31,
   "metadata": {},
   "outputs": [
    {
     "data": {
      "text/plain": [
       "7.5"
      ]
     },
     "execution_count": 31,
     "metadata": {},
     "output_type": "execute_result"
    }
   ],
   "source": [
    "new Solution().solve(3, 15);"
   ]
  },
  {
   "cell_type": "code",
   "execution_count": 32,
   "metadata": {},
   "outputs": [
    {
     "data": {
      "text/plain": [
       "155.0"
      ]
     },
     "execution_count": 32,
     "metadata": {},
     "output_type": "execute_result"
    }
   ],
   "source": [
    "new Solution().solve(4, 50);"
   ]
  },
  {
   "cell_type": "code",
   "execution_count": null,
   "metadata": {},
   "outputs": [],
   "source": []
  },
  {
   "cell_type": "code",
   "execution_count": null,
   "metadata": {},
   "outputs": [],
   "source": []
  }
 ],
 "metadata": {
  "kernelspec": {
   "display_name": "Java",
   "language": "java",
   "name": "java"
  },
  "language_info": {
   "codemirror_mode": "java",
   "file_extension": ".jshell",
   "mimetype": "text/x-java-source",
   "name": "Java",
   "pygments_lexer": "java",
   "version": "11.0.3+7"
  }
 },
 "nbformat": 4,
 "nbformat_minor": 2
}
