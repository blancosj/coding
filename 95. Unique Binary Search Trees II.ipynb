{
 "cells": [
  {
   "cell_type": "markdown",
   "metadata": {},
   "source": [
    "Given an integer n, generate all structurally unique BST's (binary search trees) that store values 1 ... n.\n",
    "\n",
    "__Example:__\n",
    "```\n",
    "Input: 3\n",
    "Output:\n",
    "[\n",
    "  [1,null,3,2],\n",
    "  [3,2,null,1],\n",
    "  [3,1,null,null,2],\n",
    "  [2,1,3],\n",
    "  [1,null,2,null,3]\n",
    "]\n",
    "Explanation:\n",
    "The above output corresponds to the 5 unique BST's shown below:\n",
    "\n",
    "   1         3     3      2      1\n",
    "    \\       /     /      / \\      \\\n",
    "     3     2     1      1   3      2\n",
    "    /     /       \\                 \\\n",
    "   2     1         2                 3\n",
    "```\n",
    "__Constraints:__\n",
    "\n",
    "* 0 <= n <= 8"
   ]
  },
  {
   "cell_type": "code",
   "execution_count": 5,
   "metadata": {},
   "outputs": [],
   "source": [
    "public class TreeNode {\n",
    "    public int val;\n",
    "    public TreeNode left, right;\n",
    "    public TreeNode(int val) {\n",
    "        this.val = val;\n",
    "    }\n",
    "    @Override\n",
    "    public String toString() {\n",
    "        StringBuilder result = new StringBuilder();\n",
    "        ArrayDeque<TreeNode> stack = new ArrayDeque<>();\n",
    "        stack.push(this);\n",
    "        while (!stack.isEmpty()) {\n",
    "            TreeNode cur = stack.pop();\n",
    "            result.append(cur.val).append(\",\");\n",
    "            if (cur.val == 0) continue;\n",
    "            if (cur.left == null && cur.right == null) continue;\n",
    "            if (cur.left != null) {\n",
    "                stack.push(cur.left);\n",
    "            } else {\n",
    "                stack.push(new TreeNode(0));\n",
    "            }\n",
    "            if (cur.right != null) {\n",
    "                stack.push(cur.right);\n",
    "            } else {\n",
    "                stack.push(new TreeNode(0));\n",
    "            }\n",
    "        }\n",
    "        result.setLength(result.length() - 1);\n",
    "        return result.toString();\n",
    "    }\n",
    "}"
   ]
  },
  {
   "cell_type": "code",
   "execution_count": 6,
   "metadata": {},
   "outputs": [],
   "source": [
    "public class Solution {\n",
    "    public List<TreeNode> solve(int n) {\n",
    "        return helper(1, n);\n",
    "    } \n",
    "    private List<TreeNode> helper(int start, int end) {\n",
    "        List<TreeNode> answer = new ArrayList<>();\n",
    "        if (end < start) {\n",
    "            answer.add(null);\n",
    "            return answer;\n",
    "        }\n",
    "        for (int i = start; i <= end; ++i) {\n",
    "            List<TreeNode> leftList = helper(start, i - 1);\n",
    "            List<TreeNode> rightList = helper(i + 1, end);\n",
    "            for (TreeNode left : leftList) {\n",
    "                for (TreeNode right : rightList) {\n",
    "                    \n",
    "                    TreeNode root = new TreeNode(i);\n",
    "                    root.left = left;\n",
    "                    root.right = right;\n",
    "                    answer.add(root);\n",
    "                }\n",
    "            }\n",
    "        }\n",
    "        return answer;\n",
    "    }\n",
    "}"
   ]
  },
  {
   "cell_type": "code",
   "execution_count": 7,
   "metadata": {},
   "outputs": [
    {
     "data": {
      "text/plain": [
       "[1]"
      ]
     },
     "execution_count": 7,
     "metadata": {},
     "output_type": "execute_result"
    }
   ],
   "source": [
    "new Solution().solve(1);"
   ]
  },
  {
   "cell_type": "code",
   "execution_count": 8,
   "metadata": {},
   "outputs": [
    {
     "data": {
      "text/plain": [
       "[1,2,3,0,0, 1,3,0,2,0, 2,3,1, 3,0,1,2,0, 3,0,2,0,1]"
      ]
     },
     "execution_count": 8,
     "metadata": {},
     "output_type": "execute_result"
    }
   ],
   "source": [
    "new Solution().solve(3);"
   ]
  },
  {
   "cell_type": "code",
   "execution_count": null,
   "metadata": {},
   "outputs": [],
   "source": []
  }
 ],
 "metadata": {
  "kernelspec": {
   "display_name": "Java",
   "language": "java",
   "name": "java"
  },
  "language_info": {
   "codemirror_mode": "java",
   "file_extension": ".jshell",
   "mimetype": "text/x-java-source",
   "name": "Java",
   "pygments_lexer": "java",
   "version": "11.0.3+7"
  }
 },
 "nbformat": 4,
 "nbformat_minor": 2
}
