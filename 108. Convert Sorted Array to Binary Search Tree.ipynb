{
 "cells": [
  {
   "cell_type": "markdown",
   "metadata": {},
   "source": [
    "### <a href='https://leetcode.com/problems/convert-sorted-array-to-binary-search-tree/'>108. Convert Sorted Array to Binary Search Tree</a>\n",
    "Given an array where elements are sorted in ascending order, convert it to a height balanced BST.\n",
    "\n",
    "For this problem, a height-balanced binary tree is defined as a binary tree in which the depth of the two subtrees of every node never differ by more than 1.\n",
    "\n",
    "__Example:__\n",
    "```\n",
    "Given the sorted array: [-10,-3,0,5,9],\n",
    "\n",
    "One possible answer is: [0,-3,9,-10,null,5], which represents the following height balanced BST:\n",
    "\n",
    "      0\n",
    "     / \\\n",
    "   -3   9\n",
    "   /   /\n",
    " -10  5\n",
    "``` "
   ]
  },
  {
   "cell_type": "code",
   "execution_count": 7,
   "metadata": {},
   "outputs": [],
   "source": [
    "public class TreeNode {\n",
    "    public int val;\n",
    "    public TreeNode left, right;\n",
    "    public TreeNode(int val) {\n",
    "        this.val = val;\n",
    "    }\n",
    "    @Override\n",
    "    public String toString() {\n",
    "        Stack<TreeNode> stack = new Stack<>();\n",
    "        stack.push(this);\n",
    "        StringBuilder result = new StringBuilder();\n",
    "        while (!stack.isEmpty()) {\n",
    "            TreeNode cur = stack.pop();\n",
    "            result.append(cur.val).append(\",\");\n",
    "            if (cur.left != null) stack.push(cur.left);\n",
    "            if (cur.right != null) stack.push(cur.right);\n",
    "        }\n",
    "        return result.toString();\n",
    "    }\n",
    "}"
   ]
  },
  {
   "cell_type": "code",
   "execution_count": 8,
   "metadata": {},
   "outputs": [],
   "source": [
    "public class Solution {\n",
    "    private int[] nums;\n",
    "    public TreeNode solve(int[] nums) {\n",
    "        this.nums = nums;\n",
    "        return helper(0, nums.length - 1);\n",
    "    }\n",
    "    private TreeNode helper(int left, int right) {\n",
    "        if (left > right) return null;\n",
    "        int p = left + (right - left) / 2;\n",
    "        TreeNode node = new TreeNode(p);\n",
    "        node.left = helper(left, p - 1);\n",
    "        node.right = helper(p + 1, right);\n",
    "        return node;\n",
    "    }\n",
    "}"
   ]
  },
  {
   "cell_type": "code",
   "execution_count": 9,
   "metadata": {},
   "outputs": [
    {
     "data": {
      "text/plain": [
       "2,3,4,0,1,"
      ]
     },
     "execution_count": 9,
     "metadata": {},
     "output_type": "execute_result"
    }
   ],
   "source": [
    "new Solution().solve(new int[] { -10,-3,0,5,9 });"
   ]
  },
  {
   "cell_type": "code",
   "execution_count": null,
   "metadata": {},
   "outputs": [],
   "source": []
  }
 ],
 "metadata": {
  "kernelspec": {
   "display_name": "Java",
   "language": "java",
   "name": "java"
  },
  "language_info": {
   "codemirror_mode": "java",
   "file_extension": ".jshell",
   "mimetype": "text/x-java-source",
   "name": "Java",
   "pygments_lexer": "java",
   "version": "11.0.3+7"
  }
 },
 "nbformat": 4,
 "nbformat_minor": 2
}
