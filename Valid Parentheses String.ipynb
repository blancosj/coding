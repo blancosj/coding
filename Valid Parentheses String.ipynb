{
 "cells": [
  {
   "cell_type": "code",
   "execution_count": 1,
   "metadata": {},
   "outputs": [],
   "source": [
    "String[] expr1 = { \")\", \"(*)\", \"((*)\" };"
   ]
  },
  {
   "cell_type": "code",
   "execution_count": 2,
   "metadata": {},
   "outputs": [],
   "source": [
    "// this function works with wildcards too\n",
    "// greedy O(N)\n",
    "public boolean checkValidString(String s) {\n",
    "    int len = s.length();\n",
    "    int lo = 0, hi = 0;\n",
    "    for (char c : s.toCharArray()) {\n",
    "        lo += c == '(' ? 1 : -1;\n",
    "        hi += c != ')' ? 1 : -1;\n",
    "        if (hi < 0) break;\n",
    "        lo = Math.max(lo, 0);\n",
    "    }\n",
    "    return lo == 0;\n",
    "}"
   ]
  },
  {
   "cell_type": "code",
   "execution_count": 3,
   "metadata": {},
   "outputs": [
    {
     "name": "stdout",
     "output_type": "stream",
     "text": [
      ") false\n",
      "(*) true\n",
      "((*) true\n"
     ]
    }
   ],
   "source": [
    "for (String s : expr1) {\n",
    "    System.out.println(String.format(\"%s %b\", s, checkValidString(s)));\n",
    "}"
   ]
  },
  {
   "cell_type": "code",
   "execution_count": 7,
   "metadata": {},
   "outputs": [],
   "source": [
    "String[] expr2 = { \")\", \"()())\", \"((())\", \"()\", \"(()())\" }"
   ]
  },
  {
   "cell_type": "code",
   "execution_count": 5,
   "metadata": {},
   "outputs": [],
   "source": [
    "// greedy O(N)\n",
    "public boolean checkValidStringSimple(String s) {\n",
    "    int len = s.length();\n",
    "    int open = 0;\n",
    "    for (char c : s.toCharArray()) {\n",
    "        open += c == '(' ? 1 : -1;\n",
    "        if (open < 0) break;\n",
    "    }\n",
    "    return open == 0;\n",
    "}"
   ]
  },
  {
   "cell_type": "code",
   "execution_count": 8,
   "metadata": {},
   "outputs": [
    {
     "name": "stdout",
     "output_type": "stream",
     "text": [
      ") false\n",
      "()()) false\n",
      "((()) false\n",
      "() true\n",
      "(()()) true\n"
     ]
    }
   ],
   "source": [
    "for (String s : expr2) {\n",
    "    System.out.println(String.format(\"%s %b\", s, checkValidStringSimple(s)));\n",
    "}"
   ]
  },
  {
   "cell_type": "code",
   "execution_count": 18,
   "metadata": {},
   "outputs": [],
   "source": [
    "// recursion O(N) with dynamic programming\n",
    "public boolean checkValidStringRec(\n",
    "    String s, int len, int start, int balance,\n",
    "    int[][] dp\n",
    "    ) {\n",
    "    if (start == len) return balance == 0;\n",
    "    if (dp[start][balance + len] > 0) {\n",
    "        return dp[start][balance + len] == 1 ? true : false;\n",
    "    }\n",
    "    char c = s.charAt(start);\n",
    "    boolean result = false;\n",
    "    if (c == '(') {\n",
    "        if (checkValidStringRec(s, len, start + 1, balance + 1, dp)) {\n",
    "            result = true;\n",
    "        }\n",
    "    } else if (c == ')' && balance > 0) {\n",
    "        if (checkValidStringRec(s, len, start + 1, balance - 1, dp)) {\n",
    "            result = true;\n",
    "        }\n",
    "    } else if (c == '*') {\n",
    "        if (checkValidStringRec(s, len, start + 1, balance - 1, dp)) {\n",
    "            result = true;\n",
    "        }\n",
    "        if (checkValidStringRec(s, len, start + 1, balance, dp)) {\n",
    "            result = true;\n",
    "        }\n",
    "        if (checkValidStringRec(s, len, start + 1, balance + 1, dp)) {\n",
    "            result = true;\n",
    "        }\n",
    "    }\n",
    "    dp[start][balance + len] = result ? 1 : 2;\n",
    "    return result;\n",
    "}"
   ]
  },
  {
   "cell_type": "code",
   "execution_count": 19,
   "metadata": {},
   "outputs": [
    {
     "name": "stdout",
     "output_type": "stream",
     "text": [
      ") false\n",
      "()()) false\n",
      "((()) false\n",
      "() true\n",
      "(()()) true\n"
     ]
    }
   ],
   "source": [
    "for (String s : expr2) {\n",
    "    int len = s.length();\n",
    "    int[][] dp = new int[len][len * 2 + 1];\n",
    "    System.out.println(String.format(\"%s %b\", s, \n",
    "        checkValidStringRec(s, len, 0, 0, dp)));\n",
    "}"
   ]
  },
  {
   "cell_type": "code",
   "execution_count": null,
   "metadata": {},
   "outputs": [],
   "source": []
  },
  {
   "cell_type": "code",
   "execution_count": null,
   "metadata": {},
   "outputs": [],
   "source": []
  }
 ],
 "metadata": {
  "kernelspec": {
   "display_name": "Java",
   "language": "java",
   "name": "java"
  },
  "language_info": {
   "codemirror_mode": "java",
   "file_extension": ".jshell",
   "mimetype": "text/x-java-source",
   "name": "Java",
   "pygments_lexer": "java",
   "version": "11.0.3+7"
  }
 },
 "nbformat": 4,
 "nbformat_minor": 2
}
