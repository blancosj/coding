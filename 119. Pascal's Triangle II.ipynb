{
 "cells": [
  {
   "cell_type": "markdown",
   "metadata": {},
   "source": [
    "Given a non-negative index k where k ≤ 33, return the kth index row of the Pascal's triangle.\n",
    "\n",
    "Note that the row index starts from 0.\n",
    "\n",
    "\n",
    "In Pascal's triangle, each number is the sum of the two numbers directly above it.\n",
    "\n",
    "Example:\n",
    "```\n",
    "Input: 3\n",
    "Output: [1,3,3,1]\n",
    "```\n",
    "__Follow up__:\n",
    "\n",
    "Could you optimize your algorithm to use only O(k) extra space?"
   ]
  },
  {
   "cell_type": "code",
   "execution_count": 7,
   "metadata": {},
   "outputs": [],
   "source": [
    "public class Solution {\n",
    "    public List<Integer> getRow(int rowIndex) {\n",
    "        //    1\n",
    "        //  1. 1\n",
    "        //.1. 2  1\n",
    "        List<Integer> row = new ArrayList<>();\n",
    "        row.add(1);\n",
    "        if (rowIndex == 0) return row;\n",
    "        row.add(1);\n",
    "        for (int j = 2; j <= rowIndex; ++j) {\n",
    "            List<Integer> cur = new ArrayList<>();\n",
    "            cur.add(1);\n",
    "            for (int i = 1; i < j; ++i) {\n",
    "                cur.add(row.get(i - 1) + row.get(i));\n",
    "            }\n",
    "            cur.add(1);\n",
    "            row.clear();\n",
    "            row.addAll(cur);\n",
    "        }\n",
    "        return row;\n",
    "    } \n",
    "}"
   ]
  },
  {
   "cell_type": "code",
   "execution_count": 8,
   "metadata": {},
   "outputs": [
    {
     "data": {
      "text/plain": [
       "[1, 2, 1]"
      ]
     },
     "execution_count": 8,
     "metadata": {},
     "output_type": "execute_result"
    }
   ],
   "source": [
    "new Solution().getRow(2);"
   ]
  },
  {
   "cell_type": "code",
   "execution_count": 9,
   "metadata": {},
   "outputs": [
    {
     "data": {
      "text/plain": [
       "[1, 10, 45, 120, 210, 252, 210, 120, 45, 10, 1]"
      ]
     },
     "execution_count": 9,
     "metadata": {},
     "output_type": "execute_result"
    }
   ],
   "source": [
    "new Solution().getRow(10);"
   ]
  },
  {
   "cell_type": "code",
   "execution_count": 12,
   "metadata": {},
   "outputs": [],
   "source": [
    "public class Solution {\n",
    "    public List<Integer> getRow(int rowIndex) {\n",
    "        if (rowIndex == 0) return List.of(1);\n",
    "        if (rowIndex == 1) return List.of(1, 1);\n",
    "        return helper(2, rowIndex, List.of(1, 1));\n",
    "    }\n",
    "    private List<Integer> helper(int curRowIndex, int rowIndex, List<Integer> prev) {\n",
    "        if (curRowIndex > rowIndex) return prev;\n",
    "        List<Integer> result = new ArrayList<>();\n",
    "        result.add(1);\n",
    "        for (int i = 0; i < prev.size() - 1; ++i) {\n",
    "            result.add(prev.get(i) + prev.get(i + 1));\n",
    "        }\n",
    "        result.add(1);\n",
    "        return helper(curRowIndex + 1, rowIndex, result);\n",
    "    }\n",
    "}"
   ]
  },
  {
   "cell_type": "code",
   "execution_count": 13,
   "metadata": {},
   "outputs": [
    {
     "data": {
      "text/plain": [
       "[1, 10, 45, 120, 210, 252, 210, 120, 45, 10, 1]"
      ]
     },
     "execution_count": 13,
     "metadata": {},
     "output_type": "execute_result"
    }
   ],
   "source": [
    "new Solution().getRow(10);"
   ]
  },
  {
   "cell_type": "code",
   "execution_count": 14,
   "metadata": {},
   "outputs": [
    {
     "data": {
      "text/plain": [
       "[1, 2, 1]"
      ]
     },
     "execution_count": 14,
     "metadata": {},
     "output_type": "execute_result"
    }
   ],
   "source": [
    "new Solution().getRow(2);"
   ]
  },
  {
   "cell_type": "code",
   "execution_count": 15,
   "metadata": {},
   "outputs": [
    {
     "data": {
      "text/plain": [
       "[1, 3, 3, 1]"
      ]
     },
     "execution_count": 15,
     "metadata": {},
     "output_type": "execute_result"
    }
   ],
   "source": [
    "new Solution().getRow(3);"
   ]
  },
  {
   "cell_type": "code",
   "execution_count": null,
   "metadata": {},
   "outputs": [],
   "source": []
  }
 ],
 "metadata": {
  "kernelspec": {
   "display_name": "Java",
   "language": "java",
   "name": "java"
  },
  "language_info": {
   "codemirror_mode": "java",
   "file_extension": ".jshell",
   "mimetype": "text/x-java-source",
   "name": "Java",
   "pygments_lexer": "java",
   "version": "11.0.3+7"
  }
 },
 "nbformat": 4,
 "nbformat_minor": 2
}
