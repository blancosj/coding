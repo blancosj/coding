{
 "cells": [
  {
   "cell_type": "markdown",
   "metadata": {},
   "source": [
    "You are given a doubly linked list which in addition to the next and previous pointers, it could have a child pointer, which may or may not point to a separate doubly linked list. These child lists may have one or more children of their own, and so on, to produce a multilevel data structure, as shown in the example below.\n",
    "\n",
    "Flatten the list so that all the nodes appear in a single-level, doubly linked list. You are given the head of the first level of the list.\n",
    "\n",
    "__Example 1:__\n",
    "```\n",
    "Input: head = [1,2,3,4,5,6,null,null,null,7,8,9,10,null,null,11,12]\n",
    "Output: [1,2,3,7,8,11,12,9,10,4,5,6]\n",
    "```\n",
    "__Example 2:__\n",
    "```\n",
    "Input: head = [1,2,null,3]\n",
    "Output: [1,3,2]\n",
    "```\n",
    "__Explanation:__\n",
    "```\n",
    "The input multilevel linked list is as follows:\n",
    "  1---2---NULL\n",
    "  |\n",
    "  3---NULL\n",
    "```\n",
    "__Example 3:__\n",
    "```\n",
    "Input: head = []\n",
    "Output: [] \n",
    "```\n",
    "How multilevel linked list is represented in test case:\n",
    "\n",
    "We use the multilevel linked list from Example 1 above:\n",
    "```\n",
    " 1---2---3---4---5---6--NULL\n",
    "         |\n",
    "         7---8---9---10--NULL\n",
    "             |\n",
    "             11--12--NULL\n",
    "```             \n",
    "The serialization of each level is as follows:\n",
    "```\n",
    "[1,2,3,4,5,6,null]\n",
    "[7,8,9,10,null]\n",
    "[11,12,null]\n",
    "```\n",
    "To serialize all levels together we will add nulls in each level to signify no node connects to the upper node of the previous level. The serialization becomes:\n",
    "```\n",
    "[1,2,3,4,5,6,null]\n",
    "[null,null,7,8,9,10,null]\n",
    "[null,11,12,null]\n",
    "```\n",
    "Merging the serialization of each level and removing trailing nulls we obtain:\n",
    "```\n",
    "[1,2,3,4,5,6,null,null,null,7,8,9,10,null,null,11,12]\n",
    "```"
   ]
  },
  {
   "cell_type": "code",
   "execution_count": 1,
   "metadata": {},
   "outputs": [],
   "source": [
    "public class Node {\n",
    "    public int val;\n",
    "    public Node prev;\n",
    "    public Node next;\n",
    "    public Node child;\n",
    "    public Node(int val) {\n",
    "        this.val = val;\n",
    "    }\n",
    "    public Node() {}\n",
    "    public Node add(Node node) {\n",
    "        next = node;\n",
    "        node.prev = this;\n",
    "        return node;\n",
    "    }\n",
    "    @Override\n",
    "    public String toString() {\n",
    "        ArrayDeque<Optional<Node>> deque = new ArrayDeque<>();\n",
    "        deque.push(Optional.of(this));\n",
    "        StringBuilder result = new StringBuilder();\n",
    "        while (!deque.isEmpty()) {\n",
    "            Optional<Node> cur = deque.pop();\n",
    "            if (!cur.isPresent()) {\n",
    "                result.append(\"null,\");\n",
    "                continue;\n",
    "            }\n",
    "            result.append(cur.get().val).append(\",\");\n",
    "            if (cur.get().next != null) deque.push(Optional.ofNullable(cur.get().next));\n",
    "            deque.offer(Optional.ofNullable(cur.get().child));\n",
    "        }\n",
    "        return result.toString();\n",
    "    }\n",
    "}"
   ]
  },
  {
   "cell_type": "code",
   "execution_count": 2,
   "metadata": {},
   "outputs": [
    {
     "data": {
      "text/plain": [
       "1,2,3,4,5,6,null,null,null,7,8,9,10,null,null,null,null,11,12,null,null,null,"
      ]
     },
     "execution_count": 2,
     "metadata": {},
     "output_type": "execute_result"
    }
   ],
   "source": [
    "// Input: head = [1,2,3,4,5,6,null,null,null,7,8,9,10,null,null,11,12]\n",
    "Node head = new Node(1);\n",
    "Node four = new Node(4);\n",
    "head.add(new Node(2)).add(new Node(3)).add(four).add(new Node(5)).add(new Node(6));\n",
    "four.child = new Node(7);\n",
    "Node nine = new Node(9);\n",
    "four.child.add(new Node(8)).add(nine).add(new Node(10));\n",
    "nine.child = new Node(11);\n",
    "nine.child.add(new Node(12));\n",
    "head;"
   ]
  },
  {
   "cell_type": "code",
   "execution_count": null,
   "metadata": {},
   "outputs": [],
   "source": [
    "public class Solution {\n",
    "    public Node solve(Node head) {\n",
    "        Node result = new Node();\n",
    "        dfs(result, head);\n",
    "        return result.next;\n",
    "    }\n",
    "    private Node dfs(Node prev, Node node) {\n",
    "        if (node == null) return prev;\n",
    "        Node t = node.next;\n",
    "        prev.next = node;\n",
    "        node.prev = prev;\n",
    "        prev.child = null;\n",
    "        Node tail = dfs(node, node.child);\n",
    "        return dfs(tail, t);\n",
    "    }\n",
    "}"
   ]
  },
  {
   "cell_type": "code",
   "execution_count": null,
   "metadata": {},
   "outputs": [],
   "source": [
    "new Solution().solve(head);"
   ]
  },
  {
   "cell_type": "code",
   "execution_count": 18,
   "metadata": {},
   "outputs": [],
   "source": [
    "public class Solution2 {\n",
    "    public Node solve(Node head) {\n",
    "        return dfs(null, head);\n",
    "    }\n",
    "    private ArrayDeque<Node> stack = new ArrayDeque<>();\n",
    "    private Node dfs(Node prev, Node node) {\n",
    "        if (node == null) return prev;\n",
    "        if (node.child == null && node.next == null) {\n",
    "            node.prev = prev;\n",
    "            if (!stack.isEmpty()) {\n",
    "                node.next = dfs(node, stack.pop());\n",
    "            }\n",
    "            return node;\n",
    "        }\n",
    "        if (node.child != null) {\n",
    "            node.prev = prev;\n",
    "            if (node.next != null) stack.push(node.next);\n",
    "            node.next = dfs(node, node.child);\n",
    "            node.child = null;\n",
    "        } else {\n",
    "            node.prev = prev;\n",
    "            node.next = dfs(node, node.next);\n",
    "        }\n",
    "        return node;\n",
    "    }\n",
    "}"
   ]
  },
  {
   "cell_type": "code",
   "execution_count": 19,
   "metadata": {},
   "outputs": [
    {
     "data": {
      "text/plain": [
       "1,2,3,null,null,"
      ]
     },
     "execution_count": 19,
     "metadata": {},
     "output_type": "execute_result"
    }
   ],
   "source": [
    "Node head = new Node(1);\n",
    "head.add(new Node(2));\n",
    "head.child = new Node(3);\n",
    "head;"
   ]
  },
  {
   "cell_type": "code",
   "execution_count": 20,
   "metadata": {},
   "outputs": [
    {
     "data": {
      "text/plain": [
       "1,3,2,null,null,null,"
      ]
     },
     "execution_count": 20,
     "metadata": {},
     "output_type": "execute_result"
    }
   ],
   "source": [
    "new Solution2().solve(head);"
   ]
  },
  {
   "cell_type": "code",
   "execution_count": null,
   "metadata": {},
   "outputs": [],
   "source": []
  }
 ],
 "metadata": {
  "kernelspec": {
   "display_name": "Java",
   "language": "java",
   "name": "java"
  },
  "language_info": {
   "codemirror_mode": "java",
   "file_extension": ".jshell",
   "mimetype": "text/x-java-source",
   "name": "Java",
   "pygments_lexer": "java",
   "version": "11.0.3+7"
  }
 },
 "nbformat": 4,
 "nbformat_minor": 2
}
