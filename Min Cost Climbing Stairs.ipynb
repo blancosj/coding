{
 "cells": [
  {
   "cell_type": "markdown",
   "metadata": {},
   "source": [
    "### Min Cost Climbing Stairs\n",
    "On a staircase, the i-th step has some non-negative cost cost[i] assigned (0 indexed).\n",
    "\n",
    "Once you pay the cost, you can either climb one or two steps. You need to find minimum cost to reach the top of the floor, and you can either start from the step with index 0, or the step with index 1.\n",
    "\n",
    "Example 1:\n",
    "```\n",
    "Input: cost = [10, 15, 20]\n",
    "Output: 15\n",
    "Explanation: Cheapest is start on cost[1], pay that cost and go to the top.\n",
    "```\n",
    "Example 2:\n",
    "```\n",
    "Input: cost = [1, 100, 1, 1, 1, 100, 1, 1, 100, 1]\n",
    "Output: 6\n",
    "Explanation: Cheapest is start on cost[0], and only step on 1s, skipping cost[3].\n",
    "```"
   ]
  },
  {
   "cell_type": "code",
   "execution_count": 19,
   "metadata": {},
   "outputs": [],
   "source": [
    "public int minCostClimbing(int[] cost) {\n",
    "    int len = cost.length;\n",
    "    int s1 = 0, s2 = 0;\n",
    "    for (int i = len - 1; i >= 0; --i) {\n",
    "        int s0 = cost[i] + Math.min(s1, s2);\n",
    "        s2 = s1;\n",
    "        s1 = s0;\n",
    "    }\n",
    "    return Math.min(s1, s2);\n",
    "}"
   ]
  },
  {
   "cell_type": "code",
   "execution_count": 15,
   "metadata": {},
   "outputs": [],
   "source": [
    "public int minCostClimbing2(int[] cost) {\n",
    "    int len = cost.length;\n",
    "    int[] dp = new int[len];\n",
    "    for (int i = 0; i < len; ++i) {\n",
    "        if (i <= 1) {\n",
    "            dp[i] = cost[i];\n",
    "            continue;\n",
    "        }\n",
    "        dp[i] = cost[i] + Math.min(dp[i - 1], dp[i - 2]);\n",
    "    }\n",
    "    System.out.println(Arrays.toString(dp));\n",
    "    return Math.min(dp[len - 1], dp[len - 2]);\n",
    "}"
   ]
  },
  {
   "cell_type": "code",
   "execution_count": 20,
   "metadata": {},
   "outputs": [],
   "source": [
    "int[] stair1 = { 1, 2, 3, 4, 5, 7 };"
   ]
  },
  {
   "cell_type": "code",
   "execution_count": 21,
   "metadata": {},
   "outputs": [
    {
     "data": {
      "text/plain": [
       "9"
      ]
     },
     "execution_count": 21,
     "metadata": {},
     "output_type": "execute_result"
    }
   ],
   "source": [
    "minCostClimbing(stair1);"
   ]
  },
  {
   "cell_type": "code",
   "execution_count": 22,
   "metadata": {},
   "outputs": [
    {
     "name": "stdout",
     "output_type": "stream",
     "text": [
      "[1, 2, 4, 6, 9, 13]\n"
     ]
    },
    {
     "data": {
      "text/plain": [
       "9"
      ]
     },
     "execution_count": 22,
     "metadata": {},
     "output_type": "execute_result"
    }
   ],
   "source": [
    "minCostClimbing2(stair1);"
   ]
  }
 ],
 "metadata": {
  "kernelspec": {
   "display_name": "Java",
   "language": "java",
   "name": "java"
  },
  "language_info": {
   "codemirror_mode": "java",
   "file_extension": ".jshell",
   "mimetype": "text/x-java-source",
   "name": "Java",
   "pygments_lexer": "java",
   "version": "11.0.3+7"
  }
 },
 "nbformat": 4,
 "nbformat_minor": 2
}
