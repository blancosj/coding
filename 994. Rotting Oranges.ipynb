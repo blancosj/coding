{
 "cells": [
  {
   "cell_type": "markdown",
   "metadata": {},
   "source": [
    "In a given grid, each cell can have one of three values:\n",
    "\n",
    "the value 0 representing an empty cell;\n",
    "the value 1 representing a fresh orange;\n",
    "the value 2 representing a rotten orange.\n",
    "Every minute, any fresh orange that is adjacent (4-directionally) to a rotten orange becomes rotten.\n",
    "\n",
    "Return the minimum number of minutes that must elapse until no cell has a fresh orange.  If this is impossible, return -1 instead.\n",
    "\n",
    "Example 1:\n",
    "```\n",
    "Input: [[2,1,1],[1,1,0],[0,1,1]]\n",
    "Output: 4\n",
    "```\n",
    "Example 2:\n",
    "```\n",
    "Input: [[2,1,1],[0,1,1],[1,0,1]]\n",
    "Output: -1\n",
    "Explanation:  The orange in the bottom left corner (row 2, column 0) is never rotten, because rotting only happens 4-directionally.\n",
    "```\n",
    "Example 3:\n",
    "```\n",
    "Input: [[0,2]]\n",
    "Output: 0\n",
    "Explanation:  Since there are already no fresh oranges at minute 0, the answer is just 0.\n",
    "```\n",
    "Note:\n",
    "\n",
    "* 1 <= grid.length <= 10\n",
    "* 1 <= grid[0].length <= 10\n",
    "* grid[i][j] is only 0, 1, or 2."
   ]
  },
  {
   "cell_type": "code",
   "execution_count": 37,
   "metadata": {},
   "outputs": [],
   "source": [
    "public class Solution {\n",
    "    public int orangesRotting(int[][] grid) {\n",
    "        int n = grid.length; \n",
    "        int m = grid[0].length;\n",
    "        Queue<Integer> queue = new LinkedList<>();\n",
    "        int freshOranges = 0;\n",
    "        for (int j = 0; j < n; ++j) {\n",
    "            for (int i = 0; i < m; ++i) {\n",
    "                if (grid[j][i] == 2) queue.add(j * m + i);\n",
    "                if (grid[j][i] == 1) freshOranges++;\n",
    "            }\n",
    "        }\n",
    "        int answer = -1;\n",
    "        if (freshOranges == 0) return 0;\n",
    "        if (queue.isEmpty()) return -1;\n",
    "        queue.add(-1);\n",
    "        while (!queue.isEmpty()) {\n",
    "            int id = queue.remove();\n",
    "            if (id == -1) {\n",
    "                answer++;\n",
    "                if (!queue.isEmpty()) queue.add(-1);\n",
    "                continue;\n",
    "            }\n",
    "            int row = id / m;\n",
    "            int col = id % m;\n",
    "            if (row > 0 && grid[row - 1][col] == 1) {\n",
    "                grid[row - 1][col] = 2;\n",
    "                queue.add((row - 1) * m + col);\n",
    "                freshOranges--;\n",
    "            }\n",
    "            if (row < n - 1 && grid[row + 1][col] == 1) {\n",
    "                grid[row + 1][col] = 2;\n",
    "                queue.add((row + 1) * m + col);\n",
    "                freshOranges--;\n",
    "            }\n",
    "            if (col > 0 && grid[row][col - 1] == 1) {\n",
    "                grid[row][col - 1] = 2;\n",
    "                queue.add(row * m + col - 1);\n",
    "                freshOranges--;\n",
    "            }\n",
    "            if (col < m - 1 && grid[row][col + 1] == 1) {\n",
    "                grid[row][col + 1] = 2;\n",
    "                queue.add(row * m + col + 1);\n",
    "                freshOranges--;\n",
    "            }\n",
    "        }\n",
    "        return freshOranges == 0 ? answer : -1;\n",
    "    }\n",
    "}"
   ]
  },
  {
   "cell_type": "code",
   "execution_count": 38,
   "metadata": {},
   "outputs": [
    {
     "data": {
      "text/plain": [
       "4"
      ]
     },
     "execution_count": 38,
     "metadata": {},
     "output_type": "execute_result"
    }
   ],
   "source": [
    "int[][] nums1 = {{2,1,1},{1,1,0},{0,1,1}};\n",
    "new Solution().orangesRotting(nums1);"
   ]
  },
  {
   "cell_type": "code",
   "execution_count": 39,
   "metadata": {},
   "outputs": [
    {
     "data": {
      "text/plain": [
       "-1"
      ]
     },
     "execution_count": 39,
     "metadata": {},
     "output_type": "execute_result"
    }
   ],
   "source": [
    "int[][] nums1 = {{2,1,1},{0,1,1},{1,0,1}};\n",
    "new Solution().orangesRotting(nums1);"
   ]
  },
  {
   "cell_type": "code",
   "execution_count": 40,
   "metadata": {},
   "outputs": [
    {
     "data": {
      "text/plain": [
       "2"
      ]
     },
     "execution_count": 40,
     "metadata": {},
     "output_type": "execute_result"
    }
   ],
   "source": [
    "int[][] nums1 = {{2},{1},{1},{1},{2},{1},{1}};\n",
    "new Solution().orangesRotting(nums1);"
   ]
  },
  {
   "cell_type": "code",
   "execution_count": 41,
   "metadata": {},
   "outputs": [
    {
     "data": {
      "text/plain": [
       "0"
      ]
     },
     "execution_count": 41,
     "metadata": {},
     "output_type": "execute_result"
    }
   ],
   "source": [
    "int[][] nums1 = {{0}};\n",
    "new Solution().orangesRotting(nums1);"
   ]
  },
  {
   "cell_type": "code",
   "execution_count": 42,
   "metadata": {},
   "outputs": [
    {
     "data": {
      "text/plain": [
       "-1"
      ]
     },
     "execution_count": 42,
     "metadata": {},
     "output_type": "execute_result"
    }
   ],
   "source": [
    "int[][] nums1 = {{1}};\n",
    "new Solution().orangesRotting(nums1);"
   ]
  },
  {
   "cell_type": "code",
   "execution_count": null,
   "metadata": {},
   "outputs": [],
   "source": []
  }
 ],
 "metadata": {
  "kernelspec": {
   "display_name": "Java",
   "language": "java",
   "name": "java"
  },
  "language_info": {
   "codemirror_mode": "java",
   "file_extension": ".jshell",
   "mimetype": "text/x-java-source",
   "name": "Java",
   "pygments_lexer": "java",
   "version": "11.0.3+7"
  }
 },
 "nbformat": 4,
 "nbformat_minor": 2
}
