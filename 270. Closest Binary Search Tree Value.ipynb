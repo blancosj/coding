{
 "cells": [
  {
   "cell_type": "markdown",
   "metadata": {},
   "source": [
    "Given a non-empty binary search tree and a target value, find the value in the BST that is closest to the target.\n",
    "\n",
    "Note:\n",
    "\n",
    "Given target value is a floating point.\n",
    "You are guaranteed to have only one unique value in the BST that is closest to the target.\n",
    "__Example:__\n",
    "```\n",
    "Input: root = [4,2,5,1,3], target = 3.714286\n",
    "\n",
    "    4\n",
    "   / \\\n",
    "  2   5\n",
    " / \\\n",
    "1   3\n",
    "\n",
    "Output: 4\n",
    "```"
   ]
  },
  {
   "cell_type": "code",
   "execution_count": 1,
   "metadata": {},
   "outputs": [],
   "source": [
    "public class TreeNode {\n",
    "    public int val;\n",
    "    public TreeNode left, right;\n",
    "    public TreeNode(int val) {\n",
    "        this.val = val;\n",
    "    }\n",
    "}"
   ]
  },
  {
   "cell_type": "markdown",
   "metadata": {},
   "source": [
    "Time Complexity $\\mathcal O(n)$"
   ]
  },
  {
   "cell_type": "code",
   "execution_count": 8,
   "metadata": {},
   "outputs": [],
   "source": [
    "public class Solution {\n",
    "    public int solve(TreeNode root, double target) {\n",
    "        ArrayDeque<TreeNode> stack = new ArrayDeque<>();\n",
    "        TreeNode cur = root;\n",
    "        double prev = Double.MIN_VALUE;\n",
    "        while (!stack.isEmpty() || cur != null) {\n",
    "            if (cur != null) {\n",
    "                stack.push(cur);\n",
    "                cur = cur.left;\n",
    "            } else if (!stack.isEmpty()) {\n",
    "                cur = stack.pop();\n",
    "                if (prev <= target && target < cur.val) {\n",
    "                    return Math.abs(prev - target) > Math.abs(target - cur.val) \n",
    "                        ? cur.val : (int) prev;\n",
    "                }\n",
    "                prev = cur.val;\n",
    "                cur = cur.right;\n",
    "            }\n",
    "        }\n",
    "        return (int) prev;\n",
    "    }\n",
    "}"
   ]
  },
  {
   "cell_type": "code",
   "execution_count": 9,
   "metadata": {},
   "outputs": [
    {
     "data": {
      "text/plain": [
       "4"
      ]
     },
     "execution_count": 9,
     "metadata": {},
     "output_type": "execute_result"
    }
   ],
   "source": [
    "// [4,2,5,1,3]\n",
    "// 3.714286\n",
    "TreeNode root = new TreeNode(4);\n",
    "root.left = new TreeNode(2);\n",
    "root.right = new TreeNode(5);\n",
    "root.left.left = new TreeNode(1);\n",
    "root.left.right = new TreeNode(3);\n",
    "new Solution().solve(root, 3.714286d);"
   ]
  },
  {
   "cell_type": "code",
   "execution_count": 10,
   "metadata": {},
   "outputs": [
    {
     "data": {
      "text/plain": [
       "1"
      ]
     },
     "execution_count": 10,
     "metadata": {},
     "output_type": "execute_result"
    }
   ],
   "source": [
    "// [1]\n",
    "// 4.428571\n",
    "TreeNode root = new TreeNode(1);\n",
    "new Solution().solve(root, 4.428571d);"
   ]
  },
  {
   "cell_type": "markdown",
   "metadata": {},
   "source": [
    "Time Complexity $\\mathcal O(log\\cdot n)$"
   ]
  },
  {
   "cell_type": "code",
   "execution_count": 12,
   "metadata": {},
   "outputs": [],
   "source": [
    "public class Solution {\n",
    "    public int solve(TreeNode root, double target) {\n",
    "        int cur, answer = root.val;\n",
    "        while (root != null) {\n",
    "            cur = root.val;\n",
    "            if (Math.abs(cur - target) < Math.abs(answer - target)) {\n",
    "                answer = cur;\n",
    "            }\n",
    "            root = target > root.val ? root.right : root.left;\n",
    "        }\n",
    "        return answer;\n",
    "    }\n",
    "}"
   ]
  },
  {
   "cell_type": "code",
   "execution_count": 13,
   "metadata": {},
   "outputs": [
    {
     "data": {
      "text/plain": [
       "4"
      ]
     },
     "execution_count": 13,
     "metadata": {},
     "output_type": "execute_result"
    }
   ],
   "source": [
    "// [4,2,5,1,3]\n",
    "// 3.714286\n",
    "TreeNode root = new TreeNode(4);\n",
    "root.left = new TreeNode(2);\n",
    "root.right = new TreeNode(5);\n",
    "root.left.left = new TreeNode(1);\n",
    "root.left.right = new TreeNode(3);\n",
    "new Solution().solve(root, 3.714286d);"
   ]
  },
  {
   "cell_type": "code",
   "execution_count": 14,
   "metadata": {},
   "outputs": [
    {
     "data": {
      "text/plain": [
       "1"
      ]
     },
     "execution_count": 14,
     "metadata": {},
     "output_type": "execute_result"
    }
   ],
   "source": [
    "// [1]\n",
    "// 4.428571\n",
    "TreeNode root = new TreeNode(1);\n",
    "new Solution().solve(root, 4.428571d);"
   ]
  },
  {
   "cell_type": "code",
   "execution_count": null,
   "metadata": {},
   "outputs": [],
   "source": []
  }
 ],
 "metadata": {
  "kernelspec": {
   "display_name": "Java",
   "language": "java",
   "name": "java"
  },
  "language_info": {
   "codemirror_mode": "java",
   "file_extension": ".jshell",
   "mimetype": "text/x-java-source",
   "name": "Java",
   "pygments_lexer": "java",
   "version": "11.0.3+7"
  }
 },
 "nbformat": 4,
 "nbformat_minor": 2
}
