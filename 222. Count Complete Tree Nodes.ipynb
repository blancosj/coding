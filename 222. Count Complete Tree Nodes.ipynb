{
 "cells": [
  {
   "cell_type": "markdown",
   "metadata": {},
   "source": [
    "Given a complete binary tree, count the number of nodes.\n",
    "\n",
    "__Note:__\n",
    "\n",
    "Definition of a complete binary tree from Wikipedia:\n",
    "In a complete binary tree every level, except possibly the last, is completely filled, and all nodes in the last level are as far left as possible. It can have between 1 and 2h nodes inclusive at the last level h.\n",
    "\n",
    "__Example:__\n",
    "```\n",
    "Input: \n",
    "    1\n",
    "   / \\\n",
    "  2   3\n",
    " / \\  /\n",
    "4  5 6\n",
    "\n",
    "Output: 6\n",
    "```"
   ]
  },
  {
   "cell_type": "code",
   "execution_count": 7,
   "metadata": {},
   "outputs": [],
   "source": [
    "public class TreeNode {\n",
    "    public int val;\n",
    "    public TreeNode left, right;\n",
    "    public TreeNode(int val) {\n",
    "        this.val = val;\n",
    "    }\n",
    "    @Override\n",
    "    public String toString() {\n",
    "        Stack<TreeNode> stack = new Stack<>();\n",
    "        stack.push(this);\n",
    "        StringBuilder result = new StringBuilder();\n",
    "        while (!stack.isEmpty()) {\n",
    "            TreeNode cur = stack.pop();\n",
    "            if (cur == null) {\n",
    "                result.append(\"#\").append(\":\");\n",
    "                continue;\n",
    "            }\n",
    "            result.append(cur.val).append(\":\");\n",
    "            if (cur.left == null && cur.right == null) continue;\n",
    "            stack.push(cur.left);\n",
    "            stack.push(cur.right);\n",
    "        }\n",
    "        return result.toString();\n",
    "    }\n",
    "}"
   ]
  },
  {
   "cell_type": "code",
   "execution_count": 8,
   "metadata": {},
   "outputs": [
    {
     "data": {
      "text/plain": [
       "1:3:#:6:2:5:4:"
      ]
     },
     "execution_count": 8,
     "metadata": {},
     "output_type": "execute_result"
    }
   ],
   "source": [
    "TreeNode root = new TreeNode(1);\n",
    "root.left = new TreeNode(2);\n",
    "root.right = new TreeNode(3);\n",
    "root.left.left = new TreeNode(4);\n",
    "root.left.right = new TreeNode(5);\n",
    "root.right.left = new TreeNode(6);\n",
    "root;"
   ]
  },
  {
   "cell_type": "code",
   "execution_count": null,
   "metadata": {},
   "outputs": [],
   "source": []
  },
  {
   "cell_type": "code",
   "execution_count": 11,
   "metadata": {},
   "outputs": [],
   "source": [
    "public class Solution {\n",
    "    public int solve(TreeNode root) {\n",
    "        if (root == null) return 0;\n",
    "        return 1 + solve(root.left) + solve(root.right);\n",
    "    }\n",
    "}"
   ]
  },
  {
   "cell_type": "code",
   "execution_count": 12,
   "metadata": {},
   "outputs": [
    {
     "data": {
      "text/plain": [
       "6"
      ]
     },
     "execution_count": 12,
     "metadata": {},
     "output_type": "execute_result"
    }
   ],
   "source": [
    "new Solution().solve(root);"
   ]
  },
  {
   "cell_type": "code",
   "execution_count": 70,
   "metadata": {},
   "outputs": [],
   "source": [
    "public class Solution {\n",
    "    public int solve(TreeNode root) {\n",
    "        int height = calcHeight(root);\n",
    "        int lastLevel = (int) Math.pow(2, height);\n",
    "        if (lastLevel == 0) return 1;\n",
    "        int left = 0, right = lastLevel - 1;\n",
    "        while (left <= right) {\n",
    "            int mid = left + (right - left) / 2;\n",
    "            if (exists(root, mid, height, (int) lastLevel)) {\n",
    "                left = mid + 1;\n",
    "            } else {\n",
    "                right = mid - 1;\n",
    "            }\n",
    "        }\n",
    "        // total nodes 2^levels - 1 => \n",
    "        //     1        2^0 = 1 node\n",
    "        //    / \\\n",
    "        //   2   3      2^1 = 2 nodes\n",
    "        // --------------------------\n",
    "        // total nodes  2^2 - 1 = 3 \n",
    "        return (int) Math.pow(2, height) - 1 + left;\n",
    "    }\n",
    "    private boolean exists(TreeNode node, int pos, int height, int lastLevel) {\n",
    "        int left = 0, right = lastLevel - 1;\n",
    "        for (int i = 0; i < height; ++i) {\n",
    "            int mid = left + (right - left) / 2;\n",
    "            if (pos > mid) {\n",
    "                left = mid + 1;\n",
    "                node = node.right;\n",
    "            } else {\n",
    "                right = mid - 1;\n",
    "                node = node.left;\n",
    "            }\n",
    "        }\n",
    "        return node != null;\n",
    "    }\n",
    "    private int calcHeight(TreeNode node) {\n",
    "        int height = 0;\n",
    "        while (node.left != null) {\n",
    "            node = node.left;\n",
    "            height++;\n",
    "        }\n",
    "        return height;\n",
    "    }\n",
    "}"
   ]
  },
  {
   "cell_type": "code",
   "execution_count": 71,
   "metadata": {},
   "outputs": [
    {
     "data": {
      "text/plain": [
       "3"
      ]
     },
     "execution_count": 71,
     "metadata": {},
     "output_type": "execute_result"
    }
   ],
   "source": [
    "TreeNode root = new TreeNode(2);\n",
    "root.left = new TreeNode(1);\n",
    "root.right = new TreeNode(3);\n",
    "new Solution().solve(root);"
   ]
  },
  {
   "cell_type": "code",
   "execution_count": 72,
   "metadata": {},
   "outputs": [
    {
     "data": {
      "text/plain": [
       "6"
      ]
     },
     "execution_count": 72,
     "metadata": {},
     "output_type": "execute_result"
    }
   ],
   "source": [
    "TreeNode root = new TreeNode(1);\n",
    "root.left = new TreeNode(2);\n",
    "root.right = new TreeNode(3);\n",
    "root.left.left = new TreeNode(4);\n",
    "root.left.right = new TreeNode(5);\n",
    "root.right.left = new TreeNode(6);\n",
    "new Solution().solve(root);"
   ]
  },
  {
   "cell_type": "code",
   "execution_count": null,
   "metadata": {},
   "outputs": [],
   "source": []
  },
  {
   "cell_type": "code",
   "execution_count": null,
   "metadata": {},
   "outputs": [],
   "source": []
  },
  {
   "cell_type": "code",
   "execution_count": null,
   "metadata": {},
   "outputs": [],
   "source": []
  }
 ],
 "metadata": {
  "kernelspec": {
   "display_name": "Java",
   "language": "java",
   "name": "java"
  },
  "language_info": {
   "codemirror_mode": "java",
   "file_extension": ".jshell",
   "mimetype": "text/x-java-source",
   "name": "Java",
   "pygments_lexer": "java",
   "version": "11.0.3+7"
  }
 },
 "nbformat": 4,
 "nbformat_minor": 2
}
