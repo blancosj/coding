{
 "cells": [
  {
   "cell_type": "markdown",
   "metadata": {},
   "source": [
    "### <a href='https://leetcode.com/problems/find-permutation/'>484. Find Permutation<a/>\n",
    "By now, you are given a secret signature consisting of character 'D' and 'I'. 'D' represents a decreasing relationship between two numbers, 'I' represents an increasing relationship between two numbers. And our secret signature was constructed by a special integer array, which contains uniquely all the different number from 1 to n (n is the length of the secret signature plus 1). For example, the secret signature \"DI\" can be constructed by array [2,1,3] or [3,1,2], but won't be constructed by array [3,2,4] or [2,1,3,4], which are both illegal constructing special string that can't represent the \"DI\" secret signature.\n",
    "\n",
    "On the other hand, now your job is to find the lexicographically smallest permutation of [1, 2, ... n] could refer to the given secret signature in the input.\n",
    "\n",
    "__Example 1:__\n",
    "```\n",
    "Input: \"I\"\n",
    "Output: [1,2]\n",
    "Explanation: [1,2] is the only legal initial spectial string can construct secret signature \"I\", where the number 1 and 2 construct an increasing relationship.\n",
    "```\n",
    "__Example 2:__\n",
    "```\n",
    "Input: \"DI\"\n",
    "Output: [2,1,3]\n",
    "Explanation: Both [2,1,3] and [3,1,2] can construct the secret signature \"DI\", \n",
    "but since we want to find the one with the smallest lexicographical permutation, you need to output [2,1,3]\n",
    "```\n",
    "__Note:__\n",
    "* The input string will only contain the character 'D' and 'I'.\n",
    "* The length of input string is a positive integer and will not exceed 10,000"
   ]
  },
  {
   "cell_type": "code",
   "execution_count": 29,
   "metadata": {},
   "outputs": [],
   "source": [
    "public class Solution {\n",
    "    public int[] solve(String s) {\n",
    "        int n = s.length();\n",
    "        ArrayDeque<Integer> stack = new ArrayDeque<>();\n",
    "        List<Integer> list = new ArrayList<>();\n",
    "        stack.push(1);\n",
    "        // 1 2 3 4\n",
    "        //   D D I\n",
    "        // 3 2 1 4    \n",
    "        // 1 2 3 \n",
    "        for (int i = 0; i < n; ++i) {\n",
    "            char c = s.charAt(i);\n",
    "            if (c == 'D') {\n",
    "                stack.push(i + 2);\n",
    "            } else {\n",
    "                while (!stack.isEmpty()) list.add(stack.pop());\n",
    "                stack.push(i + 2);\n",
    "            }\n",
    "        }\n",
    "        while (!stack.isEmpty()) list.add(stack.pop());\n",
    "        int[] answer = new int[list.size()];\n",
    "        for (int i = 0; i < list.size(); ++i) answer[i] = list.get(i);\n",
    "        return answer;\n",
    "    }\n",
    "}"
   ]
  },
  {
   "cell_type": "code",
   "execution_count": 30,
   "metadata": {},
   "outputs": [
    {
     "data": {
      "text/plain": [
       "[2, 1]"
      ]
     },
     "execution_count": 30,
     "metadata": {},
     "output_type": "execute_result"
    }
   ],
   "source": [
    "Arrays.toString(new Solution().solve(\"D\"));"
   ]
  },
  {
   "cell_type": "code",
   "execution_count": 31,
   "metadata": {},
   "outputs": [
    {
     "data": {
      "text/plain": [
       "[3, 2, 1]"
      ]
     },
     "execution_count": 31,
     "metadata": {},
     "output_type": "execute_result"
    }
   ],
   "source": [
    "Arrays.toString(new Solution().solve(\"DD\"));"
   ]
  },
  {
   "cell_type": "code",
   "execution_count": 32,
   "metadata": {},
   "outputs": [
    {
     "data": {
      "text/plain": [
       "[1, 2, 3]"
      ]
     },
     "execution_count": 32,
     "metadata": {},
     "output_type": "execute_result"
    }
   ],
   "source": [
    "Arrays.toString(new Solution().solve(\"II\"));"
   ]
  },
  {
   "cell_type": "code",
   "execution_count": 33,
   "metadata": {},
   "outputs": [
    {
     "data": {
      "text/plain": [
       "[3, 2, 1, 4]"
      ]
     },
     "execution_count": 33,
     "metadata": {},
     "output_type": "execute_result"
    }
   ],
   "source": [
    "// 1,2,3\n",
    "// 3,2,1,\n",
    "Arrays.toString(new Solution().solve(\"DDI\"));"
   ]
  },
  {
   "cell_type": "code",
   "execution_count": 34,
   "metadata": {},
   "outputs": [
    {
     "data": {
      "text/plain": [
       "[3, 2, 1, 4, 6, 5, 7]"
      ]
     },
     "execution_count": 34,
     "metadata": {},
     "output_type": "execute_result"
    }
   ],
   "source": [
    "// 1 2 3 4 5 6 7\n",
    "//   D D I I D I\n",
    "// 3 2 1 4 6 5 7\n",
    "// \n",
    "Arrays.toString(new Solution().solve(\"DDIIDI\"));"
   ]
  },
  {
   "cell_type": "code",
   "execution_count": null,
   "metadata": {},
   "outputs": [],
   "source": [
    "public class Solution {\n",
    "    public int[] solve(String s) {\n",
    "        \n",
    "    }\n",
    "}\n",
    "//         *\n",
    "// 1 2 3 4 5 6 7\n",
    "//           ^\n",
    "//   D D I I D I\n",
    "// 3 2 1 4 6 5 \n",
    "// "
   ]
  },
  {
   "cell_type": "code",
   "execution_count": null,
   "metadata": {},
   "outputs": [],
   "source": []
  },
  {
   "cell_type": "code",
   "execution_count": null,
   "metadata": {},
   "outputs": [],
   "source": []
  },
  {
   "cell_type": "code",
   "execution_count": null,
   "metadata": {},
   "outputs": [],
   "source": []
  }
 ],
 "metadata": {
  "kernelspec": {
   "display_name": "Java",
   "language": "java",
   "name": "java"
  },
  "language_info": {
   "codemirror_mode": "java",
   "file_extension": ".jshell",
   "mimetype": "text/x-java-source",
   "name": "Java",
   "pygments_lexer": "java",
   "version": "11.0.3+7"
  }
 },
 "nbformat": 4,
 "nbformat_minor": 2
}
