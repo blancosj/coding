{
 "cells": [
  {
   "cell_type": "markdown",
   "metadata": {},
   "source": [
    "Given the string s, return the size of the longest substring containing each vowel an even number of times. That is, 'a', 'e', 'i', 'o', and 'u' must appear an even number of times.\n",
    "\n",
    "__Example 1:__\n",
    "```\n",
    "Input: s = \"eleetminicoworoep\"\n",
    "Output: 13\n",
    "Explanation: The longest substring is \"leetminicowor\" which contains two each of the vowels: e, i and o and zero of the vowels: a and u.\n",
    "```\n",
    "__Example 2:__\n",
    "```\n",
    "Input: s = \"leetcodeisgreat\"\n",
    "Output: 5\n",
    "Explanation: The longest substring is \"leetc\" which contains two e's.\n",
    "```\n",
    "__Example 3:__\n",
    "```\n",
    "Input: s = \"bcbcbc\"\n",
    "Output: 6\n",
    "Explanation: In this case, the given string \"bcbcbc\" is the longest because all vowels: a, e, i, o and u appear zero times.\n",
    "``` \n",
    "__Constraints:__\n",
    "\n",
    "* 1 <= s.length <= 5 x 10^5\n",
    "* s contains only lowercase English letters."
   ]
  },
  {
   "cell_type": "code",
   "execution_count": null,
   "metadata": {},
   "outputs": [],
   "source": []
  }
 ],
 "metadata": {
  "kernelspec": {
   "display_name": "Java",
   "language": "java",
   "name": "java"
  },
  "language_info": {
   "codemirror_mode": "java",
   "file_extension": ".jshell",
   "mimetype": "text/x-java-source",
   "name": "Java",
   "pygments_lexer": "java",
   "version": "11.0.3+7"
  }
 },
 "nbformat": 4,
 "nbformat_minor": 2
}
