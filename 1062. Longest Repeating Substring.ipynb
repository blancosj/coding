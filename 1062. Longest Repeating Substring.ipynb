{
 "cells": [
  {
   "cell_type": "markdown",
   "metadata": {},
   "source": [
    "Given a string S, find out the length of the longest repeating substring(s). Return 0 if no repeating substring exists.\n",
    "\n",
    "Example 1:\n",
    "```\n",
    "Input: \"abcd\"\n",
    "Output: 0\n",
    "Explanation: There is no repeating substring.\n",
    "```\n",
    "Example 2:\n",
    "```\n",
    "Input: \"abbaba\"\n",
    "Output: 2\n",
    "Explanation: The longest repeating substrings are \"ab\" and \"ba\", each of which occurs twice.\n",
    "```\n",
    "Example 3:\n",
    "```\n",
    "Input: \"aabcaabdaab\"\n",
    "Output: 3\n",
    "Explanation: The longest repeating substring is \"aab\", which occurs 3 times.\n",
    "```\n",
    "Example 4:\n",
    "```\n",
    "Input: \"aaaaa\"\n",
    "Output: 4\n",
    "Explanation: The longest repeating substring is \"aaaa\", which occurs twice.\n",
    "```\n",
    "Note:\n",
    "\n",
    "* The string S consists of only lowercase English letters from 'a' - 'z'.\n",
    "* 1 <= S.length <= 1500"
   ]
  },
  {
   "cell_type": "code",
   "execution_count": 149,
   "metadata": {},
   "outputs": [],
   "source": [
    "public class Solution {\n",
    "    public int longestRepeatingSubstring(String s) {\n",
    "        int n = s.length();\n",
    "        int left = 0, right = n;\n",
    "        while (left <= right) {\n",
    "            int l = left + (right - left) / 2;\n",
    "            if (search(l, n, s)) {\n",
    "                left = l + 1;\n",
    "            } else {\n",
    "                right = l - 1;\n",
    "            }\n",
    "        }\n",
    "        return left - 1;\n",
    "    }\n",
    "    private boolean search(int l, int n, String s) {\n",
    "        HashSet<Integer> seen = new HashSet<>();\n",
    "        for (int i = 0; i < n - l + 1; ++i) {\n",
    "            String tmp = s.substring(i, i + l);\n",
    "            int h = tmp.hashCode();\n",
    "            if (seen.contains(h)) {\n",
    "                return true;\n",
    "            }\n",
    "            seen.add(h);\n",
    "        }\n",
    "        return false;\n",
    "    }\n",
    "}"
   ]
  },
  {
   "cell_type": "code",
   "execution_count": 150,
   "metadata": {},
   "outputs": [
    {
     "data": {
      "text/plain": [
       "0"
      ]
     },
     "execution_count": 150,
     "metadata": {},
     "output_type": "execute_result"
    }
   ],
   "source": [
    "new Solution().longestRepeatingSubstring(\"abcd\");"
   ]
  },
  {
   "cell_type": "code",
   "execution_count": 151,
   "metadata": {},
   "outputs": [
    {
     "data": {
      "text/plain": [
       "4"
      ]
     },
     "execution_count": 151,
     "metadata": {},
     "output_type": "execute_result"
    }
   ],
   "source": [
    "new Solution().longestRepeatingSubstring(\"aaaaa\");"
   ]
  },
  {
   "cell_type": "code",
   "execution_count": 153,
   "metadata": {},
   "outputs": [
    {
     "data": {
      "text/plain": [
       "3"
      ]
     },
     "execution_count": 153,
     "metadata": {},
     "output_type": "execute_result"
    }
   ],
   "source": [
    "new Solution().longestRepeatingSubstring(\"aabcaabdaab\");"
   ]
  },
  {
   "cell_type": "code",
   "execution_count": 142,
   "metadata": {},
   "outputs": [],
   "source": [
    "public class Solution2 {\n",
    "    public int longestRepeatingSubstring(String s) {\n",
    "    }\n",
    "}"
   ]
  },
  {
   "cell_type": "code",
   "execution_count": 143,
   "metadata": {},
   "outputs": [
    {
     "data": {
      "text/plain": [
       "3"
      ]
     },
     "execution_count": 143,
     "metadata": {},
     "output_type": "execute_result"
    }
   ],
   "source": [
    "new Solution2().longestRepeatingSubstring(\"aaaaa\");"
   ]
  },
  {
   "cell_type": "code",
   "execution_count": 144,
   "metadata": {},
   "outputs": [
    {
     "data": {
      "text/plain": [
       "4"
      ]
     },
     "execution_count": 144,
     "metadata": {},
     "output_type": "execute_result"
    }
   ],
   "source": [
    "new Solution2().longestRepeatingSubstring(\"abbaba\");"
   ]
  },
  {
   "cell_type": "code",
   "execution_count": 154,
   "metadata": {},
   "outputs": [
    {
     "data": {
      "text/plain": [
       "7"
      ]
     },
     "execution_count": 154,
     "metadata": {},
     "output_type": "execute_result"
    }
   ],
   "source": [
    "new Solution2().longestRepeatingSubstring(\"aabcaabdaab\");"
   ]
  },
  {
   "cell_type": "markdown",
   "metadata": {},
   "source": [
    "https://www.youtube.com/watch?v=BQ9E-2umSWc&t=242s\n",
    "https://leetcode.com/problems/longest-repeating-substring/solution/\n",
    "https://leetcode.com/problems/repeated-dna-sequences/discuss/53902/Short-Java-%22rolling-hash%22-solution"
   ]
  },
  {
   "cell_type": "code",
   "execution_count": 1177,
   "metadata": {},
   "outputs": [],
   "source": [
    "public long hashRolling(String s, char c) {\n",
    "    long h = 0;\n",
    "    long base = 'z' - 'a' + 1;\n",
    "    long m = (long)Math.pow(2, 32);\n",
    "    int L = s.length();\n",
    "    for(int i = 0; i < L; ++i) {\n",
    "        h = (h * base + (s.charAt(i) - 'a' + 1)) % m;\n",
    "        System.out.println(h);\n",
    "    }\n",
    "\n",
    "    long aL = 1;\n",
    "    for (int i = 1; i <= s.length(); ++i) aL = (aL * base) % m;\n",
    "    System.out.println(\">>\" + aL);\n",
    "\n",
    "    h = (h * base - ((s.charAt(0) - 'a' + 1) * aL) % m) % m;\n",
    "    h = (h + (c - 'a' + 1)) % m;\n",
    "    \n",
    "    System.out.println(\"**\" + h);\n",
    "    return -1;\n",
    "}"
   ]
  },
  {
   "cell_type": "code",
   "execution_count": 1170,
   "metadata": {},
   "outputs": [
    {
     "name": "stdout",
     "output_type": "stream",
     "text": [
      "1\n",
      "27\n",
      "703\n",
      "18279\n",
      "475255\n",
      "12356631\n",
      "321272407\n",
      "4058115287\n",
      "2431782359\n",
      "3096799191\n",
      "3207367639\n",
      "1787179991\n",
      "3517006807\n",
      "1247863767\n",
      "2379686871\n",
      "1742316503\n",
      "2350556119\n",
      "984916951\n",
      "4133004247\n",
      "83928023\n",
      "2182128599\n",
      "900768727\n",
      "1945150423\n",
      "3329270743\n",
      "661693399\n",
      ">>3657433088\n",
      "**661693399\n"
     ]
    },
    {
     "data": {
      "text/plain": [
       "-1"
      ]
     },
     "execution_count": 1170,
     "metadata": {},
     "output_type": "execute_result"
    }
   ],
   "source": [
    "hashRolling(\"aaaaaaaaaaaaaaaaaaaaaaaaa\", 'a');"
   ]
  },
  {
   "cell_type": "code",
   "execution_count": 1180,
   "metadata": {},
   "outputs": [
    {
     "name": "stdout",
     "output_type": "stream",
     "text": [
      "2\n",
      "53\n",
      "1392\n",
      ">>17576\n",
      "**1041\n"
     ]
    },
    {
     "data": {
      "text/plain": [
       "-1"
      ]
     },
     "execution_count": 1180,
     "metadata": {},
     "output_type": "execute_result"
    }
   ],
   "source": [
    "hashRolling(\"ban\", 'a');\n",
    "// (base^0 * a) + (base^1 * b) + (base^2 * c) + (base^3 * d) = 19010\n",
    "\n",
    "// ((((1 * 27) * 27) * 27) * 27) = \n",
    "\n",
    "// (base^0 * b) + (base^1 * c) + (base^2 * d) + (base^3 * e) = 37289"
   ]
  },
  {
   "cell_type": "code",
   "execution_count": 1181,
   "metadata": {},
   "outputs": [
    {
     "name": "stdout",
     "output_type": "stream",
     "text": [
      "1\n",
      "40\n",
      "1041\n",
      ">>17576\n",
      "**9496\n"
     ]
    },
    {
     "data": {
      "text/plain": [
       "-1"
      ]
     },
     "execution_count": 1181,
     "metadata": {},
     "output_type": "execute_result"
    }
   ],
   "source": [
    "hashRolling(\"ana\", 'f');\n",
    "// (base^0 * b) + (base^1 * c) + (base^2 * d) + (base^3 * e) = 37289"
   ]
  }
 ],
 "metadata": {
  "kernelspec": {
   "display_name": "Java",
   "language": "java",
   "name": "java"
  },
  "language_info": {
   "codemirror_mode": "java",
   "file_extension": ".jshell",
   "mimetype": "text/x-java-source",
   "name": "Java",
   "pygments_lexer": "java",
   "version": "11.0.3+7"
  }
 },
 "nbformat": 4,
 "nbformat_minor": 2
}
