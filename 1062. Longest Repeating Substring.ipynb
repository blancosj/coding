{
 "cells": [
  {
   "cell_type": "markdown",
   "metadata": {},
   "source": [
    "Given a string S, find out the length of the longest repeating substring(s). Return 0 if no repeating substring exists.\n",
    "\n",
    "Example 1:\n",
    "```\n",
    "Input: \"abcd\"\n",
    "Output: 0\n",
    "Explanation: There is no repeating substring.\n",
    "```\n",
    "Example 2:\n",
    "```\n",
    "Input: \"abbaba\"\n",
    "Output: 2\n",
    "Explanation: The longest repeating substrings are \"ab\" and \"ba\", each of which occurs twice.\n",
    "```\n",
    "Example 3:\n",
    "```\n",
    "Input: \"aabcaabdaab\"\n",
    "Output: 3\n",
    "Explanation: The longest repeating substring is \"aab\", which occurs 3 times.\n",
    "```\n",
    "Example 4:\n",
    "```\n",
    "Input: \"aaaaa\"\n",
    "Output: 4\n",
    "Explanation: The longest repeating substring is \"aaaa\", which occurs twice.\n",
    "```\n",
    "Note:\n",
    "\n",
    "* The string S consists of only lowercase English letters from 'a' - 'z'.\n",
    "* 1 <= S.length <= 1500"
   ]
  },
  {
   "cell_type": "code",
   "execution_count": 149,
   "metadata": {},
   "outputs": [],
   "source": [
    "public class Solution {\n",
    "    public int longestRepeatingSubstring(String s) {\n",
    "        int n = s.length();\n",
    "        int left = 0, right = n;\n",
    "        while (left <= right) {\n",
    "            int l = left + (right - left) / 2;\n",
    "            if (search(l, n, s)) {\n",
    "                left = l + 1;\n",
    "            } else {\n",
    "                right = l - 1;\n",
    "            }\n",
    "        }\n",
    "        return left - 1;\n",
    "    }\n",
    "    private boolean search(int l, int n, String s) {\n",
    "        HashSet<Integer> seen = new HashSet<>();\n",
    "        for (int i = 0; i < n - l + 1; ++i) {\n",
    "            String tmp = s.substring(i, i + l);\n",
    "            int h = tmp.hashCode();\n",
    "            if (seen.contains(h)) {\n",
    "                return true;\n",
    "            }\n",
    "            seen.add(h);\n",
    "        }\n",
    "        return false;\n",
    "    }\n",
    "}"
   ]
  },
  {
   "cell_type": "code",
   "execution_count": 150,
   "metadata": {},
   "outputs": [
    {
     "data": {
      "text/plain": [
       "0"
      ]
     },
     "execution_count": 150,
     "metadata": {},
     "output_type": "execute_result"
    }
   ],
   "source": [
    "new Solution().longestRepeatingSubstring(\"abcd\");"
   ]
  },
  {
   "cell_type": "code",
   "execution_count": 151,
   "metadata": {},
   "outputs": [
    {
     "data": {
      "text/plain": [
       "4"
      ]
     },
     "execution_count": 151,
     "metadata": {},
     "output_type": "execute_result"
    }
   ],
   "source": [
    "new Solution().longestRepeatingSubstring(\"aaaaa\");"
   ]
  },
  {
   "cell_type": "code",
   "execution_count": 153,
   "metadata": {},
   "outputs": [
    {
     "data": {
      "text/plain": [
       "3"
      ]
     },
     "execution_count": 153,
     "metadata": {},
     "output_type": "execute_result"
    }
   ],
   "source": [
    "new Solution().longestRepeatingSubstring(\"aabcaabdaab\");"
   ]
  },
  {
   "cell_type": "code",
   "execution_count": 142,
   "metadata": {},
   "outputs": [],
   "source": [
    "public class Solution2 {\n",
    "    public int longestRepeatingSubstring(String s) {\n",
    "        int n = s.length();\n",
    "        int left = 0; \n",
    "        int right = n;\n",
    "        while (left <= right) {\n",
    "            int l = left + (right - left) / 2;\n",
    "            if (search(s, l)) {\n",
    "                left = l + 1;\n",
    "            } else {\n",
    "                right = l - 1;\n",
    "            }\n",
    "        }\n",
    "        return left - 1;\n",
    "    }\n",
    "    private boolean search(String s, int l) {\n",
    "        int totalLetters = 'z' - 'a' + 1;\n",
    "        int modulus = 2 << 19;\n",
    "        int h = 0;\n",
    "        int n = s.length();\n",
    "        for (int i = 0; i < l; ++i) {\n",
    "            h += ((int) Math.pow(totalLetters, i) * (s.charAt(i) - 'a' + 1)) % modulus;\n",
    "        }\n",
    "        HashSet<Integer> seen = new HashSet<>();\n",
    "        seen.add(h);\n",
    "        for (int i = 1; i < n - l + 1; ++i) {\n",
    "            int d = (s.charAt(i) - 'a' + 1);\n",
    "            int d2 = ((int) Math.pow(totalLetters, l - 1) * (s.charAt(i) - 'a' + 1)) % modulus;\n",
    "            int h2 = h - d + d2;\n",
    "            if (seen.contains(h2)) return true;\n",
    "            seen.add(h2);\n",
    "        }\n",
    "        return false;\n",
    "    }\n",
    "}"
   ]
  },
  {
   "cell_type": "code",
   "execution_count": 143,
   "metadata": {},
   "outputs": [
    {
     "data": {
      "text/plain": [
       "3"
      ]
     },
     "execution_count": 143,
     "metadata": {},
     "output_type": "execute_result"
    }
   ],
   "source": [
    "new Solution2().longestRepeatingSubstring(\"aaaaa\");"
   ]
  },
  {
   "cell_type": "code",
   "execution_count": 144,
   "metadata": {},
   "outputs": [
    {
     "data": {
      "text/plain": [
       "4"
      ]
     },
     "execution_count": 144,
     "metadata": {},
     "output_type": "execute_result"
    }
   ],
   "source": [
    "new Solution2().longestRepeatingSubstring(\"abbaba\");"
   ]
  },
  {
   "cell_type": "code",
   "execution_count": 154,
   "metadata": {},
   "outputs": [
    {
     "data": {
      "text/plain": [
       "7"
      ]
     },
     "execution_count": 154,
     "metadata": {},
     "output_type": "execute_result"
    }
   ],
   "source": [
    "new Solution2().longestRepeatingSubstring(\"aabcaabdaab\");"
   ]
  },
  {
   "cell_type": "markdown",
   "metadata": {},
   "source": [
    "https://www.youtube.com/watch?v=BQ9E-2umSWc&t=242s\n",
    "https://leetcode.com/problems/longest-repeating-substring/solution/\n",
    "https://leetcode.com/problems/repeated-dna-sequences/discuss/53902/Short-Java-%22rolling-hash%22-solution"
   ]
  },
  {
   "cell_type": "code",
   "execution_count": 606,
   "metadata": {},
   "outputs": [],
   "source": [
    "//   public int search(int L, int a, long modulus, int n, int[] nums) {\n",
    "//     // compute the hash of string S[:L]\n",
    "//     long h = 0;\n",
    "//     for(int i = 0; i < L; ++i) h = (h * a + nums[i]) % modulus;\n",
    "\n",
    "//     // already seen hashes of strings of length L\n",
    "//     HashSet<Long> seen = new HashSet();\n",
    "//     seen.add(h);\n",
    "//     // const value to be used often : a**L % modulus\n",
    "//     long aL = 1;\n",
    "//     for (int i = 1; i <= L; ++i) aL = (aL * a) % modulus;\n",
    "\n",
    "//     for(int start = 1; start < n - L + 1; ++start) {\n",
    "//       // compute rolling hash in O(1) time\n",
    "//       h = (h * a - nums[start - 1] * aL % modulus + modulus) % modulus;\n",
    "//       h = (h + nums[start + L - 1]) % modulus;\n",
    "//       if (seen.contains(h)) return start;\n",
    "//       seen.add(h);\n",
    "//     }\n",
    "//     return -1;\n",
    "//   }\n",
    "public int hash(String s) {\n",
    "    int total = 'z' - 'a' + 1;\n",
    "    int x = (int) Math.pow(2, 25); // or 2 << 23\n",
    "    int h = 0;\n",
    "    for (int i = 0; i < s.length(); ++i) {\n",
    "        h = ((total * h) % x + (s.charAt(i) - 'a'));\n",
    "    }\n",
    "    return h;\n",
    "}"
   ]
  },
  {
   "cell_type": "code",
   "execution_count": 672,
   "metadata": {},
   "outputs": [
    {
     "data": {
      "text/plain": [
       "287717967"
      ]
     },
     "execution_count": 672,
     "metadata": {},
     "output_type": "execute_result"
    }
   ],
   "source": [
    "hash2(\"aaaaaaaaaaaaaaa\")"
   ]
  },
  {
   "cell_type": "code",
   "execution_count": 673,
   "metadata": {},
   "outputs": [
    {
     "data": {
      "text/plain": [
       "623262277"
      ]
     },
     "execution_count": 673,
     "metadata": {},
     "output_type": "execute_result"
    }
   ],
   "source": [
    "hash2(\"aaaaaaaaaaaaaaaaaaaaaaaaa\")"
   ]
  },
  {
   "cell_type": "code",
   "execution_count": 674,
   "metadata": {},
   "outputs": [
    {
     "data": {
      "text/plain": [
       "1"
      ]
     },
     "execution_count": 674,
     "metadata": {},
     "output_type": "execute_result"
    }
   ],
   "source": [
    "hash2(\"a\");"
   ]
  },
  {
   "cell_type": "code",
   "execution_count": 297,
   "metadata": {},
   "outputs": [
    {
     "data": {
      "text/plain": [
       "704"
      ]
     },
     "execution_count": 297,
     "metadata": {},
     "output_type": "execute_result"
    }
   ],
   "source": [
    "hash(\"aab\");"
   ]
  },
  {
   "cell_type": "code",
   "execution_count": 298,
   "metadata": {},
   "outputs": [
    {
     "data": {
      "text/plain": [
       "1379"
      ]
     },
     "execution_count": 298,
     "metadata": {},
     "output_type": "execute_result"
    }
   ],
   "source": [
    "hash(\"baa\");"
   ]
  },
  {
   "cell_type": "code",
   "execution_count": 735,
   "metadata": {},
   "outputs": [],
   "source": [
    "public long hash2(String s) {\n",
    "    long total = 'z' - 'a' + 1;\n",
    "    long x = (long) Math.pow(2, 25);\n",
    "    long h = 0;\n",
    "    for (int i = 0; i < s.length(); ++i) {\n",
    "        h += ((long) Math.pow(total, i) % x * (s.charAt(i) - 'a' + 1)) % x;\n",
    "    }\n",
    "    return h;\n",
    "}"
   ]
  },
  {
   "cell_type": "code",
   "execution_count": 738,
   "metadata": {},
   "outputs": [],
   "source": [
    "public long hashRolling(String s, char c) {\n",
    "    long h = hash2(s);\n",
    "    long total = 'z' - 'a' + 1;\n",
    "    long x = (int) Math.pow(2, 25); // or 2 << 23\n",
    "    long f = s.charAt(0) - 'a';\n",
    "//     h = (h / total) - s.charAt(1) - 'a' + 1;\n",
    "//     return (total * h) + (c - 'a' + 1);\n",
    "    h /= (total * (s.charAt(0) - 'a' + 1));\n",
    "    return h + (((int) Math.pow(total, s.length() - 1) % x) * (c - 'a' + 1) % x);\n",
    "//     return total;\n",
    "        //* h + ((int) Math.pow(total, 2)) + (c - 'a' + 1);;\n",
    "    \n",
    "//     return h + ((int) Math.pow(total, s.length() - 1) % x) + (c - 'a' + 1);\n",
    "}"
   ]
  },
  {
   "cell_type": "code",
   "execution_count": 739,
   "metadata": {},
   "outputs": [
    {
     "data": {
      "text/plain": [
       "41541983"
      ]
     },
     "execution_count": 739,
     "metadata": {},
     "output_type": "execute_result"
    }
   ],
   "source": [
    "hashRolling(\"aaaaaaaaaaaaaaaa\", 'a');"
   ]
  },
  {
   "cell_type": "code",
   "execution_count": 737,
   "metadata": {},
   "outputs": [
    {
     "data": {
      "text/plain": [
       "207676373"
      ]
     },
     "execution_count": 737,
     "metadata": {},
     "output_type": "execute_result"
    }
   ],
   "source": [
    "hash2(\"aaaaaaaaaaaaaaaa\");"
   ]
  },
  {
   "cell_type": "code",
   "execution_count": 719,
   "metadata": {},
   "outputs": [
    {
     "data": {
      "text/plain": [
       "728"
      ]
     },
     "execution_count": 719,
     "metadata": {},
     "output_type": "execute_result"
    }
   ],
   "source": [
    "hash(\"aabca\");"
   ]
  },
  {
   "cell_type": "code",
   "execution_count": 720,
   "metadata": {},
   "outputs": [
    {
     "data": {
      "text/plain": [
       "354826829"
      ]
     },
     "execution_count": 720,
     "metadata": {},
     "output_type": "execute_result"
    }
   ],
   "source": [
    "hash2(\"aaaaaaaaaaaaaaaaa\");"
   ]
  },
  {
   "cell_type": "code",
   "execution_count": 651,
   "metadata": {},
   "outputs": [
    {
     "ename": "UnresolvedReferenceException",
     "evalue": "Attempt to use definition snippet with unresolved references in MethodSnippet:hash2/(String)int-public int hash2(String s) {\n    int total = 'z' - 'a' + 1;\n    int x = (int) Math.pow(2, 25);\n    int h = 0;\n    for (int i = 0; i < s.length(); ++i) {\n        h = (h + (int) Math.pow(total, i) % x + (s.charAt(i) - 'a')) % modulus;\n    }\n    return h;\n}",
     "output_type": "error",
     "traceback": [
      "\u001b[1m\u001b[30m|   \u001b[1m\u001b[30mpublic int hash2(String s) {\u001b[0m",
      "\u001b[1m\u001b[30m|   \u001b[1m\u001b[30m    int total = 'z' - 'a' + 1;\u001b[0m",
      "\u001b[1m\u001b[30m|   \u001b[1m\u001b[30m    int x = (int) Math.pow(2, 25);\u001b[0m",
      "\u001b[1m\u001b[30m|   \u001b[1m\u001b[30m    int h = 0;\u001b[0m",
      "\u001b[1m\u001b[30m|   \u001b[1m\u001b[30m    for (int i = 0; i < s.length(); ++i) {\u001b[0m",
      "\u001b[1m\u001b[30m|   \u001b[1m\u001b[30m        h = (h + (int) Math.pow(total, i) % x + (s.charAt(i) - 'a')) % modulus;\u001b[0m",
      "\u001b[1m\u001b[30m|   \u001b[1m\u001b[30m    }\u001b[0m",
      "\u001b[1m\u001b[30m|   \u001b[1m\u001b[30m    return h;\u001b[0m",
      "\u001b[1m\u001b[30m|   \u001b[1m\u001b[30m}\u001b[0m",
      "\u001b[1m\u001b[31mUnresolved dependencies:\u001b[0m",
      "\u001b[1m\u001b[31m   - variable modulus\u001b[0m"
     ]
    }
   ],
   "source": [
    "hash2(\"abaaba\");"
   ]
  },
  {
   "cell_type": "code",
   "execution_count": 649,
   "metadata": {},
   "outputs": [
    {
     "data": {
      "text/plain": [
       "12356633"
      ]
     },
     "execution_count": 649,
     "metadata": {},
     "output_type": "execute_result"
    }
   ],
   "source": [
    "hash2(\"abaaba\")"
   ]
  },
  {
   "cell_type": "code",
   "execution_count": 306,
   "metadata": {},
   "outputs": [
    {
     "data": {
      "text/plain": [
       "704"
      ]
     },
     "execution_count": 306,
     "metadata": {},
     "output_type": "execute_result"
    }
   ],
   "source": [
    "hashRolling(\"abb\", 'a');"
   ]
  },
  {
   "cell_type": "code",
   "execution_count": 307,
   "metadata": {},
   "outputs": [
    {
     "data": {
      "text/plain": [
       "1787179991"
      ]
     },
     "execution_count": 307,
     "metadata": {},
     "output_type": "execute_result"
    }
   ],
   "source": [
    "hash(\"aaaaaaaaaaaa\")"
   ]
  },
  {
   "cell_type": "code",
   "execution_count": null,
   "metadata": {},
   "outputs": [],
   "source": []
  },
  {
   "cell_type": "code",
   "execution_count": null,
   "metadata": {},
   "outputs": [],
   "source": []
  },
  {
   "cell_type": "code",
   "execution_count": null,
   "metadata": {},
   "outputs": [],
   "source": []
  }
 ],
 "metadata": {
  "kernelspec": {
   "display_name": "Java",
   "language": "java",
   "name": "java"
  },
  "language_info": {
   "codemirror_mode": "java",
   "file_extension": ".jshell",
   "mimetype": "text/x-java-source",
   "name": "Java",
   "pygments_lexer": "java",
   "version": "11.0.3+7"
  }
 },
 "nbformat": 4,
 "nbformat_minor": 2
}
