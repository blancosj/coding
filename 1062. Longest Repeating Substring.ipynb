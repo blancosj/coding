{
 "cells": [
  {
   "cell_type": "markdown",
   "metadata": {},
   "source": [
    "Given a string S, find out the length of the longest repeating substring(s). Return 0 if no repeating substring exists.\n",
    "\n",
    "Example 1:\n",
    "```\n",
    "Input: \"abcd\"\n",
    "Output: 0\n",
    "Explanation: There is no repeating substring.\n",
    "```\n",
    "Example 2:\n",
    "```\n",
    "Input: \"abbaba\"\n",
    "Output: 2\n",
    "Explanation: The longest repeating substrings are \"ab\" and \"ba\", each of which occurs twice.\n",
    "```\n",
    "Example 3:\n",
    "```\n",
    "Input: \"aabcaabdaab\"\n",
    "Output: 3\n",
    "Explanation: The longest repeating substring is \"aab\", which occurs 3 times.\n",
    "```\n",
    "Example 4:\n",
    "```\n",
    "Input: \"aaaaa\"\n",
    "Output: 4\n",
    "Explanation: The longest repeating substring is \"aaaa\", which occurs twice.\n",
    "```\n",
    "Note:\n",
    "\n",
    "* The string S consists of only lowercase English letters from 'a' - 'z'.\n",
    "* 1 <= S.length <= 1500"
   ]
  },
  {
   "cell_type": "code",
   "execution_count": 12,
   "metadata": {},
   "outputs": [],
   "source": [
    "public class Solution {\n",
    "    public int longestRepeatingSubstring(String s) {\n",
    "        int n = s.length();\n",
    "        int left = 0, right = n;\n",
    "        while (left <= right) {\n",
    "            int l = left + (right - left) / 2;\n",
    "            if (search(l, n, s)) {\n",
    "                left = l + 1;\n",
    "            } else {\n",
    "                right = l - 1;\n",
    "            }\n",
    "        }\n",
    "        return left - 1;\n",
    "    }\n",
    "    private boolean search(int l, int n, String s) {\n",
    "        HashSet<Integer> seen = new HashSet<>();\n",
    "        for (int i = 0; i < n - l + 1; ++i) {\n",
    "            String tmp = s.substring(i, i + l);\n",
    "            int h = tmp.hashCode();\n",
    "            if (seen.contains(h)) {\n",
    "                return true;\n",
    "            }\n",
    "            seen.add(h);\n",
    "        }\n",
    "        return false;\n",
    "    }\n",
    "}"
   ]
  },
  {
   "cell_type": "code",
   "execution_count": 13,
   "metadata": {},
   "outputs": [
    {
     "data": {
      "text/plain": [
       "0"
      ]
     },
     "execution_count": 13,
     "metadata": {},
     "output_type": "execute_result"
    }
   ],
   "source": [
    "new Solution().longestRepeatingSubstring(\"abcd\");"
   ]
  },
  {
   "cell_type": "code",
   "execution_count": 14,
   "metadata": {},
   "outputs": [
    {
     "data": {
      "text/plain": [
       "4"
      ]
     },
     "execution_count": 14,
     "metadata": {},
     "output_type": "execute_result"
    }
   ],
   "source": [
    "new Solution().longestRepeatingSubstring(\"aaaaa\");"
   ]
  },
  {
   "cell_type": "code",
   "execution_count": 41,
   "metadata": {},
   "outputs": [
    {
     "data": {
      "text/plain": [
       "3"
      ]
     },
     "execution_count": 41,
     "metadata": {},
     "output_type": "execute_result"
    }
   ],
   "source": [
    "new Solution().longestRepeatingSubstring(\"aabcaabdaab\");"
   ]
  },
  {
   "cell_type": "code",
   "execution_count": 79,
   "metadata": {},
   "outputs": [],
   "source": [
    "public class Solution2 {\n",
    "    public int longestRepeatingSubstring(String s) {\n",
    "        int n = s.length();\n",
    "        int left = 1, right = n;\n",
    "        int answer = 0;\n",
    "        while (left <= right) {\n",
    "            int m = left + (right - left) / 2;\n",
    "            System.out.println(String.format(\"%d - %d - %d\", left, m, right));\n",
    "            if (search(s, m) != -1) {\n",
    "                left = m + 1;\n",
    "                answer = Math.max(answer, left);\n",
    "            } else {\n",
    "                right = m - 1;\n",
    "            }\n",
    "        }\n",
    "        return answer - 1;\n",
    "    }\n",
    "    private int search(String s, int len) {\n",
    "        int n = s.length();\n",
    "        long m = (long) Math.pow(2, 32);\n",
    "        int base = 'z' - 'a' + 1;\n",
    "        long h = 0;\n",
    "        \n",
    "        // we calculate hashcode hash = (hash * base + code) % modulus\n",
    "        for (int i = 0; i < len; ++i) h = ((h * base) + charCode(s.charAt(i))) % m; \n",
    "        // we calculate base for position len\n",
    "        long baseLen = 1;\n",
    "        for (int i = 1; i <= len; ++i) baseLen = (baseLen * base) % m;\n",
    "        Set<Long> seen = new HashSet<>();\n",
    "        seen.add(h);\n",
    "        for (int i = 1; i < n - len + 1; ++i) {\n",
    "            // we elevate hash to next position and\n",
    "            // we substract first element elavated to same next position\n",
    "            // ** rolling has formula\n",
    "            // ((h * base) - ((newchar * base^len) % modulus) + modulus) % modulus\n",
    "            h = ((h * base) - ((charCode(s.charAt(i - 1)) * baseLen) % m) + m) % m;\n",
    "            // finally we add the last character to the hash\n",
    "            // so we get a new hash rolling the characters\n",
    "            h = (h + charCode(s.charAt(i + len - 1))) % m;\n",
    "            if (seen.contains(h)) {\n",
    "                return i;\n",
    "            }\n",
    "            seen.add(h);\n",
    "        }\n",
    "        return -1;\n",
    "    }\n",
    "    private int charCode(char c) {\n",
    "        return c - 'a' + 1;\n",
    "    }\n",
    "}"
   ]
  },
  {
   "cell_type": "code",
   "execution_count": 80,
   "metadata": {},
   "outputs": [
    {
     "name": "stdout",
     "output_type": "stream",
     "text": [
      "1 - 6 - 11\n",
      "1 - 3 - 5\n",
      "4 - 4 - 5\n"
     ]
    },
    {
     "data": {
      "text/plain": [
       "3"
      ]
     },
     "execution_count": 80,
     "metadata": {},
     "output_type": "execute_result"
    }
   ],
   "source": [
    "new Solution2().longestRepeatingSubstring(\"aabcaabdaab\");"
   ]
  },
  {
   "cell_type": "code",
   "execution_count": 81,
   "metadata": {},
   "outputs": [
    {
     "name": "stdout",
     "output_type": "stream",
     "text": [
      "1 - 3 - 6\n",
      "1 - 1 - 2\n",
      "2 - 2 - 2\n"
     ]
    },
    {
     "data": {
      "text/plain": [
       "2"
      ]
     },
     "execution_count": 81,
     "metadata": {},
     "output_type": "execute_result"
    }
   ],
   "source": [
    "new Solution2().longestRepeatingSubstring(\"abbaba\");"
   ]
  },
  {
   "cell_type": "code",
   "execution_count": 82,
   "metadata": {},
   "outputs": [
    {
     "name": "stdout",
     "output_type": "stream",
     "text": [
      "1 - 6 - 11\n",
      "1 - 3 - 5\n",
      "4 - 4 - 5\n"
     ]
    },
    {
     "data": {
      "text/plain": [
       "3"
      ]
     },
     "execution_count": 82,
     "metadata": {},
     "output_type": "execute_result"
    }
   ],
   "source": [
    "new Solution2().longestRepeatingSubstring(\"aabcaabdaab\");"
   ]
  },
  {
   "cell_type": "markdown",
   "metadata": {},
   "source": [
    "https://www.youtube.com/watch?v=BQ9E-2umSWc&t=242s\n",
    "https://leetcode.com/problems/longest-repeating-substring/solution/\n",
    "https://leetcode.com/problems/repeated-dna-sequences/discuss/53902/Short-Java-%22rolling-hash%22-solution"
   ]
  },
  {
   "cell_type": "code",
   "execution_count": null,
   "metadata": {},
   "outputs": [],
   "source": [
    "public long hashRolling(String s, char c) {\n",
    "    long h = 0;\n",
    "    long base = 'z' - 'a' + 1;\n",
    "    long m = (long)Math.pow(2, 32);\n",
    "    int L = s.length();\n",
    "    for(int i = 0; i < L; ++i) {\n",
    "        h = (h * base + (s.charAt(i) - 'a' + 1)) % m;\n",
    "        System.out.println(h);\n",
    "    }\n",
    "\n",
    "    long aL = 1;\n",
    "    for (int i = 1; i <= s.length(); ++i) aL = (aL * base) % m;\n",
    "    System.out.println(\">>\" + aL);\n",
    "\n",
    "    h = (h * base - ((s.charAt(0) - 'a' + 1) * aL) % m) % m;\n",
    "    h = (h + (c - 'a' + 1)) % m;\n",
    "    \n",
    "    System.out.println(\"**\" + h);\n",
    "    return -1;\n",
    "}"
   ]
  },
  {
   "cell_type": "code",
   "execution_count": null,
   "metadata": {},
   "outputs": [],
   "source": [
    "hashRolling(\"aaaaaaaaaaaaaaaaaaaaaaaaa\", 'a');"
   ]
  },
  {
   "cell_type": "code",
   "execution_count": null,
   "metadata": {},
   "outputs": [],
   "source": [
    "hashRolling(\"ban\", 'a');\n",
    "// (base^0 * a) + (base^1 * b) + (base^2 * c) + (base^3 * d) = 19010\n",
    "\n",
    "// ((((1 * 27) * 27) * 27) * 27) = \n",
    "\n",
    "// (base^0 * b) + (base^1 * c) + (base^2 * d) + (base^3 * e) = 37289"
   ]
  },
  {
   "cell_type": "code",
   "execution_count": null,
   "metadata": {},
   "outputs": [],
   "source": [
    "hashRolling(\"ana\", 'f');\n",
    "// (base^0 * b) + (base^1 * c) + (base^2 * d) + (base^3 * e) = 37289"
   ]
  }
 ],
 "metadata": {
  "kernelspec": {
   "display_name": "Java",
   "language": "java",
   "name": "java"
  },
  "language_info": {
   "codemirror_mode": "java",
   "file_extension": ".jshell",
   "mimetype": "text/x-java-source",
   "name": "Java",
   "pygments_lexer": "java",
   "version": "11.0.3+7"
  }
 },
 "nbformat": 4,
 "nbformat_minor": 2
}
