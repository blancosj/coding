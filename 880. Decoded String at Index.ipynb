{
 "cells": [
  {
   "cell_type": "markdown",
   "metadata": {},
   "source": [
    "## <a href=''>880. Decoded String at Index</a>\n",
    "\n",
    "An encoded string S is given.  To find and write the decoded string to a tape, the encoded string is read one character at a time and the following steps are taken:\n",
    "\n",
    "* If the character read is a letter, that letter is written onto the tape.\n",
    "* If the character read is a digit (say d), the entire current tape is repeatedly written d-1 more times in total.\n",
    "Now for some encoded string S, and an index K, find and return the K-th letter (1 indexed) in the decoded string.\n",
    "\n",
    "__Example 1:__\n",
    "```\n",
    "Input: S = \"leet2code3\", K = 10\n",
    "Output: \"o\"\n",
    "Explanation: \n",
    "The decoded string is \"leetleetcodeleetleetcodeleetleetcode\".\n",
    "The 10th letter in the string is \"o\".\n",
    "```\n",
    "__Example 2:__\n",
    "```\n",
    "Input: S = \"ha22\", K = 5\n",
    "Output: \"h\"\n",
    "Explanation: \n",
    "The decoded string is \"hahahaha\".  The 5th letter is \"h\".\n",
    "```\n",
    "__Example 3:__\n",
    "```\n",
    "Input: S = \"a2345678999999999999999\", K = 1\n",
    "Output: \"a\"\n",
    "Explanation: \n",
    "The decoded string is \"a\" repeated 8301530446056247680 times.  The 1st letter is \"a\".\n",
    "``` \n",
    "__Constraints:__\n",
    "\n",
    "* ```2 <= S.length <= 100```\n",
    "* ```S``` will only contain lowercase letters and digits 2 through 9.\n",
    "* ```S``` starts with a letter.\n",
    "* ```1 <= K <= 10^9```\n",
    "* It's guaranteed that K is less than or equal to the length of the decoded string.\n",
    "* The decoded string is guaranteed to have less than ```2^63``` letters."
   ]
  },
  {
   "cell_type": "code",
   "execution_count": 3,
   "metadata": {},
   "outputs": [],
   "source": [
    "public class Solution {\n",
    "    public String decodeAtIndex(String S, int K) {\n",
    "        int n = S.length();\n",
    "        int size = 0;\n",
    "        for (int i = 0; i < n; ++i) {\n",
    "            char c = S.charAt(i);\n",
    "            if (Character.isDigit(c)) {\n",
    "                size *= (c - '0');\n",
    "            } else {\n",
    "                size++;\n",
    "            }\n",
    "        }\n",
    "        for (int i = n - 1; i >= 0; --i) {\n",
    "            char c = S.charAt(i);\n",
    "            K %= size;\n",
    "            if (K == 0 && c >= 'a' && c <= 'z') {\n",
    "                return c + \"\";\n",
    "            }\n",
    "            if (Character.isDigit(c)) {\n",
    "                size /= (c - '0');\n",
    "            } else {\n",
    "                size--;\n",
    "            }\n",
    "        }\n",
    "        throw null;\n",
    "    }\n",
    "}"
   ]
  },
  {
   "cell_type": "code",
   "execution_count": 4,
   "metadata": {},
   "outputs": [
    {
     "data": {
      "text/plain": [
       "o"
      ]
     },
     "execution_count": 4,
     "metadata": {},
     "output_type": "execute_result"
    }
   ],
   "source": [
    "new Solution().decodeAtIndex(\"leet2code3\", 10);"
   ]
  },
  {
   "cell_type": "code",
   "execution_count": 5,
   "metadata": {},
   "outputs": [
    {
     "data": {
      "text/plain": [
       "h"
      ]
     },
     "execution_count": 5,
     "metadata": {},
     "output_type": "execute_result"
    }
   ],
   "source": [
    "new Solution().decodeAtIndex(\"ha22\", 5);"
   ]
  },
  {
   "cell_type": "code",
   "execution_count": 17,
   "metadata": {},
   "outputs": [
    {
     "name": "stdout",
     "output_type": "stream",
     "text": [
      "b\n"
     ]
    }
   ],
   "source": [
    "String t = \"0123456789abcdef\";\n",
    "int k = 11, n = t.length(), size = n - 1;\n",
    "for (int i = n - 1; i >= 0; --i) {\n",
    "    char c = t.charAt(i);\n",
    "    k %= size;\n",
    "    if (k == 0) {\n",
    "        System.out.println(c);\n",
    "        break;\n",
    "    }\n",
    "    size--;\n",
    "}"
   ]
  },
  {
   "cell_type": "code",
   "execution_count": 21,
   "metadata": {},
   "outputs": [
    {
     "name": "stdout",
     "output_type": "stream",
     "text": [
      "7\n",
      "7\n",
      "7\n"
     ]
    }
   ],
   "source": [
    "int k = 7;\n",
    "for (int i = 10; i >= 0; --i) {\n",
    "    k %= i;\n",
    "    if (k == 0) break;\n",
    "    System.out.println(k);\n",
    "}"
   ]
  },
  {
   "cell_type": "code",
   "execution_count": 24,
   "metadata": {},
   "outputs": [
    {
     "data": {
      "text/plain": [
       "2"
      ]
     },
     "execution_count": 24,
     "metadata": {},
     "output_type": "execute_result"
    }
   ],
   "source": [
    "7 % 5"
   ]
  },
  {
   "cell_type": "code",
   "execution_count": null,
   "metadata": {},
   "outputs": [],
   "source": []
  }
 ],
 "metadata": {
  "kernelspec": {
   "display_name": "Java",
   "language": "java",
   "name": "java"
  },
  "language_info": {
   "codemirror_mode": "java",
   "file_extension": ".jshell",
   "mimetype": "text/x-java-source",
   "name": "Java",
   "pygments_lexer": "java",
   "version": "11.0.3+7"
  }
 },
 "nbformat": 4,
 "nbformat_minor": 2
}
