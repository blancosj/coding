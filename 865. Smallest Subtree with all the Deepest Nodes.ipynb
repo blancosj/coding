{
 "cells": [
  {
   "cell_type": "markdown",
   "metadata": {},
   "source": [
    "## <a href='https://leetcode.com/problems/smallest-subtree-with-all-the-deepest-nodes/'>865. Smallest Subtree with all the Deepest Nodes</a>\n",
    "\n",
    "Given the ```root``` of a binary tree, the depth of each node is the shortest distance to the root.\n",
    "\n",
    "Return the smallest subtree such that it contains all the deepest nodes in the original tree.\n",
    "\n",
    "A node is called the deepest if it has the largest depth possible among any node in the entire tree.\n",
    "\n",
    "The subtree of a node is tree consisting of that node, plus the set of all descendants of that node.\n",
    "\n",
    "__Note:__ This question is the same as 1123: https://leetcode.com/problems/lowest-common-ancestor-of-deepest-leaves/\n",
    "\n",
    "Example 1:\n",
    "```\n",
    "Input: root = [3,5,1,6,2,0,8,null,null,7,4]\n",
    "Output: [2,7,4]\n",
    "Explanation: We return the node with value 2, colored in yellow in the diagram.\n",
    "The nodes coloured in blue are the deepest nodes of the tree.\n",
    "Notice that nodes 5, 3 and 2 contain the deepest nodes in the tree but node 2 is the smallest subtree among them, so we return it.\n",
    "```\n",
    "Example 2:\n",
    "```\n",
    "Input: root = [1]\n",
    "Output: [1]\n",
    "Explanation: The root is the deepest node in the tree.\n",
    "```\n",
    "Example 3:\n",
    "```\n",
    "Input: root = [0,1,3,null,2]\n",
    "Output: [2]\n",
    "Explanation: The deepest node in the tree is 2, the valid subtrees are the subtrees of nodes 2, 1 and 0 but the subtree of node 2 is the smallest.\n",
    "``` \n",
    "__Constraints:__\n",
    "\n",
    "* The number of nodes in the tree will be in the range ```[1, 500]```.\n",
    "* ```0 <= Node.val <= 500```\n",
    "* The values of the nodes in the tree are unique."
   ]
  },
  {
   "cell_type": "code",
   "execution_count": 15,
   "metadata": {},
   "outputs": [],
   "source": [
    "public class TreeNode {\n",
    "    public int val;\n",
    "    public TreeNode left, right;\n",
    "    public TreeNode(int val) {\n",
    "        this.val = val;\n",
    "    }\n",
    "    public TreeNode(int val, TreeNode left, TreeNode right) {\n",
    "        this.val = val;\n",
    "        this.left = left; \n",
    "        this.right = right;\n",
    "    }\n",
    "    @Override\n",
    "    public String toString() {\n",
    "        LinkedList<TreeNode> queue = new LinkedList<>();\n",
    "        queue.offer(this);\n",
    "        StringBuilder result = new StringBuilder();\n",
    "        result.append(\"[\");\n",
    "        while (!queue.isEmpty()) {\n",
    "            int size = queue.size();\n",
    "            for (int i = 0; i < size; ++i) {\n",
    "                TreeNode curr = queue.poll();\n",
    "                if (curr == null) {\n",
    "                    result.append(\"null\").append(\",\");\n",
    "                    continue;\n",
    "                }\n",
    "                result.append(curr.val).append(\",\");\n",
    "                queue.offer(curr.left);\n",
    "                queue.offer(curr.right);\n",
    "            }\n",
    "        }\n",
    "        result.setLength(result.length() - 1);\n",
    "        result.append(\"]\");\n",
    "        return result.toString();\n",
    "    }\n",
    "}"
   ]
  },
  {
   "cell_type": "code",
   "execution_count": 16,
   "metadata": {},
   "outputs": [
    {
     "data": {
      "text/plain": [
       "[10,8,12,null,9,null,null,null,null]"
      ]
     },
     "execution_count": 16,
     "metadata": {},
     "output_type": "execute_result"
    }
   ],
   "source": [
    "TreeNode root = new TreeNode(10);\n",
    "root.left = new TreeNode(8);\n",
    "root.right = new TreeNode(12);\n",
    "root.left.right = new TreeNode(9);\n",
    "root;"
   ]
  },
  {
   "cell_type": "code",
   "execution_count": null,
   "metadata": {},
   "outputs": [],
   "source": [
    "public class Solution {\n",
    "    public int subtreeWithAllDeepest(TreeNode root) {\n",
    "        \n",
    "    }\n",
    "}"
   ]
  },
  {
   "cell_type": "code",
   "execution_count": 35,
   "metadata": {},
   "outputs": [],
   "source": [
    "public class Solution {\n",
    "    public TreeNode subtreeWithAllDeepest(TreeNode root) {\n",
    "\n",
    "    }\n",
    "}"
   ]
  },
  {
   "cell_type": "code",
   "execution_count": 33,
   "metadata": {},
   "outputs": [
    {
     "data": {
      "text/plain": [
       "[0,1,3,null,2,null,null,null,null]"
      ]
     },
     "execution_count": 33,
     "metadata": {},
     "output_type": "execute_result"
    }
   ],
   "source": [
    "TreeNode root = new TreeNode(0);\n",
    "root.left = new TreeNode(1);\n",
    "root.right = new TreeNode(3);\n",
    "root.left.right = new TreeNode(2);\n",
    "root;"
   ]
  },
  {
   "cell_type": "code",
   "execution_count": 34,
   "metadata": {},
   "outputs": [
    {
     "data": {
      "text/plain": [
       "[2,null,null]"
      ]
     },
     "execution_count": 34,
     "metadata": {},
     "output_type": "execute_result"
    }
   ],
   "source": [
    "new Solution().subtreeWithAllDeepest(root);"
   ]
  },
  {
   "cell_type": "code",
   "execution_count": null,
   "metadata": {},
   "outputs": [],
   "source": []
  }
 ],
 "metadata": {
  "kernelspec": {
   "display_name": "Java",
   "language": "java",
   "name": "java"
  },
  "language_info": {
   "codemirror_mode": "java",
   "file_extension": ".jshell",
   "mimetype": "text/x-java-source",
   "name": "Java",
   "pygments_lexer": "java",
   "version": "11.0.3+7"
  }
 },
 "nbformat": 4,
 "nbformat_minor": 2
}
