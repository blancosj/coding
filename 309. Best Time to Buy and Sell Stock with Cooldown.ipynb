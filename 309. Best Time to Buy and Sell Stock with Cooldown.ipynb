{
 "cells": [
  {
   "cell_type": "markdown",
   "metadata": {},
   "source": [
    "Say you have an array for which the ith element is the price of a given stock on day i.\n",
    "\n",
    "Design an algorithm to find the maximum profit. You may complete as many transactions as you like (ie, buy one and sell one share of the stock multiple times) with the following restrictions:\n",
    "\n",
    "You may not engage in multiple transactions at the same time (ie, you must sell the stock before you buy again).\n",
    "After you sell your stock, you cannot buy stock on next day. (ie, cooldown 1 day)\n",
    "    \n",
    "__Example:__\n",
    "```\n",
    "Input: [1,2,3,0,2]\n",
    "Output: 3 \n",
    "Explanation: transactions = [buy, sell, cooldown, buy, sell]\n",
    "```"
   ]
  },
  {
   "cell_type": "markdown",
   "metadata": {},
   "source": [
    "Time Complexity $\\mathcal O(N)$"
   ]
  },
  {
   "cell_type": "code",
   "execution_count": 13,
   "metadata": {},
   "outputs": [],
   "source": [
    "public class Solution {\n",
    "    private final int CAN_BUY = 0, COOLDOWN = 1, CAN_SELL = 2; \n",
    "    private int[] prices;\n",
    "    private int n;\n",
    "    private Map<CacheKey, Integer> cache = new HashMap<>();\n",
    "    public int maxProfit(int[] prices) {\n",
    "        n = prices.length;\n",
    "        if (n == 0) return 0;\n",
    "        this.prices = prices;\n",
    "        return dfs(0, CAN_BUY);\n",
    "    }\n",
    "    private int dfs(int idx, int state) {\n",
    "        if (idx == n) return 0;\n",
    "        int result = 0;\n",
    "    //     String cacheKey = new StringBuilder().append(start).append(\":\")\n",
    "    //         .append(cooldown).append(\":\").append(canBuy).append(\":\")\n",
    "    //         .toString();        \n",
    "        CacheKey cacheKey = new CacheKey(idx, state);\n",
    "        if (cache.containsKey(cacheKey)) return cache.get(cacheKey);\n",
    "        if (state == CAN_BUY) {\n",
    "            result = Math.max(\n",
    "                dfs(idx + 1, CAN_SELL) - prices[idx], \n",
    "                dfs(idx + 1, CAN_BUY)\n",
    "            );\n",
    "        } else if (state == COOLDOWN) {\n",
    "            result = dfs(idx + 1, CAN_BUY);\n",
    "        } else if (state == CAN_SELL) {\n",
    "            result = Math.max(\n",
    "                dfs(idx + 1, COOLDOWN) + prices[idx], \n",
    "                dfs(idx + 1, CAN_SELL)\n",
    "            );\n",
    "        }\n",
    "        cache.put(cacheKey, result);\n",
    "        return result;\n",
    "    }\n",
    "    private class CacheKey {\n",
    "        private int idx, state;\n",
    "        private CacheKey(int idx, int state) {\n",
    "            this.idx = idx;\n",
    "            this.state = state;\n",
    "        }\n",
    "        @Override\n",
    "        public boolean equals(Object that) {\n",
    "            return this.hashCode() == that.hashCode();\n",
    "        }\n",
    "        @Override\n",
    "        public int hashCode() {\n",
    "            int h = 32999;\n",
    "            h += (h * 32999) + idx;\n",
    "            h += (h * 32999) + state;\n",
    "            return h;\n",
    "        }\n",
    "    }\n",
    "}"
   ]
  },
  {
   "cell_type": "code",
   "execution_count": 14,
   "metadata": {},
   "outputs": [
    {
     "data": {
      "text/plain": [
       "3"
      ]
     },
     "execution_count": 14,
     "metadata": {},
     "output_type": "execute_result"
    }
   ],
   "source": [
    "new Solution().maxProfit(new int[] {1,2,3,0,2}); // output: 3"
   ]
  },
  {
   "cell_type": "code",
   "execution_count": 15,
   "metadata": {},
   "outputs": [
    {
     "data": {
      "text/plain": [
       "6"
      ]
     },
     "execution_count": 15,
     "metadata": {},
     "output_type": "execute_result"
    }
   ],
   "source": [
    "new Solution().maxProfit(new int[] {6,1,3,2,4,7}); // output: 6"
   ]
  },
  {
   "cell_type": "code",
   "execution_count": null,
   "metadata": {},
   "outputs": [],
   "source": [
    "class Solution {\n",
    "    private final int CAN_BUY = 0, COOLDOWN = 1, CAN_SELL = 2; \n",
    "    private int[] prices;\n",
    "    private int n;\n",
    "    private Map<List<Integer>, Integer> cache = new HashMap<>();\n",
    "    public int maxProfit(int[] prices) {\n",
    "        n = prices.length;\n",
    "        if (n == 0) return 0;\n",
    "        this.prices = prices;\n",
    "        return dfs(0, CAN_BUY);\n",
    "    }\n",
    "    private int dfs(int idx, int state) {\n",
    "        if (idx == n) return 0;\n",
    "        int result = 0;\n",
    "        List<Integer> cacheKey = List.of(idx, state);\n",
    "        if (cache.containsKey(cacheKey)) return cache.get(cacheKey);\n",
    "        if (state == CAN_BUY) {\n",
    "            result = Math.max(\n",
    "                dfs(idx + 1, CAN_SELL) - prices[idx], \n",
    "                dfs(idx + 1, CAN_BUY)\n",
    "            );\n",
    "        } else if (state == COOLDOWN) {\n",
    "            result = dfs(idx + 1, CAN_BUY);\n",
    "        } else if (state == CAN_SELL) {\n",
    "            result = Math.max(\n",
    "                dfs(idx + 1, COOLDOWN) + prices[idx], \n",
    "                dfs(idx + 1, CAN_SELL)\n",
    "            );\n",
    "        }\n",
    "        cache.put(cacheKey, result);\n",
    "        return result;\n",
    "    }  \n",
    "}"
   ]
  }
 ],
 "metadata": {
  "kernelspec": {
   "display_name": "Java",
   "language": "java",
   "name": "java"
  },
  "language_info": {
   "codemirror_mode": "java",
   "file_extension": ".jshell",
   "mimetype": "text/x-java-source",
   "name": "Java",
   "pygments_lexer": "java",
   "version": "11.0.3+7"
  }
 },
 "nbformat": 4,
 "nbformat_minor": 2
}
