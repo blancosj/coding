{
 "cells": [
  {
   "cell_type": "markdown",
   "metadata": {},
   "source": [
    "\n",
    "Given a binary tree, flatten it to a linked list in-place.\n",
    "\n",
    "For example, given the following tree:\n",
    "```\n",
    "    1\n",
    "   / \\\n",
    "  2   5\n",
    " / \\   \\\n",
    "3   4   6\n",
    "```\n",
    "The flattened tree should look like:\n",
    "```\n",
    "1\n",
    " \\\n",
    "  2\n",
    "   \\\n",
    "    3\n",
    "     \\\n",
    "      4\n",
    "       \\\n",
    "        5\n",
    "         \\\n",
    "          6\n",
    "```          "
   ]
  },
  {
   "cell_type": "code",
   "execution_count": 3,
   "metadata": {},
   "outputs": [],
   "source": [
    "public class TreeNode {\n",
    "    int val;\n",
    "    TreeNode left, right;\n",
    "    TreeNode() {}\n",
    "    TreeNode(int val) {\n",
    "        this.val = val;\n",
    "    }\n",
    "    @Override\n",
    "    public String toString() {\n",
    "        Stack<TreeNode> stack = new Stack<>();\n",
    "        TreeNode cur = this;\n",
    "        StringBuilder result = new StringBuilder();\n",
    "        while (!stack.isEmpty() || cur != null) {\n",
    "            if (cur != null) {\n",
    "                stack.push(cur);\n",
    "                cur = cur.left;\n",
    "                continue;\n",
    "            }\n",
    "            cur = stack.pop();\n",
    "            result.append(cur.val).append(\",\");\n",
    "            cur = cur.right;\n",
    "        }\n",
    "        return result.toString();\n",
    "    }\n",
    "}"
   ]
  },
  {
   "cell_type": "code",
   "execution_count": 25,
   "metadata": {},
   "outputs": [],
   "source": [
    "// recursion\n",
    "public class Solution {\n",
    "    public void flatten(TreeNode root) {\n",
    "        dfs(root);\n",
    "    }\n",
    "    private TreeNode dfs(TreeNode node) {\n",
    "        if (node == null) return null;\n",
    "        if (node.left == null && node.right == null) return node;\n",
    "        TreeNode lastLeft = dfs(node.left);\n",
    "        TreeNode lastRight = dfs(node.right);\n",
    "        if (lastLeft != null) {\n",
    "            lastLeft.right = node.right;\n",
    "            node.right = node.left;\n",
    "            node.left = null;\n",
    "        }\n",
    "        if (lastRight != null) {\n",
    "            return lastRight;\n",
    "        }\n",
    "        return lastLeft;\n",
    "    }\n",
    "}"
   ]
  },
  {
   "cell_type": "code",
   "execution_count": 27,
   "metadata": {},
   "outputs": [
    {
     "name": "stdout",
     "output_type": "stream",
     "text": [
      "3,2,4,1,5,6,\n"
     ]
    },
    {
     "data": {
      "text/plain": [
       "1,2,3,4,5,6,"
      ]
     },
     "execution_count": 27,
     "metadata": {},
     "output_type": "execute_result"
    }
   ],
   "source": [
    "//    1\n",
    "//   / \\\n",
    "//  2   5\n",
    "// / \\   \\\n",
    "//3   4   6\n",
    "TreeNode root = new TreeNode(1);\n",
    "root.left = new TreeNode(2);\n",
    "root.right = new TreeNode(5);\n",
    "root.left.left = new TreeNode(3);\n",
    "root.left.right = new TreeNode(4);\n",
    "root.right.right = new TreeNode(6);\n",
    "System.out.println(root);\n",
    "new Solution().flatten(root);\n",
    "root;"
   ]
  },
  {
   "cell_type": "code",
   "execution_count": 28,
   "metadata": {},
   "outputs": [],
   "source": [
    "// iterative\n",
    "public class Solution {\n",
    "    public void flatten(TreeNode root) {\n",
    "        Stack<TreeNodeInfo> stack = new Stack<>();\n",
    "        stack.push(new TreeNodeInfo(root));\n",
    "        TreeNode tailNode = null;\n",
    "        while (!stack.isEmpty()) {\n",
    "            TreeNodeInfo cur = stack.peek();\n",
    "            if (cur.left == null && cur.right == null) {\n",
    "                tailNode = stack.pop().node;\n",
    "            }\n",
    "            if (cur.status == START) {\n",
    "                if (cur.node.left != null) {\n",
    "                    stack.push(new TreeNodeInfo(cur.node.left));\n",
    "                } else if (cur.node.right !- null) {\n",
    "                    stack.push(new TreeNodeInfo(cur.node.right));\n",
    "                }\n",
    "            } else if cur.status == END {\n",
    "                \n",
    "            }\n",
    "            \n",
    "        }\n",
    "    }\n",
    "}"
   ]
  },
  {
   "cell_type": "code",
   "execution_count": null,
   "metadata": {},
   "outputs": [],
   "source": []
  }
 ],
 "metadata": {
  "kernelspec": {
   "display_name": "Java",
   "language": "java",
   "name": "java"
  },
  "language_info": {
   "codemirror_mode": "java",
   "file_extension": ".jshell",
   "mimetype": "text/x-java-source",
   "name": "Java",
   "pygments_lexer": "java",
   "version": "11.0.3+7"
  }
 },
 "nbformat": 4,
 "nbformat_minor": 2
}
