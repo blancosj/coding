{
 "cells": [
  {
   "cell_type": "markdown",
   "metadata": {},
   "source": [
    "Given an array of integers nums sorted in ascending order, find the starting and ending position of a given target value.\n",
    "\n",
    "Your algorithm's runtime complexity must be in the order of O(log n).\n",
    "\n",
    "If the target is not found in the array, return [-1, -1].\n",
    "\n",
    "Example 1:\n",
    "```\n",
    "Input: nums = [5,7,7,8,8,10], target = 8\n",
    "Output: [3,4]\n",
    "```\n",
    "Example 2:\n",
    "```\n",
    "Input: nums = [5,7,7,8,8,10], target = 6\n",
    "Output: [-1,-1]\n",
    "```"
   ]
  },
  {
   "cell_type": "markdown",
   "metadata": {},
   "source": [
    "Time Complexity $O(n \\log n)$"
   ]
  },
  {
   "cell_type": "code",
   "execution_count": 26,
   "metadata": {},
   "outputs": [],
   "source": [
    "public class Solution {\n",
    "    public int[] searchRange(int[] nums, int target) {\n",
    "        int n = nums.length;\n",
    "        int[] answer = { -1, -1 };\n",
    "        int t = findFirstPos(nums, target, 0, n - 1);\n",
    "        if (t < 0) return answer;\n",
    "        answer[0] = t;\n",
    "        t = findLastPos(nums, target, t, n - 1);\n",
    "        answer[1] = t;\n",
    "        return answer;\n",
    "    }\n",
    "    private int findFirstPos(int[] nums, int target, int left, int right) {\n",
    "        int first_pos = -1;\n",
    "        while (left <= right) {\n",
    "            int m = left + (right - left) / 2;\n",
    "            if (nums[m] == target) {\n",
    "                first_pos = m;\n",
    "                right = m - 1;\n",
    "            } else if (nums[m] > target) {\n",
    "                right = m - 1;\n",
    "            } else {\n",
    "                left = m + 1;\n",
    "            }\n",
    "        }\n",
    "        return first_pos;\n",
    "    }\n",
    "    private int findLastPos(int[] nums, int target, int left, int right) {\n",
    "        int last_pos = -1;\n",
    "        while (left <= right) {\n",
    "            int m = left + (right - left) / 2;\n",
    "            if (nums[m] == target) {\n",
    "                last_pos = m;\n",
    "                left = m + 1;\n",
    "            } else if (nums[m] > target) {\n",
    "                right = m - 1;\n",
    "            } else {\n",
    "                left = m + 1;\n",
    "            }\n",
    "        }\n",
    "        return last_pos;\n",
    "    }\n",
    "}"
   ]
  },
  {
   "cell_type": "code",
   "execution_count": 27,
   "metadata": {},
   "outputs": [
    {
     "data": {
      "text/plain": [
       "[3, 4]"
      ]
     },
     "execution_count": 27,
     "metadata": {},
     "output_type": "execute_result"
    }
   ],
   "source": [
    "int[] nums1 = {5,7,7,8,8,10};\n",
    "Arrays.toString(new Solution().searchRange(nums1, 8));"
   ]
  },
  {
   "cell_type": "code",
   "execution_count": 28,
   "metadata": {},
   "outputs": [
    {
     "data": {
      "text/plain": [
       "[0, 0]"
      ]
     },
     "execution_count": 28,
     "metadata": {},
     "output_type": "execute_result"
    }
   ],
   "source": [
    "int[] nums1 = {1};\n",
    "Arrays.toString(new Solution().searchRange(nums1, 1));"
   ]
  },
  {
   "cell_type": "code",
   "execution_count": 29,
   "metadata": {},
   "outputs": [
    {
     "data": {
      "text/plain": [
       "[-1, -1]"
      ]
     },
     "execution_count": 29,
     "metadata": {},
     "output_type": "execute_result"
    }
   ],
   "source": [
    "int[] nums1 = {};\n",
    "Arrays.toString(new Solution().searchRange(nums1, 0));"
   ]
  },
  {
   "cell_type": "code",
   "execution_count": 54,
   "metadata": {},
   "outputs": [],
   "source": [
    "public class Solution2 {\n",
    "    public int[] searchRange(int[] nums, int target) {\n",
    "        int[] answer = new int[2];\n",
    "        int n = nums.length;\n",
    "        int t = findFirstPos(nums, target, 0, n - 1);\n",
    "        answer[0] = t;\n",
    "        answer[1] = findFirstPos(nums, target + 1, t, n - 1) - 1;\n",
    "        if (answer[0] > answer[1]) return new int[] { -1, -1 };\n",
    "        return answer;\n",
    "    }\n",
    "    \n",
    "    // 5,7,7,8,8,10\n",
    "    //     ^\n",
    "    \n",
    "    private int findFirstPos(int[] nums, int target, int left, int right) {\n",
    "        int first_pos = right + 1;\n",
    "        while (left <= right) {\n",
    "            int m = left + (right - left) / 2;\n",
    "            if (target <= nums[m]) {\n",
    "                first_pos = m;\n",
    "                right = m - 1;\n",
    "            } else {\n",
    "                left = m + 1;\n",
    "            }\n",
    "        }\n",
    "        return first_pos;\n",
    "    }\n",
    "}"
   ]
  },
  {
   "cell_type": "code",
   "execution_count": 55,
   "metadata": {},
   "outputs": [
    {
     "data": {
      "text/plain": [
       "[3, 4]"
      ]
     },
     "execution_count": 55,
     "metadata": {},
     "output_type": "execute_result"
    }
   ],
   "source": [
    "int[] nums1 = {5,7,7,8,8,10};\n",
    "Arrays.toString(new Solution2().searchRange(nums1, 8));"
   ]
  },
  {
   "cell_type": "code",
   "execution_count": 56,
   "metadata": {},
   "outputs": [
    {
     "data": {
      "text/plain": [
       "[0, 0]"
      ]
     },
     "execution_count": 56,
     "metadata": {},
     "output_type": "execute_result"
    }
   ],
   "source": [
    "int[] nums1 = {1};\n",
    "Arrays.toString(new Solution2().searchRange(nums1, 1));"
   ]
  },
  {
   "cell_type": "code",
   "execution_count": 57,
   "metadata": {},
   "outputs": [
    {
     "data": {
      "text/plain": [
       "[-1, -1]"
      ]
     },
     "execution_count": 57,
     "metadata": {},
     "output_type": "execute_result"
    }
   ],
   "source": [
    "int[] nums1 = {};\n",
    "Arrays.toString(new Solution2().searchRange(nums1, 0));"
   ]
  },
  {
   "cell_type": "code",
   "execution_count": null,
   "metadata": {},
   "outputs": [],
   "source": []
  }
 ],
 "metadata": {
  "kernelspec": {
   "display_name": "Java",
   "language": "java",
   "name": "java"
  },
  "language_info": {
   "codemirror_mode": "java",
   "file_extension": ".jshell",
   "mimetype": "text/x-java-source",
   "name": "Java",
   "pygments_lexer": "java",
   "version": "11.0.3+7"
  }
 },
 "nbformat": 4,
 "nbformat_minor": 2
}
