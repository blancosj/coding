{
 "cells": [
  {
   "cell_type": "markdown",
   "metadata": {},
   "source": [
    "Given a set of N people (numbered 1, 2, ..., N), we would like to split everyone into two groups of any size.\n",
    "\n",
    "Each person may dislike some other people, and they should not go into the same group. \n",
    "\n",
    "Formally, if dislikes[i] = [a, b], it means it is not allowed to put the people numbered a and b into the same group.\n",
    "\n",
    "Return true if and only if it is possible to split everyone into two groups in this way.\n",
    "\n",
    "Example 1:\n",
    "```\n",
    "Input: N = 4, dislikes = [[1,2],[1,3],[2,4]]\n",
    "Output: true\n",
    "Explanation: group1 [1,4], group2 [2,3]\n",
    "```\n",
    "Example 2:\n",
    "```\n",
    "Input: N = 3, dislikes = [[1,2],[1,3],[2,3]]\n",
    "Output: false\n",
    "```\n",
    "Example 3:\n",
    "```\n",
    "Input: N = 5, dislikes = [[1,2],[2,3],[3,4],[4,5],[1,5]]\n",
    "Output: false\n",
    "```\n",
    "__Note__:\n",
    "1. 1 <= N <= 2000\n",
    "2. 0 <= dislikes.length <= 10000\n",
    "3. 1 <= dislikes[i][j] <= N\n",
    "4. dislikes[i][0] < dislikes[i][1]\n",
    "5. There does not exist i != j for which dislikes[i] == dislikes[j]."
   ]
  },
  {
   "cell_type": "code",
   "execution_count": 30,
   "metadata": {},
   "outputs": [],
   "source": [
    "public class Solution {\n",
    "    public boolean posibleBipartition(int N, int[][] dislikes) {\n",
    "        Node[] nodes = new Node[N + 1];\n",
    "        for (int i = 1; i <= N; ++i) nodes[i] = new Node();\n",
    "        for (int[] dislike : dislikes) {\n",
    "            nodes[dislike[0]].neighbors.add(nodes[dislike[1]]);\n",
    "            nodes[dislike[1]].neighbors.add(nodes[dislike[0]]);\n",
    "        }\n",
    "        for (int i = 1; i <= N; ++i) {\n",
    "            Node node = nodes[i];\n",
    "            if (node.group == -1 && !dfs(0, node)) {\n",
    "                return false;\n",
    "            }\n",
    "        }\n",
    "        return true;\n",
    "    }\n",
    "    private boolean dfs(int group, Node node) {\n",
    "        if (node.group != -1) return node.group == group;\n",
    "        node.group = group;\n",
    "        for (Node neighbor : node.neighbors) {\n",
    "            if (!dfs(group ^ 1, neighbor)) {\n",
    "                return false;\n",
    "            }\n",
    "        }\n",
    "        return true;\n",
    "    }\n",
    "    private static class Node {\n",
    "        private int group = -1;\n",
    "        private List<Node> neighbors = new ArrayList<>();\n",
    "    }\n",
    "}"
   ]
  },
  {
   "cell_type": "code",
   "execution_count": 31,
   "metadata": {},
   "outputs": [
    {
     "data": {
      "text/plain": [
       "true"
      ]
     },
     "execution_count": 31,
     "metadata": {},
     "output_type": "execute_result"
    }
   ],
   "source": [
    "int[][] dislikes = {{1,2},{1,3},{2,4}};\n",
    "new Solution().posibleBipartition(4, dislikes);"
   ]
  },
  {
   "cell_type": "code",
   "execution_count": 32,
   "metadata": {},
   "outputs": [
    {
     "data": {
      "text/plain": [
       "false"
      ]
     },
     "execution_count": 32,
     "metadata": {},
     "output_type": "execute_result"
    }
   ],
   "source": [
    "int[][] dislikes = {{1,2},{1,3},{2,3}};\n",
    "new Solution().posibleBipartition(3, dislikes);"
   ]
  },
  {
   "cell_type": "code",
   "execution_count": 33,
   "metadata": {},
   "outputs": [
    {
     "data": {
      "text/plain": [
       "false"
      ]
     },
     "execution_count": 33,
     "metadata": {},
     "output_type": "execute_result"
    }
   ],
   "source": [
    "int[][] dislikes = {{1,2},{2,3},{3,4},{4,5},{1,5}};\n",
    "new Solution().posibleBipartition(5, dislikes);"
   ]
  },
  {
   "cell_type": "code",
   "execution_count": 34,
   "metadata": {},
   "outputs": [],
   "source": [
    "public class Solution {\n",
    "    public boolean posibleBipartition(int N, int[][] dislikes) {\n",
    "        Node[] nodes = new Node[N + 1];\n",
    "        for (int i = 1; i <= N; ++i) nodes[i] = new Node();\n",
    "        for (int[] dislike : dislikes) {\n",
    "            nodes[dislike[0]].neighbors.add(nodes[dislike[1]]);\n",
    "            nodes[dislike[1]].neighbors.add(nodes[dislike[0]]);\n",
    "        }\n",
    "        for (int[] dislike : dislikes) {\n",
    "            Node node = nodes[dislike[0]];\n",
    "            if (node.group == -1) {\n",
    "                Queue<Node> queue = new LinkedList<>(); \n",
    "                node.group = 0;                \n",
    "                queue.add(node);\n",
    "                while (!queue.isEmpty()) {\n",
    "                    Node cur = queue.remove();\n",
    "                    for (Node neighbor : cur.neighbors) {\n",
    "                        if (neighbor.group == -1) {\n",
    "                            neighbor.group = cur.group ^ 1;\n",
    "                            queue.add(neighbor);\n",
    "                        } else if (neighbor.group == cur.group) {\n",
    "                            return false;\n",
    "                        }\n",
    "                    }\n",
    "                }\n",
    "            }\n",
    "        }\n",
    "        return true;\n",
    "    }\n",
    "    private static class Node {\n",
    "        int group = -1;\n",
    "        List<Node> neighbors = new ArrayList<>();\n",
    "    }\n",
    "}"
   ]
  },
  {
   "cell_type": "code",
   "execution_count": 35,
   "metadata": {},
   "outputs": [
    {
     "data": {
      "text/plain": [
       "true"
      ]
     },
     "execution_count": 35,
     "metadata": {},
     "output_type": "execute_result"
    }
   ],
   "source": [
    "int[][] dislikes = {{1,2},{1,3},{2,4}};\n",
    "new Solution().posibleBipartition(4, dislikes);"
   ]
  },
  {
   "cell_type": "code",
   "execution_count": 36,
   "metadata": {},
   "outputs": [
    {
     "data": {
      "text/plain": [
       "false"
      ]
     },
     "execution_count": 36,
     "metadata": {},
     "output_type": "execute_result"
    }
   ],
   "source": [
    "int[][] dislikes = {{1,2},{1,3},{2,3}};\n",
    "new Solution().posibleBipartition(3, dislikes);"
   ]
  },
  {
   "cell_type": "code",
   "execution_count": 37,
   "metadata": {},
   "outputs": [
    {
     "data": {
      "text/plain": [
       "false"
      ]
     },
     "execution_count": 37,
     "metadata": {},
     "output_type": "execute_result"
    }
   ],
   "source": [
    "int[][] dislikes = {{1,2},{2,3},{3,4},{4,5},{1,5}};\n",
    "new Solution().posibleBipartition(5, dislikes);"
   ]
  },
  {
   "cell_type": "code",
   "execution_count": null,
   "metadata": {},
   "outputs": [],
   "source": []
  }
 ],
 "metadata": {
  "kernelspec": {
   "display_name": "Java",
   "language": "java",
   "name": "java"
  },
  "language_info": {
   "codemirror_mode": "java",
   "file_extension": ".jshell",
   "mimetype": "text/x-java-source",
   "name": "Java",
   "pygments_lexer": "java",
   "version": "11.0.3+7"
  }
 },
 "nbformat": 4,
 "nbformat_minor": 2
}
