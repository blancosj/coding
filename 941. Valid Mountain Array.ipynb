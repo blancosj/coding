{
 "cells": [
  {
   "cell_type": "markdown",
   "metadata": {},
   "source": [
    "## <a href=''>941. Valid Mountain Array</a>\n",
    "\n",
    "Given an array of integers arr, return true if and only if it is a valid mountain array.\n",
    "\n",
    "Recall that arr is a mountain array if and only if:\n",
    "\n",
    "* arr.length >= 3\n",
    "* There exists some i with 0 < i < arr.length - 1 such that:\n",
    "  * arr[0] < arr[1] < ... < arr[i - 1] < A[i]\n",
    "  * arr[i] > arr[i + 1] > ... > arr[arr.length - 1]\n",
    "\n",
    "__Example 1:__\n",
    "```\n",
    "Input: arr = [2,1]\n",
    "Output: false\n",
    "```\n",
    "__Example 2:__\n",
    "```\n",
    "Input: arr = [3,5,5]\n",
    "Output: false\n",
    "```\n",
    "__Example 3:__\n",
    "```\n",
    "Input: arr = [0,3,2,1]\n",
    "Output: true\n",
    "```\n",
    "__Constraints:__\n",
    "* 1 <= arr.length <= 104\n",
    "* 0 <= arr[i] <= 104"
   ]
  },
  {
   "cell_type": "code",
   "execution_count": 10,
   "metadata": {},
   "outputs": [],
   "source": [
    "public class Solution {\n",
    "    public boolean validMountainArray(int[] arr) {\n",
    "        int state = 0, n = arr.length;\n",
    "        for (int i = 1; i < n; ++i) {\n",
    "            if (state == 0) {\n",
    "                if (arr[i - 1] >= arr[i]) return false;\n",
    "                state = 1;\n",
    "            } else if (state == 1) {\n",
    "                if (arr[i - 1] == arr[i]) return false;\n",
    "                if (arr[i - 1] > arr[i]) state = 2;\n",
    "            } else if (state == 2) {\n",
    "                if (arr[i - 1] <= arr[i]) return false;\n",
    "            }\n",
    "        }\n",
    "        return state == 2;\n",
    "    }\n",
    "}"
   ]
  },
  {
   "cell_type": "code",
   "execution_count": 11,
   "metadata": {},
   "outputs": [
    {
     "data": {
      "text/plain": [
       "false"
      ]
     },
     "execution_count": 11,
     "metadata": {},
     "output_type": "execute_result"
    }
   ],
   "source": [
    "new Solution().validMountainArray(new int[] {3,4,5});"
   ]
  },
  {
   "cell_type": "code",
   "execution_count": 12,
   "metadata": {},
   "outputs": [
    {
     "data": {
      "text/plain": [
       "false"
      ]
     },
     "execution_count": 12,
     "metadata": {},
     "output_type": "execute_result"
    }
   ],
   "source": [
    "new Solution().validMountainArray(new int[] {1,2});"
   ]
  },
  {
   "cell_type": "code",
   "execution_count": 13,
   "metadata": {},
   "outputs": [
    {
     "data": {
      "text/plain": [
       "true"
      ]
     },
     "execution_count": 13,
     "metadata": {},
     "output_type": "execute_result"
    }
   ],
   "source": [
    "new Solution().validMountainArray(new int[] {1,3,4,1});"
   ]
  },
  {
   "cell_type": "code",
   "execution_count": 14,
   "metadata": {},
   "outputs": [
    {
     "data": {
      "text/plain": [
       "false"
      ]
     },
     "execution_count": 14,
     "metadata": {},
     "output_type": "execute_result"
    }
   ],
   "source": [
    "new Solution().validMountainArray(new int[] {1,1,3,4,1});"
   ]
  },
  {
   "cell_type": "code",
   "execution_count": null,
   "metadata": {},
   "outputs": [],
   "source": []
  }
 ],
 "metadata": {
  "kernelspec": {
   "display_name": "Java",
   "language": "java",
   "name": "java"
  },
  "language_info": {
   "codemirror_mode": "java",
   "file_extension": ".jshell",
   "mimetype": "text/x-java-source",
   "name": "Java",
   "pygments_lexer": "java",
   "version": "11.0.3+7"
  }
 },
 "nbformat": 4,
 "nbformat_minor": 2
}
