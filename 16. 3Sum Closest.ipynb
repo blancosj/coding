{
 "cells": [
  {
   "cell_type": "markdown",
   "metadata": {},
   "source": [
    "Given an array nums of __n__ integers and an integer target, find three integers in nums such that the sum is closest to target. Return the sum of the three integers. You may assume that each input would have exactly one solution.\n",
    "\n",
    "Example 1:\n",
    "```\n",
    "Input: nums = [-1,2,1,-4], target = 1\n",
    "Output: 2\n",
    "Explanation: The sum that is closest to the target is 2. (-1 + 2 + 1 = 2).\n",
    "``` \n",
    "\n",
    "Constraints:\n",
    "\n",
    "* 3 <= nums.length <= 10^3\n",
    "* -10^3 <= nums[i] <= 10^3\n",
    "* -10^4 <= target <= 10^4\n",
    "\n",
    "If an interviewer asks you whether you can achieve $\\mathcal{O}(1)$ memory complexity, you can use the selection sort instead of a built-in sort in the Two Pointers approach. It will make it a bit slower, though the overall time complexity will be still $\\mathcal{O}(n^2)$."
   ]
  },
  {
   "cell_type": "markdown",
   "metadata": {},
   "source": [
    "Time Complexity $\\mathcal O(n^3)$"
   ]
  },
  {
   "cell_type": "code",
   "execution_count": 1,
   "metadata": {},
   "outputs": [],
   "source": [
    "public class Solution {\n",
    "    public int threeSumClosest(int[] nums, int target) {\n",
    "        int n = nums.length;\n",
    "        Arrays.sort(nums);\n",
    "        int answer = Integer.MAX_VALUE;\n",
    "        for (int j = 0; j < n; ++j) {\n",
    "            for (int i = j + 1; i < n; ++i) {\n",
    "                for (int k = i + 1; k < n; ++k) {\n",
    "                    int t = nums[j] + nums[i] + nums[k];\n",
    "                    if (Math.abs(answer - target) > Math.abs(t - target)) {\n",
    "                        answer = Math.abs(t - target);\n",
    "                    }\n",
    "                }\n",
    "            }\n",
    "        }\n",
    "        return answer;\n",
    "    }\n",
    "}"
   ]
  },
  {
   "cell_type": "code",
   "execution_count": 2,
   "metadata": {},
   "outputs": [
    {
     "data": {
      "text/plain": [
       "2"
      ]
     },
     "execution_count": 2,
     "metadata": {},
     "output_type": "execute_result"
    }
   ],
   "source": [
    "int[] nums = { -1,2,1,-4 };\n",
    "int target = 1;\n",
    "new Solution().threeSumClosest(nums, target);"
   ]
  },
  {
   "cell_type": "code",
   "execution_count": 14,
   "metadata": {},
   "outputs": [],
   "source": [
    "public class Solution {\n",
    "    public int threeSumClosest(int[] nums, int target) {\n",
    "        int n = nums.length;\n",
    "        Arrays.sort(nums);\n",
    "        //       *\n",
    "        // -1,-1,1,1,3\n",
    "        //     ^\n",
    "        // -1\n",
    "        int answer = nums[0] + nums[1] + nums[n - 1];\n",
    "        for (int i = 0; i < n; ++i) {\n",
    "            int left = i + 1, right = n - 1;\n",
    "            while (left < right) {\n",
    "                int curSum = nums[i] + nums[left] + nums[right];\n",
    "                if (target > curSum) {\n",
    "                    left++;\n",
    "                } else {\n",
    "                    right--;\n",
    "                }\n",
    "                if (Math.abs(curSum - target) < Math.abs(answer - target)) {\n",
    "                    answer = curSum;\n",
    "                }                \n",
    "            }\n",
    "        }\n",
    "        return answer;\n",
    "    }\n",
    "}"
   ]
  },
  {
   "cell_type": "code",
   "execution_count": 17,
   "metadata": {},
   "outputs": [
    {
     "data": {
      "text/plain": [
       "2"
      ]
     },
     "execution_count": 17,
     "metadata": {},
     "output_type": "execute_result"
    }
   ],
   "source": [
    "int[] nums = { -1,2,1,-4 };\n",
    "int target = 1;\n",
    "new Solution().threeSumClosest(nums, target);"
   ]
  },
  {
   "cell_type": "code",
   "execution_count": 18,
   "metadata": {},
   "outputs": [
    {
     "data": {
      "text/plain": [
       "-1"
      ]
     },
     "execution_count": 18,
     "metadata": {},
     "output_type": "execute_result"
    }
   ],
   "source": [
    "int[] nums = { 1,1,-1,-1,3 };\n",
    "int target = -1;\n",
    "new Solution().threeSumClosest(nums, target);"
   ]
  },
  {
   "cell_type": "code",
   "execution_count": 19,
   "metadata": {},
   "outputs": [
    {
     "data": {
      "text/plain": [
       "3"
      ]
     },
     "execution_count": 19,
     "metadata": {},
     "output_type": "execute_result"
    }
   ],
   "source": [
    "int[] nums = { 0,1,2 };\n",
    "int target = 0;\n",
    "new Solution().threeSumClosest(nums, target);"
   ]
  },
  {
   "cell_type": "code",
   "execution_count": null,
   "metadata": {},
   "outputs": [],
   "source": []
  }
 ],
 "metadata": {
  "kernelspec": {
   "display_name": "Java",
   "language": "java",
   "name": "java"
  },
  "language_info": {
   "codemirror_mode": "java",
   "file_extension": ".jshell",
   "mimetype": "text/x-java-source",
   "name": "Java",
   "pygments_lexer": "java",
   "version": "11.0.3+7"
  }
 },
 "nbformat": 4,
 "nbformat_minor": 2
}
