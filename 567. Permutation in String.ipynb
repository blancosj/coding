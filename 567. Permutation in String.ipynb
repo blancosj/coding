{
 "cells": [
  {
   "cell_type": "markdown",
   "metadata": {},
   "source": [
    "Given two strings s1 and s2, write a function to return true if s2 contains the permutation of s1. In other words, one of the first string's permutations is the substring of the second string.\n",
    "\n",
    "Example 1:\n",
    "```\n",
    "Input: s1 = \"ab\" s2 = \"eidbaooo\"\n",
    "Output: True\n",
    "Explanation: s2 contains one permutation of s1 (\"ba\").\n",
    "```\n",
    "Example 2:\n",
    "```\n",
    "Input:s1= \"ab\" s2 = \"eidboaoo\"\n",
    "Output: False\n",
    "```\n",
    "Note:\n",
    "\n",
    "The input strings only contain lower case letters.\n",
    "The length of both given strings is in range [1, 10,000]."
   ]
  },
  {
   "cell_type": "code",
   "execution_count": 26,
   "metadata": {},
   "outputs": [],
   "source": [
    "public class Solution {\n",
    "        public boolean checkInclusion(String s1, String s2) {\n",
    "            Map<Character, Integer> s1Count = new HashMap<>();\n",
    "            Map<Character, Integer> s2Count = new HashMap<>();\n",
    "            int s1Len = s1.length(), s2Len = s2.length();\n",
    "            for (int i = 0; i < s1Len; ++i) {\n",
    "                char c = s1.charAt(i);\n",
    "                s1Count.put(c, s1Count.getOrDefault(c, 0) + 1);\n",
    "            }\n",
    "            for (int i = 0; i < s2Len; ++i) {\n",
    "                char c = s2.charAt(i);\n",
    "                s2Count.put(c, s2Count.getOrDefault(c, 0) + 1);\n",
    "                if (i >= s1Len - 1) {\n",
    "                    if (s1Count.equals(s2Count)) return true;\n",
    "                    char firstChar = s2.charAt(i - s1Len + 1);\n",
    "                    s2Count.put(firstChar, s2Count.get(firstChar) - 1);\n",
    "                    if (s2Count.get(firstChar) == 0) s2Count.remove(firstChar);\n",
    "                }\n",
    "            }\n",
    "            return false;\n",
    "        }\n",
    "}"
   ]
  },
  {
   "cell_type": "code",
   "execution_count": 27,
   "metadata": {},
   "outputs": [
    {
     "data": {
      "text/plain": [
       "true"
      ]
     },
     "execution_count": 27,
     "metadata": {},
     "output_type": "execute_result"
    }
   ],
   "source": [
    "new Solution().checkInclusion(\"ab\", \"eidbaooo\");"
   ]
  },
  {
   "cell_type": "code",
   "execution_count": 28,
   "metadata": {},
   "outputs": [
    {
     "data": {
      "text/plain": [
       "true"
      ]
     },
     "execution_count": 28,
     "metadata": {},
     "output_type": "execute_result"
    }
   ],
   "source": [
    "new Solution().checkInclusion(\"ab\", \"aba\");"
   ]
  },
  {
   "cell_type": "code",
   "execution_count": 29,
   "metadata": {},
   "outputs": [
    {
     "data": {
      "text/plain": [
       "true"
      ]
     },
     "execution_count": 29,
     "metadata": {},
     "output_type": "execute_result"
    }
   ],
   "source": [
    "new Solution().checkInclusion(\"ab\", \"acbaxxx\");"
   ]
  },
  {
   "cell_type": "code",
   "execution_count": 30,
   "metadata": {},
   "outputs": [
    {
     "data": {
      "text/plain": [
       "false"
      ]
     },
     "execution_count": 30,
     "metadata": {},
     "output_type": "execute_result"
    }
   ],
   "source": [
    "new Solution().checkInclusion(\"ab\", \"eidboaoo\");"
   ]
  },
  {
   "cell_type": "code",
   "execution_count": 31,
   "metadata": {},
   "outputs": [],
   "source": [
    "public class Solution2 {\n",
    "    public boolean checkInclusion(String s1, String s2) {\n",
    "        int abc = 'z' - 'a' + 1;\n",
    "        int[] s1Count = new int[abc];\n",
    "        int[] s2Count = new int[abc];\n",
    "        int s1Len = s1.length(), s2Len = s2.length();\n",
    "        for (int i = 0; i < s1Len; ++i) {\n",
    "            char c = s1.charAt(i);\n",
    "            s1Count[c - 'a']++;\n",
    "        }\n",
    "        for (int i = 0; i < s2Len; ++i) {\n",
    "            char c = s2.charAt(i);\n",
    "            s2Count[c - 'a']++;\n",
    "            if (i >= s1Len - 1) {\n",
    "                if (Arrays.equals(s1Count, s2Count)) return true;\n",
    "                char t = s2.charAt(i - s2Len + 1);\n",
    "                s2Count[t - 'a']--;\n",
    "            }\n",
    "        }\n",
    "        return false;\n",
    "    }\n",
    "}"
   ]
  },
  {
   "cell_type": "code",
   "execution_count": 32,
   "metadata": {},
   "outputs": [
    {
     "data": {
      "text/plain": [
       "false"
      ]
     },
     "execution_count": 32,
     "metadata": {},
     "output_type": "execute_result"
    }
   ],
   "source": [
    "new Solution().checkInclusion(\"ab\", \"eidboaoo\");"
   ]
  },
  {
   "cell_type": "code",
   "execution_count": 33,
   "metadata": {},
   "outputs": [
    {
     "data": {
      "text/plain": [
       "true"
      ]
     },
     "execution_count": 33,
     "metadata": {},
     "output_type": "execute_result"
    }
   ],
   "source": [
    "new Solution().checkInclusion(\"ab\", \"acbaxxx\");"
   ]
  },
  {
   "cell_type": "code",
   "execution_count": 34,
   "metadata": {},
   "outputs": [
    {
     "data": {
      "text/plain": [
       "true"
      ]
     },
     "execution_count": 34,
     "metadata": {},
     "output_type": "execute_result"
    }
   ],
   "source": [
    "new Solution().checkInclusion(\"ab\", \"aba\");"
   ]
  },
  {
   "cell_type": "code",
   "execution_count": 35,
   "metadata": {},
   "outputs": [
    {
     "data": {
      "text/plain": [
       "true"
      ]
     },
     "execution_count": 35,
     "metadata": {},
     "output_type": "execute_result"
    }
   ],
   "source": [
    "new Solution().checkInclusion(\"ab\", \"eidbaooo\");"
   ]
  },
  {
   "cell_type": "code",
   "execution_count": null,
   "metadata": {},
   "outputs": [],
   "source": []
  }
 ],
 "metadata": {
  "kernelspec": {
   "display_name": "Java",
   "language": "java",
   "name": "java"
  },
  "language_info": {
   "codemirror_mode": "java",
   "file_extension": ".jshell",
   "mimetype": "text/x-java-source",
   "name": "Java",
   "pygments_lexer": "java",
   "version": "11.0.3+7"
  }
 },
 "nbformat": 4,
 "nbformat_minor": 2
}
