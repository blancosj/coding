{
 "cells": [
  {
   "cell_type": "markdown",
   "metadata": {},
   "source": [
    "Given two integers dividend and divisor, divide two integers without using multiplication, division and mod operator.\n",
    "\n",
    "Return the quotient after dividing dividend by divisor.\n",
    "\n",
    "The integer division should truncate toward zero, which means losing its fractional part. For example, truncate(8.345) = 8 and truncate(-2.7335) = -2.\n",
    "\n",
    "Example 1:\n",
    "```\n",
    "Input: dividend = 10, divisor = 3\n",
    "Output: 3\n",
    "Explanation: 10/3 = truncate(3.33333..) = 3.\n",
    "```\n",
    "Example 2:\n",
    "```\n",
    "Input: dividend = 7, divisor = -3\n",
    "Output: -2\n",
    "Explanation: 7/-3 = truncate(-2.33333..) = -2.\n",
    "```\n",
    "Note:\n",
    "\n",
    "* Both dividend and divisor will be 32-bit signed integers.\n",
    "* The divisor will never be 0.\n",
    "* Assume we are dealing with an environment which could only store integers within the 32-bit signed integer range: [−231,  231 − 1]. For the purpose of this problem, assume that your function returns 231 − 1 when the division result overflows."
   ]
  },
  {
   "cell_type": "code",
   "execution_count": 7,
   "metadata": {},
   "outputs": [],
   "source": [
    "public class Solution {\n",
    "    public int divide(int dividend, int divisor) {\n",
    "        if (dividend == Integer.MIN_VALUE && divisor == -1) return Integer.MAX_VALUE;\n",
    "        int quotient = 0;\n",
    "        boolean negative = false;\n",
    "        if (dividend < 0) {\n",
    "            negative = !negative;\n",
    "            dividend = -dividend;\n",
    "        }\n",
    "        if (divisor < 0) {\n",
    "            negative = !negative;\n",
    "            divisor = -divisor;\n",
    "        }\n",
    "        while (dividend >= divisor) {\n",
    "            dividend -= divisor;\n",
    "            quotient++;\n",
    "        }\n",
    "        return negative ? -quotient : quotient;\n",
    "    }\n",
    "}"
   ]
  },
  {
   "cell_type": "code",
   "execution_count": 8,
   "metadata": {},
   "outputs": [
    {
     "data": {
      "text/plain": [
       "2"
      ]
     },
     "execution_count": 8,
     "metadata": {},
     "output_type": "execute_result"
    }
   ],
   "source": [
    "new Solution().divide(10, 5);"
   ]
  },
  {
   "cell_type": "code",
   "execution_count": 11,
   "metadata": {},
   "outputs": [
    {
     "data": {
      "text/plain": [
       "-2"
      ]
     },
     "execution_count": 11,
     "metadata": {},
     "output_type": "execute_result"
    }
   ],
   "source": [
    "new Solution().divide(10, -5);"
   ]
  },
  {
   "cell_type": "code",
   "execution_count": 10,
   "metadata": {},
   "outputs": [
    {
     "data": {
      "text/plain": [
       "3"
      ]
     },
     "execution_count": 10,
     "metadata": {},
     "output_type": "execute_result"
    }
   ],
   "source": [
    "new Solution().divide(10, 3);"
   ]
  },
  {
   "cell_type": "code",
   "execution_count": 9,
   "metadata": {},
   "outputs": [
    {
     "data": {
      "text/plain": [
       "2147483647"
      ]
     },
     "execution_count": 9,
     "metadata": {},
     "output_type": "execute_result"
    }
   ],
   "source": [
    "new Solution().divide(Integer.MIN_VALUE, -1);"
   ]
  },
  {
   "cell_type": "code",
   "execution_count": 25,
   "metadata": {},
   "outputs": [],
   "source": [
    "public class Solution2 {\n",
    "    public int divide(int dividend, int divisor) {\n",
    "        if (dividend == Integer.MIN_VALUE && divisor < 0) return Integer.MAX_VALUE;\n",
    "        int quotient = 0;\n",
    "        boolean negative = false;\n",
    "        if (dividend < 0) {\n",
    "            negative = !negative;\n",
    "            dividend = -dividend;\n",
    "        }\n",
    "        if (divisor < 0) {\n",
    "            negative = !negative;\n",
    "            divisor = -divisor;\n",
    "        }\n",
    "        // 2 4 8 16 = 2^4\n",
    "        // 2 + (2 + 2) + (4 + 4) + (8 + 8)\n",
    "        while (dividend >= divisor) {\n",
    "            int value = divisor;\n",
    "            int powerOfTwo = 1;\n",
    "            while (value + value <= dividend) {\n",
    "                value += value;\n",
    "                powerOfTwo += 1;\n",
    "            }\n",
    "            dividend -= value;\n",
    "            quotient += powerOfTwo;\n",
    "        }\n",
    "        return negative ? -quotient : quotient;\n",
    "    }\n",
    "}"
   ]
  },
  {
   "cell_type": "code",
   "execution_count": 26,
   "metadata": {},
   "outputs": [
    {
     "data": {
      "text/plain": [
       "3"
      ]
     },
     "execution_count": 26,
     "metadata": {},
     "output_type": "execute_result"
    }
   ],
   "source": [
    "new Solution2().divide(10, 3);"
   ]
  },
  {
   "cell_type": "code",
   "execution_count": 27,
   "metadata": {},
   "outputs": [
    {
     "data": {
      "text/plain": [
       "7"
      ]
     },
     "execution_count": 27,
     "metadata": {},
     "output_type": "execute_result"
    }
   ],
   "source": [
    "new Solution2().divide(100, 3);"
   ]
  },
  {
   "cell_type": "code",
   "execution_count": 28,
   "metadata": {},
   "outputs": [
    {
     "data": {
      "text/plain": [
       "2147483647"
      ]
     },
     "execution_count": 28,
     "metadata": {},
     "output_type": "execute_result"
    }
   ],
   "source": [
    "new Solution2().divide(Integer.MIN_VALUE, -1);"
   ]
  },
  {
   "cell_type": "code",
   "execution_count": null,
   "metadata": {},
   "outputs": [],
   "source": []
  }
 ],
 "metadata": {
  "kernelspec": {
   "display_name": "Java",
   "language": "java",
   "name": "java"
  },
  "language_info": {
   "codemirror_mode": "java",
   "file_extension": ".jshell",
   "mimetype": "text/x-java-source",
   "name": "Java",
   "pygments_lexer": "java",
   "version": "11.0.3+7"
  }
 },
 "nbformat": 4,
 "nbformat_minor": 2
}
