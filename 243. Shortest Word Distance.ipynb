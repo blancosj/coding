{
 "cells": [
  {
   "cell_type": "markdown",
   "metadata": {},
   "source": [
    "<a href='https://leetcode.com/problems/shortest-word-distance/'>243. Shortest Word Distance</a>\n",
    "\n",
    "Given a list of words and two words word1 and word2, return the shortest distance between these two words in the list.\n",
    "\n",
    "__Example:__\n",
    "```\n",
    "Assume that words = [\"practice\", \"makes\", \"perfect\", \"coding\", \"makes\"].\n",
    "Input: word1 = “coding”, word2 = “practice”\n",
    "Output: 3\n",
    "Input: word1 = \"makes\", word2 = \"coding\"\n",
    "Output: 1\n",
    "```\n",
    "__Note:__\n",
    "\n",
    "You may assume that word1 does not equal to word2, and word1 and word2 are both in the list."
   ]
  },
  {
   "cell_type": "code",
   "execution_count": 5,
   "metadata": {},
   "outputs": [],
   "source": [
    "public class Solution {\n",
    "    public int shortestDistance(String[] words, String word1, String word2) {\n",
    "        int n = words.length;\n",
    "        int result = n;\n",
    "        for (int i = 0; i < n; ++i) {\n",
    "            if (!words[i].equals(word1)) continue;\n",
    "            for (int j = 0; j < n; ++j) {\n",
    "                if (words[j].equals(word2)) {\n",
    "                    result = Math.min(Math.abs(i - j), result);\n",
    "                }\n",
    "            }\n",
    "        }\n",
    "        return result;\n",
    "    }\n",
    "}"
   ]
  },
  {
   "cell_type": "code",
   "execution_count": 6,
   "metadata": {},
   "outputs": [
    {
     "data": {
      "text/plain": [
       "3"
      ]
     },
     "execution_count": 6,
     "metadata": {},
     "output_type": "execute_result"
    }
   ],
   "source": [
    "String[] words = {\"practice\", \"makes\", \"perfect\", \"coding\", \"makes\"};\n",
    "new Solution().shortestDistance(words, \"practice\", \"coding\");"
   ]
  },
  {
   "cell_type": "code",
   "execution_count": 12,
   "metadata": {},
   "outputs": [],
   "source": [
    "public class Solution {\n",
    "    public int shortestDistance(String[] words, String word1, String word2) {\n",
    "        int n = words.length;\n",
    "        int result = n;\n",
    "        for (int i = 0; i < n; ++i) {\n",
    "            String word = null;\n",
    "            if (words[i].equals(word1)) word = word2;\n",
    "            else if (words[i].equals(word2)) word = word1;\n",
    "            for (int j = i + 1; j < n; ++j) {\n",
    "                if (words[j].equals(word)) {\n",
    "                    result = Math.min(j - i, result);\n",
    "                }\n",
    "            }\n",
    "        }\n",
    "        return result;\n",
    "    }\n",
    "}"
   ]
  },
  {
   "cell_type": "code",
   "execution_count": 13,
   "metadata": {},
   "outputs": [
    {
     "data": {
      "text/plain": [
       "3"
      ]
     },
     "execution_count": 13,
     "metadata": {},
     "output_type": "execute_result"
    }
   ],
   "source": [
    "String[] words = {\"practice\", \"makes\", \"perfect\", \"coding\", \"makes\"};\n",
    "new Solution().shortestDistance(words, \"practice\", \"coding\");"
   ]
  },
  {
   "cell_type": "code",
   "execution_count": 16,
   "metadata": {},
   "outputs": [],
   "source": [
    "public class Solution {\n",
    "    public int shortestDistance(String[] words, String word1, String word2) {\n",
    "        int n = words.length;\n",
    "        int result = n;\n",
    "        Integer i1 = null, i2 = null;\n",
    "        for (int i = 0; i < n; ++i) {\n",
    "            if (words[i].equals(word1)) i1 = i;\n",
    "            if (words[i].equals(word2)) i2 = i;\n",
    "            if (i1 != null && i2 != null) {\n",
    "                result = Math.min(Math.abs(i1 - i2), result);\n",
    "            }\n",
    "        }\n",
    "        return result;\n",
    "    }\n",
    "}"
   ]
  },
  {
   "cell_type": "code",
   "execution_count": 17,
   "metadata": {},
   "outputs": [
    {
     "data": {
      "text/plain": [
       "3"
      ]
     },
     "execution_count": 17,
     "metadata": {},
     "output_type": "execute_result"
    }
   ],
   "source": [
    "String[] words = {\"practice\", \"makes\", \"perfect\", \"coding\", \"makes\"};\n",
    "new Solution().shortestDistance(words, \"practice\", \"coding\");"
   ]
  },
  {
   "cell_type": "code",
   "execution_count": null,
   "metadata": {},
   "outputs": [],
   "source": []
  },
  {
   "cell_type": "code",
   "execution_count": null,
   "metadata": {},
   "outputs": [],
   "source": []
  },
  {
   "cell_type": "code",
   "execution_count": null,
   "metadata": {},
   "outputs": [],
   "source": []
  },
  {
   "cell_type": "code",
   "execution_count": null,
   "metadata": {},
   "outputs": [],
   "source": []
  },
  {
   "cell_type": "code",
   "execution_count": null,
   "metadata": {},
   "outputs": [],
   "source": []
  }
 ],
 "metadata": {
  "kernelspec": {
   "display_name": "Java",
   "language": "java",
   "name": "java"
  },
  "language_info": {
   "codemirror_mode": "java",
   "file_extension": ".jshell",
   "mimetype": "text/x-java-source",
   "name": "Java",
   "pygments_lexer": "java",
   "version": "11.0.3+7"
  }
 },
 "nbformat": 4,
 "nbformat_minor": 2
}
