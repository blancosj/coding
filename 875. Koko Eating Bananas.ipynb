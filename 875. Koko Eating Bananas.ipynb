{
 "cells": [
  {
   "cell_type": "markdown",
   "metadata": {},
   "source": [
    "Koko loves to eat bananas.  There are N piles of bananas, the i-th pile has piles[i] bananas.  The guards have gone and will come back in H hours.\n",
    "\n",
    "Koko can decide her bananas-per-hour eating speed of K.  Each hour, she chooses some pile of bananas, and eats K bananas from that pile.  If the pile has less than K bananas, she eats all of them instead, and won't eat any more bananas during this hour.\n",
    "\n",
    "Koko likes to eat slowly, but still wants to finish eating all the bananas before the guards come back.\n",
    "\n",
    "Return the minimum integer K such that she can eat all the bananas within H hours.\n",
    "\n",
    "Example 1:\n",
    "```\n",
    "Input: piles = [3,6,7,11], H = 8\n",
    "Output: 4\n",
    "```\n",
    "Example 2:\n",
    "```\n",
    "Input: piles = [30,11,23,4,20], H = 5\n",
    "Output: 30\n",
    "```\n",
    "Example 3:\n",
    "```\n",
    "Input: piles = [30,11,23,4,20], H = 6\n",
    "Output: 23\n",
    "```\n",
    "\n",
    "__Note__:\n",
    "\n",
    "* 1 <= piles.length <= 10^4\n",
    "* piles.length <= H <= 10^9\n",
    "* 1 <= piles[i] <= 10^9"
   ]
  },
  {
   "cell_type": "code",
   "execution_count": 14,
   "metadata": {},
   "outputs": [],
   "source": [
    "public class Solution {\n",
    "    public int minEatingSpeed(int[] piles, int H) {\n",
    "        long left = 1, right = 0;\n",
    "        for (int pile : piles) right += pile;\n",
    "        while (left < right) {\n",
    "            long mid = (left + right) >> 1;\n",
    "            if (isPossible(piles, H, mid)) {\n",
    "                right = mid;\n",
    "            } else {\n",
    "                left = mid + 1;\n",
    "            }\n",
    "        }\n",
    "        return (int) left;\n",
    "    }\n",
    "    private boolean isPossible(int[] piles, int H, long k) {\n",
    "        long time = 0;\n",
    "        for (int pile : piles) {\n",
    "            time += pile / k;\n",
    "            if (pile % k > 0) time++;\n",
    "        }\n",
    "        return time <= H;\n",
    "    }\n",
    "}"
   ]
  },
  {
   "cell_type": "code",
   "execution_count": 15,
   "metadata": {},
   "outputs": [
    {
     "data": {
      "text/plain": [
       "11"
      ]
     },
     "execution_count": 15,
     "metadata": {},
     "output_type": "execute_result"
    }
   ],
   "source": [
    "int[] piles1 = { 3,6,7,11 };\n",
    "int H = 4;\n",
    "new Solution().minEatingSpeed(piles1, H);"
   ]
  },
  {
   "cell_type": "code",
   "execution_count": 16,
   "metadata": {},
   "outputs": [
    {
     "data": {
      "text/plain": [
       "30"
      ]
     },
     "execution_count": 16,
     "metadata": {},
     "output_type": "execute_result"
    }
   ],
   "source": [
    "int[] piles1 = { 30,11,23,4,20 };\n",
    "int H = 5;\n",
    "new Solution().minEatingSpeed(piles1, H);"
   ]
  },
  {
   "cell_type": "code",
   "execution_count": 17,
   "metadata": {},
   "outputs": [
    {
     "data": {
      "text/plain": [
       "23"
      ]
     },
     "execution_count": 17,
     "metadata": {},
     "output_type": "execute_result"
    }
   ],
   "source": [
    "int[] piles1 = { 30,11,23,4,20 };\n",
    "int H = 6;\n",
    "new Solution().minEatingSpeed(piles1, H);"
   ]
  },
  {
   "cell_type": "code",
   "execution_count": null,
   "metadata": {},
   "outputs": [],
   "source": []
  }
 ],
 "metadata": {
  "kernelspec": {
   "display_name": "Java",
   "language": "java",
   "name": "java"
  },
  "language_info": {
   "codemirror_mode": "java",
   "file_extension": ".jshell",
   "mimetype": "text/x-java-source",
   "name": "Java",
   "pygments_lexer": "java",
   "version": "11.0.3+7"
  }
 },
 "nbformat": 4,
 "nbformat_minor": 2
}
