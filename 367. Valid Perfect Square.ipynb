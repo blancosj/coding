{
 "cells": [
  {
   "cell_type": "markdown",
   "metadata": {},
   "source": [
    "Given a positive integer num, write a function which returns True if num is a perfect square else False.\n",
    "\n",
    "Note: Do not use any built-in library function such as sqrt.\n",
    "\n",
    "```\n",
    "num         sqrt is perfect?\n",
    "========== ===== ===========  \n",
    "965           31       false\n",
    "681           26       false\n",
    "559504       748        true\n",
    "2147483645 46340       false\n",
    "2147483647 46340       false\n",
    "808201       899        true\n",
    "4              2        true\n",
    "16             4        true\n",
    "9              3        true\n",
    "14             3       false\n",
    "1              1        true\n",
    "```"
   ]
  },
  {
   "cell_type": "code",
   "execution_count": 40,
   "metadata": {},
   "outputs": [],
   "source": [
    "// time exceeded\n",
    "public boolean isPerfectSquare(int num) {\n",
    "    for (int i = 1; i * i <= num; ++i) \n",
    "        if (i * i == num) return true;\n",
    "    return false;    \n",
    "}"
   ]
  },
  {
   "cell_type": "code",
   "execution_count": 41,
   "metadata": {},
   "outputs": [
    {
     "ename": "EvaluationInterruptedException",
     "evalue": "Evaluator was interrupted while executing: 'for (int i = 0; i < tests.length; ++i) \n    results[i] = String.format(\"%d = %b\\n\", tests[i], isPerfectSquare(tests[i]));'",
     "output_type": "error",
     "traceback": [
      "\u001b[1m\u001b[30m|   \u001b[1m\u001b[30mfor (int i = 0; i < tests.length; ++i) \u001b[0m",
      "\u001b[1m\u001b[30m|   \u001b[1m\u001b[30m    results[i] = String.format(\"%d = %b\\n\", tests[i], isPerfectSquare(tests[i]));\u001b[0m",
      "\u001b[1m\u001b[31mEvaluation interrupted.\u001b[0m"
     ]
    }
   ],
   "source": [
    "int[] tests = { 965, 681, 808201, 559504, 2147483645, 2147483647, 808201, 4, 16, 9, 16, 14, 1 };\n",
    "String[] results = new String[tests.length];\n",
    "// for (int i = 0; i < tests.length; ++i) \n",
    "//     results[i] = String.format(\"%d = %b\\n\", tests[i], isPerfectSquare(tests[i]));\n",
    "// Arrays.toString(results);"
   ]
  },
  {
   "cell_type": "code",
   "execution_count": 58,
   "metadata": {},
   "outputs": [],
   "source": [
    "// binary search\n",
    "public boolean isPerfectSquare(int num) {\n",
    "    if (num < 2) return true;\n",
    "    long left = 1, right = num / 2;\n",
    "    while (left <= right) {\n",
    "        long m = (left + right) / 2;\n",
    "        long sq = m * m;\n",
    "        if (sq == num) return true;\n",
    "        if (sq > num) {\n",
    "            right = m - 1;\n",
    "        } else {\n",
    "            left = m + 1;\n",
    "        }\n",
    "    }\n",
    "    return false;\n",
    "}"
   ]
  },
  {
   "cell_type": "code",
   "execution_count": 59,
   "metadata": {},
   "outputs": [
    {
     "data": {
      "text/plain": [
       "[965 = false\n",
       ", 681 = false\n",
       ", 808201 = true\n",
       ", 559504 = true\n",
       ", 2147483645 = false\n",
       ", 2147483647 = false\n",
       ", 808201 = true\n",
       ", 4 = true\n",
       ", 16 = true\n",
       ", 9 = true\n",
       ", 16 = true\n",
       ", 14 = false\n",
       ", 1 = true\n",
       "]"
      ]
     },
     "execution_count": 59,
     "metadata": {},
     "output_type": "execute_result"
    }
   ],
   "source": [
    "int[] tests = { 965, 681, 808201, 559504, 2147483645, 2147483647, 808201, 4, 16, 9, 16, 14, 1 };\n",
    "String[] results = new String[tests.length];\n",
    "for (int i = 0; i < tests.length; ++i) \n",
    "    results[i] = String.format(\"%d = %b\\n\", tests[i], isPerfectSquare(tests[i]));\n",
    "Arrays.toString(results);"
   ]
  },
  {
   "cell_type": "code",
   "execution_count": 45,
   "metadata": {},
   "outputs": [],
   "source": [
    "public class Solution {\n",
    "    public boolean isPerfectSquare(int num) {\n",
    "        int sqrt = (int) Math.floor(sqrt(1.0f, num));\n",
    "        return sqrt * sqrt == num;\n",
    "    }\n",
    "    public float sqrt(float guess, float num) {\n",
    "        if (isGoodEnough(guess, num)) return guess;\n",
    "        return sqrt(improve(guess, num), num);\n",
    "    }\n",
    "    public boolean isGoodEnough(float guess, float num) {\n",
    "        return Math.abs(((guess * guess) - num)) / num < 0.00001;\n",
    "    }\n",
    "    public float improve(float guess, float num) {\n",
    "        return (guess + (num / guess)) / 2;\n",
    "    }\n",
    "}"
   ]
  },
  {
   "cell_type": "code",
   "execution_count": 46,
   "metadata": {},
   "outputs": [
    {
     "data": {
      "text/plain": [
       "[965 = false\n",
       ", 681 = false\n",
       ", 808201 = true\n",
       ", 559504 = true\n",
       ", 2147483645 = false\n",
       ", 2147483647 = false\n",
       ", 808201 = true\n",
       ", 4 = true\n",
       ", 16 = true\n",
       ", 9 = true\n",
       ", 16 = true\n",
       ", 14 = false\n",
       ", 1 = true\n",
       "]"
      ]
     },
     "execution_count": 46,
     "metadata": {},
     "output_type": "execute_result"
    }
   ],
   "source": [
    "int[] tests = { 965, 681, 808201, 559504, 2147483645, 2147483647, 808201, 4, 16, 9, 16, 14, 1 };\n",
    "String[] results = new String[tests.length];\n",
    "Solution sol = new Solution();\n",
    "for (int i = 0; i < tests.length; ++i) \n",
    "    results[i] = String.format(\"%d = %b\\n\", tests[i], sol.isPerfectSquare(tests[i]));\n",
    "Arrays.toString(results);"
   ]
  },
  {
   "cell_type": "code",
   "execution_count": 90,
   "metadata": {},
   "outputs": [],
   "source": [
    "public int sqrt(int num) {\n",
    "    if (num < 2) return num;\n",
    "    long left = 2, right = num / 2;\n",
    "    while (left <= right) {\n",
    "        long m = (left + right) / 2;\n",
    "        long sq = m * m;\n",
    "        if (sq == num) return (int) m;\n",
    "        if (sq > num) right = m - 1;\n",
    "        else left = m + 1;\n",
    "    }\n",
    "    return (int) right;\n",
    "}"
   ]
  },
  {
   "cell_type": "code",
   "execution_count": 95,
   "metadata": {},
   "outputs": [
    {
     "data": {
      "text/plain": [
       "[2, 46339, 836, 1]"
      ]
     },
     "execution_count": 95,
     "metadata": {},
     "output_type": "execute_result"
    }
   ],
   "source": [
    "int[] results = { sqrt(4), sqrt(2147395599), sqrt(700008), sqrt(2) };\n",
    "Arrays.toString(results);"
   ]
  },
  {
   "cell_type": "markdown",
   "metadata": {},
   "source": [
    "https://www.coursera.org/lecture/progfun1/lecture-1-5-example-square-roots-with-newtons-method-FQDE1"
   ]
  },
  {
   "cell_type": "code",
   "execution_count": 3,
   "metadata": {},
   "outputs": [],
   "source": [
    "// ========== ======== ======\n",
    "// Estimation Quotient  Mean\n",
    "// ========== ======== ======\n",
    "//      1      2 / 1   1.5  \n",
    "//     1.5     2 / 1.5 1.4167\n",
    "public int sqrt(int num) {\n",
    "    if (num < 2) return num;\n",
    "    double guess = 1;\n",
    "    while (Math.abs((guess * guess) - num) > 0.0001) {\n",
    "        guess = (guess + (num / guess)) / 2;\n",
    "    }\n",
    "    return (int) guess;\n",
    "}"
   ]
  },
  {
   "cell_type": "code",
   "execution_count": 2,
   "metadata": {},
   "outputs": [
    {
     "data": {
      "text/plain": [
       "[2, 46339, 836, 1]"
      ]
     },
     "execution_count": 2,
     "metadata": {},
     "output_type": "execute_result"
    }
   ],
   "source": [
    "int[] results = { sqrt(4), sqrt(2147395599), sqrt(700008), sqrt(2) };\n",
    "Arrays.toString(results);"
   ]
  },
  {
   "cell_type": "code",
   "execution_count": null,
   "metadata": {},
   "outputs": [],
   "source": []
  }
 ],
 "metadata": {
  "kernelspec": {
   "display_name": "Java",
   "language": "java",
   "name": "java"
  },
  "language_info": {
   "codemirror_mode": "java",
   "file_extension": ".jshell",
   "mimetype": "text/x-java-source",
   "name": "Java",
   "pygments_lexer": "java",
   "version": "11.0.3+7"
  }
 },
 "nbformat": 4,
 "nbformat_minor": 2
}
