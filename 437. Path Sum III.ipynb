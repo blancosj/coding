{
 "cells": [
  {
   "cell_type": "markdown",
   "metadata": {},
   "source": [
    "You are given a binary tree in which each node contains an integer value.\n",
    "\n",
    "Find the number of paths that sum to a given value.\n",
    "\n",
    "The path does not need to start or end at the root or a leaf, but it must go downwards (traveling only from parent nodes to child nodes).\n",
    "\n",
    "The tree has no more than 1,000 nodes and the values are in the range -1,000,000 to 1,000,000.\n",
    "\n",
    "__Example:__\n",
    "```\n",
    "root = [10,5,-3,3,2,null,11,3,-2,null,1], sum = 8\n",
    "\n",
    "      10\n",
    "     /  \\\n",
    "    5   -3\n",
    "   / \\    \\\n",
    "  3   2   11\n",
    " / \\   \\\n",
    "3  -2   1\n",
    "\n",
    "Return 3. The paths that sum to 8 are:\n",
    "\n",
    "1.  5 -> 3\n",
    "2.  5 -> 2 -> 1\n",
    "3. -3 -> 11\n",
    "```"
   ]
  },
  {
   "cell_type": "code",
   "execution_count": 2,
   "metadata": {},
   "outputs": [],
   "source": [
    "public class TreeNode {\n",
    "    public int val;\n",
    "    public TreeNode left, right;\n",
    "    public TreeNode(int val) {\n",
    "        this.val = val;\n",
    "    }\n",
    "}"
   ]
  },
  {
   "cell_type": "code",
   "execution_count": 3,
   "metadata": {},
   "outputs": [],
   "source": [
    "public class Solution {\n",
    "    private int answer = 0, target;\n",
    "    private Map<Integer, Integer> map = new HashMap<>();\n",
    "    public int solve(TreeNode root, int target) {\n",
    "        this.target = target;\n",
    "        map.put(0, 1);\n",
    "        preorder(root, 0);\n",
    "        return answer;\n",
    "    }\n",
    "    private void preorder(TreeNode node, int accSum) {\n",
    "        if (node == null) return;\n",
    "        accSum += node.val;\n",
    "        int t = accSum - target;\n",
    "        if (map.containsKey(t)) answer += map.get(t);\n",
    "        map.put(accSum, map.getOrDefault(accSum, 0) + 1);\n",
    "        preorder(node.left, accSum);\n",
    "        preorder(node.right, accSum);\n",
    "        map.put(accSum, map.get(accSum) - 1);\n",
    "    }\n",
    "}"
   ]
  },
  {
   "cell_type": "code",
   "execution_count": 4,
   "metadata": {},
   "outputs": [
    {
     "data": {
      "text/plain": [
       "REPL.$JShell$13$TreeNode@3dd58d19"
      ]
     },
     "execution_count": 4,
     "metadata": {},
     "output_type": "execute_result"
    }
   ],
   "source": [
    "//       10\n",
    "//      /  \\\n",
    "//     5   -3\n",
    "//    / \\    \\\n",
    "//   3   2   11\n",
    "//  / \\   \\\n",
    "// 3  -2   1\n",
    "TreeNode root = new TreeNode(10);\n",
    "root.left = new TreeNode(5);\n",
    "root.right = new TreeNode(-3);\n",
    "root.left.left = new TreeNode(3);\n",
    "root.left.right = new TreeNode(2);\n",
    "root.left.left.left = new TreeNode(3);\n",
    "root.left.left.right = new TreeNode(-2);\n",
    "root.left.right = new TreeNode(2);\n",
    "root.left.right.right = new TreeNode(1);\n",
    "root.right.right = new TreeNode(11);"
   ]
  },
  {
   "cell_type": "code",
   "execution_count": 5,
   "metadata": {},
   "outputs": [
    {
     "data": {
      "text/plain": [
       "3"
      ]
     },
     "execution_count": 5,
     "metadata": {},
     "output_type": "execute_result"
    }
   ],
   "source": [
    "new Solution().solve(root, 8);"
   ]
  },
  {
   "cell_type": "code",
   "execution_count": null,
   "metadata": {},
   "outputs": [],
   "source": []
  }
 ],
 "metadata": {
  "kernelspec": {
   "display_name": "Java",
   "language": "java",
   "name": "java"
  },
  "language_info": {
   "codemirror_mode": "java",
   "file_extension": ".jshell",
   "mimetype": "text/x-java-source",
   "name": "Java",
   "pygments_lexer": "java",
   "version": "11.0.3+7"
  }
 },
 "nbformat": 4,
 "nbformat_minor": 2
}
