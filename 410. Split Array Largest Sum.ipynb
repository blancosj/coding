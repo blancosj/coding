{
 "cells": [
  {
   "cell_type": "markdown",
   "metadata": {},
   "source": [
    "Given an array which consists of non-negative integers and an integer m, you can split the array into m non-empty continuous subarrays. Write an algorithm to minimize the largest sum among these m subarrays.\n",
    "\n",
    "__Note__:\n",
    "If n is the length of array, assume the following constraints are satisfied:\n",
    "\n",
    "* 1 ≤ n ≤ 1000\n",
    "* 1 ≤ m ≤ min(50, n)\n",
    "\n",
    "Examples:\n",
    "```\n",
    "Input:\n",
    "nums = [7,2,5,10,8]\n",
    "m = 2\n",
    "\n",
    "Output:\n",
    "18\n",
    "Explanation:\n",
    "There are four ways to split nums into two subarrays.\n",
    "The best way is to split it into [7,2,5] and [10,8],\n",
    "where the largest sum among the two subarrays is only 18.\n",
    "```"
   ]
  },
  {
   "cell_type": "code",
   "execution_count": 22,
   "metadata": {},
   "outputs": [],
   "source": [
    "public class Solution {\n",
    "    int answer;\n",
    "    public int splitArray(int[] nums, int m) {\n",
    "        answer = Integer.MAX_VALUE;\n",
    "        dfs(nums, nums.length, m, 0, 0, 0);\n",
    "        return answer;\n",
    "    }\n",
    "    private void dfs(int[] nums, int len, int m, int i, int sum, int maxSum) {\n",
    "        if (i == len) {\n",
    "            if (m == 0) {\n",
    "                answer = Math.min(answer, maxSum);\n",
    "            }\n",
    "            return;\n",
    "        }\n",
    "        if (i > 0) {\n",
    "            dfs(nums, len, m, i + 1, sum + nums[i], Math.max(maxSum, sum + nums[i]));\n",
    "        }\n",
    "        if (m > 0) {\n",
    "            dfs(nums, len, m - 1, i + 1, nums[i], Math.max(maxSum, nums[i]));\n",
    "        }\n",
    "    }\n",
    "}"
   ]
  },
  {
   "cell_type": "code",
   "execution_count": 20,
   "metadata": {},
   "outputs": [
    {
     "data": {
      "text/plain": [
       "14"
      ]
     },
     "execution_count": 20,
     "metadata": {},
     "output_type": "execute_result"
    }
   ],
   "source": [
    "int[] arr1 = { 7,2,5,10,8 };\n",
    "new Solution().splitArray(arr1, 2);"
   ]
  },
  {
   "cell_type": "code",
   "execution_count": 21,
   "metadata": {},
   "outputs": [
    {
     "data": {
      "text/plain": [
       "2147483647"
      ]
     },
     "execution_count": 21,
     "metadata": {},
     "output_type": "execute_result"
    }
   ],
   "source": [
    "int[] arr1 = { 1,2147483647 };\n",
    "new Solution().splitArray(arr1, 2);"
   ]
  },
  {
   "cell_type": "code",
   "execution_count": 39,
   "metadata": {},
   "outputs": [],
   "source": [
    "public class Solution {\n",
    "    public int splitArray(int[] nums, int m) {\n",
    "        int left = 0, right = 0;\n",
    "        for (int num : nums) {\n",
    "            left = Math.max(left, num);\n",
    "            right += num;\n",
    "        }\n",
    "        // left = 3 right = 6 \n",
    "        // 1, 2, 3\n",
    "        // ^\n",
    "        // m: 9 / 2 = 4\n",
    "        while (left < right) {\n",
    "            int mid = (left + right) >> 1;\n",
    "            System.out.println(mid);\n",
    "            if (findMinCount(nums, mid) > m) {\n",
    "                left = mid + 1;\n",
    "            } else {\n",
    "                right = mid;\n",
    "            }\n",
    "        }\n",
    "        return left;\n",
    "    }\n",
    "    private int findMinCount(int[] nums, int val) {\n",
    "        int count = 1;\n",
    "        int sum = 0;\n",
    "        for (int i = 0; i < nums.length; ++i) {\n",
    "            sum += nums[i];\n",
    "            if (sum > val) {\n",
    "                sum = nums[i];\n",
    "                count++;\n",
    "            }\n",
    "        }\n",
    "        return count;\n",
    "    }\n",
    "}"
   ]
  },
  {
   "cell_type": "markdown",
   "metadata": {},
   "source": [
    "Time Complexity $O(n * log(sum of array))$"
   ]
  },
  {
   "cell_type": "code",
   "execution_count": 40,
   "metadata": {},
   "outputs": [
    {
     "name": "stdout",
     "output_type": "stream",
     "text": [
      "21\n",
      "15\n",
      "18\n",
      "17\n"
     ]
    },
    {
     "data": {
      "text/plain": [
       "18"
      ]
     },
     "execution_count": 40,
     "metadata": {},
     "output_type": "execute_result"
    }
   ],
   "source": [
    "int[] arr1 = { 7,2,5,10,8 };\n",
    "new Solution().splitArray(arr1, 2);"
   ]
  },
  {
   "cell_type": "code",
   "execution_count": 41,
   "metadata": {},
   "outputs": [
    {
     "data": {
      "text/plain": [
       "2147483647"
      ]
     },
     "execution_count": 41,
     "metadata": {},
     "output_type": "execute_result"
    }
   ],
   "source": [
    "int[] arr1 = { 1,2147483647 };\n",
    "new Solution().splitArray(arr1, 2);"
   ]
  },
  {
   "cell_type": "code",
   "execution_count": 42,
   "metadata": {},
   "outputs": [
    {
     "name": "stdout",
     "output_type": "stream",
     "text": [
      "4\n",
      "3\n"
     ]
    },
    {
     "data": {
      "text/plain": [
       "3"
      ]
     },
     "execution_count": 42,
     "metadata": {},
     "output_type": "execute_result"
    }
   ],
   "source": [
    "int[] arr1 = { 1,2,3 };\n",
    "new Solution().splitArray(arr1, 2);"
   ]
  },
  {
   "cell_type": "code",
   "execution_count": null,
   "metadata": {},
   "outputs": [],
   "source": []
  }
 ],
 "metadata": {
  "kernelspec": {
   "display_name": "Java",
   "language": "java",
   "name": "java"
  },
  "language_info": {
   "codemirror_mode": "java",
   "file_extension": ".jshell",
   "mimetype": "text/x-java-source",
   "name": "Java",
   "pygments_lexer": "java",
   "version": "11.0.3+7"
  }
 },
 "nbformat": 4,
 "nbformat_minor": 2
}
