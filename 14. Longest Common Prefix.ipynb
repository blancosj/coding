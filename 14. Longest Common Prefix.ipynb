{
 "cells": [
  {
   "cell_type": "markdown",
   "metadata": {},
   "source": [
    "## <a href='https://leetcode.com/problems/longest-common-prefix/'>14. Longest Common Prefix</a>\n",
    "Write a function to find the longest common prefix string amongst an array of strings.\n",
    "\n",
    "If there is no common prefix, return an empty string \"\".\n",
    "\n",
    "__Example 1:__\n",
    "```\n",
    "Input: [\"flower\",\"flow\",\"flight\"]\n",
    "Output: \"fl\"\n",
    "```\n",
    "__Example 2:__\n",
    "```\n",
    "Input: [\"dog\",\"racecar\",\"car\"]\n",
    "Output: \"\"\n",
    "Explanation: There is no common prefix among the input strings.\n",
    "```\n",
    "__Note:__\n",
    "\n",
    "* All given inputs are in lowercase letters a-z."
   ]
  },
  {
   "cell_type": "code",
   "execution_count": 9,
   "metadata": {},
   "outputs": [],
   "source": [
    "public class Solution {\n",
    "    private String[] words;\n",
    "    private int n;\n",
    "    public String solve(String[] words) {\n",
    "        n = words.length;\n",
    "        if (n == 0) return \"\";\n",
    "        String refWord = words[0];\n",
    "        int result = refWord.length();\n",
    "        for (int i = 1; i < n; ++i) {\n",
    "            String curWord = words[i];\n",
    "            int j = 0;\n",
    "            while (j < Math.min(refWord.length(), curWord.length())) {\n",
    "                if (refWord.charAt(j) != curWord.charAt(j)) break;\n",
    "                j++;\n",
    "            }\n",
    "            result = Math.min(j, result);\n",
    "        }\n",
    "        return refWord.substring(0, result);\n",
    "    }\n",
    "}"
   ]
  },
  {
   "cell_type": "code",
   "execution_count": 10,
   "metadata": {},
   "outputs": [
    {
     "data": {
      "text/plain": [
       "fl"
      ]
     },
     "execution_count": 10,
     "metadata": {},
     "output_type": "execute_result"
    }
   ],
   "source": [
    "new Solution().solve(new String[] {\"flower\",\"flow\",\"flight\"});"
   ]
  },
  {
   "cell_type": "code",
   "execution_count": 11,
   "metadata": {},
   "outputs": [
    {
     "data": {
      "text/plain": []
     },
     "execution_count": 11,
     "metadata": {},
     "output_type": "execute_result"
    }
   ],
   "source": [
    "new Solution().solve(new String[] {\"dog\",\"racecar\",\"car\"});"
   ]
  },
  {
   "cell_type": "code",
   "execution_count": 12,
   "metadata": {},
   "outputs": [
    {
     "data": {
      "text/plain": [
       "a"
      ]
     },
     "execution_count": 12,
     "metadata": {},
     "output_type": "execute_result"
    }
   ],
   "source": [
    "new Solution().solve(new String[] {\"a\"});"
   ]
  },
  {
   "cell_type": "code",
   "execution_count": 32,
   "metadata": {},
   "outputs": [],
   "source": [
    "public class Solution {\n",
    "    private int n;\n",
    "    private String[] words;\n",
    "    public String solve(String[] words) {\n",
    "        n = words.length;\n",
    "        if (n == 0) return \"\";\n",
    "        this.words = words;\n",
    "        int minLen = Integer.MAX_VALUE;\n",
    "        for (String word : words) minLen = Math.min(word.length(), minLen);\n",
    "        int left = 1, right = minLen;\n",
    "        String refWord = words[0];\n",
    "        while (left <= right) {\n",
    "            int mid = left + (right - left) / 2;\n",
    "            if (isValid(mid)) {\n",
    "                left = mid + 1;\n",
    "            } else {\n",
    "                right = mid - 1;\n",
    "            }\n",
    "        }\n",
    "        return refWord.substring(0, left - 1);\n",
    "    }\n",
    "    private boolean isValid(int len) {\n",
    "        String refPrefix = words[0].substring(0, len);\n",
    "        for (int i = 1; i < n; ++i) {\n",
    "            String curWord = words[i];\n",
    "            if (!curWord.startsWith(refPrefix)) return false;\n",
    "        }\n",
    "        return true;\n",
    "    }\n",
    "}"
   ]
  },
  {
   "cell_type": "code",
   "execution_count": 33,
   "metadata": {},
   "outputs": [
    {
     "data": {
      "text/plain": [
       "fl"
      ]
     },
     "execution_count": 33,
     "metadata": {},
     "output_type": "execute_result"
    }
   ],
   "source": [
    "new Solution().solve(new String[] {\"flower\",\"flow\",\"flight\"});"
   ]
  },
  {
   "cell_type": "code",
   "execution_count": 34,
   "metadata": {},
   "outputs": [
    {
     "data": {
      "text/plain": []
     },
     "execution_count": 34,
     "metadata": {},
     "output_type": "execute_result"
    }
   ],
   "source": [
    "new Solution().solve(new String[] {\"dog\",\"racecar\",\"car\"});"
   ]
  },
  {
   "cell_type": "code",
   "execution_count": 35,
   "metadata": {},
   "outputs": [
    {
     "data": {
      "text/plain": [
       "a"
      ]
     },
     "execution_count": 35,
     "metadata": {},
     "output_type": "execute_result"
    }
   ],
   "source": [
    "new Solution().solve(new String[] {\"a\"});"
   ]
  },
  {
   "cell_type": "code",
   "execution_count": 86,
   "metadata": {},
   "outputs": [],
   "source": [
    "public class Solution {\n",
    "    private String q;\n",
    "    private String[] words;\n",
    "    private Trie trie = new Trie();\n",
    "    public String solve(String q, String[] words) {\n",
    "        this.q = q;\n",
    "        this.words = words;\n",
    "        for (String word : words) trie.insert(word);\n",
    "        return trie.longestCommonPrefix(q);\n",
    "    }\n",
    "    private class Trie {\n",
    "        public TrieNode root = new TrieNode();\n",
    "        public int size = 0;\n",
    "        public void insert(String word) {\n",
    "            TrieNode cur = root;\n",
    "            int len = word.length();\n",
    "            for (int i = 0; i < len; ++i) {\n",
    "                char c = word.charAt(i);\n",
    "                cur = cur.put(c);\n",
    "            }\n",
    "            size++;\n",
    "        }\n",
    "        public String longestCommonPrefix(String q) {\n",
    "            int len = q.length();\n",
    "            StringBuilder result = new StringBuilder();\n",
    "            TrieNode cur = root;\n",
    "            for (int i = 0; i < len; ++i) {\n",
    "                char c = q.charAt(i);\n",
    "                cur = cur.get(c);\n",
    "                if (cur.count == size) {\n",
    "                    result.append(c);\n",
    "                } else {\n",
    "                    return result.toString();\n",
    "                }\n",
    "            }\n",
    "            return result.toString();\n",
    "        }\n",
    "    }   \n",
    "    private class TrieNode {\n",
    "        public Map<Character, TrieNode> neighbors = new HashMap<>();\n",
    "        public int count = 0;\n",
    "        public TrieNode put(char c) {\n",
    "            TrieNode trieNode = neighbors.computeIfAbsent(c, x -> new TrieNode());\n",
    "            trieNode.count++;\n",
    "            return trieNode;\n",
    "        }\n",
    "        public TrieNode get(char c) {\n",
    "            return neighbors.getOrDefault(c, new TrieNode());\n",
    "        }\n",
    "    }\n",
    "}"
   ]
  },
  {
   "cell_type": "code",
   "execution_count": 87,
   "metadata": {},
   "outputs": [
    {
     "data": {
      "text/plain": [
       "le"
      ]
     },
     "execution_count": 87,
     "metadata": {},
     "output_type": "execute_result"
    }
   ],
   "source": [
    "new Solution().solve(\"lee\", new String[] {\"leetcode\", \"leader\"});"
   ]
  },
  {
   "cell_type": "code",
   "execution_count": 88,
   "metadata": {},
   "outputs": [
    {
     "data": {
      "text/plain": [
       "a"
      ]
     },
     "execution_count": 88,
     "metadata": {},
     "output_type": "execute_result"
    }
   ],
   "source": [
    "new Solution().solve(\"a\", new String[] {\"a\"});"
   ]
  },
  {
   "cell_type": "code",
   "execution_count": null,
   "metadata": {},
   "outputs": [],
   "source": []
  }
 ],
 "metadata": {
  "kernelspec": {
   "display_name": "Java",
   "language": "java",
   "name": "java"
  },
  "language_info": {
   "codemirror_mode": "java",
   "file_extension": ".jshell",
   "mimetype": "text/x-java-source",
   "name": "Java",
   "pygments_lexer": "java",
   "version": "11.0.3+7"
  }
 },
 "nbformat": 4,
 "nbformat_minor": 2
}
