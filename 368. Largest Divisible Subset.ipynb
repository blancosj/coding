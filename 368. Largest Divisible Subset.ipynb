{
 "cells": [
  {
   "cell_type": "markdown",
   "metadata": {},
   "source": [
    "Given a set of distinct positive integers, find the largest subset such that every pair (Si, Sj) of elements in this subset satisfies:\n",
    "\n",
    "$S_i\\mathrm{mod}\\ S_j=0$ or $S_j\\mathrm{mod}\\ S_i=0$.\n",
    "\n",
    "If there are multiple solutions, return any subset is fine.\n",
    "\n",
    "Example 1:\n",
    "```\n",
    "Input: [1,2,3]\n",
    "Output: [1,2] (of course, [1,3] will also be ok)\n",
    "```\n",
    "Example 2:\n",
    "```\n",
    "Input: [1,2,4,8]\n",
    "Output: [1,2,4,8]\n",
    "```"
   ]
  },
  {
   "cell_type": "code",
   "execution_count": 14,
   "metadata": {},
   "outputs": [],
   "source": [
    "public class Solution {\n",
    "    public List<Integer> largestDivisibleSubset(int[] nums) {\n",
    "        int n = nums.length;\n",
    "        Map<Integer, List<Integer>> dp = new HashMap<>();\n",
    "        Arrays.sort(nums);\n",
    "        List<Integer> answer = new ArrayList<>();\n",
    "        for (int i = 0; i < n; ++i) {\n",
    "            List<Integer> t = dfs(nums, n, i, dp);\n",
    "            if (t.size() > answer.size()) {\n",
    "                answer.clear();\n",
    "                answer.addAll(t);\n",
    "            }\n",
    "        }\n",
    "        return answer;\n",
    "    }\n",
    "    private List<Integer> dfs(int[] nums, int n, int start, Map<Integer, List<Integer>> dp) {\n",
    "        if (dp.containsKey(start)) return dp.get(start);\n",
    "        List<Integer> answer = new ArrayList<>();\n",
    "        for (int i = start + 1; i < n; ++i) {\n",
    "            if (nums[i] %nums[start] == 0) {\n",
    "                List<Integer> t = dfs(nums, n, i, dp);\n",
    "                if (t.size() > answer.size()) {\n",
    "                    answer.clear();\n",
    "                    answer.addAll(t);\n",
    "                }\n",
    "            }\n",
    "        }\n",
    "        answer.add(nums[start]);\n",
    "        dp.put(start, answer);\n",
    "        return answer;\n",
    "    }\n",
    "}"
   ]
  },
  {
   "cell_type": "code",
   "execution_count": 15,
   "metadata": {},
   "outputs": [
    {
     "data": {
      "text/plain": [
       "[2, 1]"
      ]
     },
     "execution_count": 15,
     "metadata": {},
     "output_type": "execute_result"
    }
   ],
   "source": [
    "int[] nums = {1,2,3};\n",
    "new Solution().largestDivisibleSubset(nums);"
   ]
  },
  {
   "cell_type": "code",
   "execution_count": 16,
   "metadata": {},
   "outputs": [
    {
     "data": {
      "text/plain": [
       "[8, 4, 2, 1]"
      ]
     },
     "execution_count": 16,
     "metadata": {},
     "output_type": "execute_result"
    }
   ],
   "source": [
    "int[] nums = {1,2,4,8};\n",
    "new Solution().largestDivisibleSubset(nums);"
   ]
  },
  {
   "cell_type": "code",
   "execution_count": null,
   "metadata": {},
   "outputs": [],
   "source": []
  }
 ],
 "metadata": {
  "kernelspec": {
   "display_name": "Java",
   "language": "java",
   "name": "java"
  },
  "language_info": {
   "codemirror_mode": "java",
   "file_extension": ".jshell",
   "mimetype": "text/x-java-source",
   "name": "Java",
   "pygments_lexer": "java",
   "version": "11.0.3+7"
  }
 },
 "nbformat": 4,
 "nbformat_minor": 2
}
