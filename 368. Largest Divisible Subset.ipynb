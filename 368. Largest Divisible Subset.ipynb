{
 "cells": [
  {
   "cell_type": "markdown",
   "metadata": {},
   "source": [
    "Given a set of distinct positive integers, find the largest subset such that every pair (Si, Sj) of elements in this subset satisfies:\n",
    "\n",
    "$S_i\\mathrm{mod}\\ S_j=0$ or $S_j\\mathrm{mod}\\ S_i=0$.\n",
    "\n",
    "If there are multiple solutions, return any subset is fine.\n",
    "\n",
    "Example 1:\n",
    "```\n",
    "Input: [1,2,3]\n",
    "Output: [1,2] (of course, [1,3] will also be ok)\n",
    "```\n",
    "Example 2:\n",
    "```\n",
    "Input: [1,2,4,8]\n",
    "Output: [1,2,4,8]\n",
    "```"
   ]
  },
  {
   "cell_type": "code",
   "execution_count": null,
   "metadata": {},
   "outputs": [],
   "source": [
    "public class Solution {\n",
    "    public List<Integer> largestDivisibleSubset(int[] nums) {\n",
    "    }\n",
    "}"
   ]
  }
 ],
 "metadata": {
  "kernelspec": {
   "display_name": "Java",
   "language": "java",
   "name": "java"
  },
  "language_info": {
   "codemirror_mode": "java",
   "file_extension": ".jshell",
   "mimetype": "text/x-java-source",
   "name": "Java",
   "pygments_lexer": "java",
   "version": "11.0.3+7"
  }
 },
 "nbformat": 4,
 "nbformat_minor": 2
}
