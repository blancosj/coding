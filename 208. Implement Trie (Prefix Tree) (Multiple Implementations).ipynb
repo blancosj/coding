{
 "cells": [
  {
   "cell_type": "markdown",
   "metadata": {},
   "source": [
    "Implement a trie with insert, search, and startsWith methods.\n",
    "_Example:_\n",
    "```\n",
    "Trie trie = new Trie();\n",
    "\n",
    "trie.insert(\"apple\");\n",
    "trie.search(\"apple\");   // returns true\n",
    "trie.search(\"app\");     // returns false\n",
    "trie.startsWith(\"app\"); // returns true\n",
    "trie.insert(\"app\");   \n",
    "trie.search(\"app\");     // returns true\n",
    "```\n",
    "_Note:_\n",
    "You may assume that all inputs are consist of lowercase letters a-z.\n",
    "All inputs are guaranteed to be non-empty strings."
   ]
  },
  {
   "cell_type": "code",
   "execution_count": 1,
   "metadata": {},
   "outputs": [],
   "source": [
    "public class Trie {\n",
    "    Node root = new Node();\n",
    "    public void insert(String word) {\n",
    "        Node cur = root;\n",
    "        for (int i = 0; i < word.length(); ++i) {\n",
    "            char c = word.charAt(i);\n",
    "            int p = c - 'a';\n",
    "            if (cur.nodes[p] == null) cur.nodes[p] = new Node();\n",
    "            cur.nodes[p].count++;\n",
    "            cur = cur.nodes[p];\n",
    "        }\n",
    "        cur.words++;\n",
    "    }\n",
    "    public boolean search(String word) {\n",
    "        Node cur = root;\n",
    "        for (int i = 0; i < word.length(); ++i) {\n",
    "            char c = word.charAt(i);\n",
    "            int p = c - 'a';\n",
    "            if (cur.nodes[p] == null || cur.nodes[p].count == 0) return false;\n",
    "            cur = cur.nodes[p];\n",
    "        }\n",
    "        return cur.words > 0;\n",
    "    }\n",
    "    public boolean startsWith(String prefix) {\n",
    "        Node cur = root;\n",
    "        for (int i = 0; i < prefix.length(); ++i) {\n",
    "            char c = prefix.charAt(i);\n",
    "            int p = c - 'a';\n",
    "            if (cur.nodes[p] == null || cur.nodes[p].count == 0) return false;\n",
    "            cur = cur.nodes[p];\n",
    "        }\n",
    "        return true;\n",
    "    }\n",
    "    private class Node {\n",
    "        int count, words;\n",
    "        Node[] nodes = new Node['z' - 'a' + 1];\n",
    "    }\n",
    "}"
   ]
  },
  {
   "cell_type": "code",
   "execution_count": 2,
   "metadata": {},
   "outputs": [],
   "source": [
    "Trie trie = new Trie();"
   ]
  },
  {
   "cell_type": "code",
   "execution_count": 3,
   "metadata": {},
   "outputs": [],
   "source": [
    "trie.insert(\"apple\");"
   ]
  },
  {
   "cell_type": "code",
   "execution_count": 4,
   "metadata": {},
   "outputs": [
    {
     "data": {
      "text/plain": [
       "true"
      ]
     },
     "execution_count": 4,
     "metadata": {},
     "output_type": "execute_result"
    }
   ],
   "source": [
    "trie.search(\"apple\");"
   ]
  },
  {
   "cell_type": "code",
   "execution_count": 5,
   "metadata": {},
   "outputs": [
    {
     "data": {
      "text/plain": [
       "true"
      ]
     },
     "execution_count": 5,
     "metadata": {},
     "output_type": "execute_result"
    }
   ],
   "source": [
    "trie.startsWith(\"app\");"
   ]
  },
  {
   "cell_type": "code",
   "execution_count": 6,
   "metadata": {},
   "outputs": [
    {
     "data": {
      "text/plain": [
       "false"
      ]
     },
     "execution_count": 6,
     "metadata": {},
     "output_type": "execute_result"
    }
   ],
   "source": [
    "trie.startsWith(\"apd\")"
   ]
  },
  {
   "cell_type": "code",
   "execution_count": 7,
   "metadata": {},
   "outputs": [],
   "source": [
    "trie.insert(\"app\");"
   ]
  },
  {
   "cell_type": "code",
   "execution_count": 8,
   "metadata": {},
   "outputs": [
    {
     "data": {
      "text/plain": [
       "true"
      ]
     },
     "execution_count": 8,
     "metadata": {},
     "output_type": "execute_result"
    }
   ],
   "source": [
    "trie.search(\"app\");"
   ]
  },
  {
   "cell_type": "code",
   "execution_count": null,
   "metadata": {},
   "outputs": [],
   "source": []
  }
 ],
 "metadata": {
  "kernelspec": {
   "display_name": "Java",
   "language": "java",
   "name": "java"
  },
  "language_info": {
   "codemirror_mode": "java",
   "file_extension": ".jshell",
   "mimetype": "text/x-java-source",
   "name": "Java",
   "pygments_lexer": "java",
   "version": "11.0.3+7"
  }
 },
 "nbformat": 4,
 "nbformat_minor": 2
}
