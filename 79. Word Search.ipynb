{
 "cells": [
  {
   "cell_type": "markdown",
   "metadata": {},
   "source": [
    "Given a 2D board and a word, find if the word exists in the grid.\n",
    "\n",
    "The word can be constructed from letters of sequentially adjacent cell, where \"adjacent\" cells are those horizontally or vertically neighboring. The same letter cell may not be used more than once.\n",
    "\n",
    "__Example:__\n",
    "```\n",
    "board =\n",
    "[\n",
    "  ['A','B','C','E'],\n",
    "  ['S','F','C','S'],\n",
    "  ['A','D','E','E']\n",
    "]\n",
    "\n",
    "Given word = \"ABCCED\", return true.\n",
    "Given word = \"SEE\", return true.\n",
    "Given word = \"ABCB\", return false.\n",
    "``` \n",
    "__Constraints:__\n",
    "\n",
    "* board and word consists only of lowercase and uppercase English letters.\n",
    "* 1 <= board.length <= 200\n",
    "* 1 <= board[i].length <= 200\n",
    "* 1 <= word.length <= 10^3"
   ]
  },
  {
   "cell_type": "code",
   "execution_count": 63,
   "metadata": {},
   "outputs": [],
   "source": [
    "public class Solution {\n",
    "    private char[][] board;\n",
    "    private int m, n;\n",
    "    private String word;\n",
    "    private int[][] moves = {{0,1},{0,-1},{1,0},{-1,0}};\n",
    "    public boolean find(char[][] board, String word) {\n",
    "        this.m = board.length;\n",
    "        if (this.m == 0) return false;\n",
    "        this.n = board[0].length;\n",
    "        this.word = word;\n",
    "        this.board = board;\n",
    "        for (int j = 0; j < m; ++j) {\n",
    "            for (int i = 0; i < n; ++i) {\n",
    "                if (dfs(j, i, 0, new HashSet<>())) return true;\n",
    "            }\n",
    "        }\n",
    "        return false;\n",
    "    }\n",
    "    private boolean dfs(int y, int x, int start, Set<Integer> visited) {\n",
    "        int id = y * n + x;        \n",
    "        if (visited.contains(id)) return false;\n",
    "        char c = word.charAt(start);\n",
    "        if (c != board[y][x]) return false;        \n",
    "        if (start == word.length() - 1) return true;\n",
    "        visited.add(id);\n",
    "        for (int[] move : moves) {\n",
    "            int j = y + move[0];\n",
    "            int i = x + move[1];\n",
    "            if (j < 0 || j >= m || i < 0 || i >= n) continue;\n",
    "            if (dfs(j, i, start + 1, visited)) return true;\n",
    "        }\n",
    "        visited.remove(id);\n",
    "        return false;\n",
    "    }\n",
    "}"
   ]
  },
  {
   "cell_type": "code",
   "execution_count": 64,
   "metadata": {},
   "outputs": [],
   "source": [
    "char[][] board = {\n",
    "    {'A','B','C','E'},\n",
    "    {'S','F','C','S'},\n",
    "    {'A','D','E','E'}    \n",
    "};"
   ]
  },
  {
   "cell_type": "code",
   "execution_count": 65,
   "metadata": {},
   "outputs": [
    {
     "data": {
      "text/plain": [
       "true"
      ]
     },
     "execution_count": 65,
     "metadata": {},
     "output_type": "execute_result"
    }
   ],
   "source": [
    "new Solution().find(board, \"SEE\");"
   ]
  },
  {
   "cell_type": "code",
   "execution_count": 66,
   "metadata": {},
   "outputs": [
    {
     "data": {
      "text/plain": [
       "true"
      ]
     },
     "execution_count": 66,
     "metadata": {},
     "output_type": "execute_result"
    }
   ],
   "source": [
    "new Solution().find(board, \"ABCCED\");"
   ]
  },
  {
   "cell_type": "code",
   "execution_count": 67,
   "metadata": {},
   "outputs": [
    {
     "data": {
      "text/plain": [
       "false"
      ]
     },
     "execution_count": 67,
     "metadata": {},
     "output_type": "execute_result"
    }
   ],
   "source": [
    "new Solution().find(board, \"ABCB\");"
   ]
  },
  {
   "cell_type": "code",
   "execution_count": null,
   "metadata": {},
   "outputs": [],
   "source": []
  },
  {
   "cell_type": "code",
   "execution_count": null,
   "metadata": {},
   "outputs": [],
   "source": []
  }
 ],
 "metadata": {
  "kernelspec": {
   "display_name": "Java",
   "language": "java",
   "name": "java"
  },
  "language_info": {
   "codemirror_mode": "java",
   "file_extension": ".jshell",
   "mimetype": "text/x-java-source",
   "name": "Java",
   "pygments_lexer": "java",
   "version": "11.0.3+7"
  }
 },
 "nbformat": 4,
 "nbformat_minor": 2
}
