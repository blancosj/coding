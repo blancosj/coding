{
 "cells": [
  {
   "cell_type": "markdown",
   "metadata": {},
   "source": [
    "Given a directed, acyclic graph of N nodes.  Find all possible paths from node 0 to node N-1, and return them in any order.\n",
    "\n",
    "The graph is given as follows:  the nodes are 0, 1, ..., graph.length - 1.  graph[i] is a list of all nodes j for which the edge (i, j) exists.\n",
    "\n",
    "__Example:__\n",
    "```\n",
    "Input: [[1,2], [3], [3], []] \n",
    "Output: [[0,1,3],[0,2,3]] \n",
    "Explanation: The graph looks like this:\n",
    "0--->1\n",
    "|    |\n",
    "v    v\n",
    "2--->3\n",
    "There are two paths: 0 -> 1 -> 3 and 0 -> 2 -> 3.\n",
    "```\n",
    "__Note:__\n",
    "\n",
    "* The number of nodes in the graph will be in the range [2, 15].\n",
    "* You can print different paths in any order, but you should keep the order of nodes inside one path."
   ]
  },
  {
   "cell_type": "code",
   "execution_count": 3,
   "metadata": {},
   "outputs": [],
   "source": [
    "public class Solution {\n",
    "    private Map<Integer, List<Integer>> graph = new HashMap<>();\n",
    "    private List<List<Integer>> answer = new ArrayList<>();\n",
    "    public List<List<Integer>> solve(int[][] edges) {\n",
    "        int n = edges.length;\n",
    "        for (int source = 0; source < n; ++source) {\n",
    "            for (int neighbor : edges[source]) {\n",
    "                graph.computeIfAbsent(source, x -> new ArrayList<>())\n",
    "                    .add(neighbor);\n",
    "            }\n",
    "        }\n",
    "        LinkedList<Integer> path = new LinkedList<>();\n",
    "        path.add(0);\n",
    "        dfs(0, path);\n",
    "        return answer;\n",
    "    }\n",
    "    private void dfs(int node, LinkedList<Integer> path) {\n",
    "        if (!graph.containsKey(node)) {\n",
    "            answer.add(new ArrayList<>(path));\n",
    "            return;\n",
    "        }\n",
    "        for (int neighbor : graph.get(node)) {\n",
    "            path.add(neighbor);\n",
    "            dfs(neighbor, path);\n",
    "            path.removeLast();\n",
    "        }\n",
    "    }\n",
    "}"
   ]
  },
  {
   "cell_type": "code",
   "execution_count": 4,
   "metadata": {},
   "outputs": [
    {
     "data": {
      "text/plain": [
       "[[0, 1, 3], [0, 2, 3]]"
      ]
     },
     "execution_count": 4,
     "metadata": {},
     "output_type": "execute_result"
    }
   ],
   "source": [
    "new Solution().solve(new int[][] {{1,2}, {3}, {3}, {}});"
   ]
  },
  {
   "cell_type": "code",
   "execution_count": null,
   "metadata": {},
   "outputs": [],
   "source": []
  }
 ],
 "metadata": {
  "kernelspec": {
   "display_name": "Java",
   "language": "java",
   "name": "java"
  },
  "language_info": {
   "codemirror_mode": "java",
   "file_extension": ".jshell",
   "mimetype": "text/x-java-source",
   "name": "Java",
   "pygments_lexer": "java",
   "version": "11.0.3+7"
  }
 },
 "nbformat": 4,
 "nbformat_minor": 2
}
