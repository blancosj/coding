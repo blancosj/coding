{
 "cells": [
  {
   "cell_type": "markdown",
   "metadata": {},
   "source": [
    "There are 2N people a company is planning to interview. The cost of flying the i-th person to city A is costs[i][0], and the cost of flying the i-th person to city B is costs[i][1].\n",
    "\n",
    "Return the minimum cost to fly every person to a city such that exactly N people arrive in each city.\n",
    "\n",
    "Example 1:\n",
    "```\n",
    "Input: [[10,20],[30,200],[400,50],[30,20]]\n",
    "Output: 110\n",
    "```\n",
    "Explanation: \n",
    "```\n",
    "The first person goes to city A for a cost of 10.\n",
    "The second person goes to city A for a cost of 30.\n",
    "The third person goes to city B for a cost of 50.\n",
    "The fourth person goes to city B for a cost of 20.\n",
    "\n",
    "The total minimum cost is 10 + 30 + 50 + 20 = 110 to have half the people interviewing in each city.\n",
    "``` \n",
    "Note:\n",
    "\n",
    "* 1 <= costs.length <= 100\n",
    "* It is guaranteed that costs.length is even.\n",
    "* 1 <= costs[i][0], costs[i][1] <= 1000"
   ]
  },
  {
   "cell_type": "code",
   "execution_count": 4,
   "metadata": {},
   "outputs": [],
   "source": [
    "public class Solution {\n",
    "    public int twoCitySchedCost(int[][] costs) {\n",
    "        Arrays.sort(costs, (x, y) -> x[0] - y[0] - (x[1] - y[1]));\n",
    "        int answer = 0;\n",
    "        int n = costs.length;\n",
    "        for (int i = 0; i < n / 2; ++i) answer += costs[i][0];\n",
    "        for (int i = n / 2; i < n; ++i) answer += costs[i][1];\n",
    "        return answer;\n",
    "    }\n",
    "}"
   ]
  },
  {
   "cell_type": "code",
   "execution_count": 5,
   "metadata": {},
   "outputs": [
    {
     "data": {
      "text/plain": [
       "110"
      ]
     },
     "execution_count": 5,
     "metadata": {},
     "output_type": "execute_result"
    }
   ],
   "source": [
    "int[][] costs1 = {{10,20},{30,200},{400,50},{30,20}};\n",
    "new Solution().minCost(costs1);"
   ]
  },
  {
   "cell_type": "code",
   "execution_count": 15,
   "metadata": {},
   "outputs": [],
   "source": [
    "public class Solution {\n",
    "    public int twoCitySchedCost(int[][] costs) {\n",
    "        return dfs(costs, costs.length, 0, 0, 0);\n",
    "    }\n",
    "    private int dfs(int[][] costs, int n, int i, int totalCityA, int totalCityB) {\n",
    "        if (i == n) return 0;\n",
    "        if (totalCityA == n / 2) return costs[i][1] + dfs(costs, n, i + 1, totalCityA, totalCityB + 1);\n",
    "        if (totalCityB == n / 2) return costs[i][0] + dfs(costs, n, i + 1, totalCityA + 1, totalCityB);\n",
    "        return Math.min(\n",
    "            costs[i][0] + dfs(costs, n, i + 1, totalCityA + 1, totalCityB), \n",
    "            costs[i][1] + dfs(costs, n, i + 1, totalCityA, totalCityB + 1)\n",
    "        );\n",
    "    }\n",
    "}"
   ]
  },
  {
   "cell_type": "code",
   "execution_count": 16,
   "metadata": {},
   "outputs": [
    {
     "data": {
      "text/plain": [
       "110"
      ]
     },
     "execution_count": 16,
     "metadata": {},
     "output_type": "execute_result"
    }
   ],
   "source": [
    "int[][] costs1 = {{10,20},{30,200},{400,50},{30,20}};\n",
    "new Solution().minCost(costs1);"
   ]
  },
  {
   "cell_type": "code",
   "execution_count": 33,
   "metadata": {},
   "outputs": [],
   "source": [
    "public class Solution {\n",
    "    public int twoCitySchedCost(int[][] costs) {\n",
    "        int n = costs.length;\n",
    "        int[][] dp = new int[n][n];\n",
    "        for (int i = 0; i < n; ++i) Arrays.fill(dp[i], -1);\n",
    "        return dfs(costs, n, 0, 0, 0, dp);\n",
    "    }\n",
    "    private int dfs(\n",
    "        int[][] costs, int n, int i, int totalCityA, int totalCityB, \n",
    "        int[][] dp\n",
    "    ) {\n",
    "        if (i == n) return 0;\n",
    "        if (dp[i][totalCityA] != -1) return dp[i][totalCityA];\n",
    "        if (totalCityA == n / 2) {\n",
    "            return dp[i][totalCityA] = costs[i][1] + dfs(costs, n, i + 1, totalCityA, totalCityB + 1, dp);\n",
    "        }\n",
    "        if (totalCityB == n / 2) {\n",
    "            return dp[i][totalCityA] = costs[i][0] + dfs(costs, n, i + 1, totalCityA + 1, totalCityB, dp);\n",
    "        }\n",
    "        return dp[i][totalCityA] = Math.min(\n",
    "            costs[i][0] + dfs(costs, n, i + 1, totalCityA + 1, totalCityB, dp), \n",
    "            costs[i][1] + dfs(costs, n, i + 1, totalCityA, totalCityB + 1, dp)\n",
    "        );\n",
    "    }\n",
    "}"
   ]
  },
  {
   "cell_type": "code",
   "execution_count": 34,
   "metadata": {},
   "outputs": [
    {
     "data": {
      "text/plain": [
       "110"
      ]
     },
     "execution_count": 34,
     "metadata": {},
     "output_type": "execute_result"
    }
   ],
   "source": [
    "int[][] costs1 = {{10,20},{30,200},{400,50},{30,20}};\n",
    "new Solution().minCost(costs1);"
   ]
  },
  {
   "cell_type": "code",
   "execution_count": null,
   "metadata": {},
   "outputs": [],
   "source": []
  }
 ],
 "metadata": {
  "kernelspec": {
   "display_name": "Java",
   "language": "java",
   "name": "java"
  },
  "language_info": {
   "codemirror_mode": "java",
   "file_extension": ".jshell",
   "mimetype": "text/x-java-source",
   "name": "Java",
   "pygments_lexer": "java",
   "version": "11.0.3+7"
  }
 },
 "nbformat": 4,
 "nbformat_minor": 2
}
