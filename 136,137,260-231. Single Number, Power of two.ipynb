{
 "cells": [
  {
   "cell_type": "code",
   "execution_count": 2,
   "metadata": {},
   "outputs": [],
   "source": [
    "// 136. Given a non-empty array of integers, every element appears twice except for one. Find that single one.\n",
    "public class Solution {\n",
    "    public int solve(int[] nums) {\n",
    "        int bitmask = 0;\n",
    "        for (int num : nums) bitmask ^= num;\n",
    "        return bitmask;\n",
    "    }\n",
    "}"
   ]
  },
  {
   "cell_type": "code",
   "execution_count": 3,
   "metadata": {},
   "outputs": [
    {
     "data": {
      "text/plain": [
       "1"
      ]
     },
     "execution_count": 3,
     "metadata": {},
     "output_type": "execute_result"
    }
   ],
   "source": [
    "new Solution().solve(new int[] { 2,2,1 });"
   ]
  },
  {
   "cell_type": "code",
   "execution_count": 16,
   "metadata": {},
   "outputs": [],
   "source": [
    "// 231. Given an integer, write a function to determine if it is a power of two.\n",
    "public class Solution {\n",
    "    public boolean solve(int num) {\n",
    "        return (num & -num) == num;\n",
    "    }\n",
    "    public boolean solve2(int num) {\n",
    "        while (num % 2 == 0) num /= 2;\n",
    "        return num == 1;\n",
    "    }\n",
    "}"
   ]
  },
  {
   "cell_type": "code",
   "execution_count": 17,
   "metadata": {},
   "outputs": [
    {
     "name": "stdout",
     "output_type": "stream",
     "text": [
      "true\n",
      "true\n",
      "false\n",
      "false\n"
     ]
    }
   ],
   "source": [
    "System.out.println(new Solution().solve(2));\n",
    "System.out.println(new Solution().solve2(2));\n",
    "System.out.println(new Solution().solve(7));\n",
    "System.out.println(new Solution().solve2(7));"
   ]
  },
  {
   "cell_type": "code",
   "execution_count": 25,
   "metadata": {},
   "outputs": [],
   "source": [
    "// 137. Given a non-empty array of integers, every element appears three times \n",
    "// except for one, which appears exactly once. Find that single one.\n",
    "public class Solution {\n",
    "    public int solve(int[] nums) {\n",
    "        int seenOnce = 0, seenTwice = 0;\n",
    "        for (int num : nums) {\n",
    "            seenOnce = ~seenTwice & (seenOnce ^ num);\n",
    "            seenTwice = ~seenOnce & (seenTwice ^ num);\n",
    "        }\n",
    "        return seenOnce;\n",
    "    }\n",
    "    public int solve2(int[] nums) {\n",
    "        Map<Integer, Integer> counter = new HashMap<>();\n",
    "        for (int num : nums) counter.put(num, counter.getOrDefault(num, 0) + 1);\n",
    "        List<Map.Entry<Integer, Integer>> list = new ArrayList<>(counter.entrySet()); \n",
    "        Collections.sort(list, (x, y) -> x.getValue() - y.getValue());\n",
    "        if (list.size() > 0) return list.get(0).getKey();\n",
    "        return 0;\n",
    "    }\n",
    "}"
   ]
  },
  {
   "cell_type": "code",
   "execution_count": 26,
   "metadata": {},
   "outputs": [
    {
     "name": "stdout",
     "output_type": "stream",
     "text": [
      "3\n",
      "3\n",
      "99\n",
      "99\n"
     ]
    }
   ],
   "source": [
    "System.out.println(new Solution().solve(new int[] {2,2,3,2}));\n",
    "System.out.println(new Solution().solve2(new int[] {2,2,3,2}));\n",
    "System.out.println(new Solution().solve(new int[] {0,1,0,1,0,1,99}));\n",
    "System.out.println(new Solution().solve2(new int[] {0,1,0,1,0,1,99}));"
   ]
  },
  {
   "cell_type": "code",
   "execution_count": 41,
   "metadata": {},
   "outputs": [],
   "source": [
    "// 260. Given an array of numbers nums, in which exactly two elements appear only once \n",
    "// and all the other elements appear exactly twice. Find the two elements that appear only once.\n",
    "public class Solution {\n",
    "    public int[] solve(int[] nums) {\n",
    "        int bitmask = 0;\n",
    "        for (int num : nums) bitmask ^= num;\n",
    "        int diff = bitmask & -bitmask;\n",
    "        int x = 0;\n",
    "        for (int num : nums) if ((num & diff) != 0) x ^= num; \n",
    "        return new int[]{x, x ^ bitmask};\n",
    "    }\n",
    "    public int[] solve2(int[] nums) {\n",
    "        Map<Integer, Integer> counter = new HashMap<>();\n",
    "        for (int num : nums) counter.put(num, counter.getOrDefault(num, 0) + 1);\n",
    "        List<Map.Entry<Integer, Integer>> list = new ArrayList<>(counter.entrySet());\n",
    "        Collections.sort(list, (x, y) -> x.getValue() - y.getValue());\n",
    "        int[] answer = new int[2];\n",
    "        int i = 0;\n",
    "        for (Map.Entry<Integer, Integer> entry : list) {\n",
    "            if (entry.getKey() == 1) break;\n",
    "            answer[i++] = entry.getKey();\n",
    "        }\n",
    "        return answer;\n",
    "    }\n",
    "}"
   ]
  },
  {
   "cell_type": "code",
   "execution_count": 42,
   "metadata": {},
   "outputs": [
    {
     "name": "stdout",
     "output_type": "stream",
     "text": [
      "[3, 5]\n",
      "[3, 5]\n"
     ]
    }
   ],
   "source": [
    "System.out.println(Arrays.toString(new Solution().solve(new int[] {1,2,1,3,2,5})));\n",
    "System.out.println(Arrays.toString(new Solution().solve2(new int[] {1,2,1,3,2,5})));"
   ]
  },
  {
   "cell_type": "code",
   "execution_count": null,
   "metadata": {},
   "outputs": [],
   "source": []
  }
 ],
 "metadata": {
  "kernelspec": {
   "display_name": "Java",
   "language": "java",
   "name": "java"
  },
  "language_info": {
   "codemirror_mode": "java",
   "file_extension": ".jshell",
   "mimetype": "text/x-java-source",
   "name": "Java",
   "pygments_lexer": "java",
   "version": "11.0.3+7"
  }
 },
 "nbformat": 4,
 "nbformat_minor": 2
}
