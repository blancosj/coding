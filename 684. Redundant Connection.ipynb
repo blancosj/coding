{
 "cells": [
  {
   "cell_type": "markdown",
   "metadata": {},
   "source": [
    "In this problem, a tree is an undirected graph that is connected and has no cycles.\n",
    "\n",
    "The given input is a graph that started as a tree with N nodes (with distinct values 1, 2, ..., N), with one additional edge added. The added edge has two different vertices chosen from 1 to N, and was not an edge that already existed.\n",
    "\n",
    "The resulting graph is given as a 2D-array of edges. Each element of edges is a pair [u, v] with u < v, that represents an undirected edge connecting nodes u and v.\n",
    "\n",
    "Return an edge that can be removed so that the resulting graph is a tree of N nodes. If there are multiple answers, return the answer that occurs last in the given 2D-array. The answer edge [u, v] should be in the same format, with u < v.\n",
    "\n",
    "Example 1:\n",
    "```\n",
    "Input: [[1,2], [1,3], [2,3]]\n",
    "Output: [2,3]\n",
    "Explanation: The given undirected graph will be like this:\n",
    "  1\n",
    " / \\\n",
    "2 - 3\n",
    "```\n",
    "Example 2:\n",
    "```\n",
    "Input: [[1,2], [2,3], [3,4], [1,4], [1,5]]\n",
    "Output: [1,4]\n",
    "Explanation: The given undirected graph will be like this:\n",
    "5 - 1 - 2\n",
    "    |   |\n",
    "    4 - 3\n",
    "```\n",
    "__Note__:\n",
    "The size of the input 2D-array will be between 3 and 1000.\n",
    "Every integer represented in the 2D-array will be between 1 and N, where N is the size of the input array.\n",
    "\n",
    "Update (2017-09-26):\n",
    "We have overhauled the problem description + test cases and specified clearly the graph is an undirected graph. For the directed graph follow up please see [Redundant Connection II](https://leetcode.com/problems/redundant-connection-ii/description/). We apologize for any inconvenience caused."
   ]
  },
  {
   "cell_type": "markdown",
   "metadata": {},
   "source": [
    "Time Complexity $\\approx O(N)$"
   ]
  },
  {
   "cell_type": "code",
   "execution_count": 8,
   "metadata": {},
   "outputs": [],
   "source": [
    "// union-find ranked\n",
    "public class Solution {\n",
    "    public int[] findRedundantConnection(int[][] edges) {\n",
    "        DSU dsu = new DSU();\n",
    "        for (int[] edge : edges) {\n",
    "            if (!dsu.union(edge[0], edge[1])) {\n",
    "                return edge;\n",
    "            }\n",
    "        }\n",
    "        return new int[0];\n",
    "    }\n",
    "    private class DSU {\n",
    "        int size = 1001;\n",
    "        int[] parent = new int[size];\n",
    "        int[] rank = new int[size];\n",
    "        public DSU() {\n",
    "            for (int i = 0; i < size; ++i) parent[i] = i;\n",
    "        }\n",
    "        public int find(int x) {\n",
    "            if (parent[x] == x) return x;\n",
    "            return find(parent[x]);\n",
    "        }\n",
    "        public boolean union(int x, int y) {\n",
    "            int rx = find(x), ry = find(y);\n",
    "            if (rx == ry) return false;\n",
    "            if (rank[rx] > rank[ry]) {\n",
    "                parent[ry] = rx;\n",
    "            } else if (rank[rx] < rank[ry]) {\n",
    "                parent[rx] = ry;\n",
    "            } else {\n",
    "                parent[rx] = ry;\n",
    "                rank[ry]++;\n",
    "            }\n",
    "            return true;\n",
    "        }\n",
    "    }\n",
    "}"
   ]
  },
  {
   "cell_type": "code",
   "execution_count": 9,
   "metadata": {},
   "outputs": [
    {
     "data": {
      "text/plain": [
       "[1, 4]"
      ]
     },
     "execution_count": 9,
     "metadata": {},
     "output_type": "execute_result"
    }
   ],
   "source": [
    "int[][] edges1 = {{1,2}, {2,3}, {3,4}, {1,4}, {1,5}};\n",
    "Arrays.toString(new Solution().findRedundantConnection(edges1));"
   ]
  },
  {
   "cell_type": "markdown",
   "metadata": {},
   "source": [
    "Time Complexity $O(N^2)$"
   ]
  },
  {
   "cell_type": "code",
   "execution_count": 3,
   "metadata": {},
   "outputs": [],
   "source": [
    "// dfs solution\n",
    "public class Solution2 {\n",
    "    public int[] findRedundantConnection(int[][] edges) {\n",
    "        Map<Integer, List<Integer>> graph = new HashMap<>();\n",
    "        Set<Integer> seen = new HashSet<>();\n",
    "        for (int[] edge : edges) {\n",
    "            seen.add(edge[1]);\n",
    "            if (!dfs(graph, edge[1], seen)) return edge;\n",
    "            graph.computeIfAbsent(edge[0], x -> new ArrayList<>());\n",
    "            graph.computeIfAbsent(edge[1], x -> new ArrayList<>());\n",
    "            graph.get(edge[0]).add(edge[1]);\n",
    "            graph.get(edge[1]).add(edge[0]);\n",
    "            seen.clear();\n",
    "        }\n",
    "        return new int[0];\n",
    "    }\n",
    "    private boolean dfs(Map<Integer, List<Integer>> graph, int i, Set<Integer> seen) {\n",
    "        if (!graph.containsKey(i)) return true;\n",
    "        if (seen.contains(i)) return false;\n",
    "        seen.add(i);\n",
    "        for (Integer neighbor : graph.get(i)) {\n",
    "            if (!dfs(graph, neighbor, seen)) return false;\n",
    "        }\n",
    "        return true;\n",
    "    }\n",
    "}"
   ]
  },
  {
   "cell_type": "code",
   "execution_count": 4,
   "metadata": {},
   "outputs": [
    {
     "data": {
      "text/plain": [
       "[1, 4]"
      ]
     },
     "execution_count": 4,
     "metadata": {},
     "output_type": "execute_result"
    }
   ],
   "source": [
    "int[][] edges1 = {{1,2}, {2,3}, {3,4}, {1,4}, {1,5}};\n",
    "Arrays.toString(new Solution2().findRedundantConnection(edges1));"
   ]
  },
  {
   "cell_type": "code",
   "execution_count": 5,
   "metadata": {},
   "outputs": [
    {
     "data": {
      "text/plain": [
       "[2, 3]"
      ]
     },
     "execution_count": 5,
     "metadata": {},
     "output_type": "execute_result"
    }
   ],
   "source": [
    "int[][] edges1 = {{1,2}, {1,3}, {2,3}};\n",
    "Arrays.toString(new Solution2().findRedundantConnection(edges1));"
   ]
  },
  {
   "cell_type": "code",
   "execution_count": null,
   "metadata": {},
   "outputs": [],
   "source": []
  }
 ],
 "metadata": {
  "kernelspec": {
   "display_name": "Java",
   "language": "java",
   "name": "java"
  },
  "language_info": {
   "codemirror_mode": "java",
   "file_extension": ".jshell",
   "mimetype": "text/x-java-source",
   "name": "Java",
   "pygments_lexer": "java",
   "version": "11.0.3+7"
  }
 },
 "nbformat": 4,
 "nbformat_minor": 2
}
