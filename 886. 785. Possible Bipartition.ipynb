{
 "cells": [
  {
   "cell_type": "markdown",
   "metadata": {},
   "source": [
    "Given a set of N people (numbered 1, 2, ..., N), we would like to split everyone into two groups of any size.\n",
    "\n",
    "Each person may dislike some other people, and they should not go into the same group. \n",
    "\n",
    "Formally, if dislikes[i] = [a, b], it means it is not allowed to put the people numbered a and b into the same group.\n",
    "\n",
    "Return true if and only if it is possible to split everyone into two groups in this way.\n",
    "\n",
    "Example 1:\n",
    "```\n",
    "Input: N = 4, dislikes = [[1,2],[1,3],[2,4]]\n",
    "Output: true\n",
    "Explanation: group1 [1,4], group2 [2,3]\n",
    "```\n",
    "Example 2:\n",
    "```\n",
    "Input: N = 3, dislikes = [[1,2],[1,3],[2,3]]\n",
    "Output: false\n",
    "```\n",
    "Example 3:\n",
    "```\n",
    "Input: N = 5, dislikes = [[1,2],[2,3],[3,4],[4,5],[1,5]]\n",
    "Output: false\n",
    "```\n",
    "__Note__:\n",
    "```\n",
    "1. 1 <= N <= 2000\n",
    "2. 0 <= dislikes.length <= 10000\n",
    "3. 1 <= dislikes[i][j] <= N\n",
    "4. dislikes[i][0] < dislikes[i][1]\n",
    "5. There does not exist i != j for which dislikes[i] == dislikes[j].\n",
    "```"
   ]
  },
  {
   "cell_type": "code",
   "execution_count": null,
   "metadata": {},
   "outputs": [],
   "source": [
    "public class Solution {\n",
    "    public boolean posibleBipartition(int N, int[][] dislikes) {\n",
    "        Node[] nodes = new Node[N + 1];\n",
    "        for (int i = 1; i <= N; ++i) nodes[i] = new Node();\n",
    "        for (int[] dislike : dislikes) {\n",
    "            nodes[dislike[0]].neighbors.add(nodes[dislike[1]]);\n",
    "            nodes[dislike[1]].neighbors.add(nodes[dislike[0]]);\n",
    "        }\n",
    "        for (int i = 1; i <= N; ++i) {\n",
    "            Node node = nodes[i];\n",
    "            if (node.group == -1 && !dfs(0, node)) {\n",
    "                return false;\n",
    "            }\n",
    "        }\n",
    "        return true;\n",
    "    }\n",
    "    private boolean dfs(int group, Node node) {\n",
    "        if (node.group != -1) return node.group == group;\n",
    "        node.group = group;\n",
    "        for (Node neighbor : node.neighbors) {\n",
    "            if (!dfs(group ^ 1, neighbor)) {\n",
    "                return false;\n",
    "            }\n",
    "        }\n",
    "        return true;\n",
    "    }\n",
    "    private static class Node {\n",
    "        private int group = -1;\n",
    "        private List<Node> neighbors = new ArrayList<>();\n",
    "    }\n",
    "}"
   ]
  },
  {
   "cell_type": "code",
   "execution_count": null,
   "metadata": {},
   "outputs": [],
   "source": [
    "int[][] dislikes = {{1,2},{1,3},{2,4}};\n",
    "new Solution().posibleBipartition(4, dislikes);"
   ]
  },
  {
   "cell_type": "code",
   "execution_count": null,
   "metadata": {},
   "outputs": [],
   "source": [
    "int[][] dislikes = {{1,2},{1,3},{2,3}};\n",
    "new Solution().posibleBipartition(3, dislikes);"
   ]
  },
  {
   "cell_type": "code",
   "execution_count": null,
   "metadata": {},
   "outputs": [],
   "source": [
    "int[][] dislikes = {{1,2},{2,3},{3,4},{4,5},{1,5}};\n",
    "new Solution().posibleBipartition(5, dislikes);"
   ]
  },
  {
   "cell_type": "code",
   "execution_count": null,
   "metadata": {},
   "outputs": [],
   "source": [
    "public class Solution {\n",
    "    public boolean posibleBipartition(int N, int[][] dislikes) {\n",
    "        Node[] nodes = new Node[N + 1];\n",
    "        for (int i = 1; i <= N; ++i) nodes[i] = new Node();\n",
    "        for (int[] dislike : dislikes) {\n",
    "            nodes[dislike[0]].neighbors.add(nodes[dislike[1]]);\n",
    "            nodes[dislike[1]].neighbors.add(nodes[dislike[0]]);\n",
    "        }\n",
    "        for (int[] dislike : dislikes) {\n",
    "            Node node = nodes[dislike[0]];\n",
    "            if (node.group == -1) {\n",
    "                Queue<Node> queue = new LinkedList<>(); \n",
    "                node.group = 0;                \n",
    "                queue.add(node);\n",
    "                while (!queue.isEmpty()) {\n",
    "                    Node cur = queue.remove();\n",
    "                    for (Node neighbor : cur.neighbors) {\n",
    "                        if (neighbor.group == -1) {\n",
    "                            neighbor.group = cur.group ^ 1;\n",
    "                            queue.add(neighbor);\n",
    "                        } else if (neighbor.group == cur.group) {\n",
    "                            return false;\n",
    "                        }\n",
    "                    }\n",
    "                }\n",
    "            }\n",
    "        }\n",
    "        return true;\n",
    "    }\n",
    "    private static class Node {\n",
    "        int group = -1;\n",
    "        List<Node> neighbors = new ArrayList<>();\n",
    "    }\n",
    "}"
   ]
  },
  {
   "cell_type": "code",
   "execution_count": null,
   "metadata": {},
   "outputs": [],
   "source": [
    "int[][] dislikes = {{1,2},{1,3},{2,4}};\n",
    "new Solution().posibleBipartition(4, dislikes);"
   ]
  },
  {
   "cell_type": "code",
   "execution_count": null,
   "metadata": {},
   "outputs": [],
   "source": [
    "int[][] dislikes = {{1,2},{1,3},{2,3}};\n",
    "new Solution().posibleBipartition(3, dislikes);"
   ]
  },
  {
   "cell_type": "code",
   "execution_count": null,
   "metadata": {},
   "outputs": [],
   "source": [
    "int[][] dislikes = {{1,2},{2,3},{3,4},{4,5},{1,5}};\n",
    "new Solution().posibleBipartition(5, dislikes);"
   ]
  },
  {
   "cell_type": "markdown",
   "metadata": {},
   "source": [
    "Given an undirected graph, return true if and only if it is bipartite.\n",
    "\n",
    "Recall that a graph is bipartite if we can split it's set of nodes into two independent subsets A and B such that every edge in the graph has one node in A and another node in B.\n",
    "\n",
    "The graph is given in the following form: graph[i] is a list of indexes j for which the edge between nodes i and j exists.  Each node is an integer between 0 and graph.length - 1.  There are no self edges or parallel edges: graph[i] does not contain i, and it doesn't contain any element twice.\n",
    "\n",
    "__Example 1:__\n",
    "```\n",
    "Input: [[1,3], [0,2], [1,3], [0,2]]\n",
    "Output: true\n",
    "Explanation: \n",
    "The graph looks like this:\n",
    "0----1\n",
    "|    |\n",
    "|    |\n",
    "3----2\n",
    "We can divide the vertices into two groups: {0, 2} and {1, 3}.\n",
    "```\n",
    "__Example 2:__\n",
    "```\n",
    "Input: [[1,2,3], [0,2], [0,1,3], [0,2]]\n",
    "Output: false\n",
    "Explanation: \n",
    "The graph looks like this:\n",
    "0----1\n",
    "| \\  |\n",
    "|  \\ |\n",
    "3----2\n",
    "We cannot find a way to divide the set of nodes into two independent subsets.\n",
    "```\n",
    "__Note:__\n",
    "\n",
    "* graph will have length in range [1, 100].\n",
    "* graph[i] will contain integers in range [0, graph.length - 1].\n",
    "* graph[i] will not contain i or duplicate values.\n",
    "* The graph is undirected: if any element j is in graph[i], then i will be in graph[j]."
   ]
  },
  {
   "cell_type": "code",
   "execution_count": null,
   "metadata": {},
   "outputs": [],
   "source": [
    "public class Solution {\n",
    "    private Map<Integer, List<Integer>> graphMap;\n",
    "    private int[] groups;\n",
    "    public boolean solve(int[][] graph) {\n",
    "        graphMap = new HashMap<>();\n",
    "        int n = graph.length;\n",
    "        for (int node = 0; node < n; ++node) {\n",
    "            graphMap.computeIfAbsent(node, x -> new ArrayList<>());\n",
    "            for (int neighbor : graph[node]) {\n",
    "                graphMap.get(node).add(neighbor);\n",
    "                graphMap.computeIfAbsent(neighbor, x -> new ArrayList<>())\n",
    "                    .add(node);\n",
    "            }            \n",
    "        }\n",
    "        groups = new int[n];\n",
    "        Arrays.fill(groups, -1);\n",
    "        for (int node = 0; node < n; ++node) {\n",
    "            if (groups[node] == -1 && !dfs(node, 0)) return false;\n",
    "        }\n",
    "        return true;\n",
    "    }\n",
    "    private boolean dfs(int node, int groupParent) {\n",
    "        if (groups[node] != -1) return groups[node] != groupParent;\n",
    "        groups[node] = groupParent ^ 1;\n",
    "        for (int neighbor : graphMap.get(node)) {\n",
    "            if (!dfs(neighbor, groups[node])) return false;\n",
    "        }\n",
    "        return true;\n",
    "    }\n",
    "}"
   ]
  },
  {
   "cell_type": "code",
   "execution_count": null,
   "metadata": {},
   "outputs": [],
   "source": [
    "new Solution().solve(new int[][] {{1,3}, {0,2}, {1,3}, {0,2}}); // true"
   ]
  },
  {
   "cell_type": "code",
   "execution_count": null,
   "metadata": {},
   "outputs": [],
   "source": [
    "new Solution().solve(new int[][] {{1,2,3},{0,2},{0,1,3},{0,2}}); // false"
   ]
  },
  {
   "cell_type": "code",
   "execution_count": null,
   "metadata": {},
   "outputs": [],
   "source": [
    "new Solution().solve(new int[][] {{4},{},{4},{4},{0,2,3}}); // true"
   ]
  },
  {
   "cell_type": "code",
   "execution_count": null,
   "metadata": {},
   "outputs": [],
   "source": [
    "new Solution().solve(new int[][] {{1},{0,3},{3},{1,2}}); // true"
   ]
  },
  {
   "cell_type": "code",
   "execution_count": 12,
   "metadata": {},
   "outputs": [],
   "source": [
    "public class SolutionBfs {\n",
    "    private Map<Integer, List<Integer>> graphMap;\n",
    "    public boolean solve(int[][] graph) {\n",
    "        graphMap = new HashMap<>();\n",
    "        int n = graph.length;\n",
    "        for (int node = 0; node < n; ++node) {\n",
    "            graphMap.put(node, new ArrayList<>());\n",
    "            for (int neighbor : graph[node]) {\n",
    "                graphMap.get(node).add(neighbor);\n",
    "                graphMap.computeIfAbsent(neighbor, x -> new ArrayList<>())\n",
    "                    .add(node);\n",
    "            }\n",
    "        }\n",
    "        int[] groups = new int[n];\n",
    "        Arrays.fill(groups, -1);\n",
    "        for (int node = 0; node < n; ++node) {\n",
    "            if (groups[node] != -1) continue;\n",
    "            ArrayDeque<Integer> queue = new ArrayDeque<>();\n",
    "            groups[node] = 0;\n",
    "            queue.offer(node);\n",
    "            while (!queue.isEmpty()) {\n",
    "                int cur = queue.poll();\n",
    "                for (int neighbor : graphMap.get(cur)) {\n",
    "                    if (groups[neighbor] != -1) {\n",
    "                        if (groups[neighbor] == groups[cur]) return false;\n",
    "                        continue;\n",
    "                    }\n",
    "                    groups[neighbor] = groups[cur] ^ 1;\n",
    "                    queue.offer(neighbor);\n",
    "                }\n",
    "            }\n",
    "        }\n",
    "        return true;\n",
    "    }\n",
    "}"
   ]
  },
  {
   "cell_type": "code",
   "execution_count": 13,
   "metadata": {},
   "outputs": [
    {
     "data": {
      "text/plain": [
       "false"
      ]
     },
     "execution_count": 13,
     "metadata": {},
     "output_type": "execute_result"
    }
   ],
   "source": [
    "new SolutionBfs().solve(new int[][] {{1,2,3},{0,2},{0,1,3},{0,2}}); // false"
   ]
  },
  {
   "cell_type": "code",
   "execution_count": 14,
   "metadata": {},
   "outputs": [
    {
     "data": {
      "text/plain": [
       "true"
      ]
     },
     "execution_count": 14,
     "metadata": {},
     "output_type": "execute_result"
    }
   ],
   "source": [
    "new SolutionBfs().solve(new int[][] {{1,3}, {0,2}, {1,3}, {0,2}}); // true"
   ]
  },
  {
   "cell_type": "code",
   "execution_count": 15,
   "metadata": {},
   "outputs": [
    {
     "data": {
      "text/plain": [
       "true"
      ]
     },
     "execution_count": 15,
     "metadata": {},
     "output_type": "execute_result"
    }
   ],
   "source": [
    "new SolutionBfs().solve(new int[][] {{4},{},{4},{4},{0,2,3}}); // true"
   ]
  },
  {
   "cell_type": "code",
   "execution_count": 16,
   "metadata": {},
   "outputs": [
    {
     "data": {
      "text/plain": [
       "true"
      ]
     },
     "execution_count": 16,
     "metadata": {},
     "output_type": "execute_result"
    }
   ],
   "source": [
    "new SolutionBfs().solve(new int[][] {{1},{0,3},{3},{1,2}}); // true"
   ]
  },
  {
   "cell_type": "code",
   "execution_count": null,
   "metadata": {},
   "outputs": [],
   "source": []
  }
 ],
 "metadata": {
  "kernelspec": {
   "display_name": "Java",
   "language": "java",
   "name": "java"
  },
  "language_info": {
   "codemirror_mode": "java",
   "file_extension": ".jshell",
   "mimetype": "text/x-java-source",
   "name": "Java",
   "pygments_lexer": "java",
   "version": "11.0.3+7"
  }
 },
 "nbformat": 4,
 "nbformat_minor": 2
}
