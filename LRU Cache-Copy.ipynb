{
 "cells": [
  {
   "cell_type": "markdown",
   "metadata": {},
   "source": [
    "# LRU Cache Implementation\n",
    "<a href=\"https://leetcode.com/problems/lru-cache/\">LeetCode Link</a>\n",
    "* LRU Cache has a limit capacity\n",
    "* If capacity is reached the Least Recently Used item\n",
    "* An item is used if it is requested or updated"
   ]
  },
  {
   "cell_type": "code",
   "execution_count": 9,
   "metadata": {},
   "outputs": [],
   "source": [
    "class ListNode {\n",
    "    int key, val;\n",
    "    ListNode prev, next;\n",
    "    public ListNode() { }\n",
    "    public ListNode(int key, int val) {\n",
    "        this.key = key;\n",
    "        this.val = val;\n",
    "    }\n",
    "}"
   ]
  },
  {
   "cell_type": "code",
   "execution_count": 22,
   "metadata": {},
   "outputs": [],
   "source": [
    "class DoubleLinkedList {\n",
    "    int size = 0;\n",
    "    ListNode head, tail;\n",
    "    public DoubleLinkedList() {\n",
    "        head = new ListNode();\n",
    "        tail = new ListNode();\n",
    "        head.next = tail;\n",
    "        tail.prev = head;\n",
    "    }\n",
    "    public ListNode poll() {\n",
    "        if (size == 0) return null;\n",
    "        ListNode firstNode = head.next;\n",
    "        head.next = firstNode.next;\n",
    "        firstNode.next.prev = head;\n",
    "        size--;\n",
    "        return firstNode;\n",
    "    }\n",
    "    public void remove(ListNode node) {\n",
    "        if (size == 0) return;\n",
    "        node.next.prev = node.prev;\n",
    "        node.prev.next = node.next;\n",
    "        size--;\n",
    "    }\n",
    "    public void push(ListNode node) {\n",
    "        node.prev = tail.prev;\n",
    "        node.next = tail;\n",
    "        tail.prev.next = node;\n",
    "        tail.prev = node;\n",
    "        size++;\n",
    "    }\n",
    "}"
   ]
  },
  {
   "cell_type": "code",
   "execution_count": 30,
   "metadata": {},
   "outputs": [],
   "source": [
    "class LRUCache {\n",
    "    int capacity = 0;\n",
    "    DoubleLinkedList linkedList;\n",
    "    Map<Integer, ListNode> cache;\n",
    "    public LRUCache(int capacity) {\n",
    "        this.capacity = capacity;\n",
    "        linkedList = new DoubleLinkedList();\n",
    "        cache = new HashMap<>();\n",
    "    }\n",
    "    public int get(int key) {\n",
    "        if (cache.containsKey(key)) {\n",
    "            ListNode node = cache.get(key);\n",
    "            linkedList.remove(node);\n",
    "            linkedList.push(node);\n",
    "            return node.val;\n",
    "        }\n",
    "        return -1;\n",
    "    }\n",
    "    public void put(int key, int val) {\n",
    "        if (linkedList.size == capacity && !cache.containsKey(key)) {\n",
    "            ListNode node = linkedList.poll();\n",
    "            cache.remove(node.key);\n",
    "        } \n",
    "        if (cache.containsKey(key)) linkedList.remove(cache.get(key));\n",
    "        ListNode node = new ListNode(key, val);\n",
    "        cache.put(key, node);\n",
    "        linkedList.push(node);\n",
    "    }\n",
    "}"
   ]
  },
  {
   "cell_type": "code",
   "execution_count": 37,
   "metadata": {},
   "outputs": [],
   "source": [
    "LRUCache cache = new LRUCache(2);"
   ]
  },
  {
   "cell_type": "code",
   "execution_count": 38,
   "metadata": {},
   "outputs": [],
   "source": [
    "cache.put(2, 3);"
   ]
  },
  {
   "cell_type": "code",
   "execution_count": 39,
   "metadata": {},
   "outputs": [
    {
     "data": {
      "text/plain": [
       "3"
      ]
     },
     "execution_count": 39,
     "metadata": {},
     "output_type": "execute_result"
    }
   ],
   "source": [
    "cache.get(2);"
   ]
  },
  {
   "cell_type": "code",
   "execution_count": 40,
   "metadata": {},
   "outputs": [],
   "source": [
    "cache.put(1, 2);\n",
    "cache.get(2);\n",
    "cache.put(3, 1);"
   ]
  },
  {
   "cell_type": "code",
   "execution_count": 41,
   "metadata": {},
   "outputs": [
    {
     "data": {
      "text/plain": [
       "3"
      ]
     },
     "execution_count": 41,
     "metadata": {},
     "output_type": "execute_result"
    }
   ],
   "source": [
    "cache.get(2);"
   ]
  },
  {
   "cell_type": "code",
   "execution_count": 42,
   "metadata": {},
   "outputs": [
    {
     "data": {
      "text/plain": [
       "-1"
      ]
     },
     "execution_count": 42,
     "metadata": {},
     "output_type": "execute_result"
    }
   ],
   "source": [
    "cache.get(1);"
   ]
  },
  {
   "cell_type": "code",
   "execution_count": null,
   "metadata": {},
   "outputs": [],
   "source": []
  }
 ],
 "metadata": {
  "kernelspec": {
   "display_name": "Java",
   "language": "java",
   "name": "java"
  },
  "language_info": {
   "codemirror_mode": "java",
   "file_extension": ".jshell",
   "mimetype": "text/x-java-source",
   "name": "Java",
   "pygments_lexer": "java",
   "version": "11.0.3+7"
  }
 },
 "nbformat": 4,
 "nbformat_minor": 2
}
