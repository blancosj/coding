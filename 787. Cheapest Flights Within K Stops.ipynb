{
 "cells": [
  {
   "cell_type": "markdown",
   "metadata": {},
   "source": [
    "There are n cities connected by m flights. Each flight starts from city u and arrives at v with a price w.\n",
    "\n",
    "Now given all the cities and flights, together with starting city src and the destination dst, your task is to find the cheapest price from src to dst with up to k stops. If there is no such route, output -1.\n",
    "\n",
    "__Example 1:__\n",
    "```\n",
    "Input: \n",
    "n = 3, edges = [[0,1,100],[1,2,100],[0,2,500]]\n",
    "src = 0, dst = 2, k = 1\n",
    "Output: 200\n",
    "```\n",
    "Explanation: \n",
    "The graph looks like this:\n",
    "\n",
    "The cheapest price from city 0 to city 2 with at most 1 stop costs 200, as marked red in the picture.\n",
    "\n",
    "__Example 2:__\n",
    "```\n",
    "Input: \n",
    "n = 3, edges = [[0,1,100],[1,2,100],[0,2,500]]\n",
    "src = 0, dst = 2, k = 0\n",
    "Output: 500\n",
    "Explanation: \n",
    "The graph looks like this:\n",
    "```\n",
    "The cheapest price from city 0 to city 2 with at most 0 stop costs 500, as marked blue in the picture. \n",
    "\n",
    "Constraints:\n",
    "\n",
    "* The number of nodes n will be in range [1, 100], with nodes labeled from 0 to n - 1.\n",
    "* The size of flights will be in range [0, n * (n - 1) / 2].\n",
    "* The format of each flight will be (src, dst, price).\n",
    "* The price of each flight will be in the range [1, 10000].\n",
    "k is in the range of [0, n - 1].\n",
    "* There will not be any duplicated flights or self cycles."
   ]
  },
  {
   "cell_type": "markdown",
   "metadata": {},
   "source": [
    "__Dijkstra Solution__ \n",
    "\n",
    "Time Complexity $\\mathcal O(V\\log V)$\n",
    "\n",
    "Time Space $\\mathcal O(V)$\n",
    "\n",
    "* __E__, total of flights\n",
    "* __V__, total of cities"
   ]
  },
  {
   "cell_type": "code",
   "execution_count": 50,
   "metadata": {},
   "outputs": [],
   "source": [
    "public class Solution {\n",
    "    public int findCheapestPrice(int n, int[][] flights, int src, int dst, int K) {\n",
    "        Map<Integer, List<Flight>> graph = new HashMap<>();\n",
    "        for (int i = 0; i < flights.length; ++i) {\n",
    "            int[] item = flights[i];\n",
    "            Flight flight = new Flight(item[0], item[1], item[2]);\n",
    "            graph.computeIfAbsent(item[0], x -> new ArrayList<>())\n",
    "                .add(flight);\n",
    "        }\n",
    "        PriorityQueue<Node> minHeap = \n",
    "            new PriorityQueue<>((x, y) -> x.cost - y.cost);\n",
    "        minHeap.offer(new Node(src, 0, 0));\n",
    "        Set<Node> seen = new HashSet<>();\n",
    "        while (!minHeap.isEmpty()) {\n",
    "            Node cur = minHeap.poll();\n",
    "            if (cur.city == dst) return cur.cost;\n",
    "            if (cur.stops == K + 1) continue;\n",
    "            if (seen.contains(cur)) continue;\n",
    "            seen.add(cur);\n",
    "            if (!graph.containsKey(cur.city)) continue;\n",
    "            for (Flight flight : graph.get(cur.city)) {\n",
    "                minHeap.offer(\n",
    "                    new Node(\n",
    "                        flight.dst, \n",
    "                        cur.cost + flight.cost, \n",
    "                        cur.stops + 1));\n",
    "            }\n",
    "        }\n",
    "        return -1;\n",
    "    }\n",
    "    private class Flight {\n",
    "        int src, dst, cost;\n",
    "        public Flight(int src, int dst, int cost) {\n",
    "            this.src = src;\n",
    "            this.dst = dst;\n",
    "            this.cost = cost;\n",
    "        }        \n",
    "    }\n",
    "    private class Node {\n",
    "        int city, cost, stops;\n",
    "        public Node(int city, int cost, int stops) {\n",
    "            this.city = city;\n",
    "            this.cost = cost;\n",
    "            this.stops = stops;\n",
    "        }\n",
    "    }\n",
    "}"
   ]
  },
  {
   "cell_type": "code",
   "execution_count": 51,
   "metadata": {},
   "outputs": [
    {
     "data": {
      "text/plain": [
       "-1"
      ]
     },
     "execution_count": 51,
     "metadata": {},
     "output_type": "execute_result"
    }
   ],
   "source": [
    "int[][] flights = {{4,1,1},{1,2,3},{0,3,2},{0,4,10},{3,1,1},{1,4,3}};\n",
    "new Solution().findCheapestPrice(5, flights, 2, 1, 1);"
   ]
  },
  {
   "cell_type": "code",
   "execution_count": 52,
   "metadata": {},
   "outputs": [
    {
     "data": {
      "text/plain": [
       "500"
      ]
     },
     "execution_count": 52,
     "metadata": {},
     "output_type": "execute_result"
    }
   ],
   "source": [
    "int[][] flights = {{0,1,100},{1,2,100},{0,2,500}};\n",
    "new Solution().findCheapestPrice(3, flights, 0, 2, 0);"
   ]
  },
  {
   "cell_type": "code",
   "execution_count": 53,
   "metadata": {},
   "outputs": [
    {
     "data": {
      "text/plain": [
       "7"
      ]
     },
     "execution_count": 53,
     "metadata": {},
     "output_type": "execute_result"
    }
   ],
   "source": [
    "int[][] flights = {{0,1,5},{1,2,5},{0,3,2},{3,1,2},{1,4,1},{4,2,1}};\n",
    "new Solution().findCheapestPrice(5, flights, 0, 2, 2);"
   ]
  },
  {
   "cell_type": "markdown",
   "metadata": {},
   "source": [
    "__DFS with Memoization Solution__ \n",
    "\n",
    "Time Complexity $\\mathcal O((V+E)\\log V)$\n",
    "\n",
    "Time Space $\\mathcal O(V)$\n",
    "\n",
    "* __E__, total of flights\n",
    "* __V__, total of cities"
   ]
  },
  {
   "cell_type": "code",
   "execution_count": 54,
   "metadata": {},
   "outputs": [],
   "source": [
    "// without memoization\n",
    "public class Solution {\n",
    "    public int findCheapestPrice(int n, int[][] flights, int src, int dst, int K) {\n",
    "        Map<Integer, List<Node>> graph = new HashMap<>();\n",
    "        for (int[] flight : flights) {\n",
    "            graph.computeIfAbsent(flight[0], x -> new ArrayList<>())\n",
    "                .add(new Node(flight[0], flight[1], flight[2]));\n",
    "        }\n",
    "        return dfs(graph, src, dst, K);\n",
    "    }\n",
    "    private int dfs(Map<Integer, List<Node>> graph, int src, int dst, int k) {\n",
    "        if (k < 0) return -1;\n",
    "        if (!graph.containsKey(src)) return -1;\n",
    "        int answer = Integer.MAX_VALUE;\n",
    "        for (Node node : graph.get(src)) {\n",
    "            if (node.dst == dst) {\n",
    "                answer = Math.min(answer, node.cost);\n",
    "                continue;\n",
    "            }\n",
    "            int t = dfs(graph, node.dst, dst, k - 1);\n",
    "            if (t != -1) {\n",
    "                answer = Math.min(answer, t + node.cost);\n",
    "            }\n",
    "        }\n",
    "        if (answer == Integer.MAX_VALUE) return -1;\n",
    "        return answer;\n",
    "    }\n",
    "    private class Node {\n",
    "        int src, dst, cost;\n",
    "        public Node(int src, int dst, int cost) {\n",
    "            this.src = src;\n",
    "            this.dst = dst;\n",
    "            this.cost = cost;\n",
    "        }\n",
    "    }\n",
    "}"
   ]
  },
  {
   "cell_type": "code",
   "execution_count": 55,
   "metadata": {},
   "outputs": [
    {
     "data": {
      "text/plain": [
       "-1"
      ]
     },
     "execution_count": 55,
     "metadata": {},
     "output_type": "execute_result"
    }
   ],
   "source": [
    "int[][] flights = {{4,1,1},{1,2,3},{0,3,2},{0,4,10},{3,1,1},{1,4,3}};\n",
    "new Solution().findCheapestPrice(5, flights, 2, 1, 1);"
   ]
  },
  {
   "cell_type": "code",
   "execution_count": 56,
   "metadata": {},
   "outputs": [
    {
     "data": {
      "text/plain": [
       "500"
      ]
     },
     "execution_count": 56,
     "metadata": {},
     "output_type": "execute_result"
    }
   ],
   "source": [
    "int[][] flights = {{0,1,100},{1,2,100},{0,2,500}};\n",
    "new Solution().findCheapestPrice(3, flights, 0, 2, 0);"
   ]
  },
  {
   "cell_type": "code",
   "execution_count": 57,
   "metadata": {},
   "outputs": [
    {
     "data": {
      "text/plain": [
       "200"
      ]
     },
     "execution_count": 57,
     "metadata": {},
     "output_type": "execute_result"
    }
   ],
   "source": [
    "int[][] flights = {{0,1,100},{1,2,100},{0,2,500}};\n",
    "new Solution().findCheapestPrice(3, flights, 0, 2, 1);"
   ]
  },
  {
   "cell_type": "code",
   "execution_count": 58,
   "metadata": {},
   "outputs": [
    {
     "data": {
      "text/plain": [
       "7"
      ]
     },
     "execution_count": 58,
     "metadata": {},
     "output_type": "execute_result"
    }
   ],
   "source": [
    "int[][] flights = {{0,1,5},{1,2,5},{0,3,2},{3,1,2},{1,4,1},{4,2,1}};\n",
    "new Solution().findCheapestPrice(5, flights, 0, 2, 2);"
   ]
  },
  {
   "cell_type": "code",
   "execution_count": 127,
   "metadata": {},
   "outputs": [],
   "source": [
    "// with memoization\n",
    "public class Solution {\n",
    "    public int findCheapestPrice(int n, int[][] flights, int src, int dst, int K) {\n",
    "        Map<CacheKey, Integer> cache = new HashMap<>();\n",
    "        Map<Integer, List<Node>> graph = new HashMap<>();\n",
    "        for (int[] flight : flights) {\n",
    "            graph.computeIfAbsent(flight[0], x -> new ArrayList<>())\n",
    "                .add(new Node(flight[0], flight[1], flight[2]));\n",
    "        }\n",
    "        return dfs(graph, src, dst, K, cache);\n",
    "    }\n",
    "    private int dfs(\n",
    "        Map<Integer, List<Node>> graph, int src, int dst, int K, \n",
    "        Map<CacheKey, Integer> cache\n",
    "    ) {\n",
    "        if (K < 0) return -1;\n",
    "        if (!graph.containsKey(src)) return -1;\n",
    "        CacheKey cacheKey = new CacheKey(src, dst, K);\n",
    "        if (cache.containsKey(cacheKey)) return cache.get(cacheKey);\n",
    "        int answer = Integer.MAX_VALUE;\n",
    "        for (Node node : graph.get(src)) {\n",
    "            if (node.dst == dst) {\n",
    "                answer = Math.min(answer, node.cost);\n",
    "                continue;\n",
    "            }\n",
    "            int t = dfs(graph, node.dst, dst, K - 1, cache);\n",
    "            if (t != -1) {\n",
    "                answer = Math.min(answer, t + node.cost);\n",
    "            }\n",
    "        }\n",
    "        if (answer == Integer.MAX_VALUE) return -1;\n",
    "        cache.put(cacheKey, answer);\n",
    "        return answer;\n",
    "    }\n",
    "    private class Node {\n",
    "        int src, dst, cost;\n",
    "        public Node(int src, int dst, int cost) {\n",
    "            this.src = src;\n",
    "            this.dst = dst;\n",
    "            this.cost = cost;\n",
    "        }\n",
    "    }\n",
    "    private class CacheKey {\n",
    "        int src, dst, k;\n",
    "        CacheKey(int src, int dst, int k) {\n",
    "            this.src = src;\n",
    "            this.dst = dst;\n",
    "            this.k = k;\n",
    "        }\n",
    "        @Override\n",
    "        public int hashCode() {\n",
    "            int hash = 17;\n",
    "            hash = hash * 31 + src;\n",
    "            hash = hash * 31 + dst;\n",
    "            hash = hash * 31 + k;\n",
    "            return hash;\n",
    "        }\n",
    "        public boolean equals(Object that) {\n",
    "            if (that == null) return false;\n",
    "            if (!(that instanceof CacheKey)) return false;\n",
    "            if (this == that) return true;\n",
    "            return hashCode() == that.hashCode();\n",
    "        }\n",
    "    }\n",
    "}"
   ]
  },
  {
   "cell_type": "code",
   "execution_count": 128,
   "metadata": {},
   "outputs": [
    {
     "data": {
      "text/plain": [
       "-1"
      ]
     },
     "execution_count": 128,
     "metadata": {},
     "output_type": "execute_result"
    }
   ],
   "source": [
    "int[][] flights = {{4,1,1},{1,2,3},{0,3,2},{0,4,10},{3,1,1},{1,4,3}};\n",
    "new Solution().findCheapestPrice(5, flights, 2, 1, 1);"
   ]
  },
  {
   "cell_type": "code",
   "execution_count": 129,
   "metadata": {},
   "outputs": [
    {
     "data": {
      "text/plain": [
       "500"
      ]
     },
     "execution_count": 129,
     "metadata": {},
     "output_type": "execute_result"
    }
   ],
   "source": [
    "int[][] flights = {{0,1,100},{1,2,100},{0,2,500}};\n",
    "new Solution().findCheapestPrice(3, flights, 0, 2, 0);"
   ]
  },
  {
   "cell_type": "code",
   "execution_count": 130,
   "metadata": {},
   "outputs": [
    {
     "data": {
      "text/plain": [
       "200"
      ]
     },
     "execution_count": 130,
     "metadata": {},
     "output_type": "execute_result"
    }
   ],
   "source": [
    "int[][] flights = {{0,1,100},{1,2,100},{0,2,500}};\n",
    "new Solution().findCheapestPrice(3, flights, 0, 2, 1);"
   ]
  },
  {
   "cell_type": "code",
   "execution_count": 131,
   "metadata": {},
   "outputs": [
    {
     "data": {
      "text/plain": [
       "7"
      ]
     },
     "execution_count": 131,
     "metadata": {},
     "output_type": "execute_result"
    }
   ],
   "source": [
    "int[][] flights = {{0,1,5},{1,2,5},{0,3,2},{3,1,2},{1,4,1},{4,2,1}};\n",
    "new Solution().findCheapestPrice(5, flights, 0, 2, 2);"
   ]
  },
  {
   "cell_type": "code",
   "execution_count": 223,
   "metadata": {},
   "outputs": [],
   "source": [
    "// https://leetcode.com/problems/cheapest-flights-within-k-stops/solution/\n",
    "public class Solution {\n",
    "    public int findCheapestPrice(int n, int[][] flights, int src, int dst, int K) {\n",
    "        long[][] dist = new long[2][n];\n",
    "        \n",
    "        Arrays.fill(dist[0], Integer.MAX_VALUE);\n",
    "        Arrays.fill(dist[1], Integer.MAX_VALUE);\n",
    "        \n",
    "        dist[0][src] = 0;\n",
    "        dist[1][src] = 0;\n",
    "        int[] stops = new int[n];\n",
    "        for (int j = 0; j <= K; ++j) {\n",
    "            for (int i = 0; i < flights.length; ++i) {\n",
    "                int u = flights[i][0];\n",
    "                int v = flights[i][1];\n",
    "                int cost = flights[i][2];\n",
    "                long du = dist[1 - j&1][u];\n",
    "                long dv = dist[j&1][v];\n",
    "                if (du + cost < dv) {\n",
    "                    dist[j&1][v] = du + cost;\n",
    "                }\n",
    "            }\n",
    "        }   \n",
    "        if (dist[K&1][dst] != Integer.MAX_VALUE) return (int) dist[K&1][dst];\n",
    "        return -1;\n",
    "    }\n",
    "}"
   ]
  },
  {
   "cell_type": "code",
   "execution_count": 224,
   "metadata": {},
   "outputs": [
    {
     "data": {
      "text/plain": [
       "7"
      ]
     },
     "execution_count": 224,
     "metadata": {},
     "output_type": "execute_result"
    }
   ],
   "source": [
    "int[][] flights = {{0,1,5},{1,2,5},{0,3,2},{3,1,2},{1,4,1},{4,2,1}};\n",
    "new Solution().findCheapestPrice(5, flights, 0, 2, 2);"
   ]
  },
  {
   "cell_type": "code",
   "execution_count": 225,
   "metadata": {},
   "outputs": [
    {
     "data": {
      "text/plain": [
       "200"
      ]
     },
     "execution_count": 225,
     "metadata": {},
     "output_type": "execute_result"
    }
   ],
   "source": [
    "int[][] flights = {{0,1,100},{1,2,100},{0,2,500}};\n",
    "new Solution().findCheapestPrice(3, flights, 0, 2, 1);"
   ]
  },
  {
   "cell_type": "code",
   "execution_count": 226,
   "metadata": {},
   "outputs": [
    {
     "data": {
      "text/plain": [
       "500"
      ]
     },
     "execution_count": 226,
     "metadata": {},
     "output_type": "execute_result"
    }
   ],
   "source": [
    "int[][] flights = {{0,1,100},{1,2,100},{0,2,500}};\n",
    "new Solution().findCheapestPrice(3, flights, 0, 2, 0);"
   ]
  },
  {
   "cell_type": "code",
   "execution_count": null,
   "metadata": {},
   "outputs": [],
   "source": []
  }
 ],
 "metadata": {
  "kernelspec": {
   "display_name": "Java",
   "language": "java",
   "name": "java"
  },
  "language_info": {
   "codemirror_mode": "java",
   "file_extension": ".jshell",
   "mimetype": "text/x-java-source",
   "name": "Java",
   "pygments_lexer": "java",
   "version": "11.0.3+7"
  }
 },
 "nbformat": 4,
 "nbformat_minor": 2
}
