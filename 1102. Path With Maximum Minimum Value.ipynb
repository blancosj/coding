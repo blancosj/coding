{
 "cells": [
  {
   "cell_type": "markdown",
   "metadata": {},
   "source": [
    "Given a matrix of integers A with R rows and C columns, find the maximum score of a path starting at [0,0] and ending at [R-1,C-1].\n",
    "\n",
    "The score of a path is the minimum value in that path.  For example, the value of the path 8 →  4 →  5 →  9 is 4.\n",
    "\n",
    "A path moves some number of times from one visited cell to any neighbouring unvisited cell in one of the 4 cardinal directions (north, east, west, south).\n",
    "\n",
    " \n",
    "\n",
    "Example 1:\n",
    "\n",
    "\n",
    "\n",
    "Input: [[5,4,5],[1,2,6],[7,4,6]]\n",
    "Output: 4\n",
    "Explanation: \n",
    "The path with the maximum score is highlighted in yellow. \n",
    "Example 2:\n",
    "\n",
    "\n",
    "\n",
    "Input: [[2,2,1,2,2,2],[1,2,2,2,1,2]]\n",
    "Output: 2\n",
    "Example 3:\n",
    "\n",
    "\n",
    "\n",
    "Input: [[3,4,6,3,4],[0,2,1,1,7],[8,8,3,2,7],[3,2,4,9,8],[4,1,2,0,0],[4,6,5,4,3]]\n",
    "Output: 3\n",
    " \n",
    "\n",
    "Note:\n",
    "\n",
    "1 <= R, C <= 100\n",
    "0 <= A[i][j] <= 10^9"
   ]
  }
 ],
 "metadata": {
  "kernelspec": {
   "display_name": "Java",
   "language": "java",
   "name": "java"
  },
  "language_info": {
   "codemirror_mode": "java",
   "file_extension": ".jshell",
   "mimetype": "text/x-java-source",
   "name": "Java",
   "pygments_lexer": "java",
   "version": "11.0.3+7"
  }
 },
 "nbformat": 4,
 "nbformat_minor": 2
}
