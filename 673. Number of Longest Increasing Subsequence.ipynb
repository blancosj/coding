{
 "cells": [
  {
   "cell_type": "markdown",
   "metadata": {},
   "source": [
    "## <a href='https://leetcode.com/problems/number-of-longest-increasing-subsequence/'>673. Number of Longest Increasing Subsequence</a>\n",
    "https://leetcode.com/articles/a-recursive-approach-to-segment-trees-range-sum-queries-lazy-propagation/\n",
    "https://cp-algorithms.com/sequences/longest_increasing_subsequence.html#toc-tgt-9\n",
    "\n",
    "Given an integer array nums, return the number of longest increasing subsequences.\n",
    "\n",
    "__Example 1:__\n",
    "```\n",
    "Input: nums = [1,3,5,4,7]\n",
    "Output: 2\n",
    "Explanation: The two longest increasing subsequences are [1, 3, 4, 7] and [1, 3, 5, 7].\n",
    "```\n",
    "__Example 2:__\n",
    "```\n",
    "Input: nums = [2,2,2,2,2]\n",
    "Output: 5\n",
    "Explanation: The length of longest continuous increasing subsequence is 1, and there are 5 subsequences' length is 1, so output 5.\n",
    "```\n",
    "__Constraints:__\n",
    "\n",
    "* 1 <= nums.length <= 2000\n",
    "* -106 <= nums[i] <= 106"
   ]
  },
  {
   "cell_type": "code",
   "execution_count": 6,
   "metadata": {},
   "outputs": [],
   "source": [
    "public class SolutionRec {\n",
    "    private int answer = 0, nums[], max = 0, n = 0;\n",
    "    private Map<Integer, Integer> map = new HashMap<>();\n",
    "    public int solve(int[] nums) {\n",
    "        this.nums = nums;\n",
    "        n = nums.length;\n",
    "        helper(0, -1, 1);\n",
    "        return answer;\n",
    "    }\n",
    "    private void helper(int start, int prev, int length) {\n",
    "        if (start >= n) {\n",
    "            if (length > max) {\n",
    "                max = length;\n",
    "                answer = 0;\n",
    "            }\n",
    "            if (length == max) answer++;\n",
    "            return;\n",
    "        }\n",
    "        if (prev == -1 || nums[prev] < nums[start]) helper(start + 1, start, length + 1);\n",
    "        helper(start + 1, prev, length);\n",
    "    }\n",
    "}"
   ]
  },
  {
   "cell_type": "code",
   "execution_count": 7,
   "metadata": {},
   "outputs": [
    {
     "data": {
      "text/plain": [
       "5"
      ]
     },
     "execution_count": 7,
     "metadata": {},
     "output_type": "execute_result"
    }
   ],
   "source": [
    "new SolutionRec().solve(new int[] {2,2,2,2,2});"
   ]
  },
  {
   "cell_type": "code",
   "execution_count": 8,
   "metadata": {},
   "outputs": [
    {
     "data": {
      "text/plain": [
       "2"
      ]
     },
     "execution_count": 8,
     "metadata": {},
     "output_type": "execute_result"
    }
   ],
   "source": [
    "new SolutionRec().solve(new int[] {1,3,2,4,5});"
   ]
  },
  {
   "cell_type": "code",
   "execution_count": 17,
   "metadata": {},
   "outputs": [],
   "source": [
    "public class SolutionDp {\n",
    "    public int solve(int[] nums) {\n",
    "        int n = nums.length;\n",
    "        int[] lengths = new int[n];\n",
    "        int[] counts = new int[n];\n",
    "        Arrays.fill(lengths, 1);\n",
    "        Arrays.fill(counts, 1);\n",
    "        //     *\n",
    "        // 1 3 2 4 5\n",
    "        // ^   \n",
    "        // 1 1 1 1 1\n",
    "        for (int j = 0; j < n; ++j) {\n",
    "            for (int i = 0; i < j; ++i) {\n",
    "                if (nums[i] >= nums[j]) continue;\n",
    "                if (lengths[i] >= lengths[j]) {\n",
    "                    lengths[j] = lengths[i] + 1;\n",
    "                    counts[j] = counts[i];\n",
    "                } else if (lengths[i] + 1 == lengths[j]) {\n",
    "                    counts[j] += counts[i];\n",
    "                }\n",
    "            }\n",
    "        }\n",
    "        int longest = 0, answer = 0;\n",
    "        for (int length : lengths) longest = Math.max(length, longest);\n",
    "        for (int i = 0; i < n; ++i) {\n",
    "            if (lengths[i] == longest) answer += counts[i];\n",
    "        }\n",
    "        return answer;\n",
    "    }\n",
    "}"
   ]
  },
  {
   "cell_type": "code",
   "execution_count": 18,
   "metadata": {},
   "outputs": [
    {
     "data": {
      "text/plain": [
       "5"
      ]
     },
     "execution_count": 18,
     "metadata": {},
     "output_type": "execute_result"
    }
   ],
   "source": [
    "new SolutionDp().solve(new int[] {2,2,2,2,2});"
   ]
  },
  {
   "cell_type": "code",
   "execution_count": 19,
   "metadata": {},
   "outputs": [
    {
     "data": {
      "text/plain": [
       "2"
      ]
     },
     "execution_count": 19,
     "metadata": {},
     "output_type": "execute_result"
    }
   ],
   "source": [
    "new SolutionDp().solve(new int[] {1,3,2,4,5});"
   ]
  },
  {
   "cell_type": "code",
   "execution_count": 20,
   "metadata": {},
   "outputs": [
    {
     "data": {
      "text/plain": [
       "2"
      ]
     },
     "execution_count": 20,
     "metadata": {},
     "output_type": "execute_result"
    }
   ],
   "source": [
    "new SolutionDp().solve(new int[] {1,3,5,4,7});"
   ]
  },
  {
   "cell_type": "code",
   "execution_count": 27,
   "metadata": {},
   "outputs": [],
   "source": [
    "public class SolutionSegTree {\n",
    "    public int solve(int[] nums) {\n",
    "        int n = nums.length;\n",
    "        int min = nums[0], max = nums[0];\n",
    "        for (int num : nums) {\n",
    "            min = Math.min(num, min);\n",
    "            max = Math.max(num, max);\n",
    "        }\n",
    "        Node root = new Node(min, max);\n",
    "        for (int num : nums) {\n",
    "            Value val = query(root, num - 1);\n",
    "            insert(root, num, new Value(val.len + 1, val.count));\n",
    "        }\n",
    "        return root.val.count;\n",
    "    }\n",
    "    private Value query(Node node, int key) {\n",
    "        if (node.rangeRight <= key) return node.val;\n",
    "        else if (node.rangeLeft > key) return new Value(0, 1);\n",
    "        else return merge(query(node.getLeft(), key), query(node.getRight(), key));\n",
    "    }\n",
    "    private void insert(Node node, int key, Value val) {\n",
    "        if (node.rangeLeft == node.rangeRight) {\n",
    "            node.val = merge(val, node.val);\n",
    "        } else {\n",
    "            if (key <= node.getMid()) {\n",
    "                insert(node.getLeft(), key, val);\n",
    "            } else {\n",
    "                insert(node.getRight(), key, val);\n",
    "            }\n",
    "            node.val = merge(node.getLeft().val, node.getRight().val);\n",
    "        }\n",
    "    }\n",
    "    private Value merge(Value v1, Value v2) {\n",
    "        if (v1.len == v2.len) {\n",
    "            if (v1.len == 0) return new Value(0, 1);\n",
    "            return new Value(v1.len, v1.count + v2.count);\n",
    "        }\n",
    "        return v1.len > v2.len ? v1 : v2;\n",
    "    }\n",
    "    private class Node {\n",
    "        public int rangeLeft, rangeRight;\n",
    "        public Node left, right;\n",
    "        public Value val = new Value(0, 1);\n",
    "        public Node (int rangeLeft, int rangeRight) {\n",
    "            this.rangeLeft = rangeLeft;\n",
    "            this.rangeRight = rangeRight;\n",
    "        }\n",
    "        public int getMid() {\n",
    "            return rangeLeft + (rangeRight - rangeLeft) / 2;\n",
    "        }\n",
    "        public Node getLeft() {\n",
    "            if (left == null) left = new Node(rangeLeft, getMid());\n",
    "            return left;\n",
    "        }\n",
    "        public Node getRight() {\n",
    "            if (right == null) right = new Node(getMid() + 1, rangeRight);\n",
    "            return right;\n",
    "        }\n",
    "        public void printLeaves() {\n",
    "            LinkedList<Node> queue = new LinkedList<>();\n",
    "            queue.offer(this);\n",
    "            while (!queue.isEmpty()) {\n",
    "                Node cur = queue.poll();\n",
    "                if (cur.left == null && cur.right == null) {\n",
    "                    System.out.println(cur);\n",
    "                } else {\n",
    "                    if (cur.left != null) queue.offer(cur.left);\n",
    "                    if (cur.right != null) queue.offer(cur.right);\n",
    "                }\n",
    "            }\n",
    "        }        \n",
    "    }\n",
    "    private class Value {\n",
    "        public int len, count;\n",
    "        public Value(int len, int count) {\n",
    "            this.len = len;\n",
    "            this.count = count;\n",
    "        }\n",
    "    }\n",
    "}"
   ]
  },
  {
   "cell_type": "code",
   "execution_count": 28,
   "metadata": {},
   "outputs": [
    {
     "data": {
      "text/plain": [
       "2"
      ]
     },
     "execution_count": 28,
     "metadata": {},
     "output_type": "execute_result"
    }
   ],
   "source": [
    "new SolutionSegTree().solve(new int[] {1,3,2,4,5});"
   ]
  },
  {
   "cell_type": "code",
   "execution_count": 29,
   "metadata": {},
   "outputs": [
    {
     "data": {
      "text/plain": [
       "5"
      ]
     },
     "execution_count": 29,
     "metadata": {},
     "output_type": "execute_result"
    }
   ],
   "source": [
    "new SolutionSegTree().solve(new int[] {2,2,2,2,2});"
   ]
  },
  {
   "cell_type": "code",
   "execution_count": null,
   "metadata": {},
   "outputs": [],
   "source": []
  },
  {
   "cell_type": "code",
   "execution_count": null,
   "metadata": {},
   "outputs": [],
   "source": []
  }
 ],
 "metadata": {
  "kernelspec": {
   "display_name": "Java",
   "language": "java",
   "name": "java"
  },
  "language_info": {
   "codemirror_mode": "java",
   "file_extension": ".jshell",
   "mimetype": "text/x-java-source",
   "name": "Java",
   "pygments_lexer": "java",
   "version": "11.0.3+7"
  }
 },
 "nbformat": 4,
 "nbformat_minor": 2
}
