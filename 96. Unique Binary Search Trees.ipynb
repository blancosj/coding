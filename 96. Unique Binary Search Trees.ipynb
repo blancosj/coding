{
 "cells": [
  {
   "cell_type": "markdown",
   "metadata": {},
   "source": [
    "Given n, how many structurally unique BST's (binary search trees) that store values 1 ... n?\n",
    "\n",
    "__Example:__\n",
    "```\n",
    "Input: 3\n",
    "Output: 5\n",
    "Explanation:\n",
    "Given n = 3, there are a total of 5 unique BST's:\n",
    "\n",
    "   1         3     3      2      1\n",
    "    \\       /     /      / \\      \\\n",
    "     3     2     1      1   3      2\n",
    "    /     /       \\                 \\\n",
    "   2     1         2                 3\n",
    "```"
   ]
  },
  {
   "cell_type": "markdown",
   "metadata": {},
   "source": [
    "Time Complexity $\\mathcal O(N^2)$"
   ]
  },
  {
   "cell_type": "code",
   "execution_count": 12,
   "metadata": {},
   "outputs": [],
   "source": [
    "public class Solution {\n",
    "    // catalan numbers\n",
    "    public int solve(int n) {\n",
    "        Map<Integer, Integer> cache = new HashMap<>();\n",
    "        cache.put(0, 1);\n",
    "        cache.put(1, 1);\n",
    "        return helper(n, cache);\n",
    "    }\n",
    "    \n",
    "    // if n=0 => 1\n",
    "    // if n=1 => 2\n",
    "    // if n=2 => n=0*n=1 + n=1*n=0\n",
    "    // because binary tree search in left side are lesser than root\n",
    "    // and right side are greater than root\n",
    "    // if n=3 => n=0*n=2 + n=1*n=1 + n=2*n*0\n",
    "    // https://en.wikipedia.org/wiki/Cartesian_product\n",
    "    \n",
    "    private int helper(int n, Map<Integer, Integer> cache) {\n",
    "        if (cache.containsKey(n)) return cache.get(n);\n",
    "        int answer = 0;\n",
    "        for (int i = 1; i <= n; ++i) {\n",
    "            // product cartesian\n",
    "            answer += helper(i - 1, cache) * helper(n - i, cache);\n",
    "        }\n",
    "        cache.put(n, answer);\n",
    "        return answer;\n",
    "    }\n",
    "}"
   ]
  },
  {
   "cell_type": "code",
   "execution_count": 13,
   "metadata": {},
   "outputs": [
    {
     "data": {
      "text/plain": [
       "2"
      ]
     },
     "execution_count": 13,
     "metadata": {},
     "output_type": "execute_result"
    }
   ],
   "source": [
    "new Solution().solve(2);"
   ]
  },
  {
   "cell_type": "code",
   "execution_count": 14,
   "metadata": {},
   "outputs": [
    {
     "data": {
      "text/plain": [
       "5"
      ]
     },
     "execution_count": 14,
     "metadata": {},
     "output_type": "execute_result"
    }
   ],
   "source": [
    "new Solution().solve(3);"
   ]
  },
  {
   "cell_type": "code",
   "execution_count": 15,
   "metadata": {},
   "outputs": [
    {
     "data": {
      "text/plain": [
       "42"
      ]
     },
     "execution_count": 15,
     "metadata": {},
     "output_type": "execute_result"
    }
   ],
   "source": [
    "new Solution().solve(5);"
   ]
  },
  {
   "cell_type": "code",
   "execution_count": null,
   "metadata": {},
   "outputs": [],
   "source": []
  }
 ],
 "metadata": {
  "kernelspec": {
   "display_name": "Java",
   "language": "java",
   "name": "java"
  },
  "language_info": {
   "codemirror_mode": "java",
   "file_extension": ".jshell",
   "mimetype": "text/x-java-source",
   "name": "Java",
   "pygments_lexer": "java",
   "version": "11.0.3+7"
  }
 },
 "nbformat": 4,
 "nbformat_minor": 2
}
