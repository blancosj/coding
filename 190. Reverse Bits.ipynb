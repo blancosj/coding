{
 "cells": [
  {
   "cell_type": "markdown",
   "metadata": {},
   "source": [
    "Reverse bits of a given 32 bits unsigned integer.\n",
    "\n",
    "__Example 1:__\n",
    "```\n",
    "Input: 00000010100101000001111010011100\n",
    "Output: 00111001011110000010100101000000\n",
    "Explanation: The input binary string 00000010100101000001111010011100 represents the unsigned integer 43261596, so return 964176192 which its binary representation is 00111001011110000010100101000000.\n",
    "```\n",
    "__Example 2:__\n",
    "```\n",
    "Input: 11111111111111111111111111111101\n",
    "Output: 10111111111111111111111111111111\n",
    "Explanation: The input binary string 11111111111111111111111111111101 represents the unsigned integer 4294967293, so return 3221225471 which its binary representation is 10111111111111111111111111111111.\n",
    "``` \n",
    "__Note:__\n",
    "\n",
    "Note that in some languages such as Java, there is no unsigned integer type. In this case, both input and output will be given as signed integer type and should not affect your implementation, as the internal binary representation of the integer is the same whether it is signed or unsigned.\n",
    "In Java, the compiler represents the signed integers using 2's complement notation. Therefore, in Example 2 above the input represents the signed integer -3 and the output represents the signed integer -1073741825.\n",
    "\n",
    "__Follow up:__\n",
    "\n",
    "If this function is called many times, how would you optimize it?"
   ]
  },
  {
   "cell_type": "code",
   "execution_count": 81,
   "metadata": {},
   "outputs": [],
   "source": [
    "public class Solution {\n",
    "    public int solve(int num) {\n",
    "        int ret = 0;\n",
    "        int pos = 31;\n",
    "        while (num > 0) {\n",
    "            ret |= (num & 1) << pos;\n",
    "            num >>= 1;\n",
    "            pos--;\n",
    "        }\n",
    "        return ret;\n",
    "    } \n",
    "}"
   ]
  },
  {
   "cell_type": "code",
   "execution_count": 69,
   "metadata": {},
   "outputs": [
    {
     "ename": "EvalException",
     "evalue": "For input string: \"11111111111111111111111111111101\"",
     "output_type": "error",
     "traceback": [
      "\u001b[1m\u001b[31m---------------------------------------------------------------------------\u001b[0m",
      "\u001b[1m\u001b[31mjava.lang.NumberFormatException: For input string: \"11111111111111111111111111111101\"\u001b[0m",
      "\u001b[1m\u001b[31m\tat java.base/java.lang.NumberFormatException.forInputString(NumberFormatException.java:65)\u001b[0m",
      "\u001b[1m\u001b[31m\tat java.base/java.lang.Integer.parseInt(Integer.java:652)\u001b[0m",
      "\u001b[1m\u001b[31m\tat .(#64:1)\u001b[0m"
     ]
    }
   ],
   "source": [
    "Integer.parseInt(\"11111111111111111111111111111101\", 2);"
   ]
  },
  {
   "cell_type": "code",
   "execution_count": 75,
   "metadata": {},
   "outputs": [
    {
     "data": {
      "text/plain": [
       "31"
      ]
     },
     "execution_count": 75,
     "metadata": {},
     "output_type": "execute_result"
    }
   ],
   "source": [
    "Integer.toBinaryString(Integer.MAX_VALUE).length();"
   ]
  },
  {
   "cell_type": "code",
   "execution_count": 82,
   "metadata": {},
   "outputs": [
    {
     "ename": "CompilationException",
     "evalue": "",
     "output_type": "error",
     "traceback": [
      "\u001b[1m\u001b[30m|   \u001b[1m\u001b[30m        for (int i = 0; i < 32; ++\u001b[0m\u001b[1m\u001b[30m\u001b[41m\u001b[0m\u001b[1m\u001b[30m) {\u001b[0m",
      "\u001b[1m\u001b[31millegal start of expression\u001b[0m",
      ""
     ]
    }
   ],
   "source": [
    "public class Solution {\n",
    "    public int solve(int num) {\n",
    "        int result = 0;\n",
    "        // while (n > 0)\n",
    "        for (int i = 0; i < 32; ++) {\n",
    "            result <<= 1;\n",
    "            result += num & 1;\n",
    "            num >>= 1;\n",
    "        }\n",
    "        return result;\n",
    "    }\n",
    "}"
   ]
  },
  {
   "cell_type": "code",
   "execution_count": 84,
   "metadata": {},
   "outputs": [
    {
     "data": {
      "text/plain": [
       "-1610612736"
      ]
     },
     "execution_count": 84,
     "metadata": {},
     "output_type": "execute_result"
    }
   ],
   "source": [
    "new Solution().solve(5);"
   ]
  },
  {
   "cell_type": "code",
   "execution_count": 97,
   "metadata": {},
   "outputs": [],
   "source": [
    "public class Solution {\n",
    "    public int solve(int num) {\n",
    "        int totalBits = 32;\n",
    "        for (int i = 0; i < totalBits / 2; ++i) {\n",
    "            int j = totalBits - i - 1;\n",
    "            num = swap(num, i, j);\n",
    "        }\n",
    "        return num;\n",
    "    }\n",
    "    private int swap(int num, int x, int y) {\n",
    "        int p = getBit(num, x);\n",
    "        int q = getBit(num, y);\n",
    "        if (p != q) {\n",
    "            if (p == 1) {\n",
    "                num = clearBit(num, x);\n",
    "                num = setBit(num, y);\n",
    "            } else {\n",
    "                num = clearBit(num, y);\n",
    "                num = setBit(num, x);\n",
    "            }\n",
    "        }\n",
    "        return num;\n",
    "    }\n",
    "    private int setBit(int num, int x) {\n",
    "        return num | (1 << x);\n",
    "    }\n",
    "    private int clearBit(int num, int x) {\n",
    "        return num & (~(1 << x));\n",
    "    }\n",
    "    private int getBit(int num, int x) {\n",
    "        return (num >> x) & 1;\n",
    "    }\n",
    "}"
   ]
  },
  {
   "cell_type": "code",
   "execution_count": 98,
   "metadata": {},
   "outputs": [
    {
     "data": {
      "text/plain": [
       "-1610612736"
      ]
     },
     "execution_count": 98,
     "metadata": {},
     "output_type": "execute_result"
    }
   ],
   "source": [
    "new Solution().solve(5);"
   ]
  },
  {
   "cell_type": "code",
   "execution_count": null,
   "metadata": {},
   "outputs": [],
   "source": []
  }
 ],
 "metadata": {
  "kernelspec": {
   "display_name": "Java",
   "language": "java",
   "name": "java"
  },
  "language_info": {
   "codemirror_mode": "java",
   "file_extension": ".jshell",
   "mimetype": "text/x-java-source",
   "name": "Java",
   "pygments_lexer": "java",
   "version": "11.0.3+7"
  }
 },
 "nbformat": 4,
 "nbformat_minor": 2
}
