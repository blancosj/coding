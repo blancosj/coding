{
 "cells": [
  {
   "cell_type": "markdown",
   "metadata": {},
   "source": [
    "Merge k sorted linked lists and return it as one sorted list. Analyze and describe its complexity.\n",
    "\n",
    "Example:\n",
    "```\n",
    "Input:\n",
    "[\n",
    "  1->4->5,\n",
    "  1->3->4,\n",
    "  2->6\n",
    "]\n",
    "Output: 1->1->2->3->4->4->5->6\n",
    "```"
   ]
  },
  {
   "cell_type": "markdown",
   "metadata": {},
   "source": [
    "### Time complexity $O(kN)$\n",
    "$k$ number of linked list\n",
    "<br>$N$ nodes of the linked list"
   ]
  },
  {
   "cell_type": "code",
   "execution_count": 1,
   "metadata": {},
   "outputs": [],
   "source": [
    "public class ListNode {\n",
    "    int val;\n",
    "    ListNode next;\n",
    "    ListNode(int x) { val = x; }\n",
    "    ListNode() { }\n",
    "    ListNode add(int... vals) {\n",
    "        int len = vals.length;\n",
    "        ListNode cur = this;\n",
    "        for (int i = 0; i < len; ++i) {\n",
    "            cur.next = new ListNode(vals[i]);\n",
    "            cur = cur.next;\n",
    "        }\n",
    "        return this;\n",
    "    }\n",
    "    @Override\n",
    "    public String toString() {\n",
    "        ListNode cur = this;\n",
    "        StringBuilder sb = new StringBuilder();\n",
    "        while (cur != null) {\n",
    "            sb.append(\"[\").append(cur.val).append(\"],\");\n",
    "            cur = cur.next;\n",
    "        }\n",
    "        return sb.toString();\n",
    "    }\n",
    "}"
   ]
  },
  {
   "cell_type": "code",
   "execution_count": 2,
   "metadata": {},
   "outputs": [],
   "source": [
    "public ListNode merge(ListNode a, ListNode b) {\n",
    "    ListNode result = new ListNode();    \n",
    "    ListNode cur = result;\n",
    "    while (a != null && b != null) {\n",
    "        if (a.val < b.val) {\n",
    "            cur.next = a;\n",
    "            a = a.next;\n",
    "        } else {\n",
    "            cur.next = b;\n",
    "            b = b.next;\n",
    "        }\n",
    "        cur = cur.next;\n",
    "    }\n",
    "    if (a == null && b != null) cur.next = b;\n",
    "    if (b == null && a != null) cur.next = a;\n",
    "    return result.next;\n",
    "}"
   ]
  },
  {
   "cell_type": "code",
   "execution_count": 3,
   "metadata": {},
   "outputs": [],
   "source": [
    "public ListNode mergeK(ListNode[] lists) {\n",
    "    int len = lists.length;\n",
    "    if (len == 0) return null;\n",
    "    ListNode cur = lists[0];\n",
    "    for (int i = 1; i < len; ++i) {\n",
    "        cur = merge(cur, lists[i]);\n",
    "    }\n",
    "    return cur;\n",
    "}"
   ]
  },
  {
   "cell_type": "markdown",
   "metadata": {},
   "source": [
    "### Time Complexity $O(N\\log k)$\n",
    "$k$ number of linked list\n",
    "<br>$N$ nodes of the linked list"
   ]
  },
  {
   "cell_type": "code",
   "execution_count": 7,
   "metadata": {},
   "outputs": [],
   "source": [
    "public ListNode mergeK2(ListNode[] lists) {\n",
    "    PriorityQueue<ListNode> queue = new PriorityQueue<>((x, y) -> x.val - y.val);\n",
    "    for (int i = 0; i < lists.length; ++i) {\n",
    "        ListNode cur = lists[i];\n",
    "        while (cur != null) {\n",
    "            queue.add(cur);\n",
    "            cur = cur.next;\n",
    "        }\n",
    "    }\n",
    "    ListNode result = new ListNode();\n",
    "    ListNode cur = result;\n",
    "    while (!queue.isEmpty()) {\n",
    "        cur.next = queue.remove();\n",
    "        cur = cur.next;\n",
    "    }\n",
    "    cur.next = null;\n",
    "    return result.next;\n",
    "}"
   ]
  },
  {
   "cell_type": "code",
   "execution_count": 8,
   "metadata": {},
   "outputs": [
    {
     "data": {
      "text/plain": [
       "[1],[1],[2],[3],[4],[4],[5],[6],"
      ]
     },
     "execution_count": 8,
     "metadata": {},
     "output_type": "execute_result"
    }
   ],
   "source": [
    "ListNode[] lists1 = { new ListNode(1).add(4, 5), new ListNode(1).add(3, 4), new ListNode(2).add(6) };\n",
    "mergeK(lists1);"
   ]
  },
  {
   "cell_type": "code",
   "execution_count": 9,
   "metadata": {},
   "outputs": [
    {
     "data": {
      "text/plain": [
       "[6],[5],[4],[4],[3],[2],[1],[1],"
      ]
     },
     "execution_count": 9,
     "metadata": {},
     "output_type": "execute_result"
    }
   ],
   "source": [
    "ListNode[] lists1 = { new ListNode(1).add(4, 5), new ListNode(1).add(3, 4), new ListNode(2).add(6) };\n",
    "mergeK2(lists1);"
   ]
  },
  {
   "cell_type": "code",
   "execution_count": null,
   "metadata": {},
   "outputs": [],
   "source": []
  }
 ],
 "metadata": {
  "kernelspec": {
   "display_name": "Java",
   "language": "java",
   "name": "java"
  },
  "language_info": {
   "codemirror_mode": "java",
   "file_extension": ".jshell",
   "mimetype": "text/x-java-source",
   "name": "Java",
   "pygments_lexer": "java",
   "version": "11.0.3+7"
  }
 },
 "nbformat": 4,
 "nbformat_minor": 2
}
