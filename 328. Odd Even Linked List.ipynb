{
 "cells": [
  {
   "cell_type": "markdown",
   "metadata": {},
   "source": [
    "Given a singly linked list, group all odd nodes together followed by the even nodes. Please note here we are talking about the node number and not the value in the nodes.\n",
    "\n",
    "You should try to do it in place. The program should run in O(1) space complexity and O(nodes) time complexity.\n",
    "\n",
    "Example 1:\n",
    "```\n",
    "Input: 1->2->3->4->5->NULL\n",
    "Output: 1->3->5->2->4->NULL\n",
    "```\n",
    "Example 2:\n",
    "```\n",
    "Input: 2->1->3->5->6->4->7->NULL\n",
    "Output: 2->3->6->7->1->5->4->NULL\n",
    "```\n",
    "Note:\n",
    "\n",
    "The relative order inside both the even and odd groups should remain as it was in the input.\n",
    "The first node is considered odd, the second node even and so on..."
   ]
  },
  {
   "cell_type": "code",
   "execution_count": null,
   "metadata": {},
   "outputs": [],
   "source": [
    "public class Solution {\n",
    "    public ListNode oddEvenList(ListNode head) {\n",
    "        ListNode curOdd = head;\n",
    "        ListNode headEven = head.next;\n",
    "        ListNode curEven = head.next;\n",
    "        // odd - even - odd - even\n",
    "        //               ^     *\n",
    "        while (curEven != null && curEven.next != null) {\n",
    "            curOdd.next = curEven.next;\n",
    "            curOdd = curEven.next;\n",
    "            curEven.next = curOdd.next;\n",
    "            curEven = curOdd.next;\n",
    "        }\n",
    "        curOdd.next = headEven;\n",
    "        return head;\n",
    "    }\n",
    "    //Definition for singly-linked list.\n",
    "    public static class ListNode {\n",
    "        int val;\n",
    "        ListNode next;\n",
    "        public ListNode() {}\n",
    "        public ListNode(int val) { this.val = val; }\n",
    "        public ListNode(int val, ListNode next) { this.val = val; this.next = next; }\n",
    "        public ListNode addAll(int[] arr) {\n",
    "            ListNode cur = this;\n",
    "            for (int i = 0; i < arr.length; ++i) {\n",
    "                cur.next = new ListNode(arr[i]);\n",
    "                cur = cur.next;\n",
    "            }\n",
    "            return this;\n",
    "        }\n",
    "        @Override\n",
    "        public String toString() {\n",
    "            StringBuilder result = new StringBuilder();\n",
    "            ListNode cur = this;\n",
    "            while (cur != null) {\n",
    "                result.append(cur.val).append(\"->\");\n",
    "                cur = cur.next;\n",
    "            }\n",
    "            result.append(\"NULL\");\n",
    "            return result.toString();\n",
    "        }\n",
    "    }    \n",
    "}"
   ]
  },
  {
   "cell_type": "code",
   "execution_count": null,
   "metadata": {},
   "outputs": [],
   "source": [
    "Solution.ListNode test1 = new Solution.ListNode(1);\n",
    "test1.addAll(new int[] { 2, 3, 4, 5, 6 });\n",
    "new Solution().oddEvenList(test1);"
   ]
  },
  {
   "cell_type": "code",
   "execution_count": 1,
   "metadata": {},
   "outputs": [],
   "source": [
    "// intuitive solution\n",
    "public class Solution {\n",
    "    public ListNode oddEvenList(ListNode head) {\n",
    "        ListNode curOdd = head;\n",
    "        ListNode curEven = head.next;\n",
    "        ListNode headEven = curEven;\n",
    "        ListNode cur = curEven.next;\n",
    "        int i = 3;\n",
    "        while (cur != null) {\n",
    "            if (i % 2 == 0) {\n",
    "                curEven.next = cur;\n",
    "                curEven = curEven.next;\n",
    "            } else {\n",
    "                curOdd.next = cur;\n",
    "                curOdd = curOdd.next;\n",
    "            }\n",
    "            cur = cur.next;\n",
    "            i++;\n",
    "        }\n",
    "        curOdd.next = headEven;\n",
    "        curEven.next = null;\n",
    "        return head;\n",
    "    }\n",
    "    //Definition for singly-linked list.\n",
    "    public static class ListNode {\n",
    "        int val;\n",
    "        ListNode next;\n",
    "        public ListNode() {}\n",
    "        public ListNode(int val) { this.val = val; }\n",
    "        public ListNode(int val, ListNode next) { this.val = val; this.next = next; }\n",
    "        public ListNode addAll(int[] arr) {\n",
    "            ListNode cur = this;\n",
    "            for (int i = 0; i < arr.length; ++i) {\n",
    "                cur.next = new ListNode(arr[i]);\n",
    "                cur = cur.next;\n",
    "            }\n",
    "            return this;\n",
    "        }\n",
    "        @Override\n",
    "        public String toString() {\n",
    "            StringBuilder result = new StringBuilder();\n",
    "            ListNode cur = this;\n",
    "            while (cur != null) {\n",
    "                result.append(cur.val).append(\"->\");\n",
    "                cur = cur.next;\n",
    "            }\n",
    "            result.append(\"NULL\");\n",
    "            return result.toString();\n",
    "        }\n",
    "    }     \n",
    "}"
   ]
  },
  {
   "cell_type": "code",
   "execution_count": 2,
   "metadata": {},
   "outputs": [
    {
     "data": {
      "text/plain": [
       "1->3->5->2->4->6->NULL"
      ]
     },
     "execution_count": 2,
     "metadata": {},
     "output_type": "execute_result"
    }
   ],
   "source": [
    "Solution.ListNode test1 = new Solution.ListNode(1);\n",
    "test1.addAll(new int[] { 2, 3, 4, 5, 6 });\n",
    "new Solution().oddEvenList(test1);"
   ]
  },
  {
   "cell_type": "code",
   "execution_count": null,
   "metadata": {},
   "outputs": [],
   "source": []
  }
 ],
 "metadata": {
  "kernelspec": {
   "display_name": "Java",
   "language": "java",
   "name": "java"
  },
  "language_info": {
   "codemirror_mode": "java",
   "file_extension": ".jshell",
   "mimetype": "text/x-java-source",
   "name": "Java",
   "pygments_lexer": "java",
   "version": "11.0.3+7"
  }
 },
 "nbformat": 4,
 "nbformat_minor": 2
}
