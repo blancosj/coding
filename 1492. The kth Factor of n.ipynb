{
 "cells": [
  {
   "cell_type": "markdown",
   "metadata": {},
   "source": [
    "<a href=''>1492. The kth Factor of n</a>\n",
    "\n",
    "Given two positive integers n and k.\n",
    "\n",
    "A factor of an integer n is defined as an integer i where n % i == 0.\n",
    "\n",
    "Consider a list of all factors of n sorted in ascending order, return the kth factor in this list or return -1 if n has less than k factors.\n",
    "\n",
    "__Example 1:__\n",
    "```\n",
    "Input: n = 12, k = 3\n",
    "Output: 3\n",
    "Explanation: Factors list is [1, 2, 3, 4, 6, 12], the 3rd factor is 3.\n",
    "```\n",
    "__Example 2:__\n",
    "```\n",
    "Input: n = 7, k = 2\n",
    "Output: 7\n",
    "Explanation: Factors list is [1, 7], the 2nd factor is 7.\n",
    "```\n",
    "__Example 3:__\n",
    "```\n",
    "Input: n = 4, k = 4\n",
    "Output: -1\n",
    "Explanation: Factors list is [1, 2, 4], there is only 3 factors. We should return -1.\n",
    "```\n",
    "__Example 4:__\n",
    "```\n",
    "Input: n = 1, k = 1\n",
    "Output: 1\n",
    "Explanation: Factors list is [1], the 1st factor is 1.\n",
    "```\n",
    "__Example 5:__\n",
    "```\n",
    "Input: n = 1000, k = 3\n",
    "Output: 4\n",
    "Explanation: Factors list is [1, 2, 4, 5, 8, 10, 20, 25, 40, 50, 100, 125, 200, 250, 500, 1000].\n",
    "``` \n",
    "__Constraints:__\n",
    "```\n",
    "1 <= k <= n <= 100\n",
    "```"
   ]
  },
  {
   "cell_type": "code",
   "execution_count": 3,
   "metadata": {},
   "outputs": [],
   "source": [
    "public class Solution {\n",
    "    public int calc(int n, int k) {\n",
    "        int result = -1, idx = 0;\n",
    "        for (int i = 1; i <= n; ++i) {\n",
    "            if (n % i == 0) {\n",
    "                if (++idx == k) return i;\n",
    "            }\n",
    "        }\n",
    "        return result;\n",
    "    }\n",
    "}"
   ]
  },
  {
   "cell_type": "code",
   "execution_count": 4,
   "metadata": {},
   "outputs": [
    {
     "data": {
      "text/plain": [
       "4"
      ]
     },
     "execution_count": 4,
     "metadata": {},
     "output_type": "execute_result"
    }
   ],
   "source": [
    "new Solution().calc(1000, 3);"
   ]
  },
  {
   "cell_type": "code",
   "execution_count": 5,
   "metadata": {},
   "outputs": [
    {
     "data": {
      "text/plain": [
       "-1"
      ]
     },
     "execution_count": 5,
     "metadata": {},
     "output_type": "execute_result"
    }
   ],
   "source": [
    "new Solution().calc(4, 4);"
   ]
  },
  {
   "cell_type": "code",
   "execution_count": 6,
   "metadata": {},
   "outputs": [
    {
     "data": {
      "text/plain": [
       "3"
      ]
     },
     "execution_count": 6,
     "metadata": {},
     "output_type": "execute_result"
    }
   ],
   "source": [
    "new Solution().calc(12, 3);"
   ]
  },
  {
   "cell_type": "code",
   "execution_count": 35,
   "metadata": {},
   "outputs": [],
   "source": [
    "public class Solution {\n",
    "    private Queue<Integer> heap = new PriorityQueue<>((x, y) -> Integer.compare(y, x));\n",
    "    public int calc(int n, int k) {\n",
    "        for (int i = 1; i <= (int) Math.sqrt(n); ++i) {\n",
    "            if (n % i == 0) {\n",
    "                push(i, k);\n",
    "                if (n / i != i) push(n / i, k);\n",
    "            }\n",
    "        }\n",
    "        return heap.size() == k ? heap.poll() : -1;\n",
    "    }\n",
    "    private void push(int num, int k) {\n",
    "        heap.offer(num);\n",
    "        if (heap.size() > k) heap.poll();\n",
    "    }\n",
    "}"
   ]
  },
  {
   "cell_type": "code",
   "execution_count": 36,
   "metadata": {},
   "outputs": [
    {
     "data": {
      "text/plain": [
       "3"
      ]
     },
     "execution_count": 36,
     "metadata": {},
     "output_type": "execute_result"
    }
   ],
   "source": [
    "new Solution().calc(12, 3);"
   ]
  },
  {
   "cell_type": "code",
   "execution_count": 37,
   "metadata": {},
   "outputs": [
    {
     "data": {
      "text/plain": [
       "4"
      ]
     },
     "execution_count": 37,
     "metadata": {},
     "output_type": "execute_result"
    }
   ],
   "source": [
    "new Solution().calc(1000, 3);"
   ]
  },
  {
   "cell_type": "code",
   "execution_count": 38,
   "metadata": {},
   "outputs": [
    {
     "data": {
      "text/plain": [
       "-1"
      ]
     },
     "execution_count": 38,
     "metadata": {},
     "output_type": "execute_result"
    }
   ],
   "source": [
    "new Solution().calc(4, 4);"
   ]
  },
  {
   "cell_type": "markdown",
   "metadata": {},
   "source": [
    "### Perfect Squares\n",
    "<div style='float:left;margin-top:10px'><img src='./assets/perfect-square.gif'/></div>"
   ]
  },
  {
   "cell_type": "code",
   "execution_count": 40,
   "metadata": {},
   "outputs": [],
   "source": [
    "public class Solution {\n",
    "    public int calc(int n, int k) {\n",
    "        List<Integer> factors = new ArrayList<>();\n",
    "        int sqrtN = (int) Math.sqrt(n);\n",
    "        for (int i = 1; i <= sqrtN; ++i) {\n",
    "            if (n % i == 0) {\n",
    "                --k;\n",
    "                factors.add(i);\n",
    "                if (k == 0) return i;\n",
    "            }\n",
    "        }\n",
    "        if (sqrtN * sqrtN == n) ++k;\n",
    "        return k <= factors.size() ? n / factors.get(factors.size() - k) : -1;\n",
    "    }\n",
    "}"
   ]
  },
  {
   "cell_type": "code",
   "execution_count": 41,
   "metadata": {},
   "outputs": [
    {
     "data": {
      "text/plain": [
       "3"
      ]
     },
     "execution_count": 41,
     "metadata": {},
     "output_type": "execute_result"
    }
   ],
   "source": [
    "new Solution().calc(12, 3);"
   ]
  },
  {
   "cell_type": "code",
   "execution_count": 42,
   "metadata": {},
   "outputs": [
    {
     "data": {
      "text/plain": [
       "4"
      ]
     },
     "execution_count": 42,
     "metadata": {},
     "output_type": "execute_result"
    }
   ],
   "source": [
    "new Solution().calc(1000, 3);"
   ]
  },
  {
   "cell_type": "code",
   "execution_count": 43,
   "metadata": {},
   "outputs": [
    {
     "data": {
      "text/plain": [
       "-1"
      ]
     },
     "execution_count": 43,
     "metadata": {},
     "output_type": "execute_result"
    }
   ],
   "source": [
    "new Solution().calc(4, 4);"
   ]
  },
  {
   "cell_type": "code",
   "execution_count": 50,
   "metadata": {},
   "outputs": [],
   "source": [
    "public int gcd(int n1, int n2) {\n",
    "    if (n2 == 0) return n1;\n",
    "    System.out.println(n1 % n2);\n",
    "    return gcd(n2, n1 % n2);\n",
    "}"
   ]
  },
  {
   "cell_type": "code",
   "execution_count": 51,
   "metadata": {},
   "outputs": [
    {
     "name": "stdout",
     "output_type": "stream",
     "text": [
      "0\n"
     ]
    },
    {
     "data": {
      "text/plain": [
       "5"
      ]
     },
     "execution_count": 51,
     "metadata": {},
     "output_type": "execute_result"
    }
   ],
   "source": [
    "gcd(25, 5);"
   ]
  },
  {
   "cell_type": "code",
   "execution_count": 52,
   "metadata": {},
   "outputs": [
    {
     "name": "stdout",
     "output_type": "stream",
     "text": [
      "10\n",
      "0\n"
     ]
    },
    {
     "data": {
      "text/plain": [
       "10"
      ]
     },
     "execution_count": 52,
     "metadata": {},
     "output_type": "execute_result"
    }
   ],
   "source": [
    "gcd(10, 20);"
   ]
  },
  {
   "cell_type": "code",
   "execution_count": 53,
   "metadata": {},
   "outputs": [
    {
     "name": "stdout",
     "output_type": "stream",
     "text": [
      "20\n",
      "16\n",
      "4\n",
      "0\n"
     ]
    },
    {
     "data": {
      "text/plain": [
       "4"
      ]
     },
     "execution_count": 53,
     "metadata": {},
     "output_type": "execute_result"
    }
   ],
   "source": [
    "gcd(20, 36);"
   ]
  },
  {
   "cell_type": "code",
   "execution_count": 54,
   "metadata": {},
   "outputs": [
    {
     "name": "stdout",
     "output_type": "stream",
     "text": [
      "16\n",
      "4\n",
      "0\n"
     ]
    },
    {
     "data": {
      "text/plain": [
       "4"
      ]
     },
     "execution_count": 54,
     "metadata": {},
     "output_type": "execute_result"
    }
   ],
   "source": [
    "gcd(36, 20);"
   ]
  },
  {
   "cell_type": "code",
   "execution_count": 55,
   "metadata": {},
   "outputs": [
    {
     "data": {
      "text/plain": [
       "20"
      ]
     },
     "execution_count": 55,
     "metadata": {},
     "output_type": "execute_result"
    }
   ],
   "source": [
    "20 % 36"
   ]
  },
  {
   "cell_type": "code",
   "execution_count": 56,
   "metadata": {},
   "outputs": [
    {
     "data": {
      "text/plain": [
       "16"
      ]
     },
     "execution_count": 56,
     "metadata": {},
     "output_type": "execute_result"
    }
   ],
   "source": [
    "36 % 20"
   ]
  },
  {
   "cell_type": "code",
   "execution_count": 57,
   "metadata": {},
   "outputs": [
    {
     "data": {
      "text/plain": [
       "0"
      ]
     },
     "execution_count": 57,
     "metadata": {},
     "output_type": "execute_result"
    }
   ],
   "source": [
    "20 / 36"
   ]
  },
  {
   "cell_type": "code",
   "execution_count": 58,
   "metadata": {},
   "outputs": [
    {
     "data": {
      "text/plain": [
       "1"
      ]
     },
     "execution_count": 58,
     "metadata": {},
     "output_type": "execute_result"
    }
   ],
   "source": [
    "36 / 20"
   ]
  },
  {
   "cell_type": "code",
   "execution_count": null,
   "metadata": {},
   "outputs": [],
   "source": []
  }
 ],
 "metadata": {
  "kernelspec": {
   "display_name": "Java",
   "language": "java",
   "name": "java"
  },
  "language_info": {
   "codemirror_mode": "java",
   "file_extension": ".jshell",
   "mimetype": "text/x-java-source",
   "name": "Java",
   "pygments_lexer": "java",
   "version": "11.0.3+7"
  }
 },
 "nbformat": 4,
 "nbformat_minor": 2
}
