{
 "cells": [
  {
   "cell_type": "markdown",
   "metadata": {},
   "source": [
    "## <a href='https://leetcode.com/problems/car-pooling/'>1094. Car Pooling</a>\n",
    "\n",
    "You are driving a vehicle that has capacity empty seats initially available for passengers.  The vehicle only drives east (ie. it cannot turn around and drive west.)\n",
    "\n",
    "Given a list of trips, trip[i] = [num_passengers, start_location, end_location] contains information about the i-th trip: the number of passengers that must be picked up, and the locations to pick them up and drop them off.  The locations are given as the number of kilometers due east from your vehicle's initial location.\n",
    "\n",
    "Return true if and only if it is possible to pick up and drop off all passengers for all the given trips.  \n",
    "\n",
    "__Example 1:__\n",
    "```\n",
    "Input: trips = [[2,1,5],[3,3,7]], capacity = 4\n",
    "Output: false\n",
    "```\n",
    "__Example 2:__\n",
    "```\n",
    "Input: trips = [[2,1,5],[3,3,7]], capacity = 5\n",
    "Output: true\n",
    "```\n",
    "__Example 3:__\n",
    "```\n",
    "Input: trips = [[2,1,5],[3,5,7]], capacity = 3\n",
    "Output: true\n",
    "```\n",
    "__Example 4:__\n",
    "```\n",
    "Input: trips = [[3,2,7],[3,7,9],[8,3,9]], capacity = 11\n",
    "Output: true\n",
    "``` \n",
    "__Constraints:__\n",
    "\n",
    "* trips.length <= 1000\n",
    "* trips[i].length == 3\n",
    "* 1 <= trips[i][0] <= 100\n",
    "* 0 <= trips[i][1] < trips[i][2] <= 1000\n",
    "* 1 <= capacity <= 100000"
   ]
  },
  {
   "cell_type": "code",
   "execution_count": 3,
   "metadata": {},
   "outputs": [],
   "source": [
    "// heap min\n",
    "public class SolutionHeapMin {\n",
    "    public boolean solve(int[][] trips, int capacity) {\n",
    "        Arrays.sort(trips, (x, y) -> x[1] - y[1]);\n",
    "        PriorityQueue<int[]> heapMin = new PriorityQueue<>((x, y) -> x[2] - y[2]);\n",
    "        int curCapacity = 0;\n",
    "        for (int[] trip : trips) {\n",
    "            while (!heapMin.isEmpty() && heapMin.peek()[2] <= trip[1]) {\n",
    "                curCapacity -= heapMin.poll()[0];\n",
    "            }\n",
    "            heapMin.offer(trip);\n",
    "            curCapacity += trip[0];\n",
    "            if (curCapacity > capacity) return false;\n",
    "        }\n",
    "        return true;\n",
    "    }\n",
    "}"
   ]
  },
  {
   "cell_type": "code",
   "execution_count": 4,
   "metadata": {},
   "outputs": [],
   "source": [
    "// bucket sort\n",
    "public class SolutionBucketSort {\n",
    "    public boolean solve(int[][] trips, int capacity) {\n",
    "        int[] locations = new int[1001];\n",
    "        for (int[] trip : trips) {\n",
    "            locations[trip[1]] += trip[0];\n",
    "            locations[trip[2]] -= trip[0];\n",
    "        }\n",
    "        int curCapacity = 0;\n",
    "        for (int location : locations) {\n",
    "            curCapacity += location;\n",
    "            if (curCapacity > capacity) return false;\n",
    "        }\n",
    "        return true;\n",
    "    }\n",
    "}"
   ]
  },
  {
   "cell_type": "code",
   "execution_count": 5,
   "metadata": {},
   "outputs": [
    {
     "data": {
      "text/plain": [
       "true"
      ]
     },
     "execution_count": 5,
     "metadata": {},
     "output_type": "execute_result"
    }
   ],
   "source": [
    "new SolutionHeapMin().solve(new int[][] {{3,2,7},{3,7,9},{8,3,9}}, 11);"
   ]
  },
  {
   "cell_type": "code",
   "execution_count": 6,
   "metadata": {},
   "outputs": [
    {
     "data": {
      "text/plain": [
       "true"
      ]
     },
     "execution_count": 6,
     "metadata": {},
     "output_type": "execute_result"
    }
   ],
   "source": [
    "new SolutionBucketSort().solve(new int[][] {{3,2,7},{3,7,9},{8,3,9}}, 11);"
   ]
  },
  {
   "cell_type": "code",
   "execution_count": null,
   "metadata": {},
   "outputs": [],
   "source": []
  }
 ],
 "metadata": {
  "kernelspec": {
   "display_name": "Java",
   "language": "java",
   "name": "java"
  },
  "language_info": {
   "codemirror_mode": "java",
   "file_extension": ".jshell",
   "mimetype": "text/x-java-source",
   "name": "Java",
   "pygments_lexer": "java",
   "version": "11.0.3+7"
  }
 },
 "nbformat": 4,
 "nbformat_minor": 2
}
