{
 "cells": [
  {
   "cell_type": "markdown",
   "metadata": {},
   "source": [
    "https://leetcode.com/discuss/general-discussion/655708/graph-problems-for-beginners-practice-problems-and-sample-solutions"
   ]
  },
  {
   "cell_type": "markdown",
   "metadata": {},
   "source": [
    "## Union Find"
   ]
  },
  {
   "cell_type": "code",
   "execution_count": 12,
   "metadata": {},
   "outputs": [],
   "source": [
    "public class Solution {\n",
    "    public int[] findRedundantConnection(int[][] edges) {\n",
    "        int n = edges.length;\n",
    "        int[] parents = new int[n + 1];\n",
    "        for (int i = 0; i <= n; ++i) parents[i] = i;\n",
    "        int[] answer = new int[2];\n",
    "        for (int i = 0; i < n; ++i) {\n",
    "            int x = find(edges[i][0], parents);\n",
    "            int y = find(edges[i][1], parents);\n",
    "            if (x != y) {\n",
    "                parents[y] = x;\n",
    "            } else {\n",
    "                answer[0] = edges[i][0];\n",
    "                answer[1] = edges[i][1];\n",
    "            }\n",
    "        }\n",
    "        return answer;\n",
    "    }\n",
    "    private int find(int x, int[] parents) {\n",
    "        if (parents[x] == x) {\n",
    "            return x;\n",
    "        }\n",
    "        return find(parents[x], parents);\n",
    "    }\n",
    "}"
   ]
  },
  {
   "cell_type": "code",
   "execution_count": 13,
   "metadata": {},
   "outputs": [
    {
     "data": {
      "text/plain": [
       "[2, 0]"
      ]
     },
     "execution_count": 13,
     "metadata": {},
     "output_type": "execute_result"
    }
   ],
   "source": [
    "int[][] edges1 = { {0, 1}, {1, 2}, {2,0} };\n",
    "Arrays.toString(new Solution().findRedundantConnection(edges1));"
   ]
  },
  {
   "cell_type": "code",
   "execution_count": null,
   "metadata": {},
   "outputs": [],
   "source": []
  },
  {
   "cell_type": "code",
   "execution_count": null,
   "metadata": {},
   "outputs": [],
   "source": []
  }
 ],
 "metadata": {
  "kernelspec": {
   "display_name": "Java",
   "language": "java",
   "name": "java"
  },
  "language_info": {
   "codemirror_mode": "java",
   "file_extension": ".jshell",
   "mimetype": "text/x-java-source",
   "name": "Java",
   "pygments_lexer": "java",
   "version": "11.0.3+7"
  }
 },
 "nbformat": 4,
 "nbformat_minor": 2
}
