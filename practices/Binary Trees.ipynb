{
 "cells": [
  {
   "cell_type": "markdown",
   "metadata": {},
   "source": [
    "## Binary Trees"
   ]
  },
  {
   "cell_type": "markdown",
   "metadata": {},
   "source": [
    "A binary tree is a tree data structure in which each node has at most two children.\n",
    "\n",
    "Type of binary trees:\n",
    "\n",
    "* __Rooted__, binary tree has a root node and every node has at most two children\n",
    "* __Full__, binary tree in which every node has either 0 or 2 children.\n",
    "* __Complete__, binary tree with every level completed. And all nodes in the last level are as far left as possible. It has between 1 and $2^h$ nodes at the last level $h$.\n",
    "* __Perfect__, binary tree in which all interior nodes have two children and all leaves have the same depth or same level.\n",
    "* __Binary Search Tree__, a rooted binary tree in which the value of each node is greater than or equal to any node value stored in the left sub-tree, and less than or equal to any value stored in the nodes of right sub-tree."
   ]
  },
  {
   "cell_type": "code",
   "execution_count": null,
   "metadata": {},
   "outputs": [],
   "source": []
  }
 ],
 "metadata": {
  "kernelspec": {
   "display_name": "Java",
   "language": "java",
   "name": "java"
  },
  "language_info": {
   "codemirror_mode": "java",
   "file_extension": ".jshell",
   "mimetype": "text/x-java-source",
   "name": "Java",
   "pygments_lexer": "java",
   "version": "11.0.3+7"
  }
 },
 "nbformat": 4,
 "nbformat_minor": 2
}
