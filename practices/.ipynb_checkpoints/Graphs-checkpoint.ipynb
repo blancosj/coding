{
 "cells": [
  {
   "cell_type": "markdown",
   "metadata": {},
   "source": [
    "Based on https://leetcode.com/discuss/general-discussion/655708/graph-problems-for-beginners-practice-problems-and-sample-solutions"
   ]
  },
  {
   "cell_type": "markdown",
   "metadata": {},
   "source": [
    "https://web.stanford.edu/class/archive/cs/cs106x/cs106x.1192/lectures/Lecture25/Lecture25.pdf"
   ]
  },
  {
   "cell_type": "markdown",
   "metadata": {},
   "source": [
    "### Types of Graph\n",
    "* directed vs undirected\n",
    "* weighted vs unweighted\n",
    "* cyclic vs acyclic"
   ]
  },
  {
   "cell_type": "markdown",
   "metadata": {},
   "source": [
    "### Shortest Path Problems\n",
    "#### Weighted\n",
    "* BFS\n",
    "\n",
    "#### Unweighted\n",
    "* Dijkstra (Only positive weights) + __Priority Queue min-heap__\n",
    "* Bellman Ford (If negative weghts & with cycles)"
   ]
  },
  {
   "cell_type": "markdown",
   "metadata": {},
   "source": [
    "## Union Find\n",
    "\n",
    "If it requires find groups or components:\n",
    "* https://leetcode.com/problems/friend-circles/\n",
    "* https://leetcode.com/problems/redundant-connection/\n",
    "* https://leetcode.com/problems/most-stones-removed-with-same-row-or-column/\n",
    "* https://leetcode.com/problems/number-of-operations-to-make-network-connected/\n",
    "* https://leetcode.com/problems/satisfiability-of-equality-equations/\n",
    "* https://leetcode.com/problems/accounts-merge/"
   ]
  },
  {
   "cell_type": "code",
   "execution_count": 12,
   "metadata": {},
   "outputs": [],
   "source": [
    "public class Solution {\n",
    "    public int[] findRedundantConnection(int[][] edges) {\n",
    "        int n = edges.length;\n",
    "        int[] parents = new int[n + 1];\n",
    "        for (int i = 0; i <= n; ++i) parents[i] = i;\n",
    "        int[] answer = new int[2];\n",
    "        for (int i = 0; i < n; ++i) {\n",
    "            int x = find(edges[i][0], parents);\n",
    "            int y = find(edges[i][1], parents);\n",
    "            if (x != y) {\n",
    "                parents[y] = x;\n",
    "            } else {\n",
    "                answer[0] = edges[i][0];\n",
    "                answer[1] = edges[i][1];\n",
    "            }\n",
    "        }\n",
    "        return answer;\n",
    "    }\n",
    "    private int find(int x, int[] parents) {\n",
    "        if (parents[x] == x) {\n",
    "            return x;\n",
    "        }\n",
    "        return find(parents[x], parents);\n",
    "    }\n",
    "}"
   ]
  },
  {
   "cell_type": "code",
   "execution_count": 13,
   "metadata": {},
   "outputs": [
    {
     "data": {
      "text/plain": [
       "[2, 0]"
      ]
     },
     "execution_count": 13,
     "metadata": {},
     "output_type": "execute_result"
    }
   ],
   "source": [
    "int[][] edges1 = { {0, 1}, {1, 2}, {2,0} };\n",
    "Arrays.toString(new Solution().findRedundantConnection(edges1));"
   ]
  },
  {
   "cell_type": "markdown",
   "metadata": {},
   "source": [
    "## Depth First Search\n",
    "\n",
    "##### Start DFS from nodes at boundary:\n",
    "\n",
    "* https://leetcode.com/problems/surrounded-regions/\n",
    "* https://leetcode.com/problems/number-of-enclaves/"
   ]
  },
  {
   "cell_type": "code",
   "execution_count": 3,
   "metadata": {},
   "outputs": [],
   "source": [
    "public class Solution {\n",
    "    int rows, cols;\n",
    "    public void start(int[][] grid) {\n",
    "        rows = grid.length;\n",
    "        cols = grid[0].length;\n",
    "        dfs(grid, 0, 0);\n",
    "    }\n",
    "    public void dfs(int[][] grid, int j, int i) {\n",
    "        if (j < 0 || i < 0 || j >= rows || i >= cols) {\n",
    "            return;\n",
    "        }\n",
    "        if (grid[j][i] != 0) return;\n",
    "        grid[j][i] = 1;\n",
    "        dfs(grid, j - 1, i);\n",
    "        dfs(grid, j + 1, i);\n",
    "        dfs(grid, j, i + 1);\n",
    "        dfs(grid, j, i - 1);\n",
    "    }\n",
    "}"
   ]
  },
  {
   "cell_type": "code",
   "execution_count": 5,
   "metadata": {},
   "outputs": [
    {
     "name": "stdout",
     "output_type": "stream",
     "text": [
      "[[1, 1, 1, 1, 1], [1, 1, 1, 1, 1], [1, 1, 1, 1, 1], [1, 1, 1, 1, 1], [1, 1, 1, 1, 1]]\n"
     ]
    }
   ],
   "source": [
    "int[][] grid1 = new int[5][5];\n",
    "new Solution().start(grid1);\n",
    "System.out.println(Arrays.deepToString(grid1));"
   ]
  },
  {
   "cell_type": "markdown",
   "metadata": {},
   "source": [
    "#### Time taken to reach all nodes or share information to all graph nodes:\n",
    "\n",
    "* https://leetcode.com/problems/time-needed-to-inform-all-employees/"
   ]
  },
  {
   "cell_type": "code",
   "execution_count": 14,
   "metadata": {},
   "outputs": [],
   "source": [
    "public class Solution {\n",
    "    public int count(int N, int[] values, int[][] edges) {\n",
    "        Map<Integer, List<Integer>> graph = new HashMap<>();\n",
    "        for (int i = 1; i <= N; ++i) {\n",
    "            graph.put(i, new ArrayList<>());\n",
    "        }\n",
    "        for (int[] edge : edges) {\n",
    "            graph.get(edge[0]).add(edge[1]);\n",
    "        }\n",
    "        return dfs(graph, values, 1);\n",
    "    }\n",
    "    private int dfs(\n",
    "        Map<Integer, List<Integer>> graph, \n",
    "        int[] values, int cur\n",
    "    ) {\n",
    "        int result = 0;\n",
    "        for (int neighbor : graph.get(cur)) {\n",
    "            result += dfs(graph, values, neighbor);\n",
    "        }\n",
    "        return values[cur] + result;\n",
    "    }\n",
    "}"
   ]
  },
  {
   "cell_type": "code",
   "execution_count": 15,
   "metadata": {},
   "outputs": [
    {
     "data": {
      "text/plain": [
       "14"
      ]
     },
     "execution_count": 15,
     "metadata": {},
     "output_type": "execute_result"
    }
   ],
   "source": [
    "int[][] edges1 = {{1,2},{1,3},{2,4},{3,5}};\n",
    "int[] values1 = {0,1,5,3,3,2};\n",
    "int n1 = 5;\n",
    "new Solution().count(5, values1, edges1);"
   ]
  },
  {
   "cell_type": "markdown",
   "metadata": {},
   "source": [
    "#### DFS from each unvisited node/Island problems"
   ]
  },
  {
   "cell_type": "markdown",
   "metadata": {},
   "source": [
    "* https://leetcode.com/problems/number-of-closed-islands/\n",
    "* https://leetcode.com/problems/number-of-islands/\n",
    "* https://leetcode.com/problems/keys-and-rooms/\n",
    "* https://leetcode.com/problems/max-area-of-island/\n",
    "* https://leetcode.com/problems/flood-fill/"
   ]
  },
  {
   "cell_type": "markdown",
   "metadata": {},
   "source": [
    "#### Dijkstra’s shortest path algorithm"
   ]
  },
  {
   "cell_type": "code",
   "execution_count": 107,
   "metadata": {},
   "outputs": [],
   "source": [
    "public class Solution {\n",
    "    public int solve(int N, int[] values, int[][] edges) {\n",
    "        Map<Integer, List<Integer>> graph = new HashMap<>();\n",
    "        for (int i = 1; i <= N; ++i) {\n",
    "            graph.put(i, new ArrayList<>());\n",
    "        }\n",
    "        for (int[] edge : edges) {\n",
    "            graph.get(edge[0]).add(edge[1]);\n",
    "        }\n",
    "        PriorityQueue<int[]> pq = new PriorityQueue<>((x, y) -> x[1] - y[1]);\n",
    "        pq.offer(new int[] { 1, values[1] });\n",
    "        boolean[] visited = new boolean[N + 1];\n",
    "        int answer = 0;\n",
    "        while (!pq.isEmpty()) {\n",
    "            int[] cur = pq.poll();\n",
    "            if (visited[cur[0]]) continue;\n",
    "            visited[cur[0]] = true;\n",
    "            answer += cur[1];\n",
    "            for (int neighbor : graph.get(cur[0])) {\n",
    "                pq.offer(new int[] { neighbor, values[neighbor] });\n",
    "            }\n",
    "        }\n",
    "        return answer;\n",
    "    }\n",
    "}"
   ]
  },
  {
   "cell_type": "code",
   "execution_count": 108,
   "metadata": {},
   "outputs": [
    {
     "data": {
      "text/plain": [
       "14"
      ]
     },
     "execution_count": 108,
     "metadata": {},
     "output_type": "execute_result"
    }
   ],
   "source": [
    "int[][] edges1 = {{1,2},{1,3},{2,4},{3,5}};\n",
    "int[] values1 = {0,1,5,3,3,2};\n",
    "int n1 = 5;\n",
    "new Solution().solve(5, values1, edges1);"
   ]
  },
  {
   "cell_type": "markdown",
   "metadata": {},
   "source": [
    "#### Bellman–Ford Algorithm"
   ]
  },
  {
   "cell_type": "code",
   "execution_count": 149,
   "metadata": {},
   "outputs": [],
   "source": [
    "public class Solution {\n",
    "    public int solve(int N, int[] values, int[][] edges) {\n",
    "        Map<Integer, List<Integer>> graph = new HashMap<>();\n",
    "        for (int i = 1; i <= N; ++i) {\n",
    "            graph.put(i, new ArrayList<>());\n",
    "        }\n",
    "        for (int[] edge : edges) {\n",
    "            graph.get(edge[0]).add(edge[1]);\n",
    "        }\n",
    "        long[] dist = new long[N + 1];\n",
    "        Arrays.fill(dist, 1, N + 1, Integer.MAX_VALUE);\n",
    "        dist[1] = values[1]; \n",
    "        int answer = values[1];\n",
    "        for (int i = 2; i <= N; ++i) {\n",
    "            for (int[] edge : edges) {\n",
    "                int u = edge[0];\n",
    "                int v = edge[1];\n",
    "                if (dist[u] + values[v] < dist[v]) {\n",
    "                    answer += values[v];\n",
    "                    dist[v] = dist[u] + values[v];\n",
    "                }\n",
    "            }\n",
    "        }\n",
    "        System.out.println(Arrays.toString(dist));\n",
    "        // detect cycles\n",
    "        for (int[] edge : edges) {\n",
    "            int u = edge[0];\n",
    "            int v = edge[1];            \n",
    "            if (dist[u] != Integer.MAX_VALUE && dist[u] + values[v] < dist[v]) {\n",
    "                return -1;\n",
    "            }\n",
    "        }\n",
    "        return answer;\n",
    "    }\n",
    "}"
   ]
  },
  {
   "cell_type": "code",
   "execution_count": 150,
   "metadata": {},
   "outputs": [
    {
     "name": "stdout",
     "output_type": "stream",
     "text": [
      "[0, 1, 6, 4, 9, 6]\n"
     ]
    },
    {
     "data": {
      "text/plain": [
       "14"
      ]
     },
     "execution_count": 150,
     "metadata": {},
     "output_type": "execute_result"
    }
   ],
   "source": [
    "int[][] edges1 = {{1,2},{1,3},{2,4},{3,5}};\n",
    "int[] values1 = {0,1,5,3,3,2};\n",
    "int n1 = 5;\n",
    "new Solution().solve(5, values1, edges1);"
   ]
  },
  {
   "cell_type": "markdown",
   "metadata": {},
   "source": [
    "## Breath First Search"
   ]
  },
  {
   "cell_type": "code",
   "execution_count": 18,
   "metadata": {},
   "outputs": [],
   "source": [
    "public class Solution {\n",
    "    public int count(int N, int[] values, int[][] edges) {\n",
    "        Map<Integer, List<Integer>> graph = new HashMap<>();\n",
    "        for (int i = 1; i <= N; ++i) {\n",
    "            graph.put(i, new ArrayList<>());\n",
    "        }\n",
    "        for (int[] edge : edges) {\n",
    "            graph.get(edge[0]).add(edge[1]);\n",
    "        }\n",
    "        int answer = 0;\n",
    "        Queue<Integer> queue = new LinkedList<>();\n",
    "        queue.offer(1);\n",
    "        while (!queue.isEmpty()) {\n",
    "            int cur = queue.poll();\n",
    "            answer += values[cur];\n",
    "            for (int neighbor : graph.get(cur)) {\n",
    "                queue.offer(neighbor);\n",
    "            }\n",
    "        }\n",
    "        return answer;\n",
    "    }\n",
    "}"
   ]
  },
  {
   "cell_type": "code",
   "execution_count": 19,
   "metadata": {},
   "outputs": [
    {
     "data": {
      "text/plain": [
       "14"
      ]
     },
     "execution_count": 19,
     "metadata": {},
     "output_type": "execute_result"
    }
   ],
   "source": [
    "int[][] edges1 = {{1,2},{1,3},{2,4},{3,5}};\n",
    "int[] values1 = {0,1,5,3,3,2};\n",
    "int n1 = 5;\n",
    "new Solution().count(5, values1, edges1);"
   ]
  },
  {
   "cell_type": "markdown",
   "metadata": {},
   "source": [
    "#### Sum each level"
   ]
  },
  {
   "cell_type": "code",
   "execution_count": 24,
   "metadata": {},
   "outputs": [],
   "source": [
    "public class Solution {\n",
    "    public List<Integer> count(int N, int[] values, int[][] edges) {\n",
    "        Map<Integer, List<Integer>> graph = new HashMap<>();\n",
    "        for (int i = 1; i <= N; ++i) {\n",
    "            graph.put(i, new ArrayList<>());\n",
    "        }\n",
    "        for (int[] edge : edges) {\n",
    "            graph.get(edge[0]).add(edge[1]);\n",
    "        }\n",
    "        Queue<Integer> queue = new LinkedList<>();\n",
    "        queue.offer(1);\n",
    "        List<Integer> answer = new ArrayList<>();\n",
    "        while (!queue.isEmpty()) {\n",
    "            int size = queue.size();\n",
    "            int sum = 0;\n",
    "            for (int i = 0; i < size; ++i) {\n",
    "                int cur = queue.poll();\n",
    "                sum += values[cur];\n",
    "                for (int neighbor : graph.get(cur)) {\n",
    "                    queue.offer(neighbor);\n",
    "                }\n",
    "            }\n",
    "            answer.add(sum);\n",
    "        }\n",
    "        return answer;\n",
    "    }\n",
    "}"
   ]
  },
  {
   "cell_type": "code",
   "execution_count": 25,
   "metadata": {},
   "outputs": [
    {
     "data": {
      "text/plain": [
       "[1, 8, 5]"
      ]
     },
     "execution_count": 25,
     "metadata": {},
     "output_type": "execute_result"
    }
   ],
   "source": [
    "int[][] edges1 = {{1,2},{1,3},{2,4},{3,5}};\n",
    "int[] values1 = {0,1,5,3,3,2};\n",
    "int n1 = 5;\n",
    "new Solution().count(5, values1, edges1);"
   ]
  },
  {
   "cell_type": "markdown",
   "metadata": {},
   "source": [
    "#### Sum each level"
   ]
  },
  {
   "cell_type": "code",
   "execution_count": 33,
   "metadata": {},
   "outputs": [],
   "source": [
    "public class Solution {\n",
    "    public List<Integer> count(int N, int[] values, int[][] edges) {\n",
    "        Map<Integer, List<Integer>> graph = new HashMap<>();\n",
    "        for (int i = 1; i <= N; ++i) {\n",
    "            graph.put(i, new ArrayList<>());\n",
    "        }\n",
    "        for (int[] edge : edges) {\n",
    "            graph.get(edge[0]).add(edge[1]);\n",
    "        }\n",
    "        LinkedList<Integer> queue = new LinkedList<>();\n",
    "        queue.offer(1);\n",
    "        List<Integer> answer = new ArrayList<>();\n",
    "        while (!queue.isEmpty()) {\n",
    "            int size = queue.size();\n",
    "            answer.add(queue.peekFirst());\n",
    "            for (int i = 0; i < size; ++i) {\n",
    "                int cur = queue.poll();\n",
    "                for (int neighbor : graph.get(cur)) {\n",
    "                    queue.offer(neighbor);\n",
    "                }\n",
    "            }\n",
    "        }\n",
    "        return answer;\n",
    "    }\n",
    "}"
   ]
  },
  {
   "cell_type": "code",
   "execution_count": 34,
   "metadata": {},
   "outputs": [
    {
     "data": {
      "text/plain": [
       "[1, 2, 4]"
      ]
     },
     "execution_count": 34,
     "metadata": {},
     "output_type": "execute_result"
    }
   ],
   "source": [
    "int[][] edges1 = {{1,2},{1,3},{2,4},{3,5}};\n",
    "int[] values1 = {0,1,5,3,3,2};\n",
    "int n1 = 5;\n",
    "new Solution().count(5, values1, edges1);"
   ]
  },
  {
   "cell_type": "markdown",
   "metadata": {},
   "source": [
    "#### Max width"
   ]
  },
  {
   "cell_type": "code",
   "execution_count": 99,
   "metadata": {},
   "outputs": [],
   "source": [
    "public class Solution {\n",
    "    public int count(Node root) {\n",
    "        Queue<NodeInfo> queue = new LinkedList<>();\n",
    "        queue.offer(new NodeInfo(root, 0, 0));\n",
    "        int answer = 0;\n",
    "        while (!queue.isEmpty()) {\n",
    "            int size = queue.size();\n",
    "            int max = Integer.MIN_VALUE;\n",
    "            int min = Integer.MAX_VALUE;\n",
    "            for (int i = 0; i < size; ++i) {\n",
    "                NodeInfo cur = queue.poll();\n",
    "                max = Math.max(max, cur.pos);\n",
    "                min = Math.min(min, cur.pos);\n",
    "                if (cur.node.left != null) {\n",
    "                    queue.offer(new NodeInfo(\n",
    "                        cur.node.left, cur.height + 1, cur.pos * 2\n",
    "                    ));\n",
    "                }\n",
    "                if (cur.node.right != null) {\n",
    "                    queue.offer(new NodeInfo(\n",
    "                        cur.node.right, cur.height + 1, cur.pos * 2 + 1\n",
    "                    ));\n",
    "                }\n",
    "            }\n",
    "            answer = Math.max(answer, max - min + 1);\n",
    "        }\n",
    "        return answer;\n",
    "    }\n",
    "    public static Node deserialize(int[] nums) {\n",
    "        return deserialize(nums, 0, Integer.MIN_VALUE, Integer.MAX_VALUE);\n",
    "    }\n",
    "    private static Node deserialize(int[] nums, int start, int min, int max) {\n",
    "        if (start == nums.length) return null;\n",
    "        if (nums[start] >= min && nums[start] <= max) {\n",
    "            Node node = new Node(nums[start]);\n",
    "            node.left = deserialize(nums, start + 1, min, nums[start]);\n",
    "            node.right = deserialize(nums, start + 1, nums[start], max);\n",
    "            return node;\n",
    "        }\n",
    "        return deserialize(nums, start + 1, min, max);\n",
    "    }\n",
    "    private class NodeInfo {\n",
    "        Node node;\n",
    "        int height;\n",
    "        int pos;\n",
    "        NodeInfo(Node node, int height, int pos) {\n",
    "            this.node = node;\n",
    "            this.height = height;\n",
    "            this.pos = pos;\n",
    "        }\n",
    "    }\n",
    "    public static class Node {\n",
    "        public int val;\n",
    "        public Node left, right;\n",
    "        public Node(int val) {\n",
    "            this.val = val;\n",
    "        }\n",
    "    }\n",
    "}"
   ]
  },
  {
   "cell_type": "code",
   "execution_count": 100,
   "metadata": {},
   "outputs": [
    {
     "data": {
      "text/plain": [
       "2"
      ]
     },
     "execution_count": 100,
     "metadata": {},
     "output_type": "execute_result"
    }
   ],
   "source": [
    "int[] nums = {8, 2, 3, 5, 6, 7, 10};\n",
    "Solution.Node root = Solution.deserialize(nums);\n",
    "new Solution().count(root);"
   ]
  },
  {
   "cell_type": "markdown",
   "metadata": {},
   "source": []
  },
  {
   "cell_type": "markdown",
   "metadata": {},
   "source": [
    "## Preorder, inorder, postorder"
   ]
  },
  {
   "cell_type": "markdown",
   "metadata": {},
   "source": [
    "<img src='./assets/ddfs2.png' />\n",
    "<img src='./assets/preorder2.png' />"
   ]
  },
  {
   "cell_type": "markdown",
   "metadata": {},
   "source": [
    "## Preorder"
   ]
  },
  {
   "cell_type": "markdown",
   "metadata": {},
   "source": [
    "https://www.geeksforgeeks.org/morris-traversal-for-preorder/"
   ]
  },
  {
   "cell_type": "code",
   "execution_count": 18,
   "metadata": {},
   "outputs": [],
   "source": [
    "public class Solution {\n",
    "    public List<Integer> solve(TreeNode root) {\n",
    "        List<Integer> answer = new ArrayList<>();\n",
    "        ArrayDeque<TreeNode> stack = new ArrayDeque<>();\n",
    "        stack.push(root);\n",
    "        while (!stack.isEmpty()) {\n",
    "            TreeNode cur = stack.pop();\n",
    "            if (cur == null) continue;\n",
    "            answer.add(cur.val);\n",
    "            // right child is pushed before left\n",
    "            // to read left side first\n",
    "            if (cur.right != null) stack.push(cur.right);\n",
    "            if (cur.left != null) stack.push(cur.left);\n",
    "        }\n",
    "        return answer;\n",
    "    }\n",
    "    public static class TreeNode {\n",
    "        TreeNode left, right;\n",
    "        int val;\n",
    "        public TreeNode(int val) {\n",
    "            this.val = val;\n",
    "        }\n",
    "    }\n",
    "}"
   ]
  },
  {
   "cell_type": "code",
   "execution_count": 19,
   "metadata": {},
   "outputs": [
    {
     "data": {
      "text/plain": [
       "[8, 6, 5, 7, 10]"
      ]
     },
     "execution_count": 19,
     "metadata": {},
     "output_type": "execute_result"
    }
   ],
   "source": [
    "Solution.TreeNode root = new Solution.TreeNode(8);\n",
    "root.left = new Solution.TreeNode(6);\n",
    "root.right = new Solution.TreeNode(10);\n",
    "root.left.left = new Solution.TreeNode(5);\n",
    "root.left.right = new Solution.TreeNode(7);\n",
    "new Solution().solve(root);"
   ]
  },
  {
   "cell_type": "code",
   "execution_count": 21,
   "metadata": {},
   "outputs": [],
   "source": [
    "public class Solution {\n",
    "    private List<Integer> answer = new ArrayList<>();\n",
    "    public List<Integer> solve(TreeNode root) {\n",
    "        dfs(root);\n",
    "        return answer;\n",
    "    }\n",
    "    private void dfs(TreeNode node) {\n",
    "        if (node == null) return;\n",
    "        answer.add(node.val);\n",
    "        dfs(node.left);        \n",
    "        dfs(node.right);\n",
    "    }\n",
    "    public static class TreeNode {\n",
    "        TreeNode left, right;\n",
    "        int val;\n",
    "        public TreeNode(int val) {\n",
    "            this.val = val;\n",
    "        }\n",
    "    }\n",
    "}"
   ]
  },
  {
   "cell_type": "code",
   "execution_count": 22,
   "metadata": {},
   "outputs": [
    {
     "data": {
      "text/plain": [
       "[8, 6, 5, 7, 10]"
      ]
     },
     "execution_count": 22,
     "metadata": {},
     "output_type": "execute_result"
    }
   ],
   "source": [
    "Solution.TreeNode root = new Solution.TreeNode(8);\n",
    "root.left = new Solution.TreeNode(6);\n",
    "root.right = new Solution.TreeNode(10);\n",
    "root.left.left = new Solution.TreeNode(5);\n",
    "root.left.right = new Solution.TreeNode(7);\n",
    "new Solution().solve(root);"
   ]
  },
  {
   "cell_type": "markdown",
   "metadata": {},
   "source": [
    "## Inorder"
   ]
  },
  {
   "cell_type": "markdown",
   "metadata": {},
   "source": [
    "## Postorder"
   ]
  },
  {
   "cell_type": "markdown",
   "metadata": {},
   "source": [
    "### Iterative"
   ]
  },
  {
   "cell_type": "markdown",
   "metadata": {},
   "source": [
    "## Topological Order"
   ]
  },
  {
   "cell_type": "markdown",
   "metadata": {},
   "source": [
    "Directed Acyclic Graph (DAG)\n",
    "> Note that topological Sort is not DFS"
   ]
  },
  {
   "cell_type": "markdown",
   "metadata": {},
   "source": [
    "Time Complexity $\\mathcal O(V\\times E)$"
   ]
  },
  {
   "cell_type": "code",
   "execution_count": 129,
   "metadata": {},
   "outputs": [],
   "source": [
    "public class Solution {\n",
    "    private Set<Integer> visited = new HashSet<>();\n",
    "    private Map<Integer, List<Integer>> graph = new HashMap<>();\n",
    "    private Set<Integer> cycle = new HashSet<>();\n",
    "    public int[] solve(int n, int[][] edges) {\n",
    "        for (int[] edge : edges) {\n",
    "            graph.computeIfAbsent(edge[0], x -> new ArrayList<>())\n",
    "                .add(edge[1]);\n",
    "            graph.computeIfAbsent(edge[1], x -> new ArrayList<>());\n",
    "        }\n",
    "        System.out.println(graph);\n",
    "        ArrayDeque<Integer> stack = new ArrayDeque<>();\n",
    "        for (int i = 0; i < n; ++i) {\n",
    "            if (!visited.contains(i)) {\n",
    "                if (!dfs(i, stack)) return new int[] { -1 };\n",
    "            }\n",
    "        }\n",
    "        int[] answer = new int[stack.size()];\n",
    "        int i = 0;\n",
    "        while (!stack.isEmpty()) answer[i++] = stack.pop();\n",
    "        return answer;\n",
    "    } \n",
    "    private boolean dfs(int i, ArrayDeque<Integer> stack) {\n",
    "        visited.add(i);\n",
    "        if (cycle.contains(i)) return false;\n",
    "        cycle.add(i);        \n",
    "        for (int neighbor : graph.get(i)) {\n",
    "            if (!visited.contains(neighbor)) {\n",
    "                if (!dfs(neighbor, stack)) return false;\n",
    "            }\n",
    "        }\n",
    "        cycle.remove(i);\n",
    "        stack.push(i);\n",
    "        return true;\n",
    "    }\n",
    "}"
   ]
  },
  {
   "cell_type": "code",
   "execution_count": 130,
   "metadata": {},
   "outputs": [
    {
     "name": "stdout",
     "output_type": "stream",
     "text": [
      "{0=[], 1=[], 2=[3], 3=[5, 1], 4=[0, 1], 5=[2, 0]}\n"
     ]
    },
    {
     "data": {
      "text/plain": [
       "[4, 2, 3, 5, 1, 0]"
      ]
     },
     "execution_count": 130,
     "metadata": {},
     "output_type": "execute_result"
    }
   ],
   "source": [
    "int n = 6;\n",
    "int[][] edges = {\n",
    "    {5, 2}, {5, 0}, {3, 5}, \n",
    "    {4, 0}, {4, 1}, \n",
    "    {2, 3}, {3, 1}\n",
    "};\n",
    "Arrays.toString(new Solution().solve(n, edges));"
   ]
  },
  {
   "cell_type": "code",
   "execution_count": 131,
   "metadata": {},
   "outputs": [
    {
     "name": "stdout",
     "output_type": "stream",
     "text": [
      "{0=[], 1=[], 2=[3], 3=[1], 4=[0, 1], 5=[2, 0]}\n"
     ]
    },
    {
     "data": {
      "text/plain": [
       "[5, 4, 2, 3, 1, 0]"
      ]
     },
     "execution_count": 131,
     "metadata": {},
     "output_type": "execute_result"
    }
   ],
   "source": [
    "int n = 6;\n",
    "int[][] edges = {\n",
    "    {5, 2}, {5, 0}, \n",
    "    {4, 0}, {4, 1}, \n",
    "    {2, 3}, {3, 1}    \n",
    "};\n",
    "Arrays.toString(new Solution().solve(n, edges));"
   ]
  },
  {
   "cell_type": "code",
   "execution_count": 168,
   "metadata": {},
   "outputs": [],
   "source": [
    "// Kahn Algorithm\n",
    "public class Solution {\n",
    "    private Set<Integer> visited = new HashSet<>();\n",
    "    private Map<Integer, List<Integer>> graph = new HashMap<>();\n",
    "    private Set<Integer> cycle = new HashSet<>();\n",
    "    public int[] solve(int n, int[][] edges) {\n",
    "        List<Integer> indegree = new ArrayList<>();\n",
    "        for (int i = 0; i < n; ++i) indegree.add(0);\n",
    "        for (int[] edge : edges) {\n",
    "            graph.computeIfAbsent(edge[0], x -> new ArrayList<>())\n",
    "                .add(edge[1]);\n",
    "            graph.computeIfAbsent(edge[1], x -> new ArrayList<>());\n",
    "            indegree.set(edge[1], indegree.get(edge[1]) + 1);\n",
    "        }\n",
    "        Queue<Integer> queue = new LinkedList<>();\n",
    "        for (int i = 0; i < indegree.size(); ++i) {\n",
    "            if (indegree.get(i) == 0) queue.add(i);\n",
    "        }\n",
    "        List<Integer> list = new ArrayList<>();\n",
    "        while (!queue.isEmpty()) {         \n",
    "            int cur = queue.poll();\n",
    "            list.add(cur);\n",
    "            for (int neighbor : graph.get(cur)) {\n",
    "                indegree.set(neighbor, indegree.get(neighbor) - 1);\n",
    "                if (indegree.get(neighbor) == 0) {\n",
    "                    queue.add(neighbor);\n",
    "                }\n",
    "            }\n",
    "        }\n",
    "        int[] answer = new int[list.size()];\n",
    "        for (int i = 0; i < list.size(); ++i) {\n",
    "            answer[i] = list.get(i);\n",
    "        }\n",
    "        return answer;\n",
    "    } \n",
    "}"
   ]
  },
  {
   "cell_type": "code",
   "execution_count": 169,
   "metadata": {},
   "outputs": [
    {
     "data": {
      "text/plain": [
       "[4, 5, 2, 0, 3, 1]"
      ]
     },
     "execution_count": 169,
     "metadata": {},
     "output_type": "execute_result"
    }
   ],
   "source": [
    "int n = 6;\n",
    "int[][] edges = {\n",
    "    {5, 2}, {5, 0}, \n",
    "    {4, 0}, {4, 1}, \n",
    "    {2, 3}, {3, 1}\n",
    "};\n",
    "// topological sort\n",
    "Arrays.toString(new Solution().solve(n, edges));"
   ]
  },
  {
   "cell_type": "markdown",
   "metadata": {},
   "source": [
    "## Find bridges\n",
    "A bridge is an edge of a graph whose deletion increases its number of connected components.\n",
    "<img src='./assets/bridges-in-graph.png'/>"
   ]
  },
  {
   "cell_type": "markdown",
   "metadata": {},
   "source": [
    "Time Complexity $\\mathcal O(|V| + |E|)$"
   ]
  },
  {
   "cell_type": "code",
   "execution_count": 16,
   "metadata": {},
   "outputs": [],
   "source": [
    "public class Solution {\n",
    "    private int time;\n",
    "    // discovery times of each vertex\n",
    "    private int[] disc;\n",
    "    // lowest time seen by each vertex\n",
    "    private int[] low;\n",
    "    private List<List<Integer>> answer;\n",
    "    private Map<Integer, List<Integer>> graph;\n",
    "    public List<List<Integer>> solve(int n, int[][] edges) {\n",
    "        // build graph non-direct \n",
    "        graph = new HashMap<>();\n",
    "        for (int[] edge : edges) {\n",
    "            graph.computeIfAbsent(edge[0], x -> new ArrayList<>())\n",
    "                .add(edge[1]);\n",
    "            graph.computeIfAbsent(edge[1], x -> new ArrayList<>())\n",
    "                .add(edge[0]);\n",
    "        }\n",
    "        time = 0;\n",
    "        answer = new ArrayList<>();\n",
    "        disc = new int[n];\n",
    "        Arrays.fill(disc, -1);\n",
    "        low = new int[n];\n",
    "        Arrays.fill(low, -1);\n",
    "        for (int vertex : graph.keySet()) {\n",
    "            if (disc[vertex] == -1) dfs(vertex, vertex);\n",
    "        }\n",
    "        return answer;\n",
    "    }\n",
    "    private void dfs(int parent, int vertex) {\n",
    "        // we mark the time and lowest time seen\n",
    "        // that are initialized equal\n",
    "        disc[vertex] = time++;\n",
    "        low[vertex] = disc[vertex];\n",
    "        for (int neighbor : graph.get(vertex)) {\n",
    "            if (disc[neighbor] == -1) {\n",
    "                dfs(vertex, neighbor);\n",
    "                // mark what is the lowest time seen by the current vertex\n",
    "                low[vertex] = Math.min(low[vertex], low[neighbor]);\n",
    "                // if the lowest time seen by this neighbor node \n",
    "                // is itself. That means that it did not see any node\n",
    "                // in previous node to current vertex\n",
    "                // basically we ask to neighbor if it saw a previous node\n",
    "                if (low[neighbor] == disc[neighbor]) {\n",
    "                    answer.add(List.of(vertex, neighbor));\n",
    "                }\n",
    "            } else if (parent != neighbor) {\n",
    "                // if neighbor is different than parent of current node\n",
    "                // we mark the lowest time seen with the *discover time\n",
    "                // of the neighbor node \n",
    "                low[vertex] = Math.min(low[vertex], disc[neighbor]);\n",
    "            }\n",
    "        }\n",
    "    }\n",
    "}"
   ]
  },
  {
   "cell_type": "code",
   "execution_count": 17,
   "metadata": {},
   "outputs": [
    {
     "data": {
      "text/plain": [
       "[[1, 3]]"
      ]
     },
     "execution_count": 17,
     "metadata": {},
     "output_type": "execute_result"
    }
   ],
   "source": [
    "int[][] edges = {{0,1},{1,2},{2,0},{1,3}};\n",
    "new Solution().solve(4, edges);"
   ]
  },
  {
   "cell_type": "code",
   "execution_count": null,
   "metadata": {},
   "outputs": [],
   "source": []
  }
 ],
 "metadata": {
  "kernelspec": {
   "display_name": "Java",
   "language": "java",
   "name": "java"
  },
  "language_info": {
   "codemirror_mode": "java",
   "file_extension": ".jshell",
   "mimetype": "text/x-java-source",
   "name": "Java",
   "pygments_lexer": "java",
   "version": "11.0.3+7"
  }
 },
 "nbformat": 4,
 "nbformat_minor": 2
}
