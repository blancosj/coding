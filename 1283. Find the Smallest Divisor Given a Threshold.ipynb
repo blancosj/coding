{
 "cells": [
  {
   "cell_type": "markdown",
   "metadata": {},
   "source": [
    "## <a href='https://leetcode.com/problems/find-the-smallest-divisor-given-a-threshold/'>1283. Find the Smallest Divisor Given a Threshold</a>\n",
    "\n",
    "Given an array of integers nums and an integer threshold, we will choose a positive integer divisor and divide all the array by it and sum the result of the division. Find the smallest divisor such that the result mentioned above is less than or equal to threshold.\n",
    "\n",
    "Each result of division is rounded to the nearest integer greater than or equal to that element. (For example: 7/3 = 3 and 10/2 = 5).\n",
    "\n",
    "It is guaranteed that there will be an answer.\n",
    "\n",
    "__Example 1:__\n",
    "```\n",
    "Input: nums = [1,2,5,9], threshold = 6\n",
    "Output: 5\n",
    "Explanation: We can get a sum to 17 (1+2+5+9) if the divisor is 1. \n",
    "If the divisor is 4 we can get a sum to 7 (1+1+2+3) and if the divisor is 5 the sum will be 5 (1+1+1+2). \n",
    "```\n",
    "__Example 2:__\n",
    "```\n",
    "Input: nums = [2,3,5,7,11], threshold = 11\n",
    "Output: 3\n",
    "```\n",
    "__Example 3:__\n",
    "```\n",
    "Input: nums = [19], threshold = 5\n",
    "Output: 4\n",
    "``` \n",
    "__Constraints:__\n",
    "* 1 <= nums.length <= 5 * 10^4\n",
    "* 1 <= nums[i] <= 10^6\n",
    "* nums.length <= threshold <= 10^6"
   ]
  },
  {
   "cell_type": "code",
   "execution_count": 1,
   "metadata": {},
   "outputs": [],
   "source": [
    "public class Solution {\n",
    "    public int smallestDivisor(int[] nums, int threshold) {\n",
    "        int max = nums[0];\n",
    "        int n = nums.length;\n",
    "        for (int i = 1; i < n; ++i) max = Math.max(nums[i], max);\n",
    "        int left = 0, right = max;\n",
    "        int result = Integer.MAX_VALUE;\n",
    "        while (left < right) {\n",
    "            int mid = left + (right - left) / 2;\n",
    "            int r = calc(nums, mid);\n",
    "            // System.out.println(String.format(\"(mid=%d r=%d t:%d)\", mid, r, threshold));\n",
    "            if (r > threshold) {\n",
    "                left = mid + 1;\n",
    "            } else {\n",
    "                right = mid;\n",
    "            }\n",
    "        }\n",
    "        return left;\n",
    "    }\n",
    "    private int calc(int[] nums, double divisor) {\n",
    "        double result = 0;\n",
    "        for (int num : nums) {\n",
    "            result += Math.ceil(num / divisor);\n",
    "        }\n",
    "        return (int) result;\n",
    "    }\n",
    "}"
   ]
  },
  {
   "cell_type": "code",
   "execution_count": 2,
   "metadata": {},
   "outputs": [
    {
     "data": {
      "text/plain": [
       "5"
      ]
     },
     "execution_count": 2,
     "metadata": {},
     "output_type": "execute_result"
    }
   ],
   "source": [
    "new Solution().smallestDivisor(new int[] {1,2,5,9}, 6);"
   ]
  },
  {
   "cell_type": "code",
   "execution_count": 3,
   "metadata": {},
   "outputs": [
    {
     "data": {
      "text/plain": [
       "3"
      ]
     },
     "execution_count": 3,
     "metadata": {},
     "output_type": "execute_result"
    }
   ],
   "source": [
    "new Solution().smallestDivisor(new int[] {2,3,5,7,11}, 11);"
   ]
  },
  {
   "cell_type": "code",
   "execution_count": 4,
   "metadata": {
    "scrolled": true
   },
   "outputs": [
    {
     "data": {
      "text/plain": [
       "4"
      ]
     },
     "execution_count": 4,
     "metadata": {},
     "output_type": "execute_result"
    }
   ],
   "source": [
    "new Solution().smallestDivisor(new int[] {19}, 5);"
   ]
  },
  {
   "cell_type": "code",
   "execution_count": 19,
   "metadata": {},
   "outputs": [],
   "source": [
    "public class Solution {\n",
    "    public int smallestDivisor(int[] nums, int threshold) {\n",
    "        int n = nums.length;\n",
    "        int left = 1, right = nums[n - 1];\n",
    "        while (left < right) {\n",
    "            int mid = left + (right - left) / 2;\n",
    "            long r = computeSum(nums, mid);\n",
    "            if (r > threshold) {\n",
    "                left = mid + 1;\n",
    "            } else {\n",
    "                right = mid;\n",
    "            }\n",
    "        }\n",
    "        return left;\n",
    "    }\n",
    "    public long computeSum(int[] nums, int x) {\n",
    "        long result = 0;\n",
    "        for (int num : nums) {\n",
    "            result += num / x + (num % x == 0 ? 0 : 1);\n",
    "            // also\n",
    "            // result += (num + x - 1) / x;\n",
    "        }\n",
    "        return result;\n",
    "    }\n",
    "    public static long roundUp(long num, long divisor) {\n",
    "        return num / divisor + (num % divisor == 0 ? 0 : 1);\n",
    "    }\n",
    "    public static long roundUp2(long num, long divisor) {\n",
    "        return (num + divisor - 1) / divisor;\n",
    "    }    \n",
    "}"
   ]
  },
  {
   "cell_type": "code",
   "execution_count": 20,
   "metadata": {},
   "outputs": [
    {
     "data": {
      "text/plain": [
       "5"
      ]
     },
     "execution_count": 20,
     "metadata": {},
     "output_type": "execute_result"
    }
   ],
   "source": [
    "new Solution().smallestDivisor(new int[] {1,2,5,9}, 6);"
   ]
  },
  {
   "cell_type": "code",
   "execution_count": 21,
   "metadata": {},
   "outputs": [
    {
     "data": {
      "text/plain": [
       "3"
      ]
     },
     "execution_count": 21,
     "metadata": {},
     "output_type": "execute_result"
    }
   ],
   "source": [
    "new Solution().smallestDivisor(new int[] {2,3,5,7,11}, 11);"
   ]
  },
  {
   "cell_type": "code",
   "execution_count": 22,
   "metadata": {
    "scrolled": true
   },
   "outputs": [
    {
     "data": {
      "text/plain": [
       "4"
      ]
     },
     "execution_count": 22,
     "metadata": {},
     "output_type": "execute_result"
    }
   ],
   "source": [
    "new Solution().smallestDivisor(new int[] {19}, 5);"
   ]
  },
  {
   "cell_type": "code",
   "execution_count": null,
   "metadata": {},
   "outputs": [],
   "source": []
  },
  {
   "cell_type": "code",
   "execution_count": null,
   "metadata": {},
   "outputs": [],
   "source": []
  }
 ],
 "metadata": {
  "kernelspec": {
   "display_name": "Java",
   "language": "java",
   "name": "java"
  },
  "language_info": {
   "codemirror_mode": "java",
   "file_extension": ".jshell",
   "mimetype": "text/x-java-source",
   "name": "Java",
   "pygments_lexer": "java",
   "version": "11.0.3+7"
  }
 },
 "nbformat": 4,
 "nbformat_minor": 2
}
