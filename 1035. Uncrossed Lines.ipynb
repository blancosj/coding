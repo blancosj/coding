{
 "cells": [
  {
   "cell_type": "markdown",
   "metadata": {},
   "source": [
    "We write the integers of A and B (in the order they are given) on two separate horizontal lines.\n",
    "\n",
    "Now, we may draw connecting lines: a straight line connecting two numbers A[i] and B[j] such that:\n",
    "\n",
    "A[i] == B[j];\n",
    "The line we draw does not intersect any other connecting (non-horizontal) line.\n",
    "Note that a connecting lines cannot intersect even at the endpoints: each number can only belong to one connecting line.\n",
    "\n",
    "Return the maximum number of connecting lines we can draw in this way.\n",
    "\n",
    "Example 1:\n",
    "```\n",
    "Input: A = [1,4,2], B = [1,2,4]\n",
    "Output: 2\n",
    "Explanation: We can draw 2 uncrossed lines as in the diagram.\n",
    "We cannot draw 3 uncrossed lines, because the line from A[1]=4 to B[2]=4 will intersect the line from A[2]=2 to B[1]=2.\n",
    "```\n",
    "Example 2:\n",
    "```\n",
    "Input: A = [2,5,1,2,5], B = [10,5,2,1,5,2]\n",
    "Output: 3\n",
    "```\n",
    "Example 3:\n",
    "```\n",
    "Input: A = [1,3,7,1,7,5], B = [1,9,2,5,1]\n",
    "Output: 2\n",
    "```\n",
    "Note:\n",
    "\n",
    "* 1 <= A.length <= 500\n",
    "* 1 <= B.length <= 500\n",
    "* 1 <= A[i], B[i] <= 2000"
   ]
  },
  {
   "cell_type": "markdown",
   "metadata": {},
   "source": [
    "Time Complexity $O(2^n)$ with DP Top Down $O(m * n)$"
   ]
  },
  {
   "cell_type": "code",
   "execution_count": 24,
   "metadata": {},
   "outputs": [],
   "source": [
    "public class Solution {\n",
    "    public int maxUncrossedLines(int[] A, int[] B) {\n",
    "        int[][] dp = new int[A.length][B.length];\n",
    "        for (int i = 0; i < A.length; ++i) Arrays.fill(dp[i], -1);\n",
    "        return dfs(A, B, 0, 0, dp);\n",
    "    }\n",
    "    private int dfs(int[] A, int[] B, int ai, int bi, int[][] dp) {\n",
    "        if (ai == A.length || bi == B.length) {\n",
    "            return 0;\n",
    "        }\n",
    "        if (dp[ai][bi] != -1) return dp[ai][bi];\n",
    "        int result = 0;\n",
    "        if (A[ai] == B[bi]) {\n",
    "            result = 1 + dfs(A, B, ai + 1, bi + 1, dp);\n",
    "        } else {\n",
    "            result = Math.max(dfs(A, B, ai + 1, bi, dp), dfs(A, B, ai, bi + 1, dp));\n",
    "        }\n",
    "        return dp[ai][bi] = result;\n",
    "    }\n",
    "}"
   ]
  },
  {
   "cell_type": "code",
   "execution_count": 25,
   "metadata": {},
   "outputs": [
    {
     "data": {
      "text/plain": [
       "3"
      ]
     },
     "execution_count": 25,
     "metadata": {},
     "output_type": "execute_result"
    }
   ],
   "source": [
    "int[] A = { 2,5,1,2,5 };\n",
    "int[] B = { 10,5,2,1,5,2 };\n",
    "new Solution().maxUncrossedLines(A, B);"
   ]
  },
  {
   "cell_type": "code",
   "execution_count": 26,
   "metadata": {},
   "outputs": [
    {
     "data": {
      "text/plain": [
       "2"
      ]
     },
     "execution_count": 26,
     "metadata": {},
     "output_type": "execute_result"
    }
   ],
   "source": [
    "int[] A = { 1,3,7,1,7,5 };\n",
    "int[] B = { 1,9,2,5,1 };\n",
    "new Solution().maxUncrossedLines(A, B);"
   ]
  },
  {
   "cell_type": "markdown",
   "metadata": {},
   "source": [
    "Time Complexity $O(n * m)$"
   ]
  },
  {
   "cell_type": "code",
   "execution_count": 27,
   "metadata": {},
   "outputs": [],
   "source": [
    "public class Solution {\n",
    "    public int maxUncrossedLines(int[] A, int[] B) {\n",
    "        int[][] dp = new int[A.length + 1][B.length + 1];\n",
    "        for (int j = A.length - 1; j >= 0; --j) {\n",
    "            for (int i = B.length - 1; i >= 0; --i) {\n",
    "                int result = 0;\n",
    "                if (A[j] == B[i]) {\n",
    "                    result = dp[j + 1][i + 1] + 1; \n",
    "                } else {\n",
    "                    result = Math.max(dp[j][i + 1], dp[j + 1][i]);\n",
    "                }\n",
    "                dp[j][i] = result;\n",
    "            }\n",
    "        }\n",
    "        return dp[0][0];\n",
    "    }\n",
    "}"
   ]
  },
  {
   "cell_type": "code",
   "execution_count": 28,
   "metadata": {},
   "outputs": [
    {
     "data": {
      "text/plain": [
       "3"
      ]
     },
     "execution_count": 28,
     "metadata": {},
     "output_type": "execute_result"
    }
   ],
   "source": [
    "int[] A = { 2,5,1,2,5 };\n",
    "int[] B = { 10,5,2,1,5,2 };\n",
    "new Solution().maxUncrossedLines(A, B);"
   ]
  },
  {
   "cell_type": "code",
   "execution_count": 29,
   "metadata": {},
   "outputs": [
    {
     "data": {
      "text/plain": [
       "2"
      ]
     },
     "execution_count": 29,
     "metadata": {},
     "output_type": "execute_result"
    }
   ],
   "source": [
    "int[] A = { 1,3,7,1,7,5 };\n",
    "int[] B = { 1,9,2,5,1 };\n",
    "new Solution().maxUncrossedLines(A, B);"
   ]
  },
  {
   "cell_type": "code",
   "execution_count": null,
   "metadata": {},
   "outputs": [],
   "source": []
  }
 ],
 "metadata": {
  "kernelspec": {
   "display_name": "Java",
   "language": "java",
   "name": "java"
  },
  "language_info": {
   "codemirror_mode": "java",
   "file_extension": ".jshell",
   "mimetype": "text/x-java-source",
   "name": "Java",
   "pygments_lexer": "java",
   "version": "11.0.3+7"
  }
 },
 "nbformat": 4,
 "nbformat_minor": 2
}
