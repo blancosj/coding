{
 "cells": [
  {
   "cell_type": "markdown",
   "metadata": {},
   "source": [
    "## <a href='https://leetcode.com/problems/spiral-matrix-ii/'>59. Spiral Matrix II</a>\n",
    "Given a positive integer n, generate an n x n matrix filled with elements from 1 to n2 in spiral order.\n",
    "\n",
    "__Example 1:__\n",
    "```\n",
    "Input: n = 3\n",
    "Output: [[1,2,3],[8,9,4],[7,6,5]]\n",
    "```\n",
    "__Example 2:__\n",
    "```\n",
    "Input: n = 1\n",
    "Output: [[1]]\n",
    "``` \n",
    "__Constraints:__\n",
    "```\n",
    "1 <= n <= 20\n",
    "```"
   ]
  },
  {
   "cell_type": "code",
   "execution_count": null,
   "metadata": {},
   "outputs": [],
   "source": [
    "public class Solution59 {\n",
    "    public int[][] solve(int n) {\n",
    "        int[][] result = new int[n][n];\n",
    "        int idx = 1;\n",
    "        for (int i = 0; i < n / 2; ++i) {\n",
    "            for (int k = i; k < n - 1 - i; ++k) result[i][k] = idx++;\n",
    "            for (int k = i; k < n - 1 - i; ++k) result[k][n - 1 - i] = idx++;\n",
    "            for (int k = i; k < n - 1 - i; ++k) result[n - 1 - i][n - 1 - k] = idx++;\n",
    "            for (int k = i; k < n - 1 - i; ++k) result[n - 1 - k][i] = idx++;\n",
    "        }\n",
    "        if (n % 2 != 0) result[n / 2][n / 2] = idx++;\n",
    "        return result;\n",
    "    }\n",
    "}"
   ]
  },
  {
   "cell_type": "code",
   "execution_count": null,
   "metadata": {},
   "outputs": [],
   "source": [
    "Arrays.deepToString(new Solution59().solve(4));"
   ]
  },
  {
   "cell_type": "code",
   "execution_count": null,
   "metadata": {},
   "outputs": [],
   "source": [
    "Arrays.deepToString(new Solution59().solve(3));"
   ]
  },
  {
   "cell_type": "code",
   "execution_count": null,
   "metadata": {},
   "outputs": [],
   "source": [
    "public class Solution59 {\n",
    "    public int[][] solve(int n) {\n",
    "        int[][] dir = {{0,1},{1,0},{0,-1},{-1,0}};\n",
    "        int idx = 0, total = n * n, row = 0, col = 0, d = 0;\n",
    "        int[][] result = new int[n][n];\n",
    "        while (idx < total) {\n",
    "            result[row][col] = ++idx;\n",
    "            int r = (((row + dir[d][0]) % n) + n) % n;\n",
    "            int c = (((col + dir[d][1]) % n) + n) % n;\n",
    "            if (result[r][c] != 0) d = (d + 1) % 4;\n",
    "            row += dir[d][0];\n",
    "            col += dir[d][1];\n",
    "        }\n",
    "        return result;\n",
    "    }\n",
    "}"
   ]
  },
  {
   "cell_type": "code",
   "execution_count": null,
   "metadata": {},
   "outputs": [],
   "source": [
    "Arrays.deepToString(new Solution59().solve(2));"
   ]
  },
  {
   "cell_type": "code",
   "execution_count": null,
   "metadata": {},
   "outputs": [],
   "source": [
    "Arrays.deepToString(new Solution59().solve(4));"
   ]
  },
  {
   "cell_type": "code",
   "execution_count": null,
   "metadata": {},
   "outputs": [],
   "source": [
    "Arrays.deepToString(new Solution59().solve(3));"
   ]
  },
  {
   "cell_type": "code",
   "execution_count": 7,
   "metadata": {},
   "outputs": [],
   "source": [
    "public class Solution54 {\n",
    "    public List<Integer> solve(int[][] matrix) {\n",
    "        int n = matrix.length;\n",
    "        int m = matrix[0].length;\n",
    "        int row = 0, col = 0, d = 0;\n",
    "        int[][] dir = {{0,1},{1,0},{0,-1},{-1,0}};\n",
    "        int area = n * m;\n",
    "        List<Integer> result = new ArrayList<>();\n",
    "        for (int i = 0; i < area - 1; ++i) {\n",
    "            result.add(matrix[row][col]);\n",
    "            matrix[row][col] = -101;\n",
    "            int r = row + dir[d][0];\n",
    "            int c = col + dir[d][1];\n",
    "            while (r < 0 || r >= n || c < 0 || c >= m || matrix[r][c] == -101) {\n",
    "                d = (d + 1) % 4;\n",
    "                r = row + dir[d][0];\n",
    "                c = col + dir[d][1];\n",
    "            }\n",
    "            row = r;\n",
    "            col = c;\n",
    "        }\n",
    "        result.add(matrix[row][col]);\n",
    "        return result;\n",
    "    }\n",
    "}"
   ]
  },
  {
   "cell_type": "code",
   "execution_count": 8,
   "metadata": {},
   "outputs": [
    {
     "data": {
      "text/plain": [
       "[1, 2, 3, 6, 9, 8, 7, 4, 5]"
      ]
     },
     "execution_count": 8,
     "metadata": {},
     "output_type": "execute_result"
    }
   ],
   "source": [
    "int[][] matrix = {{1,2,3},{4,5,6},{7,8,9}};\n",
    "new Solution54().solve(matrix);"
   ]
  },
  {
   "cell_type": "code",
   "execution_count": 9,
   "metadata": {},
   "outputs": [
    {
     "data": {
      "text/plain": [
       "[1, 2, 3, 4, 8, 12, 11, 10, 9, 5, 6, 7]"
      ]
     },
     "execution_count": 9,
     "metadata": {},
     "output_type": "execute_result"
    }
   ],
   "source": [
    "int[][] matrix = {{1,2,3,4},{5,6,7,8},{9,10,11,12}};\n",
    "new Solution54().solve(matrix);"
   ]
  },
  {
   "cell_type": "code",
   "execution_count": 40,
   "metadata": {},
   "outputs": [],
   "source": [
    "public class Solution54 {\n",
    "    public List<Integer> solve(int[][] matrix) {\n",
    "        List<Integer> result = new ArrayList<>();\n",
    "        int n = matrix.length, m = matrix[0].length;\n",
    "        int r1 = 0, r2 = matrix.length - 1;\n",
    "        int c1 = 0, c2 = matrix[0].length - 1;\n",
    "        while (r1 <= r2 && c1 <= c2) {\n",
    "            for (int c = c1; c <= c2; ++c) result.add(matrix[r1][c]);\n",
    "            for (int r = r1 + 1; r <= r2; ++r) result.add(matrix[r][c2]);\n",
    "            if (r1 < r2 && c1 < c2) {\n",
    "                for (int c = c2 - 1; c >= c1; --c) result.add(matrix[r2][c]);\n",
    "                for (int r = r2 - 1; r > r1; --r) result.add(matrix[r][c1]);\n",
    "            }\n",
    "            r1++; r2--;\n",
    "            c1++; c2--;\n",
    "        } \n",
    "        return result;\n",
    "    }\n",
    "}"
   ]
  },
  {
   "cell_type": "code",
   "execution_count": 41,
   "metadata": {},
   "outputs": [
    {
     "data": {
      "text/plain": [
       "[1, 2, 3, 4, 8, 12, 11, 10, 9, 5, 6, 7]"
      ]
     },
     "execution_count": 41,
     "metadata": {},
     "output_type": "execute_result"
    }
   ],
   "source": [
    "int[][] matrix = {{1,2,3,4},{5,6,7,8},{9,10,11,12}};\n",
    "new Solution54().solve(matrix);"
   ]
  },
  {
   "cell_type": "code",
   "execution_count": 42,
   "metadata": {},
   "outputs": [
    {
     "data": {
      "text/plain": [
       "[1, 2]"
      ]
     },
     "execution_count": 42,
     "metadata": {},
     "output_type": "execute_result"
    }
   ],
   "source": [
    "int[][] matrix = {{1},{2}};\n",
    "new Solution54().solve(matrix);"
   ]
  },
  {
   "cell_type": "code",
   "execution_count": 43,
   "metadata": {},
   "outputs": [
    {
     "data": {
      "text/plain": [
       "[1, 2, 3, 6, 9, 8, 7, 4, 5]"
      ]
     },
     "execution_count": 43,
     "metadata": {},
     "output_type": "execute_result"
    }
   ],
   "source": [
    "int[][] matrix = {{1,2,3},{4,5,6},{7,8,9}};\n",
    "new Solution54().solve(matrix);"
   ]
  },
  {
   "cell_type": "code",
   "execution_count": 65,
   "metadata": {},
   "outputs": [],
   "source": [
    "public class Solution885 {\n",
    "    public int[][] solve(int R, int C, int r0, int c0) {\n",
    "        // strategy calculate and filter\n",
    "        // tactic 1 1 2 2 3 3 ...\n",
    "        int row = r0, col = c0, d = 0, count = 1, steps = 1;\n",
    "        int[][] dir = {{0,1},{1,0},{0,-1},{-1,0}};\n",
    "        List<int[]> result = new ArrayList<>();\n",
    "        result.add(new int[] {r0, c0});\n",
    "        while (result.size() < R * C) {\n",
    "            for (int i = 0; i < steps; ++i) {\n",
    "                row += dir[d][0];\n",
    "                col += dir[d][1];\n",
    "                if (row >= 0 && row < R && col >= 0 && col < C) {\n",
    "                    result.add(new int[]{row, col});\n",
    "                }\n",
    "            }\n",
    "            if ((count & 1) == 0) steps++;\n",
    "            count++;\n",
    "            d = (d + 1) % 4;\n",
    "        }\n",
    "        return result.toArray(new int[0][]);\n",
    "    }\n",
    "}"
   ]
  },
  {
   "cell_type": "code",
   "execution_count": 67,
   "metadata": {},
   "outputs": [
    {
     "data": {
      "text/plain": [
       "[[0, 0], [0, 1], [1, 1], [1, 0], [0, 2], [1, 2], [0, 3], [1, 3], [0, 4], [1, 4], [0, 5], [1, 5]]"
      ]
     },
     "execution_count": 67,
     "metadata": {},
     "output_type": "execute_result"
    }
   ],
   "source": [
    "Arrays.deepToString(new Solution885().solve(2, 6, 0, 0));\n",
    "// [[0,0],[0,1],[1,1],[1,0],[0,2],[1,2],[0,3],[1,3],[0,4],[1,4],[0,5],[1,5]]"
   ]
  },
  {
   "cell_type": "code",
   "execution_count": 68,
   "metadata": {},
   "outputs": [
    {
     "data": {
      "text/plain": [
       "[[0, 0], [0, 1], [1, 1], [1, 0]]"
      ]
     },
     "execution_count": 68,
     "metadata": {},
     "output_type": "execute_result"
    }
   ],
   "source": [
    "Arrays.deepToString(new Solution885().solve(2, 2, 0, 0));\n",
    "// [[0,0],[0,1],[1,1],[1,0]]    "
   ]
  },
  {
   "cell_type": "code",
   "execution_count": null,
   "metadata": {},
   "outputs": [],
   "source": []
  }
 ],
 "metadata": {
  "kernelspec": {
   "display_name": "Java",
   "language": "java",
   "name": "java"
  },
  "language_info": {
   "codemirror_mode": "java",
   "file_extension": ".jshell",
   "mimetype": "text/x-java-source",
   "name": "Java",
   "pygments_lexer": "java",
   "version": "11.0.3+7"
  }
 },
 "nbformat": 4,
 "nbformat_minor": 2
}
