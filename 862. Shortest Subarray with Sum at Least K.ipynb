{
 "cells": [
  {
   "cell_type": "markdown",
   "metadata": {},
   "source": [
    "Return the length of the shortest, non-empty, contiguous subarray of A with sum at least K.\n",
    "\n",
    "If there is no non-empty subarray with sum at least K, return -1.\n",
    "\n",
    "Example 1:\n",
    "```\n",
    "Input: A = [1], K = 1\n",
    "Output: 1\n",
    "```\n",
    "Example 2:\n",
    "```\n",
    "Input: A = [1,2], K = 4\n",
    "Output: -1\n",
    "```\n",
    "Example 3:\n",
    "```\n",
    "Input: A = [2,-1,2], K = 3\n",
    "Output: 3\n",
    "```\n",
    "Note:\n",
    "```\n",
    "1 <= A.length <= 50000\n",
    "-10 ^ 5 <= A[i] <= 10 ^ 5\n",
    "1 <= K <= 10 ^ 9\n",
    "```"
   ]
  },
  {
   "cell_type": "code",
   "execution_count": 13,
   "metadata": {},
   "outputs": [],
   "source": [
    "public class Solution {\n",
    "    public int shortestSubarray(int[] nums, int k) {\n",
    "        int len = nums.length;\n",
    "        int[] sums = new int[len + 1];\n",
    "        for (int i = 0; i < len; ++i) {\n",
    "            sums[i + 1] = sums[i] + nums[i];\n",
    "        }\n",
    "        int result = Integer.MAX_VALUE;\n",
    "        LinkedList<Integer> queue = new LinkedList<>();\n",
    "        for (int i = 0; i < len + 1; ++i) {\n",
    "            while (!queue.isEmpty() && sums[i] <= sums[queue.getLast()]) {\n",
    "                queue.removeLast();\n",
    "            }\n",
    "            while (!queue.isEmpty() && sums[i] >= sums[queue.getFirst()] + k) {\n",
    "               result = Math.min(result, i - queue.removeFirst()); \n",
    "            }\n",
    "            queue.addLast(i);\n",
    "        }\n",
    "        return result == Integer.MAX_VALUE ? -1 : result;\n",
    "    }\n",
    "}"
   ]
  },
  {
   "cell_type": "code",
   "execution_count": 14,
   "metadata": {},
   "outputs": [
    {
     "data": {
      "text/plain": [
       "3"
      ]
     },
     "execution_count": 14,
     "metadata": {},
     "output_type": "execute_result"
    }
   ],
   "source": [
    "int[] nums1 = { 2,-1,2 };\n",
    "new Solution().shortestSubarray(nums1, 3);"
   ]
  },
  {
   "cell_type": "code",
   "execution_count": 15,
   "metadata": {},
   "outputs": [
    {
     "data": {
      "text/plain": [
       "3"
      ]
     },
     "execution_count": 15,
     "metadata": {},
     "output_type": "execute_result"
    }
   ],
   "source": [
    "int[] nums1 = { 84,-37,32,40,95 };\n",
    "new Solution().shortestSubarray(nums1, 167);"
   ]
  },
  {
   "cell_type": "code",
   "execution_count": 16,
   "metadata": {},
   "outputs": [
    {
     "data": {
      "text/plain": [
       "1"
      ]
     },
     "execution_count": 16,
     "metadata": {},
     "output_type": "execute_result"
    }
   ],
   "source": [
    "int[] nums1 = { 1 };\n",
    "new Solution().shortestSubarray(nums1, 1);"
   ]
  },
  {
   "cell_type": "code",
   "execution_count": null,
   "metadata": {},
   "outputs": [],
   "source": []
  }
 ],
 "metadata": {
  "kernelspec": {
   "display_name": "Java",
   "language": "java",
   "name": "java"
  },
  "language_info": {
   "codemirror_mode": "java",
   "file_extension": ".jshell",
   "mimetype": "text/x-java-source",
   "name": "Java",
   "pygments_lexer": "java",
   "version": "11.0.3+7"
  }
 },
 "nbformat": 4,
 "nbformat_minor": 2
}
