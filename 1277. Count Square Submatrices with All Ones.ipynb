{
 "cells": [
  {
   "cell_type": "markdown",
   "metadata": {},
   "source": [
    "Given a m * n matrix of ones and zeros, return how many square submatrices have all ones.\n",
    "\n",
    "Example 1:\n",
    "```\n",
    "Input: matrix =\n",
    "[\n",
    "  [0,1,1,1],\n",
    "  [1,1,1,1],\n",
    "  [0,1,1,1]\n",
    "]\n",
    "Output: 15\n",
    "\n",
    "Explanation: \n",
    "There are 10 squares of side 1.\n",
    "There are 4 squares of side 2.\n",
    "There is  1 square of side 3.\n",
    "Total number of squares = 10 + 4 + 1 = 15.\n",
    "```\n",
    "Example 2:\n",
    "```\n",
    "Input: matrix = \n",
    "[\n",
    "  [1,0,1],\n",
    "  [1,1,0],\n",
    "  [1,1,0]\n",
    "]\n",
    "Output: 7\n",
    "Explanation: \n",
    "There are 6 squares of side 1.  \n",
    "There is 1 square of side 2. \n",
    "Total number of squares = 6 + 1 = 7.\n",
    "```\n",
    "Constraints:\n",
    "```\n",
    "1 <= arr.length <= 300\n",
    "1 <= arr[0].length <= 300\n",
    "0 <= arr[i][j] <= 1\n",
    "```"
   ]
  },
  {
   "cell_type": "markdown",
   "metadata": {},
   "source": [
    "Time complexity $O(n^3)$"
   ]
  },
  {
   "cell_type": "code",
   "execution_count": 20,
   "metadata": {},
   "outputs": [],
   "source": [
    "public class Solution {\n",
    "    public int countAllSquares(int[][] matrix) {\n",
    "        int ylen = matrix.length, xlen = matrix[0].length;\n",
    "        int counter = 0;\n",
    "        for (int j = 0; j < ylen; ++j) {\n",
    "            for (int i = 0; i < xlen; ++i) {\n",
    "                counter += biggestSquare(matrix, j, i, ylen, xlen);\n",
    "            }\n",
    "        }\n",
    "        return counter;\n",
    "    }   \n",
    "    public int biggestSquare(int[][] matrix, int y, int x, int ylen, int xlen) {\n",
    "        int size = Math.min(ylen - y, xlen - x);\n",
    "        // 1 1 0\n",
    "        // 1 1 1\n",
    "        // 1 1 1\n",
    "        for (int j = y; j < size + y; ++j) {\n",
    "            for (int i = x; i < size + x; ++i) {\n",
    "                if (matrix[j][i] == 0) {\n",
    "                    size = Math.max(i - x, j - y);\n",
    "                    break;\n",
    "                }\n",
    "            }\n",
    "        }\n",
    "        return size;\n",
    "    }\n",
    "}"
   ]
  },
  {
   "cell_type": "code",
   "execution_count": 21,
   "metadata": {},
   "outputs": [
    {
     "data": {
      "text/plain": [
       "11"
      ]
     },
     "execution_count": 21,
     "metadata": {},
     "output_type": "execute_result"
    }
   ],
   "source": [
    "int[][] square1 = { {1, 1, 0}, {1, 1, 1}, {1, 1, 1} };\n",
    "new Solution().countAllSquares(square1);"
   ]
  },
  {
   "cell_type": "code",
   "execution_count": 35,
   "metadata": {},
   "outputs": [
    {
     "data": {
      "text/plain": [
       "19"
      ]
     },
     "execution_count": 35,
     "metadata": {},
     "output_type": "execute_result"
    }
   ],
   "source": [
    "int[][] square1 = { {1,1,0,0,1}, {1,0,1,1,1}, {1,1,1,1,1}, {1,0,1,0,1}, {0,0,1,0,1} };\n",
    "new Solution().countAllSquares(square1);"
   ]
  },
  {
   "cell_type": "code",
   "execution_count": 22,
   "metadata": {},
   "outputs": [
    {
     "data": {
      "text/plain": [
       "2"
      ]
     },
     "execution_count": 22,
     "metadata": {},
     "output_type": "execute_result"
    }
   ],
   "source": [
    "new Solution().biggestSquare(square1, 0, 0, 3, 3);"
   ]
  },
  {
   "cell_type": "code",
   "execution_count": 23,
   "metadata": {},
   "outputs": [
    {
     "data": {
      "text/plain": [
       "1"
      ]
     },
     "execution_count": 23,
     "metadata": {},
     "output_type": "execute_result"
    }
   ],
   "source": [
    "int[][] square1 = { {1, 0}, {1, 0} };\n",
    "new Solution().biggestSquare(square1, 0, 0, 2, 2);"
   ]
  },
  {
   "cell_type": "code",
   "execution_count": 24,
   "metadata": {},
   "outputs": [
    {
     "data": {
      "text/plain": [
       "1"
      ]
     },
     "execution_count": 24,
     "metadata": {},
     "output_type": "execute_result"
    }
   ],
   "source": [
    "int[][] square1 = { {1, 0}, {1, 1} };\n",
    "new Solution().biggestSquare(square1, 0, 0, 2, 2);"
   ]
  },
  {
   "cell_type": "code",
   "execution_count": 25,
   "metadata": {},
   "outputs": [
    {
     "data": {
      "text/plain": [
       "4"
      ]
     },
     "execution_count": 25,
     "metadata": {},
     "output_type": "execute_result"
    }
   ],
   "source": [
    "int[][] square1 = { {1, 1, 1, 1}, {1, 1, 1, 1}, {1, 1, 1, 1}, {1, 1, 1, 1} };\n",
    "new Solution().biggestSquare(square1, 0, 0, 4, 4);"
   ]
  },
  {
   "cell_type": "code",
   "execution_count": 26,
   "metadata": {},
   "outputs": [
    {
     "data": {
      "text/plain": [
       "3"
      ]
     },
     "execution_count": 26,
     "metadata": {},
     "output_type": "execute_result"
    }
   ],
   "source": [
    "int[][] square1 = { {1, 1, 1, 0}, {1, 1, 1, 1}, {1, 1, 1, 1}, {1, 1, 1, 1} };\n",
    "new Solution().biggestSquare(square1, 0, 0, 4, 4);"
   ]
  },
  {
   "cell_type": "code",
   "execution_count": 27,
   "metadata": {},
   "outputs": [
    {
     "data": {
      "text/plain": [
       "1"
      ]
     },
     "execution_count": 27,
     "metadata": {},
     "output_type": "execute_result"
    }
   ],
   "source": [
    "int[][] square1 = { {1, 0}, {1, 0} };\n",
    "new Solution().biggestSquare(square1, 0, 0, 2, 2);"
   ]
  },
  {
   "cell_type": "code",
   "execution_count": 31,
   "metadata": {},
   "outputs": [
    {
     "data": {
      "text/plain": [
       "14"
      ]
     },
     "execution_count": 31,
     "metadata": {},
     "output_type": "execute_result"
    }
   ],
   "source": [
    "int[][] square1 = { {1, 1, 1}, {1, 1, 1}, {1, 1, 1} };\n",
    "new Solution().countAllSquares(square1);"
   ]
  },
  {
   "cell_type": "code",
   "execution_count": 32,
   "metadata": {},
   "outputs": [
    {
     "data": {
      "text/plain": [
       "7"
      ]
     },
     "execution_count": 32,
     "metadata": {},
     "output_type": "execute_result"
    }
   ],
   "source": [
    "int[][] square1 = { {1, 0, 1}, {1, 1, 0}, {1, 1, 0} };\n",
    "new Solution().countAllSquares(square1);"
   ]
  },
  {
   "cell_type": "code",
   "execution_count": 34,
   "metadata": {},
   "outputs": [
    {
     "data": {
      "text/plain": [
       "0"
      ]
     },
     "execution_count": 34,
     "metadata": {},
     "output_type": "execute_result"
    }
   ],
   "source": [
    "int[][] square1 = { {1, 0, 1}, {1, 1, 0}, {1, 1, 0} };\n",
    "new Solution().biggestSquare(square1, 0, 1, 3, 3);"
   ]
  }
 ],
 "metadata": {
  "kernelspec": {
   "display_name": "Java",
   "language": "java",
   "name": "java"
  },
  "language_info": {
   "codemirror_mode": "java",
   "file_extension": ".jshell",
   "mimetype": "text/x-java-source",
   "name": "Java",
   "pygments_lexer": "java",
   "version": "11.0.3+7"
  }
 },
 "nbformat": 4,
 "nbformat_minor": 2
}
