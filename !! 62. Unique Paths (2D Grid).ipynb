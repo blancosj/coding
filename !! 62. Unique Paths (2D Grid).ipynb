{
 "cells": [
  {
   "cell_type": "markdown",
   "metadata": {},
   "source": [
    "A robot is located at the top-left corner of a m x n grid (marked 'Start' in the diagram below).\n",
    "\n",
    "The robot can only move either down or right at any point in time. The robot is trying to reach the bottom-right corner of the grid (marked 'Finish' in the diagram below).\n",
    "\n",
    "How many possible unique paths are there?\n",
    "\n",
    "Above is a 7 x 3 grid. How many possible unique paths are there?\n",
    "\n",
    "Example 1:\n",
    "```\n",
    "Input: m = 3, n = 2\n",
    "Output: 3\n",
    "```\n",
    "Explanation:\n",
    "From the top-left corner, there are a total of 3 ways to reach the bottom-right corner:\n",
    "1. Right -> Right -> Down\n",
    "2. Right -> Down -> Right\n",
    "3. Down -> Right -> Right\n",
    "\n",
    "Example 2:\n",
    "```\n",
    "Input: m = 7, n = 3\n",
    "Output: 28\n",
    "```\n",
    "Constraints:\n",
    "\n",
    "* 1 <= m, n <= 100\n",
    "* It's guaranteed that the answer will be less than or equal to 2 * 10 ^ 9."
   ]
  },
  {
   "cell_type": "markdown",
   "metadata": {},
   "source": [
    "Time Complexity $O(n\\times m)$"
   ]
  },
  {
   "cell_type": "markdown",
   "metadata": {},
   "source": [
    "Math Solution Time Complexity $\\binom{n}{k} = \\frac{n!}{k! (n-k)!}$"
   ]
  },
  {
   "cell_type": "code",
   "execution_count": 3,
   "metadata": {},
   "outputs": [],
   "source": [
    "public class Solution {\n",
    "    public int uniquePaths(int m, int n) {\n",
    "        int[][] dp = new int[m][n];\n",
    "        for (int j = 0; j < m; ++j) {\n",
    "            for (int i = 0; i < n; ++i) {\n",
    "                if (j == 0 || i == 0) {\n",
    "                    dp[j][i] = 1;\n",
    "                    continue;\n",
    "                }\n",
    "                dp[j][i] = dp[j - 1][i] + dp[j][i - 1];\n",
    "             }\n",
    "        }\n",
    "        return dp[m - 1][n - 1];\n",
    "    }\n",
    "}"
   ]
  },
  {
   "cell_type": "code",
   "execution_count": 4,
   "metadata": {},
   "outputs": [
    {
     "data": {
      "text/plain": [
       "3"
      ]
     },
     "execution_count": 4,
     "metadata": {},
     "output_type": "execute_result"
    }
   ],
   "source": [
    "new Solution().uniquePaths(3, 2);"
   ]
  },
  {
   "cell_type": "code",
   "execution_count": 5,
   "metadata": {},
   "outputs": [
    {
     "data": {
      "text/plain": [
       "28"
      ]
     },
     "execution_count": 5,
     "metadata": {},
     "output_type": "execute_result"
    }
   ],
   "source": [
    "new Solution().uniquePaths(7, 3);"
   ]
  }
 ],
 "metadata": {
  "kernelspec": {
   "display_name": "Java",
   "language": "java",
   "name": "java"
  },
  "language_info": {
   "codemirror_mode": "java",
   "file_extension": ".jshell",
   "mimetype": "text/x-java-source",
   "name": "Java",
   "pygments_lexer": "java",
   "version": "11.0.3+7"
  }
 },
 "nbformat": 4,
 "nbformat_minor": 2
}
