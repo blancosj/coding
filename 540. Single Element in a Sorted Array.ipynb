{
 "cells": [
  {
   "cell_type": "markdown",
   "metadata": {},
   "source": [
    "You are given a sorted array consisting of only integers where every element appears exactly twice, except for one element which appears exactly once. Find this single element that appears only once.\n",
    "Example 1:\n",
    "```\n",
    "Input: [1,1,2,3,3,4,4,8,8]\n",
    "Output: 2\n",
    "```\n",
    "Example 2:\n",
    "```\n",
    "Input: [3,3,7,7,10,11,11]\n",
    "Output: 10\n",
    "```\n",
    "Note: Your solution should run in $O(log n)$ time and $O(1)$ space."
   ]
  },
  {
   "cell_type": "code",
   "execution_count": 8,
   "metadata": {},
   "outputs": [],
   "source": [
    "public class Solution {\n",
    "    public int singleNonDuplicated(int[] nums) {\n",
    "        int len = nums.length;\n",
    "        int low = 0, high = len - 1;\n",
    "        while (low < high) {\n",
    "            int m = (low + high) / 2;\n",
    "            if (nums[m] == nums[m + 1]) {\n",
    "                if ((high - m) % 2 == 0) {\n",
    "                    low = m + 2;\n",
    "                } else {\n",
    "                    high = m - 1;\n",
    "                }\n",
    "            } else if (nums[m] == nums[m - 1]) {\n",
    "                if ((m - low) % 2 == 0) {\n",
    "                    high = m - 2;\n",
    "                } else {\n",
    "                    low = m + 1;\n",
    "                }\n",
    "            } else {\n",
    "                return nums[m];\n",
    "            }\n",
    "        }\n",
    "        return nums[low];\n",
    "    }\n",
    "}"
   ]
  },
  {
   "cell_type": "code",
   "execution_count": 9,
   "metadata": {},
   "outputs": [
    {
     "data": {
      "text/plain": [
       "2"
      ]
     },
     "execution_count": 9,
     "metadata": {},
     "output_type": "execute_result"
    }
   ],
   "source": [
    "int[] nums1 = { 1,1,2,3,3,4,4,8,8 };\n",
    "new Solution().singleNonDuplicated(nums1);"
   ]
  },
  {
   "cell_type": "code",
   "execution_count": 11,
   "metadata": {},
   "outputs": [
    {
     "data": {
      "text/plain": [
       "10"
      ]
     },
     "execution_count": 11,
     "metadata": {},
     "output_type": "execute_result"
    }
   ],
   "source": [
    "int[] nums1 = { 3,3,7,7,10,11,11 };\n",
    "new Solution().singleNonDuplicated(nums1);"
   ]
  },
  {
   "cell_type": "code",
   "execution_count": null,
   "metadata": {},
   "outputs": [],
   "source": []
  }
 ],
 "metadata": {
  "kernelspec": {
   "display_name": "Java",
   "language": "java",
   "name": "java"
  },
  "language_info": {
   "codemirror_mode": "java",
   "file_extension": ".jshell",
   "mimetype": "text/x-java-source",
   "name": "Java",
   "pygments_lexer": "java",
   "version": "11.0.3+7"
  }
 },
 "nbformat": 4,
 "nbformat_minor": 2
}
