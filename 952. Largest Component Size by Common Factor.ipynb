{
 "cells": [
  {
   "cell_type": "markdown",
   "metadata": {},
   "source": [
    "## <a href='https://leetcode.com/problems/largest-component-size-by-common-factor/'>952. Largest Component Size by Common Factor</a>\n",
    "Given a non-empty array of unique positive integers A, consider the following graph:\n",
    "* There are A.length nodes, labelled A[0] to A[A.length - 1];\n",
    "* There is an edge between A[i] and A[j] if and only if A[i] and A[j] share a common factor greater than 1.\n",
    "\n",
    "Return the size of the largest connected component in the graph.\n",
    "\n",
    "__Example 1:__\n",
    "```\n",
    "Input: [4,6,15,35]\n",
    "Output: 4\n",
    "```\n",
    "__Example 2:__\n",
    "```\n",
    "Input: [20,50,9,63]\n",
    "Output: 2\n",
    "```\n",
    "__Example 3:__\n",
    "```\n",
    "Input: [2,3,6,7,4,12,21,39]\n",
    "Output: 8\n",
    "```\n",
    "__Note:__\n",
    "* 1 <= A.length <= 20000\n",
    "* 1 <= A[i] <= 100000"
   ]
  },
  {
   "cell_type": "code",
   "execution_count": 143,
   "metadata": {},
   "outputs": [],
   "source": [
    "public class Solution {\n",
    "    public int largestComponentSize(int[] A) {\n",
    "        int n = A.length;\n",
    "        int maxValue = 0;\n",
    "        for (int num : A) maxValue = Math.max(num, maxValue);\n",
    "        DisjointSetUnion dsu = new DisjointSetUnion(maxValue);\n",
    "        for (int num : A) {\n",
    "            List<Integer> primes = factors(num);\n",
    "            for (int prime : primes) dsu.union(num, prime);\n",
    "        }\n",
    "        Map<Integer, Integer> groupCount = new HashMap<>(); \n",
    "        int answer = 0;\n",
    "        for (int num : A) {\n",
    "            int groupId = dsu.find(num);\n",
    "            groupCount.put(groupId, groupCount.getOrDefault(groupId, 0) + 1);\n",
    "            answer = Math.max(groupCount.get(groupId), answer);\n",
    "        }\n",
    "        return answer;\n",
    "    } \n",
    "    private List<Integer> factors(int num) {\n",
    "        Set<Integer> factors = new HashSet<>();\n",
    "        int factor = 2;\n",
    "        while (num >= factor * factor) {\n",
    "            if (num % factor == 0) {\n",
    "                factors.add(factor);\n",
    "                num /= factor;\n",
    "            } else {\n",
    "                factor++;\n",
    "            }\n",
    "        }\n",
    "        factors.add(num);\n",
    "        return new ArrayList<>(factors);\n",
    "    }\n",
    "    private class DisjointSetUnion {\n",
    "        private int[] parent;\n",
    "        private int[] size;\n",
    "        public DisjointSetUnion(int size) {\n",
    "            this.parent = new int[size + 1];\n",
    "            this.size = new int[size + 1];\n",
    "            for (int i = 0; i <= size; ++i) {\n",
    "                this.parent[i] = i;\n",
    "                this.size[i] = 1;\n",
    "            }\n",
    "        }    \n",
    "        public int find(int x) {\n",
    "            if (parent[x] == x) return x;\n",
    "            return find(parent[x]);\n",
    "        }\n",
    "        public void union(int x, int y) {\n",
    "            int px = find(x);\n",
    "            int py = find(y);\n",
    "            if (size[px] > py) {\n",
    "                int t = px;\n",
    "                px = py;\n",
    "                py = t;\n",
    "            }\n",
    "            parent[px] = py;\n",
    "            size[py]++;\n",
    "        }\n",
    "    }\n",
    "}"
   ]
  },
  {
   "cell_type": "code",
   "execution_count": 144,
   "metadata": {},
   "outputs": [
    {
     "data": {
      "text/plain": [
       "4"
      ]
     },
     "execution_count": 144,
     "metadata": {},
     "output_type": "execute_result"
    }
   ],
   "source": [
    "new Solution().largestComponentSize(new int[] {4,6,15,35});"
   ]
  },
  {
   "cell_type": "code",
   "execution_count": 145,
   "metadata": {},
   "outputs": [
    {
     "data": {
      "text/plain": [
       "2"
      ]
     },
     "execution_count": 145,
     "metadata": {},
     "output_type": "execute_result"
    }
   ],
   "source": [
    "new Solution().largestComponentSize(new int[] {20,50,9,63});"
   ]
  },
  {
   "cell_type": "code",
   "execution_count": 146,
   "metadata": {},
   "outputs": [
    {
     "data": {
      "text/plain": [
       "8"
      ]
     },
     "execution_count": 146,
     "metadata": {},
     "output_type": "execute_result"
    }
   ],
   "source": [
    "new Solution().largestComponentSize(new int[] {2,3,6,7,4,12,21,39});"
   ]
  },
  {
   "cell_type": "code",
   "execution_count": 142,
   "metadata": {},
   "outputs": [],
   "source": [
    "public List<Integer> factors(int num) {\n",
    "    Set<Integer> factors = new HashSet<>();\n",
    "    int factor = 2;\n",
    "    while (num >= factor * factor) {\n",
    "        if (num % factor == 0) {\n",
    "            factors.add(factor);\n",
    "            num /= factor;\n",
    "        } else {\n",
    "            factor++;\n",
    "        }\n",
    "    }\n",
    "    factors.add(num);\n",
    "    return new ArrayList<>(factors);\n",
    "}"
   ]
  },
  {
   "cell_type": "code",
   "execution_count": 126,
   "metadata": {},
   "outputs": [
    {
     "data": {
      "text/plain": [
       "[3, 5]"
      ]
     },
     "execution_count": 126,
     "metadata": {},
     "output_type": "execute_result"
    }
   ],
   "source": [
    "factors(15);"
   ]
  },
  {
   "cell_type": "code",
   "execution_count": 127,
   "metadata": {},
   "outputs": [
    {
     "data": {
      "text/plain": [
       "[2, 5]"
      ]
     },
     "execution_count": 127,
     "metadata": {},
     "output_type": "execute_result"
    }
   ],
   "source": [
    "factors(50);"
   ]
  },
  {
   "cell_type": "code",
   "execution_count": null,
   "metadata": {},
   "outputs": [],
   "source": []
  }
 ],
 "metadata": {
  "kernelspec": {
   "display_name": "Java",
   "language": "java",
   "name": "java"
  },
  "language_info": {
   "codemirror_mode": "java",
   "file_extension": ".jshell",
   "mimetype": "text/x-java-source",
   "name": "Java",
   "pygments_lexer": "java",
   "version": "11.0.3+7"
  }
 },
 "nbformat": 4,
 "nbformat_minor": 2
}
