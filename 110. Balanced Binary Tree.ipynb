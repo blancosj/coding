{
 "cells": [
  {
   "cell_type": "markdown",
   "metadata": {},
   "source": [
    "## <a href=''>110. Balanced Binary Tree</a>\n",
    "Given a binary tree, determine if it is height-balanced.\n",
    "\n",
    "For this problem, a height-balanced binary tree is defined as:\n",
    "\n",
    "> a binary tree in which the left and right subtrees of every node differ in height by no more than 1.\n",
    "\n",
    "__Example 1:__\n",
    "```\n",
    "Input: root = [3,9,20,null,null,15,7]\n",
    "Output: true\n",
    "```\n",
    "__Example 2:__\n",
    "```\n",
    "Input: root = [1,2,2,3,3,null,null,4,4]\n",
    "Output: false\n",
    "```\n",
    "__Example 3:__\n",
    "```\n",
    "Input: root = []\n",
    "Output: true\n",
    "``` \n",
    "__Constraints:__\n",
    "* The number of nodes in the tree is in the range ```[0, 5000]```.\n",
    "* ```-104 <= Node.val <= 104```"
   ]
  },
  {
   "cell_type": "code",
   "execution_count": 10,
   "metadata": {},
   "outputs": [],
   "source": [
    "public class TreeNode {\n",
    "    public TreeNode left, right;\n",
    "    public int val;\n",
    "    public TreeNode() {}\n",
    "    public TreeNode(int val) {\n",
    "        this.val = val;\n",
    "    }\n",
    "    public TreeNode(int val, TreeNode left, TreeNode right) {\n",
    "        this.val = val;\n",
    "        this.left = left;\n",
    "        this.right = right;\n",
    "    }\n",
    "    @Override\n",
    "    public String toString() {\n",
    "        Queue<TreeNode> queue = new LinkedList<>();\n",
    "        queue.offer(this);\n",
    "        StringBuilder result = new StringBuilder();\n",
    "        result.append(\"[\");\n",
    "        while (!queue.isEmpty()) {\n",
    "            TreeNode curr = queue.poll();\n",
    "            if (curr == null) {\n",
    "                result.append(\"null,\");\n",
    "                continue;\n",
    "            }\n",
    "            queue.offer(curr.left);\n",
    "            queue.offer(curr.right);\n",
    "            result.append(curr.val).append(\",\");\n",
    "        } \n",
    "        result.setLength(result.length() - 1);\n",
    "        result.append(\"]\");\n",
    "        return result.toString();\n",
    "    }\n",
    "}"
   ]
  },
  {
   "cell_type": "code",
   "execution_count": 4,
   "metadata": {},
   "outputs": [
    {
     "ename": "CompilationException",
     "evalue": "",
     "output_type": "error",
     "traceback": [
      "\u001b[1m\u001b[30m|   \u001b[1m\u001b[30m    public boolean isBalanced(TreeNode root) \u001b[0m\u001b[1m\u001b[30m\u001b[41m{\u001b[0m",
      "\u001b[1m\u001b[30m|   \u001b[1m\u001b[30m\u001b[41m        \u001b[0m",
      "\u001b[1m\u001b[30m|   \u001b[1m\u001b[30m\u001b[41m    }\u001b[0m",
      "\u001b[1m\u001b[31mmissing return statement\u001b[0m",
      ""
     ]
    }
   ],
   "source": [
    "public class Solution {\n",
    "    public boolean isBalanced(TreeNode root) {\n",
    "        \n",
    "    }\n",
    "}"
   ]
  },
  {
   "cell_type": "code",
   "execution_count": 11,
   "metadata": {},
   "outputs": [
    {
     "data": {
      "text/plain": [
       "[9,3,20,null,null,15,7,null,null,null,null]"
      ]
     },
     "execution_count": 11,
     "metadata": {},
     "output_type": "execute_result"
    }
   ],
   "source": [
    "TreeNode root = new TreeNode(9);\n",
    "root.left = new TreeNode(3);\n",
    "root.right = new TreeNode(20);\n",
    "root.right.left = new TreeNode(15);\n",
    "root.right.right = new TreeNode(7);\n",
    "root;"
   ]
  },
  {
   "cell_type": "code",
   "execution_count": 12,
   "metadata": {},
   "outputs": [
    {
     "data": {
      "text/plain": [
       "[1,2,2,3,3,null,null,4,4,null,null,null,null,null,null]"
      ]
     },
     "execution_count": 12,
     "metadata": {},
     "output_type": "execute_result"
    }
   ],
   "source": [
    "TreeNode root = new TreeNode(1);\n",
    "root.left = new TreeNode(2);\n",
    "root.right = new TreeNode(2);\n",
    "root.left.left = new TreeNode(3);\n",
    "root.left.right = new TreeNode(3);\n",
    "root.left.left.left = new TreeNode(4);\n",
    "root.left.left.right = new TreeNode(4);\n",
    "root;"
   ]
  },
  {
   "cell_type": "code",
   "execution_count": null,
   "metadata": {},
   "outputs": [],
   "source": []
  },
  {
   "cell_type": "code",
   "execution_count": null,
   "metadata": {},
   "outputs": [],
   "source": []
  },
  {
   "cell_type": "code",
   "execution_count": null,
   "metadata": {},
   "outputs": [],
   "source": []
  }
 ],
 "metadata": {
  "kernelspec": {
   "display_name": "Java",
   "language": "java",
   "name": "java"
  },
  "language_info": {
   "codemirror_mode": "java",
   "file_extension": ".jshell",
   "mimetype": "text/x-java-source",
   "name": "Java",
   "pygments_lexer": "java",
   "version": "11.0.3+7"
  }
 },
 "nbformat": 4,
 "nbformat_minor": 2
}
