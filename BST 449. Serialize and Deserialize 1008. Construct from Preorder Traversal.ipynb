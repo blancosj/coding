{
 "cells": [
  {
   "cell_type": "markdown",
   "metadata": {},
   "source": [
    "## <a href='https://leetcode.com/problems/serialize-and-deserialize-bst/'>449. Serialize and Deserialize BST</a>\n",
    "\n",
    "Serialization is converting a data structure or object into a sequence of bits so that it can be stored in a file or memory buffer, or transmitted across a network connection link to be reconstructed later in the same or another computer environment.\n",
    "\n",
    "Design an algorithm to serialize and deserialize a binary search tree. There is no restriction on how your serialization/deserialization algorithm should work. You need to ensure that a binary search tree can be serialized to a string, and this string can be deserialized to the original tree structure.\n",
    "\n",
    "The encoded string should be as compact as possible.\n",
    "\n",
    "__Example 1:__\n",
    "```\n",
    "Input: root = [2,1,3]\n",
    "Output: [2,1,3]\n",
    "```\n",
    "__Example 2:__\n",
    "```\n",
    "Input: root = []\n",
    "Output: []\n",
    "``` \n",
    "__Constraints:__\n",
    "\n",
    "* The number of nodes in the tree is in the range [0, 104].\n",
    "* 0 <= Node.val <= 104\n",
    "* The input tree is guaranteed to be a binary search tree."
   ]
  },
  {
   "cell_type": "code",
   "execution_count": 3,
   "metadata": {},
   "outputs": [],
   "source": [
    "public class TreeNode {\n",
    "    public TreeNode left, right;\n",
    "    public int val;\n",
    "}"
   ]
  },
  {
   "cell_type": "code",
   "execution_count": 4,
   "metadata": {},
   "outputs": [],
   "source": [
    "public class Codec {\n",
    "    // Encodes a tree to a single string.\n",
    "    public String serialize(TreeNode root) {\n",
    "        StringBuilder sb = postOrder(root, new StringBuilder());\n",
    "        if (sb.length() > 0) sb.setLength(sb.length() - 1);\n",
    "        return sb.toString();\n",
    "    }\n",
    "    private StringBuilder postOrder(TreeNode root, StringBuilder sb) {\n",
    "        if (root == null) return sb;\n",
    "        postOrder(root.left, sb);\n",
    "        postOrder(root.right, sb);\n",
    "        sb.append(root.val).append(',');\n",
    "        return sb;\n",
    "    }\n",
    "\n",
    "    // Decodes your encoded data to tree.\n",
    "    public TreeNode deserialize(String data) {\n",
    "        String[] items = data.split(\",\");\n",
    "        ArrayDeque<Integer> deque = new ArrayDeque<>();\n",
    "        for (String item : items) deque.add(Integer.parseInt(item));\n",
    "        return helper(Integer.MIN_VALUE, Integer.MAX_VALUE, deque);\n",
    "    }\n",
    "    private TreeNode helper(int min, int max, ArrayDeque<Integer> deque) {\n",
    "        if (deque.isEmpty()) return null;\n",
    "        int val = deque.peekLast();\n",
    "        if (val < min || val > max) return null;\n",
    "        deque.removeLast();\n",
    "        TreeNode root = new TreeNode(val);\n",
    "        root.right = helper(val, max, deque);\n",
    "        root.left = helper(min, val, deque);\n",
    "        return root;\n",
    "    }\n",
    "}"
   ]
  },
  {
   "cell_type": "markdown",
   "metadata": {},
   "source": [
    "## <a href=''>1008. Construct Binary Search Tree from Preorder Traversal</a>\n",
    "\n",
    "Return the root node of a binary search tree that matches the given preorder traversal.\n",
    "\n",
    "(Recall that a binary search tree is a binary tree where for every node, any descendant of node.left has a value < node.val, and any descendant of node.right has a value > node.val.  Also recall that a preorder traversal displays the value of the node first, then traverses node.left, then traverses node.right.)\n",
    "\n",
    "It's guaranteed that for the given test cases there is always possible to find a binary search tree with the given requirements.\n",
    "\n",
    "__Example 1:__\n",
    "```\n",
    "Input: [8,5,1,7,10,12]\n",
    "Output: [8,5,10,1,7,null,12]\n",
    "```\n",
    "__Constraints:__\n",
    "\n",
    "* 1 <= preorder.length <= 100\n",
    "* 1 <= preorder[i] <= 10^8\n",
    "* The values of preorder are distinct."
   ]
  },
  {
   "cell_type": "code",
   "execution_count": 5,
   "metadata": {},
   "outputs": [
    {
     "data": {
      "text/plain": [
       "-2147483648"
      ]
     },
     "execution_count": 5,
     "metadata": {},
     "output_type": "execute_result"
    }
   ],
   "source": [
    "public class Solution {\n",
    "    public TreeNode bstFromPreorder(int[] nums) {\n",
    "        int n = nums.length;\n",
    "        if (n == 0) return null;\n",
    "        TreeNode root = new TreeNode(nums[0]);\n",
    "        ArrayDeque<TreeNode> deque = new ArrayDeque<>();\n",
    "        deque.push(root);\n",
    "        for (int i = 1; i < n; ++i) {\n",
    "            TreeNode cur = deque.peek();\n",
    "            while (!deque.isEmpty() && deque.peek().val < nums[i]) cur = deque.pop();\n",
    "            TreeNode child = new TreeNode(nums[i]);\n",
    "            if (cur.val > child.val) {\n",
    "                cur.left = child;\n",
    "            } else {\n",
    "                cur.right = child;\n",
    "            }\n",
    "            deque.push(cur);\n",
    "        }\n",
    "        return root;\n",
    "    }\n",
    "}"
   ]
  },
  {
   "cell_type": "code",
   "execution_count": null,
   "metadata": {},
   "outputs": [],
   "source": [
    "public class Solution {\n",
    "    private int[] nums;\n",
    "    public TreeNode bstFromPreorder(int[] nums) {\n",
    "        this.nums = nums;\n",
    "        return helper(Integer.MIN_VALUE, Integer.MAX_VALUE);\n",
    "    }\n",
    "    private TreeNode helper(int start, int min, int max) {\n",
    "        if (start > nums.length) return null;\n",
    "        if (nums[start] >= min && nums[start] <= max) {\n",
    "            TreeNode node = new TreeNode(nums[start]);\n",
    "            node.left = helper(start + 1, min, nums[start]);\n",
    "            node.right = helper(start + 1, nums[start], max);\n",
    "            return node;\n",
    "        }\n",
    "        return helper(start + 1, min, max);\n",
    "    }\n",
    "}"
   ]
  },
  {
   "cell_type": "code",
   "execution_count": null,
   "metadata": {},
   "outputs": [],
   "source": []
  }
 ],
 "metadata": {
  "kernelspec": {
   "display_name": "Java",
   "language": "java",
   "name": "java"
  },
  "language_info": {
   "codemirror_mode": "java",
   "file_extension": ".jshell",
   "mimetype": "text/x-java-source",
   "name": "Java",
   "pygments_lexer": "java",
   "version": "11.0.3+7"
  }
 },
 "nbformat": 4,
 "nbformat_minor": 2
}
