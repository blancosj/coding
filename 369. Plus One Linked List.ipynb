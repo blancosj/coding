{
 "cells": [
  {
   "cell_type": "markdown",
   "metadata": {},
   "source": [
    "## <a href='https://leetcode.com/problems/plus-one-linked-list/'>369. Plus One Linked List<a/>\n",
    "\n",
    "Given a non-negative integer represented as a linked list of digits, plus one to the integer.\n",
    "\n",
    "The digits are stored such that the most significant digit is at the head of the list.\n",
    "\n",
    "__Example 1:__\n",
    "```\n",
    "Input: head = [1,2,3]\n",
    "Output: [1,2,4]\n",
    "```\n",
    "__Example 2:__\n",
    "```\n",
    "Input: head = [0]\n",
    "Output: [1]\n",
    "```\n",
    "__Constraints:__\n",
    "\n",
    "* The number of nodes in the linked list is in the range [1, 100].\n",
    "* 0 <= Node.val <= 9\n",
    "* The number represented by the linked list does not contain leading zeros except for the zero itself. "
   ]
  },
  {
   "cell_type": "code",
   "execution_count": 6,
   "metadata": {},
   "outputs": [],
   "source": [
    "public class ListNode {\n",
    "    public int val;\n",
    "    public ListNode next;\n",
    "    public ListNode(int val) {\n",
    "        this.val = val;\n",
    "    }\n",
    "    public ListNode(int val, ListNode next) {\n",
    "        this.val = val;\n",
    "        this.next = next;\n",
    "    }\n",
    "    public ListNode add(int[] arr) {\n",
    "        ListNode curr = this;\n",
    "        for (int item : arr) {\n",
    "            curr.next = new ListNode(item);\n",
    "            curr = curr.next;\n",
    "        }\n",
    "        return this;\n",
    "    }\n",
    "    @Override\n",
    "    public String toString() {\n",
    "        StringBuilder result = new StringBuilder();\n",
    "        ListNode curr = this;\n",
    "        while (curr != null) {\n",
    "            result.append(curr.val).append(\",\");\n",
    "            curr = curr.next;\n",
    "        }\n",
    "        result.setLength(result.length() - 1); \n",
    "        return result.toString();\n",
    "    }\n",
    "}"
   ]
  },
  {
   "cell_type": "code",
   "execution_count": 11,
   "metadata": {},
   "outputs": [
    {
     "data": {
      "text/plain": [
       "1,2,3"
      ]
     },
     "execution_count": 11,
     "metadata": {},
     "output_type": "execute_result"
    }
   ],
   "source": [
    "ListNode test1 = new ListNode(1).add(new int[] {2,3});\n",
    "test1;"
   ]
  },
  {
   "cell_type": "code",
   "execution_count": 25,
   "metadata": {},
   "outputs": [
    {
     "data": {
      "text/plain": [
       "1"
      ]
     },
     "execution_count": 25,
     "metadata": {},
     "output_type": "execute_result"
    }
   ],
   "source": [
    "ListNode test2 = new ListNode(1); test2;"
   ]
  },
  {
   "cell_type": "code",
   "execution_count": 16,
   "metadata": {},
   "outputs": [
    {
     "data": {
      "text/plain": [
       "9,9,9"
      ]
     },
     "execution_count": 16,
     "metadata": {},
     "output_type": "execute_result"
    }
   ],
   "source": [
    "ListNode test3 = new ListNode(9).add(new int[] {9,9}); test3;"
   ]
  },
  {
   "cell_type": "code",
   "execution_count": 65,
   "metadata": {},
   "outputs": [],
   "source": [
    "public class Solution {\n",
    "    // 0 1 9 1 9 > 0 1 9 2 0\n",
    "    //     ^\n",
    "    // 0 1 9 9 1 > 0 1 9 9 2\n",
    "    //       ^\n",
    "    // 0 9 9 9 9 > 1 0 0 0 0\n",
    "    // ^\n",
    "    public ListNode plusOne(ListNode head) {\n",
    "        ListNode result = new ListNode(0, head);\n",
    "        ListNode notNine = result, curr = head;\n",
    "        while (curr != null) {\n",
    "            if (curr.val != 9) notNine = curr;\n",
    "            curr = curr.next;\n",
    "        }\n",
    "        notNine.val++;\n",
    "        notNine = notNine.next;\n",
    "        while (notNine != null) {\n",
    "            notNine.val = 0;\n",
    "            notNine = notNine.next;\n",
    "        }\n",
    "        return (result.val == 1) ? result : result.next;\n",
    "    }\n",
    "}"
   ]
  },
  {
   "cell_type": "code",
   "execution_count": 66,
   "metadata": {},
   "outputs": [
    {
     "data": {
      "text/plain": [
       "2"
      ]
     },
     "execution_count": 66,
     "metadata": {},
     "output_type": "execute_result"
    }
   ],
   "source": [
    "ListNode test2 = new ListNode(1); test2;\n",
    "new Solution().plusOne(test2);"
   ]
  },
  {
   "cell_type": "code",
   "execution_count": 67,
   "metadata": {},
   "outputs": [
    {
     "data": {
      "text/plain": [
       "1,2,4"
      ]
     },
     "execution_count": 67,
     "metadata": {},
     "output_type": "execute_result"
    }
   ],
   "source": [
    "ListNode test2 = new ListNode(1).add(new int[]{2,3}); test2;\n",
    "new Solution().plusOne(test2);"
   ]
  },
  {
   "cell_type": "code",
   "execution_count": 68,
   "metadata": {},
   "outputs": [
    {
     "data": {
      "text/plain": [
       "2,0,0"
      ]
     },
     "execution_count": 68,
     "metadata": {},
     "output_type": "execute_result"
    }
   ],
   "source": [
    "ListNode test2 = new ListNode(1).add(new int[]{9,9}); test2;\n",
    "new Solution().plusOne(test2);"
   ]
  },
  {
   "cell_type": "code",
   "execution_count": 69,
   "metadata": {},
   "outputs": [
    {
     "data": {
      "text/plain": [
       "1,0,0,0"
      ]
     },
     "execution_count": 69,
     "metadata": {},
     "output_type": "execute_result"
    }
   ],
   "source": [
    "ListNode test2 = new ListNode(9).add(new int[]{9,9}); test2;\n",
    "new Solution().plusOne(test2);"
   ]
  },
  {
   "cell_type": "code",
   "execution_count": 73,
   "metadata": {},
   "outputs": [],
   "source": [
    "public class Solution2 {\n",
    "    private int carry = 0;\n",
    "    public ListNode plusOne(ListNode head) {\n",
    "        carry = 0;\n",
    "        helper(head);\n",
    "        if (carry > 0) return new ListNode(carry, head);\n",
    "        return head;\n",
    "    }\n",
    "    private void helper(ListNode head) {\n",
    "        if (head == null) return;\n",
    "        helper(head.next);\n",
    "        int t = head.val + carry;\n",
    "        if (head.next == null) t++;\n",
    "        head.val = t % 10;\n",
    "        carry = t / 10;        \n",
    "    }\n",
    "}"
   ]
  },
  {
   "cell_type": "code",
   "execution_count": 74,
   "metadata": {},
   "outputs": [
    {
     "data": {
      "text/plain": [
       "2"
      ]
     },
     "execution_count": 74,
     "metadata": {},
     "output_type": "execute_result"
    }
   ],
   "source": [
    "ListNode test2 = new ListNode(1); test2;\n",
    "new Solution2().plusOne(test2);"
   ]
  },
  {
   "cell_type": "code",
   "execution_count": 75,
   "metadata": {},
   "outputs": [
    {
     "data": {
      "text/plain": [
       "1,2,4"
      ]
     },
     "execution_count": 75,
     "metadata": {},
     "output_type": "execute_result"
    }
   ],
   "source": [
    "ListNode test2 = new ListNode(1).add(new int[]{2,3}); test2;\n",
    "new Solution2().plusOne(test2);"
   ]
  },
  {
   "cell_type": "code",
   "execution_count": 76,
   "metadata": {},
   "outputs": [
    {
     "data": {
      "text/plain": [
       "2,0,0"
      ]
     },
     "execution_count": 76,
     "metadata": {},
     "output_type": "execute_result"
    }
   ],
   "source": [
    "ListNode test2 = new ListNode(1).add(new int[]{9,9}); test2;\n",
    "new Solution2().plusOne(test2);"
   ]
  },
  {
   "cell_type": "code",
   "execution_count": 77,
   "metadata": {},
   "outputs": [
    {
     "data": {
      "text/plain": [
       "1,0,0,0"
      ]
     },
     "execution_count": 77,
     "metadata": {},
     "output_type": "execute_result"
    }
   ],
   "source": [
    "ListNode test2 = new ListNode(9).add(new int[]{9,9}); test2;\n",
    "new Solution2().plusOne(test2);"
   ]
  },
  {
   "cell_type": "code",
   "execution_count": null,
   "metadata": {},
   "outputs": [],
   "source": []
  },
  {
   "cell_type": "code",
   "execution_count": null,
   "metadata": {},
   "outputs": [],
   "source": []
  },
  {
   "cell_type": "code",
   "execution_count": null,
   "metadata": {},
   "outputs": [],
   "source": []
  },
  {
   "cell_type": "code",
   "execution_count": null,
   "metadata": {},
   "outputs": [],
   "source": []
  }
 ],
 "metadata": {
  "kernelspec": {
   "display_name": "Java",
   "language": "java",
   "name": "java"
  },
  "language_info": {
   "codemirror_mode": "java",
   "file_extension": ".jshell",
   "mimetype": "text/x-java-source",
   "name": "Java",
   "pygments_lexer": "java",
   "version": "11.0.3+7"
  }
 },
 "nbformat": 4,
 "nbformat_minor": 2
}
