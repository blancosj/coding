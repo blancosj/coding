{
 "cells": [
  {
   "cell_type": "markdown",
   "metadata": {},
   "source": [
    "## <a href='https://leetcode.com/problems/plus-one-linked-list/'>369. Plus One Linked List<a/>\n",
    "\n",
    "Given a non-negative integer represented as a linked list of digits, plus one to the integer.\n",
    "\n",
    "The digits are stored such that the most significant digit is at the head of the list.\n",
    "\n",
    "__Example 1:__\n",
    "```\n",
    "Input: head = [1,2,3]\n",
    "Output: [1,2,4]\n",
    "```\n",
    "__Example 2:__\n",
    "```\n",
    "Input: head = [0]\n",
    "Output: [1]\n",
    "```\n",
    "__Constraints:__\n",
    "\n",
    "* The number of nodes in the linked list is in the range [1, 100].\n",
    "* 0 <= Node.val <= 9\n",
    "* The number represented by the linked list does not contain leading zeros except for the zero itself. "
   ]
  },
  {
   "cell_type": "code",
   "execution_count": null,
   "metadata": {},
   "outputs": [],
   "source": [
    "public class ListNode {\n",
    "    public int val;\n",
    "    public ListNode next;\n",
    "    public ListNode(int val) {\n",
    "        this.val = val;\n",
    "    }\n",
    "    @Override\n",
    "    public String toString() {\n",
    "        StringBuilder result = new StringBuilder();\n",
    "        ListNode curr = this;\n",
    "        while (curr != null) {\n",
    "            result.append(curr.val).append(\",\");\n",
    "            curr = curr.next;\n",
    "        }\n",
    "        result.setLength(result.length() - 1); \n",
    "        return result.toString();\n",
    "    }\n",
    "}"
   ]
  },
  {
   "cell_type": "code",
   "execution_count": null,
   "metadata": {},
   "outputs": [],
   "source": [
    "public class Solution {\n",
    "    public ListNode plusOne(ListNode head) {\n",
    "    \n",
    "    }\n",
    "}"
   ]
  },
  {
   "cell_type": "code",
   "execution_count": null,
   "metadata": {},
   "outputs": [],
   "source": []
  },
  {
   "cell_type": "code",
   "execution_count": null,
   "metadata": {},
   "outputs": [],
   "source": []
  },
  {
   "cell_type": "code",
   "execution_count": null,
   "metadata": {},
   "outputs": [],
   "source": []
  },
  {
   "cell_type": "code",
   "execution_count": null,
   "metadata": {},
   "outputs": [],
   "source": []
  },
  {
   "cell_type": "code",
   "execution_count": null,
   "metadata": {},
   "outputs": [],
   "source": []
  },
  {
   "cell_type": "code",
   "execution_count": null,
   "metadata": {},
   "outputs": [],
   "source": []
  },
  {
   "cell_type": "code",
   "execution_count": null,
   "metadata": {},
   "outputs": [],
   "source": []
  },
  {
   "cell_type": "code",
   "execution_count": null,
   "metadata": {},
   "outputs": [],
   "source": []
  },
  {
   "cell_type": "code",
   "execution_count": null,
   "metadata": {},
   "outputs": [],
   "source": []
  }
 ],
 "metadata": {
  "kernelspec": {
   "display_name": "Java",
   "language": "java",
   "name": "java"
  },
  "language_info": {
   "codemirror_mode": "java",
   "file_extension": ".jshell",
   "mimetype": "text/x-java-source",
   "name": "Java",
   "pygments_lexer": "java",
   "version": "11.0.3+7"
  }
 },
 "nbformat": 4,
 "nbformat_minor": 2
}
