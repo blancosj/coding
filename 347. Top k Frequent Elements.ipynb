{
 "cells": [
  {
   "cell_type": "markdown",
   "metadata": {},
   "source": [
    "Given a non-empty array of integers, return the k most frequent elements.\n",
    "\n",
    "__Example 1:__\n",
    "```\n",
    "Input: nums = [1,1,1,2,2,3], k = 2\n",
    "Output: [1,2]\n",
    "```\n",
    "__Example 2:__\n",
    "```\n",
    "Input: nums = [1], k = 1\n",
    "Output: [1]\n",
    "```\n",
    "__Note:__\n",
    "\n",
    "* You may assume k is always valid, 1 ≤ k ≤ number of unique elements.\n",
    "* Your algorithm's time complexity must be better than O(n log n), where n is the array's size.\n",
    "* It's guaranteed that the answer is unique, in other words the set of the top k frequent elements is unique.\n",
    "* You can return the answer in any order."
   ]
  },
  {
   "cell_type": "code",
   "execution_count": 92,
   "metadata": {},
   "outputs": [],
   "source": [
    "public class Solution {\n",
    "    public int[] solve(int[] nums, int k) {\n",
    "        Map<Integer, Integer> counter = new LinkedHashMap<>();\n",
    "        for (int num : nums) counter.put(num, counter.getOrDefault(num, 0) + 1);\n",
    "        List<Integer> unique = new ArrayList<>();\n",
    "        int i = 0;\n",
    "        for (int num : counter.keySet()) unique.add(num);\n",
    "        Collections.sort(unique, (x, y) -> Integer.compare(counter.get(y), counter.get(x)));\n",
    "        int[] answer = new int[unique.size()];\n",
    "        i = 0;\n",
    "        for (int num : unique) answer[i] = unique.get(i++);\n",
    "        return answer;\n",
    "    }\n",
    "}"
   ]
  },
  {
   "cell_type": "code",
   "execution_count": 93,
   "metadata": {},
   "outputs": [
    {
     "data": {
      "text/plain": [
       "[1, 2, 3]"
      ]
     },
     "execution_count": 93,
     "metadata": {},
     "output_type": "execute_result"
    }
   ],
   "source": [
    "Arrays.toString(new Solution().solve(new int[] {1,1,1,2,2,3}, 2));"
   ]
  },
  {
   "cell_type": "code",
   "execution_count": 94,
   "metadata": {},
   "outputs": [
    {
     "data": {
      "text/plain": [
       "[1]"
      ]
     },
     "execution_count": 94,
     "metadata": {},
     "output_type": "execute_result"
    }
   ],
   "source": [
    "Arrays.toString(new Solution().solve(new int[] {1}, 1));"
   ]
  },
  {
   "cell_type": "code",
   "execution_count": 95,
   "metadata": {},
   "outputs": [
    {
     "data": {
      "text/plain": [
       "[3, 1, 2]"
      ]
     },
     "execution_count": 95,
     "metadata": {},
     "output_type": "execute_result"
    }
   ],
   "source": [
    "Arrays.toString(new Solution().solve(new int[] {1,1,1,2,2,3,3,3,3,3}, 2));"
   ]
  },
  {
   "cell_type": "code",
   "execution_count": 60,
   "metadata": {},
   "outputs": [
    {
     "data": {
      "text/plain": [
       "true"
      ]
     },
     "execution_count": 60,
     "metadata": {},
     "output_type": "execute_result"
    }
   ],
   "source": [
    "List<Integer> temp = new ArrayList<>();\n",
    "temp.add(null);"
   ]
  },
  {
   "cell_type": "code",
   "execution_count": 96,
   "metadata": {},
   "outputs": [],
   "source": [
    "public class Solution {\n",
    "    public int[] solve(int[] nums, int k) {\n",
    "        int n = nums.length;\n",
    "        Map<Integer, Integer> counter = new HashMap<>();\n",
    "        for (int num : nums) counter.put(num, counter.getOrDefault(num, 0) + 1);\n",
    "        PriorityQueue<Integer> queue = new PriorityQueue<>(\n",
    "            (x, y) -> counter.get(y) - counter.get(x)\n",
    "        );\n",
    "        for (int num : counter.keySet()) queue.offer(num);\n",
    "        int[] answer = new int[k];\n",
    "        for (int i = 0; i < k; ++i) answer[i] = queue.poll();\n",
    "        return answer;\n",
    "    }\n",
    "}"
   ]
  },
  {
   "cell_type": "code",
   "execution_count": 97,
   "metadata": {},
   "outputs": [
    {
     "data": {
      "text/plain": [
       "[1, 2]"
      ]
     },
     "execution_count": 97,
     "metadata": {},
     "output_type": "execute_result"
    }
   ],
   "source": [
    "Arrays.toString(new Solution().solve(new int[] {1,1,1,2,2,3}, 2));"
   ]
  },
  {
   "cell_type": "code",
   "execution_count": 98,
   "metadata": {},
   "outputs": [
    {
     "data": {
      "text/plain": [
       "[3, 1]"
      ]
     },
     "execution_count": 98,
     "metadata": {},
     "output_type": "execute_result"
    }
   ],
   "source": [
    "Arrays.toString(new Solution().solve(new int[] {1,1,1,2,2,3,3,3,3,3}, 2));"
   ]
  },
  {
   "cell_type": "code",
   "execution_count": 99,
   "metadata": {},
   "outputs": [],
   "source": [
    "public class Solution {\n",
    "    public int[] solve(int[] nums, int k) {\n",
    "        Map<Integer, Integer> counter = new HashMap<>();\n",
    "        for (int num : nums) counter.put(num, counter.getOrDefault(num, 0) + 1);\n",
    "        int[] unique = new int[counter.size()];\n",
    "        int i = 0;\n",
    "        int n = counter.size();\n",
    "        for (int num : counter.keySet()) { \n",
    "            if (i >= n) break;\n",
    "            unique[i++] = num;\n",
    "        }\n",
    "        quickSelect(unique, 0, n - 1, counter);\n",
    "        return Arrays.copyOfRange(unique, 0, k);\n",
    "    }\n",
    "    private void quickSelect(\n",
    "        int[] nums,\n",
    "        int start, int end, \n",
    "        Map<Integer, Integer> counter\n",
    "    ) {\n",
    "        if (start >= end) return;\n",
    "        int p = partition(nums, start, end, counter);\n",
    "        quickSelect(nums, start, p - 1, counter);\n",
    "        quickSelect(nums, p + 1, end, counter);\n",
    "    }\n",
    "    private int partition(int[] nums, int start, int end, Map<Integer, Integer> counter) {\n",
    "        int mid = start + (end - start) / 2;\n",
    "        swap(nums, mid, end);\n",
    "        int left = start;\n",
    "        for (int i = start; i < end; ++i) {\n",
    "            if (counter.get(nums[end]) < counter.get(nums[i])) {\n",
    "                swap(nums, left, i);\n",
    "                left++;\n",
    "            }\n",
    "        }\n",
    "        swap(nums, left, end);\n",
    "        return left;\n",
    "    }\n",
    "    private void swap(int[] nums, int x, int y) {\n",
    "        int t = nums[x];\n",
    "        nums[x] = nums[y];\n",
    "        nums[y] = t;\n",
    "    }\n",
    "}"
   ]
  },
  {
   "cell_type": "code",
   "execution_count": 100,
   "metadata": {},
   "outputs": [
    {
     "data": {
      "text/plain": [
       "[3, 1]"
      ]
     },
     "execution_count": 100,
     "metadata": {},
     "output_type": "execute_result"
    }
   ],
   "source": [
    "Arrays.toString(new Solution().solve(new int[] {1,1,1,2,2,3,3,3,3,3}, 2));"
   ]
  },
  {
   "cell_type": "code",
   "execution_count": 101,
   "metadata": {},
   "outputs": [
    {
     "data": {
      "text/plain": [
       "[1, 2]"
      ]
     },
     "execution_count": 101,
     "metadata": {},
     "output_type": "execute_result"
    }
   ],
   "source": [
    "Arrays.toString(new Solution().solve(new int[] {1,1,1,2,2,3}, 2));"
   ]
  },
  {
   "cell_type": "code",
   "execution_count": null,
   "metadata": {},
   "outputs": [],
   "source": []
  }
 ],
 "metadata": {
  "kernelspec": {
   "display_name": "Java",
   "language": "java",
   "name": "java"
  },
  "language_info": {
   "codemirror_mode": "java",
   "file_extension": ".jshell",
   "mimetype": "text/x-java-source",
   "name": "Java",
   "pygments_lexer": "java",
   "version": "11.0.3+7"
  }
 },
 "nbformat": 4,
 "nbformat_minor": 2
}
