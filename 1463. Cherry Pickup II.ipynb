{
 "cells": [
  {
   "cell_type": "markdown",
   "metadata": {},
   "source": [
    "## <a href='https://leetcode.com/problems/cherry-pickup-ii/'>1463. Cherry Pickup II</a>\n",
    "\n",
    "Given a rows x cols matrix grid representing a field of cherries. Each cell in grid represents the number of cherries that you can collect.\n",
    "\n",
    "You have two robots that can collect cherries for you, Robot #1 is located at the top-left corner (0,0) , and Robot #2 is located at the top-right corner (0, cols-1) of the grid.\n",
    "\n",
    "Return the maximum number of cherries collection using both robots  by following the rules below:\n",
    "\n",
    "From a cell (i,j), robots can move to cell (i+1, j-1) , (i+1, j) or (i+1, j+1).\n",
    "When any robot is passing through a cell, It picks it up all cherries, and the cell becomes an empty cell (0).\n",
    "When both robots stay on the same cell, only one of them takes the cherries.\n",
    "Both robots cannot move outside of the grid at any moment.\n",
    "Both robots should reach the bottom row in the grid.\n",
    " \n",
    "__Example 1:__\n",
    "```\n",
    "Input: grid = [[3,1,1],[2,5,1],[1,5,5],[2,1,1]]\n",
    "Output: 24\n",
    "Explanation: Path of robot #1 and #2 are described in color green and blue respectively.\n",
    "Cherries taken by Robot #1, (3 + 2 + 5 + 2) = 12.\n",
    "Cherries taken by Robot #2, (1 + 5 + 5 + 1) = 12.\n",
    "Total of cherries: 12 + 12 = 24.\n",
    "```\n",
    "__Example 2:__\n",
    "```\n",
    "Input: grid = [[1,0,0,0,0,0,1],[2,0,0,0,0,3,0],[2,0,9,0,0,0,0],[0,3,0,5,4,0,0],[1,0,2,3,0,0,6]]\n",
    "Output: 28\n",
    "Explanation: Path of robot #1 and #2 are described in color green and blue respectively.\n",
    "Cherries taken by Robot #1, (1 + 9 + 5 + 2) = 17.\n",
    "Cherries taken by Robot #2, (1 + 3 + 4 + 3) = 11.\n",
    "Total of cherries: 17 + 11 = 28.\n",
    "```\n",
    "__Example 3:__\n",
    "```\n",
    "Input: grid = [[1,0,0,3],[0,0,0,3],[0,0,3,3],[9,0,3,3]]\n",
    "Output: 22\n",
    "```\n",
    "__Example 4:__\n",
    "```\n",
    "Input: grid = [[1,1],[1,1]]\n",
    "Output: 4\n",
    "``` \n",
    "__Constraints:__\n",
    "\n",
    "* ```rows == grid.length```\n",
    "* ```cols == grid[i].length```\n",
    "* ```2 <= rows, cols <= 70```\n",
    "* ```0 <= grid[i][j] <= 100```"
   ]
  },
  {
   "cell_type": "code",
   "execution_count": 46,
   "metadata": {},
   "outputs": [],
   "source": [
    "public class Solution {\n",
    "    private int n, m, grid[][];\n",
    "    private Map<List<Pos>, Integer> cache = new HashMap<>();\n",
    "    public int cherryPickup(int[][] grid) {\n",
    "        n = grid.length;\n",
    "        m = grid[0].length;\n",
    "        this.grid = grid;\n",
    "        return grid[0][0] + grid[0][m - 1] + helper(new Pos(0, 0), new Pos(0, m - 1));\n",
    "    }\n",
    "    private int helper(Pos pos1, Pos pos2) {\n",
    "        if (pos1.y > n - 2) return 0;\n",
    "        List<Pos> cacheKey = List.of(pos1, pos2);\n",
    "        if (cache.containsKey(cacheKey)) return cache.get(cacheKey);\n",
    "        int result = 0;\n",
    "        for (int col1 = pos1.x - 1; col1 <= pos1.x + 1; ++col1) {\n",
    "            if (col1 < 0 || col1 >= m) continue;\n",
    "            for (int col2 = pos2.x - 1; col2 <= pos2.x + 1; ++col2) {\n",
    "                if (col2 < 0 || col2 >= m) continue;\n",
    "                if (col1 == col2) continue;\n",
    "                result = Math.max(\n",
    "                    grid[pos1.y + 1][col1] + grid[pos2.y + 1][col2] \n",
    "                        + helper(new Pos(pos1.y + 1, col1), new Pos(pos2.y + 1, col2)), \n",
    "                    result);\n",
    "            }\n",
    "        }\n",
    "        cache.put(cacheKey, result);\n",
    "        return result;\n",
    "    } \n",
    "    private class Pos {\n",
    "        public int y, x;\n",
    "        private Pos(int y, int x) {\n",
    "            this.y = y;\n",
    "            this.x = x;\n",
    "        }\n",
    "        @Override\n",
    "        public int hashCode() {\n",
    "            int hash = 0;\n",
    "            hash = (hash * 31) + y;\n",
    "            hash = (hash * 31) + x;\n",
    "            return hash;\n",
    "        }\n",
    "        @Override\n",
    "        public boolean equals(Object that) {\n",
    "            return this.hashCode() == that.hashCode();\n",
    "        }\n",
    "        @Override\n",
    "        public String toString() {\n",
    "            return new StringBuilder().append(\"(\").append(y).append(\",\").append(x).append(\")\")\n",
    "                .toString();\n",
    "        }\n",
    "    }\n",
    "}"
   ]
  },
  {
   "cell_type": "code",
   "execution_count": 47,
   "metadata": {},
   "outputs": [
    {
     "data": {
      "text/plain": [
       "6"
      ]
     },
     "execution_count": 47,
     "metadata": {},
     "output_type": "execute_result"
    }
   ],
   "source": [
    "int test[][] = {{1,1,1},{2,2,2}};\n",
    "new Solution().cherryPickup(test);"
   ]
  },
  {
   "cell_type": "code",
   "execution_count": 48,
   "metadata": {},
   "outputs": [
    {
     "data": {
      "text/plain": [
       "22"
      ]
     },
     "execution_count": 48,
     "metadata": {},
     "output_type": "execute_result"
    }
   ],
   "source": [
    "int test[][] = {{1,0,0,3},{0,0,0,3},{0,0,3,3},{9,0,3,3}};\n",
    "new Solution().cherryPickup(test);"
   ]
  },
  {
   "cell_type": "code",
   "execution_count": 49,
   "metadata": {},
   "outputs": [
    {
     "data": {
      "text/plain": [
       "24"
      ]
     },
     "execution_count": 49,
     "metadata": {},
     "output_type": "execute_result"
    }
   ],
   "source": [
    "int test[][] = {\n",
    "    {0,0,0,0,0,0,0,0},\n",
    "    {1,0,0,3,1,0,0,3},\n",
    "    {0,0,0,3,0,0,0,3},\n",
    "    {0,0,3,3,0,0,3,3},\n",
    "    {9,0,3,3,9,0,3,3}\n",
    "};\n",
    "new Solution().cherryPickup(test);"
   ]
  },
  {
   "cell_type": "code",
   "execution_count": null,
   "metadata": {},
   "outputs": [],
   "source": []
  },
  {
   "cell_type": "code",
   "execution_count": null,
   "metadata": {},
   "outputs": [],
   "source": []
  },
  {
   "cell_type": "code",
   "execution_count": null,
   "metadata": {},
   "outputs": [],
   "source": []
  }
 ],
 "metadata": {
  "kernelspec": {
   "display_name": "Java",
   "language": "java",
   "name": "java"
  },
  "language_info": {
   "codemirror_mode": "java",
   "file_extension": ".jshell",
   "mimetype": "text/x-java-source",
   "name": "Java",
   "pygments_lexer": "java",
   "version": "11.0.3+7"
  }
 },
 "nbformat": 4,
 "nbformat_minor": 2
}
