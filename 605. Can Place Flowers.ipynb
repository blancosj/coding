{
 "cells": [
  {
   "cell_type": "markdown",
   "metadata": {},
   "source": [
    "### <a href='https://leetcode.com/problems/can-place-flowers/'>605. Can Place Flowers</a>\n",
    "\n",
    "You have a long flowerbed in which some of the plots are planted, and some are not. However, flowers cannot be planted in adjacent plots.\n",
    "\n",
    "Given an integer array flowerbed containing 0's and 1's, where 0 means empty and 1 means not empty, and an integer n, return if n new flowers can be planted in the flowerbed without violating the no-adjacent-flowers rule.\n",
    "\n",
    "__Example 1:__\n",
    "```\n",
    "Input: flowerbed = [1,0,0,0,1], n = 1\n",
    "Output: true\n",
    "```\n",
    "__Example 2:__\n",
    "```\n",
    "Input: flowerbed = [1,0,0,0,1], n = 2\n",
    "Output: false\n",
    "``` \n",
    "__Constraints:__\n",
    "* 1 <= flowerbed.length <= 2 * 104\n",
    "* flowerbed[i] is 0 or 1.\n",
    "* There are no two adjacent flowers in flowerbed.\n",
    "* 0 <= n <= flowerbed.length"
   ]
  },
  {
   "cell_type": "code",
   "execution_count": 20,
   "metadata": {},
   "outputs": [],
   "source": [
    "public class Solution {\n",
    "    public boolean canPlaceFlowers(int[] flowerbed, int n) {\n",
    "        int m = flowerbed.length;\n",
    "        int count = 0;\n",
    "        for (int i = 0; i < m; ++i) {\n",
    "            if (flowerbed[i] == 1) continue;\n",
    "            boolean left = i == 0 || flowerbed[i - 1] == 0;\n",
    "            boolean right = i == m - 1 || flowerbed[i + 1] == 0;\n",
    "            if (left && right) {\n",
    "                flowerbed[i] = 1;\n",
    "                count++;\n",
    "            }\n",
    "        }\n",
    "        return count >= n;\n",
    "    }\n",
    "}"
   ]
  },
  {
   "cell_type": "code",
   "execution_count": 21,
   "metadata": {},
   "outputs": [
    {
     "data": {
      "text/plain": [
       "true"
      ]
     },
     "execution_count": 21,
     "metadata": {},
     "output_type": "execute_result"
    }
   ],
   "source": [
    "new Solution().canPlaceFlowers(new int[] {1,0,0,0,1}, 1);"
   ]
  },
  {
   "cell_type": "code",
   "execution_count": 22,
   "metadata": {},
   "outputs": [
    {
     "data": {
      "text/plain": [
       "false"
      ]
     },
     "execution_count": 22,
     "metadata": {},
     "output_type": "execute_result"
    }
   ],
   "source": [
    "new Solution().canPlaceFlowers(new int[] {1,0,0,0,1}, 2);"
   ]
  },
  {
   "cell_type": "code",
   "execution_count": 24,
   "metadata": {},
   "outputs": [
    {
     "data": {
      "text/plain": [
       "true"
      ]
     },
     "execution_count": 24,
     "metadata": {},
     "output_type": "execute_result"
    }
   ],
   "source": [
    "new Solution().canPlaceFlowers(new int[0], 0);"
   ]
  },
  {
   "cell_type": "code",
   "execution_count": 27,
   "metadata": {},
   "outputs": [],
   "source": [
    "public class Solution {\n",
    "    public boolean canPlaceFlowers(int[] flowerbed, int n) {\n",
    "        int m = flowerbed.length, count = 0;\n",
    "        for (int i = 0; i < m; ++i) {\n",
    "            if (flowerbed[i] == 0 \n",
    "                && (i == 0 || flowerbed[i - 1] == 0)\n",
    "                && (i < m - 1 || flowerbed[i + 1] == 0)) {\n",
    "                flowerbed[i] = 1;\n",
    "                count++;\n",
    "            }\n",
    "        }\n",
    "        return count >= n;\n",
    "    }\n",
    "}"
   ]
  },
  {
   "cell_type": "code",
   "execution_count": 28,
   "metadata": {},
   "outputs": [
    {
     "data": {
      "text/plain": [
       "true"
      ]
     },
     "execution_count": 28,
     "metadata": {},
     "output_type": "execute_result"
    }
   ],
   "source": [
    "new Solution().canPlaceFlowers(new int[] {1,0,0,0,1}, 1);"
   ]
  },
  {
   "cell_type": "code",
   "execution_count": 54,
   "metadata": {},
   "outputs": [],
   "source": [
    "public class Solution {\n",
    "    public boolean canPlaceFlowers(int[] flowerbed, int n) {\n",
    "        int m = flowerbed.length, count = 0;\n",
    "        for (int i = 0; i < m; ++i) {\n",
    "            boolean[] rules = new boolean[3];\n",
    "            rules[0] = flowerbed[i] == 0;\n",
    "            rules[1] = i == 0 || flowerbed[i - 1] == 0;\n",
    "            rules[2] = i == m - 1 || flowerbed[i + 1] == 0;\n",
    "            if (checkRules(rules)) {\n",
    "                flowerbed[i] = 1;\n",
    "                count++;\n",
    "            }\n",
    "        }\n",
    "        return count >= n;\n",
    "    }\n",
    "    private boolean checkRules(boolean[] rules) {\n",
    "        for (boolean rule : rules) if (!rule) return false;\n",
    "        return true;\n",
    "    }\n",
    "}"
   ]
  },
  {
   "cell_type": "code",
   "execution_count": 55,
   "metadata": {},
   "outputs": [
    {
     "data": {
      "text/plain": [
       "true"
      ]
     },
     "execution_count": 55,
     "metadata": {},
     "output_type": "execute_result"
    }
   ],
   "source": [
    "new Solution().canPlaceFlowers(new int[] {1,0,0,0,1}, 1);"
   ]
  },
  {
   "cell_type": "code",
   "execution_count": 56,
   "metadata": {},
   "outputs": [
    {
     "data": {
      "text/plain": [
       "false"
      ]
     },
     "execution_count": 56,
     "metadata": {},
     "output_type": "execute_result"
    }
   ],
   "source": [
    "new Solution().canPlaceFlowers(new int[] {1,0,0,0,1}, 2);"
   ]
  },
  {
   "cell_type": "code",
   "execution_count": null,
   "metadata": {},
   "outputs": [],
   "source": []
  },
  {
   "cell_type": "code",
   "execution_count": null,
   "metadata": {},
   "outputs": [],
   "source": []
  }
 ],
 "metadata": {
  "kernelspec": {
   "display_name": "Java",
   "language": "java",
   "name": "java"
  },
  "language_info": {
   "codemirror_mode": "java",
   "file_extension": ".jshell",
   "mimetype": "text/x-java-source",
   "name": "Java",
   "pygments_lexer": "java",
   "version": "11.0.3+7"
  }
 },
 "nbformat": 4,
 "nbformat_minor": 2
}
