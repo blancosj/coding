{
 "cells": [
  {
   "cell_type": "markdown",
   "metadata": {},
   "source": [
    "Given a string containing just the characters '(', ')', '{', '}', '[' and ']', determine if the input string is valid.\n",
    "\n",
    "An input string is valid if:\n",
    "1. Open brackets must be closed by the same type of brackets.\n",
    "2. Open brackets must be closed in the correct order.\n",
    "Note that an empty string is also considered valid.\n",
    "\n",
    "Example 1:\n",
    "```\n",
    "Input: \"()\"\n",
    "Output: true\n",
    "```\n",
    "Example 2:\n",
    "```\n",
    "Input: \"()[]{}\"\n",
    "Output: true\n",
    "```\n",
    "Example 3:\n",
    "```\n",
    "Input: \"(]\"\n",
    "Output: false\n",
    "```\n",
    "Example 4:\n",
    "```\n",
    "Input: \"([)]\"\n",
    "Output: false\n",
    "```\n",
    "Example 5:\n",
    "```\n",
    "Input: \"{[]}\"\n",
    "Output: true\n",
    "```"
   ]
  },
  {
   "cell_type": "code",
   "execution_count": 5,
   "metadata": {},
   "outputs": [],
   "source": [
    "public class Solution {\n",
    "    public boolean isValid(String expr) {\n",
    "        Map<Character, Character> map = new HashMap<>();\n",
    "        map.put(')', '(');\n",
    "        map.put(']', '[');\n",
    "        map.put('}', '{');\n",
    "        Stack<Character> stack = new Stack<>();        \n",
    "        int len = expr.length();\n",
    "        for (int i = 0; i < len; ++i) {\n",
    "            char c = expr.charAt(i);\n",
    "            if (!map.containsKey(c)) {\n",
    "                stack.push(c);\n",
    "            } else {\n",
    "                if (!stack.isEmpty() && stack.peek() == map.get(c)) {\n",
    "                    stack.pop();\n",
    "                    continue;\n",
    "                }\n",
    "                return false;\n",
    "            }\n",
    "        }\n",
    "        return stack.isEmpty();\n",
    "    }\n",
    "}"
   ]
  },
  {
   "cell_type": "code",
   "execution_count": 6,
   "metadata": {},
   "outputs": [
    {
     "data": {
      "text/plain": [
       "true"
      ]
     },
     "execution_count": 6,
     "metadata": {},
     "output_type": "execute_result"
    }
   ],
   "source": [
    "new Solution().isValid(\"()\");"
   ]
  },
  {
   "cell_type": "code",
   "execution_count": 7,
   "metadata": {},
   "outputs": [
    {
     "data": {
      "text/plain": [
       "true"
      ]
     },
     "execution_count": 7,
     "metadata": {},
     "output_type": "execute_result"
    }
   ],
   "source": [
    "new Solution().isValid(\"()[]{}\");"
   ]
  },
  {
   "cell_type": "code",
   "execution_count": 8,
   "metadata": {},
   "outputs": [
    {
     "data": {
      "text/plain": [
       "false"
      ]
     },
     "execution_count": 8,
     "metadata": {},
     "output_type": "execute_result"
    }
   ],
   "source": [
    "new Solution().isValid(\"([)]\");"
   ]
  },
  {
   "cell_type": "code",
   "execution_count": 9,
   "metadata": {},
   "outputs": [
    {
     "data": {
      "text/plain": [
       "false"
      ]
     },
     "execution_count": 9,
     "metadata": {},
     "output_type": "execute_result"
    }
   ],
   "source": [
    "new Solution().isValid(\"(]\");"
   ]
  },
  {
   "cell_type": "code",
   "execution_count": 10,
   "metadata": {},
   "outputs": [
    {
     "data": {
      "text/plain": [
       "true"
      ]
     },
     "execution_count": 10,
     "metadata": {},
     "output_type": "execute_result"
    }
   ],
   "source": [
    "new Solution().isValid(\"{[]}\");"
   ]
  },
  {
   "cell_type": "code",
   "execution_count": 11,
   "metadata": {},
   "outputs": [],
   "source": [
    "public class Solution2 {\n",
    "    public boolean isValid(String expr) {\n",
    "        Stack<Character> stack = new Stack<>();\n",
    "        int len = expr.length();\n",
    "        for (int i = 0; i < len; ++i) {\n",
    "            char c = expr.charAt(i);\n",
    "            if (c == '(') {\n",
    "                stack.push(c);\n",
    "            } else {\n",
    "                if (!stack.isEmpty() && stack.peek() == '(') {\n",
    "                    stack.pop();\n",
    "                    continue;\n",
    "                }\n",
    "                return false;\n",
    "            }\n",
    "        }\n",
    "        return true;\n",
    "    }\n",
    "}"
   ]
  },
  {
   "cell_type": "code",
   "execution_count": 12,
   "metadata": {},
   "outputs": [
    {
     "data": {
      "text/plain": [
       "false"
      ]
     },
     "execution_count": 12,
     "metadata": {},
     "output_type": "execute_result"
    }
   ],
   "source": [
    "new Solution2().isValid(\")())\");"
   ]
  },
  {
   "cell_type": "code",
   "execution_count": 13,
   "metadata": {},
   "outputs": [
    {
     "data": {
      "text/plain": [
       "true"
      ]
     },
     "execution_count": 13,
     "metadata": {},
     "output_type": "execute_result"
    }
   ],
   "source": [
    "new Solution2().isValid(\"()\");"
   ]
  },
  {
   "cell_type": "code",
   "execution_count": 15,
   "metadata": {},
   "outputs": [
    {
     "data": {
      "text/plain": [
       "true"
      ]
     },
     "execution_count": 15,
     "metadata": {},
     "output_type": "execute_result"
    }
   ],
   "source": [
    "new Solution2().isValid(\"(())()()(())\");"
   ]
  },
  {
   "cell_type": "code",
   "execution_count": 16,
   "metadata": {},
   "outputs": [
    {
     "data": {
      "text/plain": [
       "true"
      ]
     },
     "execution_count": 16,
     "metadata": {},
     "output_type": "execute_result"
    }
   ],
   "source": [
    "new Solution2().isValid(\"()()\");"
   ]
  },
  {
   "cell_type": "code",
   "execution_count": null,
   "metadata": {},
   "outputs": [],
   "source": []
  }
 ],
 "metadata": {
  "kernelspec": {
   "display_name": "Java",
   "language": "java",
   "name": "java"
  },
  "language_info": {
   "codemirror_mode": "java",
   "file_extension": ".jshell",
   "mimetype": "text/x-java-source",
   "name": "Java",
   "pygments_lexer": "java",
   "version": "11.0.3+7"
  }
 },
 "nbformat": 4,
 "nbformat_minor": 2
}
