{
 "cells": [
  {
   "cell_type": "markdown",
   "metadata": {},
   "source": [
    "Given a collection of distinct integers, return all possible permutations.\n",
    "\n",
    "__Example:__\n",
    "```\n",
    "Input: [1,2,3]\n",
    "Output:\n",
    "[\n",
    "  [1,2,3],\n",
    "  [1,3,2],\n",
    "  [2,1,3],\n",
    "  [2,3,1],\n",
    "  [3,1,2],\n",
    "  [3,2,1]\n",
    "]\n",
    "```"
   ]
  },
  {
   "cell_type": "markdown",
   "metadata": {},
   "source": [
    "Time Complexity $P(n,k) = \\frac{n!}{(n-k)!}$"
   ]
  },
  {
   "cell_type": "code",
   "execution_count": 6,
   "metadata": {},
   "outputs": [],
   "source": [
    "public class Solution {\n",
    "    List<List<Integer>> answer = new ArrayList<>();\n",
    "    public List<List<Integer>> permute(int[] nums) {\n",
    "        List<Integer> list = new ArrayList<>();\n",
    "        for (int num : nums) list.add(num);\n",
    "        dfs(nums.length, list, 0);\n",
    "        return answer;\n",
    "    }\n",
    "    // 1,2,3 -> 1,2,3 -> 1,3,2\n",
    "    //.  *\n",
    "    // 2,1,3 -> 2,1,3 -> 2,3,1\n",
    "    //.  *\n",
    "    // 3,2,1 -> 3,2,1 -> 3,1,2\n",
    "    private void dfs(int n, List<Integer> nums, int start) {\n",
    "        if (n == start) {\n",
    "            answer.add(new ArrayList<>(nums));\n",
    "            return;\n",
    "        }\n",
    "        for (int i = start; i < n; ++i) {\n",
    "            Collections.swap(nums, start, i);\n",
    "            dfs(n, nums, start + 1);\n",
    "            Collections.swap(nums, i, start);\n",
    "        }\n",
    "    }\n",
    "}"
   ]
  },
  {
   "cell_type": "code",
   "execution_count": 7,
   "metadata": {},
   "outputs": [
    {
     "data": {
      "text/plain": [
       "[[1, 2, 3], [1, 3, 2], [2, 1, 3], [2, 3, 1], [3, 2, 1], [3, 1, 2]]"
      ]
     },
     "execution_count": 7,
     "metadata": {},
     "output_type": "execute_result"
    }
   ],
   "source": [
    "new Solution().permute(new int[] { 1, 2, 3 });"
   ]
  },
  {
   "cell_type": "code",
   "execution_count": 8,
   "metadata": {},
   "outputs": [
    {
     "data": {
      "text/plain": [
       "[[1, 2, 3, 4, 5], [1, 2, 3, 5, 4], [1, 2, 4, 3, 5], [1, 2, 4, 5, 3], [1, 2, 5, 4, 3], [1, 2, 5, 3, 4], [1, 3, 2, 4, 5], [1, 3, 2, 5, 4], [1, 3, 4, 2, 5], [1, 3, 4, 5, 2], [1, 3, 5, 4, 2], [1, 3, 5, 2, 4], [1, 4, 3, 2, 5], [1, 4, 3, 5, 2], [1, 4, 2, 3, 5], [1, 4, 2, 5, 3], [1, 4, 5, 2, 3], [1, 4, 5, 3, 2], [1, 5, 3, 4, 2], [1, 5, 3, 2, 4], [1, 5, 4, 3, 2], [1, 5, 4, 2, 3], [1, 5, 2, 4, 3], [1, 5, 2, 3, 4], [2, 1, 3, 4, 5], [2, 1, 3, 5, 4], [2, 1, 4, 3, 5], [2, 1, 4, 5, 3], [2, 1, 5, 4, 3], [2, 1, 5, 3, 4], [2, 3, 1, 4, 5], [2, 3, 1, 5, 4], [2, 3, 4, 1, 5], [2, 3, 4, 5, 1], [2, 3, 5, 4, 1], [2, 3, 5, 1, 4], [2, 4, 3, 1, 5], [2, 4, 3, 5, 1], [2, 4, 1, 3, 5], [2, 4, 1, 5, 3], [2, 4, 5, 1, 3], [2, 4, 5, 3, 1], [2, 5, 3, 4, 1], [2, 5, 3, 1, 4], [2, 5, 4, 3, 1], [2, 5, 4, 1, 3], [2, 5, 1, 4, 3], [2, 5, 1, 3, 4], [3, 2, 1, 4, 5], [3, 2, 1, 5, 4], [3, 2, 4, 1, 5], [3, 2, 4, 5, 1], [3, 2, 5, 4, 1], [3, 2, 5, 1, 4], [3, 1, 2, 4, 5], [3, 1, 2, 5, 4], [3, 1, 4, 2, 5], [3, 1, 4, 5, 2], [3, 1, 5, 4, 2], [3, 1, 5, 2, 4], [3, 4, 1, 2, 5], [3, 4, 1, 5, 2], [3, 4, 2, 1, 5], [3, 4, 2, 5, 1], [3, 4, 5, 2, 1], [3, 4, 5, 1, 2], [3, 5, 1, 4, 2], [3, 5, 1, 2, 4], [3, 5, 4, 1, 2], [3, 5, 4, 2, 1], [3, 5, 2, 4, 1], [3, 5, 2, 1, 4], [4, 2, 3, 1, 5], [4, 2, 3, 5, 1], [4, 2, 1, 3, 5], [4, 2, 1, 5, 3], [4, 2, 5, 1, 3], [4, 2, 5, 3, 1], [4, 3, 2, 1, 5], [4, 3, 2, 5, 1], [4, 3, 1, 2, 5], [4, 3, 1, 5, 2], [4, 3, 5, 1, 2], [4, 3, 5, 2, 1], [4, 1, 3, 2, 5], [4, 1, 3, 5, 2], [4, 1, 2, 3, 5], [4, 1, 2, 5, 3], [4, 1, 5, 2, 3], [4, 1, 5, 3, 2], [4, 5, 3, 1, 2], [4, 5, 3, 2, 1], [4, 5, 1, 3, 2], [4, 5, 1, 2, 3], [4, 5, 2, 1, 3], [4, 5, 2, 3, 1], [5, 2, 3, 4, 1], [5, 2, 3, 1, 4], [5, 2, 4, 3, 1], [5, 2, 4, 1, 3], [5, 2, 1, 4, 3], [5, 2, 1, 3, 4], [5, 3, 2, 4, 1], [5, 3, 2, 1, 4], [5, 3, 4, 2, 1], [5, 3, 4, 1, 2], [5, 3, 1, 4, 2], [5, 3, 1, 2, 4], [5, 4, 3, 2, 1], [5, 4, 3, 1, 2], [5, 4, 2, 3, 1], [5, 4, 2, 1, 3], [5, 4, 1, 2, 3], [5, 4, 1, 3, 2], [5, 1, 3, 4, 2], [5, 1, 3, 2, 4], [5, 1, 4, 3, 2], [5, 1, 4, 2, 3], [5, 1, 2, 4, 3], [5, 1, 2, 3, 4]]"
      ]
     },
     "execution_count": 8,
     "metadata": {},
     "output_type": "execute_result"
    }
   ],
   "source": [
    "new Solution().permute(new int[] { 1, 2, 3, 4, 5 });"
   ]
  },
  {
   "cell_type": "code",
   "execution_count": null,
   "metadata": {},
   "outputs": [],
   "source": []
  }
 ],
 "metadata": {
  "kernelspec": {
   "display_name": "Java",
   "language": "java",
   "name": "java"
  },
  "language_info": {
   "codemirror_mode": "java",
   "file_extension": ".jshell",
   "mimetype": "text/x-java-source",
   "name": "Java",
   "pygments_lexer": "java",
   "version": "11.0.3+7"
  }
 },
 "nbformat": 4,
 "nbformat_minor": 2
}
