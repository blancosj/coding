{
 "cells": [
  {
   "cell_type": "markdown",
   "metadata": {},
   "source": [
    "Reverse a linked list from position m to n. Do it in one-pass.\n",
    "\n",
    "Note: 1 ≤ m ≤ n ≤ length of list.\n",
    "\n",
    "__Example:__\n",
    "```\n",
    "Input: 1->2->3->4->5->NULL, m = 2, n = 4\n",
    "Output: 1->4->3->2->5->NULL\n",
    "```"
   ]
  },
  {
   "cell_type": "code",
   "execution_count": 11,
   "metadata": {},
   "outputs": [],
   "source": [
    "public class ListNode {\n",
    "    int val;\n",
    "    ListNode next;\n",
    "    public ListNode() {}\n",
    "    public ListNode(int val) {\n",
    "        this.val = val;\n",
    "    }\n",
    "    public ListNode add(int val) {\n",
    "        ListNode cur = this;\n",
    "        while (cur.next != null) {\n",
    "            cur = cur.next;\n",
    "        }\n",
    "        cur.next = new ListNode(val);\n",
    "        return this;\n",
    "    }\n",
    "    @Override\n",
    "    public String toString() {\n",
    "        StringBuilder result = new StringBuilder();\n",
    "        result.append(\"[\");\n",
    "        ListNode cur = this;\n",
    "        while (cur != null) {\n",
    "            result.append(cur.val).append(\",\");\n",
    "            cur = cur.next;\n",
    "        }\n",
    "        result.setLength(result.length() - 1);\n",
    "        result.append(\"]\");\n",
    "        return result.toString();\n",
    "    }\n",
    "}"
   ]
  },
  {
   "cell_type": "code",
   "execution_count": 28,
   "metadata": {},
   "outputs": [],
   "source": [
    "public class Solution {\n",
    "    public ListNode reverse(ListNode head, int n, int m) {\n",
    "        ListNode prev = null;\n",
    "        ListNode cur = head;\n",
    "        for (int i = 1; i < n; ++i) {\n",
    "            prev = cur;\n",
    "            cur = cur.next;\n",
    "        }\n",
    "        //       *\n",
    "        // 1,2,3,4,5\n",
    "        // prev = 1 = left\n",
    "        // cur = 2 = tail\n",
    "        ListNode left = prev;\n",
    "        ListNode tail = cur;\n",
    "        for (int i = n; i <= m; ++i) {\n",
    "            ListNode t = cur.next;\n",
    "            cur.next = prev;\n",
    "            prev = cur;\n",
    "            cur = t;\n",
    "        }\n",
    "        // prev = 4\n",
    "        // cur = 5;\n",
    "        if (left == null) {\n",
    "            return prev;\n",
    "        }\n",
    "        tail.next = cur;\n",
    "        left.next = prev;\n",
    "        return head;\n",
    "    }\n",
    "}"
   ]
  },
  {
   "cell_type": "code",
   "execution_count": 22,
   "metadata": {},
   "outputs": [
    {
     "data": {
      "text/plain": [
       "[3,5]"
      ]
     },
     "execution_count": 22,
     "metadata": {},
     "output_type": "execute_result"
    }
   ],
   "source": [
    "ListNode list1 = new ListNode(3).add(5);\n",
    "list1;"
   ]
  },
  {
   "cell_type": "code",
   "execution_count": 24,
   "metadata": {},
   "outputs": [
    {
     "data": {
      "text/plain": [
       "[5,4,3,2,1]"
      ]
     },
     "execution_count": 24,
     "metadata": {},
     "output_type": "execute_result"
    }
   ],
   "source": [
    "ListNode list2 = new ListNode(1).add(2).add(3).add(4).add(5);\n",
    "new Solution().reverse(list2, 1, 5);"
   ]
  },
  {
   "cell_type": "code",
   "execution_count": 29,
   "metadata": {},
   "outputs": [
    {
     "data": {
      "text/plain": [
       "[1,4,3,2,5]"
      ]
     },
     "execution_count": 29,
     "metadata": {},
     "output_type": "execute_result"
    }
   ],
   "source": [
    "ListNode list2 = new ListNode(1).add(2).add(3).add(4).add(5);\n",
    "new Solution().reverse(list2, 2, 4);"
   ]
  },
  {
   "cell_type": "code",
   "execution_count": 36,
   "metadata": {},
   "outputs": [
    {
     "name": "stdout",
     "output_type": "stream",
     "text": [
      "hola como estas\n",
      "ola como estas\n",
      "la como estas\n",
      "a como estas\n",
      " como estas\n",
      "como estas\n",
      "omo estas\n",
      "mo estas\n",
      "o estas\n",
      " estas\n",
      "estas\n",
      "stas\n",
      "tas\n",
      "as\n",
      "s\n",
      "\n"
     ]
    },
    {
     "data": {
      "text/plain": [
       "satse omoc aloh"
      ]
     },
     "execution_count": 36,
     "metadata": {},
     "output_type": "execute_result"
    }
   ],
   "source": [
    "String t = \"hola como estas\";\n",
    "public String reverse(String t) {\n",
    "    System.out.println(t);\n",
    "    if (t.equals(\"\")) return \"\";\n",
    "    return reverse(t.substring(1)) + t.substring(0, 1);\n",
    "}\n",
    "reverse(t);"
   ]
  },
  {
   "cell_type": "code",
   "execution_count": 47,
   "metadata": {},
   "outputs": [
    {
     "name": "stdout",
     "output_type": "stream",
     "text": [
      "hola como estas\n",
      "ola como estas\n",
      "la como estas\n",
      "a como estas\n",
      " como estas\n",
      "como estas\n",
      "omo estas\n",
      "mo estas\n",
      "o estas\n",
      " estas\n",
      "estas\n",
      "stas\n",
      "tas\n",
      "as\n",
      "s\n",
      "\n"
     ]
    },
    {
     "data": {
      "text/plain": [
       "estas como hola"
      ]
     },
     "execution_count": 47,
     "metadata": {},
     "output_type": "execute_result"
    }
   ],
   "source": [
    "String t = \"hola como estas\";\n",
    "public String reverse(String t, String word) {\n",
    "    System.out.println(t);\n",
    "    if (t.length() == 0) return word;\n",
    "    char c = t.charAt(0);\n",
    "    if (c == ' ') return reverse(t.substring(1), \"\") + \" \" + word;\n",
    "    return reverse(t.substring(1), word + c);\n",
    "}\n",
    "reverse(t, \"\");"
   ]
  },
  {
   "cell_type": "code",
   "execution_count": 44,
   "metadata": {},
   "outputs": [
    {
     "data": {
      "text/plain": [
       "true"
      ]
     },
     "execution_count": 44,
     "metadata": {},
     "output_type": "execute_result"
    }
   ],
   "source": [
    "\"asdf\".substring(4).equals(\"\");"
   ]
  },
  {
   "cell_type": "code",
   "execution_count": null,
   "metadata": {},
   "outputs": [],
   "source": []
  }
 ],
 "metadata": {
  "kernelspec": {
   "display_name": "Java",
   "language": "java",
   "name": "java"
  },
  "language_info": {
   "codemirror_mode": "java",
   "file_extension": ".jshell",
   "mimetype": "text/x-java-source",
   "name": "Java",
   "pygments_lexer": "java",
   "version": "11.0.3+7"
  }
 },
 "nbformat": 4,
 "nbformat_minor": 2
}
