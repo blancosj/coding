{
 "cells": [
  {
   "cell_type": "markdown",
   "metadata": {},
   "source": [
    "Given an array nums of n integers, are there elements a, b, c in nums such that a + b + c = 0? Find all unique triplets in the array which gives the sum of zero.\n",
    "\n",
    "__Note:__\n",
    "\n",
    "The solution set must not contain duplicate triplets.\n",
    "\n",
    "__Example:__\n",
    "```\n",
    "Given array nums = [-1, 0, 1, 2, -1, -4],\n",
    "\n",
    "A solution set is:\n",
    "[\n",
    "  [-1, 0, 1],\n",
    "  [-1, -1, 2]\n",
    "]\n",
    "```"
   ]
  },
  {
   "cell_type": "code",
   "execution_count": 11,
   "metadata": {},
   "outputs": [],
   "source": [
    "public class Solution {\n",
    "    public List<List<Integer>> solve(int[] nums) {\n",
    "        int n = nums.length;\n",
    "        Set<Integer> dups = new HashSet<>();\n",
    "        Set<List<Integer>> answer = new HashSet<>();\n",
    "        for (int j = 0; j < n; ++j) {\n",
    "            if (!dups.add(nums[j])) continue;\n",
    "            Set<Integer> seen = new HashSet<>();\n",
    "            for (int i = j + 1; i < n; ++i) {\n",
    "                int complement = (nums[j] + nums[i]) * -1;\n",
    "                if (seen.contains(complement)) {\n",
    "                    List<Integer> list = new ArrayList<>();\n",
    "                    list.add(nums[j]);\n",
    "                    list.add(nums[i]);\n",
    "                    list.add(complement);\n",
    "                    Collections.sort(list);\n",
    "                    answer.add(list);\n",
    "                }\n",
    "                seen.add(nums[i]);\n",
    "            }\n",
    "        }\n",
    "        return new ArrayList<>(answer);\n",
    "    }\n",
    "}"
   ]
  },
  {
   "cell_type": "code",
   "execution_count": 12,
   "metadata": {},
   "outputs": [
    {
     "data": {
      "text/plain": [
       "[[-1, -1, 2], [-1, 0, 1]]"
      ]
     },
     "execution_count": 12,
     "metadata": {},
     "output_type": "execute_result"
    }
   ],
   "source": [
    "int[] nums = {-1, 0, 1, 2, -1, -4};\n",
    "new Solution().solve(nums);"
   ]
  },
  {
   "cell_type": "code",
   "execution_count": 13,
   "metadata": {},
   "outputs": [
    {
     "data": {
      "text/plain": [
       "[[0, 0, 0]]"
      ]
     },
     "execution_count": 13,
     "metadata": {},
     "output_type": "execute_result"
    }
   ],
   "source": [
    "int[] nums = {0, 0, 0, 0, 0, 0, 0};\n",
    "new Solution().solve(nums);"
   ]
  },
  {
   "cell_type": "code",
   "execution_count": 14,
   "metadata": {},
   "outputs": [
    {
     "data": {
      "text/plain": [
       "[[-1, -1, 2], [-4, 2, 2], [-1, 0, 1], [0, 0, 0]]"
      ]
     },
     "execution_count": 14,
     "metadata": {},
     "output_type": "execute_result"
    }
   ],
   "source": [
    "int[] nums = {-1, 0, 1, 2, -1, -4, -1, 0, 1, 2, -1, -4, -1, 0, 1, 2, -1, -4};\n",
    "new Solution().solve(nums);"
   ]
  },
  {
   "cell_type": "code",
   "execution_count": 1,
   "metadata": {},
   "outputs": [
    {
     "data": {
      "text/plain": [
       "3"
      ]
     },
     "execution_count": 1,
     "metadata": {},
     "output_type": "execute_result"
    }
   ],
   "source": [
    "1+2"
   ]
  },
  {
   "cell_type": "code",
   "execution_count": 3,
   "metadata": {},
   "outputs": [
    {
     "data": {
      "text/plain": [
       "Carlos De Lorenzo"
      ]
     },
     "execution_count": 3,
     "metadata": {},
     "output_type": "execute_result"
    }
   ],
   "source": [
    "String pepe = \"Carlos\";\n",
    "pepe + \" De Lorenzo\";"
   ]
  },
  {
   "cell_type": "code",
   "execution_count": null,
   "metadata": {},
   "outputs": [],
   "source": []
  }
 ],
 "metadata": {
  "kernelspec": {
   "display_name": "Java",
   "language": "java",
   "name": "java"
  },
  "language_info": {
   "codemirror_mode": "java",
   "file_extension": ".jshell",
   "mimetype": "text/x-java-source",
   "name": "Java",
   "pygments_lexer": "java",
   "version": "11.0.3+7"
  }
 },
 "nbformat": 4,
 "nbformat_minor": 2
}
