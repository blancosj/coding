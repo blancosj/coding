{
 "cells": [
  {
   "cell_type": "markdown",
   "metadata": {},
   "source": [
    "## <a href='https://leetcode.com/problems/smallest-range-ii/'>910. Smallest Range II</a>\n",
    "\n",
    "Given an array A of integers, for each integer A[i] we need to choose either x = -K or x = K, and add x to A[i] (only once).\n",
    "\n",
    "After this process, we have some array B.\n",
    "\n",
    "Return the smallest possible difference between the maximum value of B and the minimum value of B.\n",
    "\n",
    "__Example 1:__\n",
    "```\n",
    "Input: A = [1], K = 0\n",
    "Output: 0\n",
    "Explanation: B = [1]\n",
    "```\n",
    "__Example 2:__\n",
    "```\n",
    "Input: A = [0,10], K = 2\n",
    "Output: 6\n",
    "Explanation: B = [2,8]\n",
    "```\n",
    "__Example 3:__\n",
    "```\n",
    "Input: A = [1,3,6], K = 3\n",
    "Output: 3\n",
    "Explanation: B = [4,6,3]\n",
    "``` \n",
    "__Note:__\n",
    "\n",
    "* ```1 <= A.length <= 10000```\n",
    "* ```0 <= A[i] <= 10000```\n",
    "* ```0 <= K <= 10000```"
   ]
  },
  {
   "cell_type": "code",
   "execution_count": 8,
   "metadata": {},
   "outputs": [],
   "source": [
    "public class Solution {\n",
    "    public int smallestRangeII(int[] arr, int k) {\n",
    "        int n = arr.length;\n",
    "        int result = 0;\n",
    "        Arrays.sort(arr);\n",
    "        for (int i = 0; i < n - 1; ++i) {\n",
    "            int max = Math.max(arr[n - 1] - k, arr[i] + k);\n",
    "            int min = Math.min(arr[0] + k, arr[i + 1] - k);\n",
    "            result = max - min;\n",
    "        }\n",
    "        return result;\n",
    "    }\n",
    "}"
   ]
  },
  {
   "cell_type": "code",
   "execution_count": 9,
   "metadata": {},
   "outputs": [
    {
     "data": {
      "text/plain": [
       "3"
      ]
     },
     "execution_count": 9,
     "metadata": {},
     "output_type": "execute_result"
    }
   ],
   "source": [
    "new Solution().smallestRangeII(new int[] {1,3,6}, 3);"
   ]
  },
  {
   "cell_type": "code",
   "execution_count": 34,
   "metadata": {},
   "outputs": [],
   "source": [
    "public class SolutionRec {\n",
    "    public int smallestRangeII(int[] arr, int k) {\n",
    "        Arrays.sort(arr);\n",
    "        int p = helper(arr, k, 1, arr[0] - k, arr[0] - k);\n",
    "        int q = helper(arr, k, 1, arr[0] + k, arr[0] + k);\n",
    "        return Math.min(p, q);\n",
    "    }\n",
    "    private int helper(int[] arr, int k, int from, int min, int max) {\n",
    "        if (from == arr.length) return max - min;\n",
    "        int p = helper(arr, k, from + 1, Math.min(min, arr[from] - k), Math.max(max, arr[from] - k));\n",
    "        int q = helper(arr, k, from + 1, Math.min(min, arr[from] + k), Math.max(max, arr[from] + k));\n",
    "        return Math.min(p, q);\n",
    "    }\n",
    "}"
   ]
  },
  {
   "cell_type": "code",
   "execution_count": 35,
   "metadata": {},
   "outputs": [
    {
     "data": {
      "text/plain": [
       "3"
      ]
     },
     "execution_count": 35,
     "metadata": {},
     "output_type": "execute_result"
    }
   ],
   "source": [
    "new SolutionRec().smallestRangeII(new int[]{1,3,6}, 3);\n",
    "// 1 3 6\n",
    "// 4 .. 3 \n",
    "//  \n",
    "\n",
    "// -2,0,3\n",
    "// -2,0,9\n",
    "// -2,6,3\n",
    "// -2,6,9\n",
    "\n",
    "// -2,4\n",
    "// 0,6\n",
    "// 3,9"
   ]
  },
  {
   "cell_type": "code",
   "execution_count": 33,
   "metadata": {},
   "outputs": [
    {
     "data": {
      "text/plain": [
       "5"
      ]
     },
     "execution_count": 33,
     "metadata": {},
     "output_type": "execute_result"
    }
   ],
   "source": [
    "// solution: 5\n",
    "new SolutionRec().smallestRangeII(new int[]{1,3,4,5,6,2,1,1,2,2}, 3);"
   ]
  },
  {
   "cell_type": "code",
   "execution_count": 46,
   "metadata": {},
   "outputs": [],
   "source": [
    "public class Solution2 {\n",
    "    public int smallestRangeII(int[] arr, int k) {\n",
    "        int n = arr.length;\n",
    "        Arrays.sort(arr);\n",
    "//         1 10\n",
    "//        -9  0\n",
    "        int min = Math.min(arr[0] + k, arr[n - 1] - k);\n",
    "        int max = Math.max(arr[0] + k, arr[n - 1] - k);\n",
    "        int result = max - min;\n",
    "        for (int i = 1; i < n - 1; ++i) {\n",
    "            min = Math.min(min, arr[i - 1] - k);\n",
    "            max = Math.max(max, arr[i - 1] - k);\n",
    "        }\n",
    "        return min - max;\n",
    "    }\n",
    "    // 1 3 6 - 3\n",
    "    // 4 0 3\n",
    "    // 4 6 3\n",
    "}"
   ]
  },
  {
   "cell_type": "code",
   "execution_count": 47,
   "metadata": {},
   "outputs": [
    {
     "data": {
      "text/plain": [
       "-6"
      ]
     },
     "execution_count": 47,
     "metadata": {},
     "output_type": "execute_result"
    }
   ],
   "source": [
    "// solution: 5\n",
    "new Solution2().smallestRangeII(new int[]{1,3,6}, 3);"
   ]
  },
  {
   "cell_type": "code",
   "execution_count": null,
   "metadata": {},
   "outputs": [],
   "source": []
  },
  {
   "cell_type": "code",
   "execution_count": null,
   "metadata": {},
   "outputs": [],
   "source": []
  },
  {
   "cell_type": "code",
   "execution_count": null,
   "metadata": {},
   "outputs": [],
   "source": []
  },
  {
   "cell_type": "code",
   "execution_count": null,
   "metadata": {},
   "outputs": [],
   "source": []
  }
 ],
 "metadata": {
  "kernelspec": {
   "display_name": "Java",
   "language": "java",
   "name": "java"
  },
  "language_info": {
   "codemirror_mode": "java",
   "file_extension": ".jshell",
   "mimetype": "text/x-java-source",
   "name": "Java",
   "pygments_lexer": "java",
   "version": "11.0.3+7"
  }
 },
 "nbformat": 4,
 "nbformat_minor": 2
}
