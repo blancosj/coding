{
 "cells": [
  {
   "cell_type": "markdown",
   "metadata": {},
   "source": [
    "## <a href='https://leetcode.com/problems/number-of-longest-increasing-subsequence/'>673. Number of Longest Increasing Subsequence</a>\n",
    "* https://leetcode.com/articles/a-recursive-approach-to-segment-trees-range-sum-queries-lazy-propagation/\n",
    "* https://cp-algorithms.com/sequences/longest_increasing_subsequence.html#toc-tgt-9\n",
    "* https://www.geeksforgeeks.org/longest-monotonically-increasing-subsequence-size-n-log-n/\n",
    "\n",
    "> “Tell me and I will forget. Show me and I will remember. Involve me and I will understand.”\n",
    "\n",
    "Given an integer array nums, return the number of longest increasing subsequences.\n",
    "\n",
    "__Example 1:__\n",
    "```\n",
    "Input: nums = [1,3,5,4,7]\n",
    "Output: 2\n",
    "Explanation: The two longest increasing subsequences are [1, 3, 4, 7] and [1, 3, 5, 7].\n",
    "```\n",
    "__Example 2:__\n",
    "```\n",
    "Input: nums = [2,2,2,2,2]\n",
    "Output: 5\n",
    "Explanation: The length of longest continuous increasing subsequence is 1, and there are 5 subsequences' length is 1, so output 5.\n",
    "```\n",
    "__Constraints:__\n",
    "\n",
    "* 1 <= nums.length <= 2000\n",
    "* -106 <= nums[i] <= 106"
   ]
  },
  {
   "cell_type": "code",
   "execution_count": 6,
   "metadata": {},
   "outputs": [],
   "source": [
    "public class SolutionRec {\n",
    "    private int answer = 0, nums[], max = 0, n = 0;\n",
    "    private Map<Integer, Integer> map = new HashMap<>();\n",
    "    public int solve(int[] nums) {\n",
    "        this.nums = nums;\n",
    "        n = nums.length;\n",
    "        helper(0, -1, 1);\n",
    "        return answer;\n",
    "    }\n",
    "    private void helper(int start, int prev, int length) {\n",
    "        if (start >= n) {\n",
    "            if (length > max) {\n",
    "                max = length;\n",
    "                answer = 0;\n",
    "            }\n",
    "            if (length == max) answer++;\n",
    "            return;\n",
    "        }\n",
    "        if (prev == -1 || nums[prev] < nums[start]) helper(start + 1, start, length + 1);\n",
    "        helper(start + 1, prev, length);\n",
    "    }\n",
    "}"
   ]
  },
  {
   "cell_type": "code",
   "execution_count": 7,
   "metadata": {},
   "outputs": [
    {
     "data": {
      "text/plain": [
       "5"
      ]
     },
     "execution_count": 7,
     "metadata": {},
     "output_type": "execute_result"
    }
   ],
   "source": [
    "new SolutionRec().solve(new int[] {2,2,2,2,2});"
   ]
  },
  {
   "cell_type": "code",
   "execution_count": 8,
   "metadata": {},
   "outputs": [
    {
     "data": {
      "text/plain": [
       "2"
      ]
     },
     "execution_count": 8,
     "metadata": {},
     "output_type": "execute_result"
    }
   ],
   "source": [
    "new SolutionRec().solve(new int[] {1,3,2,4,5});"
   ]
  },
  {
   "cell_type": "code",
   "execution_count": 17,
   "metadata": {},
   "outputs": [],
   "source": [
    "public class SolutionDp {\n",
    "    public int solve(int[] nums) {\n",
    "        int n = nums.length;\n",
    "        int[] lengths = new int[n];\n",
    "        int[] counts = new int[n];\n",
    "        Arrays.fill(lengths, 1);\n",
    "        Arrays.fill(counts, 1);\n",
    "        //     *\n",
    "        // 1 3 2 4 5\n",
    "        // ^   \n",
    "        // 1 1 1 1 1\n",
    "        for (int j = 0; j < n; ++j) {\n",
    "            for (int i = 0; i < j; ++i) {\n",
    "                if (nums[i] >= nums[j]) continue;\n",
    "                if (lengths[i] >= lengths[j]) {\n",
    "                    lengths[j] = lengths[i] + 1;\n",
    "                    counts[j] = counts[i];\n",
    "                } else if (lengths[i] + 1 == lengths[j]) {\n",
    "                    counts[j] += counts[i];\n",
    "                }\n",
    "            }\n",
    "        }\n",
    "        int longest = 0, answer = 0;\n",
    "        for (int length : lengths) longest = Math.max(length, longest);\n",
    "        for (int i = 0; i < n; ++i) {\n",
    "            if (lengths[i] == longest) answer += counts[i];\n",
    "        }\n",
    "        return answer;\n",
    "    }\n",
    "}"
   ]
  },
  {
   "cell_type": "code",
   "execution_count": 18,
   "metadata": {},
   "outputs": [
    {
     "data": {
      "text/plain": [
       "5"
      ]
     },
     "execution_count": 18,
     "metadata": {},
     "output_type": "execute_result"
    }
   ],
   "source": [
    "new SolutionDp().solve(new int[] {2,2,2,2,2});"
   ]
  },
  {
   "cell_type": "code",
   "execution_count": 19,
   "metadata": {},
   "outputs": [
    {
     "data": {
      "text/plain": [
       "2"
      ]
     },
     "execution_count": 19,
     "metadata": {},
     "output_type": "execute_result"
    }
   ],
   "source": [
    "new SolutionDp().solve(new int[] {1,3,2,4,5});"
   ]
  },
  {
   "cell_type": "code",
   "execution_count": 20,
   "metadata": {},
   "outputs": [
    {
     "data": {
      "text/plain": [
       "2"
      ]
     },
     "execution_count": 20,
     "metadata": {},
     "output_type": "execute_result"
    }
   ],
   "source": [
    "new SolutionDp().solve(new int[] {1,3,5,4,7});"
   ]
  },
  {
   "cell_type": "code",
   "execution_count": 27,
   "metadata": {},
   "outputs": [],
   "source": [
    "public class SolutionSegTree {\n",
    "    public int solve(int[] nums) {\n",
    "        int n = nums.length;\n",
    "        int min = nums[0], max = nums[0];\n",
    "        for (int num : nums) {\n",
    "            min = Math.min(num, min);\n",
    "            max = Math.max(num, max);\n",
    "        }\n",
    "        Node root = new Node(min, max);\n",
    "        for (int num : nums) {\n",
    "            Value val = query(root, num - 1);\n",
    "            insert(root, num, new Value(val.len + 1, val.count));\n",
    "        }\n",
    "        return root.val.count;\n",
    "    }\n",
    "    private Value query(Node node, int key) {\n",
    "        if (node.rangeRight <= key) return node.val;\n",
    "        else if (node.rangeLeft > key) return new Value(0, 1);\n",
    "        else return merge(query(node.getLeft(), key), query(node.getRight(), key));\n",
    "    }\n",
    "    private void insert(Node node, int key, Value val) {\n",
    "        if (node.rangeLeft == node.rangeRight) {\n",
    "            node.val = merge(val, node.val);\n",
    "        } else {\n",
    "            if (key <= node.getMid()) {\n",
    "                insert(node.getLeft(), key, val);\n",
    "            } else {\n",
    "                insert(node.getRight(), key, val);\n",
    "            }\n",
    "            node.val = merge(node.getLeft().val, node.getRight().val);\n",
    "        }\n",
    "    }\n",
    "    private Value merge(Value v1, Value v2) {\n",
    "        if (v1.len == v2.len) {\n",
    "            if (v1.len == 0) return new Value(0, 1);\n",
    "            return new Value(v1.len, v1.count + v2.count);\n",
    "        }\n",
    "        return v1.len > v2.len ? v1 : v2;\n",
    "    }\n",
    "    private class Node {\n",
    "        public int rangeLeft, rangeRight;\n",
    "        public Node left, right;\n",
    "        public Value val = new Value(0, 1);\n",
    "        public Node (int rangeLeft, int rangeRight) {\n",
    "            this.rangeLeft = rangeLeft;\n",
    "            this.rangeRight = rangeRight;\n",
    "        }\n",
    "        public int getMid() {\n",
    "            return rangeLeft + (rangeRight - rangeLeft) / 2;\n",
    "        }\n",
    "        public Node getLeft() {\n",
    "            if (left == null) left = new Node(rangeLeft, getMid());\n",
    "            return left;\n",
    "        }\n",
    "        public Node getRight() {\n",
    "            if (right == null) right = new Node(getMid() + 1, rangeRight);\n",
    "            return right;\n",
    "        }\n",
    "        public void printLeaves() {\n",
    "            LinkedList<Node> queue = new LinkedList<>();\n",
    "            queue.offer(this);\n",
    "            while (!queue.isEmpty()) {\n",
    "                Node cur = queue.poll();\n",
    "                if (cur.left == null && cur.right == null) {\n",
    "                    System.out.println(cur);\n",
    "                } else {\n",
    "                    if (cur.left != null) queue.offer(cur.left);\n",
    "                    if (cur.right != null) queue.offer(cur.right);\n",
    "                }\n",
    "            }\n",
    "        }        \n",
    "    }\n",
    "    private class Value {\n",
    "        public int len, count;\n",
    "        public Value(int len, int count) {\n",
    "            this.len = len;\n",
    "            this.count = count;\n",
    "        }\n",
    "    }\n",
    "}"
   ]
  },
  {
   "cell_type": "code",
   "execution_count": 28,
   "metadata": {},
   "outputs": [
    {
     "data": {
      "text/plain": [
       "2"
      ]
     },
     "execution_count": 28,
     "metadata": {},
     "output_type": "execute_result"
    }
   ],
   "source": [
    "new SolutionSegTree().solve(new int[] {1,3,2,4,5});"
   ]
  },
  {
   "cell_type": "code",
   "execution_count": 29,
   "metadata": {},
   "outputs": [
    {
     "data": {
      "text/plain": [
       "5"
      ]
     },
     "execution_count": 29,
     "metadata": {},
     "output_type": "execute_result"
    }
   ],
   "source": [
    "new SolutionSegTree().solve(new int[] {2,2,2,2,2});"
   ]
  },
  {
   "cell_type": "code",
   "execution_count": 128,
   "metadata": {},
   "outputs": [],
   "source": [
    "public class SegmentTreeQueryMinBasedOnArray {\n",
    "    private int[] tree, nums;\n",
    "    private int n;\n",
    "    public void constructTree(int[] nums) {\n",
    "        this.nums = nums;\n",
    "        n = nums.length;\n",
    "        tree = new int[n * 2 + 1];\n",
    "        constructTreeHelper(0, n - 1, 0);\n",
    "        System.out.println(Arrays.toString(tree));\n",
    "    }\n",
    "    public int rangeMinQuery(int qlo, int qhi) {\n",
    "        return rangeMinQueryHelper(qlo, qhi, 0, n - 1, 0);\n",
    "    }\n",
    "    private int rangeMinQueryHelper(int qlo, int qhi, int lo, int hi, int pos) {\n",
    "        if (qlo <= lo && qhi >= hi) return tree[pos];     // total overlap  \n",
    "        if (qlo > hi || qhi < lo) return Integer.MAX_VALUE; // partial overlap\n",
    "        int mid = lo + (hi - lo) / 2;\n",
    "        return Math.min(\n",
    "            rangeMinQueryHelper(qlo, qhi, lo, mid, 2 * pos + 1),\n",
    "            rangeMinQueryHelper(qlo, qhi, mid + 1, hi, 2 * pos + 2)\n",
    "        );\n",
    "    }\n",
    "    private void constructTreeHelper(int lo, int hi, int pos) {\n",
    "        System.out.println(String.format(\"lo=%d hi=%d pos=%d\", lo, hi, pos));\n",
    "        if (lo == hi) {\n",
    "            tree[pos] = nums[lo];\n",
    "            return;\n",
    "        }\n",
    "        int mid = lo + (hi - lo) / 2;\n",
    "        constructTreeHelper(lo, mid, 2 * pos + 1);\n",
    "        constructTreeHelper(mid + 1, hi, 2 * pos + 2);\n",
    "        tree[pos] = Math.min(tree[2 * pos + 1], tree[2 * pos + 2]);\n",
    "    }\n",
    "}"
   ]
  },
  {
   "cell_type": "code",
   "execution_count": 129,
   "metadata": {},
   "outputs": [
    {
     "name": "stdout",
     "output_type": "stream",
     "text": [
      "lo=0 hi=5 pos=0\n",
      "lo=0 hi=2 pos=1\n",
      "lo=0 hi=1 pos=3\n",
      "lo=0 hi=0 pos=7\n",
      "lo=1 hi=1 pos=8\n",
      "lo=2 hi=2 pos=4\n",
      "lo=3 hi=5 pos=2\n",
      "lo=3 hi=4 pos=5\n",
      "lo=3 hi=3 pos=11\n",
      "lo=4 hi=4 pos=12\n",
      "lo=5 hi=5 pos=6\n",
      "[-2, -2, 0, -2, 4, 5, 0, 1, -2, 0, 0, 5, 6]\n"
     ]
    }
   ],
   "source": [
    "int[] nums = {1,-2,4,5,6,0};\n",
    "SegmentTreeQueryMinBasedOnArray query = new SegmentTreeQueryMinBasedOnArray();\n",
    "query.constructTree(nums);"
   ]
  },
  {
   "cell_type": "code",
   "execution_count": 130,
   "metadata": {},
   "outputs": [
    {
     "data": {
      "text/plain": [
       "-2"
      ]
     },
     "execution_count": 130,
     "metadata": {},
     "output_type": "execute_result"
    }
   ],
   "source": [
    "query.rangeMinQuery(0, 1);"
   ]
  },
  {
   "cell_type": "code",
   "execution_count": 123,
   "metadata": {},
   "outputs": [
    {
     "data": {
      "text/plain": [
       "0"
      ]
     },
     "execution_count": 123,
     "metadata": {},
     "output_type": "execute_result"
    }
   ],
   "source": [
    "query.rangeMinQuery(2, 5);"
   ]
  },
  {
   "cell_type": "code",
   "execution_count": 207,
   "metadata": {},
   "outputs": [
    {
     "name": "stdout",
     "output_type": "stream",
     "text": [
      "lo=0 hi=3 pos=0\n",
      "lo=0 hi=1 pos=1\n",
      "lo=0 hi=0 pos=3\n",
      "lo=1 hi=1 pos=4\n",
      "lo=2 hi=3 pos=2\n",
      "lo=2 hi=2 pos=5\n",
      "lo=3 hi=3 pos=6\n",
      "[-11, -11, -10, -11, 2, -10, 100, 0, 0]\n"
     ]
    }
   ],
   "source": [
    "int[] nums = {-11,2,-10,100};\n",
    "SegmentTreeQueryMinBasedOnArray query = new SegmentTreeQueryMinBasedOnArray();\n",
    "query.constructTree(nums);"
   ]
  },
  {
   "cell_type": "code",
   "execution_count": 209,
   "metadata": {},
   "outputs": [
    {
     "data": {
      "text/plain": [
       "100"
      ]
     },
     "execution_count": 209,
     "metadata": {},
     "output_type": "execute_result"
    }
   ],
   "source": [
    "query.rangeMinQuery(3,3)"
   ]
  },
  {
   "cell_type": "code",
   "execution_count": 228,
   "metadata": {},
   "outputs": [],
   "source": [
    "public class SegmentTreeQueryMinBasedOnNodes {\n",
    "    private Node root;\n",
    "    public void constructTree(int[] nums) {\n",
    "        int n = nums.length;\n",
    "        root = new Node(0, n - 1);\n",
    "        for (int i = 0; i < n; ++i) insert(root, i, nums[i]);\n",
    "        System.out.println(root);\n",
    "    }\n",
    "    public int query(int qlo,  int qhi) {\n",
    "        return queryHelper(root, qlo, qhi);\n",
    "    }\n",
    "    private int queryHelper(Node node, int qlo, int qhi) {\n",
    "        System.out.println(node + String.format(\"qlo:%d qhi:%d\", qlo, qhi));\n",
    "        if (node.rangeLeft >= qlo && node.rangeRight <= qhi) return node.val;\n",
    "        if (node.rangeLeft > qhi || node.rangeRight < qlo) return Integer.MAX_VALUE;\n",
    "        return Math.min(\n",
    "            queryHelper(node.getLeft(), qlo, qhi),\n",
    "            queryHelper(node.getRight(), qlo, qhi)\n",
    "        );\n",
    "    }\n",
    "    private void insert(Node node, int key, int val) {\n",
    "        if (node.rangeLeft == node.rangeRight) {\n",
    "            node.val = val;\n",
    "        } else {\n",
    "            if (key <= node.getMid()) {\n",
    "                insert(node.getLeft(), key, val);\n",
    "            } else {\n",
    "                insert(node.getRight(), key, val);\n",
    "            }\n",
    "            node.val = Math.min(node.getLeft().val, node.getRight().val);\n",
    "        }\n",
    "    }\n",
    "    private class Node {\n",
    "        public int rangeLeft, rangeRight;\n",
    "        public Node left, right;\n",
    "        public int val;\n",
    "        public Node(int rangeLeft, int rangeRight) {\n",
    "            this.rangeLeft = rangeLeft;\n",
    "            this.rangeRight = rangeRight;\n",
    "        }\n",
    "        public int getMid() {\n",
    "            return rangeLeft + (rangeRight - rangeLeft) / 2;\n",
    "        }\n",
    "        public Node getLeft() {\n",
    "            if (left == null) left = new Node(rangeLeft, getMid());\n",
    "            return left;\n",
    "        }\n",
    "        public Node getRight() {\n",
    "            if (right == null) right = new Node(getMid() + 1, rangeRight);\n",
    "            return right;\n",
    "        }\n",
    "        @Override\n",
    "        public String toString() {\n",
    "            LinkedList<Node> queue = new LinkedList<>();\n",
    "            queue.offer(this);\n",
    "            StringBuilder result = new StringBuilder();\n",
    "            while (!queue.isEmpty()) {\n",
    "                int size = queue.size();\n",
    "                for (int i = 0; i < size; ++i) {\n",
    "                    Node cur = queue.poll();\n",
    "                    result.append(\n",
    "                        String.format(\"[val=%d(%d-%d)]\", cur.val, \n",
    "                                      cur.rangeLeft, cur.rangeRight)\n",
    "                    );\n",
    "                    if (cur.left != null) queue.offer(cur.left);\n",
    "                    if (cur.right != null) queue.offer(cur.right);\n",
    "                }\n",
    "                result.append('\\n');\n",
    "            }\n",
    "            return result.toString();\n",
    "        }\n",
    "    }\n",
    "}"
   ]
  },
  {
   "cell_type": "code",
   "execution_count": 232,
   "metadata": {},
   "outputs": [
    {
     "name": "stdout",
     "output_type": "stream",
     "text": [
      "[val=-11(0-3)]\n",
      "[val=-11(0-1)][val=-10(2-3)]\n",
      "[val=-11(0-0)][val=2(1-1)][val=-10(2-2)][val=100(3-3)]\n",
      "\n"
     ]
    }
   ],
   "source": [
    "SegmentTreeQueryMinBasedOnNodes st = new SegmentTreeQueryMinBasedOnNodes();\n",
    "st.constructTree(new int[] {-11,2,-10,100});"
   ]
  },
  {
   "cell_type": "code",
   "execution_count": 233,
   "metadata": {},
   "outputs": [
    {
     "name": "stdout",
     "output_type": "stream",
     "text": [
      "[val=-11(0-3)]\n",
      "[val=-11(0-1)][val=-10(2-3)]\n",
      "[val=-11(0-0)][val=2(1-1)][val=-10(2-2)][val=100(3-3)]\n",
      "qlo:0 qhi:1\n",
      "[val=-11(0-1)]\n",
      "[val=-11(0-0)][val=2(1-1)]\n",
      "qlo:0 qhi:1\n",
      "[val=-10(2-3)]\n",
      "[val=-10(2-2)][val=100(3-3)]\n",
      "qlo:0 qhi:1\n"
     ]
    },
    {
     "data": {
      "text/plain": [
       "-11"
      ]
     },
     "execution_count": 233,
     "metadata": {},
     "output_type": "execute_result"
    }
   ],
   "source": [
    "st.query(0, 1);"
   ]
  },
  {
   "cell_type": "code",
   "execution_count": 238,
   "metadata": {},
   "outputs": [
    {
     "name": "stdout",
     "output_type": "stream",
     "text": [
      "[val=-11(0-3)]\n",
      "[val=-11(0-1)][val=-10(2-3)]\n",
      "[val=-11(0-0)][val=2(1-1)][val=-10(2-2)][val=100(3-3)]\n",
      "qlo:3 qhi:3\n",
      "[val=-11(0-1)]\n",
      "[val=-11(0-0)][val=2(1-1)]\n",
      "qlo:3 qhi:3\n",
      "[val=-10(2-3)]\n",
      "[val=-10(2-2)][val=100(3-3)]\n",
      "qlo:3 qhi:3\n",
      "[val=-10(2-2)]\n",
      "qlo:3 qhi:3\n",
      "[val=100(3-3)]\n",
      "qlo:3 qhi:3\n"
     ]
    },
    {
     "data": {
      "text/plain": [
       "100"
      ]
     },
     "execution_count": 238,
     "metadata": {},
     "output_type": "execute_result"
    }
   ],
   "source": [
    "st.query(3, 3)"
   ]
  },
  {
   "cell_type": "code",
   "execution_count": null,
   "metadata": {},
   "outputs": [],
   "source": [
    "// 1 2 5 4 7 8\n",
    "// 1 2 3 3 4 5\n",
    "// 1 1 1 1 2 2 "
   ]
  },
  {
   "cell_type": "code",
   "execution_count": 247,
   "metadata": {},
   "outputs": [],
   "source": [
    "public class MyDpSolution {\n",
    "    // count total of longest sorted subsets\n",
    "    public int solve(int[] nums) {\n",
    "        int n = nums.length;\n",
    "        int[] lengths = new int[n];\n",
    "        int[] counts = new int[n];\n",
    "        Arrays.fill(lengths, 1);\n",
    "        Arrays.fill(counts, 1);\n",
    "        for (int j = 0; j < n; ++j) {\n",
    "            for (int i = 0; i < j; ++i) {\n",
    "                if (nums[i] >= nums[j]) continue;\n",
    "                if (lengths[j] <= lengths[i]) {\n",
    "                    lengths[j] = lengths[i] + 1;\n",
    "                    counts[j] = counts[i];\n",
    "                } else if (lengths[i] + 1 == lengths[j]) {\n",
    "                    counts[j] += counts[i];\n",
    "                }\n",
    "            }\n",
    "        }\n",
    "        System.out.println(Arrays.toString(lengths));\n",
    "        System.out.println(Arrays.toString(counts));\n",
    "        int maxLen = 0;\n",
    "        int result = 0;\n",
    "        for (int len : lengths) maxLen = Math.max(len, maxLen);\n",
    "        for (int i = 0; i < n; ++i) {\n",
    "            if (lengths[i] == maxLen) result += counts[i]; \n",
    "        }\n",
    "        return result;\n",
    "    }\n",
    "}"
   ]
  },
  {
   "cell_type": "code",
   "execution_count": 248,
   "metadata": {},
   "outputs": [
    {
     "name": "stdout",
     "output_type": "stream",
     "text": [
      "[1, 2, 3, 3, 4, 5]\n",
      "[1, 1, 1, 1, 2, 2]\n"
     ]
    },
    {
     "data": {
      "text/plain": [
       "2"
      ]
     },
     "execution_count": 248,
     "metadata": {},
     "output_type": "execute_result"
    }
   ],
   "source": [
    "new MyDpSolution().solve(new int[] {1,2,5,4,7,8});"
   ]
  },
  {
   "cell_type": "code",
   "execution_count": 249,
   "metadata": {},
   "outputs": [
    {
     "name": "stdout",
     "output_type": "stream",
     "text": [
      "[1, 1, 1, 1, 1, 1]\n",
      "[1, 1, 1, 1, 1, 1]\n"
     ]
    },
    {
     "data": {
      "text/plain": [
       "6"
      ]
     },
     "execution_count": 249,
     "metadata": {},
     "output_type": "execute_result"
    }
   ],
   "source": [
    "new MyDpSolution().solve(new int[] {2,2,2,2,2,2});"
   ]
  },
  {
   "cell_type": "code",
   "execution_count": 250,
   "metadata": {},
   "outputs": [
    {
     "name": "stdout",
     "output_type": "stream",
     "text": [
      "[1, 2, 3, 1, 2, 3, 1, 2, 3]\n",
      "[1, 1, 1, 1, 2, 3, 1, 3, 6]\n"
     ]
    },
    {
     "data": {
      "text/plain": [
       "10"
      ]
     },
     "execution_count": 250,
     "metadata": {},
     "output_type": "execute_result"
    }
   ],
   "source": [
    "new MyDpSolution().solve(new int[] {1,2,3,1,2,3,1,2,3});"
   ]
  },
  {
   "cell_type": "code",
   "execution_count": null,
   "metadata": {},
   "outputs": [],
   "source": []
  }
 ],
 "metadata": {
  "kernelspec": {
   "display_name": "Java",
   "language": "java",
   "name": "java"
  },
  "language_info": {
   "codemirror_mode": "java",
   "file_extension": ".jshell",
   "mimetype": "text/x-java-source",
   "name": "Java",
   "pygments_lexer": "java",
   "version": "11.0.3+7"
  }
 },
 "nbformat": 4,
 "nbformat_minor": 2
}
