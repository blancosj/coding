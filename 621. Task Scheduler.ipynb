{
 "cells": [
  {
   "cell_type": "markdown",
   "metadata": {},
   "source": [
    "You are given a char array representing tasks CPU need to do. It contains capital letters A to Z where each letter represents a different task. Tasks could be done without the original order of the array. Each task is done in one unit of time. For each unit of time, the CPU could complete either one task or just be idle.\n",
    "\n",
    "However, there is a non-negative integer n that represents the cooldown period between two same tasks (the same letter in the array), that is that there must be at least n units of time between any two same tasks.\n",
    "\n",
    "You need to return the least number of units of times that the CPU will take to finish all the given tasks.\n",
    "\n",
    "__Example 1:__\n",
    "```\n",
    "Input: tasks = [\"A\",\"A\",\"A\",\"B\",\"B\",\"B\"], n = 2\n",
    "Output: 8\n",
    "Explanation: \n",
    "A -> B -> idle -> A -> B -> idle -> A -> B\n",
    "There is at least 2 units of time between any two same tasks.\n",
    "```\n",
    "__Example 2:__\n",
    "```\n",
    "Input: tasks = [\"A\",\"A\",\"A\",\"B\",\"B\",\"B\"], n = 0\n",
    "Output: 6\n",
    "Explanation: On this case any permutation of size 6 would work since n = 0.\n",
    "[\"A\",\"A\",\"A\",\"B\",\"B\",\"B\"]\n",
    "[\"A\",\"B\",\"A\",\"B\",\"A\",\"B\"]\n",
    "[\"B\",\"B\",\"B\",\"A\",\"A\",\"A\"]\n",
    "...\n",
    "And so on.\n",
    "```\n",
    "__Example 3:__\n",
    "```\n",
    "Input: tasks = [\"A\",\"A\",\"A\",\"A\",\"A\",\"A\",\"B\",\"C\",\"D\",\"E\",\"F\",\"G\"], n = 2\n",
    "Output: 16\n",
    "Explanation: \n",
    "One possible solution is\n",
    "A -> B -> C -> A -> D -> E -> A -> F -> G -> A -> idle -> idle -> A -> idle -> idle -> A\n",
    "``` \n",
    "__Constraints:__\n",
    "\n",
    "* The number of tasks is in the range [1, 10000].\n",
    "* The integer n is in the range [0, 100]."
   ]
  },
  {
   "cell_type": "code",
   "execution_count": 10,
   "metadata": {},
   "outputs": [],
   "source": [
    "public class Solution {\n",
    "    public int solve(char[] tasks, int n) {\n",
    "        // A__A__A\n",
    "        // AB_AB_AB\n",
    "        // ABCABCAB\n",
    "        int m = tasks.length;\n",
    "        int[] freqs = new int['Z' - 'A' + 1];\n",
    "        for (char task : tasks) freqs[task - 'A']++;\n",
    "        Arrays.sort(freqs);\n",
    "        int f_max = freqs[freqs.length - 1];\n",
    "        int idle_slots = (f_max - 1) * n;\n",
    "        for (int i = freqs.length - 2; i >= 0; --i) {\n",
    "            idle_slots -= Math.min(f_max - 1, freqs[i]);\n",
    "        }\n",
    "        idle_slots = Math.max(0, idle_slots);\n",
    "        return idle_slots + m;\n",
    "    }\n",
    "}"
   ]
  },
  {
   "cell_type": "code",
   "execution_count": 11,
   "metadata": {},
   "outputs": [
    {
     "data": {
      "text/plain": [
       "8"
      ]
     },
     "execution_count": 11,
     "metadata": {},
     "output_type": "execute_result"
    }
   ],
   "source": [
    "new Solution().solve(new char[] {'A','A','A','B','B','B'}, 2);"
   ]
  },
  {
   "cell_type": "code",
   "execution_count": 12,
   "metadata": {},
   "outputs": [
    {
     "data": {
      "text/plain": [
       "6"
      ]
     },
     "execution_count": 12,
     "metadata": {},
     "output_type": "execute_result"
    }
   ],
   "source": [
    "new Solution().solve(new char[] {'A','A','A','B','B','B'}, 0);"
   ]
  },
  {
   "cell_type": "code",
   "execution_count": 13,
   "metadata": {},
   "outputs": [
    {
     "data": {
      "text/plain": [
       "16"
      ]
     },
     "execution_count": 13,
     "metadata": {},
     "output_type": "execute_result"
    }
   ],
   "source": [
    "new Solution().solve(new char[] {'A','A','A','A','A','A','B','C','D','E','F','G'}, 2);"
   ]
  },
  {
   "cell_type": "code",
   "execution_count": null,
   "metadata": {},
   "outputs": [],
   "source": []
  }
 ],
 "metadata": {
  "kernelspec": {
   "display_name": "Java",
   "language": "java",
   "name": "java"
  },
  "language_info": {
   "codemirror_mode": "java",
   "file_extension": ".jshell",
   "mimetype": "text/x-java-source",
   "name": "Java",
   "pygments_lexer": "java",
   "version": "11.0.3+7"
  }
 },
 "nbformat": 4,
 "nbformat_minor": 2
}
