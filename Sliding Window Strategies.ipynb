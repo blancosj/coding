{
 "cells": [
  {
   "cell_type": "markdown",
   "metadata": {},
   "source": [
    "## 713. Subarray Product Less Than K\n",
    "https://leetcode.com/problems/subarray-product-less-than-k/\n",
    "\n",
    "Your are given an array of positive integers nums.\n",
    "Count and print the number of (contiguous) subarrays where the product of all the elements in the subarray is less than k.\n",
    "Example 1:\n",
    "```\n",
    "Input: nums = [10, 5, 2, 6], k = 100\n",
    "Output: 8\n",
    "Explanation: The 8 subarrays that have product less than 100 are: [10], [5], [2], [6], [10, 5], [5, 2], [2, 6], [5, 2, 6].\n",
    "Note that [10, 5, 2] is not included as the product of 100 is not strictly less than k.\n",
    "```"
   ]
  },
  {
   "cell_type": "code",
   "execution_count": 9,
   "metadata": {},
   "outputs": [],
   "source": [
    "public int printAllWindowsLessThanK(int[] nums, int k) {\n",
    "    int len = nums.length;\n",
    "    int l = 0, r = 1;\n",
    "    int cur = nums[0];\n",
    "    int result = 0;\n",
    "    while (l < r || r < len) {\n",
    "        if (cur < k) {\n",
    "            System.out.println(Arrays.toString(Arrays.copyOfRange(nums, l, r)));\n",
    "            result += (r - l);\n",
    "        }\n",
    "        if (cur >= k && l < r) {\n",
    "            cur /= nums[l++];\n",
    "            continue;\n",
    "        }\n",
    "        if (r < len) {\n",
    "            cur *= nums[r++];\n",
    "            continue;\n",
    "        }        \n",
    "        break;\n",
    "    }\n",
    "    return result;\n",
    "}"
   ]
  },
  {
   "cell_type": "code",
   "execution_count": 14,
   "metadata": {
    "scrolled": true
   },
   "outputs": [
    {
     "name": "stdout",
     "output_type": "stream",
     "text": [
      "[1]\n",
      "[1, 2]\n",
      "[1, 2, 3]\n",
      "[3, 4]\n",
      "[5]\n",
      "[6]\n",
      "[7]\n",
      "[10]\n"
     ]
    },
    {
     "data": {
      "text/plain": [
       "12"
      ]
     },
     "execution_count": 14,
     "metadata": {},
     "output_type": "execute_result"
    }
   ],
   "source": [
    "int[] arr1 = { 1, 2, 3, 4, 5, 6, 7, 10 };\n",
    "printAllWindowsLessThanK(arr1, 15);"
   ]
  },
  {
   "cell_type": "code",
   "execution_count": 15,
   "metadata": {
    "scrolled": true
   },
   "outputs": [
    {
     "name": "stdout",
     "output_type": "stream",
     "text": [
      "[10]\n",
      "[10, 5]\n",
      "[5, 2]\n",
      "[5, 2, 6]\n"
     ]
    },
    {
     "data": {
      "text/plain": [
       "8"
      ]
     },
     "execution_count": 15,
     "metadata": {},
     "output_type": "execute_result"
    }
   ],
   "source": [
    "int[] arr1 = { 10, 5, 2, 6 };\n",
    "printAllWindowsLessThanK(arr1, 100);"
   ]
  },
  {
   "cell_type": "code",
   "execution_count": null,
   "metadata": {},
   "outputs": [],
   "source": []
  }
 ],
 "metadata": {
  "kernelspec": {
   "display_name": "Java",
   "language": "java",
   "name": "java"
  },
  "language_info": {
   "codemirror_mode": "java",
   "file_extension": ".jshell",
   "mimetype": "text/x-java-source",
   "name": "Java",
   "pygments_lexer": "java",
   "version": "11.0.3+7"
  }
 },
 "nbformat": 4,
 "nbformat_minor": 2
}
