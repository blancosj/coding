{
 "cells": [
  {
   "cell_type": "markdown",
   "metadata": {},
   "source": [
    "Given a non-empty array of integers, return the k most frequent elements.\n",
    "\n",
    "Example 1:\n",
    "```\n",
    "Input: nums = [1,1,1,2,2,3], k = 2\n",
    "Output: [1,2]\n",
    "```\n",
    "Example 2:\n",
    "```\n",
    "Input: nums = [1], k = 1\n",
    "Output: [1]\n",
    "```\n",
    "Note:\n",
    "\n",
    "You may assume k is always valid, 1 ≤ k ≤ number of unique elements.\n",
    "Your algorithm's time complexity must be better than O(n log n), where n is the array's size.\n",
    "It's guaranteed that the answer is unique, in other words the set of the top k frequent elements is unique.\n",
    "You can return the answer in any order."
   ]
  },
  {
   "cell_type": "code",
   "execution_count": 11,
   "metadata": {},
   "outputs": [],
   "source": [
    "public int[] topKFreq(int[] nums, int k) {\n",
    "    Map<Integer, Integer> count = new HashMap<>();\n",
    "    for (int i = 0; i < nums.length; ++i) {\n",
    "        int num = nums[i];\n",
    "        count.put(num, count.getOrDefault(num, 0) + 1);\n",
    "    } \n",
    "    List<Map.Entry<Integer, Integer>> list = new ArrayList<>();\n",
    "    for (Map.Entry<Integer, Integer> entry : count.entrySet()) {\n",
    "        list.add(entry);\n",
    "    }\n",
    "    Collections.sort(list, (x, y) -> y.getValue() - x.getValue());\n",
    "    int[] result = new int[k];\n",
    "    for (int i = 0; i < k; ++i) {\n",
    "        result[i] = list.get(i).getKey();\n",
    "    }\n",
    "    return result;\n",
    "}"
   ]
  },
  {
   "cell_type": "code",
   "execution_count": 12,
   "metadata": {},
   "outputs": [
    {
     "data": {
      "text/plain": [
       "[1, 2]"
      ]
     },
     "execution_count": 12,
     "metadata": {},
     "output_type": "execute_result"
    }
   ],
   "source": [
    "int[] nums = { 1, 1, 1, 2, 2, 3 };\n",
    "Arrays.toString(topKFreq(nums, 2));"
   ]
  },
  {
   "cell_type": "code",
   "execution_count": 14,
   "metadata": {},
   "outputs": [
    {
     "data": {
      "text/plain": [
       "[1, 5]"
      ]
     },
     "execution_count": 14,
     "metadata": {},
     "output_type": "execute_result"
    }
   ],
   "source": [
    "int[] nums = { 1, 1, 1, 2, 2, 3, 1, 1, 1, 5, 5, 5, 1, 1, 1, 5, 5, 3, 1, 1, 10, 2, 2, 3, 1, 5, 5, 2, 2, 3 };\n",
    "Arrays.toString(topKFreq(nums, 2));"
   ]
  },
  {
   "cell_type": "code",
   "execution_count": 15,
   "metadata": {},
   "outputs": [],
   "source": [
    "// priority queue\n",
    "public int[] topKFreq(int[] nums, int k) {\n",
    "    Map<Integer, Integer> map = new HashMap<>();\n",
    "    for (int i = 0; i < nums.length; ++i) map.put(nums[i], map.getOrDefault(nums[i], 0) + 1);\n",
    "    PriorityQueue<Integer> heap = new PriorityQueue<>((x, y) -> map.get(x) - map.get(y));\n",
    "    for (int num : map.keySet()) {\n",
    "        heap.add(num);\n",
    "        if (heap.size() > k) heap.poll();\n",
    "    }\n",
    "    int[] result = new int[k];\n",
    "    for (int i = 0; i < k; ++i) {\n",
    "        result[i] = heap.poll();\n",
    "    }\n",
    "    return result;\n",
    "}"
   ]
  },
  {
   "cell_type": "code",
   "execution_count": 10,
   "metadata": {},
   "outputs": [
    {
     "data": {
      "text/plain": [
       "[2, 1]"
      ]
     },
     "execution_count": 10,
     "metadata": {},
     "output_type": "execute_result"
    }
   ],
   "source": [
    "int[] nums = { 1, 1, 1, 2, 2, 3 };\n",
    "Arrays.toString(topKFreq(nums, 2));"
   ]
  },
  {
   "cell_type": "code",
   "execution_count": 16,
   "metadata": {},
   "outputs": [
    {
     "data": {
      "text/plain": [
       "[5, 1]"
      ]
     },
     "execution_count": 16,
     "metadata": {},
     "output_type": "execute_result"
    }
   ],
   "source": [
    "int[] nums = { 1, 1, 1, 2, 2, 3, 1, 1, 1, 5, 5, 5, 1, 1, 1, 5, 5, 3, 1, 1, 10, 2, 2, 3, 1, 5, 5, 2, 2, 3 };\n",
    "Arrays.toString(topKFreq(nums, 2));"
   ]
  },
  {
   "cell_type": "code",
   "execution_count": null,
   "metadata": {},
   "outputs": [],
   "source": []
  }
 ],
 "metadata": {
  "kernelspec": {
   "display_name": "Java",
   "language": "java",
   "name": "java"
  },
  "language_info": {
   "codemirror_mode": "java",
   "file_extension": ".jshell",
   "mimetype": "text/x-java-source",
   "name": "Java",
   "pygments_lexer": "java",
   "version": "11.0.3+7"
  }
 },
 "nbformat": 4,
 "nbformat_minor": 2
}
