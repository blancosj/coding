{
 "cells": [
  {
   "cell_type": "markdown",
   "metadata": {},
   "source": [
    "## <a href='https://leetcode.com/problems/word-break/'>139. Word Break</a>\n",
    "__Medium__\n",
    "\n",
    "Given a non-empty string s and a dictionary wordDict containing a list of non-empty words, determine if s can be segmented into a space-separated sequence of one or more dictionary words.\n",
    "\n",
    "__Note:__\n",
    "\n",
    "* The same word in the dictionary may be reused multiple times in the segmentation.\n",
    "* You may assume the dictionary does not contain duplicate words.\n",
    "\n",
    "__Example 1:__\n",
    "```\n",
    "Input: s = \"leetcode\", wordDict = [\"leet\", \"code\"]\n",
    "Output: true\n",
    "Explanation: Return true because \"leetcode\" can be segmented as \"leet code\".\n",
    "```\n",
    "__Example 2:__\n",
    "```\n",
    "Input: s = \"applepenapple\", wordDict = [\"apple\", \"pen\"]\n",
    "Output: true\n",
    "Explanation: Return true because \"applepenapple\" can be segmented as \"apple pen apple\".\n",
    "             Note that you are allowed to reuse a dictionary word.\n",
    "```\n",
    "__Example 3:__\n",
    "```\n",
    "Input: s = \"catsandog\", wordDict = [\"cats\", \"dog\", \"sand\", \"and\", \"cat\"]\n",
    "Output: false\n",
    "```"
   ]
  },
  {
   "cell_type": "code",
   "execution_count": 5,
   "metadata": {},
   "outputs": [],
   "source": [
    "// dynamic programming solution\n",
    "public class Solution {\n",
    "    public boolean wordBreak(String s, List<String> wordDict) {\n",
    "        boolean[] dp = new boolean[s.length() + 1];\n",
    "        dp[0] = true;\n",
    "        for (int i = 0; i < s.length(); ++i) {\n",
    "            for (String word : wordDict) {\n",
    "                int right = i + word.length();\n",
    "                if (right > s.length()) continue;\n",
    "                if (dp[i] && s.substring(i, right).equals(word)) {\n",
    "                    dp[right] = true;\n",
    "                }\n",
    "            }\n",
    "        }\n",
    "        return dp[s.length()];\n",
    "    }\n",
    "}"
   ]
  },
  {
   "cell_type": "code",
   "execution_count": 6,
   "metadata": {},
   "outputs": [
    {
     "data": {
      "text/plain": [
       "true"
      ]
     },
     "execution_count": 6,
     "metadata": {},
     "output_type": "execute_result"
    }
   ],
   "source": [
    "new Solution().wordBreak(\"applepenapple\", List.of(\"apple\", \"pen\"));"
   ]
  },
  {
   "cell_type": "code",
   "execution_count": 7,
   "metadata": {},
   "outputs": [
    {
     "data": {
      "text/plain": [
       "false"
      ]
     },
     "execution_count": 7,
     "metadata": {},
     "output_type": "execute_result"
    }
   ],
   "source": [
    "new Solution().wordBreak(\"catsandog\", List.of(\"cats\", \"dog\", \"sand\", \"and\", \"cat\"));"
   ]
  },
  {
   "cell_type": "code",
   "execution_count": 8,
   "metadata": {},
   "outputs": [
    {
     "data": {
      "text/plain": [
       "false"
      ]
     },
     "execution_count": 8,
     "metadata": {},
     "output_type": "execute_result"
    }
   ],
   "source": [
    "String a = \"aaaaaaaaaaaaaaaaaaaaaaaaaaaaaaaaaaaaaaaaaaaaaaaaaaaaaaaaaaaaaaaaaaaaaaaaaaaaaaaaaaaaaaaaaaaaaaaaaaaaaaaaaaaaaaaaaaaaaaaaaaaaaaaaaaaaaaaaaaaaaaaaaaaaaab\";\n",
    "List<String> wordDict = List.of(\"a\",\"aa\",\"aaa\",\"aaaa\",\"aaaaa\",\"aaaaaa\",\"aaaaaaa\",\"aaaaaaaa\",\"aaaaaaaaa\",\"aaaaaaaaaa\");\n",
    "new Solution().wordBreak(a, wordDict);"
   ]
  },
  {
   "cell_type": "code",
   "execution_count": 1,
   "metadata": {},
   "outputs": [],
   "source": [
    "// recursion\n",
    "public class Solution {\n",
    "    private String s;\n",
    "    private List<String> wordDict;\n",
    "    private Map<Integer, Boolean> cache = new HashMap<>();\n",
    "    public boolean wordBreak(String s, List<String> wordDict) {\n",
    "        this.s = s;\n",
    "        this.wordDict = wordDict;\n",
    "        return helper(0);\n",
    "    }\n",
    "    private boolean helper(int start) {\n",
    "        if (start == s.length()) return true;\n",
    "        if (cache.containsKey(start)) return cache.get(start);\n",
    "        for (String word : wordDict) {\n",
    "            int right = start + word.length();\n",
    "            if (right > s.length()) continue;\n",
    "            if (s.substring(start, right).equals(word) && helper(right)) {\n",
    "                cache.put(start, true);\n",
    "                return true;\n",
    "            }\n",
    "        }\n",
    "        cache.put(start, false);\n",
    "        return false;\n",
    "    }\n",
    "}"
   ]
  },
  {
   "cell_type": "code",
   "execution_count": 2,
   "metadata": {},
   "outputs": [
    {
     "data": {
      "text/plain": [
       "true"
      ]
     },
     "execution_count": 2,
     "metadata": {},
     "output_type": "execute_result"
    }
   ],
   "source": [
    "new Solution().wordBreak(\"applepenapple\", List.of(\"apple\", \"pen\"));"
   ]
  },
  {
   "cell_type": "code",
   "execution_count": 3,
   "metadata": {},
   "outputs": [
    {
     "data": {
      "text/plain": [
       "false"
      ]
     },
     "execution_count": 3,
     "metadata": {},
     "output_type": "execute_result"
    }
   ],
   "source": [
    "new Solution().wordBreak(\"catsandog\", List.of(\"cats\", \"dog\", \"sand\", \"and\", \"cat\"));"
   ]
  },
  {
   "cell_type": "code",
   "execution_count": 4,
   "metadata": {},
   "outputs": [
    {
     "data": {
      "text/plain": [
       "false"
      ]
     },
     "execution_count": 4,
     "metadata": {},
     "output_type": "execute_result"
    }
   ],
   "source": [
    "String a = \"aaaaaaaaaaaaaaaaaaaaaaaaaaaaaaaaaaaaaaaaaaaaaaaaaaaaaaaaaaaaaaaaaaaaaaaaaaaaaaaaaaaaaaaaaaaaaaaaaaaaaaaaaaaaaaaaaaaaaaaaaaaaaaaaaaaaaaaaaaaaaaaaaaaaaab\";\n",
    "List<String> wordDict = List.of(\"a\",\"aa\",\"aaa\",\"aaaa\",\"aaaaa\",\"aaaaaa\",\"aaaaaaa\",\"aaaaaaaa\",\"aaaaaaaaa\",\"aaaaaaaaaa\");\n",
    "new Solution().wordBreak(a, wordDict);"
   ]
  },
  {
   "cell_type": "code",
   "execution_count": null,
   "metadata": {},
   "outputs": [],
   "source": []
  },
  {
   "cell_type": "code",
   "execution_count": null,
   "metadata": {},
   "outputs": [],
   "source": []
  },
  {
   "cell_type": "code",
   "execution_count": null,
   "metadata": {},
   "outputs": [],
   "source": []
  }
 ],
 "metadata": {
  "kernelspec": {
   "display_name": "Java",
   "language": "java",
   "name": "java"
  },
  "language_info": {
   "codemirror_mode": "java",
   "file_extension": ".jshell",
   "mimetype": "text/x-java-source",
   "name": "Java",
   "pygments_lexer": "java",
   "version": "11.0.3+7"
  }
 },
 "nbformat": 4,
 "nbformat_minor": 2
}
