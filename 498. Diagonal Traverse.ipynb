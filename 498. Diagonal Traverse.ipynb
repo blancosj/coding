{
 "cells": [
  {
   "cell_type": "markdown",
   "metadata": {},
   "source": [
    "<a href='https://leetcode.com/problems/diagonal-traverse/'>498. Diagonal Traverse</a>\n",
    "\n",
    "Given a matrix of M x N elements (M rows, N columns), return all elements of the matrix in diagonal order as shown in the below image.\n",
    "\n",
    "__Example:__\n",
    "```\n",
    "Input:\n",
    "[\n",
    " [ 1, 2, 3 ],\n",
    " [ 4, 5, 6 ],\n",
    " [ 7, 8, 9 ]\n",
    "]\n",
    "Output:  [1,2,4,7,5,3,6,8,9]\n",
    "```"
   ]
  },
  {
   "cell_type": "code",
   "execution_count": 4,
   "metadata": {},
   "outputs": [],
   "source": [
    "public class Solution {\n",
    "    public int[] findDiagonalOrder(int[][] matrix) {\n",
    "        int n = matrix.length;\n",
    "        if (n == 0) return new int[0];\n",
    "        int m = matrix[0].length;\n",
    "        int idx = 0;\n",
    "        int[] result = new int[n * m];\n",
    "        for (int i = 0; i < m; ++i) {\n",
    "            int until = Math.min(n - 1, i);\n",
    "            for (int j = 0; j <= i; ++j) {\n",
    "                result[idx++] = matrix[j][i - j];\n",
    "            }\n",
    "        }\n",
    "        for (int i = 1; i < n; ++i) {\n",
    "            int until = Math.min(n - i, m);\n",
    "            for (int j = 0; j < until; ++j) {\n",
    "                result[idx++] = matrix[i + j][m - 1 - j];\n",
    "            }\n",
    "        }\n",
    "        return result;\n",
    "    }\n",
    "}"
   ]
  },
  {
   "cell_type": "code",
   "execution_count": 5,
   "metadata": {},
   "outputs": [
    {
     "data": {
      "text/plain": [
       "[1, 2, 4, 3, 5, 7, 6, 8, 9]"
      ]
     },
     "execution_count": 5,
     "metadata": {},
     "output_type": "execute_result"
    }
   ],
   "source": [
    "int[][] matrix = {\n",
    "    {1,2,3},\n",
    "    {4,5,6},\n",
    "    {7,8,9}\n",
    "};\n",
    "Arrays.toString(new Solution().findDiagonalOrder(matrix));"
   ]
  },
  {
   "cell_type": "code",
   "execution_count": 6,
   "metadata": {},
   "outputs": [
    {
     "data": {
      "text/plain": [
       "[1, 2, 3]"
      ]
     },
     "execution_count": 6,
     "metadata": {},
     "output_type": "execute_result"
    }
   ],
   "source": [
    "int[][] matrix = {\n",
    "    {1},\n",
    "    {2},\n",
    "    {3}\n",
    "};\n",
    "Arrays.toString(new Solution().findDiagonalOrder(matrix));"
   ]
  },
  {
   "cell_type": "code",
   "execution_count": 24,
   "metadata": {},
   "outputs": [],
   "source": [
    "public class Solution {\n",
    "    public int[] findDiagonalOrder(int[][] matrix) {\n",
    "        int n = matrix.length;\n",
    "        if (n == 0) return new int[0];\n",
    "        int m = matrix[0].length;\n",
    "        int idx = 0;\n",
    "        int[] result = new int[n * m];\n",
    "        for (int i = 0; i < m; ++i) {\n",
    "            int until = Math.min(n - 1, i);\n",
    "            for (int j = 0; j <= until; ++j) {\n",
    "                if (i % 2 == 0) {\n",
    "                    result[idx++] = matrix[until - j][i - until + j];\n",
    "                } else {\n",
    "                    result[idx++] = matrix[j][i - j];\n",
    "                }\n",
    "            }\n",
    "        }\n",
    "        for (int i = 1; i < n; ++i) {\n",
    "            int until = Math.min(n - 1 - i, m - 1);\n",
    "            for (int j = 0; j <= until; ++j) {\n",
    "                if ((m + i) % 2 == 0) {\n",
    "                    result[idx++] = matrix[i + j][m - 1 - j];                    \n",
    "                } else {\n",
    "                    result[idx++] = matrix[i + until - j][m - 1 - until + j];\n",
    "\n",
    "                }\n",
    "            }\n",
    "        }\n",
    "        return result;\n",
    "    }\n",
    "}"
   ]
  },
  {
   "cell_type": "code",
   "execution_count": 25,
   "metadata": {},
   "outputs": [
    {
     "data": {
      "text/plain": [
       "[1, 2, 4, 7, 5, 3, 6, 8, 9]"
      ]
     },
     "execution_count": 25,
     "metadata": {},
     "output_type": "execute_result"
    }
   ],
   "source": [
    "int[][] matrix = {\n",
    "    {1,2,3},\n",
    "    {4,5,6},\n",
    "    {7,8,9}\n",
    "};\n",
    "Arrays.toString(new Solution().findDiagonalOrder(matrix));"
   ]
  },
  {
   "cell_type": "code",
   "execution_count": 26,
   "metadata": {},
   "outputs": [
    {
     "data": {
      "text/plain": [
       "[1, 2, 4, 5, 3, 6]"
      ]
     },
     "execution_count": 26,
     "metadata": {},
     "output_type": "execute_result"
    }
   ],
   "source": [
    "int[][] matrix = {\n",
    "    {1,2,3},\n",
    "    {4,5,6}\n",
    "};\n",
    "Arrays.toString(new Solution().findDiagonalOrder(matrix));"
   ]
  },
  {
   "cell_type": "code",
   "execution_count": 27,
   "metadata": {},
   "outputs": [
    {
     "data": {
      "text/plain": [
       "[1, 2, 3]"
      ]
     },
     "execution_count": 27,
     "metadata": {},
     "output_type": "execute_result"
    }
   ],
   "source": [
    "int[][] matrix = {\n",
    "    {1},\n",
    "    {2},\n",
    "    {3}\n",
    "};\n",
    "Arrays.toString(new Solution().findDiagonalOrder(matrix));"
   ]
  },
  {
   "cell_type": "code",
   "execution_count": null,
   "metadata": {},
   "outputs": [],
   "source": []
  }
 ],
 "metadata": {
  "kernelspec": {
   "display_name": "Java",
   "language": "java",
   "name": "java"
  },
  "language_info": {
   "codemirror_mode": "java",
   "file_extension": ".jshell",
   "mimetype": "text/x-java-source",
   "name": "Java",
   "pygments_lexer": "java",
   "version": "11.0.3+7"
  }
 },
 "nbformat": 4,
 "nbformat_minor": 2
}
