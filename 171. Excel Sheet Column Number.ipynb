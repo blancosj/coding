{
 "cells": [
  {
   "cell_type": "markdown",
   "metadata": {},
   "source": [
    "Given a column title as appear in an Excel sheet, return its corresponding column number.\n",
    "\n",
    "__For example:__\n",
    "```\n",
    "    A -> 1\n",
    "    B -> 2\n",
    "    C -> 3\n",
    "    ...\n",
    "    Z -> 26\n",
    "    AA -> 27\n",
    "    AB -> 28 \n",
    "    ...\n",
    "```    \n",
    "__Example 1:__\n",
    "```\n",
    "Input: \"A\"\n",
    "Output: 1\n",
    "```\n",
    "__Example 2:__\n",
    "```\n",
    "Input: \"AB\"\n",
    "Output: 28\n",
    "```\n",
    "__Example 3:__\n",
    "```\n",
    "Input: \"ZY\"\n",
    "Output: 701\n",
    "``` \n",
    "__Constraints:__\n",
    "\n",
    "* 1 <= s.length <= 7\n",
    "* s consists only of uppercase English letters.\n",
    "* s is between \"A\" and \"FXSHRXW\"."
   ]
  },
  {
   "cell_type": "code",
   "execution_count": 8,
   "metadata": {},
   "outputs": [],
   "source": [
    "public class Solution {\n",
    "    public int solve(String s) {\n",
    "        int answer = 0;\n",
    "        int n = s.length();\n",
    "        int base = 'Z' - 'A' + 1;\n",
    "        for (int i = 0; i < n; ++i) {\n",
    "            char c = s.charAt(i);\n",
    "            int p = n - i - 1;\n",
    "            answer += Math.pow(base, p) * (c - 'A' + 1);\n",
    "        }\n",
    "        return answer;\n",
    "    }\n",
    "}"
   ]
  },
  {
   "cell_type": "code",
   "execution_count": 9,
   "metadata": {},
   "outputs": [
    {
     "data": {
      "text/plain": [
       "1"
      ]
     },
     "execution_count": 9,
     "metadata": {},
     "output_type": "execute_result"
    }
   ],
   "source": [
    "new Solution().solve(\"A\");"
   ]
  },
  {
   "cell_type": "code",
   "execution_count": 10,
   "metadata": {},
   "outputs": [
    {
     "data": {
      "text/plain": [
       "28"
      ]
     },
     "execution_count": 10,
     "metadata": {},
     "output_type": "execute_result"
    }
   ],
   "source": [
    "new Solution().solve(\"AB\");"
   ]
  },
  {
   "cell_type": "code",
   "execution_count": 11,
   "metadata": {},
   "outputs": [
    {
     "data": {
      "text/plain": [
       "701"
      ]
     },
     "execution_count": 11,
     "metadata": {},
     "output_type": "execute_result"
    }
   ],
   "source": [
    "new Solution().solve(\"ZY\");"
   ]
  },
  {
   "cell_type": "code",
   "execution_count": 12,
   "metadata": {},
   "outputs": [
    {
     "data": {
      "text/plain": [
       "27"
      ]
     },
     "execution_count": 12,
     "metadata": {},
     "output_type": "execute_result"
    }
   ],
   "source": [
    "new Solution().solve(\"AA\");"
   ]
  },
  {
   "cell_type": "code",
   "execution_count": null,
   "metadata": {},
   "outputs": [],
   "source": []
  },
  {
   "cell_type": "code",
   "execution_count": null,
   "metadata": {},
   "outputs": [],
   "source": []
  }
 ],
 "metadata": {
  "kernelspec": {
   "display_name": "Java",
   "language": "java",
   "name": "java"
  },
  "language_info": {
   "codemirror_mode": "java",
   "file_extension": ".jshell",
   "mimetype": "text/x-java-source",
   "name": "Java",
   "pygments_lexer": "java",
   "version": "11.0.3+7"
  }
 },
 "nbformat": 4,
 "nbformat_minor": 2
}
