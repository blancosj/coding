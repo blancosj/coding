{
 "cells": [
  {
   "cell_type": "markdown",
   "metadata": {},
   "source": [
    "Given n pairs of parentheses, write a function to generate all combinations of well-formed parentheses.\n",
    "\n",
    "For example, given n = 3, a solution set is:\n",
    "```\n",
    "[\n",
    "  \"((()))\",\n",
    "  \"(()())\",\n",
    "  \"(())()\",\n",
    "  \"()(())\",\n",
    "  \"()()()\"\n",
    "]\n",
    "```"
   ]
  },
  {
   "cell_type": "markdown",
   "metadata": {},
   "source": [
    "Since it is a binary combinatiory problem the catalan numbers can be applied here\n",
    "\n",
    "Time Complexity $C(n)$ = $\\frac{1}{n+1}{2n\\choose n}$ ~ $O(n^2)$\n",
    "\n",
    "$1,1,2,5,14,42,132,429,1430,4862$"
   ]
  },
  {
   "cell_type": "code",
   "execution_count": 6,
   "metadata": {},
   "outputs": [],
   "source": [
    "public class Solution {\n",
    "    public List<String> generateParenthesis(int n) {\n",
    "        List<String> answer = new ArrayList<>();\n",
    "        dfs(answer, new char[n * 2], n, 0, 0);\n",
    "        return answer;\n",
    "    }\n",
    "    private void dfs(List<String> answer, char[] cur, int n, int open, int close) {\n",
    "        int pos = open + close;\n",
    "        if (pos == cur.length) {\n",
    "            answer.add(new String(cur));\n",
    "            return;\n",
    "        }\n",
    "        if (open < n) {\n",
    "            char[] t = Arrays.copyOf(cur, n * 2);\n",
    "            t[pos] = '(';\n",
    "            dfs(answer, t, n, open + 1, close);\n",
    "        }\n",
    "        if (close < open) {\n",
    "            char[] t = Arrays.copyOf(cur, n * 2);\n",
    "            t[pos] = ')';\n",
    "            dfs(answer, t, n, open, close + 1);\n",
    "        }\n",
    "    }\n",
    "}"
   ]
  },
  {
   "cell_type": "code",
   "execution_count": 8,
   "metadata": {},
   "outputs": [
    {
     "data": {
      "text/plain": [
       "[((())), (()()), (())(), ()(()), ()()()]"
      ]
     },
     "execution_count": 8,
     "metadata": {},
     "output_type": "execute_result"
    }
   ],
   "source": [
    "new Solution().generateParenthesis(3);"
   ]
  },
  {
   "cell_type": "code",
   "execution_count": 10,
   "metadata": {},
   "outputs": [
    {
     "data": {
      "text/plain": [
       "[((((())))), (((()()))), (((())())), (((()))()), (((())))(), ((()(()))), ((()()())), ((()())()), ((()()))(), ((())(())), ((())()()), ((())())(), ((()))(()), ((()))()(), (()((()))), (()(()())), (()(())()), (()(()))(), (()()(())), (()()()()), (()()())(), (()())(()), (()())()(), (())((())), (())(()()), (())(())(), (())()(()), (())()()(), ()(((()))), ()((()())), ()((())()), ()((()))(), ()(()(())), ()(()()()), ()(()())(), ()(())(()), ()(())()(), ()()((())), ()()(()()), ()()(())(), ()()()(()), ()()()()()]"
      ]
     },
     "execution_count": 10,
     "metadata": {},
     "output_type": "execute_result"
    }
   ],
   "source": [
    "new Solution().generateParenthesis(5);"
   ]
  },
  {
   "cell_type": "code",
   "execution_count": 19,
   "metadata": {},
   "outputs": [],
   "source": [
    "public class CatalanNumber {\n",
    "    public int calculate(int n) {\n",
    "        int answer = 0;\n",
    "        if (n <= 1) return 1;\n",
    "        for (int i = 0; i < n; ++i) {\n",
    "            answer += calculate(i) * calculate(n - i - 1);\n",
    "        }\n",
    "        return answer;\n",
    "    }\n",
    "    public int calculate2(int n) {\n",
    "        int[] answer = new int[n + 1];\n",
    "        answer[0] = answer[1] = 1;\n",
    "        for (int i = 2; i <= n; ++i) {\n",
    "            for (int j = 0; j < i; ++j) {\n",
    "                answer[i] += answer[j] * answer[i - j - 1];\n",
    "            }\n",
    "        }\n",
    "        return answer[n];\n",
    "    }\n",
    "}"
   ]
  },
  {
   "cell_type": "code",
   "execution_count": 20,
   "metadata": {},
   "outputs": [
    {
     "data": {
      "text/plain": [
       "5"
      ]
     },
     "execution_count": 20,
     "metadata": {},
     "output_type": "execute_result"
    }
   ],
   "source": [
    "new CatalanNumber().calculate(3);"
   ]
  },
  {
   "cell_type": "code",
   "execution_count": 21,
   "metadata": {},
   "outputs": [
    {
     "data": {
      "text/plain": [
       "5"
      ]
     },
     "execution_count": 21,
     "metadata": {},
     "output_type": "execute_result"
    }
   ],
   "source": [
    "new CatalanNumber().calculate2(3);"
   ]
  },
  {
   "cell_type": "code",
   "execution_count": null,
   "metadata": {},
   "outputs": [],
   "source": []
  }
 ],
 "metadata": {
  "kernelspec": {
   "display_name": "Java",
   "language": "java",
   "name": "java"
  },
  "language_info": {
   "codemirror_mode": "java",
   "file_extension": ".jshell",
   "mimetype": "text/x-java-source",
   "name": "Java",
   "pygments_lexer": "java",
   "version": "11.0.3+7"
  }
 },
 "nbformat": 4,
 "nbformat_minor": 2
}
