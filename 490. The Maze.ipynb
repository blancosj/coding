{
 "cells": [
  {
   "cell_type": "markdown",
   "metadata": {},
   "source": [
    "There is a ball in a maze with empty spaces and walls. The ball can go through empty spaces by rolling up, down, left or right, but it won't stop rolling until hitting a wall. When the ball stops, it could choose the next direction.\n",
    "\n",
    "Given the ball's start position, the destination and the maze, determine whether the ball could stop at the destination.\n",
    "\n",
    "The maze is represented by a binary 2D array. 1 means the wall and 0 means the empty space. You may assume that the borders of the maze are all walls. The start and destination coordinates are represented by row and column indexes.\n",
    "\n",
    "Example 1:\n",
    "```\n",
    "Input 1: a maze represented by a 2D array\n",
    "\n",
    "0 0 1 0 0\n",
    "0 0 0 0 0\n",
    "0 0 0 1 0\n",
    "1 1 0 1 1\n",
    "0 0 0 0 0\n",
    "\n",
    "Input 2: start coordinate (rowStart, colStart) = (0, 4)\n",
    "Input 3: destination coordinate (rowDest, colDest) = (4, 4)\n",
    "\n",
    "Output: true\n",
    "\n",
    "Explanation: One possible way is : left -> down -> left -> down -> right -> down -> right.\n",
    "```\n",
    "Example 2:\n",
    "```\n",
    "Input 1: a maze represented by a 2D array\n",
    "\n",
    "0 0 1 0 0\n",
    "0 0 0 0 0\n",
    "0 0 0 1 0\n",
    "1 1 0 1 1\n",
    "0 0 0 0 0\n",
    "\n",
    "Input 2: start coordinate (rowStart, colStart) = (0, 4)\n",
    "Input 3: destination coordinate (rowDest, colDest) = (3, 2)\n",
    "\n",
    "Output: false\n",
    "\n",
    "Explanation: There is no way for the ball to stop at the destination.\n",
    "```\n",
    "Note:\n",
    "\n",
    "* There is only one ball and one destination in the maze.\n",
    "* Both the ball and the destination exist on an empty space, and they will not be at the same position initially.\n",
    "* The given maze does not contain border (like the red rectangle in the example pictures), but you could assume the border of the maze are all walls.\n",
    "* The maze contains at least 2 empty spaces, and both the width and height of the maze won't exceed 100."
   ]
  },
  {
   "cell_type": "code",
   "execution_count": null,
   "metadata": {},
   "outputs": [],
   "source": [
    "public class Solution {\n",
    "    public boolean hasPath(int[][] maze, int[] start, int[] dest) {\n",
    "    \n",
    "        dfs(maze, start, dest, visited)\n",
    "    }\n",
    "    private boolean dfs(maze, start, dest, visited, lastMove) {\n",
    "        \n",
    "        newPos = start + lastMove\n",
    "        if (newPos != 1) return dfs(maze, newPos, dest, lastMove)\n",
    "        \n",
    "        if (start == dest) return true;\n",
    "        for (move : moves) {\n",
    "            newPos = start + move\n",
    "            if (dfs(maze, newPos, dest, move)) return true\n",
    "        }\n",
    "        return false\n",
    "    }\n",
    "}"
   ]
  }
 ],
 "metadata": {
  "kernelspec": {
   "display_name": "Java",
   "language": "java",
   "name": "java"
  },
  "language_info": {
   "codemirror_mode": "java",
   "file_extension": ".jshell",
   "mimetype": "text/x-java-source",
   "name": "Java",
   "pygments_lexer": "java",
   "version": "11.0.3+7"
  }
 },
 "nbformat": 4,
 "nbformat_minor": 2
}
