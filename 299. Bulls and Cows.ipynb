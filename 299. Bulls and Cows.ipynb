{
 "cells": [
  {
   "cell_type": "markdown",
   "metadata": {},
   "source": [
    "## <a href='https://leetcode.com/problems/bulls-and-cows/'>299. Bulls and Cows</a>\n",
    "You are playing the following Bulls and Cows game with your friend: You write down a number and ask your friend to guess what the number is. Each time your friend makes a guess, you provide a hint that indicates how many digits in said guess match your secret number exactly in both digit and position (called \"bulls\") and how many digits match the secret number but locate in the wrong position (called \"cows\"). Your friend will use successive guesses and hints to eventually derive the secret number.\n",
    "\n",
    "Write a function to return a hint according to the secret number and friend's guess, use A to indicate the bulls and B to indicate the cows. \n",
    "\n",
    "Please note that both secret number and friend's guess may contain duplicate digits.\n",
    "\n",
    "**Example 1:**\n",
    "```\n",
    "Input: secret = \"1807\", guess = \"7810\"\n",
    "Output: \"1A3B\"\n",
    "Explanation: 1 bull and 3 cows. The bull is 8, the cows are 0, 1 and 7.\n",
    "```\n",
    "__Example 2:__\n",
    "```\n",
    "Input: secret = \"1123\", guess = \"0111\"\n",
    "Output: \"1A1B\"\n",
    "Explanation: The 1st 1 in friend's guess is a bull, the 2nd or 3rd 1 is a cow.\n",
    "```\n",
    "* Note: You may assume that the secret number and your friend's guess only contain digits, and their lengths are always equal."
   ]
  },
  {
   "cell_type": "code",
   "execution_count": 1,
   "metadata": {},
   "outputs": [],
   "source": [
    "public class Solution {\n",
    "    public String getHint(String secret, String guess) {\n",
    "        int n = secret.length();\n",
    "        int bulls = 0, cows = 0;\n",
    "        Map<Character, Integer> map = new HashMap<>();\n",
    "        for (int i = 0; i < n; ++i) {\n",
    "            char s = secret.charAt(i);\n",
    "            char g = guess.charAt(i);\n",
    "            if (s == g) {\n",
    "                bulls++;\n",
    "            } else {\n",
    "                if (map.getOrDefault(s, 0) > 0) cows++;\n",
    "                if (map.getOrDefault(g, 0) < 0) cows++;\n",
    "                map.put(s, map.getOrDefault(s, 0) - 1);\n",
    "                map.put(g, map.getOrDefault(g, 0) + 1);\n",
    "            }\n",
    "        }\n",
    "        return String.format(\"%dA%dB\", bulls, cows);\n",
    "    }\n",
    "}"
   ]
  },
  {
   "cell_type": "code",
   "execution_count": 2,
   "metadata": {},
   "outputs": [
    {
     "data": {
      "text/plain": [
       "1A3B"
      ]
     },
     "execution_count": 2,
     "metadata": {},
     "output_type": "execute_result"
    }
   ],
   "source": [
    "new Solution().getHint(\"1807\", \"7810\");"
   ]
  },
  {
   "cell_type": "code",
   "execution_count": 3,
   "metadata": {},
   "outputs": [
    {
     "data": {
      "text/plain": [
       "1A1B"
      ]
     },
     "execution_count": 3,
     "metadata": {},
     "output_type": "execute_result"
    }
   ],
   "source": [
    "new Solution().getHint(\"1123\", \"0111\");"
   ]
  },
  {
   "cell_type": "code",
   "execution_count": null,
   "metadata": {},
   "outputs": [],
   "source": []
  }
 ],
 "metadata": {
  "kernelspec": {
   "display_name": "Java",
   "language": "java",
   "name": "java"
  },
  "language_info": {
   "codemirror_mode": "java",
   "file_extension": ".jshell",
   "mimetype": "text/x-java-source",
   "name": "Java",
   "pygments_lexer": "java",
   "version": "11.0.3+7"
  }
 },
 "nbformat": 4,
 "nbformat_minor": 2
}
