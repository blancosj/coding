{
 "cells": [
  {
   "cell_type": "markdown",
   "metadata": {},
   "source": [
    "## <a href='https://leetcode.com/problems/squares-of-a-sorted-array/'>977. Squares of a Sorted Array</a>\n",
    "\n",
    "Given an integer array nums sorted in non-decreasing order, return an array of the squares of each number sorted in non-decreasing order.\n",
    "\n",
    "__Example 1:__\n",
    "```\n",
    "Input: nums = [-4,-1,0,3,10]\n",
    "Output: [0,1,9,16,100]\n",
    "Explanation: After squaring, the array becomes [16,1,0,9,100].\n",
    "After sorting, it becomes [0,1,9,16,100].\n",
    "```\n",
    "__Example 2:__\n",
    "```\n",
    "Input: nums = [-7,-3,2,3,11]\n",
    "Output: [4,9,9,49,121]\n",
    "``` \n",
    "__Constraints:__\n",
    "\n",
    "* ```1 <= nums.length <= 104```\n",
    "* ```-104 <= nums[i] <= 104```\n",
    "* nums is sorted in non-decreasing order"
   ]
  },
  {
   "cell_type": "code",
   "execution_count": 1,
   "metadata": {},
   "outputs": [],
   "source": [
    "public class Solution {\n",
    "    public int[] sortedSquares(int[] nums) {\n",
    "        int n = nums.length;\n",
    "        for (int i = 0; i < n; ++i) nums[i] *= nums[i];\n",
    "        int p1 = -1, p2 = n;\n",
    "        // 16 0 4\n",
    "        // -4 0 2\n",
    "        // ^. ^\n",
    "        while (nums[p1] < 0 && p1 < n) ++p1;\n",
    "        while (nums[p2] >= 0 && p2 >= 0) --p2;         \n",
    "        int[] result = new int[n];\n",
    "        for (int i = 0; i < n; ++i) {\n",
    "            if (p1 >= 0 && (nums[p1] < nums[p2] || p2 == n)) {\n",
    "                result[i] = nums[p1--];\n",
    "            } else if (p2 < n) {\n",
    "                result[i] = nums[p2++];\n",
    "            }\n",
    "        }\n",
    "        return result;\n",
    "    }\n",
    "}"
   ]
  },
  {
   "cell_type": "code",
   "execution_count": 2,
   "metadata": {},
   "outputs": [
    {
     "ename": "EvalException",
     "evalue": "Index -1 out of bounds for length 5",
     "output_type": "error",
     "traceback": [
      "\u001b[1m\u001b[31m---------------------------------------------------------------------------\u001b[0m",
      "\u001b[1m\u001b[31mjava.lang.ArrayIndexOutOfBoundsException: Index -1 out of bounds for length 5\u001b[0m",
      "\u001b[1m\u001b[31m\tat Solution.sortedSquares(#12:9)\u001b[0m",
      "\u001b[1m\u001b[31m\tat .(#13:1)\u001b[0m"
     ]
    }
   ],
   "source": [
    "new Solution().sortedSquares(new int[] {-4,-1,0,3,10});"
   ]
  },
  {
   "cell_type": "code",
   "execution_count": null,
   "metadata": {},
   "outputs": [],
   "source": [
    "new Solution().sortedSquares(new int[] {-4,0,2});"
   ]
  },
  {
   "cell_type": "code",
   "execution_count": null,
   "metadata": {},
   "outputs": [],
   "source": []
  },
  {
   "cell_type": "code",
   "execution_count": null,
   "metadata": {},
   "outputs": [],
   "source": []
  }
 ],
 "metadata": {
  "kernelspec": {
   "display_name": "Java",
   "language": "java",
   "name": "java"
  },
  "language_info": {
   "codemirror_mode": "java",
   "file_extension": ".jshell",
   "mimetype": "text/x-java-source",
   "name": "Java",
   "pygments_lexer": "java",
   "version": "11.0.3+7"
  }
 },
 "nbformat": 4,
 "nbformat_minor": 2
}
