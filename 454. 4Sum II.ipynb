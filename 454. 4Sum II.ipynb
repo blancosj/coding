{
 "cells": [
  {
   "cell_type": "markdown",
   "metadata": {},
   "source": [
    "## <a href='https://leetcode.com/problems/4sum-ii/'>454. 4Sum II</a>\n",
    "\n",
    "Given four lists A, B, C, D of integer values, compute how many tuples ```(i, j, k, l)``` there are such that ```A[i] + B[j] + C[k] + D[l]``` is zero.\n",
    "\n",
    "To make problem a bit easier, all A, B, C, D have same length of N where 0 ≤ N ≤ 500. All integers are in the range of -228 to 228 - 1 and the result is guaranteed to be at most 231 - 1.\n",
    "\n",
    "__Example:__\n",
    "```\n",
    "Input:\n",
    "A = [ 1, 2]\n",
    "B = [-2,-1]\n",
    "C = [-1, 2]\n",
    "D = [ 0, 2]\n",
    "\n",
    "Output:\n",
    "2\n",
    "\n",
    "Explanation:\n",
    "The two tuples are:\n",
    "1. (0, 0, 0, 1) -> A[0] + B[0] + C[0] + D[1] = 1 + (-2) + (-1) + 2 = 0\n",
    "2. (1, 1, 0, 0) -> A[1] + B[1] + C[0] + D[0] = 2 + (-1) + (-1) + 0 = 0\n",
    "```"
   ]
  },
  {
   "cell_type": "code",
   "execution_count": 7,
   "metadata": {},
   "outputs": [],
   "source": [
    "public class SolutionRec {\n",
    "    public int fourSumCount(int[] A, int[] B, int[] C, int[] D) {\n",
    "        int[][] lists = {A,B,C,D};\n",
    "        return helper(lists, 0, lists.length - 1, 0);\n",
    "    }\n",
    "    private int helper(int[][] lists, int from, int to, int acc) {\n",
    "        if (from > to) return acc == 0 ? 1 : 0;\n",
    "        int[] list = lists[from];\n",
    "        int n = list.length;\n",
    "        int result = 0;\n",
    "        for (int i = 0; i < n; ++i) {\n",
    "            result += helper(lists, from + 1, to, acc + list[i]);\n",
    "        }\n",
    "        return result;\n",
    "    }\n",
    "}"
   ]
  },
  {
   "cell_type": "code",
   "execution_count": 8,
   "metadata": {},
   "outputs": [
    {
     "data": {
      "text/plain": [
       "2"
      ]
     },
     "execution_count": 8,
     "metadata": {},
     "output_type": "execute_result"
    }
   ],
   "source": [
    "int[] A = {1,2};\n",
    "int[] B = {-2,-1};\n",
    "int[] C = {-1,2};\n",
    "int[] D = {0,2};\n",
    "new SolutionRec().fourSumCount(A,B,C,D);"
   ]
  },
  {
   "cell_type": "code",
   "execution_count": 12,
   "metadata": {},
   "outputs": [],
   "source": [
    "public class SolutionRecWithMemo {\n",
    "    private Map<Integer, Integer> cache = new HashMap<>();\n",
    "    public int fourSumCount(int[] A, int[] B, int[] C, int[] D) {\n",
    "        int[][] lists = {A,B,C,D};\n",
    "        buildCache(lists, 2, lists.length - 1, 0);\n",
    "        return helper(lists, 0, 1, 0);\n",
    "    }\n",
    "    private int helper(int[][] lists, int from, int to, int acc) {\n",
    "        if (from > to) return cache.getOrDefault(acc, 0);\n",
    "        int[] list = lists[from];\n",
    "        int n = list.length;\n",
    "        int result = 0;\n",
    "        for (int i = 0; i < n; ++i) {\n",
    "            result += helper(lists, from + 1, to, acc - list[i]);\n",
    "        }\n",
    "        return result;\n",
    "    }\n",
    "    private void buildCache(int[][] lists, int from, int to, int acc) {\n",
    "        if (from > to) {\n",
    "            cache.put(acc, cache.getOrDefault(acc, 0) + 1);\n",
    "            return;\n",
    "        }\n",
    "        int[] list = lists[from];\n",
    "        int n = list.length;\n",
    "        for (int i = 0; i < n; ++i) {\n",
    "            buildCache(lists, from + 1, to, acc + list[i]);\n",
    "        }\n",
    "    }\n",
    "}"
   ]
  },
  {
   "cell_type": "code",
   "execution_count": 13,
   "metadata": {},
   "outputs": [
    {
     "data": {
      "text/plain": [
       "2"
      ]
     },
     "execution_count": 13,
     "metadata": {},
     "output_type": "execute_result"
    }
   ],
   "source": [
    "int[] A = {1,2};\n",
    "int[] B = {-2,-1};\n",
    "int[] C = {-1,2};\n",
    "int[] D = {0,2};\n",
    "new SolutionRecWithMemo().fourSumCount(A,B,C,D);"
   ]
  },
  {
   "cell_type": "code",
   "execution_count": null,
   "metadata": {},
   "outputs": [],
   "source": []
  },
  {
   "cell_type": "code",
   "execution_count": null,
   "metadata": {},
   "outputs": [],
   "source": []
  },
  {
   "cell_type": "code",
   "execution_count": null,
   "metadata": {},
   "outputs": [],
   "source": []
  }
 ],
 "metadata": {
  "kernelspec": {
   "display_name": "Java",
   "language": "java",
   "name": "java"
  },
  "language_info": {
   "codemirror_mode": "java",
   "file_extension": ".jshell",
   "mimetype": "text/x-java-source",
   "name": "Java",
   "pygments_lexer": "java",
   "version": "11.0.3+7"
  }
 },
 "nbformat": 4,
 "nbformat_minor": 2
}
