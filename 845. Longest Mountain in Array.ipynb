{
 "cells": [
  {
   "cell_type": "markdown",
   "metadata": {},
   "source": [
    "## <a href='https://leetcode.com/problems/longest-mountain-in-array/'>845. Longest Mountain in Array</a>\n",
    "\n",
    "Let's call any (contiguous) subarray B (of A) a mountain if the following properties hold:\n",
    "\n",
    "* B.length >= 3\n",
    "* There exists some 0 < i < B.length - 1 such that B[0] < B[1] < ... B[i-1] < B[i] > B[i+1] > ... > B[B.length - 1]\n",
    "\n",
    "(Note that B could be any subarray of A, including the entire array A.)\n",
    "\n",
    "Given an array A of integers, return the length of the longest mountain. \n",
    "\n",
    "Return 0 if there is no mountain.\n",
    "\n",
    "__Example 1:__\n",
    "```\n",
    "Input: [2,1,4,7,3,2,5]\n",
    "Output: 5\n",
    "Explanation: The largest mountain is [1,4,7,3,2] which has length 5.\n",
    "```\n",
    "__Example 2:__\n",
    "```\n",
    "Input: [2,2,2]\n",
    "Output: 0\n",
    "Explanation: There is no mountain.\n",
    "```\n",
    "__Note:__\n",
    "```\n",
    "0 <= A.length <= 10000\n",
    "0 <= A[i] <= 10000\n",
    "```\n",
    "__Follow up:__\n",
    "\n",
    "* Can you solve it using only one pass?\n",
    "* Can you solve it in O(1) space?"
   ]
  },
  {
   "cell_type": "code",
   "execution_count": 8,
   "metadata": {},
   "outputs": [],
   "source": [
    "public class Solution {\n",
    "    public int calc(int[] nums) {\n",
    "        int n = nums.length;\n",
    "        int left = 0;\n",
    "        int result = 0;\n",
    "        while (left < n) {\n",
    "            int right = left;\n",
    "            while (right + 1 < n && nums[right] < nums[right + 1]) right++;\n",
    "            if (left < right && right + 1 < n && nums[right] > nums[right + 1]) {\n",
    "                while (right + 1 < n && nums[right] > nums[right + 1]) right++;\n",
    "                System.out.println(String.format(\"%d %d\", left, right));\n",
    "                result = Math.max(right - left + 1, result);\n",
    "            }\n",
    "            left = Math.max(right, left + 1);\n",
    "        }\n",
    "        return result;\n",
    "    }\n",
    "}"
   ]
  },
  {
   "cell_type": "code",
   "execution_count": 9,
   "metadata": {},
   "outputs": [
    {
     "name": "stdout",
     "output_type": "stream",
     "text": [
      "1 5\n"
     ]
    },
    {
     "data": {
      "text/plain": [
       "5"
      ]
     },
     "execution_count": 9,
     "metadata": {},
     "output_type": "execute_result"
    }
   ],
   "source": [
    "//                                         *\n",
    "new Solution().calc(new int[] {2,1,4,7,3,2,5});\n",
    "//                                          ^"
   ]
  },
  {
   "cell_type": "code",
   "execution_count": 10,
   "metadata": {},
   "outputs": [
    {
     "name": "stdout",
     "output_type": "stream",
     "text": [
      "1 5\n"
     ]
    },
    {
     "data": {
      "text/plain": [
       "5"
      ]
     },
     "execution_count": 10,
     "metadata": {},
     "output_type": "execute_result"
    }
   ],
   "source": [
    "new Solution().calc(new int[] {2,1,4,7,3,2,5});"
   ]
  },
  {
   "cell_type": "code",
   "execution_count": 11,
   "metadata": {},
   "outputs": [
    {
     "name": "stdout",
     "output_type": "stream",
     "text": [
      "0 2\n"
     ]
    },
    {
     "data": {
      "text/plain": [
       "3"
      ]
     },
     "execution_count": 11,
     "metadata": {},
     "output_type": "execute_result"
    }
   ],
   "source": [
    "new Solution().calc(new int[] {1,2,1});"
   ]
  },
  {
   "cell_type": "code",
   "execution_count": 12,
   "metadata": {},
   "outputs": [
    {
     "name": "stdout",
     "output_type": "stream",
     "text": [
      "0 3\n"
     ]
    },
    {
     "data": {
      "text/plain": [
       "4"
      ]
     },
     "execution_count": 12,
     "metadata": {},
     "output_type": "execute_result"
    }
   ],
   "source": [
    "new Solution().calc(new int[] {0,1,2,1,1,1});"
   ]
  },
  {
   "cell_type": "code",
   "execution_count": 13,
   "metadata": {},
   "outputs": [
    {
     "name": "stdout",
     "output_type": "stream",
     "text": [
      "0 2\n",
      "2 5\n"
     ]
    },
    {
     "data": {
      "text/plain": [
       "4"
      ]
     },
     "execution_count": 13,
     "metadata": {},
     "output_type": "execute_result"
    }
   ],
   "source": [
    "new Solution().calc(new int[] {825,884,231,731,723,685});"
   ]
  },
  {
   "cell_type": "code",
   "execution_count": null,
   "metadata": {},
   "outputs": [],
   "source": []
  },
  {
   "cell_type": "code",
   "execution_count": null,
   "metadata": {},
   "outputs": [],
   "source": []
  }
 ],
 "metadata": {
  "kernelspec": {
   "display_name": "Java",
   "language": "java",
   "name": "java"
  },
  "language_info": {
   "codemirror_mode": "java",
   "file_extension": ".jshell",
   "mimetype": "text/x-java-source",
   "name": "Java",
   "pygments_lexer": "java",
   "version": "11.0.3+7"
  }
 },
 "nbformat": 4,
 "nbformat_minor": 2
}
