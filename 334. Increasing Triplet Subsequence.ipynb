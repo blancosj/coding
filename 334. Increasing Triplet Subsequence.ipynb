{
 "cells": [
  {
   "cell_type": "markdown",
   "metadata": {},
   "source": [
    "## <a href=''>334. Increasing Triplet Subsequence</a>\n",
    "\n",
    "Given an integer array nums, return true if there exists a triple of indices (i, j, k) such that i < j < k and nums[i] < nums[j] < nums[k]. If no such indices exists, return false.\n",
    "\n",
    "__Example 1:__\n",
    "```\n",
    "Input: nums = [1,2,3,4,5]\n",
    "Output: true\n",
    "Explanation: Any triplet where i < j < k is valid.\n",
    "```\n",
    "__Example 2:__\n",
    "```\n",
    "Input: nums = [5,4,3,2,1]\n",
    "Output: false\n",
    "Explanation: No triplet exists.\n",
    "```\n",
    "__Example 3:__\n",
    "```\n",
    "Input: nums = [2,1,5,0,4,6]\n",
    "Output: true\n",
    "Explanation: The triplet (3, 4, 5) is valid because nums[3] == 0 < nums[4] == 4 < nums[5] == 6.\n",
    "``` \n",
    "__Constraints:__\n",
    "* 1 <= nums.length <= 105\n",
    "* -231 <= nums[i] <= 231 - 1 \n",
    "\n",
    "__Follow up:__ Could you implement a solution that runs in O(n) time complexity and O(1) space complexity?"
   ]
  },
  {
   "cell_type": "code",
   "execution_count": 9,
   "metadata": {},
   "outputs": [],
   "source": [
    "public class SolutionGreedy {\n",
    "    public boolean increasingTriplet(int[] nums) {\n",
    "        int n = nums.length;\n",
    "        for (int i = 0; i < n; ++i) {\n",
    "            for (int j = i + 1; j < n; ++j) {\n",
    "                if (nums[i] >= nums[j]) continue;\n",
    "                for (int k = j + 1; k < n; ++k) {\n",
    "                    if (nums[j] >= nums[k]) continue;\n",
    "                    return true;\n",
    "                }\n",
    "            }\n",
    "        }\n",
    "        return false;\n",
    "    }\n",
    "}"
   ]
  },
  {
   "cell_type": "code",
   "execution_count": 10,
   "metadata": {},
   "outputs": [
    {
     "data": {
      "text/plain": [
       "true"
      ]
     },
     "execution_count": 10,
     "metadata": {},
     "output_type": "execute_result"
    }
   ],
   "source": [
    "new SolutionGreedy().increasingTriplet(new int[] {1,2,3,4,5});"
   ]
  },
  {
   "cell_type": "code",
   "execution_count": 11,
   "metadata": {},
   "outputs": [
    {
     "data": {
      "text/plain": [
       "true"
      ]
     },
     "execution_count": 11,
     "metadata": {},
     "output_type": "execute_result"
    }
   ],
   "source": [
    "new SolutionGreedy().increasingTriplet(new int[] {2,1,5,0,4,6});"
   ]
  },
  {
   "cell_type": "code",
   "execution_count": 12,
   "metadata": {},
   "outputs": [
    {
     "data": {
      "text/plain": [
       "false"
      ]
     },
     "execution_count": 12,
     "metadata": {},
     "output_type": "execute_result"
    }
   ],
   "source": [
    "new SolutionGreedy().increasingTriplet(new int[] {5,4,3,2,1});"
   ]
  },
  {
   "cell_type": "code",
   "execution_count": 14,
   "metadata": {},
   "outputs": [],
   "source": [
    "public class SolutionTwoVars {\n",
    "    public boolean increasingTriplet(int[] nums) {\n",
    "        int n = nums.length;\n",
    "        int first = Integer.MAX_VALUE, second = Integer.MAX_VALUE;\n",
    "        for (int num : nums) {\n",
    "            if (first >= num) {\n",
    "                first = num;\n",
    "            } else if (second >= num) {\n",
    "                second = num;\n",
    "            } else return true;\n",
    "        }\n",
    "        return false;\n",
    "    }\n",
    "}"
   ]
  },
  {
   "cell_type": "code",
   "execution_count": 15,
   "metadata": {},
   "outputs": [
    {
     "data": {
      "text/plain": [
       "true"
      ]
     },
     "execution_count": 15,
     "metadata": {},
     "output_type": "execute_result"
    }
   ],
   "source": [
    "new SolutionTwoVars().increasingTriplet(new int[] {2,1,5,0,4,6});"
   ]
  },
  {
   "cell_type": "code",
   "execution_count": 16,
   "metadata": {},
   "outputs": [
    {
     "data": {
      "text/plain": [
       "true"
      ]
     },
     "execution_count": 16,
     "metadata": {},
     "output_type": "execute_result"
    }
   ],
   "source": [
    "new SolutionTwoVars().increasingTriplet(new int[] {1,2,1,1,5});"
   ]
  },
  {
   "cell_type": "code",
   "execution_count": 17,
   "metadata": {},
   "outputs": [
    {
     "data": {
      "text/plain": [
       "false"
      ]
     },
     "execution_count": 17,
     "metadata": {},
     "output_type": "execute_result"
    }
   ],
   "source": [
    "new SolutionTwoVars().increasingTriplet(new int[] {1,2,2,0});"
   ]
  },
  {
   "cell_type": "code",
   "execution_count": 19,
   "metadata": {},
   "outputs": [],
   "source": [
    "public class SolutionXNums {\n",
    "    public boolean increasingSubset(int[] nums, int len) {\n",
    "        int[] buffer = new int[len];\n",
    "        Arrays.fill(buffer, Integer.MAX_VALUE);\n",
    "        for (int num : nums) {\n",
    "            for (int i = 0; i < len; ++i) {\n",
    "                if (i == len - 1) return true;\n",
    "                if (buffer[i] >= num) {\n",
    "                    buffer[i] = num;\n",
    "                    break;\n",
    "                }\n",
    "            }\n",
    "        }\n",
    "        return false;\n",
    "    }\n",
    "}"
   ]
  },
  {
   "cell_type": "code",
   "execution_count": 20,
   "metadata": {},
   "outputs": [
    {
     "data": {
      "text/plain": [
       "false"
      ]
     },
     "execution_count": 20,
     "metadata": {},
     "output_type": "execute_result"
    }
   ],
   "source": [
    "new SolutionTwoVars().increasingTriplet(new int[] {1,2,2,0});"
   ]
  },
  {
   "cell_type": "code",
   "execution_count": 21,
   "metadata": {},
   "outputs": [
    {
     "data": {
      "text/plain": [
       "true"
      ]
     },
     "execution_count": 21,
     "metadata": {},
     "output_type": "execute_result"
    }
   ],
   "source": [
    "new SolutionTwoVars().increasingTriplet(new int[] {1,2,2,5});"
   ]
  },
  {
   "cell_type": "code",
   "execution_count": null,
   "metadata": {},
   "outputs": [],
   "source": []
  }
 ],
 "metadata": {
  "kernelspec": {
   "display_name": "Java",
   "language": "java",
   "name": "java"
  },
  "language_info": {
   "codemirror_mode": "java",
   "file_extension": ".jshell",
   "mimetype": "text/x-java-source",
   "name": "Java",
   "pygments_lexer": "java",
   "version": "11.0.3+7"
  }
 },
 "nbformat": 4,
 "nbformat_minor": 2
}
