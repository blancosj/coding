{
 "cells": [
  {
   "cell_type": "markdown",
   "metadata": {},
   "source": [
    "Given a binary tree, return the zigzag level order traversal of its nodes' values. (ie, from left to right, then right to left for the next level and alternate between).\n",
    "\n",
    "__For example:__\n",
    "```\n",
    "Given binary tree [3,9,20,null,null,15,7],\n",
    "    3\n",
    "   / \\\n",
    "  9  20\n",
    "    /  \\\n",
    "   15   7\n",
    "return its zigzag level order traversal as:\n",
    "[\n",
    "  [3],\n",
    "  [20,9],\n",
    "  [15,7]\n",
    "]\n",
    "```"
   ]
  },
  {
   "cell_type": "code",
   "execution_count": 24,
   "metadata": {},
   "outputs": [],
   "source": [
    "public class TreeNode {\n",
    "    public int val;\n",
    "    public TreeNode left, right;\n",
    "    public TreeNode(int val) {\n",
    "        this.val = val;\n",
    "    }\n",
    "    @Override\n",
    "    public String toString() {\n",
    "        LinkedList<TreeNode> queue = new LinkedList<>();\n",
    "        queue.offer(this);\n",
    "        StringBuilder result = new StringBuilder();\n",
    "        while (!queue.isEmpty()) {\n",
    "            TreeNode cur = queue.poll();\n",
    "            if (cur == null) {\n",
    "                result.append(\"#,\");\n",
    "                continue;\n",
    "            }\n",
    "            result.append(cur.val).append(\",\");\n",
    "            queue.offer(cur.left);\n",
    "            queue.offer(cur.right);\n",
    "        }\n",
    "        result.setLength(result.length() - 1);\n",
    "        return result.toString();\n",
    "    }\n",
    "}"
   ]
  },
  {
   "cell_type": "code",
   "execution_count": 25,
   "metadata": {},
   "outputs": [
    {
     "data": {
      "text/plain": [
       "3,9,20,#,#,15,7,#,#,#,#"
      ]
     },
     "execution_count": 25,
     "metadata": {},
     "output_type": "execute_result"
    }
   ],
   "source": [
    "TreeNode root = new TreeNode(3);\n",
    "root.left = new TreeNode(9);\n",
    "root.right = new TreeNode(20);\n",
    "root.right.left = new TreeNode(15);\n",
    "root.right.right = new TreeNode(7);\n",
    "root;"
   ]
  },
  {
   "cell_type": "code",
   "execution_count": 34,
   "metadata": {},
   "outputs": [],
   "source": [
    "public class SolutionBfs {\n",
    "    public List<List<Integer>> solve(TreeNode root) {\n",
    "        LinkedList<TreeNode> queue = new LinkedList<>();\n",
    "        queue.offer(root);\n",
    "        List<List<Integer>> answer = new ArrayList<>();\n",
    "        int level = 0;\n",
    "        ArrayDeque<Integer> nodeLevels = new ArrayDeque<>();\n",
    "        while (!queue.isEmpty()) {\n",
    "            int size = queue.size();\n",
    "            for (int i = 0; i < size; ++i) {\n",
    "                TreeNode cur = queue.poll();\n",
    "                if (level % 2 == 0) {\n",
    "                    nodeLevels.addLast(cur.val);\n",
    "                } else {\n",
    "                    nodeLevels.addFirst(cur.val);\n",
    "                }\n",
    "                if (cur.left != null) queue.offer(cur.left);\n",
    "                if (cur.right != null) queue.offer(cur.right);\n",
    "            }\n",
    "            answer.add(new ArrayList<>(nodeLevels));\n",
    "            nodeLevels.clear();\n",
    "            level++;\n",
    "        }\n",
    "        return answer;\n",
    "    }\n",
    "}"
   ]
  },
  {
   "cell_type": "code",
   "execution_count": 35,
   "metadata": {},
   "outputs": [
    {
     "data": {
      "text/plain": [
       "[[3], [20, 9], [15, 7]]"
      ]
     },
     "execution_count": 35,
     "metadata": {},
     "output_type": "execute_result"
    }
   ],
   "source": [
    "new SolutionBfs().solve(root);"
   ]
  },
  {
   "cell_type": "code",
   "execution_count": 39,
   "metadata": {},
   "outputs": [],
   "source": [
    "public class SolutionDfs {\n",
    "    private List<List<Integer>> answer = new ArrayList<>();\n",
    "    public List<List<Integer>> solve(TreeNode root) {\n",
    "        dfs(root, 0);\n",
    "        return answer;\n",
    "    }\n",
    "    private void dfs(TreeNode node, int level) {\n",
    "        if (node == null) return;\n",
    "        if (level == answer.size()) {\n",
    "            answer.add(new LinkedList<>());\n",
    "        }\n",
    "        if (level % 2 == 0) {\n",
    "            ((LinkedList<Integer>) answer.get(level)).addLast(node.val);\n",
    "        } else {\n",
    "            ((LinkedList<Integer>) answer.get(level)).addFirst(node.val);\n",
    "        }\n",
    "        dfs(node.left, level + 1);\n",
    "        dfs(node.right, level + 1);\n",
    "    }\n",
    "}"
   ]
  },
  {
   "cell_type": "code",
   "execution_count": 40,
   "metadata": {},
   "outputs": [
    {
     "data": {
      "text/plain": [
       "[[3], [20, 9], [15, 7]]"
      ]
     },
     "execution_count": 40,
     "metadata": {},
     "output_type": "execute_result"
    }
   ],
   "source": [
    "new SolutionDfs().solve(root);"
   ]
  },
  {
   "cell_type": "code",
   "execution_count": null,
   "metadata": {},
   "outputs": [],
   "source": []
  }
 ],
 "metadata": {
  "kernelspec": {
   "display_name": "Java",
   "language": "java",
   "name": "java"
  },
  "language_info": {
   "codemirror_mode": "java",
   "file_extension": ".jshell",
   "mimetype": "text/x-java-source",
   "name": "Java",
   "pygments_lexer": "java",
   "version": "11.0.3+7"
  }
 },
 "nbformat": 4,
 "nbformat_minor": 2
}
