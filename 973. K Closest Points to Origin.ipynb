{
 "cells": [
  {
   "cell_type": "markdown",
   "metadata": {},
   "source": [
    "We have a list of points on the plane.  Find the K closest points to the origin (0, 0).\n",
    "\n",
    "(Here, the distance between two points on a plane is the Euclidean distance.)\n",
    "\n",
    "You may return the answer in any order.  The answer is guaranteed to be unique (except for the order that it is in.)\n",
    "\n",
    "__Example 1__:\n",
    "```\n",
    "Input: points = [[1,3],[-2,2]], K = 1\n",
    "Output: [[-2,2]]\n",
    "Explanation: \n",
    "The distance between (1, 3) and the origin is sqrt(10).\n",
    "The distance between (-2, 2) and the origin is sqrt(8).\n",
    "Since sqrt(8) < sqrt(10), (-2, 2) is closer to the origin.\n",
    "We only want the closest K = 1 points from the origin, so the answer is just [[-2,2]].\n",
    "```\n",
    "__Example 2__:\n",
    "```\n",
    "Input: points = [[3,3],[5,-1],[-2,4]], K = 2\n",
    "Output: [[3,3],[-2,4]]\n",
    "(The answer [[-2,4],[3,3]] would also be accepted.)\n",
    "```\n",
    "__Note__:\n",
    "```\n",
    "* 1 <= K <= points.length <= 10000\n",
    "* -10000 < points[i][0] < 10000\n",
    "* -10000 < points[i][1] < 10000\n",
    "```"
   ]
  },
  {
   "cell_type": "markdown",
   "metadata": {},
   "source": [
    "Time Complexity $O(n\\log n)$ Time Space $O(n)$"
   ]
  },
  {
   "cell_type": "code",
   "execution_count": 13,
   "metadata": {},
   "outputs": [],
   "source": [
    "public class Solution {\n",
    "    public int[][] kClosest(int[][] points, int K) {\n",
    "        int n = points.length;\n",
    "        Arrays.sort(points, (x, y) -> distance(x) - distance(y));\n",
    "        int[][] answer = new int[K][];\n",
    "        for (int i = 0; i < K; ++i) {\n",
    "            answer[i] = points[i];\n",
    "        }\n",
    "        return answer;\n",
    "    }\n",
    "    private int distance(int[] point) {\n",
    "        return (point[0] * point[0]) + (point[1] * point[1]);\n",
    "    }\n",
    "}"
   ]
  },
  {
   "cell_type": "code",
   "execution_count": 14,
   "metadata": {},
   "outputs": [
    {
     "data": {
      "text/plain": [
       "[[-2, 2]]"
      ]
     },
     "execution_count": 14,
     "metadata": {},
     "output_type": "execute_result"
    }
   ],
   "source": [
    "int[][] points1 = {{1,3}, {-2,2}};\n",
    "Arrays.deepToString(new Solution().kClosest(points1, 1));"
   ]
  },
  {
   "cell_type": "code",
   "execution_count": 23,
   "metadata": {},
   "outputs": [
    {
     "data": {
      "text/plain": [
       "[[3, 3]]"
      ]
     },
     "execution_count": 23,
     "metadata": {},
     "output_type": "execute_result"
    }
   ],
   "source": [
    "int[][] points1 = {{3,3},{5,-1},{-2,4}};\n",
    "Arrays.deepToString(new Solution().kClosest(points1, 1));"
   ]
  },
  {
   "cell_type": "markdown",
   "metadata": {},
   "source": [
    "Time Complexity $O(n\\log n)$ Time Space $O(n)$"
   ]
  },
  {
   "cell_type": "code",
   "execution_count": 27,
   "metadata": {},
   "outputs": [],
   "source": [
    "public class Solution2 {\n",
    "    public int[][] kClosest(int[][] points, int K) {\n",
    "        int n = points.length;\n",
    "        PriorityQueue<PointDistance> queue = new PriorityQueue<>((x, y) -> x.distance - y.distance);\n",
    "        for (int[] point : points) {\n",
    "            queue.add(new PointDistance(point));\n",
    "        }\n",
    "        int[][] answer = new int[K][];\n",
    "        for (int i = 0; i < K; ++i) {\n",
    "            answer[i] = queue.remove().point;\n",
    "        }\n",
    "        return answer;\n",
    "    }\n",
    "    public static class PointDistance {\n",
    "        int[] point;\n",
    "        int distance;\n",
    "        PointDistance(int[] point) {\n",
    "            this.point = point;\n",
    "            this.distance = (point[0] * point[0]) + (point[1] * point[1]);\n",
    "        }\n",
    "    }\n",
    "}"
   ]
  },
  {
   "cell_type": "code",
   "execution_count": 28,
   "metadata": {},
   "outputs": [
    {
     "data": {
      "text/plain": [
       "[[-2, 2]]"
      ]
     },
     "execution_count": 28,
     "metadata": {},
     "output_type": "execute_result"
    }
   ],
   "source": [
    "int[][] points1 = {{1,3}, {-2,2}};\n",
    "Arrays.deepToString(new Solution2().kClosest(points1, 1));"
   ]
  },
  {
   "cell_type": "code",
   "execution_count": 29,
   "metadata": {},
   "outputs": [
    {
     "data": {
      "text/plain": [
       "[[3, 3]]"
      ]
     },
     "execution_count": 29,
     "metadata": {},
     "output_type": "execute_result"
    }
   ],
   "source": [
    "int[][] points1 = {{3,3},{5,-1},{-2,4}};\n",
    "Arrays.deepToString(new Solution2().kClosest(points1, 1));"
   ]
  },
  {
   "cell_type": "markdown",
   "metadata": {},
   "source": [
    "Time Complexity $O(n)$ Time Space $O(n)$"
   ]
  },
  {
   "cell_type": "code",
   "execution_count": 36,
   "metadata": {},
   "outputs": [],
   "source": [
    "public class Solution3 {\n",
    "    public int[][] kClosest(int[][] points, int K) {\n",
    "        sort(points, K, 0, points.length - 1);\n",
    "        return Arrays.copyOf(points, K);\n",
    "    }\n",
    "    private void sort(int[][] points, int K, int left, int right) {\n",
    "        if (left > right) return;\n",
    "        int p = partition(points, left, right);\n",
    "        sort(points, K, left, p - 1);\n",
    "        if (p >= K - 1) return;\n",
    "        sort(points, K, p + 1, right);\n",
    "    }\n",
    "    private int partition(int[][] points, int left, int right) {\n",
    "        int m = (left + right) >> 1;\n",
    "        swap(points, m, right);\n",
    "        int p = distance(points[right]);\n",
    "        for (int i = left; i <= right; ++i) {\n",
    "            if (distance(points[i]) < p) {\n",
    "                swap(points, i, left);\n",
    "                left++;\n",
    "            }\n",
    "        }\n",
    "        swap(points, right, left);\n",
    "        return left;\n",
    "    }\n",
    "    private void swap(int[][] points, int x, int y) {\n",
    "        int[] t = points[x];\n",
    "        points[x] = points[y];\n",
    "        points[y] = t;\n",
    "    }\n",
    "    private int distance(int[] point) {\n",
    "        return (point[0] * point[0]) + (point[1] * point[1]);\n",
    "    }\n",
    "}"
   ]
  },
  {
   "cell_type": "code",
   "execution_count": 37,
   "metadata": {},
   "outputs": [
    {
     "data": {
      "text/plain": [
       "[[-2, 2]]"
      ]
     },
     "execution_count": 37,
     "metadata": {},
     "output_type": "execute_result"
    }
   ],
   "source": [
    "int[][] points1 = {{1,3}, {-2,2}};\n",
    "Arrays.deepToString(new Solution3().kClosest(points1, 1));"
   ]
  },
  {
   "cell_type": "code",
   "execution_count": 38,
   "metadata": {},
   "outputs": [
    {
     "data": {
      "text/plain": [
       "[[3, 3]]"
      ]
     },
     "execution_count": 38,
     "metadata": {},
     "output_type": "execute_result"
    }
   ],
   "source": [
    "int[][] points1 = {{3,3},{5,-1},{-2,4}};\n",
    "Arrays.deepToString(new Solution3().kClosest(points1, 1));"
   ]
  },
  {
   "cell_type": "code",
   "execution_count": 39,
   "metadata": {},
   "outputs": [
    {
     "data": {
      "text/plain": [
       "[[-4, -7], [-4, -8], [-2, 10]]"
      ]
     },
     "execution_count": 39,
     "metadata": {},
     "output_type": "execute_result"
    }
   ],
   "source": [
    "int[][] points1 = {{-2,10},{-4,-8},{10,7},{-4,-7}};\n",
    "Arrays.deepToString(new Solution3().kClosest(points1, 3));\n",
    "// result [[-4,-7],[-4,-8],[-2,10]]"
   ]
  },
  {
   "cell_type": "code",
   "execution_count": 41,
   "metadata": {},
   "outputs": [
    {
     "data": {
      "text/plain": [
       "[[17, 7], [-2, -42], [53, 20], [-36, -57], [-69, -8]]"
      ]
     },
     "execution_count": 41,
     "metadata": {},
     "output_type": "execute_result"
    }
   ],
   "source": [
    "int[][] points1 = {{-95,76},{17,7},{-55,-58},{53,20},{-69,-8},{-57,87},{-2,-42},{-10,-87},{-36,-57},{97,-39},{97,49}};\n",
    "Arrays.deepToString(new Solution3().kClosest(points1, 5));\n",
    "// result [[17,7],[-2,-42],[53,20],[-36,-57],[-69,-8]]"
   ]
  },
  {
   "cell_type": "code",
   "execution_count": 42,
   "metadata": {},
   "outputs": [
    {
     "data": {
      "text/plain": [
       "[[-2, 2]]"
      ]
     },
     "execution_count": 42,
     "metadata": {},
     "output_type": "execute_result"
    }
   ],
   "source": [
    "int[][] points1 = {{5,1},{1,3},{3,4},{-2,2}};\n",
    "Arrays.deepToString(new Solution3().kClosest(points1, 1));\n",
    "// result [[-2,2]]"
   ]
  },
  {
   "cell_type": "code",
   "execution_count": null,
   "metadata": {},
   "outputs": [],
   "source": []
  }
 ],
 "metadata": {
  "kernelspec": {
   "display_name": "Java",
   "language": "java",
   "name": "java"
  },
  "language_info": {
   "codemirror_mode": "java",
   "file_extension": ".jshell",
   "mimetype": "text/x-java-source",
   "name": "Java",
   "pygments_lexer": "java",
   "version": "11.0.3+7"
  }
 },
 "nbformat": 4,
 "nbformat_minor": 2
}
