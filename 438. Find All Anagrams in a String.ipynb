{
 "cells": [
  {
   "cell_type": "markdown",
   "metadata": {},
   "source": [
    "Given a string s and a non-empty string p, find all the start indices of p's anagrams in s.\n",
    "\n",
    "Strings consists of lowercase English letters only and the length of both strings s and p will not be larger than 20,100.\n",
    "\n",
    "The order of output does not matter.\n",
    "\n",
    "Example 1:\n",
    "```\n",
    "Input:\n",
    "s: \"cbaebabacd\" p: \"abc\"\n",
    "\n",
    "Output:\n",
    "[0, 6]\n",
    "```\n",
    "Explanation:\n",
    "The substring with start index = 0 is \"cba\", which is an anagram of \"abc\".\n",
    "The substring with start index = 6 is \"bac\", which is an anagram of \"abc\".\n",
    "Example 2:\n",
    "```\n",
    "Input:\n",
    "s: \"abab\" p: \"ab\"\n",
    "\n",
    "Output:\n",
    "[0, 1, 2]\n",
    "```\n",
    "Explanation:\n",
    "The substring with start index = 0 is \"ab\", which is an anagram of \"ab\".\n",
    "The substring with start index = 1 is \"ba\", which is an anagram of \"ab\".\n",
    "The substring with start index = 2 is \"ab\", which is an anagram of \"ab\"."
   ]
  },
  {
   "cell_type": "code",
   "execution_count": 48,
   "metadata": {},
   "outputs": [],
   "source": [
    "public class Solution {\n",
    "    public List<Integer> findAnagrams(String s, String p) {\n",
    "        Map<Character, Integer> pCount = new HashMap<>();\n",
    "        int plen = p.length(), slen = s.length();\n",
    "        for (int i = 0; i < plen; ++i) {\n",
    "            char c = s.charAt(i);\n",
    "            pCount.put(c, pCount.getOrDefault(c, 0) + 1);\n",
    "        }\n",
    "        // a b\n",
    "        // x a b x a b\n",
    "        //     *\n",
    "        //   ^\n",
    "        List<Integer> result = new ArrayList<>();\n",
    "        int left = -1, right = 0;\n",
    "        while (right < slen) {\n",
    "            char c = s.charAt(right);\n",
    "            if (pCount.containsKey(c)) {\n",
    "                if (left == -1) left = right;\n",
    "                pCount.put(c, pCount.get(c) - 1);\n",
    "                if (pCount.get(c) == 0) pCount.remove(c);\n",
    "                if (pCount.size() == 0) {\n",
    "                    result.add(left);\n",
    "                }\n",
    "                right++;\n",
    "            } else if (left != -1 && left < right) {\n",
    "                char lc = s.charAt(left);\n",
    "                pCount.put(lc, pCount.getOrDefault(lc, 0) + 1);\n",
    "                left++;\n",
    "            } else {\n",
    "                right++;\n",
    "                left = -1;\n",
    "            }\n",
    "        }\n",
    "        return result;\n",
    "    }\n",
    "}"
   ]
  },
  {
   "cell_type": "code",
   "execution_count": 49,
   "metadata": {},
   "outputs": [
    {
     "data": {
      "text/plain": [
       "[0]"
      ]
     },
     "execution_count": 49,
     "metadata": {},
     "output_type": "execute_result"
    }
   ],
   "source": [
    "new Solution().findAnagrams(\"abc\", \"ab\");"
   ]
  },
  {
   "cell_type": "code",
   "execution_count": 50,
   "metadata": {
    "scrolled": true
   },
   "outputs": [
    {
     "data": {
      "text/plain": [
       "[0, 6]"
      ]
     },
     "execution_count": 50,
     "metadata": {},
     "output_type": "execute_result"
    }
   ],
   "source": [
    "new Solution().findAnagrams(\"cbaebabacd\", \"abc\");"
   ]
  },
  {
   "cell_type": "code",
   "execution_count": 51,
   "metadata": {},
   "outputs": [
    {
     "data": {
      "text/plain": [
       "[0, 1, 2]"
      ]
     },
     "execution_count": 51,
     "metadata": {},
     "output_type": "execute_result"
    }
   ],
   "source": [
    "new Solution().findAnagrams(\"abab\", \"ab\");"
   ]
  },
  {
   "cell_type": "code",
   "execution_count": 43,
   "metadata": {},
   "outputs": [],
   "source": [
    "public class Solution2 {\n",
    "    public List<Integer> findAnagrams(String s, String p) {\n",
    "        Map<Character, Integer> pCount = new HashMap<>();\n",
    "        Map<Character, Integer> sCount = new HashMap<>();\n",
    "        int plen = p.length(), slen = s.length();\n",
    "        for (int i = 0; i < plen; ++i) {\n",
    "            char c = p.charAt(i);\n",
    "            pCount.put(c, pCount.getOrDefault(c, 0) + 1);\n",
    "        }\n",
    "        List<Integer> result = new ArrayList<>();\n",
    "        int left = 0;\n",
    "        for (int i = 0; i < slen; ++i) {\n",
    "            char c = s.charAt(i);\n",
    "            sCount.put(c, sCount.getOrDefault(c, 0) + 1);\n",
    "            if (sCount.equals(pCount)) {\n",
    "                result.add(left);\n",
    "            }\n",
    "            if (i - left + 1 == plen) {\n",
    "                char cl = s.charAt(left);\n",
    "                if (sCount.containsKey(cl)) {\n",
    "                    sCount.put(cl, sCount.get(cl) - 1);\n",
    "                    if (sCount.get(cl) == 0) sCount.remove(cl);\n",
    "                }\n",
    "                left++;\n",
    "            }\n",
    "            if (slen - left < plen) return result;\n",
    "        }\n",
    "        return result;\n",
    "    }\n",
    "}"
   ]
  },
  {
   "cell_type": "code",
   "execution_count": 44,
   "metadata": {},
   "outputs": [
    {
     "data": {
      "text/plain": [
       "[0]"
      ]
     },
     "execution_count": 44,
     "metadata": {},
     "output_type": "execute_result"
    }
   ],
   "source": [
    "new Solution2().findAnagrams(\"abc\", \"ab\");"
   ]
  },
  {
   "cell_type": "code",
   "execution_count": 45,
   "metadata": {},
   "outputs": [
    {
     "data": {
      "text/plain": [
       "[1]"
      ]
     },
     "execution_count": 45,
     "metadata": {},
     "output_type": "execute_result"
    }
   ],
   "source": [
    "new Solution2().findAnagrams(\"xabc\", \"ab\");"
   ]
  },
  {
   "cell_type": "code",
   "execution_count": 46,
   "metadata": {},
   "outputs": [
    {
     "data": {
      "text/plain": [
       "[0, 1, 2]"
      ]
     },
     "execution_count": 46,
     "metadata": {},
     "output_type": "execute_result"
    }
   ],
   "source": [
    "new Solution2().findAnagrams(\"abab\", \"ab\");"
   ]
  },
  {
   "cell_type": "code",
   "execution_count": 47,
   "metadata": {
    "scrolled": true
   },
   "outputs": [
    {
     "data": {
      "text/plain": [
       "[0, 6]"
      ]
     },
     "execution_count": 47,
     "metadata": {},
     "output_type": "execute_result"
    }
   ],
   "source": [
    "new Solution2().findAnagrams(\"cbaebabacd\", \"abc\");"
   ]
  },
  {
   "cell_type": "code",
   "execution_count": 52,
   "metadata": {},
   "outputs": [],
   "source": [
    "public class Solution3 {\n",
    "    public int findAnagram(String s, String p) {\n",
    "        int countLetters = 'z' - 'a' + 1;\n",
    "        int[] sCount = new int[countLetters];\n",
    "        int[] pCount = new int[countLetters];\n",
    "        int plen = p.length(), slen = s.length();\n",
    "        for (int i = 0; i < plen; ++i) {\n",
    "            pCount[p.charAt(i) - 'a']++;\n",
    "        }\n",
    "        int left = 0;\n",
    "        for (int i = 0; i < slen; ++i) {\n",
    "            sCount[p.charAt(i) - 'a']++;\n",
    "            if (Arrays.equals(sCount, pCount)) result.add(left);\n",
    "            if (i - left + 1 == plen) {\n",
    "                sCount[p.charAt(left)]--;\n",
    "                left++;\n",
    "            }\n",
    "            if (slen - left < plen) return result;\n",
    "        }\n",
    "        return result;\n",
    "    }\n",
    "}"
   ]
  },
  {
   "cell_type": "code",
   "execution_count": 53,
   "metadata": {
    "scrolled": true
   },
   "outputs": [
    {
     "data": {
      "text/plain": [
       "[0, 6]"
      ]
     },
     "execution_count": 53,
     "metadata": {},
     "output_type": "execute_result"
    }
   ],
   "source": [
    "new Solution2().findAnagrams(\"cbaebabacd\", \"abc\");"
   ]
  },
  {
   "cell_type": "code",
   "execution_count": 54,
   "metadata": {},
   "outputs": [
    {
     "data": {
      "text/plain": [
       "[0]"
      ]
     },
     "execution_count": 54,
     "metadata": {},
     "output_type": "execute_result"
    }
   ],
   "source": [
    "new Solution2().findAnagrams(\"abc\", \"ab\");"
   ]
  },
  {
   "cell_type": "code",
   "execution_count": 55,
   "metadata": {},
   "outputs": [
    {
     "data": {
      "text/plain": [
       "[1]"
      ]
     },
     "execution_count": 55,
     "metadata": {},
     "output_type": "execute_result"
    }
   ],
   "source": [
    "new Solution2().findAnagrams(\"xabc\", \"ab\");"
   ]
  },
  {
   "cell_type": "code",
   "execution_count": 56,
   "metadata": {},
   "outputs": [
    {
     "data": {
      "text/plain": [
       "[0, 1, 2]"
      ]
     },
     "execution_count": 56,
     "metadata": {},
     "output_type": "execute_result"
    }
   ],
   "source": [
    "new Solution2().findAnagrams(\"abab\", \"ab\");"
   ]
  },
  {
   "cell_type": "code",
   "execution_count": null,
   "metadata": {},
   "outputs": [],
   "source": []
  }
 ],
 "metadata": {
  "kernelspec": {
   "display_name": "Java",
   "language": "java",
   "name": "java"
  },
  "language_info": {
   "codemirror_mode": "java",
   "file_extension": ".jshell",
   "mimetype": "text/x-java-source",
   "name": "Java",
   "pygments_lexer": "java",
   "version": "11.0.3+7"
  }
 },
 "nbformat": 4,
 "nbformat_minor": 2
}
