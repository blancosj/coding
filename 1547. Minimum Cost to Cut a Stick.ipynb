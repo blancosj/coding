{
 "cells": [
  {
   "cell_type": "markdown",
   "metadata": {},
   "source": [
    "Given a wooden stick of length n units. The stick is labelled from 0 to n. For example, a stick of length 6 is labelled as follows:\n",
    "\n",
    "Given an integer array cuts where cuts[i] denotes a position you should perform a cut at.\n",
    "\n",
    "You should perform the cuts in order, you can change the order of the cuts as you wish.\n",
    "\n",
    "The cost of one cut is the length of the stick to be cut, the total cost is the sum of costs of all cuts. When you cut a stick, it will be split into two smaller sticks (i.e. the sum of their lengths is the length of the stick before the cut). Please refer to the first example for a better explanation.\n",
    "\n",
    "Return the minimum total cost of the cuts.\n",
    "\n",
    "__Example 1:__\n",
    "```            \n",
    "Input: n = 7, cuts = [1,3,4,5]\n",
    "Output: 16\n",
    "Explanation: Using cuts order = [1, 3, 4, 5] as in the input leads to the following scenario:\n",
    "\n",
    "The first cut is done to a rod of length 7 so the cost is 7. The second cut is done to a rod of length 6 (i.e. the second part of the first cut), the third is done to a rod of length 4 and the last cut is to a rod of length 3. The total cost is 7 + 6 + 4 + 3 = 20.\n",
    "Rearranging the cuts to be [3, 5, 1, 4] for example will lead to a scenario with total cost = 16 (as shown in the example photo 7 + 4 + 3 + 2 = 16).\n",
    "```\n",
    "__Example 2:__\n",
    "```\n",
    "Input: n = 9, cuts = [5,6,1,4,2]\n",
    "Output: 22\n",
    "Explanation: If you try the given cuts ordering the cost will be 25.\n",
    "There are much ordering with total cost <= 25, for example, the order [4, 6, 5, 2, 1] has total cost = 22 which is the minimum possible.\n",
    "```\n",
    "__Constraints:__\n",
    "* 2 <= n <= 10^6\n",
    "* 1 <= cuts.length <= min(n - 1, 100)\n",
    "* 1 <= cuts[i] <= n - 1\n",
    "* All the integers in cuts array are distinct."
   ]
  },
  {
   "cell_type": "code",
   "execution_count": null,
   "metadata": {},
   "outputs": [],
   "source": [
    "public class Solution {\n",
    "    private int[] cuts;\n",
    "    private Map<List<Integer>, Integer> cache = new HashMap<>();\n",
    "    public int solve(int n, int[] cuts) {\n",
    "        int ncuts = cuts.length + 2;\n",
    "        int[] newCuts = new int[cuts.length + 2];\n",
    "        newCuts[ncuts - 2] = 0;\n",
    "        newCuts[ncuts - 1] = n;\n",
    "        System.arraycopy(cuts, 0, newCuts, 0, cuts.length);\n",
    "        this.cuts = newCuts;\n",
    "        Arrays.sort(newCuts);\n",
    "        System.out.println(Arrays.toString(newCuts));\n",
    "        return dfs(0, ncuts - 1);\n",
    "    }\n",
    "    private int dfs(int start, int end) {\n",
    "        if (start + 1 == end) return 0;\n",
    "        List<Integer> cacheKey = List.of(start, end);\n",
    "        if (cache.containsKey(cacheKey)) return cache.get(cacheKey);\n",
    "        int cut = cuts[end] - cuts[start];\n",
    "        int result = Integer.MAX_VALUE;\n",
    "        for (int i = start + 1; i < end; ++i) {\n",
    "            result = Math.min(cut + dfs(start, i) + dfs(i, end), result);\n",
    "        }\n",
    "        cache.put(cacheKey, result);\n",
    "        return result;\n",
    "    }\n",
    "}"
   ]
  },
  {
   "cell_type": "code",
   "execution_count": null,
   "metadata": {},
   "outputs": [],
   "source": [
    "new Solution().solve(7, new int[] {1,3,4,5});"
   ]
  },
  {
   "cell_type": "code",
   "execution_count": null,
   "metadata": {},
   "outputs": [],
   "source": [
    "new Solution().solve(9, new int[] {5,6,1,4,2});"
   ]
  },
  {
   "cell_type": "code",
   "execution_count": null,
   "metadata": {},
   "outputs": [],
   "source": [
    "public class Solution {\n",
    "    private int[] cuts;\n",
    "    public int solve(int n, int[] cuts) {\n",
    "        this.cuts = cuts;\n",
    "        Arrays.sort(cuts);\n",
    "        return dfs(0, n);\n",
    "    }\n",
    "    private int dfs(int left, int right) {\n",
    "        int result = Integer.MAX_VALUE;\n",
    "        int start = bs(left);\n",
    "        for (int i = start; i < cuts.length; ++i) {\n",
    "            if (cuts[i] >= right) break;\n",
    "            result = Math.min(result, right - left \n",
    "                + dfs(left, cuts[i]) + dfs(cuts[i], right));\n",
    "        }\n",
    "        if (result == Integer.MAX_VALUE) return 0;\n",
    "        return result;\n",
    "    }\n",
    "    private int bs(int a) {\n",
    "        int left = 0, right = cuts.length - 1;\n",
    "        int result = 0;\n",
    "        while (left <= right) {\n",
    "            int m = left + (right - left / 2);\n",
    "            if (cuts[m] <= a) {\n",
    "                left = m + 1;\n",
    "                result = left;\n",
    "            } else {\n",
    "                right = m - 1;\n",
    "                result = right;\n",
    "            }\n",
    "        }\n",
    "        return left;\n",
    "    }\n",
    "}"
   ]
  },
  {
   "cell_type": "code",
   "execution_count": null,
   "metadata": {},
   "outputs": [],
   "source": [
    "new Solution().solve(7, new int[] {1,3,4,5});"
   ]
  },
  {
   "cell_type": "code",
   "execution_count": null,
   "metadata": {},
   "outputs": [],
   "source": [
    "new Solution().solve(9, new int[] {5,6,1,4,2});"
   ]
  },
  {
   "cell_type": "code",
   "execution_count": 10,
   "metadata": {},
   "outputs": [
    {
     "name": "stdout",
     "output_type": "stream",
     "text": [
      "0 5 - 2\n",
      "0 1\n",
      "0 1 - 0\n",
      "1 1\n",
      "1 1 - 1\n",
      "2 1\n"
     ]
    },
    {
     "data": {
      "text/plain": [
       "2"
      ]
     },
     "execution_count": 10,
     "metadata": {},
     "output_type": "execute_result"
    }
   ],
   "source": [
    "private int bs(int a, int[] cuts) {\n",
    "    int left = 0, right = cuts.length - 1;\n",
    "    int result = 0;\n",
    "    while (left <= right) {\n",
    "        int m = left + (right - left) / 2;\n",
    "        System.out.println(String.format(\"%d %d - %d\", left, right, m));\n",
    "        if (cuts[m] >= a) {\n",
    "            right = m - 1;\n",
    "        } else {\n",
    "            result = m;            \n",
    "            left = m + 1;\n",
    "        }\n",
    "        System.out.println(String.format(\"%d %d\", left, right));\n",
    "    }\n",
    "    return cuts[result];\n",
    "}\n",
    "bs(3, new int[] {1,2,3,3,4,5});"
   ]
  },
  {
   "cell_type": "code",
   "execution_count": null,
   "metadata": {},
   "outputs": [],
   "source": [
    "bs(10, new int[] {1,2,4,5});"
   ]
  }
 ],
 "metadata": {
  "kernelspec": {
   "display_name": "Java",
   "language": "java",
   "name": "java"
  },
  "language_info": {
   "codemirror_mode": "java",
   "file_extension": ".jshell",
   "mimetype": "text/x-java-source",
   "name": "Java",
   "pygments_lexer": "java",
   "version": "11.0.3+7"
  }
 },
 "nbformat": 4,
 "nbformat_minor": 2
}
