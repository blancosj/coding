{
 "cells": [
  {
   "cell_type": "markdown",
   "metadata": {},
   "source": [
    "### Permutations\n",
    "$P(n,k) = \\frac{n!}{(n-k)!}$"
   ]
  },
  {
   "cell_type": "code",
   "execution_count": 5,
   "metadata": {},
   "outputs": [],
   "source": [
    "// permutations\n",
    "public class Permutations {\n",
    "    private List<List<String>> result = new ArrayList<>();\n",
    "    private String[] items;\n",
    "    private int k;\n",
    "    public List<List<String>> calculate(int k, String[] items) {\n",
    "        this.k = k;\n",
    "        this.items = items;\n",
    "        helper(0, new LinkedList<>());\n",
    "        return result;\n",
    "    }\n",
    "    private void helper(int start, LinkedList<String> prefix) {\n",
    "        if (prefix.size() == k) {\n",
    "            result.add(new ArrayList<>(prefix));\n",
    "            return;\n",
    "        }\n",
    "        for (int i = start; i < items.length; ++i) {\n",
    "            prefix.add(items[i]);\n",
    "            helper(i + 1, prefix);\n",
    "            prefix.removeLast();\n",
    "        }\n",
    "    }\n",
    "}"
   ]
  },
  {
   "cell_type": "code",
   "execution_count": 10,
   "metadata": {},
   "outputs": [
    {
     "name": "stdout",
     "output_type": "stream",
     "text": [
      "4\n",
      "[[a, b, c], [a, b, d], [a, c, d], [b, c, d]]\n"
     ]
    }
   ],
   "source": [
    "List<List<String>> result = new Permutations().calculate(3, new String[] { \"a\", \"b\", \"c\", \"d\" });\n",
    "System.out.println(result.size());\n",
    "System.out.println(result);"
   ]
  },
  {
   "cell_type": "markdown",
   "metadata": {},
   "source": [
    "### Combinations with repetition \n",
    "$C(n,k) = n^k$"
   ]
  },
  {
   "cell_type": "code",
   "execution_count": 11,
   "metadata": {},
   "outputs": [],
   "source": [
    "public class Combinations {\n",
    "    private List<List<String>> result = new ArrayList<>();\n",
    "    private String[] items;\n",
    "    private int k;\n",
    "    public List<List<String>> calculate(int k, String[] items) {\n",
    "        this.k = k;\n",
    "        this.items = items;\n",
    "        helper(0, new LinkedList<>());\n",
    "        return result;\n",
    "    }\n",
    "    private void helper(int start, LinkedList<String> prefix) {\n",
    "        if (prefix.size() == k) {\n",
    "            result.add(new ArrayList<>(prefix));\n",
    "            return;\n",
    "        }\n",
    "        for (int i = start; i < items.length; ++i) {\n",
    "            prefix.add(items[i]);\n",
    "            helper(start, prefix);\n",
    "            prefix.removeLast();\n",
    "        }\n",
    "    }\n",
    "}"
   ]
  },
  {
   "cell_type": "code",
   "execution_count": 12,
   "metadata": {},
   "outputs": [
    {
     "name": "stdout",
     "output_type": "stream",
     "text": [
      "64\n",
      "[[ball, ball, ball], [ball, ball, lady], [ball, ball, lead], [ball, ball, wall], [ball, lady, ball], [ball, lady, lady], [ball, lady, lead], [ball, lady, wall], [ball, lead, ball], [ball, lead, lady], [ball, lead, lead], [ball, lead, wall], [ball, wall, ball], [ball, wall, lady], [ball, wall, lead], [ball, wall, wall], [lady, ball, ball], [lady, ball, lady], [lady, ball, lead], [lady, ball, wall], [lady, lady, ball], [lady, lady, lady], [lady, lady, lead], [lady, lady, wall], [lady, lead, ball], [lady, lead, lady], [lady, lead, lead], [lady, lead, wall], [lady, wall, ball], [lady, wall, lady], [lady, wall, lead], [lady, wall, wall], [lead, ball, ball], [lead, ball, lady], [lead, ball, lead], [lead, ball, wall], [lead, lady, ball], [lead, lady, lady], [lead, lady, lead], [lead, lady, wall], [lead, lead, ball], [lead, lead, lady], [lead, lead, lead], [lead, lead, wall], [lead, wall, ball], [lead, wall, lady], [lead, wall, lead], [lead, wall, wall], [wall, ball, ball], [wall, ball, lady], [wall, ball, lead], [wall, ball, wall], [wall, lady, ball], [wall, lady, lady], [wall, lady, lead], [wall, lady, wall], [wall, lead, ball], [wall, lead, lady], [wall, lead, lead], [wall, lead, wall], [wall, wall, ball], [wall, wall, lady], [wall, wall, lead], [wall, wall, wall]]\n"
     ]
    }
   ],
   "source": [
    "List<List<String>> result = new Combinations().calculate(3, new String[] { \"ball\", \"lady\", \"lead\", \"wall\" });\n",
    "System.out.println(result.size());\n",
    "System.out.println(result);"
   ]
  },
  {
   "cell_type": "markdown",
   "metadata": {},
   "source": [
    "### K Combinations for all K \n",
    "$\\sum_{0\\leq{k}\\leq{n}}\\binom nk = 2^n$"
   ]
  },
  {
   "cell_type": "code",
   "execution_count": 13,
   "metadata": {},
   "outputs": [],
   "source": [
    "public class KCombinations {\n",
    "    private String[] items;\n",
    "    private List<List<String>> result = new ArrayList<>();\n",
    "    public List<List<String>> calculate(String[] items) {\n",
    "        this.items = items;\n",
    "        helper(0, new LinkedList<>());\n",
    "        return result;\n",
    "    }\n",
    "    private void helper(int start, LinkedList<String> prefix) {\n",
    "        for (int i = start; i < items.length; ++i) {\n",
    "            prefix.add(items[i]);\n",
    "            result.add(new ArrayList<>(prefix));\n",
    "            helper(i + 1, prefix);\n",
    "            prefix.removeLast();\n",
    "        }\n",
    "    }\n",
    "}"
   ]
  },
  {
   "cell_type": "code",
   "execution_count": 15,
   "metadata": {},
   "outputs": [
    {
     "name": "stdout",
     "output_type": "stream",
     "text": [
      "7\n",
      "[[a], [a, b], [a, b, c], [a, c], [b], [b, c], [c]]\n"
     ]
    }
   ],
   "source": [
    "List<List<String>> result = new KCombinations().calculate(new String[] {\"a\", \"b\", \"c\"});\n",
    "System.out.println(result.size());\n",
    "System.out.println(result);"
   ]
  },
  {
   "cell_type": "code",
   "execution_count": null,
   "metadata": {},
   "outputs": [],
   "source": []
  },
  {
   "cell_type": "code",
   "execution_count": null,
   "metadata": {},
   "outputs": [],
   "source": []
  }
 ],
 "metadata": {
  "kernelspec": {
   "display_name": "Java",
   "language": "java",
   "name": "java"
  },
  "language_info": {
   "codemirror_mode": "java",
   "file_extension": ".jshell",
   "mimetype": "text/x-java-source",
   "name": "Java",
   "pygments_lexer": "java",
   "version": "11.0.3+7"
  }
 },
 "nbformat": 4,
 "nbformat_minor": 2
}
