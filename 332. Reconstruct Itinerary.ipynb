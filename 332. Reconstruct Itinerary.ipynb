{
 "cells": [
  {
   "cell_type": "markdown",
   "metadata": {},
   "source": [
    "Given a list of airline tickets represented by pairs of departure and arrival airports [from, to], reconstruct the itinerary in order. All of the tickets belong to a man who departs from JFK. Thus, __the itinerary must begin with JFK__.\n",
    "\n",
    "__Note:__\n",
    "\n",
    "If there are multiple valid itineraries, you should return the itinerary that has the smallest lexical order when read as a single string. For example, the itinerary [\"JFK\", \"LGA\"] has a smaller lexical order than [\"JFK\", \"LGB\"].\n",
    "\n",
    "All airports are represented by three capital letters (IATA code).\n",
    "\n",
    "You may assume all tickets form at least one valid itinerary.\n",
    "\n",
    "One must use all the tickets once and only once.\n",
    "\n",
    "__Example 1:__\n",
    "```\n",
    "Input: [[\"MUC\", \"LHR\"], [\"JFK\", \"MUC\"], [\"SFO\", \"SJC\"], [\"LHR\", \"SFO\"]]\n",
    "Output: [\"JFK\", \"MUC\", \"LHR\", \"SFO\", \"SJC\"]\n",
    "```\n",
    "__Example 2:__\n",
    "```\n",
    "Input: [[\"JFK\",\"SFO\"],[\"JFK\",\"ATL\"],[\"SFO\",\"ATL\"],[\"ATL\",\"JFK\"],[\"ATL\",\"SFO\"]]\n",
    "Output: [\"JFK\",\"ATL\",\"JFK\",\"SFO\",\"ATL\",\"SFO\"]\n",
    "Explanation: Another possible reconstruction is [\"JFK\",\"SFO\",\"ATL\",\"JFK\",\"ATL\",\"SFO\"]. But it is larger in lexical order.\n",
    "```"
   ]
  },
  {
   "cell_type": "code",
   "execution_count": 28,
   "metadata": {},
   "outputs": [],
   "source": [
    "public class Solution {\n",
    "    private Map<String, List<List<String>>> graph = new HashMap<>();\n",
    "    private Map<List<String>, Integer> visited = new HashMap<>();\n",
    "    public List<String> solve(List<List<String>> tickets) {\n",
    "        for (List<String> ticket : tickets) {\n",
    "            graph.computeIfAbsent(ticket.get(0), x -> new ArrayList<>())\n",
    "                .add(ticket);            \n",
    "            visited.put(ticket, visited.getOrDefault(ticket, 0) + 1);\n",
    "        }\n",
    "        for (String origin : graph.keySet()) {\n",
    "            Collections.sort(graph.get(origin), (x, y) -> \n",
    "                x.get(1).compareTo(y.get(1))\n",
    "            );\n",
    "        }\n",
    "        LinkedList<String> path = new LinkedList<>();\n",
    "        path.add(\"JFK\");\n",
    "        if (dfs(\"JFK\", path)) return path;\n",
    "        return new ArrayList<>();\n",
    "    }\n",
    "    private boolean dfs(String origin, LinkedList<String> path) {\n",
    "        if (visited.size() == 0) return true;\n",
    "        if (!graph.containsKey(origin)) return false;\n",
    "        for (List<String> ticket : graph.get(origin)) {\n",
    "            if (visited.getOrDefault(ticket, 0) > 0) {\n",
    "                visited.put(ticket, visited.get(ticket) - 1);\n",
    "                if (visited.get(ticket) == 0) visited.remove(ticket);\n",
    "                path.addLast(ticket.get(1));\n",
    "                if (dfs(ticket.get(1), path)) {\n",
    "                    return true;\n",
    "                }\n",
    "                visited.put(ticket, visited.getOrDefault(ticket, 0) + 1);\n",
    "                path.removeLast();\n",
    "            }\n",
    "        }\n",
    "        return false;\n",
    "    }\n",
    "}"
   ]
  },
  {
   "cell_type": "code",
   "execution_count": 29,
   "metadata": {},
   "outputs": [
    {
     "data": {
      "text/plain": [
       "[JFK, MUC, LHR, SFO, SJC]"
      ]
     },
     "execution_count": 29,
     "metadata": {},
     "output_type": "execute_result"
    }
   ],
   "source": [
    "List<List<String>> tickets = List.of(\n",
    "    List.of(\"MUC\", \"LHR\"), List.of(\"JFK\", \"MUC\"),\n",
    "    List.of(\"SFO\", \"SJC\"), List.of(\"LHR\", \"SFO\")\n",
    ");\n",
    "// output: [\"JFK\",\"MUC\",\"LHR\",\"SFO\",\"SJC\"]\n",
    "new Solution().solve(tickets);"
   ]
  },
  {
   "cell_type": "code",
   "execution_count": 30,
   "metadata": {},
   "outputs": [
    {
     "data": {
      "text/plain": [
       "[JFK, ATL, JFK, SFO, ATL, SFO]"
      ]
     },
     "execution_count": 30,
     "metadata": {},
     "output_type": "execute_result"
    }
   ],
   "source": [
    "List<List<String>> tickets = List.of(\n",
    "    List.of(\"JFK\",\"SFO\"), List.of(\"JFK\",\"ATL\"),\n",
    "    List.of(\"SFO\",\"ATL\"), List.of(\"ATL\",\"JFK\"),\n",
    "    List.of(\"ATL\",\"SFO\")\n",
    ");\n",
    "// output: [\"JFK\",\"ATL\",\"JFK\",\"SFO\",\"ATL\",\"SFO\"]\n",
    "new Solution().solve(tickets);"
   ]
  },
  {
   "cell_type": "code",
   "execution_count": 33,
   "metadata": {},
   "outputs": [
    {
     "data": {
      "text/plain": [
       "[JFK, ANU, EZE, AXA, TIA, ANU, JFK, TIA, ANU, TIA, JFK]"
      ]
     },
     "execution_count": 33,
     "metadata": {},
     "output_type": "execute_result"
    }
   ],
   "source": [
    "List<List<String>> tickets = List.of(\n",
    "    List.of(\"EZE\",\"AXA\"), List.of(\"TIA\",\"ANU\"), \n",
    "    List.of(\"ANU\",\"JFK\"), List.of(\"JFK\",\"ANU\"), \n",
    "    List.of(\"ANU\",\"EZE\"), List.of(\"TIA\",\"ANU\"), \n",
    "    List.of(\"AXA\",\"TIA\"), List.of(\"TIA\",\"JFK\"), \n",
    "    List.of(\"ANU\",\"TIA\"), List.of(\"JFK\",\"TIA\")   \n",
    ");\n",
    "// output: [\"JFK\",\"ANU\",\"EZE\",\"AXA\",\"TIA\",\"ANU\",\n",
    "// \"JFK\",\"TIA\",\"ANU\",\"TIA\",\"JFK\"]\n",
    "new Solution().solve(tickets);"
   ]
  },
  {
   "cell_type": "code",
   "execution_count": null,
   "metadata": {},
   "outputs": [],
   "source": []
  }
 ],
 "metadata": {
  "kernelspec": {
   "display_name": "Java",
   "language": "java",
   "name": "java"
  },
  "language_info": {
   "codemirror_mode": "java",
   "file_extension": ".jshell",
   "mimetype": "text/x-java-source",
   "name": "Java",
   "pygments_lexer": "java",
   "version": "11.0.3+7"
  }
 },
 "nbformat": 4,
 "nbformat_minor": 2
}
