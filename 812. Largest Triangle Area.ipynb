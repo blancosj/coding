{
 "cells": [
  {
   "cell_type": "markdown",
   "metadata": {},
   "source": [
    "### <a href='https://leetcode.com/problems/largest-triangle-area/'>812. Largest Triangle Area</a>\n",
    "\n",
    "You have a list of points in the plane. Return the area of the largest triangle that can be formed by any 3 of the points.\n",
    "\n",
    "__Example:__\n",
    "```\n",
    "Input: points = [[0,0],[0,1],[1,0],[0,2],[2,0]]\n",
    "Output: 2\n",
    "Explanation: \n",
    "The five points are show in the figure below. The red triangle is the largest.\n",
    "```\n",
    "__Notes:__\n",
    "* 3 <= points.length <= 50.\n",
    "* No points will be duplicated.\n",
    "* -50 <= points[i][j] <= 50.\n",
    "* Answers within 10^-6 of the true value will be accepted as correct."
   ]
  },
  {
   "cell_type": "code",
   "execution_count": 24,
   "metadata": {},
   "outputs": [],
   "source": [
    "public class Solution {\n",
    "    public double solve(int[][] points) {\n",
    "        int n = points.length;\n",
    "        double answer = 0.0d;\n",
    "        for (int k = 0; k < n; ++k) {\n",
    "            for (int j = k + 1; j < n; ++j) {\n",
    "                for (int i = j + 1; i < n; ++i) {\n",
    "                    answer = Math.max(area(points[k], points[j], points[i]), answer);\n",
    "                }\n",
    "            }\n",
    "        }\n",
    "        return answer;\n",
    "    }\n",
    "    private double area(int[] p, int[] q, int[] r) {\n",
    "        return 0.5 * Math.abs(p[0]*q[1] + q[0]*r[1] + r[0]*p[1]\n",
    "                            - p[1]*q[0] - q[1]*r[0] - r[1]*p[0]);\n",
    "    }     \n",
    "}"
   ]
  },
  {
   "cell_type": "code",
   "execution_count": 25,
   "metadata": {},
   "outputs": [
    {
     "data": {
      "text/plain": [
       "2.0"
      ]
     },
     "execution_count": 25,
     "metadata": {},
     "output_type": "execute_result"
    }
   ],
   "source": [
    "int[][] points = {{0,0},{0,1},{1,0},{0,2},{2,0}};\n",
    "new Solution().solve(points);"
   ]
  },
  {
   "cell_type": "code",
   "execution_count": null,
   "metadata": {},
   "outputs": [],
   "source": []
  },
  {
   "cell_type": "code",
   "execution_count": null,
   "metadata": {},
   "outputs": [],
   "source": []
  }
 ],
 "metadata": {
  "kernelspec": {
   "display_name": "Java",
   "language": "java",
   "name": "java"
  },
  "language_info": {
   "codemirror_mode": "java",
   "file_extension": ".jshell",
   "mimetype": "text/x-java-source",
   "name": "Java",
   "pygments_lexer": "java",
   "version": "11.0.3+7"
  }
 },
 "nbformat": 4,
 "nbformat_minor": 2
}
