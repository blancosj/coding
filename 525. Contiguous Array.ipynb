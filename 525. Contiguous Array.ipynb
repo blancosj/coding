{
 "cells": [
  {
   "cell_type": "markdown",
   "metadata": {},
   "source": [
    "Given a binary array, find the maximum length of a contiguous subarray with equal number of 0 and 1.\n",
    "\n",
    "Example 1:\n",
    "```\n",
    "Input: [0,1]\n",
    "Output: 2\n",
    "Explanation: [0, 1] is the longest contiguous subarray with equal number of 0 and 1.\n",
    "```\n",
    "Example 2:\n",
    "```\n",
    "Input: [0,1,0]\n",
    "Output: 2\n",
    "Explanation: [0, 1] (or [1, 0]) is a longest contiguous subarray with equal number of 0 and 1.\n",
    "```\n",
    "__Note__: The length of the given binary array will not exceed 50,000."
   ]
  },
  {
   "cell_type": "code",
   "execution_count": 5,
   "metadata": {},
   "outputs": [],
   "source": [
    "public class Solution {\n",
    "    public int findMaxLength(int[] nums) {\n",
    "        int n = nums.length;\n",
    "        int answer = 0;\n",
    "        Map<Integer, Integer> map = new HashMap<>();\n",
    "        // if count balance is zero, we calculate the length \n",
    "        // with it\n",
    "        map.put(0, -1);\n",
    "        // count balance zero = -1 one = 1\n",
    "        // if zero = same number of zeros and ones\n",
    "        // if balance happened before we record the distance\n",
    "        //  0  1  2  3  4  5\n",
    "        //  0  0  1  0  0  1\n",
    "        // -1 -2 -1 -2 -3 -2\n",
    "        //        x  x     x\n",
    "        int count = 0;\n",
    "        for (int i = 0; i < n; ++i) {\n",
    "            count += nums[i] == 0 ? -1 : 1;\n",
    "            if (map.containsKey(count)) {\n",
    "                answer = Math.max(answer, i - map.get(count));\n",
    "            } else {\n",
    "                map.put(count, i);\n",
    "            }\n",
    "        }\n",
    "        return answer;\n",
    "    }\n",
    "}"
   ]
  },
  {
   "cell_type": "code",
   "execution_count": 6,
   "metadata": {},
   "outputs": [
    {
     "data": {
      "text/plain": [
       "2"
      ]
     },
     "execution_count": 6,
     "metadata": {},
     "output_type": "execute_result"
    }
   ],
   "source": [
    "int[] nums1 = { 0, 1 };\n",
    "new Solution().findMaxLength(nums1);"
   ]
  },
  {
   "cell_type": "code",
   "execution_count": 8,
   "metadata": {},
   "outputs": [
    {
     "data": {
      "text/plain": [
       "2"
      ]
     },
     "execution_count": 8,
     "metadata": {},
     "output_type": "execute_result"
    }
   ],
   "source": [
    "int[] nums1 = { 0, 1, 0 };\n",
    "new Solution().findMaxLength(nums1);"
   ]
  },
  {
   "cell_type": "code",
   "execution_count": 9,
   "metadata": {},
   "outputs": [
    {
     "data": {
      "text/plain": [
       "4"
      ]
     },
     "execution_count": 9,
     "metadata": {},
     "output_type": "execute_result"
    }
   ],
   "source": [
    "int[] nums1 = { 0, 1, 0, 0, 1 };\n",
    "new Solution().findMaxLength(nums1);"
   ]
  }
 ],
 "metadata": {
  "kernelspec": {
   "display_name": "Java",
   "language": "java",
   "name": "java"
  },
  "language_info": {
   "codemirror_mode": "java",
   "file_extension": ".jshell",
   "mimetype": "text/x-java-source",
   "name": "Java",
   "pygments_lexer": "java",
   "version": "11.0.3+7"
  }
 },
 "nbformat": 4,
 "nbformat_minor": 2
}
