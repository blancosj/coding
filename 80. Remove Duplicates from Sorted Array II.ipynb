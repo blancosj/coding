{
 "cells": [
  {
   "cell_type": "markdown",
   "metadata": {},
   "source": [
    "## <a href='https://leetcode.com/problems/remove-duplicates-from-sorted-array-ii/'>80. Remove Duplicates from Sorted Array II</a>\n",
    "\n",
    "Given a sorted array nums, remove the duplicates in-place such that duplicates appeared at most twice and return the new length.\n",
    "\n",
    "Do not allocate extra space for another array; you must do this by modifying the input array in-place with O(1) extra memory.\n",
    "\n",
    "__Clarification:__\n",
    "\n",
    "Confused why the returned value is an integer, but your answer is an array?\n",
    "\n",
    "Note that the input array is passed in by reference, which means a modification to the input array will be known to the caller.\n",
    "\n",
    "Internally you can think of this:\n",
    "```\n",
    "// nums is passed in by reference. (i.e., without making a copy)\n",
    "int len = removeDuplicates(nums);\n",
    "\n",
    "// any modification to nums in your function would be known by the caller.\n",
    "// using the length returned by your function, it prints the first len elements.\n",
    "for (int i = 0; i < len; i++) {\n",
    "    print(nums[i]);\n",
    "}\n",
    "``` \n",
    "Example 1:\n",
    "```\n",
    "Input: nums = [1,1,1,2,2,3]\n",
    "Output: 5, nums = [1,1,2,2,3]\n",
    "Explanation: Your function should return length = 5, with the first five elements of nums being 1, 1, 2, 2 and 3 respectively. It doesn't matter what you leave beyond the returned length.\n",
    "```\n",
    "Example 2:\n",
    "```\n",
    "Input: nums = [0,0,1,1,1,1,2,3,3]\n",
    "Output: 7, nums = [0,0,1,1,2,3,3]\n",
    "Explanation: Your function should return length = 7, with the first seven elements of nums being modified to 0, 0, 1, 1, 2, 3 and 3 respectively. It doesn't matter what values are set beyond the returned length.\n",
    "``` \n",
    "Constraints:\n",
    "* 0 <= nums.length <= 3 * 104\n",
    "* -104 <= nums[i] <= 104\n",
    "* nums is sorted in ascending order.\n",
    "\n"
   ]
  },
  {
   "cell_type": "code",
   "execution_count": 2,
   "metadata": {},
   "outputs": [],
   "source": [
    "public class Solution {\n",
    "    public int removeDuplicates(int[] nums) {\n",
    "        int n = nums.length;\n",
    "        int left = 0, count = 1;\n",
    "        for (int i = 0; i < n; ++i) {\n",
    "            if (nums[i] == nums[left] && count == 2) continue;\n",
    "            if (nums[i] != nums[left]) count = 0;\n",
    "            nums[++left] = nums[i];\n",
    "            count++;\n",
    "        }\n",
    "        return left + 1;\n",
    "    }\n",
    "}"
   ]
  },
  {
   "cell_type": "code",
   "execution_count": 3,
   "metadata": {},
   "outputs": [
    {
     "data": {
      "text/plain": [
       "5"
      ]
     },
     "execution_count": 3,
     "metadata": {},
     "output_type": "execute_result"
    }
   ],
   "source": [
    "new Solution().removeDuplicates(new int[] {1,1,1,2,2,3});"
   ]
  },
  {
   "cell_type": "code",
   "execution_count": 4,
   "metadata": {},
   "outputs": [
    {
     "data": {
      "text/plain": [
       "7"
      ]
     },
     "execution_count": 4,
     "metadata": {},
     "output_type": "execute_result"
    }
   ],
   "source": [
    "new Solution().removeDuplicates(new int[] {0,0,1,1,1,1,2,3,3});"
   ]
  },
  {
   "cell_type": "code",
   "execution_count": 5,
   "metadata": {},
   "outputs": [
    {
     "data": {
      "text/plain": [
       "3"
      ]
     },
     "execution_count": 5,
     "metadata": {},
     "output_type": "execute_result"
    }
   ],
   "source": [
    "new Solution().removeDuplicates(new int[] {1,2,3});"
   ]
  },
  {
   "cell_type": "code",
   "execution_count": null,
   "metadata": {},
   "outputs": [],
   "source": []
  },
  {
   "cell_type": "code",
   "execution_count": null,
   "metadata": {},
   "outputs": [],
   "source": []
  },
  {
   "cell_type": "code",
   "execution_count": null,
   "metadata": {},
   "outputs": [],
   "source": []
  },
  {
   "cell_type": "code",
   "execution_count": null,
   "metadata": {},
   "outputs": [],
   "source": []
  }
 ],
 "metadata": {
  "kernelspec": {
   "display_name": "Java",
   "language": "java",
   "name": "java"
  },
  "language_info": {
   "codemirror_mode": "java",
   "file_extension": ".jshell",
   "mimetype": "text/x-java-source",
   "name": "Java",
   "pygments_lexer": "java",
   "version": "11.0.3+7"
  }
 },
 "nbformat": 4,
 "nbformat_minor": 2
}
