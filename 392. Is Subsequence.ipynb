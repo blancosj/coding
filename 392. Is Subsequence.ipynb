{
 "cells": [
  {
   "cell_type": "markdown",
   "metadata": {},
   "source": [
    "Given a string s and a string t, check if s is subsequence of t.\n",
    "\n",
    "A subsequence of a string is a new string which is formed from the original string by deleting some (can be none) of the characters without disturbing the relative positions of the remaining characters. (ie, \"ace\" is a subsequence of \"abcde\" while \"aec\" is not).\n",
    "\n",
    "Follow up:\n",
    "If there are lots of incoming S, say S1, S2, ... , Sk where k >= 1B, and you want to check one by one to see if T has its subsequence. In this scenario, how would you change your code?\n",
    "\n",
    "Credits:\n",
    "Special thanks to @pbrother for adding this problem and creating all test cases.\n",
    "```\n",
    "Example 1:\n",
    "\n",
    "Input: s = \"abc\", t = \"ahbgdc\"\n",
    "Output: true\n",
    "```\n",
    "Example 2:\n",
    "```\n",
    "Input: s = \"axc\", t = \"ahbgdc\"\n",
    "Output: false\n",
    "``` \n",
    "Constraints:\n",
    "\n",
    "* 0 <= s.length <= 100\n",
    "* 0 <= t.length <= 10^4\n",
    "* Both strings consists only of lowercase characters."
   ]
  },
  {
   "cell_type": "code",
   "execution_count": 20,
   "metadata": {},
   "outputs": [],
   "source": [
    "public class Solution {\n",
    "    public boolean isSubsequence(String s, String t) {\n",
    "        // recursion solution\n",
    "        return dfs(s, t, s.length(), t.length(), 0, 0);\n",
    "    }\n",
    "    private boolean dfs(String s, String t, int n, int m, int p, int q) {\n",
    "        if (p == n) return true;\n",
    "        if (q == m) return false;\n",
    "        if (s.charAt(p) == t.charAt(q)) {\n",
    "            return dfs(s, t, n, m, p + 1, q + 1);\n",
    "        }\n",
    "        return dfs(s, t, n, m, p, q + 1);\n",
    "    }\n",
    "}"
   ]
  },
  {
   "cell_type": "code",
   "execution_count": 21,
   "metadata": {},
   "outputs": [
    {
     "data": {
      "text/plain": [
       "true"
      ]
     },
     "execution_count": 21,
     "metadata": {},
     "output_type": "execute_result"
    }
   ],
   "source": [
    "new Solution().isSubsequence(\"abc\", \"ahbgdc\");"
   ]
  },
  {
   "cell_type": "code",
   "execution_count": 22,
   "metadata": {},
   "outputs": [
    {
     "data": {
      "text/plain": [
       "false"
      ]
     },
     "execution_count": 22,
     "metadata": {},
     "output_type": "execute_result"
    }
   ],
   "source": [
    "new Solution().isSubsequence(\"axc\", \"ahbgdc\");"
   ]
  },
  {
   "cell_type": "code",
   "execution_count": 35,
   "metadata": {},
   "outputs": [],
   "source": [
    "public class Solution {\n",
    "    public boolean isSubsequence(String s, String t) {\n",
    "        // based on edit distance algorithm\n",
    "        // x x a b c\n",
    "        // x 0 0 0 0 \n",
    "        // a 0 1 1 1 \n",
    "        // a 0 1 1 1\n",
    "        // b 0 1 2 2 \n",
    "        // c 0 1 2 3 == s.length => true\n",
    "        int n = s.length();\n",
    "        int m = t.length();    \n",
    "        int[][] dp = new int[n + 1][m + 1];\n",
    "        for (int p = 1; p <= n; ++p) {\n",
    "            for (int q = 1; q <= m; ++q) {\n",
    "                if (s.charAt(p - 1) == t.charAt(q - 1)) {\n",
    "                    dp[p][q] = dp[p - 1][q - 1] + 1;\n",
    "                } else {\n",
    "                    dp[p][q] = Math.max(dp[p][q - 1], dp[p - 1][q]);\n",
    "                } \n",
    "                \n",
    "                if (dp[p][q] == n) return true;\n",
    "            }\n",
    "        }\n",
    "        return false;\n",
    "    }\n",
    "}"
   ]
  },
  {
   "cell_type": "code",
   "execution_count": 36,
   "metadata": {},
   "outputs": [
    {
     "data": {
      "text/plain": [
       "true"
      ]
     },
     "execution_count": 36,
     "metadata": {},
     "output_type": "execute_result"
    }
   ],
   "source": [
    "new Solution().isSubsequence(\"abc\", \"aabc\");"
   ]
  },
  {
   "cell_type": "code",
   "execution_count": 37,
   "metadata": {},
   "outputs": [
    {
     "data": {
      "text/plain": [
       "false"
      ]
     },
     "execution_count": 37,
     "metadata": {},
     "output_type": "execute_result"
    }
   ],
   "source": [
    "new Solution().isSubsequence(\"axc\", \"ahbgdc\");"
   ]
  },
  {
   "cell_type": "code",
   "execution_count": null,
   "metadata": {},
   "outputs": [],
   "source": []
  }
 ],
 "metadata": {
  "kernelspec": {
   "display_name": "Java",
   "language": "java",
   "name": "java"
  },
  "language_info": {
   "codemirror_mode": "java",
   "file_extension": ".jshell",
   "mimetype": "text/x-java-source",
   "name": "Java",
   "pygments_lexer": "java",
   "version": "11.0.3+7"
  }
 },
 "nbformat": 4,
 "nbformat_minor": 2
}
