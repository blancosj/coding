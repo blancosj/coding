{
 "cells": [
  {
   "cell_type": "markdown",
   "metadata": {},
   "source": [
    "Given two binary strings, return their sum (also a binary string).\n",
    "\n",
    "The input strings are both non-empty and contains only characters 1 or 0.\n",
    "\n",
    "__Example 1:__\n",
    "```\n",
    "Input: a = \"11\", b = \"1\"\n",
    "Output: \"100\"\n",
    "```\n",
    "__Example 2:__\n",
    "```\n",
    "Input: a = \"1010\", b = \"1011\"\n",
    "Output: \"10101\"\n",
    "``` \n",
    "__Constraints:__\n",
    "\n",
    "* Each string consists only of '0' or '1' characters.\n",
    "* 1 <= a.length, b.length <= 10^4\n",
    "* Each string is either \"0\" or doesn't contain any leading zero."
   ]
  },
  {
   "cell_type": "code",
   "execution_count": 32,
   "metadata": {},
   "outputs": [],
   "source": [
    "public class Solution {\n",
    "    public String addBinary(String a, String b) {\n",
    "        int alen = a.length(), blen = b.length();\n",
    "        int carry = 0;\n",
    "        StringBuilder answer = new StringBuilder();\n",
    "        for (int i = 0; i < Math.max(alen, blen); ++i) {\n",
    "            int p = 0, q = 0;\n",
    "            if (alen - i - 1 >= 0) p = a.charAt(alen - i - 1) - '0';\n",
    "            if (blen - i - 1 >= 0) q = b.charAt(blen - i - 1) - '0';\n",
    "            int r = p ^ q; // 0\n",
    "            int c = p & q; // 1\n",
    "            if (carry == 0) {              \n",
    "                answer.append(r);\n",
    "                carry = c;\n",
    "            } else {\n",
    "                answer.append(r ^ carry);\n",
    "                carry = c | r & carry;\n",
    "            }\n",
    "        }\n",
    "        if (carry > 0) answer.append(carry);\n",
    "        return answer.reverse().toString();\n",
    "    }\n",
    "}"
   ]
  },
  {
   "cell_type": "code",
   "execution_count": 33,
   "metadata": {},
   "outputs": [
    {
     "data": {
      "text/plain": [
       "100"
      ]
     },
     "execution_count": 33,
     "metadata": {},
     "output_type": "execute_result"
    }
   ],
   "source": [
    "new Solution().addBinary(\"11\", \"1\");"
   ]
  },
  {
   "cell_type": "code",
   "execution_count": 34,
   "metadata": {},
   "outputs": [
    {
     "data": {
      "text/plain": [
       "10100"
      ]
     },
     "execution_count": 34,
     "metadata": {},
     "output_type": "execute_result"
    }
   ],
   "source": [
    "new Solution().addBinary(\"1010\", \"1010\");"
   ]
  },
  {
   "cell_type": "code",
   "execution_count": 53,
   "metadata": {},
   "outputs": [],
   "source": [
    "public class Solution {\n",
    "    public String addBinary(String a, String b) {\n",
    "        int n = a.length(), m = b.length();\n",
    "        int carry = 0;\n",
    "        StringBuilder answer = new StringBuilder();\n",
    "        for (int i = 0; i < Math.max(n, m); ++i) {\n",
    "            int p = 0, q = 0;\n",
    "            if (n - i - 1 >= 0) p = a.charAt(n - i - 1) - '0';\n",
    "            if (m - i - 1 >= 0) q = b.charAt(m - i - 1) - '0';\n",
    "            if (p > 0) carry++;\n",
    "            if (q > 0) carry++;\n",
    "            answer.append(carry % 2);\n",
    "            carry = carry / 2;\n",
    "        }\n",
    "        if (carry > 0) answer.append(carry);\n",
    "        return answer.reverse().toString();\n",
    "    }\n",
    "}"
   ]
  },
  {
   "cell_type": "code",
   "execution_count": 54,
   "metadata": {},
   "outputs": [
    {
     "data": {
      "text/plain": [
       "100"
      ]
     },
     "execution_count": 54,
     "metadata": {},
     "output_type": "execute_result"
    }
   ],
   "source": [
    "new Solution().addBinary(\"11\", \"1\");"
   ]
  },
  {
   "cell_type": "code",
   "execution_count": 55,
   "metadata": {},
   "outputs": [
    {
     "data": {
      "text/plain": [
       "10100"
      ]
     },
     "execution_count": 55,
     "metadata": {},
     "output_type": "execute_result"
    }
   ],
   "source": [
    "new Solution().addBinary(\"1010\", \"1010\");"
   ]
  },
  {
   "cell_type": "code",
   "execution_count": null,
   "metadata": {},
   "outputs": [],
   "source": []
  }
 ],
 "metadata": {
  "kernelspec": {
   "display_name": "Java",
   "language": "java",
   "name": "java"
  },
  "language_info": {
   "codemirror_mode": "java",
   "file_extension": ".jshell",
   "mimetype": "text/x-java-source",
   "name": "Java",
   "pygments_lexer": "java",
   "version": "11.0.3+7"
  }
 },
 "nbformat": 4,
 "nbformat_minor": 2
}
